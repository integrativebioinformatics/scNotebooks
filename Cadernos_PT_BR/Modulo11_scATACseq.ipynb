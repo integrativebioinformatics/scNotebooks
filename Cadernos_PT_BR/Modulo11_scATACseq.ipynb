{
 "cells": [
  {
   "cell_type": "markdown",
   "metadata": {
    "id": "ouGPkMgU67sF"
   },
   "source": [
    "# Ensaio de célula única para sequenciamento de cromatina acessível por transposase (Single cell Assay for Transposase-Accessible Chromatin sequencing - scATAC-seq)\n",
    "\n",
    "Para este trabalho, utilizaremos dados do artigo de Kumegawa et al. (2022) intitulado: \"O motif GRHL2 está associado à heterogeneidade intratumoral de elementos cis-regulatórios no câncer de mama luminal\". (GRHL2 motif is associated with intratumor heterogeneity of cis-regulatory elements in luminal breast cancer)\n",
    "\n",
    "Neste artigo, Kumegawa et al. analisam os perfis de acessibilidade à cromatina de mais de 10.000 células de 16 pacientes com câncer de mama, incluindo subtipos luminal, luminal-HER2, HER2+ e 3 triplo-negativos.\n",
    "Utilizando esse processo de perfilagem, eles classificaram as células em células cancerígenas e microambiente tumoral, permitindo destacar a heterogeneidade das vias relacionadas à doença. Além disso, eles identificaram o fator de transcrição GRHL2 que cooperou com FOXA1 para iniciar a resistência endócrina e que os elementos de ligação GRHL2 potencialmente regulam genes associados à resistência endócrina, metástase e mau prognóstico em pacientes que receberam terapia hormonal.\n",
    "\n",
    "As bibliotecas scATAC-seq foram preparadas com o kit SureCell ATAC-seq Library Preparation (BioRad) e o SureCell ddSEQ Index Kit (Bio-Rad). O alinhamento foi realizado com o ATAC-Seq Analysis Toolkit (Bio-Rad).\n",
    "\n",
    "Para este trabalho, exploraremos duas amostras de tumores de mama (TNBC e Luminal-HER2), especificamente células T. Para isso, recuperamos o fragmento de arquivo de uma amostra do [site GEO (Gene Expression Omnibus)](https://www.ncbi.nlm.nih.gov/geo/query/acc.cgi) usando o identificador fornecido pelo autor: GSE198639.\n",
    "\n",
    "Este curso é realizado com o ArchR. Para mais detalhes sobre o ArchR, consulte [aqui](https://www.archrproject.com/index.html).\n",
    "\n",
    "O ArchR fornece um conjunto abrangente de ferramentas de análise scATAC-seq, desde o pré-processamento dos dados até os resultados, oferecendo vários níveis de informação.\n",
    "Além disso, o ArchR é rápido e exige um uso razoável de recursos.\n",
    "\n",
    "Para essas análises, você precisa (se for fazer isso no seu computador):\n",
    "\n",
    "1. Instalar o python 3.6 ou superior:\n",
    "\n",
    "https://www.python.org/downloads/\n",
    "\n",
    "\n",
    "2. Instalar o conda (miniconda, anaconda ou mamba, é um gerenciador de pacotes para python que permite criar um ambiente python):\n",
    "\n",
    "https://conda.io/projects/conda/en/latest/user-guide/install/index.html\n",
    "\n",
    "\n",
    "3. Instalar o pacote macs2 (via terminal):\n",
    "\n",
    "`conda create -y -n MACS2 python=3.6`\n",
    "\n",
    "`conda activate MACS2`\n",
    "\n",
    "`conda install macs2 or conda install -c bioconda macs2`\n",
    "\n",
    "\n",
    "* Instalar o R.4.1.3 ou superior:\n",
    "\n",
    "https://cran.r-project.org/\n",
    "\n",
    "* Instalar estes pacotes R (via R ambiente):\n",
    "\n",
    "`install.packages(c(\"devtools\",\"BiocManager\",\"reticulate\",\"clustree\",\"Seurat\"))`\n",
    "\n",
    "`devtools::install_github(\"GreenleafLab/ArchR\", ref=\"master\", repos = BiocManager::repositories())`\n",
    "\n",
    "`ArchR::installExtraPackages()`\n",
    "\n",
    "`BiocManager::install(\"BSgenome.Hsapiens.UCSC.hg19\")` (ou outro genoma, se você tiver dados de outro organismo ou outra referência de genoma)\n",
    "\n",
    "`devtools::install_github(\"GreenleafLab/chromVARmotifs\")`\n",
    "\n",
    "`install.packages(\"hexbin\")`\n"
   ]
  },
  {
   "cell_type": "markdown",
   "metadata": {
    "id": "aSJNY1xyvGTa"
   },
   "source": [
    "# Baixe bibliotecas e conjuntos de dados pré-instalados"
   ]
  },
  {
   "cell_type": "code",
   "execution_count": null,
   "metadata": {
    "executionInfo": {
     "elapsed": 27804,
     "status": "ok",
     "timestamp": 1690400040014,
     "user": {
      "displayName": "Adolfo Alexis Rojas Hidalgo",
      "userId": "18158766317608392773"
     },
     "user_tz": 240
    },
    "id": "kYexU6WyjGYU",
    "vscode": {
     "languageId": "r"
    }
   },
   "outputs": [],
   "source": [
    "# Baixe o script de instalação do GitHub\n",
    "download.file(\"https://github.com/eddelbuettel/r2u/raw/master/inst/scripts/add_cranapt_jammy.sh\",\n",
    "              \"add_cranapt_jammy.sh\")\n",
    "\n",
    "# Altere as permissões do script para torná-lo executável\n",
    "Sys.chmod(\"add_cranapt_jammy.sh\", \"0755\")\n",
    "\n",
    "# Execute o script no terminal\n",
    "system(\"./add_cranapt_jammy.sh\")"
   ]
  },
  {
   "cell_type": "code",
   "execution_count": null,
   "metadata": {
    "executionInfo": {
     "elapsed": 39850,
     "status": "ok",
     "timestamp": 1690400079857,
     "user": {
      "displayName": "Adolfo Alexis Rojas Hidalgo",
      "userId": "18158766317608392773"
     },
     "user_tz": 240
    },
    "id": "MJvBdSTX7aru",
    "vscode": {
     "languageId": "r"
    }
   },
   "outputs": [],
   "source": [
    "#Instale pacotes e ferramentas necessárias para este pipeline\n",
    "system(\"apt install libfreetype6-dev libpng-dev libtiff5-dev libjpeg-dev libbz2-dev libgsl-dev gsl-bin -y\")\n",
    "system(\"apt install  libfontconfig1-dev libharfbuzz-dev libfribidi-dev libcairo2-dev libgmp-dev -y\")\n",
    "system(\"apt update\")\n",
    "system(\"apt install libmagick++-dev -y\")"
   ]
  },
  {
   "cell_type": "code",
   "execution_count": null,
   "metadata": {
    "colab": {
     "base_uri": "https://localhost:8080/"
    },
    "executionInfo": {
     "elapsed": 176959,
     "status": "ok",
     "timestamp": 1690400256813,
     "user": {
      "displayName": "Adolfo Alexis Rojas Hidalgo",
      "userId": "18158766317608392773"
     },
     "user_tz": 240
    },
    "id": "UhEdthWz7jBS",
    "outputId": "858524de-e58f-4b0e-dbf9-318ca38dcc45",
    "vscode": {
     "languageId": "r"
    }
   },
   "outputs": [],
   "source": [
    "# Defina uma função auxiliar para executar comandos shell e mostre sua saída\n",
    "shell_call <- function(command, ...) {\n",
    "  result <- system(command, intern = TRUE, ...)  # Execute o comando e capture a saída\n",
    "  cat(paste0(result, collapse = \"\\n\"))  # Mostre a saída no console\n",
    "}\n",
    "\n",
    "# Baixe o pacote MACS2 (versão 2.2.9.1) usando wget\n",
    "shell_call(\"wget https://github.com/macs3-project/MACS/archive/refs/tags/v2.2.9.1.tar.gz -O MACS.tar.gz\")\n",
    "\n",
    "# Extraia o arquivo tar.gz baixado\n",
    "system(\"tar -xvf MACS.tar.gz\")\n",
    "\n",
    "# Instale o MACS2 em modo editável usando pip\n",
    "shell_call(\"pip install -e MACS-2.2.9.1/\")"
   ]
  },
  {
   "cell_type": "code",
   "execution_count": null,
   "metadata": {
    "colab": {
     "base_uri": "https://localhost:8080/"
    },
    "executionInfo": {
     "elapsed": 619588,
     "status": "ok",
     "timestamp": 1690400924784,
     "user": {
      "displayName": "Adolfo Alexis Rojas Hidalgo",
      "userId": "18158766317608392773"
     },
     "user_tz": 240
    },
    "id": "mCtPqtZXuW90",
    "outputId": "80956da0-a93e-462e-b04d-ae5c9ab1de86",
    "vscode": {
     "languageId": "r"
    }
   },
   "outputs": [],
   "source": [
    "# Defina um limite de tempo limite longo para evitar falhas de download\n",
    "options(timeout = 1000)\n",
    "\n",
    "# Instale o BiocManager se ainda não estiver instalado\n",
    "if (!require(\"BiocManager\", quietly = TRUE))\n",
    "    install.packages(\"BiocManager\", quiet = TRUE)\n",
    "\n",
    "# Instale o ArchR do GitHub usando devtools\n",
    "devtools::install_github(\"GreenleafLab/ArchR\", ref = \"master\", repos = BiocManager::repositories(), upgrade = FALSE)\n",
    "\n",
    "# Instale dependências adicionais para o ArchR\n",
    "ArchR::installExtraPackages()\n",
    "\n",
    "# Instale outros pacotes R necessários\n",
    "install.packages(\"clustree\", quiet = TRUE)\n",
    "install.packages(\"hexbin\")\n",
    "\n",
    "# Instale uma versão específica do pacote Matrix dos arquivos CRAN\n",
    "install.packages(\"https://cran.r-project.org/src/contrib/Archive/Matrix/Matrix_1.5-3.tar.gz\", repos = NULL, type = \"source\")"
   ]
  },
  {
   "cell_type": "code",
   "execution_count": null,
   "metadata": {
    "executionInfo": {
     "elapsed": 249,
     "status": "ok",
     "timestamp": 1690400935123,
     "user": {
      "displayName": "Adolfo Alexis Rojas Hidalgo",
      "userId": "18158766317608392773"
     },
     "user_tz": 240
    },
    "id": "HXl6wS2N7XRT",
    "vscode": {
     "languageId": "r"
    }
   },
   "outputs": [],
   "source": [
    "# Função para executar comandos shell e mostrar a saída\n",
    "shell_call <- function(command, ...) {\n",
    "  result <- system(command, intern = TRUE, ...)  # Executa o comando e armazena a saída\n",
    "  cat(paste0(result, collapse = \"\\n\"))  # Mostra a saída\n",
    "}"
   ]
  },
  {
   "cell_type": "code",
   "execution_count": null,
   "metadata": {
    "colab": {
     "base_uri": "https://localhost:8080/"
    },
    "executionInfo": {
     "elapsed": 112091,
     "status": "ok",
     "timestamp": 1690401048065,
     "user": {
      "displayName": "Adolfo Alexis Rojas Hidalgo",
      "userId": "18158766317608392773"
     },
     "user_tz": 240
    },
    "id": "47nodC2O7nBW",
    "outputId": "acae7687-d428-404b-89b4-c19283b0ccef",
    "vscode": {
     "languageId": "r"
    }
   },
   "outputs": [],
   "source": [
    "# Defina um limite de tempo limite longo para evitar falhas de download\n",
    "options(timeout = 300)\n",
    "\n",
    "# Baixe o conjunto de dados do workshop scATAC-seq como um arquivo ZIP\n",
    "download.file('https://iauchile-my.sharepoint.com/:u:/g/personal/adolfo_rh_postqyf_uchile_cl/ETPOTjhE9llEkT85F6XQfyQBdN4r9R2Jf4hvY1BicfTWSw?e=tQbDjt&download=1', \n",
    "              'scATACseqWorkshop.zip')\n",
    "\n",
    "# Liste os arquivos baixados com informações detalhadas\n",
    "shell_call(\"ls -lh\")\n",
    "\n",
    "# Descompacte o arquivo baixado\n",
    "system(\"unzip scATACseqWorkshop.zip\")"
   ]
  },
  {
   "cell_type": "markdown",
   "metadata": {
    "id": "oM4pRLZCYGTI"
   },
   "source": [
    "# NOTA: Se você tiver erros, você pode fazer isso para reanalisar os dados"
   ]
  },
  {
   "cell_type": "code",
   "execution_count": null,
   "metadata": {
    "id": "RyyARJS2SxTy",
    "vscode": {
     "languageId": "r"
    }
   },
   "outputs": [],
   "source": [
    "# Defina o diretório de trabalho\n",
    "work_dir2 <- \"/content/\"\n",
    "setwd(work_dir2)\n",
    "\n",
    "# Remova qualquer diretório existente com o mesmo nome\n",
    "shell_call(\"rm -rf scATACseqWorkshop/\")\n",
    "\n",
    "# Descompacte o conjunto de dados novamente\n",
    "shell_call(\"unzip scATACseqWorkshop.zip\")"
   ]
  },
  {
   "cell_type": "markdown",
   "metadata": {
    "id": "gQzbJ-X867sV"
   },
   "source": [
    "## 1. Definir bibliotecas, parâmetros e diretórios\n",
    "Primeiramente, definimos a localização da biblioteca Python e carregamos as bibliotecas R.\n",
    "Em seguida, definimos alguns parâmetros, como: 1) o número de threads que usaremos, 2) o diretório de trabalho e 3) a localização dos arquivos de fragmento.\n",
    "\n",
    "De fato, o ArchR pode utilizar vários formatos de entrada de dados scATAC-seq (os arquivos de fragmento e os arquivos BAM são os dados scATAC-seq mais comuns)."
   ]
  },
  {
   "cell_type": "code",
   "execution_count": null,
   "metadata": {
    "colab": {
     "base_uri": "https://localhost:8080/"
    },
    "executionInfo": {
     "elapsed": 12801,
     "status": "ok",
     "timestamp": 1690401060863,
     "user": {
      "displayName": "Adolfo Alexis Rojas Hidalgo",
      "userId": "18158766317608392773"
     },
     "user_tz": 240
    },
    "id": "jFGBBC4B7lKb",
    "outputId": "91f4a8cd-f262-4c0a-cc48-8b9f08359a0e",
    "vscode": {
     "languageId": "r"
    }
   },
   "outputs": [],
   "source": [
    "# Suprimir mensagens de inicialização de pacotes para uma saída mais limpa\n",
    "# Carregar bibliotecas\n",
    "suppressPackageStartupMessages({\n",
    "  library(ArchR)\n",
    "  library(reticulate)\n",
    "  library(clustree)\n",
    "  library(Seurat)\n",
    "  library(hexbin)\n",
    "})"
   ]
  },
  {
   "cell_type": "code",
   "execution_count": null,
   "metadata": {
    "colab": {
     "base_uri": "https://localhost:8080/",
     "height": 243
    },
    "executionInfo": {
     "elapsed": 949,
     "status": "ok",
     "timestamp": 1690401061803,
     "user": {
      "displayName": "Adolfo Alexis Rojas Hidalgo",
      "userId": "18158766317608392773"
     },
     "user_tz": 240
    },
    "id": "jQxv9Tp4khe9",
    "outputId": "1b0fd0df-05ad-443f-dcd4-d31786a7dd01",
    "vscode": {
     "languageId": "r"
    }
   },
   "outputs": [],
   "source": [
    "# Defina o caminho do ambiente Python para o Reticulate\n",
    "Sys.setenv(RETICULATE_PYTHON = \"/usr/local/bin/python\")\n",
    "\n",
    "# Verifique a configuração do Python\n",
    "py_config()\n",
    "\n",
    "# Teste se o MACS2 está instalado e acessível\n",
    "findMacs2()"
   ]
  },
  {
   "cell_type": "code",
   "execution_count": null,
   "metadata": {
    "colab": {
     "base_uri": "https://localhost:8080/"
    },
    "executionInfo": {
     "elapsed": 34572,
     "status": "ok",
     "timestamp": 1690401096373,
     "user": {
      "displayName": "Adolfo Alexis Rojas Hidalgo",
      "userId": "18158766317608392773"
     },
     "user_tz": 240
    },
    "id": "jeT0jkZa67sX",
    "outputId": "dd08c028-21e2-4400-ef8e-30ef350b9455",
    "vscode": {
     "languageId": "r"
    }
   },
   "outputs": [],
   "source": [
    "# Defina uma seed aleatória para reprodutibilidade\n",
    "set.seed(1)\n",
    "\n",
    "# Defina o número de threads a serem usadas\n",
    "nb.threads = 2\n",
    "addArchRThreads(threads = nb.threads)\n",
    "\n",
    "# Defina o diretório de trabalho\n",
    "work_dir <- \"/content/scATACseqWorkshop\"\n",
    "setwd(work_dir)\n",
    "\n",
    "# Liste e nomeie os arquivos de fragmentos de entrada\n",
    "inputFiles <- list.files(file.path(work_dir, \"fragments_data\"), full.names = TRUE)\n",
    "names(inputFiles) <- gsub(\"^.+/\", \"\", gsub(\"GSM[0-9]+_\", \"\", gsub(\".fragments.tsv.gz\", \"\", inputFiles)))\n",
    "\n",
    "# Especifique o genoma de referência para ArchR\n",
    "addArchRGenome(\"hg19\")"
   ]
  },
  {
   "cell_type": "markdown",
   "metadata": {
    "id": "O76Mt6YJ67sY"
   },
   "source": [
    "## 2. Criar arquivo Arrow\n",
    "Criamos um arquivo Arrow no formato HDF5 que armazena todos os dados associados a uma amostra (agora e durante todo o processo de análise). Ele será atualizado com as camadas adicionais de informações.\n",
    "\n",
    "Se analisarmos algumas amostras, um arquivo Arrow será gerado para cada amostra.\n",
    "\n",
    "Não é um objeto da linguagem R e, por isso, geraremos um objeto ArchRProject para associar o(s) arquivo(s) Arrow em uma única estrutura analítica que será rapidamente acessível em R.\n",
    "\n",
    "Durante esta etapa, o ArchR calcula uma TileMatrix contendo contagens de inserção em intervalos de 500 pb em todo o genoma (valor padrão) e uma GeneScoreMatrix que armazena a expressão gênica prevista com base na ponderação das contagens de inserção em blocos próximos a um promotor gênico."
   ]
  },
  {
   "cell_type": "code",
   "execution_count": null,
   "metadata": {
    "colab": {
     "base_uri": "https://localhost:8080/"
    },
    "executionInfo": {
     "elapsed": 11578,
     "status": "ok",
     "timestamp": 1690401107949,
     "user": {
      "displayName": "Adolfo Alexis Rojas Hidalgo",
      "userId": "18158766317608392773"
     },
     "user_tz": 240
    },
    "id": "SIv_0pLz67sZ",
    "outputId": "19c1b263-f608-4741-d16f-7ccc95cb7ddc",
    "vscode": {
     "languageId": "r"
    }
   },
   "outputs": [],
   "source": [
    "ArrowFiles <- createArrowFiles(\n",
    "  inputFiles = inputFiles,   # Arquivos de entrada contendo dados scATAC-seq\n",
    "  sampleNames = names(inputFiles),  # Atribui nomes de amostra com base nos nomes dos arquivos de entrada\n",
    "  minTSS = 0.1,   # Pontuação mínima de enriquecimento TSS para filtrar células de baixa qualidade\n",
    "  minFrags = 1,   # Número mínimo de fragmentos únicos por célula\n",
    "  addTileMat = TRUE,  # Calcula e armazena a matriz de blocos para análise de acessibilidade\n",
    "  addGeneScoreMat = TRUE  # Calcula e armazena a matriz de pontuação genética para análise de atividade genética\n",
    ")\n",
    "\n",
    "# Cria um projeto ArchR usando os arquivos Arrow\n",
    "project <- ArchRProject(\n",
    "  ArrowFiles = ArrowFiles,  # Utiliza os arquivos Arrow gerados\n",
    "  outputDirectory = \"Analysis_scATACseq_noFilter\",  # Define o diretório de saída para o projeto\n",
    "  copyArrows = TRUE  # Recomenda-se manter uma cópia inalterada dos arquivos Arrow para uso futuro\n",
    ")"
   ]
  },
  {
   "cell_type": "markdown",
   "metadata": {
    "id": "l59ZF4zi67sa"
   },
   "source": [
    "![<i><font size=1 color=\"grey\">Grandi et al., 2022</font></i>](./Figures/atac_seq_fragment_Grandi2022.png){width=70% height=50%}\n",
    "\n",
    "O controle de qualidade (Quality Control - QC) rigoroso dos dados do scATAC-seq é essencial para remover a contribuição de células de baixa qualidade.\n",
    "\n",
    "O ArchR considera três características dos dados:\n",
    "\n",
    "1. A distribuição do tamanho dos fragmentos (fragmentos de DNA cortados pelas transposases Tn5). Devido à periodicidade nucleossômica, esperamos observar a depleção de fragmentos que têm o comprimento do DNA enrolado em um nucleossomo (aproximadamente 147 pb).\n",
    "\n",
    "2. O enriquecimento do Sítio de Início da Transcrição (SIT) (relação sinal-ruído). A baixa relação sinal-ruído é frequentemente atribuída a células mortas ou em processo de morte que possuem DNA descromatizado, o que permite a transposição aleatória em todo o genoma.\n",
    "\n",
    "3. O número de fragmentos nucleares únicos (ou seja, não mapeados para o DNA mitocondrial).\n",
    "\n",
    "Podemos avaliar o QC e as principais métricas das amostras usando alguns gráficos:\n",
    "Métricas do QC do gráfico:\n"
   ]
  },
  {
   "cell_type": "code",
   "execution_count": null,
   "metadata": {
    "colab": {
     "base_uri": "https://localhost:8080/",
     "height": 0
    },
    "executionInfo": {
     "elapsed": 3837,
     "status": "ok",
     "timestamp": 1690401111778,
     "user": {
      "displayName": "Adolfo Alexis Rojas Hidalgo",
      "userId": "18158766317608392773"
     },
     "user_tz": 240
    },
    "id": "v8wvhXLe67sb",
    "outputId": "3d646ba1-2abe-4569-d954-3557427868e4",
    "vscode": {
     "languageId": "r"
    }
   },
   "outputs": [],
   "source": [
    "# Extrair dados de enriquecimento de TSS e contagem de fragmentos do projeto ArchR\n",
    "df <- getCellColData(project, select = c(\"log10(nFrags)\", \"TSSEnrichment\"))\n",
    "\n",
    "# Criar um gráfico de dispersão de Enriquecimento de TSS vs. Log10(Fragmentos Únicos)\n",
    "plot.tss.frags <- ggPoint(\n",
    "  x = df[,1], y = df[,2],  # Definir o eixo x como log10(Fragmentos Únicos) e o eixo y como Enriquecimento de TSS\n",
    "  colorDensity = TRUE,  # Colorir pontos com base na densidade\n",
    "  continuousSet = \"sambaNight\",  # Definir tema de cores\n",
    "  xlabel = \"Log10 Unique Fragments\", ylabel = \"TSS Enrichment\",  # Legenda dos eixos\n",
    "  xlim = c(0, quantile(df[,1], probs = 1) + 0.1),  # Definir limites do eixo x\n",
    "  ylim = c(0, quantile(df[,2], probs = 1) + 0.1)   # Definir limites do eixo y\n",
    ")\n",
    "\n",
    "# Salva o gráfico como PDF no diretório \"Plots\" do projeto\n",
    "plotPDF(plot.tss.frags, name = \"TSS-vs-Frags.pdf\", ArchRProj = project, addDOC = FALSE)\n",
    "\n",
    "# Exibe o gráfico\n",
    "plot.tss.frags"
   ]
  },
  {
   "cell_type": "markdown",
   "metadata": {
    "id": "S0Q0opz867sd"
   },
   "source": [
    "Métricas do TSS do gráfico:"
   ]
  },
  {
   "cell_type": "code",
   "execution_count": null,
   "metadata": {
    "colab": {
     "base_uri": "https://localhost:8080/",
     "height": 0
    },
    "executionInfo": {
     "elapsed": 1576,
     "status": "ok",
     "timestamp": 1690401113345,
     "user": {
      "displayName": "Adolfo Alexis Rojas Hidalgo",
      "userId": "18158766317608392773"
     },
     "user_tz": 240
    },
    "id": "ZpLNa41l67se",
    "outputId": "e7a7c808-0beb-491a-82ef-08211ddf8826",
    "vscode": {
     "languageId": "r"
    }
   },
   "outputs": [],
   "source": [
    "# Crie um gráfico de cristas mostrando a distribuição de enriquecimento de TSS entre as amostras\n",
    "plot.tss.v1 <- plotGroups(\n",
    "  ArchRProj = project,\n",
    "  groupBy = \"Sample\",  # Agrupar por amostra\n",
    "  colorBy = \"cellColData\",  # Cor com base nos metadados da célula\n",
    "  name = \"TSSEnrichment\",  # Use o Enriquecimento de TSS como recurso para plotar\n",
    "  plotAs = \"ridges\"  # Plotar como gráfico de ridge\n",
    ")\n",
    "\n",
    "# Crie um gráfico de violino com um gráfico de caixa sobreposto\n",
    "plot.tss.v2 <- plotGroups(\n",
    "  ArchRProj = project,\n",
    "  groupBy = \"Sample\",\n",
    "  colorBy = \"cellColData\",\n",
    "  name = \"TSSEnrichment\",\n",
    "  plotAs = \"violin\", # Plotar como um gráfico de violino\n",
    "  alpha = 0.4, # Defina o nível de transparência\n",
    "  addBoxPlot = TRUE  # Sobreponha um gráfico de caixa sobre o gráfico de violino\n",
    ")\n",
    "\n",
    "# Exiba os dois gráficos lado a lado\n",
    "plot.tss.v1 | plot.tss.v2"
   ]
  },
  {
   "cell_type": "markdown",
   "metadata": {
    "id": "rD1Jvc_X67sf"
   },
   "source": [
    "Gráfico de métricas de fragmentos:"
   ]
  },
  {
   "cell_type": "code",
   "execution_count": null,
   "metadata": {
    "colab": {
     "base_uri": "https://localhost:8080/",
     "height": 0
    },
    "executionInfo": {
     "elapsed": 1121,
     "status": "ok",
     "timestamp": 1690401114464,
     "user": {
      "displayName": "Adolfo Alexis Rojas Hidalgo",
      "userId": "18158766317608392773"
     },
     "user_tz": 240
    },
    "id": "VFYIo2g167sg",
    "outputId": "f76fddc2-4dce-4b88-ccca-5cbb94dab2ac",
    "vscode": {
     "languageId": "r"
    }
   },
   "outputs": [],
   "source": [
    "# Crie um gráfico de ridge mostrando a distribuição log10(Fragmentos Únicos) entre as amostras\n",
    "plot.frags.v1 <- plotGroups(\n",
    "  ArchRProj = project,\n",
    "  groupBy = \"Sample\",\n",
    "  colorBy = \"cellColData\",\n",
    "  name = \"log10(nFrags)\",\n",
    "  plotAs = \"ridges\"\n",
    ")\n",
    "\n",
    "# Crie um gráfico de violino com um gráfico de caixa sobreposto\n",
    "plot.frags.v2 <- plotGroups(\n",
    "  ArchRProj = project,\n",
    "  groupBy = \"Sample\",\n",
    "  colorBy = \"cellColData\",\n",
    "  name = \"log10(nFrags)\",\n",
    "  plotAs = \"violin\",\n",
    "  alpha = 0.4,\n",
    "  addBoxPlot = TRUE\n",
    ")\n",
    "\n",
    "# Exiba os dois gráficos lado a lado\n",
    "plot.frags.v1 | plot.frags.v2"
   ]
  },
  {
   "cell_type": "code",
   "execution_count": null,
   "metadata": {
    "colab": {
     "base_uri": "https://localhost:8080/"
    },
    "executionInfo": {
     "elapsed": 637,
     "status": "ok",
     "timestamp": 1690401115099,
     "user": {
      "displayName": "Adolfo Alexis Rojas Hidalgo",
      "userId": "18158766317608392773"
     },
     "user_tz": 240
    },
    "id": "vVWmr6HV67sh",
    "outputId": "e948daf8-1c26-4b28-931e-3239d7d7638f",
    "vscode": {
     "languageId": "r"
    }
   },
   "outputs": [],
   "source": [
    "# Criar Arquivos Arrow com Filtros de Qualidade\n",
    "ArrowFiles <- createArrowFiles(\n",
    "  inputFiles = inputFiles, # Lista de arquivos de fragmentos para cada amostra\n",
    "  sampleNames = names(inputFiles),  # Atribuir nomes de amostra com base nos nomes de arquivo\n",
    "  minTSS = 4,  # Pontuação mínima de enriquecimento do TSS para reter uma célula\n",
    "  minFrags = 1000,  # Número mínimo de fragmentos únicos por célula\n",
    "  addTileMat = TRUE,  # Criar uma matriz de blocos para a chamada de picos e outras análises\n",
    "  addGeneScoreMat = TRUE  # Calcular as pontuações de atividade gênica\n",
    ")"
   ]
  },
  {
   "cell_type": "markdown",
   "metadata": {
    "id": "YUGMvNhS67si"
   },
   "source": [
    "## 3. Detecção de Doublets\n",
    "Uma fonte de problemas em dados de células individuais é a contribuição de \"Doublets\" para a análise (um doublet refere-se a uma única gota que recebeu mais de um núcleo).\n",
    "Para prever quais \"células\" são realmente doublets, o ArchR sintetiza doublets in silico a partir dos dados, misturando as leituras de milhares de combinações de células individuais.\n",
    "Ele projeta esses doublets sintéticos na incorporação UMAP e identifica seu vizinho mais próximo. Ao iterar esse procedimento milhares de vezes, ele pode identificar \"células\" nos dados cujo sinal se parece muito com doublets sintéticos.\n",
    "Aqui, identificamos os doublets."
   ]
  },
  {
   "cell_type": "code",
   "execution_count": null,
   "metadata": {
    "colab": {
     "base_uri": "https://localhost:8080/"
    },
    "executionInfo": {
     "elapsed": 296473,
     "status": "ok",
     "timestamp": 1690401411571,
     "user": {
      "displayName": "Adolfo Alexis Rojas Hidalgo",
      "userId": "18158766317608392773"
     },
     "user_tz": 240
    },
    "id": "XJuBiPPi67sj",
    "outputId": "09226f1c-1694-46c8-ee0c-430940aeab3f",
    "vscode": {
     "languageId": "r"
    }
   },
   "outputs": [],
   "source": [
    "# Calcular as pontuações de Doublets\n",
    "doubletScores <- addDoubletScores(\n",
    "  input = ArrowFiles,  # Usar os arquivos Arrow criados na etapa anterior\n",
    "  k = 10,  # Número de vizinhos mais próximos a serem considerados para a detecção de doublet\n",
    "  knnMethod = \"UMAP\",  # Usar a incorporação UMAP para a busca do vizinho mais próximo\n",
    "  LSIMethod = 1  # Usar o método Indexação Semântica Latente (Latent Semantic Indexing - LSI) para estimativa de doublets\n",
    ")"
   ]
  },
  {
   "cell_type": "markdown",
   "metadata": {
    "id": "czlwG2Kj67sj"
   },
   "source": [
    "## 4. Criação do projeto ArchR\n",
    "Como explicado anteriormente, geramos um projeto ArchR para manipular facilmente o scATAC-seq gerado pelo ArchR."
   ]
  },
  {
   "cell_type": "code",
   "execution_count": null,
   "metadata": {
    "colab": {
     "base_uri": "https://localhost:8080/"
    },
    "executionInfo": {
     "elapsed": 9193,
     "status": "ok",
     "timestamp": 1690401420760,
     "user": {
      "displayName": "Adolfo Alexis Rojas Hidalgo",
      "userId": "18158766317608392773"
     },
     "user_tz": 240
    },
    "id": "XTbyNntf67sk",
    "outputId": "1265f822-8781-4734-a27a-78a8dd261fe0",
    "vscode": {
     "languageId": "r"
    }
   },
   "outputs": [],
   "source": [
    "# Criar um Projeto ArchR\n",
    "project <- ArchRProject(\n",
    "  ArrowFiles = ArrowFiles,  # Usar os arquivos Arrow criados anteriormente\n",
    "  outputDirectory = \"Analysis_scATACseq\", # Definir o diretório de saída para o projeto\n",
    "  copyArrows = TRUE  # Manter uma cópia dos arquivos Arrow para referência futura\n",
    ")"
   ]
  },
  {
   "cell_type": "markdown",
   "metadata": {
    "id": "iJDwUVtg67sl"
   },
   "source": [
    "Podemos listar facilmente os itens da matriz presentes no projeto"
   ]
  },
  {
   "cell_type": "code",
   "execution_count": null,
   "metadata": {
    "colab": {
     "base_uri": "https://localhost:8080/",
     "height": 34
    },
    "executionInfo": {
     "elapsed": 266,
     "status": "ok",
     "timestamp": 1690401421025,
     "user": {
      "displayName": "Adolfo Alexis Rojas Hidalgo",
      "userId": "18158766317608392773"
     },
     "user_tz": 240
    },
    "id": "YnTmq-UZ67sl",
    "outputId": "369128bd-af1a-4ab2-ffb2-7cec1e8605cc",
    "vscode": {
     "languageId": "r"
    }
   },
   "outputs": [],
   "source": [
    "# Listar matrizes disponíveis no projeto\n",
    "getAvailableMatrices(project)  # Verificar quais matrizes (por exemplo, Gene Score Matrix) estão disponíveis"
   ]
  },
  {
   "cell_type": "markdown",
   "metadata": {
    "id": "vDcEN2uI67so"
   },
   "source": [
    "O QC rigoroso dos dados scATAC-seq é essencial para remover a contribuição de células de baixa qualidade.\n",
    "\n",
    "O ArchR considera três características dos dados:\n",
    "\n",
    "1. A distribuição do tamanho dos fragmentos. \n",
    "Devido à periodicidade nucleossômica, esperamos observar a depleção de fragmentos com o comprimento do DNA enrolado em um nucleossomo (aproximadamente 147 pb).\n",
    "\n",
    "2. O enriquecimento do TSS (relação sinal-ruído). \n",
    "A baixa relação sinal-ruído é frequentemente atribuída a células mortas ou moribundas que possuem DNA descromatizado, o que permite a transposição aleatória em todo o genoma.\n",
    "\n",
    "3. O número de fragmentos nucleares únicos (ou seja, não mapeados para o DNA mitocondrial).\n",
    "Podemos avaliar o QC e as principais métricas das amostras usando alguns gráficos.\n",
    "\n",
    "Métricas de QC do gráfico:"
   ]
  },
  {
   "cell_type": "code",
   "execution_count": null,
   "metadata": {
    "colab": {
     "base_uri": "https://localhost:8080/",
     "height": 472
    },
    "executionInfo": {
     "elapsed": 4003,
     "status": "ok",
     "timestamp": 1690401425025,
     "user": {
      "displayName": "Adolfo Alexis Rojas Hidalgo",
      "userId": "18158766317608392773"
     },
     "user_tz": 240
    },
    "id": "qWubUqB_67so",
    "outputId": "37e2e135-16e8-4a51-c8aa-87536738ad92",
    "vscode": {
     "languageId": "r"
    }
   },
   "outputs": [],
   "source": [
    "# Plot do Enriquecimento de TSS vs. Contagens de Fragmentos\n",
    "df <- getCellColData(project, select = c(\"log10(nFrags)\", \"TSSEnrichment\")) # Extrair metadados\n",
    "\n",
    "plot.tss.frags <- ggPoint(\n",
    "  x = df[,1], # Log10 do número de fragmentos únicos\n",
    "  y = df[,2], # Pontuação de Enriquecimento de TSS\n",
    "  colorDensity = TRUE, # Colorir por densidade\n",
    "  continuousSet = \"sambaNight\", # Definir esquema de cores\n",
    "  xlabel = \"Log10 Unique Fragments\", # Legenda para o eixo X\n",
    "  ylabel = \"TSS Enrichment\",  # Legenda para o eixo Y\n",
    "  xlim = c(log10(450), quantile(df[,1], probs = 1) + 0.1),  # Definir limites do eixo X\n",
    "  ylim = c(0, quantile(df[,2], probs = 1) + 0.1)  # Definir limites do eixo Y\n",
    ") +\n",
    "  geom_hline(yintercept = 4, lty = \"dashed\", col = \"black\") +  # Adicionar linha horizontal em TSS = 4\n",
    "  geom_vline(xintercept = log10(1000), lty = \"dashed\", col = \"black\")  # Adicionar linha vertical em 1000 fragmentos\n",
    "\n",
    "# Salva o gráfico como PDF dentro do diretório do projeto\n",
    "plotPDF(plot.tss.frags, name = \"TSS-vs-Frags.pdf\", ArchRProj = project, addDOC = FALSE)\n",
    "\n",
    "# Exiba o gráfico\n",
    "plot.tss.frags"
   ]
  },
  {
   "cell_type": "markdown",
   "metadata": {
    "id": "9F_qgLWn67sp"
   },
   "source": [
    "\n",
    "Plot métricas do TSS:\n"
   ]
  },
  {
   "cell_type": "code",
   "execution_count": null,
   "metadata": {
    "colab": {
     "base_uri": "https://localhost:8080/",
     "height": 576
    },
    "executionInfo": {
     "elapsed": 858,
     "status": "ok",
     "timestamp": 1690401425874,
     "user": {
      "displayName": "Adolfo Alexis Rojas Hidalgo",
      "userId": "18158766317608392773"
     },
     "user_tz": 240
    },
    "id": "s4m56qeQ67sq",
    "outputId": "27fff413-3e2c-433b-dced-e0d251aefbe7",
    "vscode": {
     "languageId": "r"
    }
   },
   "outputs": [],
   "source": [
    "# Plot das Distribuições de Enriquecimento de TSS\n",
    "\n",
    "# Gráfico de ridge do enriquecimento de TSS por amostra\n",
    "plot.tss.v1 <- plotGroups(\n",
    "  ArchRProj = project, \n",
    "  groupBy = \"Sample\",  # Agrupar por amostra\n",
    "  colorBy = \"cellColData\",  # Usar metadados da célula para cor\n",
    "  name = \"TSSEnrichment\",  # Plot das pontuações de enriquecimento de TSS\n",
    "  plotAs = \"ridges\"  # Use um ridge plot\n",
    ")\n",
    "\n",
    "# Gráfico de violino do enriquecimento de TSS por amostra com um boxplot sobreposto\n",
    "plot.tss.v2 <- plotGroups(\n",
    "  ArchRProj = project, \n",
    "  groupBy = \"Sample\",  # Agrupar por amostra\n",
    "  colorBy = \"cellColData\",  # Usar metadados da célula para cor\n",
    "  name = \"TSSEnrichment\",  # Plot das pontuações de enriquecimento de TSS\n",
    "  plotAs = \"violin\",  # Use um gráfico de violino\n",
    "  alpha = 0.4,  # Definir transparência\n",
    "  addBoxPlot = TRUE  # Adicionar um boxplot sobreposição\n",
    ")\n",
    "\n",
    "# Exibe os gráficos lado a lado\n",
    "plot.tss.v1 | plot.tss.v2"
   ]
  },
  {
   "cell_type": "markdown",
   "metadata": {
    "id": "kv9j4Qob67sq"
   },
   "source": [
    "\n",
    "Plot métricas de fragmento:\n"
   ]
  },
  {
   "cell_type": "code",
   "execution_count": null,
   "metadata": {
    "colab": {
     "base_uri": "https://localhost:8080/",
     "height": 576
    },
    "executionInfo": {
     "elapsed": 1084,
     "status": "ok",
     "timestamp": 1690401426956,
     "user": {
      "displayName": "Adolfo Alexis Rojas Hidalgo",
      "userId": "18158766317608392773"
     },
     "user_tz": 240
    },
    "id": "y9AqXR8o67sr",
    "outputId": "adc2a298-9903-4de2-e725-6ae7d7958bfd",
    "vscode": {
     "languageId": "r"
    }
   },
   "outputs": [],
   "source": [
    "# Plot das Distribuições de Contagem de Fragmentos\n",
    "\n",
    "# Gráfico de ridges com log10 de contagens de fragmentos por amostra\n",
    "plot.frags.v1 <- plotGroups(\n",
    "  ArchRProj = project, \n",
    "  groupBy = \"Sample\",  # Agrupar por amostra\n",
    "  colorBy = \"cellColData\",  # Usar metadados de célula para cor\n",
    "  name = \"log10(nFrags)\",  # Plot das contagens de fragmentos log10\n",
    "  plotAs = \"ridges\"  # Use um gráfico de ridge\n",
    ")\n",
    "\n",
    "# Gráfico de violino com log10 de contagens de fragmentos por amostra com um boxplot\n",
    "plot.frags.v2 <- plotGroups(\n",
    "  ArchRProj = project, \n",
    "  groupBy = \"Sample\",  # Agrupar por amostra\n",
    "  colorBy = \"cellColData\",  # Usar metadados de célula para cor\n",
    "  name = \"log10(nFrags)\",  # Plot das contagens de fragmentos log10\n",
    "  plotAs = \"violin\",  # Use um gráfico de violino\n",
    "  alpha = 0.4,  # Definir transparência\n",
    "  addBoxPlot = TRUE  # Adicione uma sobreposição de boxplot\n",
    ")\n",
    "\n",
    "# Exibir os gráficos lado a lado\n",
    "plot.frags.v1 | plot.frags.v2"
   ]
  },
  {
   "cell_type": "markdown",
   "metadata": {
    "id": "WfNwsOQj67sr"
   },
   "source": [
    "\n",
    "Filtre os doublets\n"
   ]
  },
  {
   "cell_type": "code",
   "execution_count": null,
   "metadata": {
    "colab": {
     "base_uri": "https://localhost:8080/"
    },
    "executionInfo": {
     "elapsed": 5,
     "status": "ok",
     "timestamp": 1690401426957,
     "user": {
      "displayName": "Adolfo Alexis Rojas Hidalgo",
      "userId": "18158766317608392773"
     },
     "user_tz": 240
    },
    "id": "63TKWnJt67sr",
    "outputId": "a30b39bc-d87d-4623-8921-dc0c0b80b1d7",
    "vscode": {
     "languageId": "r"
    }
   },
   "outputs": [],
   "source": [
    "# Filtrar os doublets do conjunto de dados\n",
    "project <- filterDoublets(ArchRProj = project)  # Remove doublets detectados para manter apenas single cells\n"
   ]
  },
  {
   "cell_type": "markdown",
   "metadata": {
    "id": "W_reSrok67ss"
   },
   "source": [
    "Distribuição do tamanho dos fragmentos de amostra e perfis de enriquecimento de TSS"
   ]
  },
  {
   "cell_type": "code",
   "execution_count": null,
   "metadata": {
    "colab": {
     "base_uri": "https://localhost:8080/",
     "height": 888
    },
    "executionInfo": {
     "elapsed": 82572,
     "status": "ok",
     "timestamp": 1690401509525,
     "user": {
      "displayName": "Adolfo Alexis Rojas Hidalgo",
      "userId": "18158766317608392773"
     },
     "user_tz": 240
    },
    "id": "vL8kkUrr67ss",
    "outputId": "eb811dff-003e-44f3-85ce-858006cefc1e",
    "vscode": {
     "languageId": "r"
    }
   },
   "outputs": [],
   "source": [
    "# Plotar o perfil de enriquecimento do TSS\n",
    "plot.tss.v3 <- plotTSSEnrichment(ArchRProj = project)\n",
    "\n",
    "# Plotar a distribuição do tamanho dos fragmentos\n",
    "plot.frags.v3 <- plotFragmentSizes(ArchRProj = project)\n",
    "\n",
    "# Exiba ambos os gráficos lado a lado\n",
    "plot.frags.v3 | plot.tss.v3"
   ]
  },
  {
   "cell_type": "markdown",
   "metadata": {
    "id": "QXrfWICGif6w"
   },
   "source": [
    "## 5. Normalização, redução dimensional, correção de efeito de lote, clustering e outras etapas"
   ]
  },
  {
   "cell_type": "markdown",
   "metadata": {
    "id": "DNvatcOQ67st"
   },
   "source": [
    "### 5.1. Normalização e redução dimensional\n",
    "O scATAC-seq gera uma matriz de contagens de inserção esparsas (blocos de 500 pb; dados binários de aproximadamente 6 milhões de características), impossibilitando a identificação de picos variáveis ​​para a redução de dimensionalidade padrão. Para contornar esse problema, o ArchR utiliza o LSI (Latent Semantic Indexing), uma abordagem de redução de dimensionalidade em camadas para dados esparsos e com ruído.\n",
    "\n",
    "Em vez de identificar os picos mais variáveis, o ArchR tenta usar as características mais acessíveis como entrada para o LSI.\n",
    "\n",
    "No entanto, ao executar múltiplas amostras, os resultados podem apresentar altos níveis de ruído e baixa reprodutibilidade.\n",
    "\n",
    "Para remediar isso, o ArchR introduziu a abordagem \"LSI iterativa\" (Satpathy, Granja et al., 2019), que calcula uma transformação LSI inicial nos blocos mais acessíveis e identifica clusters de menor resolução que não são confundidos em lote.\n",
    "\n",
    "1 - Esta abordagem calcula uma transformação LSI inicial nos blocos mais acessíveis e identifica clusters de menor resolução que não são confundidos por lote.\n",
    "\n",
    "2 - O ArchR calcula a acessibilidade média para cada um desses clusters em todas as características. O ArchR então identifica os picos mais variáveis ​​nesses clusters e usa essas características para LSI novamente.\n",
    "\n",
    "3 - Nesta segunda iteração, os picos mais variáveis ​​são mais semelhantes aos genes variáveis ​​usados ​​nas implementações de LSI de scRNA-seq.\n",
    "\n",
    "Esta abordagem minimiza os efeitos de lote observados e permite operações de redução de dimensionalidade em uma matriz de características de tamanho mais razoável.\n",
    "<center>\n",
    "\n",
    "![](./Figures/iLSI.png)\n",
    "\n",
    "</center>\n"
   ]
  },
  {
   "cell_type": "code",
   "execution_count": null,
   "metadata": {
    "colab": {
     "base_uri": "https://localhost:8080/"
    },
    "executionInfo": {
     "elapsed": 145828,
     "status": "ok",
     "timestamp": 1690401655348,
     "user": {
      "displayName": "Adolfo Alexis Rojas Hidalgo",
      "userId": "18158766317608392773"
     },
     "user_tz": 240
    },
    "id": "JZ0IEM1967su",
    "outputId": "d7a523ad-7e83-47b8-e444-63e7f1eeec7e",
    "vscode": {
     "languageId": "r"
    }
   },
   "outputs": [],
   "source": [
    "project_Normalized <- addIterativeLSI(ArchRProj = project, iterations = 2,\n",
    "                                      # Número de iterações para LSI; mais iterações refinam o agrupamento\n",
    "                                     #sampleCellsPre = 50000, # Opcional: Número de células a serem usadas para iterações antes da final\n",
    "                                     #clusterParams = list(resolution = 0.1, sampleCells = 50000, maxClusters = 6, n.start = 10),\n",
    "                                     # Os parâmetros de clusters podem ser ajustados para otimizar o agrupamento\n",
    "                                      useMatrix = \"TileMatrix\", # Usar TileMatrix para LSI\n",
    "                                      name = \"IterativeLSI\", # Nome das dimensões reduzidas\n",
    "                                      varFeatures = 25000) # Número de genes variáveis ​​a serem usados ​​para LSI"
   ]
  },
  {
   "cell_type": "markdown",
   "metadata": {
    "id": "sZwxfdVN67su"
   },
   "source": [
    "### 5.2. Correção do efeito de lote\n",
    "Às vezes, a abordagem LSI iterativa não é suficiente para corrigir diferenças significativas no efeito de lote.\n",
    "Por esse motivo, o ArchR implementa uma ferramenta de correção de efeito de lote comumente usada, chamada Harmony (Korsunsky et al., 2019), originalmente projetada para scRNA-seq."
   ]
  },
  {
   "cell_type": "code",
   "execution_count": null,
   "metadata": {
    "colab": {
     "base_uri": "https://localhost:8080/"
    },
    "executionInfo": {
     "elapsed": 4593,
     "status": "ok",
     "timestamp": 1690401659938,
     "user": {
      "displayName": "Adolfo Alexis Rojas Hidalgo",
      "userId": "18158766317608392773"
     },
     "user_tz": 240
    },
    "id": "KmVn_1Ye67sv",
    "outputId": "131f6284-6858-430e-861f-4fa41d9eb54f",
    "vscode": {
     "languageId": "r"
    }
   },
   "outputs": [],
   "source": [
    "# Executar correção de lote usando Harmony nas dimensões reduzidas do LSI\n",
    "project_Normalized <- addHarmony(ArchRProj = project_Normalized, reducedDims = \"IterativeLSI\",\n",
    "                                 name = \"Harmony\", groupBy = \"Sample\")"
   ]
  },
  {
   "cell_type": "markdown",
   "metadata": {
    "id": "-_j0yh4B67sv"
   },
   "source": [
    "### 5.3. UMAP\n",
    "Execute o UMAP no ArchR"
   ]
  },
  {
   "cell_type": "code",
   "execution_count": null,
   "metadata": {
    "colab": {
     "base_uri": "https://localhost:8080/",
     "height": 0
    },
    "executionInfo": {
     "elapsed": 44537,
     "status": "ok",
     "timestamp": 1690401704472,
     "user": {
      "displayName": "Adolfo Alexis Rojas Hidalgo",
      "userId": "18158766317608392773"
     },
     "user_tz": 240
    },
    "id": "OpGaLbU467sw",
    "outputId": "ab12b084-f416-463a-92c3-c81a35f35370",
    "vscode": {
     "languageId": "r"
    }
   },
   "outputs": [],
   "source": [
    "# Calcula a incorporação de UMAP com base nas dimensões LSI iterativas\n",
    "project_Normalized <- addUMAP(ArchRProj = project_Normalized, reducedDims = \"IterativeLSI\", name = \"UMAP\")\n",
    "\n",
    "# Plot UMAP colorido pela identidade da amostra\n",
    "plotEmbedding(ArchRProj = project_Normalized, colorBy = \"cellColData\", name = \"Sample\", embedding = \"UMAP\", size=0.1)\n",
    "\n",
    "# Calcula a incorporação de UMAP com base nas dimensões Harmony (após a correção do lote)\n",
    "project_Normalized <- addUMAP(ArchRProj = project_Normalized, reducedDims = \"Harmony\", name = \"UMAP\", force=TRUE)\n",
    "\n",
    "# Plot a incorporação de UMAP novamente para visualizar a incorporação corrigida em lote\n",
    "plotEmbedding(ArchRProj = project_Normalized, colorBy = \"cellColData\", name = \"Sample\", embedding = \"UMAP\", size=0.1)"
   ]
  },
  {
   "cell_type": "markdown",
   "metadata": {
    "id": "NGja-Ldz67sw"
   },
   "source": [
    "### 5.4. Clustering\n",
    "Para identificar clusters, o ArchR permite usar o mesmo método do Seurat ou do Scran. Selecionamos o mesmo método descrito nos módulos anteriores e usado no pacote Seurat.\n"
   ]
  },
  {
   "cell_type": "code",
   "execution_count": null,
   "metadata": {
    "colab": {
     "base_uri": "https://localhost:8080/"
    },
    "executionInfo": {
     "elapsed": 108256,
     "status": "ok",
     "timestamp": 1690401812726,
     "user": {
      "displayName": "Adolfo Alexis Rojas Hidalgo",
      "userId": "18158766317608392773"
     },
     "user_tz": 240
    },
    "id": "A2wiA3RR67sx",
    "outputId": "ee70dbb9-e194-42d5-f8f7-12a55f8d7192",
    "vscode": {
     "languageId": "r"
    }
   },
   "outputs": [],
   "source": [
    "# Iterar sobre diferentes resoluções de agrupamento de 0,0 a 0,9\n",
    "for(i in seq(0,0.9,0.1)){\n",
    "  project_Normalized <- addClusters(input = project_Normalized, reducedDims = \"Harmony\",\n",
    "                                    method = \"Seurat\", # Método de clustering (Seurat-based)\n",
    "                                    name = paste(\"Clusters.res\",i,sep=\"\"), # Nomeando clusters dinamicamente\n",
    "                                    resolution = i, # Definindo a resolução do cluster\n",
    "                                    verbose = FALSE) # Suprimindo a saída detalhada\n",
    "}"
   ]
  },
  {
   "cell_type": "markdown",
   "metadata": {
    "id": "Y3sQj-nr67sy"
   },
   "source": [
    "### 5.5. Salve e carregue o projeto\n"
   ]
  },
  {
   "cell_type": "code",
   "execution_count": null,
   "metadata": {
    "colab": {
     "base_uri": "https://localhost:8080/",
     "height": 0
    },
    "executionInfo": {
     "elapsed": 3085,
     "status": "ok",
     "timestamp": 1690401815807,
     "user": {
      "displayName": "Adolfo Alexis Rojas Hidalgo",
      "userId": "18158766317608392773"
     },
     "user_tz": 240
    },
    "id": "RAc_Xnkp67sy",
    "outputId": "21a9ba6e-fb7c-4fb0-fdb1-6651374f5e88",
    "vscode": {
     "languageId": "r"
    }
   },
   "outputs": [],
   "source": [
    "# Salvar o estado atual do projeto ArchR\n",
    "saveArchRProject(ArchRProj = project_Normalized,\n",
    "                 outputDirectory = file.path(getwd(),\"Analysis_scATACseq\"))"
   ]
  },
  {
   "cell_type": "code",
   "execution_count": null,
   "metadata": {
    "colab": {
     "base_uri": "https://localhost:8080/"
    },
    "executionInfo": {
     "elapsed": 984,
     "status": "ok",
     "timestamp": 1690401816788,
     "user": {
      "displayName": "Adolfo Alexis Rojas Hidalgo",
      "userId": "18158766317608392773"
     },
     "user_tz": 240
    },
    "id": "XBdFi-vx67sz",
    "outputId": "06c899db-f988-404d-c4a8-d52a3b3869c2",
    "vscode": {
     "languageId": "r"
    }
   },
   "outputs": [],
   "source": [
    "# Carregue o projeto ArchR salvo\n",
    "project_Normalized <- loadArchRProject(path = file.path(getwd(),\"Analysis_scATACseq\"),\n",
    "                                       force = TRUE, showLogo = FALSE)"
   ]
  },
  {
   "cell_type": "markdown",
   "metadata": {
    "id": "i4qJbc6D67sz"
   },
   "source": [
    "## 6. Exploração de dados usando estimativa gênica"
   ]
  },
  {
   "cell_type": "markdown",
   "metadata": {
    "id": "M18unFqkiXGD"
   },
   "source": [
    "### 6.1. Visualização de clusters usando Clustree\n",
    "O Clustree é uma ferramenta útil para explorar as ligações entre clusters de diferentes resoluções."
   ]
  },
  {
   "cell_type": "code",
   "execution_count": null,
   "metadata": {
    "colab": {
     "base_uri": "https://localhost:8080/",
     "height": 0
    },
    "executionInfo": {
     "elapsed": 3614,
     "status": "ok",
     "timestamp": 1690401820400,
     "user": {
      "displayName": "Adolfo Alexis Rojas Hidalgo",
      "userId": "18158766317608392773"
     },
     "user_tz": 240
    },
    "id": "sMcOXcCn67s0",
    "outputId": "005c99c5-bd67-48e0-85b9-92ce06221991",
    "vscode": {
     "languageId": "r"
    }
   },
   "outputs": [],
   "source": [
    "# Extrair informações de clustering do projeto ArchR\n",
    "tmp.clustree.datatable <- as.data.frame(project_Normalized@cellColData)\n",
    "\n",
    "# Plot uma árvore de clustering para visualizar os relacionamentos de agrupamento entre as resoluções\n",
    "clustree(tmp.clustree.datatable, prefix=\"Clusters.res\")"
   ]
  },
  {
   "cell_type": "markdown",
   "metadata": {
    "id": "gdtut7NG67s0"
   },
   "source": [
    "### 6.2. Visualização de clustering no UMAP"
   ]
  },
  {
   "cell_type": "code",
   "execution_count": null,
   "metadata": {
    "colab": {
     "base_uri": "https://localhost:8080/",
     "height": 0
    },
    "executionInfo": {
     "elapsed": 50600,
     "status": "ok",
     "timestamp": 1690401870997,
     "user": {
      "displayName": "Adolfo Alexis Rojas Hidalgo",
      "userId": "18158766317608392773"
     },
     "user_tz": 240
    },
    "id": "okCN6OJO67s1",
    "outputId": "a4eaed9d-150e-4596-c3ed-bf2f3615fbdb",
    "vscode": {
     "languageId": "r"
    }
   },
   "outputs": [],
   "source": [
    "# Itere sobre diferentes resoluções de cluster e visualize os embeddings UMAP\n",
    "for(i in seq(0,0.9,0.1)){\n",
    "  # Plot UMAP com legendas dos clusters\n",
    "  plot.umap.resi <- plotEmbedding(ArchRProj = project_Normalized, \n",
    "                                  colorBy = \"cellColData\", \n",
    "                                  name = paste(\"Clusters.res\",i,sep=\"\"), \n",
    "                                  embedding = \"UMAP\", size=0.1)\n",
    "  \n",
    "  # Plot UMAP sem legendas dos clusters\n",
    "  plot.umap.woLabel.resi <- plotEmbedding(ArchRProj = project_Normalized, \n",
    "                                          colorBy = \"cellColData\", \n",
    "                                          name = paste(\"Clusters.res\",i,sep=\"\"), \n",
    "                                          embedding = \"UMAP\", size=0.1, \n",
    "                                          labelMeans=FALSE)\n",
    "\n",
    "  # Exibir ambos os gráficos lado a lado\n",
    "  print(plot.umap.resi | plot.umap.woLabel.resi)\n",
    "}"
   ]
  },
  {
   "cell_type": "markdown",
   "metadata": {
    "id": "fdcPe0iF67s1"
   },
   "source": [
    "### 6.3. Caracterização dos clusters\n",
    "Nesta etapa, selecionamos uma resolução específica para explorar em detalhes o GeneScore e caracterizar os diferentes clusters.\n",
    "Para isso, identificaremos genes marcadores (com base nos escores gênicos ou na estimativa da expressão gênica) dos clusters.\n",
    "Em resumo, o ArchR estima os escores gênicos usando a acessibilidade local da região do gene que inclui o promotor e o corpo gênico, mas impõe um peso exponencial que considera a atividade de supostos elementos regulatórios distais em função da distância.\n",
    "\n",
    "![<i><font size=1 color=\"grey\">from ArchR manual</font></i>](./Figures/GeneActivityScore_Schematic.png){width=70% height=50%}\n",
    "\n",
    "Observações: O ArchR pode usar características de motif de genes, picos ou fatores de transcrição. Aqui, o ArchR identifica os genes que parecem ser exclusivamente ativos em cada cluster na resolução 0,4."
   ]
  },
  {
   "cell_type": "code",
   "execution_count": null,
   "metadata": {
    "colab": {
     "base_uri": "https://localhost:8080/",
     "height": 0
    },
    "executionInfo": {
     "elapsed": 392436,
     "status": "ok",
     "timestamp": 1690402263429,
     "user": {
      "displayName": "Adolfo Alexis Rojas Hidalgo",
      "userId": "18158766317608392773"
     },
     "user_tz": 240
    },
    "id": "NK7b6n9Z67s1",
    "outputId": "483ebe6c-20c4-4b9e-ef50-24bfd708557c",
    "vscode": {
     "languageId": "r"
    }
   },
   "outputs": [],
   "source": [
    "slct.res = \"res0.7\" # Selecione a resolução para análise\n",
    "\n",
    "# Identifique genes marcadores usando a Matrzi de Gene Score\n",
    "markersGS.slctRes <- getMarkerFeatures(ArchRProj = project_Normalized,\n",
    "                                       useMatrix = \"GeneScoreMatrix\",\n",
    "                                       groupBy = paste(\"Clusters.\",slct.res,sep=\"\"),\n",
    "                                       bias = c(\"TSSEnrichment\", \"log10(nFrags)\"),\n",
    "                                       testMethod = \"wilcoxon\") # Execute o teste de Wilcoxon\n",
    "\n",
    "# Extrair genes marcadores com FDR ≤ 0,05 e Log2Fold Change ≥ 0,2\n",
    "markerList <- getMarkers(markersGS.slctRes, cutOff = \"FDR <= 0.05 & Log2FC >= 0.2\")\n",
    "\n",
    "# Exibir os genes marcadores para o primeiro cluster\n",
    "i = names(markerList)[1]\n",
    "markerList[[i]]\n",
    "\n",
    "# Salvar genes marcadores para cada cluster\n",
    "for(i in names(markerList)){\n",
    "  write.table(markerList[[i]], sep=\"\\t\", row.names=FALSE, col.names=TRUE, quote=FALSE,\n",
    "              file=file.path(work_dir, paste(i, \".res\", slct.res, \".mGenesList.tsv\", sep=\"\")))\n",
    "}"
   ]
  },
  {
   "cell_type": "markdown",
   "metadata": {
    "id": "D8gJrYOa67s2"
   },
   "source": [
    "Para visualizar os genes marcadores, podemos produzir um mapa de calor:"
   ]
  },
  {
   "cell_type": "code",
   "execution_count": null,
   "metadata": {
    "colab": {
     "base_uri": "https://localhost:8080/",
     "height": 0
    },
    "executionInfo": {
     "elapsed": 6862,
     "status": "ok",
     "timestamp": 1690402270287,
     "user": {
      "displayName": "Adolfo Alexis Rojas Hidalgo",
      "userId": "18158766317608392773"
     },
     "user_tz": 240
    },
    "id": "jJQbmqaZ67s2",
    "outputId": "43dac0b6-10d3-4bfa-aa5b-2de4f07824a6",
    "vscode": {
     "languageId": "r"
    }
   },
   "outputs": [],
   "source": [
    "# Definir genes marcadores principais\n",
    "markerGenes <- c(\"EPCAM\", \"VIM\", \"FLT4\", \"THY1\", \"CD3D\", \"PECAM1\", \"CD38\", \"PAX5\",\n",
    "                 \"MS4A1\", \"CD14\", \"ITGAX\", \"CD4\", \"CD8A\", \"GZMA\")\n",
    "\n",
    "# Gerar mapa de calor das pontuações genéticas\n",
    "heatmapGS <- plotMarkerHeatmap(seMarker = markersGS.slctRes,\n",
    "                               cutOff = \"FDR <= 0.05 & Log2FC >= 1\",\n",
    "                               labelMarkers = markerGenes,\n",
    "                               transpose = FALSE)\n",
    "\n",
    "# Mostrar mapa de calor\n",
    "heatmapGS\n",
    "\n",
    "# Obter matriz do mapa de calor\n",
    "heatmapGSmatrix <- plotMarkerHeatmap(seMarker = markersGS.slctRes,\n",
    "                                     cutOff = \"FDR <= 0.05 & Log2FC >= 1\",\n",
    "                                     labelMarkers = markerGenes,\n",
    "                                     returnMatrix = TRUE,\n",
    "                                     transpose = FALSE)\n",
    "\n",
    "# Exibir as primeiras 10 linhas da matriz do mapa de calor\n",
    "head(heatmapGSmatrix, 10)\n",
    "\n",
    "# Salvar a matriz do mapa de calor\n",
    "write.table(cbind(Cluster=rownames(heatmapGSmatrix), heatmapGSmatrix), sep=\"\\t\",\n",
    "            row.names=FALSE, col.names=TRUE, quote=FALSE,\n",
    "            file=file.path(work_dir, paste(\"GeneScores-Marker-Heatmap\", slct.res, sep=\".\")))"
   ]
  },
  {
   "cell_type": "markdown",
   "metadata": {
    "id": "KuXuFS8E67s3"
   },
   "source": [
    "Ou visualize o GeneScore dos genes marcadores no UMAP"
   ]
  },
  {
   "cell_type": "code",
   "execution_count": null,
   "metadata": {
    "colab": {
     "base_uri": "https://localhost:8080/",
     "height": 0
    },
    "executionInfo": {
     "elapsed": 7840,
     "status": "ok",
     "timestamp": 1690402278124,
     "user": {
      "displayName": "Adolfo Alexis Rojas Hidalgo",
      "userId": "18158766317608392773"
     },
     "user_tz": 240
    },
    "id": "eamIRAx467s3",
    "outputId": "11facd1d-65a3-4f6c-9ac0-23f4932120d6",
    "vscode": {
     "languageId": "r"
    }
   },
   "outputs": [],
   "source": [
    "# Plotar pontuação genética UMAP sem imputação MAGIC\n",
    "plot.GS.woMAGIC <- plotEmbedding(ArchRProj = project_Normalized, \n",
    "                                 colorBy = \"GeneScoreMatrix\", \n",
    "                                 name = markerGenes, embedding = \"UMAP\", \n",
    "                                 quantCut = c(0.01, 0.95), \n",
    "                                 imputeWeights = NULL)\n",
    "\n",
    "# Exibir genes selecionados\n",
    "plot.GS.woMAGIC$VIM | plot.GS.woMAGIC$EPCAM"
   ]
  },
  {
   "cell_type": "markdown",
   "metadata": {
    "id": "ExPmw32r67s4"
   },
   "source": [
    "No entanto, os dados do scATAC-seq são realmente escassos. Por isso, é altamente recomendável usar o MAGIC (van Dijk et al., 2018), que adiciona um peso de imputação às pontuações genéticas, suavizando o sinal entre células próximas."
   ]
  },
  {
   "cell_type": "code",
   "execution_count": null,
   "metadata": {
    "colab": {
     "base_uri": "https://localhost:8080/",
     "height": 0
    },
    "executionInfo": {
     "elapsed": 43720,
     "status": "ok",
     "timestamp": 1690402321840,
     "user": {
      "displayName": "Adolfo Alexis Rojas Hidalgo",
      "userId": "18158766317608392773"
     },
     "user_tz": 240
    },
    "id": "yMWJ9UKj67s4",
    "outputId": "34f0e2b3-c960-4de9-b3c2-5a19bb26688b",
    "vscode": {
     "languageId": "r"
    }
   },
   "outputs": [],
   "source": [
    "# Aplicar MAGIC para imputação genética\n",
    "project_Normalized <- addImputeWeights(project_Normalized)\n",
    "\n",
    "# Plotar o GeneScore no UMAP com imputação\n",
    "plot.GS <- plotEmbedding(ArchRProj = project_Normalized, colorBy = \"GeneScoreMatrix\",\n",
    "                         name = markerGenes,\n",
    "                         embedding = \"UMAP\",\n",
    "                         imputeWeights = getImputeWeights(project_Normalized))\n",
    "\n",
    "plot.GS$VIM | plot.GS$EPCAM\n",
    "plot.GS$FLT4 | plot.GS$THY1\n",
    "plot.GS$ITGAX | plot.GS$CD14\n",
    "plot.GS$MS4A1 | plot.GS$CD38\n",
    "plot.GS$CD3D | plot.GS$CD8A\n",
    "plot.GS$CD4 | plot.GS$GZMA"
   ]
  },
  {
   "cell_type": "markdown",
   "metadata": {
    "id": "nh7kBGEl67s4"
   },
   "source": [
    "## 7. Integração scATAC-scRNAseq\n",
    "O ArchR permite a integração com scRNA-seq, oferecendo a possibilidade de usar clusters chamados no espaço scRNA-seq ou usar as medições de expressão gênica após a integração.\n",
    "\n",
    "Essa integração funciona alinhando diretamente as células do scATAC-seq com as células do scRNA-seq, comparando a matriz de pontuação genética do scATAC-seq com a matriz de expressão genética do scRNA-seq. Esse alinhamento é realizado usando a função FindTransferAnchors() do pacote Seurat, que permite alinhar dados em dois conjuntos de dados.\n",
    "\n",
    "No entanto, para dimensionar adequadamente esse procedimento para centenas de milhares de células, o ArchR fornece uma paralelização desse procedimento, dividindo o total de células em grupos menores e realizando alinhamentos separados."
   ]
  },
  {
   "cell_type": "code",
   "execution_count": null,
   "metadata": {
    "executionInfo": {
     "elapsed": 9,
     "status": "ok",
     "timestamp": 1690402321841,
     "user": {
      "displayName": "Adolfo Alexis Rojas Hidalgo",
      "userId": "18158766317608392773"
     },
     "user_tz": 240
    },
    "id": "Mg9RR6Dq67s5",
    "vscode": {
     "languageId": "r"
    }
   },
   "outputs": [],
   "source": [
    "# Importar dados do scRNAseq \n",
    "scRNA<-readRDS(file.path(work_dir,\"scRNAseq.data.rds\"))\n",
    "DefaultAssay(object = scRNA) <- \"RNA\"\n",
    "\n",
    "# Integrar dados scRNA-seq e scATAC-seq\n",
    "project_Normalized <- addGeneIntegrationMatrix(ArchRProj = project_Normalized,\n",
    "    useMatrix = \"GeneScoreMatrix\", matrixName = \"GeneIntegrationMatrix\",\n",
    "    reducedDims = \"Harmony\", #Harmony ou IterativeLSI\n",
    "    seRNA = scRNA, addToArrow = TRUE, force= TRUE,\n",
    "    groupRNA = \"integrated_snn_res.0.5\",\n",
    "    nameCell = \"predictedCell\", nameGroup = \"predictedGroup\", nameScore = \"predictedScore\",\n",
    "    sampleCellsATAC = 10000, sampleCellsRNA = 10000, scaleTo = 10000)\n",
    "project_Normalized <- addImputeWeights(project_Normalized)\n",
    "\n",
    "saveArchRProject(ArchRProj = project_Normalized, load = FALSE)\n",
    "\n",
    "plot_rna.woLabel <- plotEmbedding(project_Normalized,colorBy = \"cellColData\",name = \"predictedGroup\", embedding = \"UMAP\", size=1, labelMeans=FALSE)\n",
    "plot_rna <- plotEmbedding(project_Normalized,colorBy = \"cellColData\",name = \"predictedGroup\", embedding = \"UMAP\", size=1)\n",
    "\n",
    "# Tabela cruzada entre dados scRNA-seq e scATAC-seq \n",
    "cM <- as.matrix(confusionMatrix(project$Clusters.res0.7, # Resolução do aviso\n",
    "                                project$predictedGroup)) # Resolução do aviso\n"
   ]
  },
  {
   "cell_type": "markdown",
   "metadata": {
    "id": "yum_aHNc67s5"
   },
   "source": [
    "## 8. Chamada de Picos\n",
    "A chamada de picos é um dos processos mais fundamentais na análise de dados ATAC-seq.\n",
    "Como os dados scATAC-seq por célula são essencialmente binários (acessíveis ou não), realizamos a chamada de picos em grupos de células semelhantes (ou clusters) definidos anteriormente.\n",
    "\n",
    "O ArchR aplica um Procedimento Iterativo de Mesclagem de Picos de Sobreposição com o chamador de picos MACS2 (Zhang et al., 2008).\n",
    "\n",
    "Ele usa uma função para executar este procedimento iterativo de fusão de picos de sobreposição:\n",
    "\n",
    "1. O ArchR chamaria picos para cada réplica pseudo-bulk individualmente.\n",
    "\n",
    "2. O ArchR analisaria todas as réplicas pseudo-bulk de um único tipo de célula em conjunto, realizando a primeira iteração de remoção de sobreposição iterativa.\n",
    "\n",
    "3. Após a primeira iteração de remoção de sobreposição iterativa, o ArchR verifica a reprodutibilidade de cada pico em réplicas pseudo-bulk e mantém apenas os picos que ultrapassam um limite indicado pelo parâmetro de reprodutibilidade.\n",
    "\n",
    "4. Ao final desse processo, teríamos um único conjunto de picos mesclados para cada tipo de célula.\n",
    "\n"
   ]
  },
  {
   "cell_type": "markdown",
   "metadata": {
    "id": "Mumkz81uhz6x"
   },
   "source": [
    "### 8.1. Criação de réplicas pseudo-bulk"
   ]
  },
  {
   "cell_type": "code",
   "execution_count": null,
   "metadata": {
    "colab": {
     "base_uri": "https://localhost:8080/"
    },
    "executionInfo": {
     "elapsed": 1610618,
     "status": "ok",
     "timestamp": 1690403932450,
     "user": {
      "displayName": "Adolfo Alexis Rojas Hidalgo",
      "userId": "18158766317608392773"
     },
     "user_tz": 240
    },
    "id": "5KM_d_P967s6",
    "outputId": "f25bffdb-18fc-4309-99fa-ade38c81211a",
    "vscode": {
     "languageId": "r"
    }
   },
   "outputs": [],
   "source": [
    "# Determinar o número de réplicas a serem usadas para o cálculo de cobertura\n",
    "nbReplicates = ifelse(length(names(table(project_Normalized$Sample))) > 5, \n",
    "                      length(names(table(project_Normalized$Sample))), 5)\n",
    "\n",
    "# Adicionar informações de cobertura de grupo ao projeto\n",
    "project_Peaks <- addGroupCoverages(\n",
    "    ArchRProj = project_Normalized, \n",
    "    maxReplicates = nbReplicates, \n",
    "    groupBy = paste(\"Clusters\", slct.res, sep = \".\")\n",
    ")"
   ]
  },
  {
   "cell_type": "markdown",
   "metadata": {
    "id": "XMfY2gdT67s6"
   },
   "source": [
    "### 8.2. Realizar chamadas de pico\n"
   ]
  },
  {
   "cell_type": "code",
   "execution_count": null,
   "metadata": {
    "colab": {
     "base_uri": "https://localhost:8080/",
     "height": 0
    },
    "executionInfo": {
     "elapsed": 937861,
     "status": "ok",
     "timestamp": 1690404870307,
     "user": {
      "displayName": "Adolfo Alexis Rojas Hidalgo",
      "userId": "18158766317608392773"
     },
     "user_tz": 240
    },
    "id": "j3ffFJ-z67s7",
    "outputId": "b9314e08-56c2-4d9d-8b00-59e86efda5b6",
    "vscode": {
     "languageId": "r"
    }
   },
   "outputs": [],
   "source": [
    "# Encontre o caminho para MACS2\n",
    "pathToMacs2 <- findMacs2()\n",
    "\n",
    "# Realizar chamadas de pico usando MACS2\n",
    "project_Peaks <- addReproduciblePeakSet(\n",
    "    ArchRProj = project_Peaks,\n",
    "    groupBy = paste(\"Clusters\", slct.res, sep = \".\"),\n",
    "    pathToMacs2 = pathToMacs2\n",
    ")\n",
    "\n",
    "# Método alternativo de chamada de pico (usar se o MACS2 não estiver disponível)\n",
    "# project_Peaks <- addReproduciblePeakSet(\n",
    "#     ArchRProj = project_Peaks,\n",
    "#     groupBy = paste(\"Clusters\", slct.res, sep = \".\"),\n",
    "#     peakMethod = \"Tiles\",\n",
    "#     method = \"p\"\n",
    "# )\n",
    "\n",
    "# Recuperar o conjunto de picos após a chamada de picos\n",
    "getPeakSet(project_Peaks)\n",
    "\n",
    "# Adicionar pesos de imputação para melhorar as análises posteriores\n",
    "project_Peaks <- addImputeWeights(project_Peaks)\n",
    "\n",
    "# Salvar o projeto ArchR com os resultados da chamada de picos\n",
    "saveArchRProject(\n",
    "    ArchRProj = project_Peaks,\n",
    "    outputDirectory = file.path(getwd(), \"Analysis_scATACseq\"), \n",
    "    load = TRUE\n",
    ")"
   ]
  },
  {
   "cell_type": "markdown",
   "metadata": {
    "id": "blFYahGC67s7"
   },
   "source": [
    "### 8.3. Identificação de picos marcadores\n",
    "Conforme explicado anteriormente para os genes marcadores, o ArchR pode utilizar características de motivos de genes, picos ou fatores de transcrição. Aqui, o ArchR identifica os picos que parecem ser exclusivamente ativos em cada cluster na resolução selecionada."
   ]
  },
  {
   "cell_type": "code",
   "execution_count": null,
   "metadata": {
    "colab": {
     "base_uri": "https://localhost:8080/",
     "height": 0
    },
    "executionInfo": {
     "elapsed": 593819,
     "status": "ok",
     "timestamp": 1690405464114,
     "user": {
      "displayName": "Adolfo Alexis Rojas Hidalgo",
      "userId": "18158766317608392773"
     },
     "user_tz": 240
    },
    "id": "EdI98Eo567s8",
    "outputId": "05260189-83dc-4ce5-dd60-c9e83a43562d",
    "vscode": {
     "languageId": "r"
    }
   },
   "outputs": [],
   "source": [
    "# Gerar uma Matriz de Picos para quantificação de acessibilidade\n",
    "project_Peaks <- addPeakMatrix(project_Peaks)\n",
    "\n",
    "# Identificar picos de marcadores para cada cluster usando o teste de Wilcoxon\n",
    "markersPeaks <- getMarkerFeatures(\n",
    "    ArchRProj = project_Peaks,\n",
    "    useMatrix = \"PeakMatrix\",\n",
    "    groupBy = paste(\"Clusters\", slct.res, sep = \".\"),\n",
    "    bias = c(\"TSSEnrichment\", \"log10(nFrags)\"),\n",
    "    testMethod = \"wilcoxon\"\n",
    ")\n",
    "\n",
    "# Extrair picos significativamente diferentes (FDR <= 0,01, Log2FC >= 1)\n",
    "markerList <- getMarkers(markersPeaks, cutOff = \"FDR <= 0.01 & Log2FC >= 1\")\n",
    "\n",
    "# Visualizar picos de marcadores para o cluster C9\n",
    "markerList[[\"C9\"]]"
   ]
  },
  {
   "cell_type": "markdown",
   "metadata": {
    "id": "aKRkEuHK67s8"
   },
   "source": [
    "Para visualizar os genes marcadores, podemos produzir um mapa de calor:"
   ]
  },
  {
   "cell_type": "code",
   "execution_count": null,
   "metadata": {
    "colab": {
     "base_uri": "https://localhost:8080/",
     "height": 0
    },
    "executionInfo": {
     "elapsed": 8940,
     "status": "ok",
     "timestamp": 1690405473049,
     "user": {
      "displayName": "Adolfo Alexis Rojas Hidalgo",
      "userId": "18158766317608392773"
     },
     "user_tz": 240
    },
    "id": "oHt82gdh67s9",
    "outputId": "50f4bba0-09ac-4716-b927-ee9bf5b3a239",
    "vscode": {
     "languageId": "r"
    }
   },
   "outputs": [],
   "source": [
    "# Gerar um mapa de calor dos picos dos marcadores (limite menos rigoroso)\n",
    "heatmapPeaks <- plotMarkerHeatmap(\n",
    "    seMarker = markersPeaks,\n",
    "    cutOff = \"FDR <= 0.1 & Log2FC >= 0.5\",\n",
    "    transpose = FALSE\n",
    ")\n",
    "\n",
    "# Exibir o mapa de calor\n",
    "heatmapPeaks"
   ]
  },
  {
   "cell_type": "markdown",
   "metadata": {
    "id": "-N6b7fh667s9"
   },
   "source": [
    "Ou gráficos de MA e gráficos de vulcão de picos marcadores por cluster:"
   ]
  },
  {
   "cell_type": "code",
   "execution_count": null,
   "metadata": {
    "colab": {
     "base_uri": "https://localhost:8080/",
     "height": 0
    },
    "executionInfo": {
     "elapsed": 23360,
     "status": "ok",
     "timestamp": 1690405496407,
     "user": {
      "displayName": "Adolfo Alexis Rojas Hidalgo",
      "userId": "18158766317608392773"
     },
     "user_tz": 240
    },
    "id": "mpUkieM467s9",
    "outputId": "faa798c6-e1f5-455f-c0fc-776b631dd80e",
    "vscode": {
     "languageId": "r"
    }
   },
   "outputs": [],
   "source": [
    "# Gerar gráficos de MA e de vulcão para cluster C9\n",
    "map <- plotMarkers(\n",
    "    seMarker = markersPeaks, \n",
    "    name = \"C9\",\n",
    "    cutOff = \"FDR <= 0.1 & Log2FC >= 1\",  # Pdrão\n",
    "    plotAs = \"MA\"\n",
    ")\n",
    "\n",
    "vp <- plotMarkers(\n",
    "    seMarker = markersPeaks, \n",
    "    name = \"C9\",\n",
    "    cutOff = \"FDR <= 0.1 & Log2FC >= 1\",  # Padrão\n",
    "    plotAs = \"Volcano\"\n",
    ")\n",
    "\n",
    "# Combine ambos os gráficos\n",
    "map | vp"
   ]
  },
  {
   "cell_type": "markdown",
   "metadata": {
    "id": "mVncriDL67s-"
   },
   "source": [
    "Ou visualize os picos dos marcadores em uma trilha do navegador:"
   ]
  },
  {
   "cell_type": "code",
   "execution_count": null,
   "metadata": {
    "colab": {
     "base_uri": "https://localhost:8080/"
    },
    "executionInfo": {
     "elapsed": 7299,
     "status": "ok",
     "timestamp": 1690405503700,
     "user": {
      "displayName": "Adolfo Alexis Rojas Hidalgo",
      "userId": "18158766317608392773"
     },
     "user_tz": 240
    },
    "id": "7j5H392267s-",
    "outputId": "b47b1b98-c356-447c-c8f9-41d0b06b9df5",
    "vscode": {
     "languageId": "r"
    }
   },
   "outputs": [],
   "source": [
    "# Gerar uma visualização de trilha do navegador para CD4\n",
    "plot.track1 <- plotBrowserTrack(\n",
    "    ArchRProj = project_Peaks,\n",
    "    groupBy = paste(\"Clusters\", slct.res, sep = \".\"),\n",
    "    geneSymbol = c(\"CD4\"),\n",
    "    features = getMarkers(markersPeaks, cutOff = \"FDR <= 0.1 & Log2FC >= 1\", returnGR = TRUE)[\"C9\"],\n",
    "    upstream = 50000, downstream = 50000\n",
    ")\n",
    "\n",
    "# Exibir o gráfico\n",
    "grid::grid.newpage()\n",
    "grid::grid.draw(plot.track1$CD8A)"
   ]
  },
  {
   "cell_type": "code",
   "execution_count": null,
   "metadata": {
    "executionInfo": {
     "elapsed": 8092,
     "status": "ok",
     "timestamp": 1690405511789,
     "user": {
      "displayName": "Adolfo Alexis Rojas Hidalgo",
      "userId": "18158766317608392773"
     },
     "user_tz": 240
    },
    "id": "x22_-P7twZri",
    "vscode": {
     "languageId": "r"
    }
   },
   "outputs": [],
   "source": [
    "# Salve o objeto e baixe-o!!\n",
    "saveRDS(project_Peaks,\"project_Peaks.rds\")\n",
    "saveRDS(markersPeaks,\"markersPeaks.rds\")"
   ]
  },
  {
   "cell_type": "markdown",
   "metadata": {
    "id": "JvTmyst767s_"
   },
   "source": [
    "## 9. Enriquecimento de Motifs\n",
    "Após a identificação dos conjuntos de picos, o próximo passo é prever quais fatores de transcrição (transcription factors - TFs) podem estar mediando os eventos de ligação que criam esses sítios de cromatina acessíveis.\n",
    "\n",
    "O ArchR permite anotar os motivos de TFs que são enriquecidos em picos que estão acima ou abaixo dos picos nos diferentes tipos de células.\n",
    "\n",
    "Primeiramente, adicionamos anotações de motivos ao nosso ArchRProject com base em um banco de dados de referência (por exemplo: CIS-BP, JASPAR, Encode ou Homer).\n",
    "\n",
    "Aqui, selecionamos o CIS-BP, que contém > 300 famílias de TFs de > 700 espécies coletadas de > 70 fontes, incluindo outros bancos de dados: Transfac, JASPAR, Hocomoco, FactorBook, UniProbe, entre outros.\n",
    "\n",
    "Em seguida, testamos o conjunto de picos significativamente diferenciais para o enriquecimento de motivos."
   ]
  },
  {
   "cell_type": "code",
   "execution_count": null,
   "metadata": {
    "colab": {
     "base_uri": "https://localhost:8080/"
    },
    "executionInfo": {
     "elapsed": 4339,
     "status": "ok",
     "timestamp": 1690405516116,
     "user": {
      "displayName": "Adolfo Alexis Rojas Hidalgo",
      "userId": "18158766317608392773"
     },
     "user_tz": 240
    },
    "id": "UsnG1wu-UODF",
    "outputId": "da7d3a9f-405f-47a6-f2f6-fad9c8033ef2",
    "vscode": {
     "languageId": "r"
    }
   },
   "outputs": [],
   "source": [
    "# Baixe e recarregue os dados se necessário\n",
    "shell_call(\"gdown 1SdSmF9R3yHNWacmFf22RxpcrrKmUHM_b\")\n",
    "markersPeaks = readRDS(\"markersPeaks.rds\")\n",
    "\n",
    "shell_call(\"gdown 1S6fRM7_KX4kjd9ankvzA5HloJJSIM4bn\")\n",
    "project_Peaks = readRDS(\"project_Peaks.rds\")"
   ]
  },
  {
   "cell_type": "code",
   "execution_count": null,
   "metadata": {
    "colab": {
     "base_uri": "https://localhost:8080/",
     "height": 305
    },
    "executionInfo": {
     "elapsed": 3275,
     "status": "error",
     "timestamp": 1690405519381,
     "user": {
      "displayName": "Adolfo Alexis Rojas Hidalgo",
      "userId": "18158766317608392773"
     },
     "user_tz": 240
    },
    "id": "dMFgBhd-67s_",
    "outputId": "d2dbb482-8001-4d2f-f0a8-3205fa3d1453",
    "vscode": {
     "languageId": "r"
    }
   },
   "outputs": [],
   "source": [
    "# Enriquecimento de Motifs\n",
    "project_Peaks <- addMotifAnnotations(ArchRProj = project_Peaks, motifSet = \"cisbp\", name = \"Motif\", force = TRUE)\n",
    "\n",
    "# Enriquecimento de motifs em picos de marcadores\n",
    "enrichMotifs <- peakAnnoEnrichment(\n",
    "    seMarker = markersPeaks, ArchRProj = project_Peaks,\n",
    "    peakAnnotation = \"Motif\",cutOff = \"FDR <= 0.1 & Log2FC >= 0.5\")  # Padrão\n",
    "\n",
    "# Você tem duas saídas: a matriz de Enriquecimento e a matriz de p-valor:\n",
    "head(enrichMotifs@assays@data$Enrichment,10)"
   ]
  },
  {
   "cell_type": "markdown",
   "metadata": {
    "id": "HyE1Hvel67s_"
   },
   "source": [
    "Podemos exibir um mapa de calor para visualizar os principais motivos de cada cluster."
   ]
  },
  {
   "cell_type": "code",
   "execution_count": null,
   "metadata": {
    "executionInfo": {
     "elapsed": 4552611,
     "status": "aborted",
     "timestamp": 1690405518811,
     "user": {
      "displayName": "Adolfo Alexis Rojas Hidalgo",
      "userId": "18158766317608392773"
     },
     "user_tz": 240
    },
    "id": "9ApCDqtt67tA",
    "vscode": {
     "languageId": "r"
    }
   },
   "outputs": [],
   "source": [
    "# Plot um mapa de calor de motifs enriquecidos\n",
    "heatmapEM <- plotEnrichHeatmap(enrichMotifs, n = 7, transpose = TRUE)\n",
    "ComplexHeatmap::draw(heatmapEM, heatmap_legend_side = \"bot\", annotation_legend_side = \"bot\")"
   ]
  },
  {
   "cell_type": "markdown",
   "metadata": {
    "id": "cddoI56t67tA"
   },
   "source": [
    "### 9.1. ChromVAR e visualização do desvio do motifs\n",
    "O ChromVAR, desenvolvido pelo laboratório Greenleaf, foi projetado para prever o enriquecimento da atividade do TF por célula a partir de dados esparsos de acessibilidade à cromatina.\n",
    "O ChromVAR calcula:\n",
    "1. Um \"desvio\", que é uma medida com correção de viés de até que ponto a acessibilidade por célula de uma determinada característica (ou seja, motifs) se desvia da acessibilidade esperada com base na média de todas as células ou amostras.\n",
    "2. Um \"z-score\" / \"deviation score\", que é o z-score para cada desvio com correção de viés em todas as células."
   ]
  },
  {
   "cell_type": "code",
   "execution_count": null,
   "metadata": {
    "executionInfo": {
     "elapsed": 4552610,
     "status": "aborted",
     "timestamp": 1690405518812,
     "user": {
      "displayName": "Adolfo Alexis Rojas Hidalgo",
      "userId": "18158766317608392773"
     },
     "user_tz": 240
    },
    "id": "rYgm5icu67tB",
    "vscode": {
     "languageId": "r"
    }
   },
   "outputs": [],
   "source": [
    "# Adicionar picos de plano de fundo\n",
    "project_Peaks <- addBgdPeaks(project_Peaks)\n",
    "\n",
    "# Calcular a matriz de desvios\n",
    "project_Peaks <- addDeviationsMatrix(ArchRProj = project_Peaks, peakAnnotation = \"Motif\",force = TRUE)\n",
    "\n",
    "# Plotar a variabilidade na acessibilidade do motif\n",
    "getVarDeviations(project_Peaks, name = \"MotifMatrix\", plot = TRUE)\n",
    "\n",
    "# Salve o projeto\n",
    "saveArchRProject(ArchRProj = project_Normalized,\n",
    "                 outputDirectory = file.path(getwd(),\"Analysis_scATACseq\"))"
   ]
  },
  {
   "cell_type": "markdown",
   "metadata": {
    "id": "1rUmcVTm67tB"
   },
   "source": [
    "Podemos exibir uma distribuição de marcadores"
   ]
  },
  {
   "cell_type": "code",
   "execution_count": null,
   "metadata": {
    "executionInfo": {
     "elapsed": 4552608,
     "status": "aborted",
     "timestamp": 1690405518812,
     "user": {
      "displayName": "Adolfo Alexis Rojas Hidalgo",
      "userId": "18158766317608392773"
     },
     "user_tz": 240
    },
    "id": "m-xDCq5B67tB",
    "vscode": {
     "languageId": "r"
    }
   },
   "outputs": [],
   "source": [
    "# Defina uma lista de motifs para analisar\n",
    "motifs <- c(\"FOS\", \"JUNB\")\n",
    "\n",
    "# Obtenha características de motifs da MotifMatrix que correspondam aos motifs selecionados\n",
    "markerMotifs <- getFeatures(\n",
    "  project_Peaks,\n",
    "  select = paste(motifs, \"_\", collapse = \"|\", sep = \"\"),\n",
    "  useMatrix = \"MotifMatrix\"\n",
    ")\n",
    "\n",
    "# Filtre as características de motifs para incluir apenas aquelas com o prefixo \"z:\"\n",
    "markerMotifs <- grep(\"z:\", markerMotifs, value = TRUE)\n",
    "\n",
    "# Adicione pesos de imputação ao projeto ArchR para suavizar a visualização de dados\n",
    "project_Peaks <- addImputeWeights(project_Peaks)\n",
    "\n",
    "# Gere gráficos de enriquecimento de motifs agrupados\n",
    "cowp <- plotGroups(\n",
    "  ArchRProj = project_Peaks,\n",
    "  groupBy = paste(\"Clusters\", slct.res, sep = \".\"),\n",
    "  colorBy = \"MotifMatrix\",\n",
    "  name = markerMotifs,\n",
    "  imputeWeights = getImputeWeights(project_Peaks)\n",
    ")\n",
    "\n",
    "# Organizar gráficos em um layout de grade com duas colunas\n",
    "do.call(cowplot::plot_grid, c(list(ncol = 2), cowp))"
   ]
  },
  {
   "cell_type": "markdown",
   "metadata": {
    "id": "omk8UBxn67tC"
   },
   "source": [
    "Ou visualize o desvio do motivo no UMAP (e veja se o desvio do motivo se correlaciona com a pontuação do gene TF)"
   ]
  },
  {
   "cell_type": "code",
   "execution_count": null,
   "metadata": {
    "executionInfo": {
     "elapsed": 4552607,
     "status": "aborted",
     "timestamp": 1690405518812,
     "user": {
      "displayName": "Adolfo Alexis Rojas Hidalgo",
      "userId": "18158766317608392773"
     },
     "user_tz": 240
    },
    "id": "aCpegir267tC",
    "vscode": {
     "languageId": "r"
    }
   },
   "outputs": [],
   "source": [
    "# Plotar o enriquecimento de motifs na incorporação UMAP\n",
    "motif.umap <- plotEmbedding(\n",
    "  ArchRProj = project_Peaks,\n",
    "  colorBy = \"MotifMatrix\",\n",
    "  name = sort(markerMotifs),\n",
    "  embedding = \"UMAP\",\n",
    "  imputeWeights = getImputeWeights(project_Peaks)\n",
    ")\n",
    "\n",
    "# Exibir gráficos UMAP de motifs em um layout de grade\n",
    "do.call(cowplot::plot_grid, c(list(ncol = 2), motif.umap))\n",
    "\n",
    "# Recuperar características de atividade gênica relacionadas aos motifs selecionados\n",
    "markerRNA <- getFeatures(\n",
    "  project_Peaks,\n",
    "  select = paste(motifs, \"$\", collapse = \"|\", sep = \"\"),\n",
    "  useMatrix = \"GeneScoreMatrix\"\n",
    ")\n",
    "\n",
    "# Plotar o enriquecimento da matriz de pontuação gênica na incorporação UMAP\n",
    "gene.umap <- plotEmbedding(\n",
    "  ArchRProj = project_Peaks,\n",
    "  colorBy = \"GeneScoreMatrix\",\n",
    "  name = sort(markerRNA),\n",
    "  embedding = \"UMAP\",\n",
    "  imputeWeights = getImputeWeights(project_Peaks)\n",
    ")\n",
    "\n",
    "# Exibir gráficos UMAP de GeneScore em um layout de grade\n",
    "do.call(cowplot::plot_grid, c(list(ncol = 2), gene.umap))"
   ]
  },
  {
   "cell_type": "markdown",
   "metadata": {
    "id": "-xDUH7WK67tD"
   },
   "source": [
    "### 9.2. Teste em pares entre clusters\n",
    "Podemos identificar o enriquecimento de motifs entre dois clusters (com base na acessibilidade diferencial dos picos entre esses dois clusters)."
   ]
  },
  {
   "cell_type": "code",
   "execution_count": null,
   "metadata": {
    "executionInfo": {
     "elapsed": 4552605,
     "status": "aborted",
     "timestamp": 1690405518812,
     "user": {
      "displayName": "Adolfo Alexis Rojas Hidalgo",
      "userId": "18158766317608392773"
     },
     "user_tz": 240
    },
    "id": "-ZOPmm-J67tD",
    "vscode": {
     "languageId": "r"
    }
   },
   "outputs": [],
   "source": [
    "slct.Cl1=\"C9\"\n",
    "slct.Cl2=\"C11\"\n",
    "\n",
    "# Executar análise diferencial entre C9 e C11\n",
    "markerTest <- getMarkerFeatures(ArchRProj = project_Peaks,\n",
    "                                useMatrix = \"PeakMatrix\",\n",
    "                                groupBy = paste(\"Clusters\",slct.res,sep=\".\"),\n",
    "                                testMethod = \"wilcoxon\",\n",
    "                                bias = c(\"TSSEnrichment\", \"log10(nFrags)\"),\n",
    "                                useGroups = slct.Cl1, bgdGroups = slct.Cl2)\n",
    "\n",
    "# Gerar gráficos de MA e Vulcão\n",
    "map.Cl1vCl2 <- markerPlot(seMarker = markerTest, name = slct.Cl1,\n",
    "                        cutOff = \"FDR <= 0.1 & abs(Log2FC) >= 1\",\n",
    "                        plotAs = \"MA\")\n",
    "vp.Cl1vCl2 <- markerPlot(seMarker = markerTest, name = slct.Cl1,\n",
    "                       cutOff = \"FDR <= 0.1 & abs(Log2FC) >= 1\",\n",
    "                       plotAs = \"Volcano\")\n",
    "\n",
    "map.Cl1vCl2 | vp.Cl1vCl2\n"
   ]
  },
  {
   "cell_type": "markdown",
   "metadata": {
    "id": "W6MwTSEA67tD"
   },
   "source": [
    "Enriquecimento positivo do motif e enriquecimento negativo do motif (com base no teste de pares entre clusters)"
   ]
  },
  {
   "cell_type": "code",
   "execution_count": null,
   "metadata": {
    "executionInfo": {
     "elapsed": 4552604,
     "status": "aborted",
     "timestamp": 1690405518812,
     "user": {
      "displayName": "Adolfo Alexis Rojas Hidalgo",
      "userId": "18158766317608392773"
     },
     "user_tz": 240
    },
    "id": "JmEuQWPx67tE",
    "vscode": {
     "languageId": "r"
    }
   },
   "outputs": [],
   "source": [
    "# Identificar motifs significativamente enriquecidos em picos com maior acessibilidade\n",
    "motifsUp <- peakAnnoEnrichment(ArchRProj = project_Peaks,\n",
    "                               seMarker = markerTest,\n",
    "                               peakAnnotation = \"Motif\",\n",
    "                               cutOff = \"FDR <= 0.1 & Log2FC >= 0.5\") # Selecionar motifs com FDR significativo e Log2FC >= 0.5\n",
    "\n",
    "# Criar um quadro de dados com nomes de motifs e valores de p ajustados por -log10\n",
    "df <- data.frame(TF = rownames(motifsUp), mlog10Padj = assay(motifsUp)[,1])\n",
    "df <- df[order(df$mlog10Padj, decreasing = TRUE),] # Ordenar por significância\n",
    "df$rank <- seq_len(nrow(df)) # Atribuir classificação com base na significância\n",
    "\n",
    "# Plotar motivos de TF enriquecidos com legendas\n",
    "ggUp <- ggplot(df, aes(rank, mlog10Padj, color = mlog10Padj)) +\n",
    "    geom_point(size = 1) + ggrepel::geom_label_repel(\n",
    "        data = df[rev(seq_len(30)), ], aes(x = rank, y = mlog10Padj, label = TF),\n",
    "        size = 1.5, nudge_x = 2, color = \"black\") + theme_ArchR() +\n",
    "        ylab(\"-log10(P-adj) Motif Enrichment\") + xlab(\"Rank Sorted TFs Enriched\") +\n",
    "        scale_color_gradientn(colors = paletteContinuous(set = \"comet\"))\n",
    "\n",
    "# Identificar motifs significativamente enriquecidos em picos com acessibilidade reduzida\n",
    "motifsDo <- peakAnnoEnrichment(ArchRProj = project_Peaks,\n",
    "                               seMarker = markerTest,\n",
    "                               peakAnnotation = \"Motif\",\n",
    "                               cutOff = \"FDR <= 0.1 & Log2FC <= -0.5\") # Selecionar motifs com Log2FC <= -0,5\n",
    "\n",
    "df <- data.frame(TF = rownames(motifsDo), mlog10Padj = assay(motifsDo)[,1])\n",
    "df <- df[order(df$mlog10Padj, decreasing = TRUE),] # Ordenar por significância\n",
    "df$rank <- seq_len(nrow(df)) # Atribuir classificação\n",
    "\n",
    "# Plotar TF motifs que perdem acessibilidade\n",
    "ggDo <- ggplot(df, aes(rank, mlog10Padj, color = mlog10Padj)) +\n",
    "    geom_point(size = 1) + ggrepel::geom_label_repel(\n",
    "        data = df[rev(seq_len(30)), ], aes(x = rank, y = mlog10Padj, label = TF),\n",
    "        size = 1.5, nudge_x = 2, color = \"black\") + theme_ArchR() +\n",
    "        ylab(\"-log10(FDR) Motif Enrichment\") + xlab(\"Rank Sorted TFs Enriched\") +\n",
    "        scale_color_gradientn(colors = paletteContinuous(set = \"comet\"))\n",
    "\n",
    "# Combinar ambos os gráficos\n",
    "ggUp | ggDo"
   ]
  },
  {
   "cell_type": "markdown",
   "metadata": {
    "id": "GZvn5y1G67tE"
   },
   "source": [
    "## 10. Identificação de Reguladores TF Positivos\n",
    "Embora o ATAC-seq permita a identificação imparcial de TFs, famílias de TFs compartilham motivos semelhantes quando vistas em conjunto.\n",
    "Isso dificulta a identificação de TFs específicos que possam ser responsáveis ​​pelas alterações observadas na acessibilidade da cromatina aos seus sítios de ligação previstos. Para contornar esse problema, o ArchR identifica TFs cuja expressão gênica (Gene Score) está positivamente correlacionada com alterações na acessibilidade do seu motivo correspondente (desvio do motif obtido usando ChromVAR)."
   ]
  },
  {
   "cell_type": "markdown",
   "metadata": {
    "id": "deWbaULMh9aE"
   },
   "source": [
    "### Etapa 1. Identificar TF motifs desviantes"
   ]
  },
  {
   "cell_type": "code",
   "execution_count": null,
   "metadata": {
    "executionInfo": {
     "elapsed": 4551217,
     "status": "aborted",
     "timestamp": 1690405518813,
     "user": {
      "displayName": "Adolfo Alexis Rojas Hidalgo",
      "userId": "18158766317608392773"
     },
     "user_tz": 240
    },
    "id": "DhRyv1v567tF",
    "vscode": {
     "languageId": "r"
    }
   },
   "outputs": [],
   "source": [
    "# Extrair pontuações de desvio de motif agrupadas por clusters\n",
    "seGroupMotif <- getGroupSE(ArchRProj = project_Peaks, useMatrix = \"MotifMatrix\", groupBy = paste(\"Clusters\", slct.res, sep=\".\"))\n",
    "\n",
    "# Extrair apenas desvios de Z-score\n",
    "seZ <- seGroupMotif[rowData(seGroupMotif)$seqnames == \"z\",]\n",
    "\n",
    "# Calcular o delta máximo no Z-score em todos os clusters\n",
    "rowData(seZ)$maxDelta <- lapply(seq_len(ncol(seZ)), function(x){\n",
    "  rowMaxs(assay(seZ) - assay(seZ)[,x])\n",
    "}) %>% Reduce(\"cbind\", .) %>% rowMaxs"
   ]
  },
  {
   "cell_type": "markdown",
   "metadata": {
    "id": "E7CVxkSM67tF"
   },
   "source": [
    "### Parte 2. Identificar TF motifs correlacionados e Gene Score/Expressão do gene"
   ]
  },
  {
   "cell_type": "code",
   "execution_count": null,
   "metadata": {
    "executionInfo": {
     "elapsed": 4551214,
     "status": "aborted",
     "timestamp": 1690405518813,
     "user": {
      "displayName": "Adolfo Alexis Rojas Hidalgo",
      "userId": "18158766317608392773"
     },
     "user_tz": 240
    },
    "id": "1fUFF8ks67tF",
    "vscode": {
     "languageId": "r"
    }
   },
   "outputs": [],
   "source": [
    "# Calcular correlações entre Gene Scores e desvios de motifs\n",
    "corGSM_MM <- correlateMatrices(\n",
    "    ArchRProj = project_Peaks,\n",
    "    useMatrix1 = \"GeneScoreMatrix\",\n",
    "    useMatrix2 = \"MotifMatrix\",\n",
    "    reducedDims = \"Harmony\" # Também pode usar IterativeLSI\n",
    ")\n",
    "\n",
    "# Exibir as principais correlações\n",
    "head(corGSM_MM, 15)"
   ]
  },
  {
   "cell_type": "markdown",
   "metadata": {
    "id": "CvgKCLWS67tG"
   },
   "source": [
    "### Parte 3. Adicione o desvio delta máximo ao quadro de dados de correlação"
   ]
  },
  {
   "cell_type": "code",
   "execution_count": null,
   "metadata": {
    "executionInfo": {
     "elapsed": 4551213,
     "status": "aborted",
     "timestamp": 1690405518813,
     "user": {
      "displayName": "Adolfo Alexis Rojas Hidalgo",
      "userId": "18158766317608392773"
     },
     "user_tz": 240
    },
    "id": "qsCC26_S67tG",
    "vscode": {
     "languageId": "r"
    }
   },
   "outputs": [],
   "source": [
    "# Anotar motifs com o delta máximo observado entre os clusters\n",
    "corGSM_MM$maxDelta <- rowData(seZ)[match(corGSM_MM$MotifMatrix_name, rowData(seZ)$name), \"maxDelta\"]"
   ]
  },
  {
   "cell_type": "markdown",
   "metadata": {
    "id": "bh--roNM67tH"
   },
   "source": [
    "### Parte 4. Identificar reguladores de TF positivos"
   ]
  },
  {
   "cell_type": "code",
   "execution_count": null,
   "metadata": {
    "executionInfo": {
     "elapsed": 4551211,
     "status": "aborted",
     "timestamp": 1690405518813,
     "user": {
      "displayName": "Adolfo Alexis Rojas Hidalgo",
      "userId": "18158766317608392773"
     },
     "user_tz": 240
    },
    "id": "G8G7bIo967tH",
    "vscode": {
     "languageId": "r"
    }
   },
   "outputs": [],
   "source": [
    "# Classificar por correlação absoluta e remover motifs duplicados\n",
    "corGSM_MM <- corGSM_MM[order(abs(corGSM_MM$cor), decreasing = TRUE), ]\n",
    "corGSM_MM <- corGSM_MM[which(!duplicated(gsub(\"\\\\-.*\", \"\", corGSM_MM[,\"MotifMatrix_name\"]))), ]\n",
    "\n",
    "# Classificar TFs como positivos (PLUS), negativos (NEG) ou neutros (NO)\n",
    "corGSM_MM$TFRegulator <- \"NO\"\n",
    "corGSM_MM$TFRegulator[which(corGSM_MM$cor > 0.1 & corGSM_MM$padj < 0.01 & corGSM_MM$maxDelta > quantile(corGSM_MM$maxDelta, 0.75))] <- \"PLUS\"\n",
    "corGSM_MM$TFRegulator[which(corGSM_MM$cor < (-0.1) & corGSM_MM$padj < 0.01 & corGSM_MM$maxDelta > quantile(corGSM_MM$maxDelta, 0.75))] <- \"NEG\"\n",
    "\n",
    "# Gráfico de dispersão de correlação vs. delta máximo\n",
    "ggplot(data.frame(corGSM_MM), aes(cor, maxDelta, color = TFRegulator)) +\n",
    "  geom_point() +\n",
    "  theme_ArchR() +\n",
    "  geom_vline(xintercept = 0, lty = \"dashed\") +\n",
    "  scale_color_manual(values = c(\"NO\"=\"darkgrey\", \"PLUS\"=\"firebrick3\", \"NEG\"=\"royalblue1\")) +\n",
    "  xlab(\"Correlation To Gene Score\") +\n",
    "  ylab(\"Max TF Motif Delta\") +\n",
    "  scale_y_continuous(\n",
    "    expand = c(0,0),\n",
    "    limits = c(0, max(corGSM_MM$maxDelta)*1.05)\n",
    "  )\n",
    "\n",
    "# Exibir os principais reguladores\n",
    "head(as.matrix(sort(corGSM_MM[corGSM_MM$TFRegulator==\"PLUS\", c(\"GeneScoreMatrix_name\", \"MotifMatrix_name\", \"cor\", \"padj\", \"maxDelta\")])), 15)\n",
    "head(as.matrix(sort(corGSM_MM[corGSM_MM$TFRegulator==\"NEG\", c(\"GeneScoreMatrix_name\", \"MotifMatrix_name\", \"cor\", \"padj\", \"maxDelta\")])), 5)"
   ]
  },
  {
   "cell_type": "markdown",
   "metadata": {
    "id": "avs_VbGC67tH"
   },
   "source": [
    "## 11. Coacessibilidade\n",
    "Para estudar como os genes são regulados (ligações promotoras e links potenciadores), o ArchR propõe a análise de coacessibilidade.\n",
    "A coacessibilidade é uma correlação na acessibilidade entre dois picos em várias células isoladas. Em outras palavras, quando o Pico A é acessível em uma única célula, o Pico B frequentemente também é acessível.\n",
    "Por exemplo, a coacessibilidade permite visualizar o(s) potenciador(es) ligado(s) ao promotor do gene.\n",
    "<center>\n",
    "\n",
    "![<i><font size=1 color=\"grey\">from ArchR manual</font></i>](./Figures/ArchR_Coaccessibility.png){width=50% height=50%}\n",
    "\n",
    "</center>\n",
    "Observações: A análise de coacessibilidade identifica picos específicos do tipo celular. Embora esses picos sejam frequentemente acessíveis juntos dentro de um único tipo celular (e frequentemente não sejam acessíveis em todos os outros tipos celulares), isso não explica necessariamente uma relação regulatória entre esses picos.\n"
   ]
  },
  {
   "cell_type": "code",
   "execution_count": null,
   "metadata": {
    "executionInfo": {
     "elapsed": 4549607,
     "status": "aborted",
     "timestamp": 1690405518813,
     "user": {
      "displayName": "Adolfo Alexis Rojas Hidalgo",
      "userId": "18158766317608392773"
     },
     "user_tz": 240
    },
    "id": "X_o6cRPq67tI",
    "vscode": {
     "languageId": "r"
    }
   },
   "outputs": [],
   "source": [
    "# Adicionar análise de coacessibilidade ao projeto ArchR usando dimensões Harmony\n",
    "project_Peaks <- addCoAccessibility(ArchRProj = project_Peaks, reducedDims = \"Harmony\")\n",
    "\n",
    "# Recuperar interações de coacessibilidade com limite de correlação e resolução\n",
    "cA <- getCoAccessibility(\n",
    "  ArchRProj = project_Peaks,\n",
    "  corCutOff = 0.5,\n",
    "  resolution = 10000,\n",
    "  returnLoops = TRUE\n",
    ")\n",
    "\n",
    "# Exibir as primeiras 10 interações de coacessibilidade\n",
    "head(cA$CoAccessibility, 10)\n",
    "\n",
    "# Gerar uma visualização de rastreamento do navegador do genoma para os genes marcadores selecionados\n",
    "p <- plotBrowserTrack(\n",
    "  ArchRProj = project_Peaks,\n",
    "  groupBy = paste(\"Clusters\", slct.res, sep = \".\"),\n",
    "  geneSymbol = markerGenes,\n",
    "  upstream = 50000,  # Estender 50kb upstream\n",
    "  downstream = 50000,  # Estender 50kb downstream\n",
    "  loops = getCoAccessibility(project_Peaks)\n",
    ")\n",
    "\n",
    "# Renderizar o gráfico do navegador do genoma\n",
    "grid::grid.newpage()\n",
    "grid::grid.draw(p$CD8A)"
   ]
  },
  {
   "cell_type": "markdown",
   "metadata": {
    "id": "ao6j09UL67tI"
   },
   "source": [
    "## 12. Footprinting\n",
    "\n",
    "O footprinting do fator de transcrição permite a previsão do local preciso de ligação de um TF em um locus específico. Isso ocorre porque as bases de DNA diretamente ligadas ao TF são, na verdade, protegidas da transposição, enquanto as bases de DNA imediatamente adjacentes à ligação do TF são acessíveis."
   ]
  },
  {
   "cell_type": "code",
   "execution_count": null,
   "metadata": {
    "executionInfo": {
     "elapsed": 4546107,
     "status": "aborted",
     "timestamp": 1690405518813,
     "user": {
      "displayName": "Adolfo Alexis Rojas Hidalgo",
      "userId": "18158766317608392773"
     },
     "user_tz": 240
    },
    "id": "oyekL4lk67tJ",
    "vscode": {
     "languageId": "r"
    }
   },
   "outputs": [],
   "source": [
    "# Obter posições dos motif\n",
    "motifPositions <- getPositions(project_Peaks)\n",
    "\n",
    "# Remover o prefixo 'z:' dos nomes dos motif\n",
    "markerMotifs <- gsub(\"z:\", \"\", markerMotifs)\n",
    "\n",
    "# Calcular as pegadas dos motifs\n",
    "seFoot <- getFootprints(\n",
    "  ArchRProj = project_Peaks,\n",
    "  positions = motifPositions[markerMotifs],\n",
    "  groupBy = paste(\"Clusters\", slct.res, sep=\".\")\n",
    ")\n",
    "\n",
    "# Plotar pegadas com correção de viés\n",
    "plotFootprints(seFoot = seFoot,\n",
    "               ArchRProj = project_Peaks,\n",
    "               normMethod = \"Subtract\", # Options: Divide, None\n",
    "               plotName = paste(\"Footprints-Subtract-Bias\", slct.res, \"cisbp\", sep=\".\"),\n",
    "               addDOC = FALSE,\n",
    "               smoothWindow = 5)"
   ]
  },
  {
   "cell_type": "markdown",
   "metadata": {
    "id": "whg7dcp667tJ"
   },
   "source": [
    "## 13. Análise de Trajetória\n",
    "\n",
    "O ArchR propõe criar uma trajetória celular que aproxima a diferenciação de um cluster celular do outro.\n",
    "Após a definição da estrutura da trajetória, que consiste em um vetor ordenado de legendas de grupos celulares, o ArchR identifica um valor pseudotemporal para cada célula na trajetória.\n",
    "Nos resultados, o ArchR fornece UMAPs para visualizar a trajetória pseudotemporal e mapas de calor para rastrear sinais de pico/padrão/gene em função da pseudotemporalidade."
   ]
  },
  {
   "cell_type": "markdown",
   "metadata": {
    "id": "fhJoEKUAiFOy"
   },
   "source": [
    "### 13.1. Construção da trajetória\n",
    "\n",
    "Primeiramente, o ArchR produz um valor de pseudotempo para cada célula da trajetória, que pode ser visualizado no UMAP e usado para exibir um arrow que aproxima o caminho da trajetória a partir do ajuste de spline."
   ]
  },
  {
   "cell_type": "code",
   "execution_count": null,
   "metadata": {
    "executionInfo": {
     "elapsed": 4544628,
     "status": "aborted",
     "timestamp": 1690405518813,
     "user": {
      "displayName": "Adolfo Alexis Rojas Hidalgo",
      "userId": "18158766317608392773"
     },
     "user_tz": 240
    },
    "id": "iXAooS0z67tK",
    "vscode": {
     "languageId": "r"
    }
   },
   "outputs": [],
   "source": [
    "# Definir uma trajetória (ex.: C9 a C11)\n",
    "trajectory <- c(\"C9\",\"C11\")\n",
    "traj.name <- \"TF.C9.C11\"\n",
    "\n",
    "# Adicionar uma trajetória ao projeto\n",
    "project_Peaks <- addTrajectory(\n",
    "    ArchRProj = project_Peaks,\n",
    "    name = traj.name,\n",
    "    groupBy = paste(\"Clusters\", slct.res, sep=\".\"),\n",
    "    trajectory = trajectory,\n",
    "    embedding = \"UMAP\",\n",
    "    force = TRUE\n",
    ")\n",
    "\n",
    "# Plotar a trajetória\n",
    "plotTraj <- plotTrajectory(project_Peaks, trajectory = traj.name, colorBy = \"cellColData\", name = traj.name, embedding = \"UMAP\")\n",
    "plotTraj[[1]]"
   ]
  },
  {
   "cell_type": "markdown",
   "metadata": {
    "id": "oXzmE8vd67tK"
   },
   "source": [
    "### 13.2. Observação de genes específicos\n",
    "\n",
    "É possível visualizar essa trajetória, mas colorir as células com base em um valor específico de Gene Score."
   ]
  },
  {
   "cell_type": "code",
   "execution_count": null,
   "metadata": {
    "executionInfo": {
     "elapsed": 4544626,
     "status": "aborted",
     "timestamp": 1690405518814,
     "user": {
      "displayName": "Adolfo Alexis Rojas Hidalgo",
      "userId": "18158766317608392773"
     },
     "user_tz": 240
    },
    "id": "4fE5A4mI67tL",
    "vscode": {
     "languageId": "r"
    }
   },
   "outputs": [],
   "source": [
    "# Plotar a trajetória do gene CD4 usando o GeneScoreMatrix, visualizado em uma incorporação UMAP\n",
    "p_gene <- plotTrajectory(project_Peaks, trajectory = traj.name, colorBy = \"GeneScoreMatrix\", \n",
    "                         name = \"CD4\", continuousSet = \"horizonExtra\", embedding = \"UMAP\")\n",
    "\n",
    "# Exibir os dois primeiros gráficos de trajetória lado a lado\n",
    "p_gene[[1]] | p_gene[[2]]"
   ]
  },
  {
   "cell_type": "markdown",
   "metadata": {
    "id": "6S4gNRO-67tL"
   },
   "source": [
    "### 13.3 Mapas de calor em pseudotempo\n",
    "\n",
    "Finalmente, o ArchR permite a execução de mapas de calor para visualizar mudanças em diversas características (picos, pontuações genéticas ou motivos) ao longo do pseudotempo."
   ]
  },
  {
   "cell_type": "code",
   "execution_count": null,
   "metadata": {
    "executionInfo": {
     "elapsed": 4544624,
     "status": "aborted",
     "timestamp": 1690405518814,
     "user": {
      "displayName": "Adolfo Alexis Rojas Hidalgo",
      "userId": "18158766317608392773"
     },
     "user_tz": 240
    },
    "id": "gkLjz-GO67tM",
    "vscode": {
     "languageId": "r"
    }
   },
   "outputs": [],
   "source": [
    "# Obter a trajetória do Gene Score (normalizada com log2)\n",
    "trajGSM <- getTrajectory(ArchRProj = project_Peaks, name = traj.name, useMatrix = \"GeneScoreMatrix\", log2Norm = TRUE)\n",
    "\n",
    "# Plotar o mapa de calor para a trajetória do Gene Score com a paleta de cores \"horizonExtra\"\n",
    "p_trajGSM <- plotTrajectoryHeatmap(trajGSM, pal = paletteContinuous(set = \"horizonExtra\"))\n",
    "\n",
    "# Gerar a matriz do mapa de calor para a trajetória do Gene Score\n",
    "p_trajGSM.matrix <- plotTrajectoryHeatmap(trajGSM, pal = paletteContinuous(set = \"horizonExtra\"), returnMatrix = TRUE)\n",
    "\n",
    "# Obter a trajetória de acessibilidade de pico (normalizada com log2)\n",
    "trajPM  <- getTrajectory(ArchRProj = project_Peaks, name = traj.name, useMatrix = \"PeakMatrix\", log2Norm = TRUE)\n",
    "\n",
    "# Plotar mapa de calor para a trajetória de pico de acessibilidade com a paleta de cores \"solarExtra\"\n",
    "p_trajPM <- plotTrajectoryHeatmap(trajPM, pal = paletteContinuous(set = \"solarExtra\"))\n",
    "\n",
    "# Gerar matriz de mapa de calor para a trajetória de pico de acessibilidade\n",
    "p_trajPM.matrix <- plotTrajectoryHeatmap(trajPM, pal = paletteContinuous(set = \"solarExtra\"), returnMatrix = TRUE)\n",
    "\n",
    "# Obter a trajetória de atividade do motif (sem normalização log2)\n",
    "trajMM  <- getTrajectory(ArchRProj = project_Peaks, name = traj.name, useMatrix = \"MotifMatrix\", log2Norm = FALSE)\n",
    "\n",
    "# Plotar mapa de calor para a trajetória de atividade do motif com a paleta de cores \"solarExtra\"\n",
    "p_trajMM <- plotTrajectoryHeatmap(trajMM, pal = paletteContinuous(set = \"solarExtra\"))\n",
    "\n",
    "# Gerar Matriz de mapa de calor para a trajetória da atividade do motif\n",
    "p_trajMM.matrix <- plotTrajectoryHeatmap(trajMM, pal = paletteContinuous(set = \"solarExtra\"), returnMatrix = TRUE)\n",
    "\n",
    "# Exibir os mapas de calor\n",
    "p_trajGSM\n",
    "p_trajPM\n",
    "p_trajMM"
   ]
  },
  {
   "cell_type": "markdown",
   "metadata": {
    "id": "4yoiESAD67tP"
   },
   "source": [
    "### 13.3. Análise integrativa de pseudotempo\n",
    "\n",
    "Como demonstrado anteriormente, o ArchR também permite realizar análises integrativas para identificar TF positivos usando escores genéticos e acessibilidade de motivos ao longo do pseudotempo, acompanhar sua variabilidade ao longo do pseudotempo e compreender seu papel nessa trajetória. Para isso, o ArchR propõe usar a função correlateTrajectories(), que recebe dois objetos SummarizedExperiment obtidos da função getTrajectories(), que obtivemos anteriormente.\n",
    "\n",
    "* Passo 1. Identificar e selecionar os motivos cuja pontuação genética e acessibilidade de motivos de TF estão correlacionados:"
   ]
  },
  {
   "cell_type": "code",
   "execution_count": null,
   "metadata": {
    "executionInfo": {
     "elapsed": 4544622,
     "status": "aborted",
     "timestamp": 1690405518814,
     "user": {
      "displayName": "Adolfo Alexis Rojas Hidalgo",
      "userId": "18158766317608392773"
     },
     "user_tz": 240
    },
    "id": "-yhEyl1x67tP",
    "vscode": {
     "languageId": "r"
    }
   },
   "outputs": [],
   "source": [
    "# Calcular a correlação entre a trajetória da pontuação genética (trajGSM) e a trajetória do motif (trajMM)\n",
    "# Utilizar critérios de baixa stringência: ponto de corte de correlação de 0,2, pontos de corte de variância de 0,5 para ambas as matrizes\n",
    "corGSM_MM <- correlateTrajectories(trajGSM, trajMM, \n",
    "                                   corCutOff = 0.2, varCutOff1 = 0.5, varCutOff2 = 0.5)\n",
    "\n",
    "# Filtrar as trajetórias do Gene Score e do motif com base nos resultados de correlação\n",
    "flt_trajGSM <- trajGSM[corGSM_MM[[1]]$name1, ]\n",
    "flt_trajMM <- trajMM[corGSM_MM[[1]]$name2, ]"
   ]
  },
  {
   "cell_type": "markdown",
   "metadata": {
    "id": "BEvGNRsN67tQ"
   },
   "source": [
    "* Parte 2. Crie uma nova trajetória e visualize lado a lado o motivo TF com base na pontuação genética e no enriquecimento do motivo TF:"
   ]
  },
  {
   "cell_type": "code",
   "execution_count": null,
   "metadata": {
    "executionInfo": {
     "elapsed": 4544620,
     "status": "aborted",
     "timestamp": 1690405518814,
     "user": {
      "displayName": "Adolfo Alexis Rojas Hidalgo",
      "userId": "18158766317608392773"
     },
     "user_tz": 240
    },
    "id": "Sn9F6ux267tQ",
    "vscode": {
     "languageId": "r"
    }
   },
   "outputs": [],
   "source": [
    "# Crie um objeto de trajetória combinada usando a trajetória de Gene Score filtrada (flt_trajGSM)\n",
    "combinedTraj <- flt_trajGSM\n",
    "\n",
    "# Normalize e combine a trajetória de Gene Score (flt_trajGSM) e a trajetória do motif (flt_trajMM)\n",
    "# - Escalone cada linha (gene/motif) separadamente para ambas as matrizes\n",
    "# - Transponha o resultado e adicione-os para integrar informações de ambas as fontes\n",
    "assay(combinedTraj, withDimnames=FALSE) <- t(apply(assay(flt_trajGSM), 1, scale)) + \n",
    "                                           t(apply(assay(flt_trajMM), 1, scale))\n",
    "\n",
    "# Gere uma matriz de mapa de calor a partir da trajetória combinada\n",
    "# - returnMat = TRUE retorna a matriz em vez de plotar\n",
    "# - varCutOff = 0 garante que não haja filtragem baseada em variância\n",
    "combinedMat <- plotTrajectoryHeatmap(combinedTraj, returnMat = TRUE, varCutOff = 0)\n",
    "\n",
    "# Determina a ordem das linhas (genes/motifs) na matriz combinada\n",
    "rowOrder <- match(rownames(combinedMat), rownames(flt_trajGSM))\n",
    "\n",
    "# Plotar o mapa de calor para a trajetória da pontuação genética, mantendo a ordem das linhas consistente com a matriz combinada\n",
    "ht_GSM <- plotTrajectoryHeatmap(flt_trajGSM, pal = paletteContinuous(set = \"horizonExtra\"),  \n",
    "                                varCutOff = 0, rowOrder = rowOrder)\n",
    "\n",
    "# Plotar o mapa de calor para a trajetória do motif, mantendo a ordem das linhas consistente com a matriz combinada\n",
    "ht_MM <- plotTrajectoryHeatmap(flt_trajMM, pal = paletteContinuous(set = \"solarExtra\"), \n",
    "                               varCutOff = 0, rowOrder = rowOrder)\n",
    "\n",
    "# Exibir os dois mapas de calor lado a lado para comparação\n",
    "ht_GSM + ht_MM\n"
   ]
  },
  {
   "cell_type": "markdown",
   "metadata": {
    "id": "1QdXdkkF67tQ"
   },
   "source": [
    "# Informações da sessão"
   ]
  },
  {
   "cell_type": "code",
   "execution_count": null,
   "metadata": {
    "executionInfo": {
     "elapsed": 4542942,
     "status": "aborted",
     "timestamp": 1690405518814,
     "user": {
      "displayName": "Adolfo Alexis Rojas Hidalgo",
      "userId": "18158766317608392773"
     },
     "user_tz": 240
    },
    "id": "pG_hWrQ267tR",
    "vscode": {
     "languageId": "r"
    }
   },
   "outputs": [],
   "source": [
    "# Exibir informações da sessão para rastrear versões de pacotes\n",
    "sessionInfo()"
   ]
  }
 ],
 "metadata": {
  "anaconda-cloud": "",
  "colab": {
   "collapsed_sections": [
    "YUGMvNhS67si",
    "czlwG2Kj67sj",
    "QXrfWICGif6w",
    "NGja-Ldz67sw",
    "Y3sQj-nr67sy",
    "i4qJbc6D67sz",
    "fdcPe0iF67s1",
    "nh7kBGEl67s4",
    "Mumkz81uhz6x",
    "GZvn5y1G67tE",
    "deWbaULMh9aE",
    "CvgKCLWS67tG",
    "bh--roNM67tH",
    "avs_VbGC67tH",
    "whg7dcp667tJ"
   ],
   "provenance": [
    {
     "file_id": "1oIOmcjhz_Pphp6k8TzekELl1AESEUew9",
     "timestamp": 1684465304874
    }
   ]
  },
  "kernelspec": {
   "display_name": "R",
   "langauge": "R",
   "name": "ir"
  },
  "language_info": {
   "codemirror_mode": "r",
   "file_extension": ".r",
   "mimetype": "text/x-r-source",
   "name": "R",
   "pygments_lexer": "r",
   "version": "3.4.1"
  }
 },
 "nbformat": 4,
 "nbformat_minor": 0
}
