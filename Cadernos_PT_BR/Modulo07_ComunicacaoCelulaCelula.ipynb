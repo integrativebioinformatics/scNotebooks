{
 "cells": [
  {
   "cell_type": "markdown",
   "metadata": {},
   "source": [
    "# Decifrando a Comunicação Célula-Célula em Dados Transcriptômicos de Células Únicas"
   ]
  },
  {
   "cell_type": "markdown",
   "metadata": {},
   "source": [
    "## Instale a bibliotecas necessárias"
   ]
  },
  {
   "cell_type": "code",
   "execution_count": null,
   "metadata": {},
   "outputs": [],
   "source": [
    "# Baixe um script de shell para adicionar repositórios CRAN ao Ubuntu Jammy\n",
    "download.file(\"https://github.com/eddelbuettel/r2u/raw/master/inst/scripts/add_cranapt_jammy.sh\",\n",
    "              \"add_cranapt_jammy.sh\")\n",
    "# Altere a permissão do arquivo para torná-lo executável\n",
    "Sys.chmod(\"add_cranapt_jammy.sh\", \"0755\")\n",
    "# Execute the shell script\n",
    "system(\"./add_cranapt_jammy.sh\")\n",
    "\n",
    "# Habilite o Binary Package Manager (bspm) para gerenciar pacotes do sistema e o CRAN\n",
    "bspm::enable()\n",
    "options(bspm.version.check=FALSE)"
   ]
  },
  {
   "cell_type": "markdown",
   "metadata": {},
   "source": [
    "Vamos criar uma função R para realizar as chamadas do sistema"
   ]
  },
  {
   "cell_type": "code",
   "execution_count": null,
   "metadata": {},
   "outputs": [],
   "source": [
    "# Defina uma função para executar comandos shell e imprimir a saída\n",
    "shell_call <- function(command, ...) {\n",
    "  result <- system(command, intern = TRUE, ...)\n",
    "  cat(paste0(result, collapse = \"\\n\"))\n",
    "}"
   ]
  },
  {
   "cell_type": "markdown",
   "metadata": {},
   "source": [
    "Instale os pacotes necessários"
   ]
  },
  {
   "cell_type": "code",
   "execution_count": null,
   "metadata": {},
   "outputs": [],
   "source": [
    "# Instalar pacotes R necessários\n",
    "install.packages(\"R.utils\")\n",
    "# Instalar Seurat Wrappers do GitHub (comentado)\n",
    "# remotes::install_github('satijalab/seurat-wrappers@d28512f804d5fe05e6d68900ca9221020d52cf1d', upgrade=F)\n",
    "\n",
    "# Instale o BiocManager se ainda não estiver instalado\n",
    "if (!require(\"BiocManager\", quietly = TRUE))\n",
    "    install.packages(\"BiocManager\", quiet = T)\n",
    "\n",
    "# Instale o Harmony e o LIANA do GitHub\n",
    "install.packages(\"harmony\")\n",
    "remotes::install_github('saezlab/liana', upgrade=F)"
   ]
  },
  {
   "cell_type": "markdown",
   "metadata": {},
   "source": [
    "## Introdução"
   ]
  },
  {
   "cell_type": "markdown",
   "metadata": {},
   "source": [
    "LIANA (Ligant-Receptor Inference Analysis) oferece uma variedade de métodos estatísticos para inferir interações entre ligante-receptor em dados transcriptômicos de células únicas a partir de conhecimentos prévios. Este notebook tem como objetivo demonstrar como usar o LIANA de forma básica com nossos dados de interesse.\n",
    "\n",
    "Etapas para utilizar o LIANA:\n",
    "1. Organização dos dados:\n",
    "* Carregue seus dados transcriptômicos de célula única no formato apropriado\n",
    "* Certifique-se de que os dados estejam normalizados e anotados corretamente\n",
    "\n",
    "2. Instalação e importação do LIANA:\n",
    "* Instale o pacote LIANA, caso ainda não esteja instalado, usando o comando pip install liana\n",
    "* Import the package into your notebook with import liana\n",
    "\n",
    "3. Configurações do LIANA\n",
    "* Defina os parâmetros necessários para a análise, como o tipo de célula e as vias de sinalização de interesse\n",
    "* Use funções específicas do LIANA para definir as interações ligante-receptor que você deseja investigar\n",
    "\n",
    "4. Execução das análises\n",
    "* Realizar a análise utilizando os métodos estatísticos disponíveis no LIANA\n",
    "* Analise os resultados para identificar interações significativas entre ligantes e receptores em suas amostras\n",
    "\n",
    "5. Interpretação dos resultados\n",
    "* Visualize os resultados usando ferramentas de visualização integradas ou exporte dados para análise posterior\n",
    "* Interprete as interações identificadas no contexto biológico do seu estudo.\n",
    "\n",
    "![LIANA](https://saezlab.github.io/liana/articles/ligrec_pipe.png)\n",
    "\n"
   ]
  },
  {
   "cell_type": "code",
   "execution_count": null,
   "metadata": {},
   "outputs": [],
   "source": [
    "# Instale o pacote Seurat para análise de células individuais\n",
    "install.packages(\"Seurat\")"
   ]
  },
  {
   "cell_type": "code",
   "execution_count": null,
   "metadata": {},
   "outputs": [],
   "source": [
    "# Carregar bibliotecas necessárias para manipulação e análise de dados\n",
    "library(tidyverse)  # Coleção de pacotes para ciência de dados\n",
    "library(magrittr)   # Operador de tubo\n",
    "library(liana)      # Análise da comunicação célula-célula\n",
    "library(Seurat)     # Análise de RNA-seq de célula única"
   ]
  },
  {
   "cell_type": "markdown",
   "metadata": {},
   "source": [
    "Nesta seção, mostraremos todos os métodos implementados pelo LIANA a partir de várias ferramentas. Cada método infere interações ligante-receptor relevantes com base em diferentes suposições. Normalmente, cada método retorna duas pontuações para cada par ligante-receptor:\n",
    "\n",
    "1. **Pontuação de Magnitude (Força)**: Esta pontuação indica a força da interação.\n",
    "2. **Pontuação de Especificidade**: Esta pontuação reflete o quão específica a interação é para um determinado par de identidades de células."
   ]
  },
  {
   "cell_type": "code",
   "execution_count": null,
   "metadata": {},
   "outputs": [],
   "source": [
    "# Mostrar métodos disponíveis na sessão R atual\n",
    "show_methods()"
   ]
  },
  {
   "cell_type": "markdown",
   "metadata": {},
   "source": [
    "Os diferentes recursos de interações ligante-receptor podem ser encontrados aqui. O consenso integra todos os outros recursos"
   ]
  },
  {
   "cell_type": "code",
   "execution_count": null,
   "metadata": {},
   "outputs": [],
   "source": [
    "# Mostrar recursos disponíveis na sessão R atual\n",
    "show_resources()"
   ]
  },
  {
   "cell_type": "markdown",
   "metadata": {},
   "source": [
    "## Carregando os Dados"
   ]
  },
  {
   "cell_type": "markdown",
   "metadata": {},
   "source": [
    "Aqui nós vamos carregar nossos dados de interesse para estudar a comunicação célula-célula"
   ]
  },
  {
   "cell_type": "code",
   "execution_count": null,
   "metadata": {},
   "outputs": [],
   "source": [
    "# Baixe o conjunto de dados COVID-19 (arquivo RDS) do Dropbox\n",
    "download.file(\"https://www.dropbox.com/scl/fi/1ysew52kr8o2riahzubcw/BALF-COVID19-Liao_et_al-NatMed-2020.rds?rlkey=tg3tpn8la6oth25wvx3a22qt9&dl=1\", \"COVID.rds\")"
   ]
  },
  {
   "cell_type": "code",
   "execution_count": null,
   "metadata": {},
   "outputs": [],
   "source": [
    "# Leia o arquivo RDS em uma variável chamada 'testdata'\n",
    "testdata <- readRDS('COVID.rds')"
   ]
  },
  {
   "cell_type": "code",
   "execution_count": null,
   "metadata": {},
   "outputs": [],
   "source": [
    "# Exibe uma visão geral da estrutura 'testdata'\n",
    "testdata %>% dplyr::glimpse()"
   ]
  },
  {
   "cell_type": "code",
   "execution_count": null,
   "metadata": {},
   "outputs": [],
   "source": [
    "# Esta condição específica 'group == \"S\" ' está sendo usada para filtrar as linhas. Somente as linhas em que o valor da coluna group for igual a \"S\" serão incluídas no subconjunto.\n",
    "testdata <- subset(x = testdata, subset = group == \"S\")"
   ]
  },
  {
   "cell_type": "code",
   "execution_count": null,
   "metadata": {},
   "outputs": [],
   "source": [
    "# Esta função é usada para obter ou definir os identificadores de um objeto. A nova coluna é chamada \"celltype\"\n",
    "Idents(testdata) <- \"celltype\""
   ]
  },
  {
   "cell_type": "code",
   "execution_count": null,
   "metadata": {},
   "outputs": [],
   "source": [
    "# Normalize os dados de RNA-seq de célula única usando Seurat\n",
    "testdata <- Seurat::NormalizeData(testdata, verbose = FALSE)"
   ]
  },
  {
   "cell_type": "code",
   "execution_count": null,
   "metadata": {},
   "outputs": [],
   "source": [
    "# Exibir a estrutura do conjunto de dados processado\n",
    "testdata %>% dplyr::glimpse()"
   ]
  },
  {
   "cell_type": "markdown",
   "metadata": {},
   "source": [
    "## Rodando o LIANA\n",
    "\n",
    "Para rodar o LIANA, você pode escolher qualquer um dos métodos disponíveis. Nesse exemplo, iremos utilizar a implementação do [CellPhoneDB](https://www.nature.com/articles/s41596-020-0292-x)\n",
    "\n",
    "A função `liana_wrap` é capaz de realizar múltiplos métodos, cada um operando com os recursos fornecidos. Se nenhum método for especificado, liana_wrap irá executar todos os métodos implementados em LIANA. Adicionalmente, o recurso `consensus` é utilizado como padrão."
   ]
  },
  {
   "cell_type": "code",
   "execution_count": null,
   "metadata": {},
   "outputs": [],
   "source": [
    "cpdb_result <- liana_wrap(testdata, # Esta função do pacote LIANA é usada para realizar análises de interação célula-célula usando diferentes métodos\n",
    "                          method = 'cellphonedb',\n",
    "                          resource = c('CellPhoneDB'), # Especifica que o método CellPhoneDB será usado\n",
    "                          permutation.params = list(nperms=100, # Define os parâmetros de permutação nperms=100: Número de permutações\n",
    "                                                    parallelize=FALSE, # Indica se a execução deve ser paralelizada\n",
    "                                                    workers=4), # Número de trabalhos a serem usados ​​se a execução fosse paralelizada\n",
    "                          expr_prop=0.05) # Proporção mínima de expressão para considerar uma interação como válida"
   ]
  },
  {
   "cell_type": "code",
   "execution_count": null,
   "metadata": {},
   "outputs": [],
   "source": [
    "# Exibir a estrutura dos resultados da interação do CellPhoneDB\n",
    "dplyr::glimpse(cpdb_result)"
   ]
  },
  {
   "cell_type": "markdown",
   "metadata": {},
   "source": [
    "Para rodar o LIANA usando múltidos métodos simultaneamente, você pode especificar o método desejado no argumento `method`. Neste exemplo, nós utilizaremos CellPhoneDB, NATMI, SingleCellSignalR (sca) e a abordagem logFC."
   ]
  },
  {
   "cell_type": "code",
   "execution_count": null,
   "metadata": {},
   "outputs": [],
   "source": [
    "# Execute uma análise de interação mais complexa usando vários métodos\n",
    "complex_test <- liana_wrap(testdata,\n",
    "                           method = c('cellphonedb', 'natmi', 'sca', 'logfc'),\n",
    "                           resource = c('CellPhoneDB'))  # Usar recurso CellPhoneDB"
   ]
  },
  {
   "cell_type": "code",
   "execution_count": null,
   "metadata": {},
   "outputs": [],
   "source": [
    "# Exibir a estrutura dos resultados da interação complexa\n",
    "dplyr::glimpse(complex_test)"
   ]
  },
  {
   "cell_type": "markdown",
   "metadata": {},
   "source": [
    "Uma das principais características do LIANA é que ele pode calcular uma classificação de consenso da previsão de todos os métodos empregados para analisar a comunicação célula-célula. Usando a função `liana_aggregate()` podemos usar todos os resultados de cada método usado na etapa anterior"
   ]
  },
  {
   "cell_type": "code",
   "execution_count": null,
   "metadata": {},
   "outputs": [],
   "source": [
    "# Agregar resultados de interação em vários métodos\n",
    "liana_consensus <- complex_test %>% liana_aggregate()"
   ]
  },
  {
   "cell_type": "code",
   "execution_count": null,
   "metadata": {},
   "outputs": [],
   "source": [
    "# Exibir a estrutura dos resultados de interação agregados\n",
    "dplyr::glimpse(liana_consensus)"
   ]
  },
  {
   "cell_type": "markdown",
   "metadata": {},
   "source": [
    "## Visualização e Interpretação"
   ]
  },
  {
   "cell_type": "markdown",
   "metadata": {},
   "source": [
    "Gráficos de pontos podem ser gerados para interpretar facilmente pares importantes de ligante-receptor usados ​​por pares de células remetente-receptor.\n",
    "\n",
    "Aqui, pré-processamos os resultados do CellPhoneDB e, em seguida, os plotamos. Um filtro para usar apenas casos significativos é aplicado (valor P < 0,05)."
   ]
  },
  {
   "cell_type": "code",
   "execution_count": null,
   "metadata": {},
   "outputs": [],
   "source": [
    "cpdb_int <- cpdb_result %>%\n",
    "  # Selecione apenas interações com p-val <= 0,05\n",
    "  filter(pvalue <= 0.05) %>% # Isso reflete a `especificidade` das interações\n",
    "  rank_method(method_name = \"cellphonedb\", mode = \"magnitude\") %>% # Em seguida, classifique de acordo com `magnitude` (lr_mean neste caso)\n",
    "  distinct_at(c(\"ligand.complex\", \"receptor.complex\")) %>% # Selecione as 20 principais interações (independentemente do tipo de célula)\n",
    "  head(20)  "
   ]
  },
  {
   "cell_type": "code",
   "execution_count": null,
   "metadata": {},
   "outputs": [],
   "source": [
    "# Options(repr.plot.height = 12, repr.plot.width = 9)\n",
    "# Plote as interações célula-célula usando a função dotplot do LIANA\n",
    "scPlot <- cpdb_result %>%  \n",
    "          inner_join(cpdb_int, # Selecione apenas as interações de interesse\n",
    "                    by = c(\"ligand.complex\", \"receptor.complex\")) %>%  #  Inverter o tamanho (baixo p-value/alta especificidade = maior tamanho dos pontos), adicionar um valor pequenos para evitar valores infinitos para os 0s.\n",
    "          mutate(pvalue = -log10(pvalue + 1e-10)) %>% # Transforme os valores de p em log10 negativo\n",
    "          liana_dotplot(source_groups = c(\"Epithelial\"), # Crie um gráfico de pontos para os grupos de origem e destino especificados e defina o grupo de origem\n",
    "                        target_groups = c(\"Macrophages\", \"NK\", \"B\", \"T\", \"Neutrophil\"), # Especifique os grupos-alvo\n",
    "                        specificity = \"pvalue\", # Use o valor p para especificar o tamanho dos pontos\n",
    "                        magnitude = \"lr.mean\", # Use a razão logarítmica média para a cor dos pontos\n",
    "                        show_complex = TRUE,\n",
    "                        size.label = \"-log10(p-value)\") + theme(axis.text.x = element_text(angle = 90))\n",
    "scPlot\n",
    "# Salve o gráfico como uma imagem\n",
    "ggsave(\"01-liana_dotplot.png\", plot = scPlot, bg = \"white\", dpi = 600, width = 16, height = 9)"
   ]
  },
  {
   "cell_type": "markdown",
   "metadata": {},
   "source": [
    "Da mesma forma, podemos explorar os resultados consensuais"
   ]
  },
  {
   "cell_type": "code",
   "execution_count": null,
   "metadata": {},
   "outputs": [],
   "source": [
    "# Options(repr.plot.height = 12, repr.plot.width = 9)\n",
    "# Plote as 20 principais interações dos resultados agregados do LIANA\n",
    "scPlot <- liana_consensus %>%\n",
    "          liana_dotplot(source_groups = c(\"Macrophages\"),\n",
    "                        target_groups = c(\"Macrophages\", \"NK\", \"B\", \"T\", \"Neutrophil\"),\n",
    "                        ntop = 20) + theme(axis.text.x = element_text(angle = 90))\n",
    "scPlot\n",
    "# Salve o gráfico\n",
    "ggsave(\"02-liana_dotplot.png\", plot = scPlot, bg = \"white\", dpi = 600, width = 16, height = 9)"
   ]
  },
  {
   "cell_type": "markdown",
   "metadata": {},
   "source": [
    "No geral,o potencial das células para se comunicar pode ser computado. Aqui, podemos contar o número de interações significativas/importantes. Então, elas podem ser visualizadas por meio de um mapa de calor.\n",
    "\n",
    "Da mesma forma, podemos comparar os resultados do CellPhoneDB vs consenso."
   ]
  },
  {
   "cell_type": "code",
   "execution_count": null,
   "metadata": {},
   "outputs": [],
   "source": [
    "# Filtre interações com valor p ≤ 0,05 e plotar mapa de calor\n",
    "liana_trunc <- cpdb_result %>% filter(pvalue <= 0.05)\n",
    "\n",
    "# Plote e salve o gráfico\n",
    "# png(\"03-heat_freq.png\", bg = \"white\")\n",
    "heat_freq(liana_trunc)\n",
    "# dev.off()"
   ]
  },
  {
   "cell_type": "code",
   "execution_count": null,
   "metadata": {},
   "outputs": [],
   "source": [
    "# Filtre as interações consenso com classificação agregada ≤ 0,01 e plote mapa de calor\n",
    "liana_trunc <- liana_consensus %>% filter(aggregate_rank <= 0.01)\n",
    "\n",
    "# Plote e salve o gráfico\n",
    "# png(\"04-heat_freq.png\", bg = \"white\")\n",
    "heat_freq(liana_trunc)\n",
    "# dev.off()"
   ]
  },
  {
   "cell_type": "markdown",
   "metadata": {},
   "source": [
    "## Questões Extras\n",
    "\n",
    "- Quão diferentes são os resultados entre dois métodos de sua escolha?\n",
    "\n",
    "- Por que isso pode acontecer?"
   ]
  },
  {
   "cell_type": "code",
   "execution_count": null,
   "metadata": {},
   "outputs": [],
   "source": [
    "# Listar todas as funções disponíveis no pacote LIANA\n",
    "ls(\"package:liana\")"
   ]
  }
 ],
 "metadata": {
  "kernelspec": {
   "display_name": "Python 3",
   "language": "python",
   "name": "python3"
  },
  "language_info": {
   "name": "python",
   "version": "3.12.0"
  }
 },
 "nbformat": 4,
 "nbformat_minor": 2
}
