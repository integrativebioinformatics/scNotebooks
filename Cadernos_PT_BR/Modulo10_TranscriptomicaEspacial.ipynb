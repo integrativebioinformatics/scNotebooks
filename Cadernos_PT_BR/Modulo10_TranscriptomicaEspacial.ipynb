{
 "cells": [
  {
   "cell_type": "markdown",
   "metadata": {
    "id": "zGJJFOip04M_"
   },
   "source": [
    "# Transcriptômica Espacial\n",
    "\n",
    "## Links para Tutoriais\n",
    "Explore os seguintes tutoriais para começar a analisar a transcriptômica espacial:\n",
    "\n",
    "* Características Espaciais [STUtilit](https://ludvigla.github.io/STUtility_web_site/Spatial_Features.html#Matrix_factorization ).Este tutorial aborda a extração e a análise de características espaciais usando o pacote STUtility.\n",
    "\n",
    "* [Aprenda com a Vinheta Espacial Seurat](https://satijalab.org/seurat/articles/spatial_vignette.html).Como realizar análises transcriptômicas espaciais usando o pacote Seurat.\n",
    "\n",
    "* Controle de Qualidade [STUtility](https://ludvigla.github.io/STUtility_web_site/Quality_Control.html).Este tutorial se concentra nas etapas de controle de qualidade para dados de transcriptômica espacial usando o pacote STUtility.\n",
    "\n",
    "# Baixe os Dados Brutos e o Código Utilizado no Artigo\n",
    "Para acessar os dados brutos e o código utilizado no artigo relevante, acesse o seguinte link: [Conjunto de Dados Zenodo](https://zenodo.org/record/4751624#.Y17sri_pMUF)\n",
    "\n",
    "Estes recursos fornecerão uma compreensão abrangente da transcriptômica espacial e o irão guiar pelo processo de análise."
   ]
  },
  {
   "cell_type": "markdown",
   "metadata": {
    "id": "jQVY5cbphgjh"
   },
   "source": [
    "# Instale os pacotes"
   ]
  },
  {
   "cell_type": "code",
   "execution_count": null,
   "metadata": {
    "executionInfo": {
     "elapsed": 19076,
     "status": "ok",
     "timestamp": 1690667770277,
     "user": {
      "displayName": "Adolfo Alexis Rojas Hidalgo",
      "userId": "18158766317608392773"
     },
     "user_tz": 240
    },
    "id": "0CO_Dbc-NqXV",
    "vscode": {
     "languageId": "r"
    }
   },
   "outputs": [],
   "source": [
    "# Baixe o script da URL especificada e o salva como \"add_cranapt_jammy.sh\"\n",
    "download.file(\"https://github.com/eddelbuettel/r2u/raw/master/inst/scripts/add_cranapt_jammy.sh\", \n",
    "              \"add_cranapt_jammy.sh\")\n",
    "Sys.chmod(\"add_cranapt_jammy.sh\", \"0755\") # Concede permissões de execução (rwxr-xr-x) ao script\n",
    "system(\"./add_cranapt_jammy.sh\")  # Executa o script baixado no shell do sistema"
   ]
  },
  {
   "cell_type": "code",
   "execution_count": null,
   "metadata": {
    "executionInfo": {
     "elapsed": 29923,
     "status": "ok",
     "timestamp": 1690667800197,
     "user": {
      "displayName": "Adolfo Alexis Rojas Hidalgo",
      "userId": "18158766317608392773"
     },
     "user_tz": 240
    },
    "id": "So3kjOJre1H0",
    "vscode": {
     "languageId": "r"
    }
   },
   "outputs": [],
   "source": [
    "# Instale diversas bibliotecas de desenvolvimento para renderização de texto, gerenciamento de fontes e operações criptográficas.\n",
    "system(\"apt install libfontconfig1-dev libharfbuzz-dev libfribidi-dev libcairo2-dev libgmp-dev libcurl3-gnutls -y\")  \n",
    "\n",
    "# Instale bibliotecas de processamento de imagens (JPEG, PNG, TIFF) e a Biblioteca Científica GNU (GSL).\n",
    "system(\"apt install libfreetype6-dev libpng-dev libtiff5-dev libjpeg-dev libbz2-dev libgsl-dev gsl-bin -y\")  \n",
    "\n",
    "system(\"apt update\")  # Atualize a lista de pacotes para garantir que as versões mais recentes estejam disponíveis.\n",
    "\n",
    "# Instale os arquivos de desenvolvimento do ImageMagick, necessários para manipulação de imagens\n",
    "system(\"apt install libmagick++-dev -y\")"
   ]
  },
  {
   "cell_type": "code",
   "execution_count": null,
   "metadata": {
    "colab": {
     "base_uri": "https://localhost:8080/",
     "height": 531
    },
    "executionInfo": {
     "elapsed": 257,
     "status": "ok",
     "timestamp": 1690667744195,
     "user": {
      "displayName": "Adolfo Alexis Rojas Hidalgo",
      "userId": "18158766317608392773"
     },
     "user_tz": 240
    },
    "id": "4YfEB-ofN7J2",
    "outputId": "d49fcd48-5df5-4233-baad-c9550b9548da",
    "vscode": {
     "languageId": "r"
    }
   },
   "outputs": [],
   "source": [
    "# Retorna detalhes sobre a versão instalada do R, incluindo versões principais/secundárias, data de lançamento e arquitetura do sistema.\n",
    "R.Version()"
   ]
  },
  {
   "cell_type": "code",
   "execution_count": null,
   "metadata": {
    "colab": {
     "base_uri": "https://localhost:8080/"
    },
    "executionInfo": {
     "elapsed": 314560,
     "status": "ok",
     "timestamp": 1690668295321,
     "user": {
      "displayName": "Adolfo Alexis Rojas Hidalgo",
      "userId": "18158766317608392773"
     },
     "user_tz": 240
    },
    "id": "vWJE9s60OE6x",
    "outputId": "9b703eaf-7812-454f-ad40-ad0befab5be3",
    "vscode": {
     "languageId": "r"
    }
   },
   "outputs": [],
   "source": [
    "# Define um limite de tempo limite maior para evitar interrupções durante downloads de pacotes.\n",
    "options(timeout=1000)\n",
    "\n",
    "# Instala o pacote \"STUtility\" do GitHub com atualização forçada\n",
    "remotes::install_github(\"jbergenstrahle/STUtility\", upgrade=T, force = TRUE)\n",
    "\n",
    "# Instala o \"SPOTlight\" do GitHub sem atualizar as dependências existentes.\n",
    "remotes::install_github(\"https://github.com/MarcElosua/SPOTlight\", upgrade=F)\n",
    "\n",
    "# Verifica se o \"BiocManager\" está instalado; caso contrário, instala-o\n",
    "if (!require(\"BiocManager\", silent = TRUE))\n",
    "install.packages(\"BiocManager\", quiet = T)\n",
    "\n",
    "# Instala o \"ReactomePA\" para análise de enriquecimento de caminho.\n",
    "BiocManager::install(\"ReactomePA\", update = TRUE, quiet = T)\n",
    "\n",
    "# Instala \"ggpubr\", uma extensão do ggplot2 para gráficos prontos para publicação\n",
    "install.packages(\"ggpubr\")\n",
    "\n",
    "# Instala \"clustree\", um pacote para visualização de árvores de cluster\n",
    "install.packages(\"clustree\", quiet = T)\n",
    "\n",
    "# Instala o banco de dados de anotação de genes humanos do Bioconductor\n",
    "BiocManager::install(\"org.Hs.eg.db\", update = FALSE, quiet = T)\n",
    "\n",
    "# Instala \"enrichR\" para análise de enriquecimento gênico\n",
    "install.packages(\"enrichR\", quiet = T)\n",
    "\n",
    "# Instala \"SingleCellExperiment\" para análise de RNA-sequenciamento de células individuais.\n",
    "BiocManager::install('SingleCellExperiment', update = FALSE, quiet = T)\n",
    "\n",
    "# Instala \"hdf5r\", usado para ler e escrever arquivos HDF5.\n",
    "install.packages(\"hdf5r\", quiet = T)\n",
    "\n",
    "# Instala vários pacotes: DT (tabelas interativas), ggcorrplot (gráficos de correlação) e scatterpie (gráficos de dispersão com gráficos de pizza).\n",
    "install.packages(c('DT','ggcorrplot','scatterpie'), quiet = T)\n",
    "\n",
    "# Instala uma versão específica (1.5-3) do pacote \"Matrix\" diretamente dos arquivos do CRAN.\n",
    "install.packages(\"https://cran.r-project.org/src/contrib/Archive/Matrix/Matrix_1.5-3.tar.gz\", repos=NULL, type=\"source\")"
   ]
  },
  {
   "cell_type": "code",
   "execution_count": null,
   "metadata": {
    "executionInfo": {
     "elapsed": 17502,
     "status": "ok",
     "timestamp": 1690668382425,
     "user": {
      "displayName": "Adolfo Alexis Rojas Hidalgo",
      "userId": "18158766317608392773"
     },
     "user_tz": 240
    },
    "id": "MN3Rt0bR0CfA",
    "vscode": {
     "languageId": "r"
    }
   },
   "outputs": [],
   "source": [
    "suppressPackageStartupMessages({  # Suprime mensagens de carregamento de pacotes para manter a saída limpa.\n",
    "library(Seurat)  # Estrutura de análise de sequenciamento de RNA de célula única.\n",
    "library(data.table)  # Manipulação eficiente de grandes conjuntos de dados.\n",
    "library(ggplot2)  # Pacote para contrução de gráficos.\n",
    "library(plotly)  # Visualizações interativas.\n",
    "library(RColorBrewer)  # Paletas de cores predefinidas.\n",
    "library(dplyr)  # Pacote de manipulação de dados.\n",
    "library(STutility)  # Kit de ferramentas de transcriptômica espacial.\n",
    "library(clustree)  # Visualização de resoluções de cluster.\n",
    "library(ReactomePA)  # Análise de vias biológicas\n",
    "library(org.Hs.eg.db)  # Banco de dados de anotações de genes humanos.\n",
    "library(ggpubr)  # Visualizações publication-ready.\n",
    "library(enrichR)  # Análise de enriquecimento gênico.\n",
    "library(stringr)  # Manipulação de strings.\n",
    "library(patchwork)  # Combina múltiplos gráficos.\n",
    "library(SingleCellExperiment)  # Estrutura para dados de single-cell.\n",
    "library(SPOTlight)  # Deconvolução de dados transcriptômicos espaciais.\n",
    "})"
   ]
  },
  {
   "cell_type": "markdown",
   "metadata": {
    "id": "L8K3sDVj0ZNg"
   },
   "source": [
    "# Baixar o conjunto de dados"
   ]
  },
  {
   "cell_type": "code",
   "execution_count": null,
   "metadata": {
    "id": "j7tVIN00emmX",
    "vscode": {
     "languageId": "r"
    }
   },
   "outputs": [],
   "source": [
    "# Execute um comando shell e captura a saída.\n",
    "shell_call <- function(command, ...) {  \n",
    "  result <- system(command, intern = TRUE, ...) \n",
    "  cat(paste0(result, collapse = \"\\n\"))  # Imprima a saída em um formato legível.\n",
    "}"
   ]
  },
  {
   "cell_type": "code",
   "execution_count": null,
   "metadata": {
    "colab": {
     "base_uri": "https://localhost:8080/"
    },
    "executionInfo": {
     "elapsed": 69522,
     "status": "ok",
     "timestamp": 1690396156246,
     "user": {
      "displayName": "Adolfo Alexis Rojas Hidalgo",
      "userId": "18158766317608392773"
     },
     "user_tz": 240
    },
    "id": "lIMpLlL1j_RY",
    "outputId": "4d63130e-9be6-482d-e467-274b5be64ed8",
    "vscode": {
     "languageId": "r"
    }
   },
   "outputs": [],
   "source": [
    "# Auemnte o tempo limite para downloads grandes.\n",
    "options(timeout=1000)\n",
    "\n",
    "# Baixe um arquivo ZIP contendo exercícios de transcriptômica espacial.\n",
    "download.file('https://iauchile-my.sharepoint.com/:u:/g/personal/adolfo_rh_postqyf_uchile_cl/EfjJEURo--BOiy13A9w1FwgBcFnFIUTccVr4F6G-hBcHBg?e=VTLZb7&download=1', \n",
    "              'ST_Exercises.zip')  \n",
    "\n",
    "# Liste os arquivos no diretório atual com tamanhos de arquivo legíveis por humanos.\n",
    "shell_call(\"ls -lh\")\n",
    "\n",
    "# Descompacte o arquivo baixado.\n",
    "shell_call(\"unzip ST_Exercises.zip\")"
   ]
  },
  {
   "cell_type": "markdown",
   "metadata": {
    "id": "pjUWbECALQDv"
   },
   "source": [
    "# RECUPERAR AS ANOTAÇÕES DO PATOLOGISTA"
   ]
  },
  {
   "cell_type": "markdown",
   "metadata": {
    "id": "tdtk8Iqaxw06"
   },
   "source": [
    "## Carregar o conjunto de dados"
   ]
  },
  {
   "cell_type": "code",
   "execution_count": null,
   "metadata": {
    "colab": {
     "base_uri": "https://localhost:8080/"
    },
    "executionInfo": {
     "elapsed": 5090,
     "status": "ok",
     "timestamp": 1690396161333,
     "user": {
      "displayName": "Adolfo Alexis Rojas Hidalgo",
      "userId": "18158766317608392773"
     },
     "user_tz": 240
    },
    "id": "PsH0vqIRhYz5",
    "outputId": "e54fa7c5-8ca4-4375-d88c-2f51147f2384",
    "vscode": {
     "languageId": "r"
    }
   },
   "outputs": [],
   "source": [
    "# Carrege um objeto Seurat.\n",
    "load(file = \"ST_Exercises/Exercise1_dataset.RData\")\n",
    "# Obtém algumas informações sobre o conjunto de dados\n",
    "# Este comando recupera o ensaio padrão atual para o objeto Seurat Her2p\n",
    "DefaultAssay(Her2p)\n",
    "# Exiba o número de características (genes) e células.\n",
    "dim(Her2p)\n",
    "# Este comando gera uma tabela de frequência da coluna ids no slot de metadados do objeto Seurat Her2p.\n",
    "table(Her2p@meta.data$ids)"
   ]
  },
  {
   "cell_type": "markdown",
   "metadata": {
    "id": "ZQq67WhFyCHQ"
   },
   "source": [
    "## Gráficos de Controle de Qualidade (Quality Control - QC)"
   ]
  },
  {
   "cell_type": "markdown",
   "metadata": {
    "id": "iTyvcAjYyWtW"
   },
   "source": [
    "Crie a paleta de cores"
   ]
  },
  {
   "cell_type": "code",
   "execution_count": null,
   "metadata": {
    "colab": {
     "base_uri": "https://localhost:8080/",
     "height": 489
    },
    "executionInfo": {
     "elapsed": 1379,
     "status": "ok",
     "timestamp": 1690396162710,
     "user": {
      "displayName": "Adolfo Alexis Rojas Hidalgo",
      "userId": "18158766317608392773"
     },
     "user_tz": 240
    },
    "id": "ptZHTGilx9wN",
    "outputId": "72fd31e6-fb7f-406b-f59c-d06319bf99f0",
    "vscode": {
     "languageId": "r"
    }
   },
   "outputs": [],
   "source": [
    "# Crie uma função de paleta de cores usando a função colorRampPalette do pacote grDevices e as cores da paleta \"Set1\" do pacote RColorBrewer.\n",
    "getPalette = colorRampPalette(brewer.pal(8, \"Set1\"))\n",
    "color = getPalette(6)\n",
    "VlnPlot(Her2p, # Gera um gráfico de violino\n",
    "       features = \"nCount_RNA\", # Especifica a informação a ser plotada\n",
    "       group.by = \"ids\", # Agrupa os dados pela coluna de metadados \"ids\".\n",
    "       pt.size = 0.1, # Define o tamanho dos pontos no gráfico.\n",
    "       cols = color) + # Especifica as cores a serem usadas para os diferentes grupos.\n",
    "  stat_summary(fun.y=mean, geom=\"point\", shape=95, size=15, color = \"black\") + NoLegend()\n",
    "# Adiciona uma camada ao gráfico usando stat_summary para calcular e exibir a média da feição."
   ]
  },
  {
   "cell_type": "markdown",
   "metadata": {
    "id": "EPDXop2xyJVA"
   },
   "source": [
    "Gráfico das métricas"
   ]
  },
  {
   "cell_type": "code",
   "execution_count": null,
   "metadata": {
    "colab": {
     "base_uri": "https://localhost:8080/",
     "height": 1000
    },
    "executionInfo": {
     "elapsed": 4705,
     "status": "ok",
     "timestamp": 1690396167414,
     "user": {
      "displayName": "Adolfo Alexis Rojas Hidalgo",
      "userId": "18158766317608392773"
     },
     "user_tz": 240
    },
    "id": "fl-ajgU6LYSp",
    "outputId": "6ed400b8-b945-46e6-f560-5a2851f860f8",
    "vscode": {
     "languageId": "r"
    }
   },
   "outputs": [],
   "source": [
    "# Gráfico de violino com valores das médias adicionados.\n",
    "VlnPlot(Her2p, features = \"nCount_RNA\", group.by = \"ids\", \n",
    "        pt.size = 0.1, cols = color) +\n",
    "  stat_summary(fun.y=mean, geom=\"point\", shape=95, \n",
    "              size=15, color = \"black\") + NoLegend()\n",
    "\n",
    "# Gráfico de dispersão comparando contagens de RNA com o número de características (features = genes).\n",
    "FeatureScatter(object = Her2p, feature1 = \"nCount_RNA\", \n",
    "feature2 = \"nFeature_RNA\", group.by = \"ids\", cols = color)\n",
    "\n",
    "# Sobrepõe a distribuição da contagem de RNA em coordenadas espaciais.\n",
    "FeatureOverlay(Her2p, features = c(\"nCount_RNA\"),\n",
    "               sampleids = 1:3,\n",
    "               pt.size = 2.5,\n",
    "               add.alpha = TRUE,\n",
    "               ncol = 3, min.cutoff = 0, max.cutoff = 2000)"
   ]
  },
  {
   "cell_type": "code",
   "execution_count": null,
   "metadata": {
    "id": "447inZg-ynrh",
    "vscode": {
     "languageId": "r"
    }
   },
   "outputs": [],
   "source": [
    "#Exercício: Salvar a imagem em um arquivo"
   ]
  },
  {
   "cell_type": "markdown",
   "metadata": {
    "id": "2qOyzGqfyOI_"
   },
   "source": [
    "### NOTA: Normalização, PCA, redução de dimensionalidade e UMAP já aplicados neste objeto"
   ]
  },
  {
   "cell_type": "markdown",
   "metadata": {
    "id": "59R4UwUsySvS"
   },
   "source": [
    "## Clustering"
   ]
  },
  {
   "cell_type": "code",
   "execution_count": null,
   "metadata": {
    "colab": {
     "base_uri": "https://localhost:8080/",
     "height": 34
    },
    "executionInfo": {
     "elapsed": 9,
     "status": "ok",
     "timestamp": 1690396167414,
     "user": {
      "displayName": "Adolfo Alexis Rojas Hidalgo",
      "userId": "18158766317608392773"
     },
     "user_tz": 240
    },
    "id": "nfbcRLhzYSfq",
    "outputId": "c3c657dd-6b2b-4b20-e24d-64909d07e092",
    "vscode": {
     "languageId": "r"
    }
   },
   "outputs": [],
   "source": [
    "# Exibe a versão instalada do pacote Matrix\n",
    "packageVersion(\"Matrix\")"
   ]
  },
  {
   "cell_type": "code",
   "execution_count": null,
   "metadata": {
    "colab": {
     "base_uri": "https://localhost:8080/",
     "height": 437
    },
    "executionInfo": {
     "elapsed": 6715,
     "status": "ok",
     "timestamp": 1690396174120,
     "user": {
      "displayName": "Adolfo Alexis Rojas Hidalgo",
      "userId": "18158766317608392773"
     },
     "user_tz": 240
    },
    "id": "L3RpRwsDL2jd",
    "outputId": "ea098346-066a-4785-a435-65622252e856",
    "vscode": {
     "languageId": "r"
    }
   },
   "outputs": [],
   "source": [
    "# Executa o agrupamento baseado no gráfico de Seurat\n",
    "# Encontra os vizinhos mais próximos para cada célula usando a Fatoração de Matrizes Não Negativas \n",
    "# Non-negative Matrix Factorization (NMF)\n",
    "Her2p <- FindNeighbors(object = Her2p, \n",
    "                      dims = 1:10, # Indica que as 10 primeiras dimensões do método de redução especificado serão usadas.\n",
    "                     reduction = \"NMF\", # Especifica que a NMF foi usada como método de redução de dimensionalidade.\n",
    "                     verbose = FALSE) # Suprime a saída detalhada\n",
    "\n",
    "# Especifica uma sequência de resoluções variando de 0 a 2, com um incremento de 0,1\n",
    "Her2p <- FindClusters(Her2p, resolution = seq(0, 2, by = 0.1),\n",
    "                      verbose = FALSE)\n",
    "\n",
    "# Visualiza os resultados do agrupamento em diferentes resoluções usando Clustree\n",
    "clustree(Her2p, prefix = \"SCT_snn_res.\")"
   ]
  },
  {
   "cell_type": "code",
   "execution_count": null,
   "metadata": {
    "colab": {
     "base_uri": "https://localhost:8080/",
     "height": 437
    },
    "executionInfo": {
     "elapsed": 707,
     "status": "ok",
     "timestamp": 1690396174825,
     "user": {
      "displayName": "Adolfo Alexis Rojas Hidalgo",
      "userId": "18158766317608392773"
     },
     "user_tz": 240
    },
    "id": "wqxCNajQNe31",
    "outputId": "df2f03f8-4722-4b9f-e9c3-6153d5019206",
    "vscode": {
     "languageId": "r"
    }
   },
   "outputs": [],
   "source": [
    "# Cria um gráfico UMAP agrupado por \"ids\", sem rótulos de cluster\n",
    "color = getPalette(9) # Gere um vetor de 9 cores usando a função getPalette.\n",
    "DimPlot(Her2p, reduction = \"umap\", label = FALSE, group.by = \"ids\",\n",
    "        pt.size = 2, cols=color, label.size=13)"
   ]
  },
  {
   "cell_type": "code",
   "execution_count": null,
   "metadata": {
    "colab": {
     "base_uri": "https://localhost:8080/",
     "height": 437
    },
    "executionInfo": {
     "elapsed": 979,
     "status": "ok",
     "timestamp": 1690396175801,
     "user": {
      "displayName": "Adolfo Alexis Rojas Hidalgo",
      "userId": "18158766317608392773"
     },
     "user_tz": 240
    },
    "id": "wL4yL-D9Nj_K",
    "outputId": "4921c1f9-ca7d-4d0f-adfe-b15761b7852e",
    "vscode": {
     "languageId": "r"
    }
   },
   "outputs": [],
   "source": [
    "# Plot apenas a lâmina 3 do paciente G\n",
    "# Sobrepõe a expressão de uma ou mais características em coordenadas espaciais.\n",
    "FeatureOverlay(Her2p, # The Seurat object containing your data.\n",
    "               features = c(\"SCT_snn_res.0.5\"), # Especifica as características a serem sobrepostas nas coordenadas espaciais. Resolução de agrupamento 0,5\n",
    "               sampleids = 2, # Indica que apenas a lâmina com ID 2 deve ser usada para este gráfico.\n",
    "               pt.size = 3.5,\n",
    "               cols = color,\n",
    "               add.alpha = TRUE, # Adiciona transparência aos pontos\n",
    "               ncol = 1)"
   ]
  },
  {
   "cell_type": "code",
   "execution_count": null,
   "metadata": {
    "colab": {
     "base_uri": "https://localhost:8080/",
     "height": 437
    },
    "executionInfo": {
     "elapsed": 2258,
     "status": "ok",
     "timestamp": 1690396178057,
     "user": {
      "displayName": "Adolfo Alexis Rojas Hidalgo",
      "userId": "18158766317608392773"
     },
     "user_tz": 240
    },
    "id": "YsHglZ4DNoog",
    "outputId": "e376bf8a-ab7c-4119-b4d7-0809f684eb51",
    "vscode": {
     "languageId": "r"
    }
   },
   "outputs": [],
   "source": [
    "# Plotar apenas os 3 slides do paciente G\n",
    "FeatureOverlay(Her2p, features = c(\"SCT_snn_res.0.4\"),\n",
    "               sampleids = 1:3, , # Usar os ID 1 a 3\n",
    "               pt.size = 3.5,\n",
    "               cols = color,\n",
    "               add.alpha = TRUE,\n",
    "               ncol = 3) # Organizar os gráficos em 3 colunas"
   ]
  },
  {
   "cell_type": "code",
   "execution_count": null,
   "metadata": {
    "id": "_ZjcCuqY0HiM",
    "vscode": {
     "languageId": "r"
    }
   },
   "outputs": [],
   "source": [
    "#Exercício: Salvar a imagem em um arquivo\n"
   ]
  },
  {
   "cell_type": "code",
   "execution_count": null,
   "metadata": {
    "colab": {
     "base_uri": "https://localhost:8080/",
     "height": 437
    },
    "executionInfo": {
     "elapsed": 472,
     "status": "ok",
     "timestamp": 1690396178527,
     "user": {
      "displayName": "Adolfo Alexis Rojas Hidalgo",
      "userId": "18158766317608392773"
     },
     "user_tz": 240
    },
    "id": "a-8gPbOGNwyo",
    "outputId": "47ddc0c0-e129-4194-b4ef-3957b83447c5",
    "vscode": {
     "languageId": "r"
    }
   },
   "outputs": [],
   "source": [
    "# Trace os clusters sem o HE\n",
    "ST.FeaturePlot(object = Her2p, features = \"SCT_snn_res.0.4\", \n",
    "               cols = color, pt.size = 4, ncol = 3)"
   ]
  },
  {
   "cell_type": "code",
   "execution_count": null,
   "metadata": {
    "colab": {
     "base_uri": "https://localhost:8080/",
     "height": 437
    },
    "executionInfo": {
     "elapsed": 1238,
     "status": "ok",
     "timestamp": 1690396179763,
     "user": {
      "displayName": "Adolfo Alexis Rojas Hidalgo",
      "userId": "18158766317608392773"
     },
     "user_tz": 240
    },
    "id": "PAKJODaHN3DM",
    "outputId": "660e6e74-81d9-40e6-f543-088f20c38493",
    "vscode": {
     "languageId": "r"
    }
   },
   "outputs": [],
   "source": [
    "# Dividir a visualização para cada cluster\n",
    "ST.FeaturePlot(object = Her2p, features = \"SCT_snn_res.0.4\", pt.size = 4,\n",
    "               split.labels = T, # Dividir a visualização por títulos dos clusters\n",
    "               indices = 2, # Selecionar um conjunto específico de índices\n",
    "               show.sb = FALSE, # Ocultar barras de escala\n",
    "               ncol = 4, \n",
    "               cols = color)"
   ]
  },
  {
   "cell_type": "markdown",
   "metadata": {
    "id": "Tf3Jma5IxVaH"
   },
   "source": [
    "## Genes diferencialmente expressos (DEGs)"
   ]
  },
  {
   "cell_type": "code",
   "execution_count": null,
   "metadata": {
    "colab": {
     "base_uri": "https://localhost:8080/",
     "height": 503
    },
    "executionInfo": {
     "elapsed": 41221,
     "status": "ok",
     "timestamp": 1690396220981,
     "user": {
      "displayName": "Adolfo Alexis Rojas Hidalgo",
      "userId": "18158766317608392773"
     },
     "user_tz": 240
    },
    "id": "GCb--4unN8HT",
    "outputId": "67cc15c7-1b7d-4026-ab8e-8c2673a28db9",
    "vscode": {
     "languageId": "r"
    }
   },
   "outputs": [],
   "source": [
    "DefaultAssay(Her2p) # Verifica o ensaio ativo para o objeto Seurat Her2p\n",
    "Idents(Her2p) <- \"SCT_snn_res.0.4\" # Define a classe de identidade para o objeto Seurat Her2p com base na resolução de agrupamento \"SCT_snn_res.0.4\".\n",
    "\n",
    "# Comparação de todos os clusters vs. todos os clusters\n",
    "Her2p.markers <- FindAllMarkers(object = Her2p, # Identifica DEGS em Her2p\n",
    "                                only.pos = TRUE, # Somente marcadores positivos que são regulados positivamente no cluster\n",
    "                                min.pct = 0.10, # Os genes devem ser expressos em pelo menos 10% das células em qualquer um dos dois grupos sendo comparados\n",
    "                                logfc.threshold = 0.10) # Define o limite para identificar DEGs\n",
    "\n",
    "# Filtra marcadores com um valor de p ajustado < 0,05\n",
    "Her2p.markers = Her2p.markers[which(Her2p.markers$p_val_adj<0.05),] # Filtra os marcadores identificados para reter apenas aqueles com um valor de p ajustado\n",
    "\n",
    "# Conta o número de DEGs por cluster\n",
    "table(Her2p.markers[, \"cluster\"]) # Quantos DEGs por cluster?"
   ]
  },
  {
   "cell_type": "code",
   "execution_count": null,
   "metadata": {
    "colab": {
     "base_uri": "https://localhost:8080/",
     "height": 437
    },
    "executionInfo": {
     "elapsed": 971,
     "status": "ok",
     "timestamp": 1690396221950,
     "user": {
      "displayName": "Adolfo Alexis Rojas Hidalgo",
      "userId": "18158766317608392773"
     },
     "user_tz": 240
    },
    "id": "Znn7OunCORkq",
    "outputId": "47cb2073-0ce4-44e2-9207-b9a2d6e23d02",
    "vscode": {
     "languageId": "r"
    }
   },
   "outputs": [],
   "source": [
    "# Selecione os 10 primeiros DEGs de cada cluster\n",
    "Her2p.markers %>% group_by(cluster) %>% top_n(n = 10, wt = avg_log2FC) -> top10\n",
    "\n",
    "# Gere um gráfico de pontos para os genes selecionados\n",
    "DotPlot(Her2p, features = unique(top10$gene), \n",
    "        group.by = \"SCT_snn_res.0.4\", cols = c('#b8d8d8', '#e71d36'),\n",
    "        dot.scale = 6, col.min = 0) + \n",
    "        theme(axis.text.x = element_text(face = \"bold\", color = c(\"black\"), \n",
    "        size = 15,angle = 90))"
   ]
  },
  {
   "cell_type": "code",
   "execution_count": null,
   "metadata": {
    "id": "JhN53mBuF7W3",
    "vscode": {
     "languageId": "r"
    }
   },
   "outputs": [],
   "source": [
    "#Exercício: Salvar a imagem em um arquivo\n"
   ]
  },
  {
   "cell_type": "code",
   "execution_count": null,
   "metadata": {
    "colab": {
     "base_uri": "https://localhost:8080/",
     "height": 506
    },
    "executionInfo": {
     "elapsed": 1050,
     "status": "ok",
     "timestamp": 1690396222997,
     "user": {
      "displayName": "Adolfo Alexis Rojas Hidalgo",
      "userId": "18158766317608392773"
     },
     "user_tz": 240
    },
    "id": "8xOoprXROf-v",
    "outputId": "e95f90d2-cae8-479c-94df-7da4518c7f79",
    "vscode": {
     "languageId": "r"
    }
   },
   "outputs": [],
   "source": [
    "# Plotar genes-chave no gráfico de ridge\n",
    "RidgePlot(Her2p, assay = \"SCT\", \n",
    "          features = c(\"IFI27\",\"IFI6\"), # Genes de interesse\n",
    "          ncol = 2, group.by = \"SCT_snn_res.0.4\", \n",
    "          cols = color)"
   ]
  },
  {
   "cell_type": "code",
   "execution_count": null,
   "metadata": {
    "colab": {
     "base_uri": "https://localhost:8080/",
     "height": 437
    },
    "executionInfo": {
     "elapsed": 2289,
     "status": "ok",
     "timestamp": 1690396225284,
     "user": {
      "displayName": "Adolfo Alexis Rojas Hidalgo",
      "userId": "18158766317608392773"
     },
     "user_tz": 240
    },
    "id": "_Vmv9Fh2OjsD",
    "outputId": "ad5108f8-13fe-4224-ca62-4152142a6af4",
    "vscode": {
     "languageId": "r"
    }
   },
   "outputs": [],
   "source": [
    "# Visualização em UMAP e Mapa de Calor\n",
    "# Definir gradiente de cores para o mapa de calor\n",
    "heatmap.colors <- c(\"lightgray\", \"mistyrose\", \"red\", \"darkred\", \"black\")\n",
    "fts <- c(\"EPN2\", \"AGR3\") # Lista de genes a serem visualizados\n",
    "# Gerar gráficos UMAP para as características selecionadas\n",
    "p.fts <- lapply(fts, function(ftr) {\n",
    "  FeaturePlot(Her2p, features = ftr, reduction = \"umap\", order = TRUE, cols = heatmap.colors, pt.size = )\n",
    "})\n",
    "# Expressão de características transformadas em Ṕlot nas coordenadas do Visium\n",
    "p3 <- ST.FeaturePlot(Her2p, features = fts, ncol = 2, grid.ncol = 1, cols = heatmap.colors, pt.size = 2, show.sb = FALSE)\n",
    "# Combinar todos os gráficos em uma única figura\n",
    "cowplot::plot_grid(cowplot::plot_grid(plotlist = p.fts, ncol = 1), p3, ncol = 2, rel_widths = c(1, 1.3))"
   ]
  },
  {
   "cell_type": "code",
   "execution_count": null,
   "metadata": {
    "colab": {
     "base_uri": "https://localhost:8080/",
     "height": 437
    },
    "executionInfo": {
     "elapsed": 830,
     "status": "ok",
     "timestamp": 1690396226112,
     "user": {
      "displayName": "Adolfo Alexis Rojas Hidalgo",
      "userId": "18158766317608392773"
     },
     "user_tz": 240
    },
    "id": "EAD3phg1O4GV",
    "outputId": "74e4750e-0e41-4f1a-d6b9-0a3cf23c7f80",
    "vscode": {
     "languageId": "r"
    }
   },
   "outputs": [],
   "source": [
    "# Gerar um gráfico de violino para a expressão dos genes \"EPN2\" e \"AGR3\"\n",
    "# no objeto Seurat 'Her2p', agrupando pela resolução de cluster \"SCT_snn_res.0.4\" \n",
    "VlnPlot(Her2p, features = c(\"EPN2\", \"AGR3\"),   \n",
    "        group.by = \"SCT_snn_res.0.4\", # Define a variável de agrupamento (resolução do cluster 0,4) \n",
    "        pt.size = 0,  # Define o tamanho do ponto como 0 para evitar plotar pontos individuais\n",
    "        cols = color, # Usa cores predefinidas para grupos  \n",
    "        ncol = 2) +  # Organiza os gráficos em duas colunas \n",
    "\n",
    "  # Sobrepõe uma estatística de resumo (média) como uma barra horizontal \n",
    "  stat_summary(fun.y = mean, geom = \"point\", shape = 95,   \n",
    "               size = 15, color = \"black\") +  \n",
    "\n",
    "  # Remove a legenda do gráfico\n",
    "  NoLegend()  "
   ]
  },
  {
   "cell_type": "markdown",
   "metadata": {
    "id": "mT7uIMZ-wRYq"
   },
   "source": [
    "## Visualização 3D\n",
    "\n",
    "### Não funciona no Colab"
   ]
  },
  {
   "cell_type": "code",
   "execution_count": null,
   "metadata": {
    "id": "iLLgFGpFIoRI",
    "vscode": {
     "languageId": "r"
    }
   },
   "outputs": [],
   "source": [
    "# Atualizar caminhos de imagem no objeto Seurat\n",
    "Her2p@tools$Staffli@imgs <- gsub(\"//\", \"/\", Her2p@tools$Staffli@imgs)\n",
    "Her2p@tools$Staffli@imgs <- gsub(\"../data/\", \"ST_Exercises/her2st-master/data/\", Her2p@tools$Staffli@imgs)"
   ]
  },
  {
   "cell_type": "code",
   "execution_count": null,
   "metadata": {
    "id": "2Cor-TSQvVJs",
    "vscode": {
     "languageId": "r"
    }
   },
   "outputs": [],
   "source": [
    "# Amontoar os dados 3D de transcriptômica espacial\n",
    "Her2p <- Create3DStack(Her2p)\n",
    "\n",
    "# Extrair dados do gráfico de dispersão para visualização espacial\n",
    "stack_3d <- setNames(GetStaffli(Her2p)@scatter.data, c(\"x\", \"y\", \"z\", \"grid.cell\"))\n",
    "\n",
    "# Visualizar a distribuição espacial de pontos em seções z\n",
    "ggplot(stack_3d, aes(x, 2e3 - y)) +\n",
    "  geom_point(size = 0.1, color = \"gray\") +\n",
    "  facet_wrap(~z, ncol = 1) +\n",
    "  theme_void()\n",
    "\n",
    "# Interpolar dados para visualização 3D da expressão gênica\n",
    "interpolated.data <- FeaturePlot3D(Her2p, features = \"IFI6\", return.data = TRUE)\n",
    "\n",
    "# Gráfico dos níveis de expressão gênica interpolados\n",
    "ggplot(interpolated.data, aes(x, 2e3 - y, color = val)) +\n",
    "  geom_point(size = 0.1) +\n",
    "  facet_wrap(~z, ncol = 1) +\n",
    "  theme_void() +\n",
    "  ggtitle(\"IFI6\") +\n",
    "  scale_color_gradientn(colours = c(\"black\", \"dark blue\", \"cyan\", \"yellow\", \"red\", \"dark red\"))\n",
    "\n",
    "# Visualização 3D baseada na estimativa de núcleos HE\n",
    "FeaturePlot3D(Her2p, features = \"IFI6\", pt.size = 1.6, pts.downsample = 5e4)\n",
    "\n",
    "#remova o caractere \"#\"\" abaixo para visualizar clusters em 3D usando o gráfico HSV\n",
    "# selected.factors <- paste0(\"factor_\", c(1:10))\n",
    "# HSVPlot3D(Her2p, features = selected.factors, pt.size = 3, add.margins = 1, mode = \"spots\")"
   ]
  },
  {
   "cell_type": "markdown",
   "metadata": {
    "id": "8t_sLqlzwDaJ"
   },
   "source": [
    "## Termos de Ontologia Genética (Gene Ontology - GO)"
   ]
  },
  {
   "cell_type": "code",
   "execution_count": null,
   "metadata": {
    "colab": {
     "base_uri": "https://localhost:8080/",
     "height": 365
    },
    "executionInfo": {
     "elapsed": 25988,
     "status": "ok",
     "timestamp": 1690396252097,
     "user": {
      "displayName": "Adolfo Alexis Rojas Hidalgo",
      "userId": "18158766317608392773"
     },
     "user_tz": 240
    },
    "id": "-1hCOqDowA-P",
    "outputId": "b19da2f4-699d-4aec-ea77-77807b9b8f13",
    "vscode": {
     "languageId": "r"
    }
   },
   "outputs": [],
   "source": [
    "# Selecionar genes diferencialmente expressos (DEGs) do cluster 6\n",
    "geneList = Her2p.markers[which(Her2p.markers$cluster == 6), \"gene\"]\n",
    "length(geneList)  # Exibe o número de genes selecionados\n",
    "\n",
    "# Converter símbolos gênicos em IDs de Entrez\n",
    "columns(org.Hs.eg.db)  # Exibe as colunas de conversão disponíveis no banco de dados de anotações\n",
    "\n",
    "symbol <- mapIds(org.Hs.eg.db,\n",
    "                 keys = geneList,      # Lista de símbolos gênicos a serem convertidos\n",
    "                 column = \"ENTREZID\",  # Converter para IDs de Entrez\n",
    "                 keytype = \"SYMBOL\",   # Tipo de entrada: símbolo do gênico\n",
    "                 multiVals = \"first\")  # Em caso de múltiplas correspondências, usar a primeira\n",
    "\n",
    "symbol = as.vector(symbol)  # Converter para o formato vetorial\n",
    "\n",
    "# Remover genes com IDs de Entrez ausentes\n",
    "geneList = symbol\n",
    "geneList = geneList[which(geneList != \"NA\")]\n",
    "length(geneList)  # Exibe o número de genes após a filtragem\n",
    "\n",
    "# Realizar análise de enriquecimento de vias usando ReactomePA\n",
    "x <- enrichPathway(gene = geneList, \n",
    "                   organism = \"human\", \n",
    "                   pvalueCutoff = 0.05, \n",
    "                   readable = TRUE, \n",
    "                   pAdjustMethod = \"bonferroni\")\n",
    "\n",
    "head(as.data.frame(x))  # Mostrar os primeiros resultados\n",
    "\n",
    "# Ordenar os resultados por valor de p ajustado (crescente)\n",
    "x@result = x@result[order(x@result$p.adjust, decreasing = FALSE),]\n",
    "\n",
    "# Selecionar as 30 vias mais significativas\n",
    "x@result = x@result[1:30,]\n",
    "\n",
    "# Ordenar as vias pelo número de genes envolvidos (crescente)\n",
    "x@result = x@result[order(x@result$Count, decrease = FALSE),]\n",
    "\n",
    "# Armazenar os resultados ordenados em um novo quadro de dados\n",
    "newbar.dt = x@result\n",
    "\n",
    "# Criar um gráfico de barras de enriquecimento de vias biológicas\n",
    "cluster6_enrichpathway <- ggbarplot(newbar.dt, x = \"Description\", y = \"Count\",\n",
    "          fill = \"Count\",  # Colorir barras com base na contagem de genes\n",
    "          color = \"white\",  # Definir cores das bordas das barras para branco\n",
    "          sort.val = \"asc\",  # Classificar por valor em ordem crescente\n",
    "          sort.by.groups = FALSE, # Não classificar dentro de cada grupo\n",
    "          x.text.angle = 90,  # Girar rótulos do eixo x para melhor visibilidade\n",
    "          xlab = \"Pathways\",\n",
    "          ylab = \"Number of genes\",\n",
    "          legend.title = \"Counts\",\n",
    "          rotate = TRUE,\n",
    "          ggtheme = theme_minimal()\n",
    ") + scale_fill_continuous(low = \"#bde0fe\", high = color[4]) + \n",
    "  theme(text = element_text(size = 20))"
   ]
  },
  {
   "cell_type": "markdown",
   "metadata": {
    "id": "-0gNpyqswXV5"
   },
   "source": [
    "## Análise de vias biológicas com EnrichR"
   ]
  },
  {
   "cell_type": "code",
   "execution_count": null,
   "metadata": {
    "colab": {
     "base_uri": "https://localhost:8080/",
     "height": 1000
    },
    "executionInfo": {
     "elapsed": 3892,
     "status": "ok",
     "timestamp": 1690396255981,
     "user": {
      "displayName": "Adolfo Alexis Rojas Hidalgo",
      "userId": "18158766317608392773"
     },
     "user_tz": 240
    },
    "id": "eqMbRnj6w6K4",
    "outputId": "6754a0f5-ca57-4a46-a181-02d88332a922",
    "vscode": {
     "languageId": "r"
    }
   },
   "outputs": [],
   "source": [
    "# List available databases in EnrichR\n",
    "listEnrichrSites()\n",
    "dbs <- listEnrichrDbs() # armazena a lista no objeto dbs\n",
    "\n",
    "# Classificar os bancos de dados por nome\n",
    "dbs %>% dplyr::arrange(libraryName)\n",
    "\n",
    "# Selecionar bancos de dados de vias específicas para análise de enriquecimento\n",
    "dbs <- c(\"Cancer_Cell_Line_Encyclopedia\",\n",
    "         \"Elsevier_Pathway_Collection\",\n",
    "         \"KEGG_2021_Human\",\n",
    "         \"CellMarker_Augmented_2021\",\n",
    "         \"Reactome_2016\",\n",
    "         \"GO_Biological_Process_2018\",\n",
    "         \"GO_Cellular_Component_2018\",\n",
    "         \"GO_Molecular_Function_2018\",\n",
    "         \"InterPro_Domains_2019\")\n",
    "\n",
    "# O EnrichR requer símbolos de genes (não IDs do Ensembl)\n",
    "geneList = Her2p.markers[which(Her2p.markers$cluster == 6), \"gene\"]\n",
    "length(geneList)  # Exibe o número de genes selecionados\n",
    "\n",
    "# Executar a análise de enriquecimento com EnrichR\n",
    "enriched.Paths <- enrichr(geneList, dbs)\n",
    "\n",
    "# Exibe resultados dos bancos de dados selecionados\n",
    "enriched.Paths[[1]]  # Cancer_Cell_Line_Encyclopedia\n",
    "enriched.Paths[[2]]  # Elsevier_Pathway_Collection\n",
    "enriched.Paths[[3]]  # KEGG_2021_Human\n",
    "enriched.Paths[[4]]  # CellMarker_Augmented_2021\n",
    "enriched.Paths[[5]]  # Reactome_2016\n",
    "enriched.Paths[[6]]  # GO_Biological_Process_2018\n",
    "enriched.Paths[[7]]  # GO_Cellular_Component_2018\n",
    "enriched.Paths[[8]]  # GO_Molecular_Function_2018\n",
    "enriched.Paths[[9]]  # InterPro_Domains_2019\n",
    "\n",
    "# Selecione os resultados da via em CellMarker_Augmented_2021\n",
    "Rpath = enriched.Paths[[4]]\n",
    "\n",
    "# Conte o número de genes por via\n",
    "Gene_Count = c()\n",
    "for(x in 1:dim(Rpath)[1]){\n",
    "  Gene_Count = c(Gene_Count, str_split(Rpath$Overlap[x], pattern = \"/\" )[[1]][1])\n",
    "}\n",
    "\n",
    "Rpath$Gene_Count = as.numeric(Gene_Count)\n",
    "\n",
    "# Ordene por valor de p ajustado (crescente)\n",
    "Rpath = Rpath[order(Rpath$Adjusted.P.value, decreasing = FALSE),]\n",
    "\n",
    "# Filtre por significante vias (valor de p ajustado < 0,05)\n",
    "Rpath = Rpath[Rpath$Adjusted.P.value < 0.05,]\n",
    "\n",
    "# Selecionar as 20 primeiras vias\n",
    "Rpath = Rpath[1:20,]\n",
    "\n",
    "# Ordenar as vias por contagem de genes (em ordem decrescente)\n",
    "Rpath = Rpath[order(Rpath$Gene_Count, decreasing = TRUE),]\n",
    "\n",
    "# Criar um gráfico de barras com as vias enriquecidas\n",
    "cluster6_enrichR <- ggbarplot(Rpath, x = \"Term\", y = \"Gene_Count\",\n",
    "          fill = \"Gene_Count\",  # Colorir as barras com base na contagem de genes\n",
    "          color = \"white\",  # Definir as cores das bordas das barras para branco\n",
    "          sort.val = \"asc\",  # Classificar por valor em ordem crescente\n",
    "          sort.by.groups = FALSE,  # Não classificar dentro de cada grupo\n",
    "          x.text.angle = 90,  # Girar as legendas do eixo x para melhor visibilidade\n",
    "          xlab = \"Pathways\",\n",
    "          ylab = \"Number of genes\",\n",
    "          legend.title = \"Counts\",\n",
    "          rotate = TRUE,\n",
    "          ggtheme = theme_minimal()\n",
    ") + scale_fill_continuous(low = \"#bde0fe\", high = color[4]) + \n",
    "  theme(text = element_text(size = 18))\n",
    "\n",
    "# Exibe o gráfico\n",
    "cluster6_enrichR"
   ]
  },
  {
   "cell_type": "markdown",
   "metadata": {
    "id": "r3cWKd1mw98h"
   },
   "source": [
    "# DECONVOLUÇÃO DE TIPOS CELULARES"
   ]
  },
  {
   "cell_type": "markdown",
   "metadata": {
    "id": "tuplab9Xye5V"
   },
   "source": [
    "## Carregar o conjunto de dados SC"
   ]
  },
  {
   "cell_type": "code",
   "execution_count": null,
   "metadata": {
    "colab": {
     "base_uri": "https://localhost:8080/",
     "height": 1000
    },
    "executionInfo": {
     "elapsed": 540823,
     "status": "error",
     "timestamp": 1690396796797,
     "user": {
      "displayName": "Adolfo Alexis Rojas Hidalgo",
      "userId": "18158766317608392773"
     },
     "user_tz": 240
    },
    "id": "AaEdW07Eyn1Z",
    "outputId": "5999195e-9472-4fa4-8ad1-d3f5352a223c",
    "vscode": {
     "languageId": "r"
    }
   },
   "outputs": [],
   "source": [
    "## Carregar o conjunto de dados de scRNA-seq\n",
    "SC.data = readRDS(\"ST_Exercises/scRNASeq_pac2_processed.rds\")\n",
    "\n",
    "# Definir identidades de células com base no tipo de célula\n",
    "Idents(SC.data) = \"cellType\"\n",
    "\n",
    "# Visualização UMAP de tipos de células\n",
    "DimPlot(object = SC.data, reduction = 'umap', label = TRUE, label.size = 6,\n",
    "        group.by = \"cellType\", pt.size = 1.5)\n",
    "\n",
    "# Identificar DEGs em todos os clusters\n",
    "SC.markers <- FindAllMarkers(object = SC.data, only.pos = TRUE, min.pct = 0.10, logfc.threshold = 0.10) \n",
    "# min.pct = 0.10: Este argumento define a porcentagem mínima de células que expressam o gene em 10%.\n",
    "# logfc.threshold = 0.10: Define o limite mínimo de alteração do logaritmo em 0.10 para que um gene seja considerado um marcador.\n",
    "\n",
    "SC.markers = SC.markers[which(SC.markers$p_val_adj < 0.05 & SC.markers$avg_log2FC > 0.5),]\n",
    "# SC.markers$p_val_adj < 0,05: Esta condição seleciona marcadores com um valor de p ajustado menor que 0,05, o que significa que são estatisticamente significativos.\n",
    "# SC.markers$avg_log2FC > 0,5: Esta condição seleciona marcadores com uma variação média de log2 vezes maior que 0,5\n",
    "\n",
    "# Conta o número de DEGs por cluster\n",
    "table(SC.markers$cluster)\n",
    "\n",
    "DefaultAssay(SC.data) # Retorna o nome do ensaio atualmente definido como padrão para o objeto Seurat\n",
    "\n",
    "# Carrega amostra Visium FFPE 10X\n",
    "SP = Load10X_Spatial(data.dir = \"ST_Exercises/10X_Spatial_T_Breast_Block_A_Section1\",\n",
    "                     filename = \"V1_Breast_Cancer_Block_A_Section_1_filtered_feature_bc_matrix.h5\")"
   ]
  },
  {
   "cell_type": "markdown",
   "metadata": {
    "id": "H5aKOdHfyr8I"
   },
   "source": [
    "## Gráficos de QC e Normalização"
   ]
  },
  {
   "cell_type": "markdown",
   "metadata": {},
   "source": [
    "A normalização é uma etapa crucial do pré-processamento na análise de dados de scRNA-seq. Ela envolve o ajuste dos dados brutos de expressão gênica para levar em conta variações técnicas e diferenças na profundidade do sequenciamento entre as células. Essas comparações devem ajudar a compreender os pontos fortes e fracos de cada método de normalização.\n",
    "\n",
    "Método de Normalização\n",
    "* SCTransform: Um método mais avançado que utiliza regressão binomial negativa para remover a variabilidade técnica e estabilizar a variância, fornecendo uma normalização robusta para dados unicelulares.\n",
    "\n",
    "* Log-Normalização: Escala os valores de expressão gênica e aplica uma transformação logarítmica, o que ajuda a estabilizar a variância e a tornar os dados mais adequados para análise posterior.\n",
    "\n",
    "Remoção da Variabilidade Técnica\n",
    "* SCTransform: Mais robusto na remoção da variabilidade técnica, tornando-o ideal para conjuntos de dados com variação significativa.\n",
    "\n",
    "* NormalizeData: Eficaz, mas menos sofisticado que o SCTransform no tratamento da variabilidade técnica.\n",
    "\n",
    "Complexidade e Tempo de Execução\n",
    "* SCTransform: Mais complexo e demorado devido aos cálculos de regressão e à transformação de estabilização da variância.\n",
    "\n",
    "* NormalizeData: Mais simples e rápido, tornando-o adequado para análises rápidas e grandes conjuntos de dados.\n",
    "\n",
    "Manipulando Covariáveis\n",
    "* SCTransform: Permite a inclusão de covariáveis ​​(por exemplo, número de genes detectados por célula) para regressão, melhorando a qualidade dos dados normalizados.\n",
    "\n",
    "* NormalizeData: Normalmente não incorpora covariáveis ​​diretamente no processo de normalização.\n",
    "\n",
    "Estabilização de Variância\n",
    "* SCTransform: Estabiliza a variância, tornando os dados mais adequados para análises posteriores, como agrupamento e identificação de marcadores.\n",
    "\n",
    "* NormalizeData: Utiliza a transformação logarítmica para estabilizar parcialmente a variância, mas não tão eficazmente quanto o SCTransform.\n",
    "\n",
    "Flexibilidade\n",
    "* SCTransform: Focado principalmente no processamento de dados de RNA-seq de célula única com métodos de normalização robustos.\n",
    "\n",
    "* NormalizeData: Flexível com diferentes métodos de normalização (por exemplo, LogNormalize), permitindo ajustes com base nas necessidades específicas da análise..\n",
    "\n",
    "Escalabilidade\n",
    "* SCTransform: Pode lidar com grandes conjuntos de dados, mas pode ser mais lento devido à sua complexidade.\n",
    "\n",
    "* NormalizeData: Lida com grandes conjuntos de dados com eficiência devido à sua simplicidade e velocidade."
   ]
  },
  {
   "cell_type": "code",
   "execution_count": null,
   "metadata": {
    "colab": {
     "base_uri": "https://localhost:8080/",
     "height": 892
    },
    "executionInfo": {
     "elapsed": 142827,
     "status": "ok",
     "timestamp": 1690397167231,
     "user": {
      "displayName": "Adolfo Alexis Rojas Hidalgo",
      "userId": "18158766317608392773"
     },
     "user_tz": 240
    },
    "id": "l375jNhly047",
    "outputId": "78dd16fb-5097-4665-afa6-e9ef3df083ae",
    "vscode": {
     "languageId": "r"
    }
   },
   "outputs": [],
   "source": [
    "# Plota o número de leituras por ponto no espaço\n",
    "plot1 <- VlnPlot(SP, features = \"nCount_Spatial\", pt.size = 0.1) + NoLegend() # cria um gráfico de violino\n",
    "plot2 <- SpatialFeaturePlot(SP, features = \"nCount_Spatial\") + theme(legend.position = \"right\") # Gera um gráfico de características espaciais para o objeto Seurat\n",
    "wrap_plots(plot1, plot2) # Esta função do pacote patchwork combina vários gráficos (plot1 e plot2) em um único layout unificado\n",
    "\n",
    "# Normaliza dados usando SCTransform\n",
    "SP <- SCTransform(SP, assay = \"Spatial\", verbose = FALSE, return.only.var.genes = FALSE)\n",
    "\n",
    "# Normaliza dados usando LogNormalize com um fator de escala\n",
    "SP <- NormalizeData(object = SP, assay = \"Spatial\", normalization.method = \"LogNormalize\", \n",
    "                    scale.factor = median(SP@meta.data$nCount_Spatial))\n",
    "\n",
    "# Compare os métodos de normalização (LogNormalize vs SCTransform)\n",
    "SP <- GroupCorrelation(SP, group.assay = \"Spatial\", assay = \"Spatial\", slot = \"data\", do.plot = FALSE)\n",
    "SP <- GroupCorrelation(SP, group.assay = \"Spatial\", assay = \"SCT\", slot = \"scale.data\", do.plot = FALSE)\n",
    "\n",
    "# Gere os gráficos de comparação\n",
    "p1 <- GroupCorrelationPlot(SP, assay = \"Spatial\", cor = \"nCount_Spatial_cor\") + ggtitle(\"Log Normalization\")\n",
    "p2 <- GroupCorrelationPlot(SP, assay = \"SCT\", cor = \"nCount_Spatial_cor\") + ggtitle(\"SCTransform Normalization\")\n",
    "\n",
    "# Exiba ambos os gráficos lado a lado\n",
    "p1 + p2"
   ]
  },
  {
   "cell_type": "markdown",
   "metadata": {
    "id": "y9d-fTdAy2PA"
   },
   "source": [
    "## Pipeline de deconvolução"
   ]
  },
  {
   "cell_type": "markdown",
   "metadata": {},
   "source": [
    "A deconvolução é uma técnica computacional usada para inferir e quantificar as proporções de diferentes tipos de células em uma população mista de células. Como os dados de scRNA-seq frequentemente provêm de tecidos complexos contendo múltiplos tipos de células, a deconvolução ajuda a identificar e isolar os perfis de expressão gênica específicos para cada tipo de célula dentro da mistura.\n",
    "\n",
    "Por que a deconvolução é importante?\n",
    "* Identificação de Tipos de Células: A deconvolução permite que os pesquisadores determinem a presença e a abundância de vários tipos de células em uma amostra de tecido heterogênea.\n",
    "\n",
    "* Compreensão da Composição Celular: Ajuda a elucidar a composição celular dos tecidos, revelando como diferentes tipos de células contribuem para processos biológicos e estados patológicos.\n",
    "\n",
    "* Aprimoramento a Interpretação de Dados: Ao separar os sinais de expressão gênica de diferentes tipos de células, a deconvolução aumenta a precisão e a interpretabilidade dos dados de scRNA-seq, levando a insights biológicos mais precisos."
   ]
  },
  {
   "cell_type": "code",
   "execution_count": null,
   "metadata": {
    "id": "qIDGfUvIAFWa",
    "vscode": {
     "languageId": "r"
    }
   },
   "outputs": [],
   "source": [
    "# Instale os pacotes R necessários \n",
    "# execute somente se eles não estiverem instalados\n",
    "install.packages(c('DT', 'ggcorrplot', 'scatterpie'))"
   ]
  },
  {
   "cell_type": "code",
   "execution_count": null,
   "metadata": {
    "id": "cbQ0kxQ__h1I",
    "vscode": {
     "languageId": "r"
    }
   },
   "outputs": [],
   "source": [
    "# Converte o objeto Seurat em um objeto SingleCellExperiment (SCE)\n",
    "spe = SP  # Conjunto de dados transcriptômicos espaciais\n",
    "sce = as.SingleCellExperiment(SC.data) # Converte dados scRNA-seq para o formato SCE\n",
    "\n",
    "# Define genes altamente variáveis ​​(highly variable genes - HVGs) usando genes diferencialmente expressos (DEGs)\n",
    "hvg = unique(SC.markers$gene)  # Seleciona DEGs únicos\n",
    "colLabels(sce) <- colData(sce)$cellType # Atribui rótulos de tipo de célula ao objeto SCE\n",
    "\n",
    "# Reduz a amostragem de células para um máximo de 100 por identidade celular\n",
    "# Isso evita a super-representação de qualquer tipo de célula específico\n",
    "idx <- split(seq(ncol(sce)), sce$cellType) # Divide os índices de células por identidade\n",
    "n_cells <- 100  # Define o número máximo de células por tipo\n",
    "\n",
    "cs_keep <- lapply(idx, function(i) {\n",
    "  n <- length(i)\n",
    "  if (n < n_cells)  # Se um tipo de célula tiver menos de 100 células, use todas elas\n",
    "    n_cells <- n\n",
    "  sample(i, n_cells)  # Amostragem aleatória de células\n",
    "})\n",
    "\n",
    "sce <- sce[, unlist(cs_keep)]  # Subdivide o conjunto de dados com as células subamostradas"
   ]
  },
  {
   "cell_type": "code",
   "execution_count": null,
   "metadata": {
    "colab": {
     "base_uri": "https://localhost:8080/",
     "height": 804
    },
    "executionInfo": {
     "elapsed": 147417,
     "status": "ok",
     "timestamp": 1690397316264,
     "user": {
      "displayName": "Adolfo Alexis Rojas Hidalgo",
      "userId": "18158766317608392773"
     },
     "user_tz": 240
    },
    "id": "76Xvs_n4FdCI",
    "outputId": "a3768c53-da68-4d81-aaf8-781c444b383c",
    "vscode": {
     "languageId": "r"
    }
   },
   "outputs": [],
   "source": [
    "# Realize a deconvolução transcriptômica espacial usando SPOTlight\n",
    "res <- SPOTlight(\n",
    "  x = sce,  # conjunto de dados de referência scRNA-seq\n",
    "  y = spe@assays$SCT@counts,  # Contagens transcriptômicas espaciais (normalizadas por SCT)\n",
    "  groups = sce$cellType,  # Anotações de tipo de célula de scRNA-seq\n",
    "  mgs = SC.markers,  # Genes marcadores da análise de scRNA-seq\n",
    "  hvg = hvg,  # Genes altamente variáveis (Highly variable genes or DEGs)\n",
    "  weight_id = \"avg_log2FC\",  # Peso baseado na alteração de log2 fold change\n",
    "  group_id = \"cluster\",  # Informações do cluster\n",
    "  gene_id = \"gene\"  # Identificador da coluna de genes\n",
    ")\n",
    "\n",
    "# Extrair a matriz de deconvolução resultante\n",
    "head(mat <- res$mat)[, seq_len(3)]  # Exibir as primeiras linhas e as 3 primeiras colunas\n",
    "\n",
    "# Verificar metadados transcriptômicos espaciais\n",
    "head(spe@meta.data)\n",
    "\n",
    "# Extrair o ajuste do modelo  de fatoração de matriz não negativa (Non-Negative Matrix Factorization - NMF)\n",
    "mod <- res$NMF"
   ]
  },
  {
   "cell_type": "code",
   "execution_count": null,
   "metadata": {
    "colab": {
     "base_uri": "https://localhost:8080/"
    },
    "executionInfo": {
     "elapsed": 11,
     "status": "ok",
     "timestamp": 1690397316264,
     "user": {
      "displayName": "Adolfo Alexis Rojas Hidalgo",
      "userId": "18158766317608392773"
     },
     "user_tz": 240
    },
    "id": "UkY0sfCOKpVq",
    "outputId": "a3882319-6f11-4d05-c2ac-0b893c6a8e69",
    "vscode": {
     "languageId": "r"
    }
   },
   "outputs": [],
   "source": [
    "# Estrutura de exibição da matriz de deconvolução\n",
    "str(mat)"
   ]
  },
  {
   "cell_type": "code",
   "execution_count": null,
   "metadata": {
    "colab": {
     "base_uri": "https://localhost:8080/",
     "height": 437
    },
    "executionInfo": {
     "elapsed": 726,
     "status": "ok",
     "timestamp": 1690397316987,
     "user": {
      "displayName": "Adolfo Alexis Rojas Hidalgo",
      "userId": "18158766317608392773"
     },
     "user_tz": 240
    },
    "id": "MY8BSsEkFzV5",
    "outputId": "21b481df-8938-4433-d65f-ed23988f21ca",
    "vscode": {
     "languageId": "r"
    }
   },
   "outputs": [],
   "source": [
    "# Avalie o quão específica é cada assinatura para cada identidade de célula\n",
    "plotTopicProfiles(\n",
    "  x = mod,  # modelo NMF do SPOTlight\n",
    "  y = sce$cellType, # legendas para os tipos celulares do scRNA-seq\n",
    "  facet = FALSE,  # mostre tudo em um único gráfico\n",
    "  min_prop = 0.01,  # proporção mínima a ser plotada\n",
    "  ncol = 1  # número de colunas no gráfico\n",
    ") +\n",
    "  theme(aspect.ratio = 1) # mantenha a proporção"
   ]
  },
  {
   "cell_type": "code",
   "execution_count": null,
   "metadata": {
    "colab": {
     "base_uri": "https://localhost:8080/",
     "height": 437
    },
    "executionInfo": {
     "elapsed": 1312,
     "status": "ok",
     "timestamp": 1690397318297,
     "user": {
      "displayName": "Adolfo Alexis Rojas Hidalgo",
      "userId": "18158766317608392773"
     },
     "user_tz": 240
    },
    "id": "AIEwaUAiF1wm",
    "outputId": "884adaa9-dfc9-42c7-e481-e19e9fa0c5fe",
    "vscode": {
     "languageId": "r"
    }
   },
   "outputs": [],
   "source": [
    "# Garanta que todas as células da mesma identidade celular compartilhem um perfil de semelhante\n",
    "plotTopicProfiles(\n",
    "  x = mod,  # modelo NMF\n",
    "  y = sce$cellType,  # legendas para os tipos celulares\n",
    "  facet = TRUE,  # Separate os gráficos de cada tipo celular\n",
    "  min_prop = 0.01,  # proporção mínima a ser plotada\n",
    "  ncol = 4  # separe os gráficos em 4 colunas\n",
    ")"
   ]
  },
  {
   "cell_type": "code",
   "execution_count": null,
   "metadata": {
    "colab": {
     "base_uri": "https://localhost:8080/",
     "height": 712
    },
    "executionInfo": {
     "elapsed": 1550,
     "status": "ok",
     "timestamp": 1690397517622,
     "user": {
      "displayName": "Adolfo Alexis Rojas Hidalgo",
      "userId": "18158766317608392773"
     },
     "user_tz": 240
    },
    "id": "1zOJ3KKPF4op",
    "outputId": "323f8918-8442-495b-94ee-b8e5fe655d6d",
    "vscode": {
     "languageId": "r"
    }
   },
   "outputs": [],
   "source": [
    "# Extrair a matriz base do modelo NMF\n",
    "# Esta matriz indica quais genes são mais relevantes para cada tópico\n",
    "sign <- NMF::basis(mod)\n",
    "colnames(sign) <- paste0(\"Topic\", seq_len(ncol(sign))) # Renomeie colunas\n",
    "\n",
    "# Exibir as primeiras linhas de genes marcadores para cada tópico\n",
    "head(sign)\n",
    "\n",
    "# Crie uma tabela interativa para explorar genes marcadores por tópico\n",
    "DT::datatable(sign, fillContainer = TRUE, filter = \"top\")\n",
    "\n",
    "# Gere uma matriz de correlação espacial entre os tipos de células\n",
    "plotCorrelationMatrix(mat)"
   ]
  },
  {
   "cell_type": "code",
   "execution_count": null,
   "metadata": {
    "id": "urNQ7XkCH2Dt",
    "vscode": {
     "languageId": "r"
    }
   },
   "outputs": [],
   "source": [
    "# Nomes de tipos de células\n",
    "ct <- colnames(mat)\n",
    "\n",
    "# Defina um limite para filtrar proporções baixas\n",
    "mat[mat < 0.1] <- 0\n",
    "\n",
    "# Defina uma paleta de cores para os tipos de células\n",
    "paletteMartin <- c(\"#000000\", \"#004949\", \"#009292\", \"#ff6db6\", \"#ffb6db\", \n",
    "                   \"#490092\", \"#006ddb\", \"#b66dff\", \"#6db6ff\", \"#b6dbff\", \n",
    "                   \"#920000\", \"#924900\", \"#db6d00\", \"#24ff24\", \"#ffff6d\")\n",
    "\n",
    "# Crie uma paleta de gradiente usando as cores definidas\n",
    "pal <- colorRampPalette(paletteMartin)(length(ct))\n",
    "names(pal) <- ct # Atribua cores a cada tipo de célula\n"
   ]
  },
  {
   "cell_type": "code",
   "execution_count": null,
   "metadata": {
    "id": "u_KCRUxpJOZk",
    "vscode": {
     "languageId": "r"
    }
   },
   "outputs": [],
   "source": [
    "# Converta a matriz de deconvolução para um formato de matriz padrão\n",
    "m2 = as.matrix(mat)"
   ]
  },
  {
   "cell_type": "code",
   "execution_count": null,
   "metadata": {
    "colab": {
     "base_uri": "https://localhost:8080/",
     "height": 437
    },
    "executionInfo": {
     "elapsed": 15711,
     "status": "ok",
     "timestamp": 1690397486471,
     "user": {
      "displayName": "Adolfo Alexis Rojas Hidalgo",
      "userId": "18158766317608392773"
     },
     "user_tz": 240
    },
    "id": "qDJlF_4Jgb8d",
    "outputId": "1fe58d6e-b5fd-4f1c-b441-ba01bb3a20db",
    "vscode": {
     "languageId": "r"
    }
   },
   "outputs": [],
   "source": [
    "# Gere um gráfico de transcriptômica espacial com gráficos de pizza para proporções de células\n",
    "plotSpatialScatterpie(\n",
    "  x = spe,  # Objeto de transcriptômica espacial\n",
    "  y = mat,  # Resultados da deconvolução (proporções de tipos de células)\n",
    "  cell_types = unique(sce$cellType), # Tipos de células únicos\n",
    "  img = FALSE,  # Não sobrepor imagem histológica\n",
    "  scatterpie_alpha = 1,  # Opacidade total\n",
    "  pie_scale = 0.4  # Ajustar tamanho do gráfico de pizza\n",
    ") +\n",
    "  scale_fill_manual(\n",
    "    values = pal,  # Atribuir cores aos tipos de células\n",
    "    breaks = names(pal)  # Manter as legendas consistentes\n",
    "  )"
   ]
  },
  {
   "cell_type": "code",
   "execution_count": null,
   "metadata": {
    "id": "sO6hsNz7NbA9",
    "vscode": {
     "languageId": "r"
    }
   },
   "outputs": [],
   "source": [
    "# Salve o gráfico como um arquivo PDF\n",
    "ggsave(\"Deconvolution.pdf\", width = 12, height = 12)"
   ]
  }
 ],
 "metadata": {
  "colab": {
   "collapsed_sections": [
    "mT7uIMZ-wRYq"
   ],
   "provenance": [
    {
     "file_id": "1mzCpCVMQtAAekhqWg3DY9NpCqIIlwWHj",
     "timestamp": 1684465291158
    }
   ]
  },
  "kernelspec": {
   "display_name": "R",
   "name": "ir"
  },
  "language_info": {
   "name": "R"
  }
 },
 "nbformat": 4,
 "nbformat_minor": 0
}
