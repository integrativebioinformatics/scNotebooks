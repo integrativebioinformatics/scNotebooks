{
  "cells": [
    {
      "cell_type": "markdown",
      "id": "7981e7db",
      "metadata": {
        "id": "7981e7db",
        "lines_to_next_cell": 0
      },
      "source": [
        "## Carregue bibliotecas e defina caminhos de diretório de usuário."
      ]
    },
    {
      "cell_type": "code",
      "execution_count": null,
      "id": "dLEbrpsq4htQ",
      "metadata": {
        "colab": {
          "base_uri": "https://localhost:8080/"
        },
        "id": "dLEbrpsq4htQ",
        "outputId": "da61f387-36fb-40ff-9912-00cb5dd23ff6",
        "vscode": {
          "languageId": "r"
        }
      },
      "outputs": [],
      "source": [
        "## Function to run shell commands in Google Colab with R kernel\n",
        "shell_call <- function(command, ...) {\n",
        "  result <- system(command, intern = TRUE, ...) # Runs the shell command and captures output\n",
        "  cat(paste0(result, collapse = \"\\n\")) # Prints the output to the console\n",
        "}\n",
        "\n",
        "## Function to load multiple R packages\n",
        "loadPackages = function(pkgs){\n",
        "  myrequire = function(...){\n",
        "    suppressWarnings(suppressMessages(suppressPackageStartupMessages(require(...))))\n",
        "  }\n",
        "  ok = sapply(pkgs, require, character.only=TRUE, quietly=TRUE) # Checks if each package is installed\n",
        "  if (!all(ok)){\n",
        "    message(\"There are missing packages: \", paste(pkgs[!ok], collapse=\", \")) # Prints missing packages\n",
        "  }\n",
        "}\n",
        "\n",
        "## Download the script to add R2U (fast package installation system)\n",
        "download.file(\"https://github.com/eddelbuettel/r2u/raw/master/inst/scripts/add_cranapt_jammy.sh\",\n",
        "              \"add_cranapt_jammy.sh\")\n",
        "Sys.chmod(\"add_cranapt_jammy.sh\", \"0755\") # Change permissions to allow execution\n",
        "\n",
        "## Run the script to set up R2U\n",
        "shell_call(\"./add_cranapt_jammy.sh\")\n",
        "\n",
        "## Enable BSPM package manager for installing system-wide packages\n",
        "bspm::enable()\n",
        "options(bspm.version.check=FALSE)\n",
        "\n",
        "## Remove the setup script to keep the workspace clean\n",
        "shell_call(\"rm add_cranapt_jammy.sh\")\n",
        "\n",
        "## Define the list of packages to install\n",
        "cranPkgs2Install = c(\"dplyr\", \"ggpubr\", \"Seurat\", \"cowplot\",\n",
        "                     \"Rtsne\", \"hdf5r\", \"patchwork\")\n",
        "\n",
        "## Install all packages without prompting the user\n",
        "install.packages(cranPkgs2Install, ask=FALSE, update=TRUE, quietly=TRUE)"
      ]
    },
    {
      "cell_type": "code",
      "execution_count": null,
      "id": "uh5ddKX543wZ",
      "metadata": {
        "colab": {
          "base_uri": "https://localhost:8080/"
        },
        "id": "uh5ddKX543wZ",
        "outputId": "50740b4d-8853-4cb5-e39c-e08b86fe7e9e",
        "vscode": {
          "languageId": "r"
        }
      },
      "outputs": [],
      "source": [
        "# Para simplificar o carregamento de pacotes, criamos a função loadPackages().\n",
        "# Mas, se você não tiver a função, use 'library(nome_do_pacote)'\n",
        "pkgs = c(\"Seurat\", \"dplyr\", \"patchwork\") # List of packages to load\n",
        "loadPackages(pkgs) # Load packages using previously defined function\n",
        "\n",
        "# Definir o diretório onde os dados serão armazenados e acessados\n",
        "# IMPORTANTE: O usuário deve alterar \"scw01\" para corresponder ao seu diretório de trabalho atual\n",
        "mydir <- \"/content\""
      ]
    },
    {
      "cell_type": "markdown",
      "id": "768061cb",
      "metadata": {},
      "source": [
        "# Introdução"
      ]
    },
    {
      "cell_type": "markdown",
      "id": "bf04be78",
      "metadata": {
        "id": "bf04be78",
        "lines_to_next_cell": 0
      },
      "source": [
        "Neste notebook, nos aprofundaremos na análise de dados multimodais de células únicas. Nosso foco será em uma amostra de câncer de pulmão de células não pequenas (non-small cell lung cancer - NSCLC) que foi processada usando a tecnologia de perfil imunológico 10X 5'. Essa tecnologia avançada captura sequências de RNA e receptores de células T para cada célula individual, proporcionando uma visão abrangente do cenário celular.\n",
        "\n",
        "Você pode baixar o conjunto de dados no site da 10x Genomics [aqui](https://www.10xgenomics.com/resources/datasets/nsclc-tumor-1-standard-5-0-0). \n",
        "\n",
        "* Antes de prosseguirmos, reserve um momento para ler a descrição detalhada do processamento da amostra e das etapas iniciais da análise, fornecida na página. Isso fornecerá contexto e insights valiosos sobre a configuração experimental e a qualidade dos dados.\n",
        "\n",
        "## Análise de Sequenciamento de Célula T\n",
        "\n",
        "A abordagem de sequenciamento de TCR em célula única permite analisar a diversidade dos receptores de células T com alta resolução, identificando clonotipos específicos e suas funções no sistema imunológico. Diferente do bulk RNA-Seq, que mistura informações de várias células, o método de célula única preserva a identidade individual de cada célula T, possibilitando a correlação entre perfil transcriptômico e repertório de TCR\n",
        "\n",
        "### Nota: \n",
        "\n",
        "Neste notebook, abordaremos de forma resumida as etapas principais da análise de célula única. Como neste módulo focaremos na análise de sequência de TCR, forneceremos uma visão geral dos principais processos. Para explicações mais detalhadas sobre cada etapa, consulte os outros módulos disponíveis.\n",
        "\n",
        "### Leia as contagens brutas de genes e metadados"
      ]
    },
    {
      "cell_type": "code",
      "execution_count": null,
      "id": "Kwuh5ZmU06eQ",
      "metadata": {
        "id": "Kwuh5ZmU06eQ",
        "vscode": {
          "languageId": "r"
        }
      },
      "outputs": [],
      "source": [
        "# Baixe uma matriz de genes e códigos de barras filtrada da 10X Genomics\n",
        "# Este comando usa o curl para baixar um arquivo da internet. (-O) Salva o arquivo com o mesmo nome que ele tem no servidor.\n",
        "shell_call(\"curl -O https://cf.10xgenomics.com/samples/cell-vdj/5.0.0/vdj_v1_hs_nsclc_multi_5gex_t_b/vdj_v1_hs_nsclc_multi_5gex_t_b_count_filtered_feature_bc_matrix.tar.gz\")\n",
        "\n",
        "# Extraia o arquivo baixado (descompacte o conjunto de dados)\n",
        "# tar -xf instrui o tar a extrair (-x) o arquivo especificado (-f) e descompactá-lo.\n",
        "shell_call(\"tar -xf /content/vdj_v1_hs_nsclc_multi_5gex_t_b_count_filtered_feature_bc_matrix.tar.gz\")"
      ]
    },
    {
      "cell_type": "code",
      "execution_count": null,
      "id": "716599e9",
      "metadata": {
        "id": "716599e9",
        "vscode": {
          "languageId": "r"
        }
      },
      "outputs": [],
      "source": [
        "# Lê a matriz de código de barras e características filtrada em um objeto de matriz\n",
        "# Este comando lê a matriz de código de barras e características filtrada de um conjunto de dados 10X Genomics \n",
        "# localizado no diretório especificado e atribui os dados resultantes à variável de contagem (counts).\n",
        "counts <- Read10X(paste0(mydir, \"/filtered_feature_bc_matrix/\"))"
      ]
    },
    {
      "cell_type": "markdown",
      "id": "b8d87cea",
      "metadata": {
        "id": "b8d87cea",
        "lines_to_next_cell": 0
      },
      "source": [
        "### Criação do Objeto Seurat\n",
        "Em seguida, usaremos a matriz de contagem e os metadados para criar um objeto Seurat. O objeto Seurat atua como um contêiner abrangente que contém não apenas os dados brutos de contagem e os metadados, mas também quaisquer resultados de análises posteriores, como PCA (Principal Component Analysis - Análise de Componentes Principais) e resultados de agrupamento. Esse contêiner centralizado permite a manipulação e análise de dados simplificadas, fornecendo uma estrutura organizada para nosso conjunto de dados scRNA-Seq.\n",
        "\n",
        "Ao criar um objeto Seurat, podemos gerenciar e analisar nossos dados com eficiência, facilitando a execução de operações complexas e a visualização dos resultados."
      ]
    },
    {
      "cell_type": "code",
      "execution_count": null,
      "id": "4efb3bda",
      "metadata": {
        "colab": {
          "base_uri": "https://localhost:8080/",
          "height": 86
        },
        "id": "4efb3bda",
        "name": "create_object",
        "outputId": "68e793da-7a4b-409d-f013-6a0541aa60c8",
        "vscode": {
          "languageId": "r"
        }
      },
      "outputs": [],
      "source": [
        "# Crie um objeto Seurat usando a matriz de contagem bruta\n",
        "seurat.raw <- CreateSeuratObject(counts = counts)\n",
        "\n",
        "# Exiba o conteúdo do objeto Seurat\n",
        "seurat.raw"
      ]
    },
    {
      "cell_type": "markdown",
      "id": "566fc4cd",
      "metadata": {
        "id": "566fc4cd",
        "lines_to_next_cell": 0
      },
      "source": [
        "### Explorando o Objeto Seurat\n",
        "O primeiro passo em nossa análise é nos familiarizarmos com o conjunto de dados agora armazenado no objeto Seurat. O Seurat fornece ferramentas poderosas que nos permitem explorar e visualizar nossos dados de contagem juntamente com os metadados associados. Isso nos permite obter uma compreensão abrangente de nossos dados de scRNA-Seq.\n",
        "\n",
        "Aproveitando os recursos do Seurat, podemos realizar diversas análises exploratórias, como:\n",
        "\n",
        "* Inspecionar a Distribuição da Expressão Gênica: Podemos visualizar a distribuição dos níveis de expressão gênica entre as células para identificar genes altamente expressos e detectar quaisquer outliers potenciais.\n",
        "\n",
        "* Explorar Metadados: Podemos explorar os metadados associados às nossas células, como anotações de tipo de célula, origens da amostra e condições experimentais, para entender o contexto e as características do nosso conjunto de dados.\n",
        "\n",
        "* Identificar Genes Variáveis: Podemos identificar genes que exibem variabilidade significativa entre as células, que frequentemente são de interesse para análises posteriores, como agrupamento e expressão diferencial.\n",
        "\n",
        "* Visualização de Dados: Podemos criar visualizações como gráficos de violino, feature plots e mapas de calor para explorar os padrões de expressão de genes específicos e comparar diferentes grupos de células.\n",
        "\n",
        "Ao conduzir essas explorações iniciais, preparamos o terreno para análises mais avançadas, como redução de dimensionalidade, agrupamento e análise de expressão diferencial. Essa etapa fundamental é crucial para entender as nuances do nosso conjunto de dados e tomar decisões informadas ao longo do nosso pipeline de análise."
      ]
    },
    {
      "cell_type": "code",
      "execution_count": null,
      "id": "3d9f20f2",
      "metadata": {
        "colab": {
          "base_uri": "https://localhost:8080/"
        },
        "id": "3d9f20f2",
        "outputId": "1868c511-d6ca-4675-fedb-013063a2f9c6",
        "vscode": {
          "languageId": "r"
        }
      },
      "outputs": [],
      "source": [
        "# Quantas células e genes temos atualmente?\n",
        "print(paste0(\"O número de genes é \", dim(seurat.raw)[1], \"e o número de células é \", dim(seurat.raw)[2]))\n",
        "\n",
        "# A função print() exibe o resultado no console.\n",
        "# A função dim() retorna as dimensões de um objeto, geralmente uma matriz ou quadro de dados.\n",
        "# No caso de objetos Seurat, a matriz de contagem de expressão gênica tem genes como linhas e células como colunas.\n",
        "# A função paste0() concatena (une) sequência de caracteres (strings) sem adicionar espaços entre elas.\n",
        "# As frases dentro das aspas nos parênteses (\"\"\") também serão impressas"
      ]
    },
    {
      "cell_type": "code",
      "execution_count": null,
      "id": "ecf76ca1",
      "metadata": {
        "colab": {
          "base_uri": "https://localhost:8080/",
          "height": 156
        },
        "id": "ecf76ca1",
        "outputId": "d8419919-8e7d-4a3a-ea62-bf393c03e1de",
        "vscode": {
          "languageId": "r"
        }
      },
      "outputs": [],
      "source": [
        "# Visualizar um subconjunto (uma fatia/slice) da matriz de contagem\n",
        "# Lembre-se: linhas são genes, colunas são células/barcodes (códigos de barras)\n",
        "GetAssayData(seurat.raw, slot = \"counts\")[8:10,13:14]"
      ]
    },
    {
      "cell_type": "markdown",
      "id": "df0cc49f",
      "metadata": {
        "id": "df0cc49f"
      },
      "source": [
        "NOTA: os pontos ('.') refletem um valor zero. A tabela de contagem é armazenada em formato de matriz esparsa, que armazena explicitamente apenas valores diferentes de zero para economizar espaço."
      ]
    },
    {
      "cell_type": "code",
      "execution_count": null,
      "id": "794d5f3f",
      "metadata": {
        "colab": {
          "base_uri": "https://localhost:8080/"
        },
        "id": "794d5f3f",
        "outputId": "759b255c-89ff-4980-ad84-9505b452925b",
        "vscode": {
          "languageId": "r"
        }
      },
      "outputs": [],
      "source": [
        "# Exibir colunas de metadados disponíveis no objeto Seurat\n",
        "# Quais colunas de metadados estão disponíveis no objeto Seurat?\n",
        "print(colnames(seurat.raw@meta.data))\n",
        "\n",
        "# (@) Acessa o espaço (slot) meta.data do objeto seurat.raw.\n",
        "\n",
        "# O slot meta.data normalmente contém metadados associados às células\n",
        "# como tipo de célula, ID da amostra ou outras anotações.\n",
        "\n",
        "# A função colnames() recupera os nomes das colunas do quadro de dados de metadados \n",
        "# armazenado no slot meta.data"
      ]
    },
    {
      "cell_type": "code",
      "execution_count": null,
      "id": "46f178a9",
      "metadata": {
        "colab": {
          "base_uri": "https://localhost:8080/",
          "height": 541
        },
        "id": "46f178a9",
        "lines_to_next_cell": 2,
        "outputId": "5cda6272-e759-4191-b9b1-c74f0cb41cee",
        "vscode": {
          "languageId": "r"
        }
      },
      "outputs": [],
      "source": [
        "# Cria um gráfico de violino mostrando a distribuição do número de UMIs por célula\n",
        "options(repr.plot.width=7, repr.plot.height=7) # This command sets the width and height of the plot output.\n",
        "VlnPlot(seurat.raw, features = c(\"nCount_RNA\"),y.max=2e4) \n",
        "# Cria um gráfico de violino\n",
        "# seurat.raw: O objeto Seurat contendo seus dados de célula única.\n",
        "# features = c(\"nCount_RNA\"): Ele plota o número de moléculas de RNA (nCount_RNA) para cada célula.\n",
        "# y.max=2e4: Define o valor máximo para o eixo y como 20.000 (2e4 é a notação científica para 20.000)"
      ]
    },
    {
      "cell_type": "markdown",
      "id": "530687fd",
      "metadata": {
        "id": "530687fd",
        "lines_to_next_cell": 0
      },
      "source": [
        "### Controle de Qualidade (Quality Control - QC)\n",
        "Já observamos que duas das principais métricas de controle de qualidade — número de UMIs (Identificadores Moleculares Únicos - Unique Molecular Identifiers) e número de genes detectados por célula — foram computadas automaticamente pelo Seurat. A próxima métrica importante de QC a ser considerada é a porcentagem de genes mitocondriais. Os genes mitocondriais podem indicar estresse celular ou apoptose, por isso é crucial monitorar seus níveis de expressão.\n",
        "\n",
        "Para calcular a porcentagem de genes mitocondriais, usaremos o método PercentageFeatureSet do Seurat. Este método calcula a porcentagem de UMIs originários de genes que correspondem a um padrão especificado. Para genes mitocondriais, normalmente procuramos genes que começam com \"MT-\" (prefixo comum para genes mitocondriais)."
      ]
    },
    {
      "cell_type": "code",
      "execution_count": null,
      "id": "05b0fe90",
      "metadata": {
        "colab": {
          "base_uri": "https://localhost:8080/",
          "height": 34
        },
        "id": "05b0fe90",
        "outputId": "f735a468-656f-4613-b3c5-03949d8e8de3",
        "vscode": {
          "languageId": "r"
        }
      },
      "outputs": [],
      "source": [
        "# Os nomes dos genes mitocondriais humanos começam com \"MT-\", então calcularemos a porcentagem de genes que correspondem ao padrão \"^MT-\"\n",
        "# Esta função calcula a porcentagem de contagens para características (genes) que correspondem a um determinado padrão.\n",
        "# Também cria uma nova coluna de metadados no objeto seurat.raw chamada percent.mt e atribui as porcentagens calculadas a ela.\n",
        "seurat.raw[[\"percent.mt\"]] <- PercentageFeatureSet(seurat.raw, pattern = \"^MT-\") \n",
        "\n",
        "# Agora podemos ver que a % de expressão gênica mitocondrial foi calculada para cada célula\n",
        "head(seurat.raw$percent.mt) # Exibe as primeiras linhas das porcentagens mitocondriais calculadas"
      ]
    },
    {
      "cell_type": "code",
      "execution_count": null,
      "id": "6aa83236",
      "metadata": {
        "colab": {
          "base_uri": "https://localhost:8080/",
          "height": 412
        },
        "id": "6aa83236",
        "outputId": "5cf2ca0a-cb05-4817-c607-8546e4485239",
        "vscode": {
          "languageId": "r"
        }
      },
      "outputs": [],
      "source": [
        "# Gráfico de violino para três métricas de qualidade: contagem de UMI, contagem de genes, porcentagem de genes mitocondriais\n",
        "options(repr.plot.width=12, repr.plot.height=6)\n",
        "VlnPlot(seurat.raw, features = c(\"nCount_RNA\", \"nFeature_RNA\", \"percent.mt\"))\n",
        "# # Podemos visualizar todas as três métricas de qualidade celular juntas usando o método VlnPlot de Seurat"
      ]
    },
    {
      "cell_type": "markdown",
      "id": "a6e2636b",
      "metadata": {
        "id": "a6e2636b",
        "lines_to_next_cell": 0
      },
      "source": [
        "Muitas vezes, é útil visualizar essas métricas de QC em conjunto, pois células com valores discrepantes em múltiplas dimensões têm maior probabilidade de serem células de baixa qualidade. O FeatureScatter do Seurat cria um gráfico de dispersão de duas colunas fornecidas a partir dos nossos metadados."
      ]
    },
    {
      "cell_type": "code",
      "execution_count": null,
      "id": "08490ca8",
      "metadata": {
        "colab": {
          "base_uri": "https://localhost:8080/",
          "height": 377
        },
        "id": "08490ca8",
        "outputId": "0984aceb-5198-41af-d3a0-0daf6d2fd465",
        "vscode": {
          "languageId": "r"
        }
      },
      "outputs": [],
      "source": [
        "# Gráfico de dispersão: contagens totais de UMI vs porcentagem de genes mitocondriais\n",
        "options(repr.plot.width=6, repr.plot.height=6)\n",
        "FeatureScatter(seurat.raw, feature1 = \"nCount_RNA\", feature2 = \"percent.mt\") # Here we visualize the number of UMI vs the percentage of mito genes"
      ]
    },
    {
      "cell_type": "code",
      "execution_count": null,
      "id": "2ae30cb8",
      "metadata": {
        "id": "2ae30cb8",
        "vscode": {
          "languageId": "r"
        }
      },
      "outputs": [],
      "source": [
        "# # Após visualizarmos as métricas, podemos selecionar os limites que queremos usar para filtrar.\n",
        "# Usamos o método subset do R para filtrar\n",
        "seurat.raw <- subset(\n",
        "    seurat.raw,\n",
        "    subset = # Aplica critérios de filtragem:\n",
        "        nFeature_RNA > 200 & # Remove células com menos de 200 genes\n",
        "        nCount_RNA > 400 & # Remove células com menos de 400 UMIs\n",
        "        nFeature_RNA < 6000 & # Remover células com mais de 6000 genes (possíveis doublets)\n",
        "        percent.mt < 40) # Remove células com mais de 40% de RNA mitocondrial (células de baixa qualidade)\n"
      ]
    },
    {
      "cell_type": "markdown",
      "id": "0c9759d4",
      "metadata": {},
      "source": [
        "### Normalizando Dados no Seurat\n",
        "\n",
        "Após remover células indesejadas do conjunto de dados, o próximo passo é normalizar os dados. A normalização é essencial para ajustar as diferenças na profundidade do sequenciamento entre as células, garantindo comparações significativas.\n",
        "\n",
        "1. Método de Normalização: LogNormalize\n",
        "\n",
        "    * O método de normalização mais comum no Seurat é o método de normalização em escala global chamado \"LogNormalize\". Este método envolve três etapas principais:\n",
        "\n",
        "2. Normalização por Expressão Total:\n",
        "\n",
        "    * Para cada célula, o método calcula a expressão total (a soma das contagens de todos os genes).\n",
        "\n",
        "    * Cada valor de expressão gênica é dividido pela expressão total da célula para ajustar as diferenças na profundidade do sequenciamento.\n",
        "\n",
        "3. Multiplicação por um Fator de Escala:\n",
        "\n",
        "   * Os valores normalizados são então multiplicados por um fator de escala (10.000 por padrão). Isso ajuda a trazer os valores para uma escala mais conveniente e interpretável.\n",
        "\n",
        "4. Transformação Logarítmica:\n",
        "\n",
        "   * Por fim, os valores normalizados são transformados em logaritmo usando o logaritmo natural. A transformação logarítmica estabiliza a variância e reduz o impacto de outliers, tornando a distribuição dos dados mais simétrica.\n",
        "\n",
        "5. Armazenamento de Dados:\n",
        "\n",
        "   * As contagens brutas originais são armazenadas em seurat.raw[[\"RNA\"]]@counts. Este espaço contém os dados de contagem não normalizados para cada gene em cada célula.\n",
        "\n",
        "   * Os novos dados normalizados são armazenados em seurat.raw[[\"RNA\"]]@data. Este espaço contém os valores de expressão normalizados e transformados em logaritmo para cada gene em cada célula."
      ]
    },
    {
      "cell_type": "code",
      "execution_count": null,
      "id": "5bc845ef",
      "metadata": {
        "colab": {
          "base_uri": "https://localhost:8080/"
        },
        "id": "5bc845ef",
        "lines_to_next_cell": 2,
        "outputId": "2443d394-cc12-4688-bd6a-21de0bd8fcde",
        "vscode": {
          "languageId": "r"
        }
      },
      "outputs": [],
      "source": [
        "# Normalizar dados usando LogNormalization\n",
        "seurat.raw <- NormalizeData(seurat.raw, normalization.method = \"LogNormalize\", scale.factor = 10000)"
      ]
    },
    {
      "cell_type": "markdown",
      "id": "84a98e84",
      "metadata": {
        "id": "84a98e84",
        "lines_to_next_cell": 0
      },
      "source": [
        "# Faça descoberta de genes de variáveis ​​padrão, escalonamento, PCA, agrupamento e UMAP"
      ]
    },
    {
      "cell_type": "code",
      "execution_count": null,
      "id": "a2c776d9",
      "metadata": {
        "colab": {
          "base_uri": "https://localhost:8080/",
          "height": 1000
        },
        "id": "a2c776d9",
        "lines_to_next_cell": 2,
        "outputId": "2aa84d96-eb4c-41a4-b966-36f4d24bbf1e",
        "vscode": {
          "languageId": "r"
        }
      },
      "outputs": [],
      "source": [
        "# Identificar os genes mais variáveis\n",
        "seurat.raw <- FindVariableFeatures(seurat.raw, selection.method = \"vst\", nfeatures = 2000)\n",
        "# Escalonar os dados\n",
        "seurat.raw <- ScaleData(seurat.raw, features = VariableFeatures(seurat.raw), do.scale = T, do.center = T)\n",
        "# Executar PCA (Análise de Componentes Principais - Principal Component Analysis)\n",
        "seurat.raw <- RunPCA(seurat.raw, features = VariableFeatures(seurat.raw))\n",
        "# Encontrar células vizinhas\n",
        "seurat.raw <- FindNeighbors(seurat.raw, dims = 1:20, k.param = 20)\n",
        "# Identificar agrupamento (clusters) em baixa resolução\n",
        "seurat.raw <- RunUMAP(seurat.raw, dims = 1:20, reduction = \"pca\", seed.use = 1)\n",
        "\n",
        "# Encontre os clusters e use uma resolução baixa (0,1 é um bom começo) \n",
        "# para que possamos identificar facilmente todas as células T posteriormente\n",
        "seurat.raw <- FindClusters(seurat.raw, resolution = 0.1)\n",
        "\n",
        "# Visualize o UMAP com rótulos de cluster\n",
        "DimPlot(seurat.raw, reduction = \"umap\", label = T,group.by = \"seurat_clusters\")"
      ]
    },
    {
      "cell_type": "markdown",
      "id": "8a6d5f3b",
      "metadata": {},
      "source": [
        "Observe o  feature plot dos marcadores de tipos celulares para descobrir qual cluster é composto por células T.\n",
        "* Genes de células T: CD3D, CD8A, GNLY\n",
        "* Gene de células B: CD79A\n",
        "* Gene de células mieloides: FCGR3A\n",
        "* Gene de células epiteliais (pulmonares): KRT7"
      ]
    },
    {
      "cell_type": "code",
      "execution_count": null,
      "id": "f1c1d1c2",
      "metadata": {
        "vscode": {
          "languageId": "r"
        }
      },
      "outputs": [],
      "source": [
        "# Feature plot dos genes marcadores específicos para identificar tipos de células\n",
        "FeaturePlot(seurat.raw, features = c(\"CD3D\", \"CD8A\", \"GNLY\", \n",
        "            \"CD79A\", \"FCGR3A\",\"KRT7\"), min.cutoff = \"q1\")"
      ]
    },
    {
      "cell_type": "markdown",
      "id": "3f0aab5c",
      "metadata": {
        "id": "3f0aab5c",
        "lines_to_next_cell": 0
      },
      "source": [
        "### Integração de sequências de TCR\n",
        "Nesta seção, leremos os arquivos gerados pelo software 10X CellRanger que descrevem as sequências de TCR encontradas em células individuais."
      ]
    },
    {
      "cell_type": "code",
      "execution_count": null,
      "id": "7ddffbf8",
      "metadata": {
        "colab": {
          "base_uri": "https://localhost:8080/",
          "height": 286
        },
        "id": "7ddffbf8",
        "outputId": "72784c5a-1270-4e0d-ea70-8d3821fff533",
        "vscode": {
          "languageId": "r"
        }
      },
      "outputs": [],
      "source": [
        "# Baixar arquivos com curl\n",
        "shell_call(\"curl -O https://cf.10xgenomics.com/samples/cell-vdj/5.0.0/vdj_v1_hs_nsclc_multi_5gex_t_b/vdj_v1_hs_nsclc_multi_5gex_t_b_vdj_t_all_contig_annotations.csv\")\n",
        "shell_call(\"curl -O https://cf.10xgenomics.com/samples/cell-vdj/5.0.0/vdj_v1_hs_nsclc_multi_5gex_t_b/vdj_v1_hs_nsclc_multi_5gex_t_b_vdj_t_clonotypes.csv\")\n",
        "\n",
        "# Ler informações de TCR para cada célula\n",
        "tcr <- read.csv(paste0(mydir,\"/vdj_v1_hs_nsclc_multi_5gex_t_b_vdj_t_all_contig_annotations.csv\"))\n",
        "\n",
        "# Leia as informações do clonotype \n",
        "# lembre-se de que muitas células podem compartilhar o mesmo clonotype, ou sequência TCR\n",
        "clono <- read.csv(paste0(mydir,\"/vdj_v1_hs_nsclc_multi_5gex_t_b_vdj_t_clonotypes.csv\"))\n",
        "\n",
        "# Remova o -1 no final de cada barcode.\n",
        "# Subconjuntos para que apenas a primeira linha do barcode de cada célula seja mantida\n",
        "# para que possamos analisar apenas um clonotype para cada célula.\n",
        "tcr$barcode <- gsub(\"-1\", \"\", tcr$barcode)\n",
        "tcr <- tcr[!duplicated(tcr$barcode), ]\n",
        "\n",
        "# Remova também o -1 no final da linha do objeto Seurat\n",
        "seurat.raw = RenameCells(seurat.raw,new.names = gsub(\"-1\", \"\", colnames(seurat.raw)))\n",
        "\n",
        "# Mantenha apenas as colunas de barcode e clonotype. Ajuste o nome de \"raw_clonotype_id\" para \"clonotype_id\":\n",
        "tcr <- tcr[,c(\"barcode\", \"raw_clonotype_id\")]\n",
        "names(tcr)[names(tcr) == \"raw_clonotype_id\"] <- \"clonotype_id\"\n",
        "\n",
        "# Mescle as tabelas TCR e clonotype para que tenhamos a sequência de aminoácidos TCR para cada célula\n",
        "tcr <- merge(tcr, clono[, c(\"clonotype_id\", \"cdr3s_aa\")])\n",
        "\n",
        "# Reordene para que os códigos de barras sejam a primeira coluna, defina-os como nomes de linhas e remova a coluna extra desnecessária de barcodes\n",
        "tcr <- tcr[, c(2,1,3)]\n",
        "rownames(tcr) <- tcr[,1]\n",
        "tcr[,1] <- NULL\n",
        "\n",
        "# Adicione aos metadados do objeto Seurat.\n",
        "seurat.raw <- AddMetaData(object=seurat.raw, metadata=tcr)\n",
        "\n",
        "# Confirme se temos informações de TCR nos metadados\n",
        "head(seurat.raw@meta.data)\n"
      ]
    },
    {
      "cell_type": "code",
      "execution_count": null,
      "id": "106d8d49",
      "metadata": {
        "colab": {
          "base_uri": "https://localhost:8080/",
          "height": 1000
        },
        "id": "106d8d49",
        "outputId": "9ae8c4bf-89ff-418e-9152-079c4f3dab95",
        "vscode": {
          "languageId": "r"
        }
      },
      "outputs": [],
      "source": [
        "# Gere um histograma de frequências de clones a partir da tabela clono\n",
        "# Qual é um bom limite para distinguir clones expandidos de não expandidos?\n",
        "barplot(table(clono$frequency), xlab = \"Número de células no clone\") \n",
        "\n",
        "# A função barplot() cria um gráfico de barras.\n",
        "# A função table() cria uma tabela de contingência das contagens em cada valor único de clono$frequency.\n",
        "# clono$frequency acessa a coluna de frequência no quadro de dados clono\n",
        "\n",
        "\n",
        "# Identificar clones expandidos, sinalizar nos metadados e rotular no UMAP\n",
        "# Quantos clones expandidos existem? Tente alterar o limite e compare os resultados.\n",
        "Nexpand = 1  \n",
        "# # Este é o limite que usaremos para distinguir clones expandidos de não expandidos.\n",
        "length(which(clono$frequency>1))\n",
        "# which(clono$frequency > 1): Retorna os índices das linhas onde a frequência é maior que 1.\n",
        "# length(which(clono$frequency > 1)): Conta o número de elementos (clones) que têm uma frequência maior que 1. \n",
        "# Isso fornece o número de clones expandidos.\n",
        "\n",
        "expanded_clones = clono$clonotype_id[clono$frequency>1] \n",
        "# clono$clonotype_id[clono$frequency > 1]: Seleciona os valores de clonotype_id onde a frequência correspondente é maior que 1.\n",
        "# expanded_clones: Armazena os IDs de clonotype dos clones expandidos em uma nova variável.\n",
        "\n",
        "\n",
        "# Adicione uma nova coluna de metadados indicando quais células fazem parte de um clone expandido\n",
        "seurat.raw = AddMetaData(seurat.raw,metadata = rep(\"no\",ncol(seurat.raw)),col.name=\"TCR_expanded\") \n",
        "# Este comando adiciona uma nova coluna de metadados ao objeto Seurat.raw.\n",
        "# Neste novo metadado, onde cada célula é \"no\", e então alterando o valor das células expandidas para \"yes\"\n",
        "\n",
        "seurat.raw@meta.data$TCR_expanded[seurat.raw@meta.data$clonotype_id %in% expanded_clones] = \"yes\" \n",
        "# Este comando atualiza a coluna de metadados TCR_expanded.\n",
        "# seurat.raw@meta.data$TCR_expanded: acessa a coluna TCR_expanded nos metadados.\n",
        "# seurat.raw@meta.data$clonotype_id %in% expanded_clones: Verifica quais células possuem valores de clonotype_id que estão na lista expanded_clones.\n",
        "# = \"yes\": Define o valor como \"yes\" para células que pertencem a clones expandidos\n",
        "\n",
        "# Observe o UMAP para verificar se os clones expandidos têm expressão gênica semelhante\n",
        "DimPlot(seurat.raw, reduction = \"umap\", group.by = \"TCR_expanded\", label = T)\n",
        "\n",
        "# As células T expandidas têm genes expressos diferentes em comparação com as células T não expandidas?\n",
        "\n",
        "# Para fazer esta pergunta, vamos primeiro separar as células T do restante do objeto.\n",
        "# Verifique seu agrupamento para ver qual deles parece conter células T.\n",
        "\n",
        "Idents(seurat.raw) = \"seurat_clusters\" # Isso significa que as operações subsequentes usarão as identidades de cluster atribuídas a cada célula para seurat_clusters.\n",
        "seurat.t = subset(seurat.raw, idents = \"1\") # é o novo objeto Seurat contendo apenas as células do cluster 1.\n",
        "seurat.t # Verifique o número de amostras (células) para ver com quantas células T temos para trabalhar.\n",
        "\n",
        "Idents(seurat.t) = \"TCR_expanded\" # Este comando define a classe de identidade ativa no objeto seurat.t como TCR_expanded.\n",
        "deg_expanded = FindMarkers(seurat.t,ident.1=\"yes\",ident.2=\"no\",logfc.threshold = 0.25,min.pct = 0.1)\n",
        "# Este comando identifica genes diferencialmente expressos entre dois grupos de células\n",
        "# Aqueles marcados como \"sim\" nos metadados TCR_expanded e aqueles marcados como \"não\".\n",
        "# logfc.threshold: Limite mínimo de alteração de log2 para identificar genes diferencialmente expressos.\n",
        "# min.pct: Porcentagem mínima de células nas quais o gene é detectado.\n",
        "\n",
        "\n",
        "# Visualiza a expressão dos principais genes DE para cada subconjunto de células anotado.\n",
        "top30genes <- deg_expanded %>% filter(avg_log2FC > 0) %>% top_n(30, avg_log2FC)\n",
        "# deg_expanded %>% filter(avg_log2FC > 0): Filtra os genes diferencialmente expressos (deg_expanded)\n",
        "# para incluir apenas aqueles com alteração de log2 média positiva (avg_log2FC > 0).\n",
        "# top_n(30, avg_log2FC): Dos genes filtrados, seleciona os 30 principais genes com a maior variação média de log2.\n",
        "\n",
        "genes <- rownames(top30genes)\n",
        "seurat.t <- ScaleData(seurat.t, features = genes, do.center = T, do.scale = T)\n",
        "# Escolanoa os dados de expressão para os genes selecionados (features = genes) no objeto seurat.t.\n",
        "# do.center = T: Centraliza os dados subtraindo a expressão média de cada gene.\n",
        "# do.scale = T: Escolona os dados dividindo pelo desvio padrão de cada gene\n",
        "\n",
        "DoHeatmap(seurat.t, features = genes) \n",
        "# Cria um mapa de calor dos dados de expressão\n"
      ]
    }
  ],
  "metadata": {
    "colab": {
      "provenance": []
    },
    "jupytext": {
      "cell_metadata_filter": "name,tags,-all",
      "main_language": "R",
      "notebook_metadata_filter": "-all"
    },
    "kernelspec": {
      "display_name": "R",
      "name": "ir"
    },
    "language_info": {
      "name": "R"
    }
  },
  "nbformat": 4,
  "nbformat_minor": 5
}
