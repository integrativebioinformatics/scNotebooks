{
  "cells": [
    {
      "cell_type": "markdown",
      "metadata": {
        "id": "bT77-pBexaog"
      },
      "source": [
        "# **Poliadenilação Alternativa de scRNA-Seq**\n",
        "\n",
        "A poliadenilação alternativa (APA) é um processo biológico que ocorre durante o amadurecimento do RNA mensageiro (mRNA), no qual diferentes sinais de finalização (poliadenilação) são usados em um mesmo gene. Isso significa que uma única sequência de DNA pode gerar múltiplas versões de mRNA com diferentes comprimentos na extremidade 3’. Essas variações podem afetar a estabilidade do RNA, onde ele será localizado na célula e como será traduzido em proteína. Como resultado, a APA tem um papel importante na regulação da expressão gênica e pode estar associada a processos como diferenciação celular e doenças como o câncer.\n",
        "\n",
        "O [SCAPE-APA](https://github.com/chengl7-lab/scape) (Single Cell Analysis of Polyadenylation Events) é um pacote computacional desenvolvido para identificar e quantificar eventos de poliadenilação alternativa em dados de scRNA-seq. Ele permite estudar como diferentes células usam diferentes sítios de poliadenilação em seus genes, revelando camadas adicionais de regulação que não são detectadas apenas pela análise de expressão gênica clássica.\n",
        "\n",
        "Neste notebook, vamos utilizar o SCAPE-APA dentro do ambiente Google Colab para estimar eventos de poliadenilação alternativa em dados de scRNA-seq. O objetivo é oferecer uma introdução prática e intuitiva a esse tipo de análise, mostrando como a APA contribui para a diversidade regulatória entre células individuais."
      ]
    },
    {
      "cell_type": "code",
      "execution_count": null,
      "metadata": {
        "colab": {
          "base_uri": "https://localhost:8080/"
        },
        "id": "2vCpJ4HBzLM-",
        "outputId": "0daff505-6add-4b22-a4b8-ca7d42c62b42"
      },
      "outputs": [],
      "source": [
        "# Instalamos o python3-conda\n",
        "# (!) sinaliza que é um comando para o terminal Linux\n",
        "\n",
        "!apt-get install -y python3-conda"
      ]
    },
    {
      "cell_type": "markdown",
      "metadata": {},
      "source": [
        "### Conda\n",
        "\n",
        "Conda é um gerenciador de pacotes e ambientes usado principalmente em ciência de dados e bioinformática. Ele facilita a instalação de softwares e bibliotecas, mesmo aquelas com dependências complexas.\n",
        "\n",
        "Um ambiente virtual Conda é um espaço isolado onde você pode instalar versões específicas de pacotes sem interferir em outras instalações no seu sistema. Isso evita conflitos e garante reprodutibilidade das análises."
      ]
    },
    {
      "cell_type": "code",
      "execution_count": null,
      "metadata": {
        "colab": {
          "base_uri": "https://localhost:8080/"
        },
        "id": "okD_BubXzWCa",
        "outputId": "4d5b14c8-5dad-4fb6-b770-335976bbf74d"
      },
      "outputs": [
        {
          "name": "stdout",
          "output_type": "stream",
          "text": [
            "✨🍰✨ Everything looks OK!\n"
          ]
        }
      ],
      "source": [
        "# Instalando o pacote condalab, permitindo que você use o Conda no Google Colab, além de seus pacotes e recursos.\n",
        "\n",
        "!pip install -q condacolab\n",
        "import condacolab\n",
        "condacolab.install()"
      ]
    },
    {
      "cell_type": "code",
      "execution_count": null,
      "metadata": {
        "colab": {
          "base_uri": "https://localhost:8080/"
        },
        "id": "3t_bf6KfzmB0",
        "outputId": "bb8429d6-3d36-45f5-e12f-e90997083b7b"
      },
      "outputs": [],
      "source": [
        "# Instalação de pacotes e ferramentas numéricas para visualização e gerenciamento de dados no ambiente Conda.\n",
        "\n",
        "# Cria o ambieente com o nome scape_env com versão do python 3.11\n",
        "!conda create -y -n scape_env python=3.11\n",
        "\n",
        "#instala os pacotes necessários\n",
        "!conda run -n scape_env conda install -y anaconda::numpy anaconda::scipy anaconda::pandas anaconda::matplotlib\n",
        "!conda run -n scape_env conda install -y anaconda::click anaconda::tomli-w anaconda::requests\n",
        "!conda run -n scape_env conda install -y conda-forge::psutil conda-forge::tomli-w\n",
        "!conda run -n scape_env conda install -y bioconda::bedtools bioconda::pybedtools bioconda::pysam bioconda::gffutils\n",
        "!conda run -n scape_env pip install taichi\n",
        "!conda run -n scape_env pip install scape-apa"
      ]
    },
    {
      "cell_type": "code",
      "execution_count": null,
      "metadata": {
        "colab": {
          "base_uri": "https://localhost:8080/"
        },
        "id": "0oml9dx_0aCq",
        "outputId": "ade98c63-c146-4d6e-afa2-33ad3170c472"
      },
      "outputs": [],
      "source": [
        "# Verificando a instalação do SCAPE-APA.\n",
        "\n",
        "!conda run -n scape_env bash -c \"unset MPLBACKEND && export MPLBACKEND=Agg && scape --help\""
      ]
    },
    {
      "cell_type": "markdown",
      "metadata": {},
      "source": [
        "### GitHub\n",
        "\n",
        "GitHub é uma plataforma online onde desenvolvedores armazenam, compartilham e colaboram em projetos de código, usando o sistema de controle de versão Git.\n",
        "\n",
        "O comando git clone é usado para copiar um repositório inteiro do GitHub (ou de outro servidor Git) para o seu local. Ele baixa todos os arquivos, histórico de versões e a estrutura do projeto, permitindo que você trabalhe localmente. Vamos fazer isso como o SCAPE-APA"
      ]
    },
    {
      "cell_type": "code",
      "execution_count": null,
      "metadata": {
        "colab": {
          "base_uri": "https://localhost:8080/"
        },
        "id": "8oYRw4vi1gqo",
        "outputId": "97c5ce6f-8e5c-4bf5-bf46-98cf96f1c6f6"
      },
      "outputs": [],
      "source": [
        "# Obtendo os arquivos do GitHub do repositório.\n",
        "!git clone https://github.com/chengl7-lab/scape.git\n",
        "# se movendo para o diretório de tutorial dentro do scape\n",
        "%cd scape/tutorial"
      ]
    },
    {
      "cell_type": "code",
      "execution_count": null,
      "metadata": {
        "colab": {
          "base_uri": "https://localhost:8080/"
        },
        "id": "bPDvRWj21nCn",
        "outputId": "762dc46d-dc88-47f8-cc2d-695d3ced2548"
      },
      "outputs": [],
      "source": [
        "# Lista de arquivos dentro da pasta \"exemplo de brinquedo\".\n",
        "\n",
        "!ls -lh /content/scape/examples/toy-example/"
      ]
    },
    {
      "cell_type": "code",
      "execution_count": null,
      "metadata": {
        "colab": {
          "base_uri": "https://localhost:8080/"
        },
        "id": "bGldYKu63kls",
        "outputId": "980573b0-99e0-45ae-c5a9-ac85895c2d31"
      },
      "outputs": [],
      "source": [
        "# Alterar diretório.\n",
        "\n",
        "%cd /content/scape/examples/toy-example/"
      ]
    },
    {
      "cell_type": "code",
      "execution_count": null,
      "metadata": {
        "colab": {
          "base_uri": "https://localhost:8080/"
        },
        "id": "zdlrUkwR48SL",
        "outputId": "5ffcff4e-228b-4569-8762-fa63d0765981"
      },
      "outputs": [],
      "source": [
        "# Baixar arquivo de anotação \"Mus_musculus.GRCm39.113.chr.gff3\"\n",
        "#wget é para fazer o download\n",
        "# -O para definir onde o arquivo vai e qual nome\n",
        "!wget -O /content/scape/examples/toy-example/Mus_musculus.GRCm39.113.chr.gff3 https://ftp.ensembl.org/pub/release-113/gff3/mus_musculus/Mus_musculus.GRCm39.113.chr.gff3.gz"
      ]
    },
    {
      "cell_type": "code",
      "execution_count": null,
      "metadata": {
        "colab": {
          "base_uri": "https://localhost:8080/"
        },
        "id": "hDTj-3hC9jx2",
        "outputId": "c3952489-4469-4db3-ba8e-acea1b8e4f92"
      },
      "outputs": [],
      "source": [
        "# Verificação de conteúdo interno.\n",
        "# head serve apra verificar o topo do arquivo\n",
        "# -n 20 define que vou ver as primeiras 20 linhas do arquivo\n",
        "!head -n 20 /content/scape/examples/toy-example/Mus_musculus.GRCm39.113.chr.gff3"
      ]
    },
    {
      "cell_type": "code",
      "execution_count": null,
      "metadata": {
        "colab": {
          "base_uri": "https://localhost:8080/"
        },
        "id": "9x3jtXVbXBjF",
        "outputId": "25bcbc72-e14c-4d12-e701-62a2384e703c"
      },
      "outputs": [],
      "source": [
        "#verificar o tamanho do arquivo\n",
        "\n",
        "!wc -l /content/scape/examples/toy-example/Mus_musculus.GRCm39.113.chr.gff3"
      ]
    },
    {
      "cell_type": "markdown",
      "metadata": {
        "id": "htTk2v7FqL14"
      },
      "source": [
        "# **Anotações de regiões UTR**\n",
        "\n",
        "As UTRs são regiões não traduzidas do RNA mensageiro, localizadas nas extremidades 5’ e 3’ do gene. A poliadenilação alternativa (APA) geralmente ocorre na extremidade 3’, dentro da 3’UTR. Isso significa que definir corretamente onde estão essas regiões é essencial para detectar com precisão os diferentes eventos de APA que podem ocorrer em um gene.\n",
        "\n",
        "O comando `gen_utr_annotation` faz parte do fluxo de análise do SCAPE-APA, e seu principal objetivo é gerar anotações de regiões UTR (Untranslated Regions) a partir de um arquivo no formato .gff3, que contém as anotações genômicas de uma espécie.\n",
        "\n",
        "* O que o comando faz na prática?\n",
        "1. Ele lê o arquivo .gff3, que contém informações sobre a estrutura dos genes.\n",
        "\n",
        "2. Identifica e extrai as regiões 3’UTR de cada transcrito com base nessas anotações.\n",
        "\n",
        "3. Gera um arquivo de saída com essas regiões, que será usado pelo SCAPE-APA para detectar os locais onde diferentes sinais de poliadenilação aparecem."
      ]
    },
    {
      "cell_type": "code",
      "execution_count": null,
      "metadata": {
        "id": "colVvvGz9qDP"
      },
      "outputs": [],
      "source": [
        "# Chamar SCAPE no ambiente Conda.\n",
        "# Usar \"unset MPLBACKEND\" para remover as configurações iniciais do Google Colab e \n",
        "# \"MPLBACKENG=Agg\" para renderizar gráficos.\n",
        "\n",
        "# scape gen_utr_annotation = Chamar SCAPE com o comando \"gen_utr_annotation\".\n",
        "# --gff_file = arquivo \".gff3\".\n",
        "# --output_dir = Caminho de saída do arquivo gerado.\n",
        "# --res_file_name = Nome do arquivo gerado, resultando no formato \".csv\".\n",
        "\n",
        "!conda run -n scape_env bash -c \\\n",
        "\"unset MPLBACKEND && export MPLBACKEND=Agg && \\\n",
        "scape gen_utr_annotation \\\n",
        "--gff_file /content/scape/examples/toy-example/Mus_musculus.GRCm39.113.chr.gff3 \\\n",
        "--output_dir /content/scape/examples/toy-example/ \\\n",
        "--res_file_name example_annotation\""
      ]
    },
    {
      "cell_type": "markdown",
      "metadata": {},
      "source": [
        "Precisamos fazer adaptações para o Google Colab, pois ele não suporta a execução direta de scripts Python com o comando `scape` como em um terminal normal.\n",
        "\n",
        "Para executar o SCAPE-APA no Google Colab, você deve usar o comando `conda run -n scape_env` para garantir que o ambiente Conda correto seja ativado antes de executar o comando `scape`.\n",
        "\n",
        "Você não precisa disso caso execute o SCAPE-APA localmente em seu terminal, pois o ambiente Conda já estará ativo.\n",
        "ficaria como:\n",
        "\n",
        "`scape gen_utr_annotation --gff_file /content/scape/examples/toy-example/Mus_musculus.GRCm39.113.chr.gff3 --output_dir /content/scape/examples/toy-example/ --res_file_name example_annotation`"
      ]
    },
    {
      "cell_type": "markdown",
      "metadata": {
        "id": "KNM-ApV0_zW8"
      },
      "source": [
        "# **Preparar os dados de scRNA-seq**\n",
        "\n",
        "O comando `prepare_input` é uma etapa essencial do pipeline SCAPE-APA e tem como objetivo preparar os dados de scRNA-seq para a detecção de eventos de APA.\n",
        "\n",
        "Ao focar apenas nos reads localizados nas regiões UTR, esse passo reduz o ruído e concentra a análise nas áreas onde ocorrem os eventos de APA. Isso melhora a precisão e eficiência da detecção, permitindo uma estimativa mais confiável dos diferentes locais de poliadenilação nas células individuais.\n",
        "\n",
        "* O que ele faz:\n",
        "1. Processa o arquivo .bam, que contém os alinhamentos dos reads de RNA-seq de célula única.\n",
        "\n",
        "2. Filtra e seleciona apenas os reads que se alinham às regiões UTR (principalmente 3’UTRs) previamente anotadas com o comando gen_utr_annotation.\n",
        "\n",
        "3. Consolida os dados relevantes em um formato adequado para as análises subsequentes do SCAPE-APA.\n",
        "\n"
      ]
    },
    {
      "cell_type": "code",
      "execution_count": null,
      "metadata": {
        "colab": {
          "base_uri": "https://localhost:8080/"
        },
        "id": "vZ7BQKxm-sB-",
        "outputId": "bb3afb94-2601-442e-b61c-3d0dc03174d2"
      },
      "outputs": [],
      "source": [
        "# scape prepare_input = Comando para preparar dados de um arquivo \".bam\".\n",
        "# --utr_file = Caminho para o arquivo de anotação UTR gerado acima.\n",
        "# --cb_file = Arquivo de código de barras para identificar células nos dados scRNA-seq.\n",
        "# --bam_file = Arquivo \".bam\" de leituras alinhadas.\n",
        "\n",
        "!conda run -n scape_env bash -c \\\n",
        "\"unset MPLBACKEND && export MPLBACKEND=Agg && \\\n",
        "scape prepare_input --utr_file /content/scape/examples/toy-example/example_annotation.csv \\\n",
        "--cb_file /content/scape/examples/toy-example/barcodes.tsv.gz \\\n",
        "--bam_file /content/scape/examples/toy-example/example.bam \\\n",
        "--output_dir /content/scape/examples/toy-example/\""
      ]
    },
    {
      "cell_type": "code",
      "execution_count": null,
      "metadata": {
        "colab": {
          "base_uri": "https://localhost:8080/"
        },
        "id": "jVuVr7Kg_2Cs",
        "outputId": "92b3aaa8-39f9-4d6e-d14b-baf318d5a5d5"
      },
      "outputs": [],
      "source": [
        "# Verificação de diretório.\n",
        "\n",
        "!ls -lh /content/scape/examples/toy-example/"
      ]
    },
    {
      "cell_type": "markdown",
      "metadata": {},
      "source": [
        "### Samtools\n",
        "\n",
        "*Samtools* é uma coleção de ferramentas de linha de comando usada para manipular arquivos de alinhamento de sequenciamento, especialmente nos formatos SAM (Sequence Alignment/Map) e BAM (versão compactada do SAM).\n",
        "\n",
        "Vamos instalar abaixo:"
      ]
    },
    {
      "cell_type": "code",
      "execution_count": null,
      "metadata": {
        "colab": {
          "base_uri": "https://localhost:8080/"
        },
        "id": "ApU_ppkuAUVx",
        "outputId": "06251595-613b-4c8d-e03d-7631f7381c51"
      },
      "outputs": [],
      "source": [
        "# Instalação de samtools.\n",
        "\n",
        "!apt-get install -y samtools"
      ]
    },
    {
      "cell_type": "code",
      "execution_count": null,
      "metadata": {
        "colab": {
          "base_uri": "https://localhost:8080/"
        },
        "id": "czS6SNY1AU53",
        "outputId": "f2d0299d-f186-48cd-cc84-e3abe7ce18c3"
      },
      "outputs": [],
      "source": [
        "# Visualizando o arquivo \".bam\" com samtools.\n",
        "\n",
        "!samtools view /content/scape/examples/toy-example/example.bam | head -n 10"
      ]
    },
    {
      "cell_type": "markdown",
      "metadata": {},
      "source": [
        "Samtools permite criar um index do arquivo bam, o que permite que ferramentas bioinformáticas acessem rapidamente regiões específicas do genoma dentro desse arquivo. Isso é essencial, por exemplo, para visualizar alinhamentos em browsers genômicos ou para análises que envolvam extração de regiões específicas."
      ]
    },
    {
      "cell_type": "code",
      "execution_count": null,
      "metadata": {
        "id": "MLnKwFFTAe1q"
      },
      "outputs": [],
      "source": [
        "#criando index\n",
        "!samtools index /content/scape/examples/toy-example/example.bam"
      ]
    },
    {
      "cell_type": "code",
      "execution_count": null,
      "metadata": {
        "colab": {
          "base_uri": "https://localhost:8080/"
        },
        "id": "2EBsbEDHAy3g",
        "outputId": "4b83e32c-76e8-4937-fbaa-7aa6aaea673b"
      },
      "outputs": [],
      "source": [
        "#Lista todos os arquivos do diretório indicado \n",
        "# O pipe (|) é um operador usado para encadear comandos, \n",
        "# permitindo que a saída de um comando seja usada diretamente como entrada do próximo\n",
        "# | grep \".pkl\" = filtra a saída do comando anterior e mostra somente as linhas que contêm arquivos com a extensão .pkl\n",
        "!ls -lh /content/scape/examples/toy-example/ | grep \".pkl\""
      ]
    },
    {
      "cell_type": "markdown",
      "metadata": {
        "id": "Ssd1HBNj70MZ"
      },
      "source": [
        "# **Inferir os eventos de APA**\n",
        "\n",
        "Com SCAPE-APA é possível inferir como a célula utiliza diferentes sinais de finalização do RNA, um processo fundamental para entender a regulação gênica em nível de célula única. Detectar esses eventos permite investigar padrões de expressão mais refinados e suas possíveis implicações em processos biológicos ou doenças.\n",
        "\n",
        "Para isso é usado o `infer_pa`nas regiões 3'UTR previamente anotadas.\n",
        "\n",
        "*O que ele faz:*\n",
        "\n",
        "1. Analisa os dados de entrada (filtrados na etapa prepare_input) para detectar os sítios de poliadenilação alternativos (APA sites) dentro das regiões UTR.\n",
        "\n",
        "2. Identifica em quais posições diferentes transcritos do mesmo gene estão sendo poliadenilados, permitindo inferir a diversidade de isoformas reguladas pós-transcricionalmente.\n"
      ]
    },
    {
      "cell_type": "code",
      "execution_count": null,
      "metadata": {
        "colab": {
          "base_uri": "https://localhost:8080/"
        },
        "id": "CvgQzy1SCN9n",
        "outputId": "490cb6f0-3941-465d-a8df-73f089e5db26"
      },
      "outputs": [],
      "source": [
        "# Comando para executar o modelo de inferência e detectar sítios de poliadenilação.\n",
        "\n",
        "!conda run -n scape_env bash -c \\\n",
        "\"unset MPLBACKEND && export MPLBACKEND=Agg && scape infer_pa \\\n",
        "--pkl_input_file /content/scape/examples/toy-example/pkl_input/example.100.1.1.input.pkl \\\n",
        "--output_dir /content/scape/examples/toy-example/\""
      ]
    },
    {
      "cell_type": "markdown",
      "metadata": {
        "id": "UV6cFMOD5aOf"
      },
      "source": [
        "Execução do comando `infer_pa`\n",
        "Este comando é responsável por inferir eventos de poliadenilação alternativa (APA) a partir de alinhamentos de scRNA-seq e regiões UTR previamente anotadas.\n",
        "\n",
        "Argumentos principais do comando:\n",
        "* utr_file: Arquivo .csv com anotações das regiões UTR, gerado na etapa gen_utr_annotation.\n",
        "\n",
        "* cb_file: Arquivo contendo os códigos de barras celulares, que identificam cada célula individualmente.\n",
        "\n",
        "* bam_file: Arquivo .bam com as leituras de RNA alinhadas ao genoma.\n",
        "\n",
        "* output_dir: Diretório onde os arquivos de saída serão salvos.\n",
        "\n",
        "Principais parâmetros de inferência:\n",
        "\n",
        "* chunksize: Número de UTRs analisadas por vez (útil para gerenciar memória em datasets grandes).\n",
        "\n",
        "* n_max_apa / n_min_apa: Número máximo e mínimo de sítios de APA que o algoritmo irá detectar por UTR.\n",
        "\n",
        "* min_LA / max_LA: Tamanho mínimo e máximo permitido para as regiões de alinhamento (ajusta ruído e precisão).\n",
        "\n",
        "* mu_f / sigma_f: Média e desvio padrão do comprimento dos fragmentos de RNA (essencial para modelar os dados).\n",
        "\n",
        "* min_pa_gap: Distância mínima entre dois sítios de APA distintos — evita a detecção de falsos positivos muito próximos.\n",
        "\n",
        "* max_beta, beta_step: Controlam a distribuição beta, usada na modelagem estatística da posição dos APA sites.\n",
        "\n",
        "* theta_step: Intervalo dos valores de theta, outro parâmetro da mistura de distribuições.\n",
        "\n",
        "* min_ws / max_unif_ws: Controlam os pesos das distribuições na modelagem — essencial para ajustar eventos reais vs. ruído.\n",
        "\n",
        "* re_run_mode: Se ativado (TRUE), permite repetir a análise substituindo resultados anteriores.\n",
        "\n",
        "* fixed_run_mode: Se desativado (FALSE), permite que o algoritmo ajuste automaticamente os parâmetros para melhor inferência."
      ]
    },
    {
      "cell_type": "code",
      "execution_count": null,
      "metadata": {},
      "outputs": [],
      "source": [
        "#NÃO EXECUTAR\n",
        "\n",
        "python infer_pa.py \\\n",
        "  --utr_file /content/scape/examples/toy-example/Mus_musculus.GRCm39.113.utr_annot.csv \\\n",
        "  --cb_file /content/scape/examples/toy-example/barcodes.tsv \\\n",
        "  --bam_file /content/scape/examples/toy-example/example.bam \\\n",
        "  --output_dir /content/scape/examples/toy-example/output/\n"
      ]
    },
    {
      "cell_type": "markdown",
      "metadata": {
        "id": "sBKWeyKcKP_d"
      },
      "source": [
        "# **Agrupar os eventos**\n",
        "\n",
        "O comando `merge_pa` é utilizado para agrupar os eventos de APA detectados nas etapas anteriores do SCAPE-APA, unificando resultados que pertencem ao mesmo gene ou à mesma região UTR.\n",
        "\n",
        "*O que ele faz na prática:*\n",
        "1. Recebe como entrada os resultados de inferência dos eventos APA por célula ou por região UTR (obtidos via `infer_pa`).\n",
        "\n",
        "2. Agrupa os APA sites que ocorrem em uma mesma região genômica (por exemplo, dentro de uma mesma 3'UTR ou em um único gene).\n",
        "\n",
        "3. Elimina redundâncias e gera um resumo consolidado dos pontos de corte mais representativos de cada gene.\n",
        "\n",
        "Durante a inferência, múltiplos APA sites podem ser detectados em diferentes células ou replicações. A função `merge_pa` permite unificar os eventos semelhantes, facilitando a interpretação. Além disso, também reduz ruído estatístico e auxilia na visualização geral dos padrões de APA por gene, que pode ser usada em análises posteriores como clustering, visualizações ou associação com metadados celulares."
      ]
    },
    {
      "cell_type": "code",
      "execution_count": null,
      "metadata": {
        "colab": {
          "base_uri": "https://localhost:8080/"
        },
        "id": "lc-_2le7Huwp",
        "outputId": "a5362648-ab17-4ebb-fb99-a7e1ed3309c8"
      },
      "outputs": [],
      "source": [
        "# Com \"merge_pa\", os sítios de poliadenilação inferidos na etapa anterior são coletados, \n",
        "# #mesclando os sítios dentro do mesmo gene ou UTR.\n",
        "\n",
        "# Gera dois arquivos \"res.TYPE.pk1\", onde \"TYPE\" pode ser os sítios gênicos \n",
        "# ou UTRs mesclados (gene - UTR).\n",
        "\n",
        "!conda run -n scape_env bash -c \\\n",
        "\"unset MPLBACKEND && export MPLBACKEND=Agg && \\\n",
        "scape merge_pa --output_dir /content/scape/examples/toy-example/\""
      ]
    },
    {
      "cell_type": "code",
      "execution_count": null,
      "metadata": {
        "colab": {
          "base_uri": "https://localhost:8080/"
        },
        "id": "MWOygd8TKPqg",
        "outputId": "2c408786-041f-4778-eb6f-0f74cb789db5"
      },
      "outputs": [],
      "source": [
        "#listar arquivos em toy-example\n",
        "!ls -lh /content/scape/examples/toy-example/"
      ]
    },
    {
      "cell_type": "code",
      "execution_count": null,
      "metadata": {
        "colab": {
          "base_uri": "https://localhost:8080/"
        },
        "id": "uyTTXJUeKxmK",
        "outputId": "b7d4911e-a9b1-4b97-8765-2820f4f0a564"
      },
      "outputs": [],
      "source": [
        "# análise do SCAPE-APA para calcular o comprimento efetivo dos eventos de APA detectados\n",
        "\n",
        "!conda run -n scape_env bash -c z \\\n",
        "\"unset MPLBACKEND && export MPLBACKEND=Agg && \\\n",
        "scape cal_exp_pa_len --output_dir /content/scape/examples/toy-example/\""
      ]
    },
    {
      "cell_type": "code",
      "execution_count": null,
      "metadata": {
        "colab": {
          "base_uri": "https://localhost:8080/"
        },
        "id": "u1UQ4Ue1LI9M",
        "outputId": "3aa678f1-2a93-4c81-d3ff-8438803e7c0b"
      },
      "outputs": [],
      "source": [
        "#listar arquivos em toy-example\n",
        "!ls -lh /content/scape/examples/toy-example/"
      ]
    },
    {
      "cell_type": "markdown",
      "metadata": {
        "id": "uZQaKvKOb9Lr"
      },
      "source": [
        "# **Visualização dos resultados**"
      ]
    },
    {
      "cell_type": "markdown",
      "metadata": {
        "id": "RUUp2k-ndfq_"
      },
      "source": [
        "### `gen_utr_annotation`"
      ]
    },
    {
      "cell_type": "markdown",
      "metadata": {},
      "source": [
        "Pandas é uma biblioteca poderosa para manipulação e análise de dados em Python. Com ela, você pode trabalhar com tabelas (DataFrames) de forma parecida com planilhas do Excel ou tabelas SQL. Vamos usar para verificar os dados"
      ]
    },
    {
      "cell_type": "code",
      "execution_count": null,
      "metadata": {
        "colab": {
          "base_uri": "https://localhost:8080/",
          "height": 206
        },
        "id": "Ua-rTCPbMI44",
        "outputId": "1760c5ef-512f-4441-8d91-45c2e172e150"
      },
      "outputs": [],
      "source": [
        "import pandas as pd\n",
        "\n",
        "# Carregar a anotação UTR\n",
        "df_utr = pd.read_csv(\"/content/scape/examples/toy-example/example_annotation.csv\")\n",
        "\n",
        "# Exibir as primeiras linhas da tabela\n",
        "df_utr.head()"
      ]
    },
    {
      "cell_type": "code",
      "execution_count": null,
      "metadata": {
        "colab": {
          "base_uri": "https://localhost:8080/",
          "height": 488
        },
        "id": "U3SjfhxGb_c2",
        "outputId": "7ca42dec-69e8-4c50-d473-6a178a73f95a"
      },
      "outputs": [
        {
          "data": {
            "image/png": "[encoded data removed]",
            "text/plain": [
              "<Figure size 800x500 with 1 Axes>"
            ]
          },
          "metadata": {},
          "output_type": "display_data"
        }
      ],
      "source": [
        "import matplotlib.pyplot as plt\n",
        "\n",
        "# Calcular o comprimento de cada UTR\n",
        "df_utr[\"length\"] = df_utr[\"end\"] - df_utr[\"start\"]\n",
        "\n",
        "# Plotar um histograma de comprimento\n",
        "plt.figure(figsize=(8, 5))\n",
        "plt.hist(df_utr[\"length\"], bins=30, edgecolor='black')\n",
        "plt.xlabel(\"Comprimento UTR (bp)\")\n",
        "plt.ylabel(\"Frequência\")\n",
        "plt.title(\"Distribuição do Comprimento UTR\")\n",
        "plt.show()"
      ]
    },
    {
      "cell_type": "code",
      "execution_count": null,
      "metadata": {
        "colab": {
          "base_uri": "https://localhost:8080/"
        },
        "id": "t90MYBP3c7ou",
        "outputId": "1555329c-6a9a-4882-f495-ca585dce96d0"
      },
      "outputs": [],
      "source": [
        "#Executar merge_pa\n",
        "!conda run -n scape_env bash -c \\\n",
        "\"unset MPLBACKEND && export MPLBACKEND=Agg && \\\n",
        "scape merge_pa --output_dir /content/scape/examples/toy-example/ \\\n",
        "--utr_merge True\""
      ]
    },
    {
      "cell_type": "code",
      "execution_count": null,
      "metadata": {
        "colab": {
          "base_uri": "https://localhost:8080/"
        },
        "id": "5tJRhlYddZds",
        "outputId": "2e4476f5-aed4-4309-e0bd-61c1eeeae4f7"
      },
      "outputs": [],
      "source": [
        "# Verifique se \"prepare_input\" funcionou\n",
        "# Espere arquivos \".pk1\"\n",
        "import os\n",
        "\n",
        "# Listar arquivos gerados\n",
        "os.listdir(\"/content/scape/examples/toy-example/pkl_input/\")"
      ]
    },
    {
      "cell_type": "code",
      "execution_count": null,
      "metadata": {
        "colab": {
          "base_uri": "https://localhost:8080/"
        },
        "id": "k-QYjlsFdoqB",
        "outputId": "eb8513e6-587c-4ab4-e4ff-e5a6ea26adbd"
      },
      "outputs": [],
      "source": [
        "# Exibindo parâmetros por \"infer_pa\" (res.utr.pkl)\n",
        "!conda run -n scape_env bash -c \\\n",
        "\"unset MPLBACKEND && export MPLBACKEND=Agg && \\\n",
        "python -c 'import pickle; f=open(\\\"/content/scape/examples/toy-example/res.utr.pkl\\\", \\\"rb\\\"); \\\n",
        "print(pickle.load(f))'\""
      ]
    },
    {
      "cell_type": "code",
      "execution_count": null,
      "metadata": {
        "colab": {
          "base_uri": "https://localhost:8080/",
          "height": 410
        },
        "id": "TSzxP2qOdsTs",
        "outputId": "5af34d36-354f-4ceb-eda9-96655e5355e4"
      },
      "outputs": [
        {
          "data": {
            "image/png": "[encoded data removed]",
            "text/plain": [
              "<Figure size 600x400 with 1 Axes>"
            ]
          },
          "metadata": {},
          "output_type": "display_data"
        }
      ],
      "source": [
        "import matplotlib.pyplot as plt\n",
        "\n",
        "# Dados do Sítio PA\n",
        "pa_sites = [\"PA1 (2965)\", \"PA2 (4171)\"]\n",
        "usage_probs = [0.16, 0.84]\n",
        "\n",
        "# Criar Gráfico de Barras\n",
        "plt.figure(figsize=(6, 4))\n",
        "plt.bar(pa_sites, usage_probs, color=['blue', 'red'])\n",
        "plt.xlabel(\"Sítios de Poliadenilação\")\n",
        "plt.ylabel(\"Probabilidade de Uso\")\n",
        "plt.title(\"Preferência do Sítio de Poliadenilação na UTR\")\n",
        "plt.ylim(0, 1)\n",
        "\n",
        "# Mostrar gráfico\n",
        "plt.show()"
      ]
    },
    {
      "cell_type": "code",
      "execution_count": null,
      "metadata": {
        "colab": {
          "base_uri": "https://localhost:8080/"
        },
        "id": "cbsynHLXenFd",
        "outputId": "944af93d-f944-487d-8657-b1aef88b3cdc"
      },
      "outputs": [],
      "source": [
        "# merge_pa\n",
        "# Revisar o conteúdo do arquivo mesclado\n",
        "with open(\"/content/scape/examples/toy-example/res.gene.pkl\", \"rb\") as f:\n",
        "    try:\n",
        "        merged_pa = pickle.load(f)\n",
        "        print(merged_pa)\n",
        "    except EOFError:\n",
        "        print(\"O arquivo res.gene.pkl está vazio.\")"
      ]
    },
    {
      "cell_type": "code",
      "execution_count": null,
      "metadata": {
        "colab": {
          "base_uri": "https://localhost:8080/",
          "height": 81
        },
        "id": "EQ5GRF8-fNwQ",
        "outputId": "96b3a410-71ae-443b-d47f-ea443e7ca33a"
      },
      "outputs": [
        {
          "data": {
            "application/vnd.google.colaboratory.intrinsic+json": {
              "summary": "{\n  \"name\": \"df_exp_len\",\n  \"rows\": 1,\n  \"fields\": [\n    {\n      \"column\": \"gene_id\",\n      \"properties\": {\n        \"dtype\": \"string\",\n        \"num_unique_values\": 1,\n        \"samples\": [\n          \"ENSG00000099194:1\"\n        ],\n        \"semantic_type\": \"\",\n        \"description\": \"\"\n      }\n    },\n    {\n      \"column\": \"cell_cluster\",\n      \"properties\": {\n        \"dtype\": \"string\",\n        \"num_unique_values\": 1,\n        \"samples\": [\n          \"cell1\"\n        ],\n        \"semantic_type\": \"\",\n        \"description\": \"\"\n      }\n    },\n    {\n      \"column\": \"exp_length\",\n      \"properties\": {\n        \"dtype\": \"number\",\n        \"std\": null,\n        \"min\": 8.555119151025341,\n        \"max\": 8.555119151025341,\n        \"num_unique_values\": 1,\n        \"samples\": [\n          8.555119151025341\n        ],\n        \"semantic_type\": \"\",\n        \"description\": \"\"\n      }\n    },\n    {\n      \"column\": \"num_pa\",\n      \"properties\": {\n        \"dtype\": \"number\",\n        \"std\": null,\n        \"min\": 2,\n        \"max\": 2,\n        \"num_unique_values\": 1,\n        \"samples\": [\n          2\n        ],\n        \"semantic_type\": \"\",\n        \"description\": \"\"\n      }\n    }\n  ]\n}",
              "type": "dataframe",
              "variable_name": "df_exp_len"
            },
            "text/html": [
              "\n",
              "  <div id=\"df-a08418e1-7062-4ca3-afa0-4c714777a976\" class=\"colab-df-container\">\n",
              "    <div>\n",
              "<style scoped>\n",
              "    .dataframe tbody tr th:only-of-type {\n",
              "        vertical-align: middle;\n",
              "    }\n",
              "\n",
              "    .dataframe tbody tr th {\n",
              "        vertical-align: top;\n",
              "    }\n",
              "\n",
              "    .dataframe thead th {\n",
              "        text-align: right;\n",
              "    }\n",
              "</style>\n",
              "<table border=\"1\" class=\"dataframe\">\n",
              "  <thead>\n",
              "    <tr style=\"text-align: right;\">\n",
              "      <th></th>\n",
              "      <th>gene_id</th>\n",
              "      <th>cell_cluster</th>\n",
              "      <th>exp_length</th>\n",
              "      <th>num_pa</th>\n",
              "    </tr>\n",
              "  </thead>\n",
              "  <tbody>\n",
              "    <tr>\n",
              "      <th>0</th>\n",
              "      <td>ENSG00000099194:1</td>\n",
              "      <td>cell1</td>\n",
              "      <td>8.555119</td>\n",
              "      <td>2</td>\n",
              "    </tr>\n",
              "  </tbody>\n",
              "</table>\n",
              "</div>\n",
              "    <div class=\"colab-df-buttons\">\n",
              "\n",
              "  <div class=\"colab-df-container\">\n",
              "    <button class=\"colab-df-convert\" onclick=\"convertToInteractive('df-a08418e1-7062-4ca3-afa0-4c714777a976')\"\n",
              "            title=\"Convert this dataframe to an interactive table.\"\n",
              "            style=\"display:none;\">\n",
              "\n",
              "  <svg xmlns=\"http://www.w3.org/2000/svg\" height=\"24px\" viewBox=\"0 -960 960 960\">\n",
              "    <path d=\"M120-120v-720h720v720H120Zm60-500h600v-160H180v160Zm220 220h160v-160H400v160Zm0 220h160v-160H400v160ZM180-400h160v-160H180v160Zm440 0h160v-160H620v160ZM180-180h160v-160H180v160Zm440 0h160v-160H620v160Z\"/>\n",
              "  </svg>\n",
              "    </button>\n",
              "\n",
              "  <style>\n",
              "    .colab-df-container {\n",
              "      display:flex;\n",
              "      gap: 12px;\n",
              "    }\n",
              "\n",
              "    .colab-df-convert {\n",
              "      background-color: #E8F0FE;\n",
              "      border: none;\n",
              "      border-radius: 50%;\n",
              "      cursor: pointer;\n",
              "      display: none;\n",
              "      fill: #1967D2;\n",
              "      height: 32px;\n",
              "      padding: 0 0 0 0;\n",
              "      width: 32px;\n",
              "    }\n",
              "\n",
              "    .colab-df-convert:hover {\n",
              "      background-color: #E2EBFA;\n",
              "      box-shadow: 0px 1px 2px rgba(60, 64, 67, 0.3), 0px 1px 3px 1px rgba(60, 64, 67, 0.15);\n",
              "      fill: #174EA6;\n",
              "    }\n",
              "\n",
              "    .colab-df-buttons div {\n",
              "      margin-bottom: 4px;\n",
              "    }\n",
              "\n",
              "    [theme=dark] .colab-df-convert {\n",
              "      background-color: #3B4455;\n",
              "      fill: #D2E3FC;\n",
              "    }\n",
              "\n",
              "    [theme=dark] .colab-df-convert:hover {\n",
              "      background-color: #434B5C;\n",
              "      box-shadow: 0px 1px 3px 1px rgba(0, 0, 0, 0.15);\n",
              "      filter: drop-shadow(0px 1px 2px rgba(0, 0, 0, 0.3));\n",
              "      fill: #FFFFFF;\n",
              "    }\n",
              "  </style>\n",
              "\n",
              "    <script>\n",
              "      const buttonEl =\n",
              "        document.querySelector('#df-a08418e1-7062-4ca3-afa0-4c714777a976 button.colab-df-convert');\n",
              "      buttonEl.style.display =\n",
              "        google.colab.kernel.accessAllowed ? 'block' : 'none';\n",
              "\n",
              "      async function convertToInteractive(key) {\n",
              "        const element = document.querySelector('#df-a08418e1-7062-4ca3-afa0-4c714777a976');\n",
              "        const dataTable =\n",
              "          await google.colab.kernel.invokeFunction('convertToInteractive',\n",
              "                                                    [key], {});\n",
              "        if (!dataTable) return;\n",
              "\n",
              "        const docLinkHtml = 'Like what you see? Visit the ' +\n",
              "          '<a target=\"_blank\" href=https://colab.research.google.com/notebooks/data_table.ipynb>data table notebook</a>'\n",
              "          + ' to learn more about interactive tables.';\n",
              "        element.innerHTML = '';\n",
              "        dataTable['output_type'] = 'display_data';\n",
              "        await google.colab.output.renderOutput(dataTable, element);\n",
              "        const docLink = document.createElement('div');\n",
              "        docLink.innerHTML = docLinkHtml;\n",
              "        element.appendChild(docLink);\n",
              "      }\n",
              "    </script>\n",
              "  </div>\n",
              "\n",
              "\n",
              "    </div>\n",
              "  </div>\n"
            ],
            "text/plain": [
              "             gene_id cell_cluster  exp_length  num_pa\n",
              "0  ENSG00000099194:1        cell1    8.555119       2"
            ]
          },
          "execution_count": 63,
          "metadata": {},
          "output_type": "execute_result"
        }
      ],
      "source": [
        "# cal_exp_pa_len\n",
        "df_exp_len = pd.read_csv(\"/content/scape/examples/toy-example/cluster_wrt_CB.gene.pa.len.csv\")\n",
        "\n",
        "# Mostrar primeiras linhas\n",
        "df_exp_len.head()"
      ]
    },
    {
      "cell_type": "code",
      "execution_count": null,
      "metadata": {
        "colab": {
          "base_uri": "https://localhost:8080/",
          "height": 488
        },
        "id": "D2jHhX4pfVFI",
        "outputId": "db016e90-3ec6-4fc4-ac93-facacd7e983f"
      },
      "outputs": [
        {
          "data": {
            "image/png": "[encoded data removed]",
            "text/plain": [
              "<Figure size 800x500 with 1 Axes>"
            ]
          },
          "metadata": {},
          "output_type": "display_data"
        }
      ],
      "source": [
        "plt.figure(figsize=(8, 5))\n",
        "plt.hist(df_exp_len.iloc[:, 1], bins=30, edgecolor='black')\n",
        "plt.xlabel(\"Comprimento Esperado de Poliadenilação (pb)\")\n",
        "plt.ylabel(\"Frequência\")\n",
        "plt.title(\"Distribuição do Comprimento Esperado de PA\")\n",
        "plt.show()"
      ]
    },
    {
      "cell_type": "code",
      "execution_count": null,
      "metadata": {
        "colab": {
          "base_uri": "https://localhost:8080/",
          "height": 179
        },
        "id": "sdDZN76IfWX4",
        "outputId": "b923acd0-5da8-4b20-b0f1-8cc040097dda"
      },
      "outputs": [
        {
          "data": {
            "application/vnd.google.colaboratory.intrinsic+json": {
              "type": "dataframe",
              "variable_name": "df_counts"
            },
            "text/html": [
              "\n",
              "  <div id=\"df-7958674d-8091-4ac9-a0a6-a51dced8c434\" class=\"colab-df-container\">\n",
              "    <div>\n",
              "<style scoped>\n",
              "    .dataframe tbody tr th:only-of-type {\n",
              "        vertical-align: middle;\n",
              "    }\n",
              "\n",
              "    .dataframe tbody tr th {\n",
              "        vertical-align: top;\n",
              "    }\n",
              "\n",
              "    .dataframe thead th {\n",
              "        text-align: right;\n",
              "    }\n",
              "</style>\n",
              "<table border=\"1\" class=\"dataframe\">\n",
              "  <thead>\n",
              "    <tr style=\"text-align: right;\">\n",
              "      <th></th>\n",
              "      <th>pa_info</th>\n",
              "      <th>C1_AAACCTGAGACTCGGA-1</th>\n",
              "      <th>C1_AAACCTGAGAGCCTAG-1</th>\n",
              "      <th>C1_AAACCTGAGCCCGAAA-1</th>\n",
              "      <th>C1_AAACCTGAGTACGCGA-1</th>\n",
              "      <th>C1_AAACCTGAGTGGCACA-1</th>\n",
              "      <th>C1_AAACCTGCAAAGCGGT-1</th>\n",
              "      <th>C1_AAACCTGCACTTGGAT-1</th>\n",
              "      <th>C1_AAACCTGCATGGGACA-1</th>\n",
              "      <th>C1_AAACCTGGTGTCCTCT-1</th>\n",
              "      <th>...</th>\n",
              "      <th>S3_TTTGTCAAGTGGAGTC-1</th>\n",
              "      <th>S3_TTTGTCAAGTTCGATC-1</th>\n",
              "      <th>S3_TTTGTCACAGTTAACC-1</th>\n",
              "      <th>S3_TTTGTCACATGTAGTC-1</th>\n",
              "      <th>S3_TTTGTCACATTGGTAC-1</th>\n",
              "      <th>S3_TTTGTCAGTCATGCCG-1</th>\n",
              "      <th>S3_TTTGTCAGTCTTTCAT-1</th>\n",
              "      <th>S3_TTTGTCATCCCTAACC-1</th>\n",
              "      <th>S3_TTTGTCATCGATCCCT-1</th>\n",
              "      <th>S3_TTTGTCATCTCCGGTT-1</th>\n",
              "    </tr>\n",
              "  </thead>\n",
              "  <tbody>\n",
              "    <tr>\n",
              "      <th>0</th>\n",
              "      <td>10:100363599:45.0:+:1:ENSG00000099194:1</td>\n",
              "      <td>0.0</td>\n",
              "      <td>0.0</td>\n",
              "      <td>0.0</td>\n",
              "      <td>0.0</td>\n",
              "      <td>0.0</td>\n",
              "      <td>0.0</td>\n",
              "      <td>0.0</td>\n",
              "      <td>0.0</td>\n",
              "      <td>0.0</td>\n",
              "      <td>...</td>\n",
              "      <td>0.0</td>\n",
              "      <td>1.0</td>\n",
              "      <td>0.0</td>\n",
              "      <td>0.0</td>\n",
              "      <td>0.0</td>\n",
              "      <td>0.0</td>\n",
              "      <td>0.0</td>\n",
              "      <td>0.0</td>\n",
              "      <td>0.0</td>\n",
              "      <td>1.0</td>\n",
              "    </tr>\n",
              "    <tr>\n",
              "      <th>1</th>\n",
              "      <td>10:100364805:50.0:+:2:ENSG00000099194:1</td>\n",
              "      <td>0.0</td>\n",
              "      <td>0.0</td>\n",
              "      <td>1.0</td>\n",
              "      <td>0.0</td>\n",
              "      <td>0.0</td>\n",
              "      <td>0.0</td>\n",
              "      <td>0.0</td>\n",
              "      <td>0.0</td>\n",
              "      <td>0.0</td>\n",
              "      <td>...</td>\n",
              "      <td>0.0</td>\n",
              "      <td>0.0</td>\n",
              "      <td>0.0</td>\n",
              "      <td>0.0</td>\n",
              "      <td>0.0</td>\n",
              "      <td>1.0</td>\n",
              "      <td>0.0</td>\n",
              "      <td>0.0</td>\n",
              "      <td>0.0</td>\n",
              "      <td>1.0</td>\n",
              "    </tr>\n",
              "  </tbody>\n",
              "</table>\n",
              "<p>2 rows × 33089 columns</p>\n",
              "</div>\n",
              "    <div class=\"colab-df-buttons\">\n",
              "\n",
              "  <div class=\"colab-df-container\">\n",
              "    <button class=\"colab-df-convert\" onclick=\"convertToInteractive('df-7958674d-8091-4ac9-a0a6-a51dced8c434')\"\n",
              "            title=\"Convert this dataframe to an interactive table.\"\n",
              "            style=\"display:none;\">\n",
              "\n",
              "  <svg xmlns=\"http://www.w3.org/2000/svg\" height=\"24px\" viewBox=\"0 -960 960 960\">\n",
              "    <path d=\"M120-120v-720h720v720H120Zm60-500h600v-160H180v160Zm220 220h160v-160H400v160Zm0 220h160v-160H400v160ZM180-400h160v-160H180v160Zm440 0h160v-160H620v160ZM180-180h160v-160H180v160Zm440 0h160v-160H620v160Z\"/>\n",
              "  </svg>\n",
              "    </button>\n",
              "\n",
              "  <style>\n",
              "    .colab-df-container {\n",
              "      display:flex;\n",
              "      gap: 12px;\n",
              "    }\n",
              "\n",
              "    .colab-df-convert {\n",
              "      background-color: #E8F0FE;\n",
              "      border: none;\n",
              "      border-radius: 50%;\n",
              "      cursor: pointer;\n",
              "      display: none;\n",
              "      fill: #1967D2;\n",
              "      height: 32px;\n",
              "      padding: 0 0 0 0;\n",
              "      width: 32px;\n",
              "    }\n",
              "\n",
              "    .colab-df-convert:hover {\n",
              "      background-color: #E2EBFA;\n",
              "      box-shadow: 0px 1px 2px rgba(60, 64, 67, 0.3), 0px 1px 3px 1px rgba(60, 64, 67, 0.15);\n",
              "      fill: #174EA6;\n",
              "    }\n",
              "\n",
              "    .colab-df-buttons div {\n",
              "      margin-bottom: 4px;\n",
              "    }\n",
              "\n",
              "    [theme=dark] .colab-df-convert {\n",
              "      background-color: #3B4455;\n",
              "      fill: #D2E3FC;\n",
              "    }\n",
              "\n",
              "    [theme=dark] .colab-df-convert:hover {\n",
              "      background-color: #434B5C;\n",
              "      box-shadow: 0px 1px 3px 1px rgba(0, 0, 0, 0.15);\n",
              "      filter: drop-shadow(0px 1px 2px rgba(0, 0, 0, 0.3));\n",
              "      fill: #FFFFFF;\n",
              "    }\n",
              "  </style>\n",
              "\n",
              "    <script>\n",
              "      const buttonEl =\n",
              "        document.querySelector('#df-7958674d-8091-4ac9-a0a6-a51dced8c434 button.colab-df-convert');\n",
              "      buttonEl.style.display =\n",
              "        google.colab.kernel.accessAllowed ? 'block' : 'none';\n",
              "\n",
              "      async function convertToInteractive(key) {\n",
              "        const element = document.querySelector('#df-7958674d-8091-4ac9-a0a6-a51dced8c434');\n",
              "        const dataTable =\n",
              "          await google.colab.kernel.invokeFunction('convertToInteractive',\n",
              "                                                    [key], {});\n",
              "        if (!dataTable) return;\n",
              "\n",
              "        const docLinkHtml = 'Like what you see? Visit the ' +\n",
              "          '<a target=\"_blank\" href=https://colab.research.google.com/notebooks/data_table.ipynb>data table notebook</a>'\n",
              "          + ' to learn more about interactive tables.';\n",
              "        element.innerHTML = '';\n",
              "        dataTable['output_type'] = 'display_data';\n",
              "        await google.colab.output.renderOutput(dataTable, element);\n",
              "        const docLink = document.createElement('div');\n",
              "        docLink.innerHTML = docLinkHtml;\n",
              "        element.appendChild(docLink);\n",
              "      }\n",
              "    </script>\n",
              "  </div>\n",
              "\n",
              "\n",
              "<div id=\"df-88c05b16-9d32-48e4-bbe0-3577b3102842\">\n",
              "  <button class=\"colab-df-quickchart\" onclick=\"quickchart('df-88c05b16-9d32-48e4-bbe0-3577b3102842')\"\n",
              "            title=\"Suggest charts\"\n",
              "            style=\"display:none;\">\n",
              "\n",
              "<svg xmlns=\"http://www.w3.org/2000/svg\" height=\"24px\"viewBox=\"0 0 24 24\"\n",
              "     width=\"24px\">\n",
              "    <g>\n",
              "        <path d=\"M19 3H5c-1.1 0-2 .9-2 2v14c0 1.1.9 2 2 2h14c1.1 0 2-.9 2-2V5c0-1.1-.9-2-2-2zM9 17H7v-7h2v7zm4 0h-2V7h2v10zm4 0h-2v-4h2v4z\"/>\n",
              "    </g>\n",
              "</svg>\n",
              "  </button>\n",
              "\n",
              "<style>\n",
              "  .colab-df-quickchart {\n",
              "      --bg-color: #E8F0FE;\n",
              "      --fill-color: #1967D2;\n",
              "      --hover-bg-color: #E2EBFA;\n",
              "      --hover-fill-color: #174EA6;\n",
              "      --disabled-fill-color: #AAA;\n",
              "      --disabled-bg-color: #DDD;\n",
              "  }\n",
              "\n",
              "  [theme=dark] .colab-df-quickchart {\n",
              "      --bg-color: #3B4455;\n",
              "      --fill-color: #D2E3FC;\n",
              "      --hover-bg-color: #434B5C;\n",
              "      --hover-fill-color: #FFFFFF;\n",
              "      --disabled-bg-color: #3B4455;\n",
              "      --disabled-fill-color: #666;\n",
              "  }\n",
              "\n",
              "  .colab-df-quickchart {\n",
              "    background-color: var(--bg-color);\n",
              "    border: none;\n",
              "    border-radius: 50%;\n",
              "    cursor: pointer;\n",
              "    display: none;\n",
              "    fill: var(--fill-color);\n",
              "    height: 32px;\n",
              "    padding: 0;\n",
              "    width: 32px;\n",
              "  }\n",
              "\n",
              "  .colab-df-quickchart:hover {\n",
              "    background-color: var(--hover-bg-color);\n",
              "    box-shadow: 0 1px 2px rgba(60, 64, 67, 0.3), 0 1px 3px 1px rgba(60, 64, 67, 0.15);\n",
              "    fill: var(--button-hover-fill-color);\n",
              "  }\n",
              "\n",
              "  .colab-df-quickchart-complete:disabled,\n",
              "  .colab-df-quickchart-complete:disabled:hover {\n",
              "    background-color: var(--disabled-bg-color);\n",
              "    fill: var(--disabled-fill-color);\n",
              "    box-shadow: none;\n",
              "  }\n",
              "\n",
              "  .colab-df-spinner {\n",
              "    border: 2px solid var(--fill-color);\n",
              "    border-color: transparent;\n",
              "    border-bottom-color: var(--fill-color);\n",
              "    animation:\n",
              "      spin 1s steps(1) infinite;\n",
              "  }\n",
              "\n",
              "  @keyframes spin {\n",
              "    0% {\n",
              "      border-color: transparent;\n",
              "      border-bottom-color: var(--fill-color);\n",
              "      border-left-color: var(--fill-color);\n",
              "    }\n",
              "    20% {\n",
              "      border-color: transparent;\n",
              "      border-left-color: var(--fill-color);\n",
              "      border-top-color: var(--fill-color);\n",
              "    }\n",
              "    30% {\n",
              "      border-color: transparent;\n",
              "      border-left-color: var(--fill-color);\n",
              "      border-top-color: var(--fill-color);\n",
              "      border-right-color: var(--fill-color);\n",
              "    }\n",
              "    40% {\n",
              "      border-color: transparent;\n",
              "      border-right-color: var(--fill-color);\n",
              "      border-top-color: var(--fill-color);\n",
              "    }\n",
              "    60% {\n",
              "      border-color: transparent;\n",
              "      border-right-color: var(--fill-color);\n",
              "    }\n",
              "    80% {\n",
              "      border-color: transparent;\n",
              "      border-right-color: var(--fill-color);\n",
              "      border-bottom-color: var(--fill-color);\n",
              "    }\n",
              "    90% {\n",
              "      border-color: transparent;\n",
              "      border-bottom-color: var(--fill-color);\n",
              "    }\n",
              "  }\n",
              "</style>\n",
              "\n",
              "  <script>\n",
              "    async function quickchart(key) {\n",
              "      const quickchartButtonEl =\n",
              "        document.querySelector('#' + key + ' button');\n",
              "      quickchartButtonEl.disabled = true;  // To prevent multiple clicks.\n",
              "      quickchartButtonEl.classList.add('colab-df-spinner');\n",
              "      try {\n",
              "        const charts = await google.colab.kernel.invokeFunction(\n",
              "            'suggestCharts', [key], {});\n",
              "      } catch (error) {\n",
              "        console.error('Error during call to suggestCharts:', error);\n",
              "      }\n",
              "      quickchartButtonEl.classList.remove('colab-df-spinner');\n",
              "      quickchartButtonEl.classList.add('colab-df-quickchart-complete');\n",
              "    }\n",
              "    (() => {\n",
              "      let quickchartButtonEl =\n",
              "        document.querySelector('#df-88c05b16-9d32-48e4-bbe0-3577b3102842 button');\n",
              "      quickchartButtonEl.style.display =\n",
              "        google.colab.kernel.accessAllowed ? 'block' : 'none';\n",
              "    })();\n",
              "  </script>\n",
              "</div>\n",
              "\n",
              "    </div>\n",
              "  </div>\n"
            ],
            "text/plain": [
              "                                   pa_info  C1_AAACCTGAGACTCGGA-1  \\\n",
              "0  10:100363599:45.0:+:1:ENSG00000099194:1                    0.0   \n",
              "1  10:100364805:50.0:+:2:ENSG00000099194:1                    0.0   \n",
              "\n",
              "   C1_AAACCTGAGAGCCTAG-1  C1_AAACCTGAGCCCGAAA-1  C1_AAACCTGAGTACGCGA-1  \\\n",
              "0                    0.0                    0.0                    0.0   \n",
              "1                    0.0                    1.0                    0.0   \n",
              "\n",
              "   C1_AAACCTGAGTGGCACA-1  C1_AAACCTGCAAAGCGGT-1  C1_AAACCTGCACTTGGAT-1  \\\n",
              "0                    0.0                    0.0                    0.0   \n",
              "1                    0.0                    0.0                    0.0   \n",
              "\n",
              "   C1_AAACCTGCATGGGACA-1  C1_AAACCTGGTGTCCTCT-1  ...  S3_TTTGTCAAGTGGAGTC-1  \\\n",
              "0                    0.0                    0.0  ...                    0.0   \n",
              "1                    0.0                    0.0  ...                    0.0   \n",
              "\n",
              "   S3_TTTGTCAAGTTCGATC-1  S3_TTTGTCACAGTTAACC-1  S3_TTTGTCACATGTAGTC-1  \\\n",
              "0                    1.0                    0.0                    0.0   \n",
              "1                    0.0                    0.0                    0.0   \n",
              "\n",
              "   S3_TTTGTCACATTGGTAC-1  S3_TTTGTCAGTCATGCCG-1  S3_TTTGTCAGTCTTTCAT-1  \\\n",
              "0                    0.0                    0.0                    0.0   \n",
              "1                    0.0                    1.0                    0.0   \n",
              "\n",
              "   S3_TTTGTCATCCCTAACC-1  S3_TTTGTCATCGATCCCT-1  S3_TTTGTCATCTCCGGTT-1  \n",
              "0                    0.0                    0.0                    1.0  \n",
              "1                    0.0                    0.0                    1.0  \n",
              "\n",
              "[2 rows x 33089 columns]"
            ]
          },
          "execution_count": 65,
          "metadata": {},
          "output_type": "execute_result"
        }
      ],
      "source": [
        "#ex_pa_cnt_mat\n",
        "\n",
        "df_counts = pd.read_csv(\"/content/scape/examples/toy-example/res.utr.cnt.tsv.gz\", sep=\"\\t\")\n",
        "\n",
        "# Mostrar primeiras linhas\n",
        "df_counts.head()"
      ]
    },
    {
      "cell_type": "code",
      "execution_count": null,
      "metadata": {
        "colab": {
          "base_uri": "https://localhost:8080/",
          "height": 487
        },
        "id": "xFQi3nvefaOT",
        "outputId": "b9bf7e23-20c2-4d06-eded-c500dcf5b313"
      },
      "outputs": [
        {
          "data": {
            "image/png": "[encoded data removed]",
            "text/plain": [
              "<Figure size 800x500 with 1 Axes>"
            ]
          },
          "metadata": {},
          "output_type": "display_data"
        }
      ],
      "source": [
        "plt.figure(figsize=(8, 5))\n",
        "plt.hist(df_counts.iloc[:, 1], bins=30, edgecolor='black')\n",
        "plt.xlabel(\"Número de Eventos de Poliadenilação\")\n",
        "plt.ylabel(\"Frequência\")\n",
        "plt.title(\"Distribuição de Eventos de Poliadenilação\")\n",
        "plt.show()"
      ]
    }
  ],
  "metadata": {
    "colab": {
      "provenance": []
    },
    "kernelspec": {
      "display_name": "Python 3",
      "name": "python3"
    },
    "language_info": {
      "name": "python"
    }
  },
  "nbformat": 4,
  "nbformat_minor": 0
}
