{
 "cells": [
  {
   "cell_type": "markdown",
   "id": "62c3e32d",
   "metadata": {},
   "source": [
    "## Carregue as bibliotecas e ajuste o caminho para o diretório"
   ]
  },
  {
   "cell_type": "code",
   "execution_count": null,
   "id": "fc9a0028",
   "metadata": {
    "vscode": {
     "languageId": "r"
    }
   },
   "outputs": [],
   "source": [
    "## Função para executar comandos shell de dentro do R\n",
    "## Útil ao executar R no Google Colab ou outros ambientes onde chamadas de sistema são necessárias\n",
    "shell_call <- function(command, ...) {\n",
    "  result <- system(command, intern = TRUE, ...)  # Execute o comando shell e capture a saída\n",
    "  cat(paste0(result, collapse = \"\\n\"))  # Imprima o resultado em um formato legível\n",
    "}\n",
    "\n",
    "## Função para carregar pacotes R necessários\n",
    "## Se um pacote não estiver instalado, ele será notificado\n",
    "loadPackages = function(pkgs){\n",
    "  myrequire = function(...){\n",
    "    suppressWarnings(suppressMessages(suppressPackageStartupMessages(require(...))))\n",
    "  }\n",
    "  ok = sapply(pkgs, require, character.only=TRUE, quietly=TRUE)  # Verifica se os pacotes estão disponíveis\n",
    "  if (!all(ok)){\n",
    "    message(\"There are missing packages: \", paste(pkgs[!ok], collapse=\", \"))  # Informar o usuário sobre pacotes não instalados\n",
    "  }\n",
    "}\n",
    "\n",
    "## Configure o R2U (gerenciador de pacotes R otimizado para Ubuntu) para instalação mais rápida de pacotes\n",
    "download.file(\"https://github.com/eddelbuettel/r2u/raw/master/inst/scripts/add_cranapt_jammy.sh\",\n",
    "              \"add_cranapt_jammy.sh\")  #Baixe o script de instalação\n",
    "Sys.chmod(\"add_cranapt_jammy.sh\", \"0755\")  # Conceda permissões de execução ao script\n",
    "shell_call(\"./add_cranapt_jammy.sh\")  # Rode o script\n",
    "bspm::enable()  # Habilite BSPM (Bridge to System Package Manager) para instalar pacotes R\n",
    "options(bspm.version.check=FALSE)  # Desabilite a verificação de versão do BSPM\n",
    "shell_call(\"rm add_cranapt_jammy.sh\")  # Remova o script de instalação após a execução\n",
    "\n",
    "## Instale os pacotes R necessários do CRAN\n",
    "cranPkgs2Install = c(\"dplyr\", \"ggpubr\", \"Seurat\", \"cowplot\",\n",
    "                     \"Rtsne\", \"hdf5r\", \"patchwork\")\n",
    "install.packages(cranPkgs2Install, ask=FALSE, update=TRUE, quietly=TRUE)"
   ]
  },
  {
   "cell_type": "code",
   "execution_count": null,
   "id": "e7849dc5",
   "metadata": {
    "vscode": {
     "languageId": "r"
    }
   },
   "outputs": [],
   "source": [
    "## Para simplificar o carregamento de pacotes, criamos a função loadPackages()\n",
    "## Se você não tiver essa função, deverá carregar os pacotes usando library(nome_do_pacote)\n",
    "pkgs = c(\"Seurat\", \"dplyr\",\"patchwork\",\"ggplot2\")\n",
    "loadPackages(pkgs)  # Carregar os pacotes especificados\n",
    "\n",
    "# Importante\n",
    "# Atualize o diretório scw01 para corresponder ao seu diretório de usuário pessoal\n",
    "# Para corresponder ao seu diretório de usuário pessoal. É aqui que você lê e salva dados\n",
    "mydir <- \"/content\""
   ]
  },
  {
   "cell_type": "markdown",
   "id": "cab5403b",
   "metadata": {},
   "source": [
    "# Análises de Dados Multi-modal"
   ]
  },
  {
   "cell_type": "markdown",
   "id": "fa44b600",
   "metadata": {},
   "source": [
    "Neste notebook, vamos embarcar na emocionante jornada de análise de dados multimodais, com foco específico nos níveis de expressão de RNA e proteínas em células individuais. Seremos guiados por um tutorial abrangente do Seurat, que você pode encontrar em detalhes [aqui](https://satijalab.org/seurat/articles/multimodal_vignette.html).\n",
    "\n",
    "O conjunto de dados com o qual trabalharemos consiste em 8.617 células mononucleares do sangue do cordão umbilical (CBMCs). Essas células foram meticulosamente analisadas para fornecer medições transcriptômicas e estimativas de abundância para 11 proteínas de superfície. Os níveis de proteína foram quantificados usando anticorpos com código de barras de DNA, permitindo dados precisos e confiáveis.\n",
    "\n",
    "Para iniciar nossas análises, carregaremos duas matrizes de contagem: uma contendo as medições de RNA e a outra contendo as etiquetas derivadas de anticorpos (ADT). Esse conjunto duplo de dados nos permitirá explorar e compreender as complexas relações entre a expressão de RNA e os níveis de proteína nessas células individuais.\n",
    "\n",
    "Aqui está uma breve visão geral do nosso conjunto de dados, conforme descrito pelo Seurat: > \"Nesta análise, examinamos um conjunto de dados de 8.617 células mononucleares do sangue de cordão umbilical (CBMCs), onde as medições transcriptômicas são pareadas com estimativas de abundância para 11 proteínas de superfície, quantificadas usando anticorpos com código de barras de DNA. Inicialmente, carregamos duas matrizes de contagem: uma para as medições de RNA e outra para as etiquetas derivadas de anticorpos (ADT).\"\n",
    "\n",
    "Neste tutorial, pretendemos obter insights sobre os mecanismos biológicos em questão e as interações entre as expressões de RNA e proteínas no nível de uma única célula.\n"
   ]
  },
  {
   "cell_type": "code",
   "execution_count": null,
   "id": "1f81d1b3",
   "metadata": {
    "vscode": {
     "languageId": "r"
    }
   },
   "outputs": [],
   "source": [
    "# Baixe os dados brutos de RNA-seq de célula única e ADT (marcação derivada de anticorpo) do banco de dados NCBI GEO\n",
    "shell_call(\"wget ftp://ftp.ncbi.nlm.nih.gov/geo/series/GSE100nnn/GSE100866/suppl/GSE100866_CBMC_8K_13AB_10X-ADT_umi.csv.gz\")\n",
    "shell_call(\"wget ftp://ftp.ncbi.nlm.nih.gov/geo/series/GSE100nnn/GSE100866/suppl/GSE100866_CBMC_8K_13AB_10X-RNA_umi.csv.gz\")"
   ]
  },
  {
   "cell_type": "code",
   "execution_count": null,
   "id": "d4c4a85d",
   "metadata": {
    "vscode": {
     "languageId": "r"
    }
   },
   "outputs": [],
   "source": [
    "# Carregue a matriz UMI de RNA\n",
    "# Observação: O conjunto de dados também contém ~5% de células de camundongo, que podemos usar como controles negativos para as medições de proteína.\n",
    "# Por esse motivo, a matriz de expressão gênica tem HUMAN_ ou MOUSE_ anexado ao início de cada gene.\n",
    "cbmc.rna <- as.sparse(read.csv(file = paste0(mydir,\"/GSE100866_CBMC_8K_13AB_10X-RNA_umi.csv.gz\"), sep = \",\", header = TRUE, row.names = 1))\n",
    "# read.csv: lê um arquivo CSV em um data frame, o argumento file especifica o caminho para o arquivo CSV.\n",
    "# o paste0 concatena o diretório armazenado em mydir com o nome do arquivo.\n",
    "# sep = \",\": indica que o delimitador usado no arquivo CSV é uma vírgula.\n",
    "# header = TRUE: especifica que a primeira linha do arquivo CSV contém nomes de colunas.\n",
    "# row.names = 1: especifica que a primeira coluna do arquivo CSV deve ser usada como nomes de linhas.\n",
    "# as.sparse(): esta função converte o quadro de dados em uma matriz esparsa.\n",
    "# Matrizes esparsas são usadas para armazenar dados de forma eficiente com muitos valores zero, o que é comum em dados de RNA-seq de célula única.\n",
    "\n",
    "# Para facilitar um pouco a nossa vida daqui para frente, vamos descartar todos os genes de camundongo, exceto os 100 genes mais expressos, e remover o 'HUMAN_' do prefixo CITE-seq\n",
    "cbmc.rna <- CollapseSpeciesExpressionMatrix(cbmc.rna)\n",
    "\n",
    "# Este comando processa a matriz cbmc.rna para manipular ou compactar dados de expressão gênica de espécies potencialmente múltiplas, garantindo que a matriz esteja formatada corretamente para análises posteriores.\n",
    "\n",
    "# Carregue a matriz ADT UMI (para medições de nível de proteína)\n",
    "cbmc.adt <- as.sparse(read.csv(file = paste0(mydir,\"/GSE100866_CBMC_8K_13AB_10X-ADT_umi.csv.gz\"), sep = \",\", header = TRUE, row.names = 1))\n",
    "\n",
    "# Nota: Certifique-se de que as matrizes RNA e ADT tenham nomes de colunas idênticos (ou seja, as mesmas células).\n",
    "# Este comando é usado para comparar os nomes das colunas de dois quadros de dados.\n",
    "all.equal(colnames(cbmc.rna), colnames(cbmc.adt))  # Deve retornar TRUE"
   ]
  },
  {
   "cell_type": "code",
   "execution_count": null,
   "id": "99e9aaef",
   "metadata": {
    "vscode": {
     "languageId": "r"
    }
   },
   "outputs": [],
   "source": [
    "# Crie um objeto Seurat para os dados scRNA-seq\n",
    "cbmc <- CreateSeuratObject(counts = cbmc.rna)\n",
    "\n",
    "# Verifique o ensaio disponível (por padrão, é \"RNA\"). O objeto cbmc contém um ensaio que armazena medições de RNA.\n",
    "Assays(cbmc)\n",
    "\n",
    "# Crie um novo ensaio para armazenar informações de ADT\n",
    "adt_assay <- CreateAssayObject(counts = cbmc.adt)\n",
    "\n",
    "# Adicione o ensaio ADT ao objeto Seurat\n",
    "cbmc[[\"ADT\"]] <- adt_assay\n",
    "\n",
    "# Verifique se o objeto Seurat agora contém ensaios de RNA e ADT\n",
    "Assays(cbmc)\n",
    "\n",
    "# Extraia uma lista de características (anticorpos) medidas no ensaio ADT\n",
    "rownames(cbmc[[\"ADT\"]])\n",
    "\n",
    "# Nota: Podemos alternar facilmente entre os dois ensaios para especificar o padrão para visualização e análises\n",
    "\n",
    "# Listar o ensaio padrão atual (deve ser RNA)\n",
    "DefaultAssay(cbmc)\n",
    "\n",
    "# Mude o ensaio padrão para ADT\n",
    "DefaultAssay(cbmc) <- \"ADT\"\n",
    "DefaultAssay(cbmc)  # Deve retornar \"ADT\""
   ]
  },
  {
   "cell_type": "markdown",
   "id": "8e4986b1",
   "metadata": {},
   "source": [
    "## Agrupamento"
   ]
  },
  {
   "cell_type": "code",
   "execution_count": null,
   "id": "95e9f1f6",
   "metadata": {
    "vscode": {
     "languageId": "r"
    }
   },
   "outputs": [],
   "source": [
    "# Observe que todas as operações abaixo são realizadas no conjunto de ensaios de RNA e verifique se\n",
    "# O ensaio padrão é RNA\n",
    "DefaultAssay(cbmc) <- \"RNA\" # Este comando define o ensaio padrão para o objeto cbmc ser o ensaio de RNA\n",
    "DefaultAssay(cbmc) # Veja o Ensaio\n",
    "\n",
    "# Execute as etapas de visualização e agrupamento\n",
    "cbmc <- NormalizeData(cbmc) # Este comando normaliza os dados de expressão genética no objeto cbmc\n",
    "cbmc <- FindVariableFeatures(cbmc) # Este comando identifica características mais variáveis ​​nos dados\n",
    "cbmc <- ScaleData(cbmc) # Este comando dimensiona os dados, ajustando a média da expressão genética para 0 e a variância para 1.\n",
    "cbmc <- RunPCA(cbmc, verbose = FALSE) # Este comando executa uma Análise de Componentes Principais (PCA) nos dados\n",
    "cbmc <- FindNeighbors(cbmc, dims = 1:30) # Este comando encontra os vizinhos mais próximos de cada célula com base nas primeiras 30 dimensões resultantes do PCA\n",
    "cbmc <- FindClusters(cbmc, resolution = 0.8, # Este comando realiza o agrupamento das células usando os vizinhos mais próximos identificados anteriormente\n",
    "verbose = FALSE)\n",
    "cbmc <- RunUMAP(cbmc, dims = 1:30) # Este comando executa a projeção UMAP (Uniform Manifold Approximation and Projection) para visualizar os dados em um espaço de dimensão inferior\n",
    "DimPlot(cbmc, label = TRUE) # Este comando gera um gráfico de dispersão das células no espaço UMAP, onde cada ponto representa uma célula"
   ]
  },
  {
   "cell_type": "markdown",
   "id": "1f03ceaf",
   "metadata": {},
   "source": [
    "## Visualize múltiplas modalidades lado a lado\n",
    "\n",
    "Agora que agrupamos com sucesso nossos perfis de scRNA-seq, podemos prosseguir para a visualização da expressão de moléculas de proteína ou RNA em nosso conjunto de dados. O Seurat oferece diversos métodos para alternar entre diferentes modalidades e especificar qual modalidade você deseja analisar ou visualizar.\n",
    "\n",
    "Isso é especialmente importante porque, em alguns casos, a mesma característica pode estar presente em múltiplas modalidades. Por exemplo, em nosso conjunto de dados, temos medições independentes do marcador de células B CD19, tanto em nível de proteína quanto de RNA. A capacidade de alternar entre essas modalidades nos permite explorar e compreender de forma abrangente o significado biológico dessas características.\n",
    "\n",
    "Ao aproveitar os recursos do Seurat, podemos obter insights mais profundos sobre as relações e interações entre as expressões de RNA e proteínas em células individuais, aprimorando, em última análise, nossa compreensão dos processos biológicos subjacentes.\n",
    "\n",
    "Se você tiver alguma dúvida ou precisar de mais ajuda com a análise, sinta-se à vontade para perguntar!"
   ]
  },
  {
   "cell_type": "code",
   "execution_count": null,
   "id": "52be8650",
   "metadata": {
    "vscode": {
     "languageId": "r"
    }
   },
   "outputs": [],
   "source": [
    "# Normalize os dados ADT \n",
    "DefaultAssay(cbmc) <- \"ADT\" # Este comando define o ensaio padrão para o objeto cbmc como o ensaio de etiquetas derivadas de anticorpos (ADT)\n",
    "cbmc <- NormalizeData(cbmc, normalization.method = \"CLR\", margin = 2)\n",
    "# Este comando normaliza os dados ADT no objeto cbmc usando o método CLR (Centered Log Ratio). O parâmetro margin = 2 indica que a normalização será aplicada às colunas (genes/proteínas).\n",
    "DefaultAssay(cbmc) <- \"RNA\" # Este comando redefine o ensaio padrão para o objeto cbmc para ser o ensaio de RNA.\n",
    "\n",
    "# Perceba que o comando a seguir é uma alternativa, mas retorna o mesmo resultado\n",
    "cbmc <- NormalizeData(cbmc, normalization.method = \"CLR\", margin = 2, assay = \"ADT\")\n",
    "\n",
    "# Agora, vamos visualizar os níveis de CD14 para RNA e proteína. Ao definir o ensaio padrão, podemos visualizar um ou outro\n",
    "DefaultAssay(cbmc) <- \"ADT\"\n",
    "p1 <- FeaturePlot(cbmc, \"CD19\", cols = c(\"lightgrey\", \"darkgreen\")) \n",
    "+ ggtitle(\"CD19 protein\") # Este comando cria um FeaturePlot da proteína CD19 nos dados ADT, colorindo células com baixos níveis de expressão em cinza claro e altos níveis em verde escuro\n",
    "DefaultAssay(cbmc) <- \"RNA\" # Este comando redefine o ensaio padrão para RNA.\n",
    "p2 <- FeaturePlot(cbmc, \"CD19\") + ggtitle(\"CD19 RNA\") # Este comando cria um FeaturePlot do RNA CD19 nos dados do RNA\n",
    "\n",
    "# Coloque os gráficos lado a lado\n",
    "p1 | p2 # Este comando coloca os dois gráficos lado a lado para comparação visual da expressão da proteína CD19 e do RNA.\n",
    "\n",
    "\n",
    "# Alternativamente, podemos usar chaves de ensaio específicas para especificar uma modalidade específica. Identifique a chave para os ensaios de RNA e proteína.\n",
    "Key(cbmc[[\"RNA\"]])\n",
    "Key(cbmc[[\"ADT\"]])\n",
    "# Estes comandos identificam as chaves para os ensaios de RNA e ADT, respectivamente. As chaves são prefixos usados ​​para diferenciar modalidades ao especificar características.\n",
    "\n",
    "# Agora, podemos incluir a chave no nome das características, que substitui o ensaio padrão\n",
    "p1 <- FeaturePlot(cbmc, \"adt_CD19\", cols = c(\"lightgrey\", \"darkgreen\")) + ggtitle(\"CD19 protein\")\n",
    "p2 <- FeaturePlot(cbmc, \"rna_CD19\") + ggtitle(\"CD19 RNA\")\n",
    "p1 | p2 # visualize os gráficos p1 e p2 simultaneamente "
   ]
  },
  {
   "cell_type": "markdown",
   "id": "86dbd8be",
   "metadata": {},
   "source": [
    "## Identifique marcadores de superficie celular para agrupamentos de scRNA-seq"
   ]
  },
  {
   "cell_type": "code",
   "execution_count": null,
   "id": "b5aea4b8",
   "metadata": {
    "vscode": {
     "languageId": "r"
    }
   },
   "outputs": [],
   "source": [
    "# Como sabemos, o CD19 é um marcador de células B, podemos identificar o cluster 6 como expressando CD19 na superfície\n",
    "VlnPlot(cbmc, \"adt_CD19\") # Crie um gráfico de violino\n",
    "\n",
    "# Também podemos identificar marcadores alternativos de proteínas e RNA para este cluster por meio de expressão diferencial\n",
    "adt_markers <- FindMarkers(cbmc, ident.1 = 6, assay = \"ADT\") # Esta função identifica marcadores diferencialmente expressos para o cluster 6 usando o ensaio ADT\n",
    "rna_markers <- FindMarkers(cbmc, ident.1 = 6, assay = \"RNA\") # Esta função identifica marcadores diferencialmente expressos para o cluster 6 usando o ensaio de RNA\n",
    "#ident.1 = 6: Especifica que o cluster 6 é o grupo de interesse para o qual os marcadores estão sendo identificados.\n",
    "#assay: Indica que os dados do ensaio ADT/RNA devem ser usados ​​para a análise.\n",
    "#adt/rna_markers: Armazena os resultados da identificação do marcador para o ensaio ADT/RNA.\n",
    "\n",
    "# Exibe os principais marcadores\n",
    "head(adt_markers)\n",
    "head(rna_markers)"
   ]
  },
  {
   "cell_type": "markdown",
   "id": "b9b2646d",
   "metadata": {},
   "source": [
    "## Visualizções adicionais de dados multimodais"
   ]
  },
  {
   "cell_type": "code",
   "execution_count": null,
   "id": "5e7d4102",
   "metadata": {
    "vscode": {
     "languageId": "r"
    }
   },
   "outputs": [],
   "source": [
    "# Desenhar gráficos de dispersão ADT (como gráficos biaxiais para FACS). Observe que você pode até mesmo \"selecionar\" células, se desejar, usando HoverLocator e FeatureLocator.\n",
    "FeatureScatter(cbmc, feature1 = \"adt_CD19\", feature2 = \"adt_CD3\")\n",
    "\n",
    "# Visualize a relação entre proteína e RNA\n",
    "FeatureScatter(cbmc, feature1 = \"adt_CD3\", feature2 = \"rna_CD3E\")\n",
    "\n",
    "FeatureScatter(cbmc, feature1 = \"adt_CD4\", feature2 = \"adt_CD8\")\n",
    "\n",
    "# Vamos observar as contagens brutas (não normalizadas) de ADT. Você pode ver que os valores são bastante altos, especialmente em comparação com os valores de RNA. Isso ocorre devido ao número significativamente maior de cópias de proteínas nas células, o que reduz significativamente a 'perda' nos dados de ADT.\n",
    "FeatureScatter(cbmc, feature1 = \"adt_CD4\", feature2 = \"adt_CD8\", slot = \"counts\")"
   ]
  },
  {
   "cell_type": "markdown",
   "id": "912692c2",
   "metadata": {},
   "source": [
    "## Carregando dados da 10X de experimentos multimodais"
   ]
  },
  {
   "cell_type": "markdown",
   "id": "53e58d43",
   "metadata": {},
   "source": [
    "### NOTA: NÃO RODE ESTA ETAPA\n",
    "\n",
    "Estamos incluindo isso para sua referência caso você precise processar dados multimodais 10x a partir de dados brutos."
   ]
  },
  {
   "cell_type": "code",
   "execution_count": null,
   "id": "36bb58a5",
   "metadata": {
    "vscode": {
     "languageId": "r"
    }
   },
   "outputs": [],
   "source": [
    "# Carregue o conjunto de dados 10X Genomics PBMC do diretório especificado\n",
    "# Esses dados incluem informações sobre expressão gênica e captura de anticorpos\n",
    "pbmc10k.data <- Read10X(data.dir = \"../data/pbmc10k/filtered_feature_bc_matrix/\")\n",
    "\n",
    "# Limpe os nomes das linhas dos dados de Captura de Anticorpos para remover sufixos indesejados,\n",
    "# especificamente os prefixos '_TotalSeqB' e 'control'\n",
    "rownames(x = pbmc10k.data[[\"Antibody Capture\"]]) <- gsub(pattern = \"_[control_]*TotalSeqB\", replacement = \"\",\n",
    "    x = rownames(x = pbmc10k.data[[\"Antibody Capture\"]]))\n",
    "\n",
    "# Crie um objeto Seurat para os dados de expressão gênica,\n",
    "# Filtragem para manter genes detectados em pelo menos 3 células e células com pelo menos 200 genes\n",
    "pbmc10k <- CreateSeuratObject(counts = pbmc10k.data[[\"Gene Expression\"]], min.cells = 3, min.features = 200)\n",
    "\n",
    "# Normalizar os dados de expressão genética usando a normalização de log\n",
    "pbmc10k <- NormalizeData(pbmc10k)\n",
    "\n",
    "# Adicione os dados ADT (Antibody Derived Tags) ao objeto Seurat como um ensaio separado\n",
    "# Isso garante que possamos analisar a expressão de proteínas juntamente com os dados de RNA\n",
    "pbmc10k[[\"ADT\"]] <- CreateAssayObject(pbmc10k.data[[\"Antibody Capture\"]][, colnames(x = pbmc10k)])\n",
    "\n",
    "# Normalize the ADT data using CLR (Centered Log Ratio) normalization method\n",
    "# Isso é importante para corrigir a variação técnica nos dados de expressão de proteínas\n",
    "pbmc10k <- NormalizeData(pbmc10k, assay = \"ADT\", normalization.method = \"CLR\")\n",
    "\n",
    "# Crie gráficos de dispersão para visualizar a relação entre diferentes características:\n",
    "# Gráfico 1: Expressão da proteína CD19 vs. CD3\n",
    "plot1 <- FeatureScatter(pbmc10k, feature1 = \"adt_CD19\", feature2 = \"adt_CD3\", pt.size = 1)\n",
    "\n",
    "# Gráfico 2: Expressão da proteína CD4 vs. CD8a\n",
    "plot2 <- FeatureScatter(pbmc10k, feature1 = \"adt_CD4\", feature2 = \"adt_CD8a\", pt.size = 1)\n",
    "\n",
    "# Gráfico 3: Expressão da proteína CD3 vs. expressão do RNA CD3E\n",
    "plot3 <- FeatureScatter(pbmc10k, feature1 = \"adt_CD3\", feature2 = \"CD3E\", pt.size = 1)\n",
    "\n",
    "# Combine os três gráficos de dispersão em uma figura e remova a legenda para maior clareza\n",
    "(plot1 + plot2 + plot3) & NoLegend()"
   ]
  }
 ],
 "metadata": {
  "kernelspec": {
   "display_name": "R",
   "language": "R",
   "name": "ir"
  },
  "language_info": {
   "name": "R"
  }
 },
 "nbformat": 4,
 "nbformat_minor": 5
}
