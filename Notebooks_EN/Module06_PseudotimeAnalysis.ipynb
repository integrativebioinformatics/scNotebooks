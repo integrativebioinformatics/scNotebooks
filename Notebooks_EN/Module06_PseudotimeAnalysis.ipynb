{
 "cells": [
  {
   "cell_type": "markdown",
   "metadata": {
    "id": "b5fMowVXinnt"
   },
   "source": [
    "# Trajectory inference and pseudotemporal ordering"
   ]
  },
  {
   "cell_type": "markdown",
   "metadata": {
    "id": "1qOd4r2Siqug"
   },
   "source": [
    "## Install the required libraries"
   ]
  },
  {
   "cell_type": "code",
   "execution_count": null,
   "metadata": {
    "colab": {
     "base_uri": "https://localhost:8080/"
    },
    "executionInfo": {
     "elapsed": 31999,
     "status": "ok",
     "timestamp": 1714164289566,
     "user": {
      "displayName": "Adolfo Alexis Rojas Hidalgo",
      "userId": "18158766317608392773"
     },
     "user_tz": 240
    },
    "id": "GoQmbEWCiWp5",
    "outputId": "444306d7-3289-4d65-dd87-27f742afdec5",
    "vscode": {
     "languageId": "r"
    }
   },
   "outputs": [],
   "source": [
    "# Download a script from GitHub that configures package installation \n",
    "# for R from the system's package manager (apt).\n",
    "download.file(\"https://github.com/eddelbuettel/r2u/raw/master/inst/scripts/add_cranapt_jammy.sh\",\n",
    "              \"add_cranapt_jammy.sh\")\n",
    "\n",
    "# Grant execution permissions to the downloaded script\n",
    "Sys.chmod(\"add_cranapt_jammy.sh\", \"0755\")\n",
    "\n",
    "# Execute the script to set up R package installation via apt\n",
    "system(\"./add_cranapt_jammy.sh\")\n",
    "\n",
    "# Enable bspm (Bridge to System Package Manager), which allows installing R packages from the system’s package manager\n",
    "bspm::enable()\n",
    "\n",
    "# Disable version checking for bspm to prevent compatibility issues\n",
    "options(bspm.version.check=FALSE)\n",
    "\n",
    "# Remove the script after execution to keep the environment clean\n",
    "system(\"rm add_cranapt_jammy.sh\")\n"
   ]
  },
  {
   "cell_type": "markdown",
   "metadata": {
    "id": "U2cdonBMivhZ"
   },
   "source": [
    "We will create an R function to performs system calls"
   ]
  },
  {
   "cell_type": "code",
   "execution_count": 2,
   "metadata": {
    "executionInfo": {
     "elapsed": 2,
     "status": "ok",
     "timestamp": 1714164289566,
     "user": {
      "displayName": "Adolfo Alexis Rojas Hidalgo",
      "userId": "18158766317608392773"
     },
     "user_tz": 240
    },
    "id": "6uBhWJgUiHVH",
    "vscode": {
     "languageId": "r"
    }
   },
   "outputs": [],
   "source": [
    "# Define a function to execute shell commands and capture their output\n",
    "shell_call <- function(command, ...) {\n",
    "  # Execute the command in the system shell and capture the output\n",
    "  result <- system(command, intern = TRUE, ...)\n",
    "  \n",
    "  # Print the output in a readable format\n",
    "  cat(paste0(result, collapse = \"\\n\"))\n",
    "}"
   ]
  },
  {
   "cell_type": "markdown",
   "metadata": {
    "id": "I2EVnawvpIa8"
   },
   "source": [
    "Install required libraries"
   ]
  },
  {
   "cell_type": "code",
   "execution_count": null,
   "metadata": {
    "colab": {
     "base_uri": "https://localhost:8080/"
    },
    "executionInfo": {
     "elapsed": 197532,
     "status": "ok",
     "timestamp": 1714164487097,
     "user": {
      "displayName": "Adolfo Alexis Rojas Hidalgo",
      "userId": "18158766317608392773"
     },
     "user_tz": 240
    },
    "id": "1EgIyBgfmlfB",
    "outputId": "b3d0fc59-ad97-4ba9-8bcc-3c901c8d0e25",
    "vscode": {
     "languageId": "r"
    }
   },
   "outputs": [],
   "source": [
    "# Install the R.utils package, which provides additional utility functions for the next steps\n",
    "install.packages(\"R.utils\")\n",
    "\n",
    "# Install specific versions of Seurat Wrappers and Seurat Data from GitHub\n",
    "remotes::install_github('satijalab/seurat-wrappers@d28512f804d5fe05e6d68900ca9221020d52cf1d', upgrade=F)\n",
    "remotes::install_github('satijalab/seurat-data')\n",
    "\n",
    "# Check if BiocManager is installed; if not, install it for managing Bioconductor packages\n",
    "if (!require(\"BiocManager\", quietly = TRUE))\n",
    "    install.packages(\"BiocManager\", quiet = T)\n",
    "\n",
    "# Install additional required packages\n",
    "install.packages(\"harmony\")  # Harmony for batch correction\n",
    "BiocManager::install(\"clusterProfiler\", update = T, ask=F, force=T) # For Functional Enrichment Analysis\n",
    "BiocManager::install(\"destiny\", update = F) # For Diffusion maps for single-cell data\n",
    "remotes::install_github('cole-trapnell-lab/monocle3') # Install Monocle3 for trajectory inference\n",
    "\n",
    "# Optional: Install a specific version of the Matrix package (commented out)\n",
    "# install.packages(\"https://cran.r-project.org/src/contrib/Archive/Matrix/Matrix_1.5-3.tar.gz\", repos=NULL, type=\"source\")\n"
   ]
  },
  {
   "cell_type": "markdown",
   "metadata": {
    "id": "vjg2X61cpzdh"
   },
   "source": [
    "## Introduction"
   ]
  },
  {
   "cell_type": "markdown",
   "metadata": {
    "id": "wsg9Zkncp2gF"
   },
   "source": [
    "Cells continuously transition between different functional states throughout development and life. During these transitions, gene expression changes dynamically—some genes become activated while others are silenced. Single-cell RNA sequencing (scRNA-seq) allows researchers to capture these dynamic changes at high resolution. Computational tools like Monocle3 use scRNA-seq data to reconstruct cellular trajectories, helping us understand how cells progress through different states over time. This approach is particularly useful in studying differentiation, disease progression, and cellular reprogramming.\n",
    "\n",
    "In this tutorial, we will learn how to infer cellular trajectories and estimate pseudotime—a measure of the relative progression of cells along a developmental path—using Monocle3. By analyzing single-cell data, we can map how cells evolve across different functional states and identify key genes that drive these transitions.\n",
    "\n",
    "This tutorial is inspired by and builds upon previous guides and studies that have demonstrated the power of trajectory inference in single-cell biology.\n",
    "\n",
    "- [Original tutorial of Monocle3](https://cole-trapnell-lab.github.io/monocle3/docs/trajectories/)\n",
    "- [Tutorial combining Seurat and Monocle3 by the Stuart Lab](https://stuartlab.org/signac/articles/monocle.html)\n",
    "- [Tutorial combining Seurat and Monocle3 by Mahima Bose](https://rpubs.com/mahima_bose/Seurat_and_Monocle3_p)\n",
    "\n",
    "![Monocle3](https://cole-trapnell-lab.github.io/monocle3/images/manual_images/embryo_pr_graph_by_pseudotime.png)"
   ]
  },
  {
   "cell_type": "code",
   "execution_count": null,
   "metadata": {
    "colab": {
     "base_uri": "https://localhost:8080/"
    },
    "executionInfo": {
     "elapsed": 10533,
     "status": "ok",
     "timestamp": 1714164497625,
     "user": {
      "displayName": "Adolfo Alexis Rojas Hidalgo",
      "userId": "18158766317608392773"
     },
     "user_tz": 240
    },
    "id": "XFQkSMjPo1U6",
    "outputId": "2dd2cc10-0834-4447-8e2d-b17926fbfc3e",
    "vscode": {
     "languageId": "r"
    }
   },
   "outputs": [],
   "source": [
    "# Load the necessary libraries for single-cell RNA-seq analysis\n",
    "library(monocle3)      # Trajectory inference\n",
    "library(Seurat)        # Single-cell analysis framework\n",
    "library(SeuratData)    # Preprocessed single-cell datasets\n",
    "library(SeuratWrappers) # Additional Seurat functionalities\n",
    "library(patchwork)     # Plot composition\n",
    "library(harmony)       # Batch effect correction\n",
    "library(ggplot2)       # Data visualization"
   ]
  },
  {
   "cell_type": "markdown",
   "metadata": {
    "id": "imGhC2zTz1F1"
   },
   "source": [
    "## Loading Data"
   ]
  },
  {
   "cell_type": "markdown",
   "metadata": {
    "id": "v5fMnPapoqol"
   },
   "source": [
    "Here, we load our datasets of interest to integrate multiple scRNA-seq samples.\n",
    "\n",
    "This tutorial demonstrates how to align two groups of peripheral blood mononuclear cells (PBMCs) from [Kang et al, 2017](https://www.nature.com/articles/nbt.4042). In this experiment, PBMCs were divided into a control group and a stimulated group, where the latter was treated with interferon-beta. This stimulation led to cell type-specific changes in gene expression. As a result, when analyzing the data, cells tend to cluster not only by their biological identity (cell type) but also by their stimulation condition. This introduces a challenge in joint analysis, as differences in expression patterns can obscure the underlying similarities between the same cell types in both groups.\n",
    "\n",
    "By integrating these datasets, we aim to correct for batch effects and condition-specific variations, allowing a more accurate comparison of the shared biological features across both groups."
   ]
  },
  {
   "cell_type": "code",
   "execution_count": null,
   "metadata": {
    "colab": {
     "base_uri": "https://localhost:8080/"
    },
    "executionInfo": {
     "elapsed": 45963,
     "status": "ok",
     "timestamp": 1714164543580,
     "user": {
      "displayName": "Adolfo Alexis Rojas Hidalgo",
      "userId": "18158766317608392773"
     },
     "user_tz": 240
    },
    "id": "rnsZgIwovwJh",
    "outputId": "bb824086-054c-4aef-fbbc-462990174088",
    "vscode": {
     "languageId": "r"
    }
   },
   "outputs": [],
   "source": [
    "# Download and install the \"ifnb\" dataset, which contains single-cell RNA-seq data\n",
    "InstallData(\"ifnb\")"
   ]
  },
  {
   "cell_type": "code",
   "execution_count": null,
   "metadata": {
    "colab": {
     "base_uri": "https://localhost:8080/",
     "height": 434
    },
    "executionInfo": {
     "elapsed": 5420,
     "status": "ok",
     "timestamp": 1714164548993,
     "user": {
      "displayName": "Adolfo Alexis Rojas Hidalgo",
      "userId": "18158766317608392773"
     },
     "user_tz": 240
    },
    "id": "wiLfUEn0Ym6R",
    "outputId": "2b4fbd0d-2ab0-4fcd-8feb-a6d466f5a894",
    "vscode": {
     "languageId": "r"
    }
   },
   "outputs": [],
   "source": [
    "# Load the previously installed \"ifnb\" dataset\n",
    "LoadData(\"ifnb\")"
   ]
  },
  {
   "cell_type": "code",
   "execution_count": 7,
   "metadata": {
    "executionInfo": {
     "elapsed": 1670,
     "status": "ok",
     "timestamp": 1714164550660,
     "user": {
      "displayName": "Adolfo Alexis Rojas Hidalgo",
      "userId": "18158766317608392773"
     },
     "user_tz": 240
    },
    "id": "TU7A2fXTh1PQ",
    "vscode": {
     "languageId": "r"
    }
   },
   "outputs": [],
   "source": [
    "# Store the loaded dataset in a new variable called 'testdata' \n",
    "# This allows us to modify the dataset while keeping the original one intact\n",
    "testdata <- ifnb"
   ]
  },
  {
   "cell_type": "code",
   "execution_count": null,
   "metadata": {
    "colab": {
     "base_uri": "https://localhost:8080/"
    },
    "executionInfo": {
     "elapsed": 4,
     "status": "ok",
     "timestamp": 1714164550660,
     "user": {
      "displayName": "Adolfo Alexis Rojas Hidalgo",
      "userId": "18158766317608392773"
     },
     "user_tz": 240
    },
    "id": "oXcrZfhUz7nW",
    "outputId": "d4ac010d-3747-4816-8698-f51ccacd4a84",
    "vscode": {
     "languageId": "r"
    }
   },
   "outputs": [],
   "source": [
    "# Ensure the Seurat object is updated to the latest format\n",
    "testdata <- UpdateSeuratObject(object = testdata)\n",
    "\n",
    "# Display an overview of the dataset using dplyr::glimpse()\n",
    "testdata %>% dplyr::glimpse()"
   ]
  },
  {
   "cell_type": "markdown",
   "metadata": {
    "id": "7Lt2bhPcoxWZ"
   },
   "source": [
    "## Data Processing"
   ]
  },
  {
   "cell_type": "markdown",
   "metadata": {
    "id": "SJP0H_1AozzB"
   },
   "source": [
    "We perform the typical data processing, integration, batch correction, and clustering before running Monocle3."
   ]
  },
  {
   "cell_type": "code",
   "execution_count": null,
   "metadata": {
    "colab": {
     "base_uri": "https://localhost:8080/"
    },
    "executionInfo": {
     "elapsed": 50369,
     "status": "ok",
     "timestamp": 1714164601027,
     "user": {
      "displayName": "Adolfo Alexis Rojas Hidalgo",
      "userId": "18158766317608392773"
     },
     "user_tz": 240
    },
    "id": "vV2jImJY0zMU",
    "outputId": "75fadcbd-728f-4c1f-b00a-cae045ed507f",
    "vscode": {
     "languageId": "r"
    }
   },
   "outputs": [],
   "source": [
    "# Here is the step by step processing\n",
    "testdata <- Seurat::NormalizeData(testdata, verbose = FALSE) %>%  # Normalize gene expression data\n",
    "            FindVariableFeatures(selection.method = \"vst\", nfeatures = 2000) %>%  # Identify 2000 most variable genes\n",
    "            ScaleData(verbose = FALSE) %>%  # Standardize and center the data\n",
    "            RunPCA(npcs = 30, verbose = FALSE) %>%  # Perform Principal Component Analysis (PCA) with 30 components\n",
    "            RunHarmony(\"stim\", plot_convergence = FALSE) %>%  # Batch correction using Harmony\n",
    "            RunUMAP(reduction = \"harmony\", dims = 1:30) %>%  # Perform UMAP clustering using Harmony-corrected data\n",
    "            FindNeighbors(reduction = \"harmony\", dims = 1:30) %>%  # Compute nearest neighbors for clustering\n",
    "            FindClusters(resolution = 0.5)  # Cluster cells using Louvain algorithm\n",
    "\n",
    "# The argument 'verbose = FALSE' suppresses output messages to keep the console clean"
   ]
  },
  {
   "cell_type": "markdown",
   "metadata": {
    "id": "Es00P1FOQAje"
   },
   "source": [
    "This is how the UMAP looks like:"
   ]
  },
  {
   "cell_type": "code",
   "execution_count": 10,
   "metadata": {
    "colab": {
     "base_uri": "https://localhost:8080/",
     "height": 437
    },
    "executionInfo": {
     "elapsed": 12,
     "status": "ok",
     "timestamp": 1714164601027,
     "user": {
      "displayName": "Adolfo Alexis Rojas Hidalgo",
      "userId": "18158766317608392773"
     },
     "user_tz": 240
    },
    "id": "KhRAUnt1WwPP",
    "outputId": "704d9114-36f4-4595-d9f0-20e16948283e",
    "vscode": {
     "languageId": "r"
    }
   },
   "outputs": [],
   "source": [
    "# Create a UMAP plot with cluster labels based on 'seurat_annotations'\n",
    "scPlot <- DimPlot(testdata, label = TRUE, group.by = 'seurat_annotations')\n",
    "\n",
    "# Display the plot\n",
    "scPlot\n",
    "\n",
    "# Optional: Save the plot as an image (commented out)\n",
    "# ggsave(\"01-DimPlot.png\", plot = scPlot, bg = \"white\")"
   ]
  },
  {
   "cell_type": "markdown",
   "metadata": {
    "id": "Lt6tjyZlrF98"
   },
   "source": [
    "## Running Monocle3"
   ]
  },
  {
   "cell_type": "markdown",
   "metadata": {
    "id": "dY27ELgPshLw"
   },
   "source": [
    "To analyze cellular trajectories using Monocle3, we first need to convert our Seurat object into a format that Monocle3 can process. This is done using the `as.cell_data_set()` function from the SeuratWrappers package. This function transforms the Seurat object into a CellDataSet object, which serves as the input for Monocle3’s trajectory inference algorithms. Once converted, this object can be used to construct developmental trajectories, infer pseudotime, and analyze cellular state transitions."
   ]
  },
  {
   "cell_type": "code",
   "execution_count": null,
   "metadata": {
    "colab": {
     "base_uri": "https://localhost:8080/"
    },
    "executionInfo": {
     "elapsed": 11,
     "status": "ok",
     "timestamp": 1714164601027,
     "user": {
      "displayName": "Adolfo Alexis Rojas Hidalgo",
      "userId": "18158766317608392773"
     },
     "user_tz": 240
    },
    "id": "zSfhX5732TcT",
    "outputId": "496fb697-7adf-429e-cf29-4969d8beba22",
    "vscode": {
     "languageId": "r"
    }
   },
   "outputs": [],
   "source": [
    "# Convert Seurat object into a Monocle3-compatible cell_data_set (cds)\n",
    "cds <- as.cell_data_set(testdata)\n",
    "\n",
    "# Store gene names as metadata in the cell dataset\n",
    "fData(cds)$gene_short_name <- rownames(fData(cds))"
   ]
  },
  {
   "cell_type": "code",
   "execution_count": null,
   "metadata": {
    "colab": {
     "base_uri": "https://localhost:8080/"
    },
    "executionInfo": {
     "elapsed": 10,
     "status": "ok",
     "timestamp": 1714164601027,
     "user": {
      "displayName": "Adolfo Alexis Rojas Hidalgo",
      "userId": "18158766317608392773"
     },
     "user_tz": 240
    },
    "id": "a0zS_mqjfMTo",
    "outputId": "9fe14039-65fe-4171-8aaa-23b414ea5303",
    "vscode": {
     "languageId": "r"
    }
   },
   "outputs": [],
   "source": [
    "# Get an overview of the structure of the cell dataset (cds)\n",
    "cds %>% dplyr::glimpse()"
   ]
  },
  {
   "cell_type": "markdown",
   "metadata": {
    "id": "djlQWX4sWKfL"
   },
   "source": [
    "### **Inferring trajectory**\n",
    "\n",
    "Monocle3 determines whether cells should be placed within the same trajectory or assigned to separate trajectories through its clustering algorithm. During this process, each cell is not only grouped into a cluster but also assigned to a partition, which represents distinct regions of the dataset. When constructing trajectories, Monocle3 treats each partition as a separate trajectory. In this step, we first cluster the cells using the `cluster_cells()` function, which identifies biologically meaningful groupings. Then, we use `learn_graph()` to infer the trajectory structure, allowing us to visualize and analyze the developmental pathways that cells follow."
   ]
  },
  {
   "cell_type": "code",
   "execution_count": null,
   "metadata": {
    "colab": {
     "base_uri": "https://localhost:8080/"
    },
    "executionInfo": {
     "elapsed": 65606,
     "status": "ok",
     "timestamp": 1714164666624,
     "user": {
      "displayName": "Adolfo Alexis Rojas Hidalgo",
      "userId": "18158766317608392773"
     },
     "user_tz": 240
    },
    "id": "fLZHr4HNgo4H",
    "outputId": "c49ee5f7-1140-4426-905e-c90766e07c8d",
    "vscode": {
     "languageId": "r"
    }
   },
   "outputs": [],
   "source": [
    "cds <- cluster_cells(cds = cds,  # Perform clustering on the cell dataset\n",
    "                     reduction_method = \"UMAP\",  # Use UMAP for dimensionality reduction\n",
    "                     cluster_method = 'louvain') %>%  # Apply Louvain algorithm for clustering\n",
    "       learn_graph(use_partition = T)  # Learn the cellular trajectory graph\n"
   ]
  },
  {
   "cell_type": "markdown",
   "metadata": {
    "id": "CXQIHuDgOyoE"
   },
   "source": [
    "Next, we visualize the inferred trajectory to examine how cells are organized along developmental paths.\n",
    "\n",
    "In the plot, black lines represent the structure of the inferred trajectory, forming a graph that connects related cells. If the graph is not fully connected, it indicates that cells in different partitions follow distinct developmental paths.\n",
    "\n",
    "Special points within the graph are marked with numbered circles. \n",
    "Light gray circles at the ends of branches correspond to distinct cell fates—possible final states in the trajectory. \n",
    "Black circles represent branch points, where cells can follow different developmental directions.\n",
    "\n",
    "The visualization can be customized using the `label_leaves` and `label_branch_points` arguments in `plot_cells()`. These options control whether cell fates and branch points are labeled in the plot. It is important to note that the numbers displayed in the circles serve only as reference markers and do not imply any specific biological meaning."
   ]
  },
  {
   "cell_type": "code",
   "execution_count": null,
   "metadata": {
    "colab": {
     "base_uri": "https://localhost:8080/",
     "height": 437
    },
    "executionInfo": {
     "elapsed": 2415,
     "status": "ok",
     "timestamp": 1714164669031,
     "user": {
      "displayName": "Adolfo Alexis Rojas Hidalgo",
      "userId": "18158766317608392773"
     },
     "user_tz": 240
    },
    "id": "27PFUEnEgu_c",
    "outputId": "606e2cad-3119-4268-ca7d-1e6666e580d9",
    "vscode": {
     "languageId": "r"
    }
   },
   "outputs": [],
   "source": [
    "# Generate a UMAP plot showing cell clusters along with trajectory landmarks  \n",
    "scPlot <- plot_cells(cds, \n",
    "                     color_cells_by = \"cluster\",  # Color cells by cluster assignment  \n",
    "                     label_groups_by_cluster = FALSE,  # Do not label clusters  \n",
    "                     label_branch_points = TRUE,  # Label branch points in the trajectory  \n",
    "                     label_roots = TRUE,  # Label the root cells in the trajectory  \n",
    "                     label_leaves = TRUE,  # Label the leaf nodes in the trajectory  \n",
    "                     group_label_size = 5)  # Set the font size for labels  \n",
    "\n",
    "# Display the plot  \n",
    "scPlot  \n",
    "\n",
    "# Optional: Save the plot as an image  \n",
    "# ggsave(\"02-plot_cells.png\", plot = scPlot, bg = \"white\", width = 9, height = 9, dpi = 600)"
   ]
  },
  {
   "cell_type": "markdown",
   "metadata": {
    "id": "ZjtS3Ap6ZKDW"
   },
   "source": [
    "Here we can have a more clean visualization by removing labels"
   ]
  },
  {
   "cell_type": "code",
   "execution_count": null,
   "metadata": {
    "colab": {
     "base_uri": "https://localhost:8080/",
     "height": 437
    },
    "executionInfo": {
     "elapsed": 2030,
     "status": "ok",
     "timestamp": 1714164671054,
     "user": {
      "displayName": "Adolfo Alexis Rojas Hidalgo",
      "userId": "18158766317608392773"
     },
     "user_tz": 240
    },
    "id": "bT7lwGnmZJj1",
    "outputId": "b9693a79-8b43-4e7f-c745-3758893919d4",
    "vscode": {
     "languageId": "r"
    }
   },
   "outputs": [],
   "source": [
    "# Generate a UMAP plot showing cell clusters without trajectory landmarks  \n",
    "scPlot <- plot_cells(cds, \n",
    "                     color_cells_by = \"cluster\",  # Color cells by cluster assignment  \n",
    "                     label_groups_by_cluster = FALSE,  # Do not label clusters  \n",
    "                     label_branch_points = FALSE,  # Do not label branch points  \n",
    "                     label_roots = FALSE,  # Do not label root cells  \n",
    "                     label_leaves = FALSE,  # Do not label leaf nodes  \n",
    "                     group_label_size = 5)  # Set the font size for labels  \n",
    "\n",
    "# Display the plot  \n",
    "scPlot  \n",
    "\n",
    "# Optional: Save the plot as an image  \n",
    "# ggsave(\"03-plot_cells.png\", plot = scPlot, bg = \"white\", width = 9, height = 9, dpi = 600)"
   ]
  },
  {
   "cell_type": "markdown",
   "metadata": {
    "id": "A2nw58WgNkgQ"
   },
   "source": [
    "**Inferring pseudotime**\n",
    "\n",
    "Pseudotime estimates the progression of cells through a biological process based on gene expression similarities. Monocle3 orders cells along a trajectory, assigning a pseudotime value that reflects their relative position from a defined starting point. Cells closer to the root have lower pseudotime values, while those further along the path have higher values, indicating more advanced states. This helps model differentiation and identify key regulatory changes over time.\n",
    "\n",
    "Monocle3 orders cells along a learned trajectory using pseudotime, which represents an abstract measure of progress. Pseudotime is determined by the distance between a cell and the trajectory's starting point, measured along the shortest path. The trajectory's length corresponds to the total transcriptional changes a cell undergoes from the initial to the final state."
   ]
  },
  {
   "cell_type": "markdown",
   "metadata": {
    "id": "5wDsBz6Jb3Rc"
   },
   "source": [
    "Comparing the annotated UMAP and the Monocle3 trajectory, we can define which Monocle3 clusters are the roots for inferring differentiation:"
   ]
  },
  {
   "cell_type": "code",
   "execution_count": null,
   "metadata": {
    "colab": {
     "base_uri": "https://localhost:8080/",
     "height": 472
    },
    "executionInfo": {
     "elapsed": 6262,
     "status": "ok",
     "timestamp": 1714164677314,
     "user": {
      "displayName": "Adolfo Alexis Rojas Hidalgo",
      "userId": "18158766317608392773"
     },
     "user_tz": 240
    },
    "id": "3lX92BAhcBej",
    "outputId": "bf2353fc-166b-49b0-d22d-18ade7988f49",
    "vscode": {
     "languageId": "r"
    }
   },
   "outputs": [],
   "source": [
    "# Set plot size (optional)  \n",
    "# options(repr.plot.height = 9, repr.plot.width = 16)\n",
    "\n",
    "# Create a UMAP plot with cluster annotations from Seurat  \n",
    "gumap <- DimPlot(testdata, label = TRUE, group.by = 'seurat_annotations')\n",
    "\n",
    "# Create a Monocle3 plot showing clusters without trajectory landmarks  \n",
    "gcluster <- plot_cells(cds, \n",
    "                       color_cells_by = \"cluster\",  \n",
    "                       label_groups_by_cluster = FALSE,  \n",
    "                       label_branch_points = FALSE,  \n",
    "                       label_roots = FALSE,  \n",
    "                       label_leaves = FALSE,  \n",
    "                       group_label_size = 5)\n",
    "\n",
    "# Combine both plots into a single figure  \n",
    "scPlot <- gumap + gcluster + theme(aspect.ratio = 1)\n",
    "\n",
    "# Display the combined plot  \n",
    "scPlot  \n",
    "\n",
    "# Optional: Save the plot as an image  \n",
    "# ggsave(\"04-DimPlot-plot_cells.png\", plot = scPlot, bg = \"white\", width = 18, height = 9, dpi = 600)"
   ]
  },
  {
   "cell_type": "markdown",
   "metadata": {
    "id": "mHH6W9kfcB9R"
   },
   "source": [
    "Then, using the following command, we can select root cells or starting states in the trajectory and infer the pseudotime for each of the other cells."
   ]
  },
  {
   "cell_type": "code",
   "execution_count": null,
   "metadata": {
    "executionInfo": {
     "elapsed": 1043,
     "status": "ok",
     "timestamp": 1714164678349,
     "user": {
      "displayName": "Adolfo Alexis Rojas Hidalgo",
      "userId": "18158766317608392773"
     },
     "user_tz": 240
    },
    "id": "MyjwsBAmgvCP",
    "vscode": {
     "languageId": "r"
    }
   },
   "outputs": [],
   "source": [
    "# Assign a pseudotemporal order to cells using specific clusters as root cells  \n",
    "cds <- order_cells(cds, \n",
    "                   reduction_method = \"UMAP\",  # Use UMAP for trajectory inference  \n",
    "                   root_cells = colnames(cds[, clusters(cds) %in% c(3, 15, 9, 22)]))  # Specify root clusters  "
   ]
  },
  {
   "cell_type": "markdown",
   "metadata": {
    "id": "TXd33A1gOGkK"
   },
   "source": [
    "Then we can color cells along their trajectory by using their pseudotimes."
   ]
  },
  {
   "cell_type": "code",
   "execution_count": null,
   "metadata": {
    "colab": {
     "base_uri": "https://localhost:8080/",
     "height": 506
    },
    "executionInfo": {
     "elapsed": 4005,
     "status": "ok",
     "timestamp": 1714164682351,
     "user": {
      "displayName": "Adolfo Alexis Rojas Hidalgo",
      "userId": "18158766317608392773"
     },
     "user_tz": 240
    },
    "id": "elEM9t6zQVe1",
    "outputId": "e353f8f1-7cdf-4dc2-cc43-9e3616ca05f9",
    "vscode": {
     "languageId": "r"
    }
   },
   "outputs": [],
   "source": [
    "# Set plot size (optional)  \n",
    "options(repr.plot.height = 7, repr.plot.width = 7)\n",
    "\n",
    "# Generate a UMAP plot with cells colored by pseudotime  \n",
    "scPlot1 <- plot_cells(cds, \n",
    "                      color_cells_by = \"pseudotime\",  # Color cells based on their pseudotime  \n",
    "                      label_groups_by_cluster = FALSE,  \n",
    "                      label_branch_points = FALSE,  \n",
    "                      label_roots = FALSE,  \n",
    "                      label_leaves = FALSE,  \n",
    "                      group_label_size = 5)\n",
    "\n",
    "# Display the plot  \n",
    "scPlot1  \n",
    "\n",
    "# Save the plot as an image  \n",
    "ggsave(\"05-plot_cells.png\", plot = scPlot1, bg = \"white\", width = 9, height = 9, dpi = 600)"
   ]
  },
  {
   "cell_type": "markdown",
   "metadata": {
    "id": "BrbOCkpWW0D0"
   },
   "source": [
    "A joint UMAP representation of the Seurat Clusters, Trajectory, and Pseudotimes."
   ]
  },
  {
   "cell_type": "code",
   "execution_count": null,
   "metadata": {
    "colab": {
     "base_uri": "https://localhost:8080/",
     "height": 472
    },
    "executionInfo": {
     "elapsed": 8568,
     "status": "ok",
     "timestamp": 1714164690911,
     "user": {
      "displayName": "Adolfo Alexis Rojas Hidalgo",
      "userId": "18158766317608392773"
     },
     "user_tz": 240
    },
    "id": "iCxXr6IxXWGA",
    "outputId": "c70a1ffc-bdcc-4def-9d08-1d88903a9754",
    "vscode": {
     "languageId": "r"
    }
   },
   "outputs": [],
   "source": [
    "# Set plot size (optional)  \n",
    "# options(repr.plot.height=6, repr.plot.width=16)\n",
    "\n",
    "# Combine previous plots (Seurat UMAP, Monocle3 clusters, and pseudotime)  \n",
    "scPlot <- gumap + gcluster + scPlot1\n",
    "\n",
    "# Display the combined figure  \n",
    "scPlot  \n",
    "\n",
    "# Save the combined plot as an image  \n",
    "ggsave(\"06-Multiple_plots.png\", plot = scPlot, bg = \"white\", width = 27, height = 9, dpi = 600)"
   ]
  },
  {
   "cell_type": "markdown",
   "metadata": {
    "id": "2C_wYN2UR2bR"
   },
   "source": [
    "We can order the seurat clusters by the pseudotimes they are associated with."
   ]
  },
  {
   "cell_type": "code",
   "execution_count": null,
   "metadata": {
    "colab": {
     "base_uri": "https://localhost:8080/",
     "height": 489
    },
    "executionInfo": {
     "elapsed": 345,
     "status": "ok",
     "timestamp": 1714164691247,
     "user": {
      "displayName": "Adolfo Alexis Rojas Hidalgo",
      "userId": "18158766317608392773"
     },
     "user_tz": 240
    },
    "id": "AiXew6cKR1zu",
    "outputId": "29b34d6a-5143-4abd-d618-1c9bcf31ad64",
    "vscode": {
     "languageId": "r"
    }
   },
   "outputs": [],
   "source": [
    "# Set plot size (optional)  \n",
    "# options(repr.plot.height=7, repr.plot.width=7)\n",
    "\n",
    "# Extract pseudotime values from Monocle3  \n",
    "cds$monocle3_pseudotime <- pseudotime(cds)\n",
    "\n",
    "# Convert cell metadata into a dataframe  \n",
    "data.pseudo <- as.data.frame(colData(cds))\n",
    "\n",
    "# Generate a boxplot showing pseudotime distribution across cell types  \n",
    "scPlot <- ggplot(data.pseudo, aes(monocle3_pseudotime, \n",
    "                                  reorder(seurat_annotations, monocle3_pseudotime),  # Order by pseudotime  \n",
    "                                  fill = seurat_annotations)) +  # Color by cell type  \n",
    "          geom_boxplot()  # Create boxplot  \n",
    "\n",
    "# Display the boxplot  \n",
    "scPlot  \n",
    "\n",
    "# Optional: Save the plot as an image  \n",
    "# ggsave(\"07-boxplot.png\", plot = scPlot, bg = \"white\")"
   ]
  },
  {
   "cell_type": "markdown",
   "metadata": {
    "id": "J39nrPvFXEjH"
   },
   "source": [
    "Finally, we can inspect how gene expression of a few genes changes across pseudotimes."
   ]
  },
  {
   "cell_type": "code",
   "execution_count": null,
   "metadata": {
    "executionInfo": {
     "elapsed": 2,
     "status": "ok",
     "timestamp": 1714164691247,
     "user": {
      "displayName": "Adolfo Alexis Rojas Hidalgo",
      "userId": "18158766317608392773"
     },
     "user_tz": 240
    },
    "id": "bwD003xLYjI1",
    "vscode": {
     "languageId": "r"
    }
   },
   "outputs": [],
   "source": [
    "# Extract expression data for selected genes (CD44 and CXCL2)  \n",
    "cds_subset <- cds[c('CD44', 'CXCL2'), ]"
   ]
  },
  {
   "cell_type": "code",
   "execution_count": null,
   "metadata": {
    "colab": {
     "base_uri": "https://localhost:8080/",
     "height": 576
    },
    "executionInfo": {
     "elapsed": 7989,
     "status": "ok",
     "timestamp": 1714164699235,
     "user": {
      "displayName": "Adolfo Alexis Rojas Hidalgo",
      "userId": "18158766317608392773"
     },
     "user_tz": 240
    },
    "id": "x1XETZdZZtxO",
    "outputId": "d8b22e97-9489-42af-f6e9-f27e361861e3",
    "vscode": {
     "languageId": "r"
    }
   },
   "outputs": [],
   "source": [
    "# Generate a plot showing expression of selected genes across pseudotime  \n",
    "scPlot <- plot_genes_in_pseudotime(cds_subset)\n",
    "\n",
    "# Display the plot  \n",
    "scPlot  \n",
    "\n",
    "# Optional: Save the plot as an image  \n",
    "# ggsave(\"08-genes_in_pseudotime.png\", plot = scPlot, bg = \"white\")"
   ]
  },
  {
   "cell_type": "code",
   "execution_count": null,
   "metadata": {
    "executionInfo": {
     "elapsed": 10,
     "status": "ok",
     "timestamp": 1714164699235,
     "user": {
      "displayName": "Adolfo Alexis Rojas Hidalgo",
      "userId": "18158766317608392773"
     },
     "user_tz": 240
    },
    "id": "tipUDrurg4UO",
    "vscode": {
     "languageId": "r"
    }
   },
   "outputs": [],
   "source": [
    "# The code below identifies genes that change their expression over pseudotime.  \n",
    "# However, running this can be time-consuming.  \n",
    "\n",
    "# cds_pr_test_res <- graph_test(cds, neighbor_graph=\"principal_graph\", cores=4)  # Perform differential expression analysis  \n",
    "# pr_deg_ids <- row.names(subset(cds_pr_test_res, q_value < 0.05))  # Select significant genes based on q-value  "
   ]
  },
  {
   "cell_type": "markdown",
   "metadata": {
    "id": "3yF7ucbruY_j"
   },
   "source": [
    "## Extra Questions:\n",
    "\n",
    "- How does selecting different root cells affect the analysis?\n",
    "- Perform the analysis for one cell type of interest. Can you identify cell subtypes?\n",
    "- Do the marker genes of this cell type change across pseudotime?"
   ]
  },
  {
   "cell_type": "code",
   "execution_count": 24,
   "metadata": {
    "executionInfo": {
     "elapsed": 10,
     "status": "ok",
     "timestamp": 1714164699235,
     "user": {
      "displayName": "Adolfo Alexis Rojas Hidalgo",
      "userId": "18158766317608392773"
     },
     "user_tz": 240
    },
    "id": "cJoCML_XsUEg",
    "vscode": {
     "languageId": "r"
    }
   },
   "outputs": [],
   "source": []
  }
 ],
 "metadata": {
  "colab": {
   "collapsed_sections": [
    "1qOd4r2Siqug",
    "vjg2X61cpzdh"
   ],
   "provenance": []
  },
  "kernelspec": {
   "display_name": "R",
   "name": "ir"
  },
  "language_info": {
   "name": "R"
  }
 },
 "nbformat": 4,
 "nbformat_minor": 0
}
