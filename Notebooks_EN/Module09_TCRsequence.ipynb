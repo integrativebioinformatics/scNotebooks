{
  "cells": [
    {
      "cell_type": "markdown",
      "id": "7981e7db",
      "metadata": {
        "id": "7981e7db",
        "lines_to_next_cell": 0
      },
      "source": [
        "## Load libraries and set user directory paths."
      ]
    },
    {
      "cell_type": "code",
      "execution_count": null,
      "id": "dLEbrpsq4htQ",
      "metadata": {
        "colab": {
          "base_uri": "https://localhost:8080/"
        },
        "id": "dLEbrpsq4htQ",
        "outputId": "da61f387-36fb-40ff-9912-00cb5dd23ff6",
        "vscode": {
          "languageId": "r"
        }
      },
      "outputs": [],
      "source": [
        "## Function to run shell commands in Google Colab with R kernel\n",
        "shell_call <- function(command, ...) {\n",
        "  result <- system(command, intern = TRUE, ...) # Runs the shell command and captures output\n",
        "  cat(paste0(result, collapse = \"\\n\")) # Prints the output to the console\n",
        "}\n",
        "\n",
        "## Function to load multiple R packages\n",
        "loadPackages = function(pkgs){\n",
        "  myrequire = function(...){\n",
        "    suppressWarnings(suppressMessages(suppressPackageStartupMessages(require(...))))\n",
        "  }\n",
        "  ok = sapply(pkgs, require, character.only=TRUE, quietly=TRUE) # Checks if each package is installed\n",
        "  if (!all(ok)){\n",
        "    message(\"There are missing packages: \", paste(pkgs[!ok], collapse=\", \")) # Prints missing packages\n",
        "  }\n",
        "}\n",
        "\n",
        "## Download the script to add R2U (fast package installation system)\n",
        "download.file(\"https://github.com/eddelbuettel/r2u/raw/master/inst/scripts/add_cranapt_jammy.sh\",\n",
        "              \"add_cranapt_jammy.sh\")\n",
        "Sys.chmod(\"add_cranapt_jammy.sh\", \"0755\") # Change permissions to allow execution\n",
        "\n",
        "## Run the script to set up R2U\n",
        "shell_call(\"./add_cranapt_jammy.sh\")\n",
        "\n",
        "## Enable BSPM package manager for installing system-wide packages\n",
        "bspm::enable()\n",
        "options(bspm.version.check=FALSE)\n",
        "\n",
        "## Remove the setup script to keep the workspace clean\n",
        "shell_call(\"rm add_cranapt_jammy.sh\")\n",
        "\n",
        "## Define the list of packages to install\n",
        "cranPkgs2Install = c(\"dplyr\", \"ggpubr\", \"Seurat\", \"cowplot\",\n",
        "                     \"Rtsne\", \"hdf5r\", \"patchwork\")\n",
        "\n",
        "## Install all packages without prompting the user\n",
        "install.packages(cranPkgs2Install, ask=FALSE, update=TRUE, quietly=TRUE)"
      ]
    },
    {
      "cell_type": "code",
      "execution_count": null,
      "id": "uh5ddKX543wZ",
      "metadata": {
        "colab": {
          "base_uri": "https://localhost:8080/"
        },
        "id": "uh5ddKX543wZ",
        "outputId": "50740b4d-8853-4cb5-e39c-e08b86fe7e9e",
        "vscode": {
          "languageId": "r"
        }
      },
      "outputs": [],
      "source": [
        "## To simplify package loading, we created the loadPackages() function. \n",
        "## But, if you don't have the function, you should use 'library(name_of_package)'\n",
        "pkgs = c(\"Seurat\", \"dplyr\", \"patchwork\") # List of packages to load\n",
        "loadPackages(pkgs) # Load packages using previously defined function\n",
        "\n",
        "## Define the directory where data will be stored and accessed\n",
        "## IMPORTANT: The user must change \"scw01\" to match their actual working directory\n",
        "mydir <- \"/content\""
      ]
    },
    {
      "cell_type": "markdown",
      "id": "768061cb",
      "metadata": {},
      "source": [
        "# Introduction "
      ]
    },
    {
      "cell_type": "markdown",
      "id": "bf04be78",
      "metadata": {
        "id": "bf04be78",
        "lines_to_next_cell": 0
      },
      "source": [
        "In this notebook, we will delve into the analysis of multi-modal single-cell data. Our focus will be on a non-small cell lung cancer (NSCLC) sample that was processed using the 10X 5' immune profiling technology. This advanced technology captures both RNA and T cell receptor sequences for each individual cell, providing a comprehensive view of the cellular landscape.\n",
        "\n",
        "You can download the dataset from the 10x Genomics website [here](https://www.10xgenomics.com/resources/datasets/nsclc-tumor-1-standard-5-0-0). \n",
        "\n",
        "* Before we proceed, please take a moment to read the detailed description of the sample processing and early analysis steps provided on the webpage. This will give you valuable context and insights into the experimental setup and the quality of the data.\n",
        "\n",
        "## TCR Sequence\n",
        "\n",
        "The single-cell TCR sequencing approach enables high-resolution analysis of T-cell receptor diversity, identifying specific clonotypes and their roles in the immune system. Unlike bulk sequencing, which combines information from multiple cells, the single-cell method preserves the individual identity of each T cell, allowing for the correlation between transcriptomic profile and TCR repertoire.\n",
        "\n",
        "## NOTE:\n",
        "\n",
        "In this notebook, we will briefly go through the key steps of single-cell analysis. Since this module focuses on TCR sequence analysis, we will provide an overview of the main processes. For more detailed explanations of each step, please refer to the other available modules.\n",
        "\n",
        "### Read in raw gene counts and metadata"
      ]
    },
    {
      "cell_type": "code",
      "execution_count": null,
      "id": "Kwuh5ZmU06eQ",
      "metadata": {
        "id": "Kwuh5ZmU06eQ",
        "vscode": {
          "languageId": "r"
        }
      },
      "outputs": [],
      "source": [
        "# Download a filtered gene-barcode matrix from 10X Genomics\n",
        "# This command uses curl to download a file from the internet. (-O) Saves the file with the same name it has on the server.\n",
        "shell_call(\"curl -O https://cf.10xgenomics.com/samples/cell-vdj/5.0.0/vdj_v1_hs_nsclc_multi_5gex_t_b/vdj_v1_hs_nsclc_multi_5gex_t_b_count_filtered_feature_bc_matrix.tar.gz\")\n",
        "\n",
        "## Extract the downloaded file (decompress the dataset)\n",
        "# tar -xf instructs tar to extract (-x) the specified file (-f) and decompress it.\n",
        "shell_call(\"tar -xf /content/vdj_v1_hs_nsclc_multi_5gex_t_b_count_filtered_feature_bc_matrix.tar.gz\")"
      ]
    },
    {
      "cell_type": "code",
      "execution_count": null,
      "id": "716599e9",
      "metadata": {
        "id": "716599e9",
        "vscode": {
          "languageId": "r"
        }
      },
      "outputs": [],
      "source": [
        "# Read the filtered feature-barcode matrix into a matrix object\n",
        "# This command reads the filtered feature-barcode matrix from a 10X Genomics dataset located in the specified \n",
        "# directory and assigns the resulting data to the variable counts.\n",
        "counts <- Read10X(paste0(mydir, \"/filtered_feature_bc_matrix/\"))"
      ]
    },
    {
      "cell_type": "markdown",
      "id": "b8d87cea",
      "metadata": {
        "id": "b8d87cea",
        "lines_to_next_cell": 0
      },
      "source": [
        "### Create the Seurat Object\n",
        "\n",
        "Next, we will use the count matrix and metadata to create a Seurat object. The Seurat object acts as a comprehensive container that holds not only the raw count data and metadata but also any downstream analysis results, such as PCA (Principal Component Analysis) and clustering outcomes. This centralized container allows for streamlined data manipulation and analysis, providing an organized structure for our scRNA-Seq dataset.\n",
        "\n",
        "By creating a Seurat object, we can efficiently manage and analyze our data, making it easier to perform complex operations and visualize the results."
      ]
    },
    {
      "cell_type": "code",
      "execution_count": null,
      "id": "4efb3bda",
      "metadata": {
        "colab": {
          "base_uri": "https://localhost:8080/",
          "height": 86
        },
        "id": "4efb3bda",
        "name": "create_object",
        "outputId": "68e793da-7a4b-409d-f013-6a0541aa60c8",
        "vscode": {
          "languageId": "r"
        }
      },
      "outputs": [],
      "source": [
        "# Create a Seurat object using the raw count matrix\n",
        "seurat.raw <- CreateSeuratObject(counts = counts)\n",
        "\n",
        "# Show the contents of Seurat object\n",
        "seurat.raw"
      ]
    },
    {
      "cell_type": "markdown",
      "id": "566fc4cd",
      "metadata": {
        "id": "566fc4cd",
        "lines_to_next_cell": 0
      },
      "source": [
        "### Exploring the Seurat Object\n",
        "\n",
        "The first step in our analysis is to familiarize ourselves with the dataset now stored in the Seurat object. Seurat provides powerful tools that allow us to explore and visualize our count data alongside the associated metadata. This enables us to gain a comprehensive understanding of our scRNA-Seq data.\n",
        "\n",
        "By leveraging Seurat's capabilities, we can perform various exploratory analyses, such as:\n",
        "\n",
        "* Inspecting the Distribution of Gene Expression: We can visualize the distribution of gene expression levels across cells to identify highly expressed genes and detect any potential outliers.\n",
        "\n",
        "* Exploring Metadata: We can explore the metadata associated with our cells, such as cell type annotations, sample origins, and experimental conditions, to understand the context and characteristics of our dataset.\n",
        "\n",
        "* Identifying Variable Genes: We can identify variable genes that exhibit significant variability across cells, which are often of interest for downstream analyses like clustering and differential expression.\n",
        "\n",
        "* Visualizing Data: We can create visualizations like violin plots, feature plots, and heatmaps to explore the expression patterns of specific genes and compare different cell groups.\n",
        "\n",
        "By conducting these initial explorations, we set the stage for more advanced analyses, such as dimensionality reduction, clustering, and differential expression analysis. This foundational step is crucial for understanding the nuances of our dataset and making informed decisions throughout our analysis pipeline."
      ]
    },
    {
      "cell_type": "code",
      "execution_count": null,
      "id": "3d9f20f2",
      "metadata": {
        "colab": {
          "base_uri": "https://localhost:8080/"
        },
        "id": "3d9f20f2",
        "outputId": "1868c511-d6ca-4675-fedb-013063a2f9c6",
        "vscode": {
          "languageId": "r"
        }
      },
      "outputs": [],
      "source": [
        "# How many cells and genes do we currently have?\n",
        "print(paste0(\"The number of genes is \", dim(seurat.raw)[1], \" and the number of cells is \", dim(seurat.raw)[2]))\n",
        "\n",
        "# The print() function displays the result in the console.\n",
        "# The dim() function returns the dimensions of an object, usually a matrix or data frame. \n",
        "# In the case of Seurat objects, the gene expression count matrix has genes as rows and cells as columns.\n",
        "# The paste0() function concatenates (joins) strings without adding any spaces between them.\n",
        "# The sentences inside the parentheses (\") will also be printed"
      ]
    },
    {
      "cell_type": "code",
      "execution_count": null,
      "id": "ecf76ca1",
      "metadata": {
        "colab": {
          "base_uri": "https://localhost:8080/",
          "height": 156
        },
        "id": "ecf76ca1",
        "outputId": "d8419919-8e7d-4a3a-ea62-bf393c03e1de",
        "vscode": {
          "languageId": "r"
        }
      },
      "outputs": [],
      "source": [
        "# View a subset (a slice) of the count matrix \n",
        "# Remember: rows are genes, columns are cells/barcodes)\n",
        "GetAssayData(seurat.raw, slot = \"counts\")[8:10,13:14]"
      ]
    },
    {
      "cell_type": "markdown",
      "id": "df0cc49f",
      "metadata": {
        "id": "df0cc49f"
      },
      "source": [
        "NOTE: the dots('.') reflect a zero value. The count table is stored in sparse matrix format which explicitly stores only non zero values to save space."
      ]
    },
    {
      "cell_type": "code",
      "execution_count": null,
      "id": "794d5f3f",
      "metadata": {
        "colab": {
          "base_uri": "https://localhost:8080/"
        },
        "id": "794d5f3f",
        "outputId": "759b255c-89ff-4980-ad84-9505b452925b",
        "vscode": {
          "languageId": "r"
        }
      },
      "outputs": [],
      "source": [
        "## Display metadata columns available in the Seurat object\n",
        "# What metadata columns are available in the Seurat object?\n",
        "print(colnames(seurat.raw@meta.data))\n",
        "\n",
        "# (@) Accesses the meta.data slot of the seurat.raw object. \n",
        "# The meta.data slot typically contains metadata associated with cells, such as cell type, sample ID, or other annotations.\n",
        "# The colnames() function retrieves the column names of the metadata data frame stored in the meta.data slot"
      ]
    },
    {
      "cell_type": "code",
      "execution_count": null,
      "id": "46f178a9",
      "metadata": {
        "colab": {
          "base_uri": "https://localhost:8080/",
          "height": 541
        },
        "id": "46f178a9",
        "lines_to_next_cell": 2,
        "outputId": "5cda6272-e759-4191-b9b1-c74f0cb41cee",
        "vscode": {
          "languageId": "r"
        }
      },
      "outputs": [],
      "source": [
        "# Create a violin plot showing the distribution of number of UMIs per cell\n",
        "options(repr.plot.width=7, repr.plot.height=7) # This command sets the width and height of the plot output.\n",
        "VlnPlot(seurat.raw, features = c(\"nCount_RNA\"),y.max=2e4) \n",
        "# creates a violin plot\n",
        "# seurat.raw: The Seurat object containing your single-cell data.\n",
        "# features = c(\"nCount_RNA\"): It is plotting the number of RNA molecules (nCount_RNA) for each cell.\n",
        "# y.max=2e4: Sets the maximum value for the y-axis to 20,000 (2e4 is scientific notation for 20,000)"
      ]
    },
    {
      "cell_type": "markdown",
      "id": "530687fd",
      "metadata": {
        "id": "530687fd",
        "lines_to_next_cell": 0
      },
      "source": [
        "### Quality Control\n",
        "\n",
        "We have already observed that two of the primary quality control (QC) metrics — number of UMIs (Unique Molecular Identifiers) and number of genes detected per cell — were automatically computed by Seurat. The next important QC metric to consider is the percentage of mitochondrial genes. Mitochondrial genes can indicate cell stress or apoptosis, so it's crucial to monitor their expression levels.\n",
        "\n",
        "To calculate the percentage of mitochondrial genes, we will use Seurat's PercentageFeatureSet method. This method calculates the percentage of UMIs originating from genes that match a specified pattern. For mitochondrial genes, we typically look for genes starting with \"MT-\" (common prefix for mitochondrial genes)."
      ]
    },
    {
      "cell_type": "code",
      "execution_count": null,
      "id": "05b0fe90",
      "metadata": {
        "colab": {
          "base_uri": "https://localhost:8080/",
          "height": 34
        },
        "id": "05b0fe90",
        "outputId": "f735a468-656f-4613-b3c5-03949d8e8de3",
        "vscode": {
          "languageId": "r"
        }
      },
      "outputs": [],
      "source": [
        "# Human mitochondrial gene names start with \"MT-\" so we'll calculate the percentage of genes matching the pattern \"^MT-\"\n",
        "# This function calculates the percentage of counts for features (genes) that match a given pattern.\n",
        "# Also creates a new metadata column in the seurat.raw object named percent.mt and assigns the calculated percentages to it. (seurat.raw[[\"percent.mt\"]])\n",
        "seurat.raw[[\"percent.mt\"]] <- PercentageFeatureSet(seurat.raw, pattern = \"^MT-\") \n",
        "\n",
        "# Now we can see that the % mitochondrial gene expression has been calculated for each cell\n",
        "head(seurat.raw$percent.mt) # Display the first few rows of the calculated mitochondrial percentages"
      ]
    },
    {
      "cell_type": "code",
      "execution_count": null,
      "id": "6aa83236",
      "metadata": {
        "colab": {
          "base_uri": "https://localhost:8080/",
          "height": 412
        },
        "id": "6aa83236",
        "outputId": "5cf2ca0a-cb05-4817-c607-8546e4485239",
        "vscode": {
          "languageId": "r"
        }
      },
      "outputs": [],
      "source": [
        "## Violin plot for three quality metrics: UMI count, gene count, mitochondrial gene percentage\n",
        "options(repr.plot.width=12, repr.plot.height=6)\n",
        "VlnPlot(seurat.raw, features = c(\"nCount_RNA\", \"nFeature_RNA\", \"percent.mt\")) # We can visualize all three of the cell quality metrics together using Seurat's VlnPlot method"
      ]
    },
    {
      "cell_type": "markdown",
      "id": "a6e2636b",
      "metadata": {
        "id": "a6e2636b",
        "lines_to_next_cell": 0
      },
      "source": [
        "It is often helpful to visualize these QC metrics in conjunction, as cells that are outliers in multiple dimensions, are more likely to be low quality cells. Seurat's FeatureScatter creates a scatter plot of two given columns from our metadata."
      ]
    },
    {
      "cell_type": "code",
      "execution_count": null,
      "id": "08490ca8",
      "metadata": {
        "colab": {
          "base_uri": "https://localhost:8080/",
          "height": 377
        },
        "id": "08490ca8",
        "outputId": "0984aceb-5198-41af-d3a0-0daf6d2fd465",
        "vscode": {
          "languageId": "r"
        }
      },
      "outputs": [],
      "source": [
        "## Scatter plot: total UMI counts vs percentage of mitochondrial genes\n",
        "options(repr.plot.width=6, repr.plot.height=6)\n",
        "FeatureScatter(seurat.raw, feature1 = \"nCount_RNA\", feature2 = \"percent.mt\") # Here we visualize the number of UMI vs the percentage of mito genes"
      ]
    },
    {
      "cell_type": "code",
      "execution_count": null,
      "id": "2ae30cb8",
      "metadata": {
        "id": "2ae30cb8",
        "vscode": {
          "languageId": "r"
        }
      },
      "outputs": [],
      "source": [
        "# Once we've visualized the metrics we can select the thresholds that we want to use to filter.\n",
        "# We use R's subset method to filter\n",
        "seurat.raw <- subset(\n",
        "    seurat.raw,\n",
        "    subset = ## Apply filtering criteria:\n",
        "        nFeature_RNA > 200 & #  Remove cells with fewer than 200 genes\n",
        "        nCount_RNA > 400 & # Remove cells with fewer than 400 UMIs\n",
        "        nFeature_RNA < 6000 & # Remove cells with more than 6000 genes (potential doublets)\n",
        "        percent.mt < 40) # Remove cells with more than 40% mitochondrial RNA (low-quality cells)\n"
      ]
    },
    {
      "cell_type": "markdown",
      "id": "0c9759d4",
      "metadata": {},
      "source": [
        "### Normalizing Data in Seurat\n",
        "\n",
        "After removing unwanted cells from the dataset, the next step is to normalize the data. Normalization is essential to adjust for differences in sequencing depth across cells, ensuring meaningful comparisons.\n",
        "\n",
        "1. Normalization Method: LogNormalize\n",
        "\n",
        "    * The most common normalization method in Seurat is the global-scaling normalization method called \"LogNormalize.\" This method involves three main steps:\n",
        "\n",
        "2. Normalization by Total Expression:\n",
        "\n",
        "    * For each cell, the method calculates the total expression (the sum of counts for all genes).\n",
        "\n",
        "    * Each gene expression value is divided by the total expression of the cell to adjust for differences in sequencing depth.\n",
        "\n",
        "3. Multiplication by a Scaling Factor:\n",
        "\n",
        "    * The normalized values are then multiplied by a scaling factor (10,000 by default). This helps bring the values to a more convenient and interpretable scale.\n",
        "\n",
        "4. Logarithmic Transformation:\n",
        "\n",
        "    * Finally, the normalized values are log-transformed using the natural logarithm. The log transformation stabilizes variance and reduces the impact of outliers, making the data distribution more symmetric.\n",
        "\n",
        "5. Data Storage:\n",
        "\n",
        "    * The original raw counts are stored in seurat.raw[[\"RNA\"]]@counts. This slot contains the unnormalized count data for each gene in each cell.\n",
        "\n",
        "    * The new normalized data are stored in seurat.raw[[\"RNA\"]]@data. This slot contains the normalized and log-transformed expression values for each gene in each cell."
      ]
    },
    {
      "cell_type": "code",
      "execution_count": null,
      "id": "5bc845ef",
      "metadata": {
        "colab": {
          "base_uri": "https://localhost:8080/"
        },
        "id": "5bc845ef",
        "lines_to_next_cell": 2,
        "outputId": "2443d394-cc12-4688-bd6a-21de0bd8fcde",
        "vscode": {
          "languageId": "r"
        }
      },
      "outputs": [],
      "source": [
        "# Normalize data using LogNormalization\n",
        "seurat.raw <- NormalizeData(seurat.raw, normalization.method = \"LogNormalize\", scale.factor = 10000)"
      ]
    },
    {
      "cell_type": "markdown",
      "id": "84a98e84",
      "metadata": {
        "id": "84a98e84",
        "lines_to_next_cell": 0
      },
      "source": [
        "# Do standard variable genes discovery, Scaling, PCA, Clustering, and UMAP"
      ]
    },
    {
      "cell_type": "code",
      "execution_count": null,
      "id": "a2c776d9",
      "metadata": {
        "colab": {
          "base_uri": "https://localhost:8080/",
          "height": 1000
        },
        "id": "a2c776d9",
        "lines_to_next_cell": 2,
        "outputId": "2aa84d96-eb4c-41a4-b966-36f4d24bbf1e",
        "vscode": {
          "languageId": "r"
        }
      },
      "outputs": [],
      "source": [
        "# Identify the most variable genes\n",
        "seurat.raw <- FindVariableFeatures(seurat.raw, selection.method = \"vst\", nfeatures = 2000)\n",
        "# Scale the data\n",
        "seurat.raw <- ScaleData(seurat.raw, features = VariableFeatures(seurat.raw), do.scale = T, do.center = T)\n",
        "# Run PCA (Principal Component Analysis)\n",
        "seurat.raw <- RunPCA(seurat.raw, features = VariableFeatures(seurat.raw))\n",
        "# Find cell neighbors\n",
        "seurat.raw <- FindNeighbors(seurat.raw, dims = 1:20, k.param = 20)\n",
        "# Identify clusters at low resolution\n",
        "seurat.raw <- RunUMAP(seurat.raw, dims = 1:20, reduction = \"pca\", seed.use = 1)\n",
        "\n",
        "# Find clusters and use a low resolution (0.1 is a good start) so that we can easily identify all of the T cells later\n",
        "seurat.raw <- FindClusters(seurat.raw, resolution = 0.1)\n",
        "\n",
        "## Visualize UMAP with cluster labels\n",
        "DimPlot(seurat.raw, reduction = \"umap\", label = T,group.by = \"seurat_clusters\")"
      ]
    },
    {
      "cell_type": "markdown",
      "id": "8a6d5f3b",
      "metadata": {},
      "source": [
        "Look at the feature plot of common cell type markers to figure out which cluster is T cells\n",
        "* T cell genes: CD3D, CD8A, GNLY\n",
        "* B cell gene: CD79A\n",
        "* Myeloid cell gene: FCGR3A\n",
        "* Epithelial (lung) cell gene: KRT7"
      ]
    },
    {
      "cell_type": "code",
      "execution_count": null,
      "id": "f1c1d1c2",
      "metadata": {
        "vscode": {
          "languageId": "r"
        }
      },
      "outputs": [],
      "source": [
        "# Feature plot of specific marker genes to identify cell types\n",
        "FeaturePlot(seurat.raw, features = c(\"CD3D\", \"CD8A\", \"GNLY\", \"CD79A\", \"FCGR3A\",\"KRT7\"), min.cutoff = \"q1\")"
      ]
    },
    {
      "cell_type": "markdown",
      "id": "3f0aab5c",
      "metadata": {
        "id": "3f0aab5c",
        "lines_to_next_cell": 0
      },
      "source": [
        "### TCR sequence integration\n",
        "In this section we will read in files generated by the 10X CellRanger software which describe the TCR sequences found in individual cells."
      ]
    },
    {
      "cell_type": "code",
      "execution_count": null,
      "id": "7ddffbf8",
      "metadata": {
        "colab": {
          "base_uri": "https://localhost:8080/",
          "height": 286
        },
        "id": "7ddffbf8",
        "outputId": "72784c5a-1270-4e0d-ea70-8d3821fff533",
        "vscode": {
          "languageId": "r"
        }
      },
      "outputs": [],
      "source": [
        "#Download files with curl\n",
        "shell_call(\"curl -O https://cf.10xgenomics.com/samples/cell-vdj/5.0.0/vdj_v1_hs_nsclc_multi_5gex_t_b/vdj_v1_hs_nsclc_multi_5gex_t_b_vdj_t_all_contig_annotations.csv\")\n",
        "shell_call(\"curl -O https://cf.10xgenomics.com/samples/cell-vdj/5.0.0/vdj_v1_hs_nsclc_multi_5gex_t_b/vdj_v1_hs_nsclc_multi_5gex_t_b_vdj_t_clonotypes.csv\")\n",
        "\n",
        "# Read in TCR information for each cell\n",
        "tcr <- read.csv(paste0(mydir,\"/vdj_v1_hs_nsclc_multi_5gex_t_b_vdj_t_all_contig_annotations.csv\"))\n",
        "\n",
        "# Read in clonotype  info (remember many cells can share the same clonotype, or TCR sequence)\n",
        "clono <- read.csv(paste0(mydir,\"/vdj_v1_hs_nsclc_multi_5gex_t_b_vdj_t_clonotypes.csv\"))\n",
        "\n",
        "# Remove the -1 at the end of each barcode.\n",
        "# Subsets so only the first line of each cell barcode is kept, so that we ony analyze one clonotype for each cell.\n",
        "tcr$barcode <- gsub(\"-1\", \"\", tcr$barcode)\n",
        "tcr <- tcr[!duplicated(tcr$barcode), ]\n",
        "\n",
        "# Also remove the -1 at the end of the line of the Seurat object\n",
        "seurat.raw = RenameCells(seurat.raw,new.names = gsub(\"-1\", \"\", colnames(seurat.raw)))\n",
        "\n",
        "# Only keep the barcode and clonotype columns. Adjust the name from \"raw_clonotype_id\" to \"clonotype_id\" so\n",
        "tcr <- tcr[,c(\"barcode\", \"raw_clonotype_id\")]\n",
        "names(tcr)[names(tcr) == \"raw_clonotype_id\"] <- \"clonotype_id\"\n",
        "\n",
        "# Merge the TCR and clonotype tables so we have TCR amino acid sequence for each cell\n",
        "tcr <- merge(tcr, clono[, c(\"clonotype_id\", \"cdr3s_aa\")])\n",
        "\n",
        "# Reorder so barcodes are first column, set them as rownames, and remove the unnecessary extra column of barcodes\n",
        "tcr <- tcr[, c(2,1,3)]\n",
        "rownames(tcr) <- tcr[,1]\n",
        "tcr[,1] <- NULL\n",
        "\n",
        "# Add to the Seurat object's metadata.\n",
        "seurat.raw <- AddMetaData(object=seurat.raw, metadata=tcr)\n",
        "\n",
        "# Confirm we have TCR information in the metadata\n",
        "head(seurat.raw@meta.data)\n"
      ]
    },
    {
      "cell_type": "code",
      "execution_count": null,
      "id": "106d8d49",
      "metadata": {
        "colab": {
          "base_uri": "https://localhost:8080/",
          "height": 1000
        },
        "id": "106d8d49",
        "outputId": "9ae8c4bf-89ff-418e-9152-079c4f3dab95",
        "vscode": {
          "languageId": "r"
        }
      },
      "outputs": [],
      "source": [
        "# Generate a histogram of clone frequencies from clono table\n",
        "# What is a good threshold to distinguish expanded from non-expanded clones?\n",
        "barplot(table(clono$frequency),xlab=\"Number of cells in clone\") \n",
        "\n",
        "# The barplot() function creates a bar plot.\n",
        "# The table() function creates a contingency table of the counts at each unique value of clono$frequency.\n",
        "# clono$frequency accesses the frequency column in the clono data frame\n",
        "\n",
        "\n",
        "# Identity expaned clones, flag in metadata, and label in UMAP\n",
        "# How many expanded clones are there? Try changing the threshold and compare the results\n",
        "Nexpand = 1  \n",
        "# This is the threshold we will use to distinguish expanded from non-expanded clones\n",
        "length(which(clono$frequency>1))\n",
        "# which(clono$frequency > 1): Returns the indices of the rows where the frequency is greater than 1.\n",
        "# length(which(clono$frequency > 1)): Counts the number of elements (clones) that have a frequency greater than 1. This gives you the number of expanded clones.\n",
        "\n",
        "expanded_clones = clono$clonotype_id[clono$frequency>1] \n",
        "# clono$clonotype_id[clono$frequency > 1]: Selects the clonotype_id values where the corresponding frequency is greater than 1.\n",
        "#expanded_clones: Stores the clonotype IDs of the expanded clones in a new variable.\n",
        "\n",
        "\n",
        "# Add a new metadata column indicating which cells are part of an expanded clone\n",
        "seurat.raw = AddMetaData(seurat.raw,metadata = rep(\"no\",ncol(seurat.raw)),col.name=\"TCR_expanded\") \n",
        "# This command adds a new metadata column to the seurat.raw Seurat object.\n",
        "# in this new metadata where every cell is \"no\", and then changing the value for the expanded cells to \"yes\"\n",
        "seurat.raw@meta.data$TCR_expanded[seurat.raw@meta.data$clonotype_id %in% expanded_clones] = \"yes\" \n",
        "#This command updates the TCR_expanded metadata column.\n",
        "# seurat.raw@meta.data$TCR_expanded: Accesses the TCR_expanded column in the metadata.\n",
        "# seurat.raw@meta.data$clonotype_id %in% expanded_clones: Checks which cells have clonotype_id values that are in the expanded_clones list.\n",
        "# = \"yes\": Sets the value to \"yes\" for cells that belong to expanded clones\n",
        "\n",
        "# Look at the UMAP to see if expanded clones have similar gene expression\n",
        "DimPlot(seurat.raw, reduction = \"umap\", group.by = \"TCR_expanded\", label = T)\n",
        "\n",
        "# Do expanded T cells have different genes expressed compared to non-expanded T cells?\n",
        "# To do ask this question, let's first separate the T cells from the rest of the object\n",
        "# Check your clustering to see which one looks like it contains T cells\n",
        "\n",
        "Idents(seurat.raw) = \"seurat_clusters\" # This means that subsequent operations will use the cluster identities assigned to each cell to seurat_clusters\n",
        "seurat.t = subset(seurat.raw, idents = \"1\") #is the new Seurat object containing only the cells from cluster 1.\n",
        "seurat.t # Check the number of samples (cells) to see how many T cells we have to work with\n",
        "\n",
        "Idents(seurat.t) = \"TCR_expanded\" # This command sets the active identity class in the seurat.t object to TCR_expanded\n",
        "deg_expanded = FindMarkers(seurat.t,ident.1=\"yes\",ident.2=\"no\",logfc.threshold = 0.25,min.pct = 0.1)\n",
        "# This command identifies differentially expressed genes between two groups of cells\n",
        "# Those marked as \"yes\" in the TCR_expanded metadata and those marked as \"no\".\n",
        "# logfc.threshold: Minimum log2 fold-change threshold for identifying differentially expressed genes.\n",
        "# min.pct: Minimum percentage of cells in which the gene is detected.\n",
        "\n",
        "\n",
        "# Visualize the expression of the top DE genes for each annotated cell subset.\n",
        "top30genes <- deg_expanded %>% filter(avg_log2FC > 0) %>% top_n(30, avg_log2FC)\n",
        "# deg_expanded %>% filter(avg_log2FC > 0): This filters the differentially expressed genes (deg_expanded) \n",
        "# to include only those with a positive average log2 fold-change (avg_log2FC > 0).\n",
        "# top_n(30, avg_log2FC): From the filtered genes, this selects the top 30 genes with the highest average log2 fold-change.\n",
        "genes <- rownames(top30genes)\n",
        "seurat.t <- ScaleData(seurat.t, features = genes, do.center = T, do.scale = T)\n",
        "# Scales the expression data for the selected genes (features = genes) in the seurat.t object.\n",
        "# do.center = T: Centers the data by subtracting the mean expression for each gene.\n",
        "# do.scale = T: Scales the data by dividing by the standard deviation for each gene\n",
        "DoHeatmap(seurat.t, features = genes) \n",
        "# Creates a heatmap of the expression data\n"
      ]
    }
  ],
  "metadata": {
    "colab": {
      "provenance": []
    },
    "jupytext": {
      "cell_metadata_filter": "name,tags,-all",
      "main_language": "R",
      "notebook_metadata_filter": "-all"
    },
    "kernelspec": {
      "display_name": "R",
      "name": "ir"
    },
    "language_info": {
      "name": "R"
    }
  },
  "nbformat": 4,
  "nbformat_minor": 5
}
