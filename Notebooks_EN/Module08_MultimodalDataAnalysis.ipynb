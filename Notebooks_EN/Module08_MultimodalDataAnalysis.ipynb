{
  "cells": [
    {
      "cell_type": "markdown",
      "id": "417645cb",
      "metadata": {
        "id": "417645cb"
      },
      "source": [
        "## Load libraries and set user directory paths"
      ]
    },
    {
      "cell_type": "code",
      "execution_count": null,
      "id": "aKPzDpcGEZ1i",
      "metadata": {
        "colab": {
          "base_uri": "https://localhost:8080/"
        },
        "id": "aKPzDpcGEZ1i",
        "outputId": "2b0df159-70e5-4f3f-9ffe-92d3546f087e",
        "vscode": {
          "languageId": "r"
        }
      },
      "outputs": [],
      "source": [
        "## Function to execute shell commands from within R\n",
        "## Useful when running R in Google Colab or other environments where system calls are needed\n",
        "shell_call <- function(command, ...) {\n",
        "  result <- system(command, intern = TRUE, ...)  # Execute the shell command and capture the output\n",
        "  cat(paste0(result, collapse = \"\\n\"))  # Print the result in a readable format\n",
        "}\n",
        "\n",
        "## Function to load required R packages\n",
        "## If a package is not installed, it notifies the user\n",
        "loadPackages = function(pkgs){\n",
        "  myrequire = function(...){\n",
        "    suppressWarnings(suppressMessages(suppressPackageStartupMessages(require(...))))\n",
        "  }\n",
        "  ok = sapply(pkgs, require, character.only=TRUE, quietly=TRUE)  # Check if packages are available\n",
        "  if (!all(ok)){\n",
        "    message(\"There are missing packages: \", paste(pkgs[!ok], collapse=\", \"))  # Inform user about missing packages\n",
        "  }\n",
        "}\n",
        "\n",
        "## Setup R2U (Ubuntu optimized R package manager) for faster package installation\n",
        "download.file(\"https://github.com/eddelbuettel/r2u/raw/master/inst/scripts/add_cranapt_jammy.sh\",\n",
        "              \"add_cranapt_jammy.sh\")  # Download installation script\n",
        "Sys.chmod(\"add_cranapt_jammy.sh\", \"0755\")  # Grant execution permissions to the script\n",
        "shell_call(\"./add_cranapt_jammy.sh\")  # Run the script\n",
        "bspm::enable()  # Enable BSPM (Bridge to System Package Manager) for installing R packages\n",
        "options(bspm.version.check=FALSE)  # Disable BSPM version check\n",
        "shell_call(\"rm add_cranapt_jammy.sh\")  # Remove the installation script after execution\n",
        "\n",
        "## Install necessary R packages from CRAN\n",
        "cranPkgs2Install = c(\"dplyr\", \"ggpubr\", \"Seurat\", \"cowplot\",\n",
        "                     \"Rtsne\", \"hdf5r\", \"patchwork\")\n",
        "install.packages(cranPkgs2Install, ask=FALSE, update=TRUE, quietly=TRUE)"
      ]
    },
    {
      "cell_type": "code",
      "execution_count": null,
      "id": "12b75889",
      "metadata": {
        "colab": {
          "base_uri": "https://localhost:8080/"
        },
        "id": "12b75889",
        "outputId": "43a14d6f-0b28-4e05-8abf-bd5383908943",
        "vscode": {
          "languageId": "r"
        }
      },
      "outputs": [],
      "source": [
        "## To simplify package loading, we created the loadPackages() function\n",
        "## If you don't have this function, you should load packages using library(name_of_package)\n",
        "pkgs = c(\"Seurat\", \"dplyr\",\"patchwork\",\"ggplot2\")\n",
        "loadPackages(pkgs)  # Load the specified packages\n",
        "\n",
        "# Important\n",
        "# Update scw01 dorectory to match your personal user directory\n",
        "# To match your personal user directory. This is where you read and write data\n",
        "mydir <- \"/content\""
      ]
    },
    {
      "cell_type": "markdown",
      "id": "aa391115",
      "metadata": {},
      "source": [
        "# Multi-modal Data Analysis"
      ]
    },
    {
      "cell_type": "markdown",
      "id": "03832df6",
      "metadata": {
        "id": "03832df6"
      },
      "source": [
        "In this notebook, we will embark on the exciting journey of analyzing multi-modal data, specifically focusing on the RNA and protein expression levels in individual cells. We will be guided by a comprehensive tutorial from Seurat, which you can find in detail [here.](https://satijalab.org/seurat/articles/multimodal_vignette.html)\n",
        "\n",
        "The dataset we will be working with consists of 8,617 cord blood mononuclear cells (CBMCs). These cells have been meticulously analyzed to provide both transcriptomic measurements and abundance estimates for 11 surface proteins. The protein levels have been quantified using DNA-barcoded antibodies, allowing for precise and reliable data.\n",
        "\n",
        "To begin our analysis, we will load two count matrices: one containing the RNA measurements and the other containing the antibody-derived tags (ADT). This dual dataset will enable us to explore and understand the intricate relationships between RNA expression and protein levels in these individual cells.\n",
        "\n",
        "Here’s a brief overview of our dataset as described by Seurat: > \"In this analysis, we examine a dataset of 8,617 cord blood mononuclear cells (CBMCs), where transcriptomic measurements are paired with abundance estimates for 11 surface proteins, quantified using DNA-barcoded antibodies. Initially, we load two count matrices: one for the RNA measurements and one for the antibody-derived tags (ADT).\"\n",
        "\n",
        "By following this tutorial, we aim to gain insights into the biological mechanisms at play and the interactions between RNA and protein expressions at a single-cell level. \n",
        "\n",
        "Get ready for a deep dive into multi-modal data analysis!"
      ]
    },
    {
      "cell_type": "code",
      "execution_count": 3,
      "id": "3s3kcbqpIX-p",
      "metadata": {
        "id": "3s3kcbqpIX-p",
        "vscode": {
          "languageId": "r"
        }
      },
      "outputs": [],
      "source": [
        "# Download raw single-cell RNA-seq and ADT (antibody-derived tag) data from the NCBI GEO database\n",
        "shell_call(\"wget ftp://ftp.ncbi.nlm.nih.gov/geo/series/GSE100nnn/GSE100866/suppl/GSE100866_CBMC_8K_13AB_10X-ADT_umi.csv.gz\")\n",
        "shell_call(\"wget ftp://ftp.ncbi.nlm.nih.gov/geo/series/GSE100nnn/GSE100866/suppl/GSE100866_CBMC_8K_13AB_10X-RNA_umi.csv.gz\")"
      ]
    },
    {
      "cell_type": "code",
      "execution_count": null,
      "id": "70138537",
      "metadata": {
        "colab": {
          "base_uri": "https://localhost:8080/",
          "height": 34
        },
        "id": "70138537",
        "outputId": "fb67d42f-e49f-4591-860e-cdddd59803c5",
        "vscode": {
          "languageId": "r"
        }
      },
      "outputs": [],
      "source": [
        "# Load in the RNA UMI matrix\n",
        "# Note: The dataset also contains ~5% of mouse cells, which we can use as negative controls for the protein measurements\n",
        "# For this reason, the gene expression matrix has HUMAN_ or MOUSE_ appended to the beginning of each gene\n",
        "cbmc.rna <- as.sparse(read.csv(file = paste0(mydir,\"/GSE100866_CBMC_8K_13AB_10X-RNA_umi.csv.gz\"), sep = \",\", header = TRUE, row.names = 1))\n",
        "\n",
        "# read.csv: reads a CSV file into a data frame, file argument specifies the path to the CSV file.\n",
        "# and (paste0) concatenates the directory stored in mydir with the filename.\n",
        "# sep = \",\": Indicates that the delimiter used in the CSV file is a comma.\n",
        "# header = TRUE: Specifies that the first row of the CSV file contains column names.\n",
        "# row.names = 1: Specifies that the first column of the CSV file should be used as row names\n",
        "# as.sparse(): This function converts the data frame into a sparse matrix. \n",
        "# Sparse matrices are used to efficiently store data with a lot of zero values, which is common in single-cell RNA-seq data.\n",
        "\n",
        "# To make life a bit easier going forward, we're going to discard all but the top 100 most highly expressed mouse genes, \n",
        "# and remove the 'HUMAN_' from the CITE-seq prefix\n",
        "cbmc.rna <- CollapseSpeciesExpressionMatrix(cbmc.rna)\n",
        "\n",
        "# This command processes the cbmc.rna matrix to handle or collapse gene expression data from potentially multiple species, \n",
        "# ensuring that the matrix is properly formatted for further analysis.\n",
        "\n",
        "# Load the ADT UMI matrix (for protein-level measurements)\n",
        "cbmc.adt <- as.sparse(read.csv(file = paste0(mydir,\"/GSE100866_CBMC_8K_13AB_10X-ADT_umi.csv.gz\"), sep = \",\", header = TRUE, row.names = 1))\n",
        "\n",
        "# Note: Ensure that both RNA and ADT matrices have identical column names (i.e., the same cells)\n",
        "# This command used to compare the column names of two data frames\n",
        "all.equal(colnames(cbmc.rna), colnames(cbmc.adt))  # Should return TRUE\n"
      ]
    },
    {
      "cell_type": "code",
      "execution_count": null,
      "id": "809bd61b",
      "metadata": {
        "colab": {
          "base_uri": "https://localhost:8080/",
          "height": 138
        },
        "id": "809bd61b",
        "outputId": "4dc63d84-2c65-4ed8-88ca-93dec330d33a",
        "vscode": {
          "languageId": "r"
        }
      },
      "outputs": [],
      "source": [
        "# Create a Seurat object for the scRNA-seq data\n",
        "cbmc <- CreateSeuratObject(counts = cbmc.rna)\n",
        "\n",
        "# Verify the available assays (default is RNA). The cbmc object contains an assay storing RNA measurement\n",
        "Assays(cbmc)\n",
        "\n",
        "# Create a new assay to store ADT information\n",
        "adt_assay <- CreateAssayObject(counts = cbmc.adt)\n",
        "\n",
        "# Add the ADT assay to the Seurat object\n",
        "cbmc[[\"ADT\"]] <- adt_assay\n",
        "\n",
        "# Verify that the Seurat object now contains both RNA and ADT assays\n",
        "Assays(cbmc)\n",
        "\n",
        "# Extract a list of features (antibodies) measured in the ADT assay\n",
        "rownames(cbmc[[\"ADT\"]])\n",
        "\n",
        "# Note: We can easily switch back and forth between the two assays to specify the default for visualization and analysis\n",
        "\n",
        "# List the current default assay (should be RNA)\n",
        "DefaultAssay(cbmc)\n",
        "\n",
        "# Switch the default assay to ADT\n",
        "DefaultAssay(cbmc) <- \"ADT\"\n",
        "DefaultAssay(cbmc)  # Should now return \"ADT\""
      ]
    },
    {
      "cell_type": "markdown",
      "id": "ffbc53bf",
      "metadata": {
        "id": "ffbc53bf"
      },
      "source": [
        "# Clustering"
      ]
    },
    {
      "cell_type": "code",
      "execution_count": null,
      "id": "a6dff242",
      "metadata": {
        "colab": {
          "base_uri": "https://localhost:8080/",
          "height": 1000
        },
        "id": "a6dff242",
        "outputId": "be33e044-3e82-49d1-9d92-dc23a8e3a4de",
        "vscode": {
          "languageId": "r"
        }
      },
      "outputs": [],
      "source": [
        "# Note that all operations below are performed on the RNA assay Set and verify that the\n",
        "# Default assay is RNA\n",
        "DefaultAssay(cbmc) <- \"RNA\" # This command sets the default assay for the cbmc object to be the RNA assay\n",
        "DefaultAssay(cbmc) # See the Assay\n",
        "\n",
        "# Perform visualization and clustering steps\n",
        "cbmc <- NormalizeData(cbmc) # This command normalizes the gene expression data in the cbmc object\n",
        "cbmc <- FindVariableFeatures(cbmc) # This command identifies most variable features in the data.\n",
        "cbmc <- ScaleData(cbmc) # This command scales the data, adjusting the mean of gene expression to 0 and the variance to 1.\n",
        "cbmc <- RunPCA(cbmc, verbose = FALSE) # This command performs a Principal Component Analysis (PCA) on the data\n",
        "cbmc <- FindNeighbors(cbmc, dims = 1:30) # This command finds the nearest neighbors of each cell based on the first 30 dimensions resulting from the PCA\n",
        "cbmc <- FindClusters(cbmc, resolution = 0.8, # This command performs clustering of the cells using the nearest neighbors identified earlier\n",
        "verbose = FALSE)\n",
        "cbmc <- RunUMAP(cbmc, dims = 1:30) # This command performs UMAP (Uniform Manifold Approximation and Projection) projection to visualize the data in a lower-dimensional space\n",
        "DimPlot(cbmc, label = TRUE) # This command generates a scatter plot of the cells in UMAP space, where each point represents a cell"
      ]
    },
    {
      "cell_type": "markdown",
      "id": "ea1a848a",
      "metadata": {
        "id": "ea1a848a"
      },
      "source": [
        "## Visualize multiple modalities side-by-side\n",
        "Now that we have successfully clustered our scRNA-seq profiles, we can move on to visualizing the expression of either protein or RNA molecules in our dataset. Seurat offers several methods to switch between different modalities and specify which modality you are interested in analyzing or visualizing.\n",
        "\n",
        "This is especially important because, in some cases, the same feature can be present in multiple modalities. For instance, in our dataset, we have independent measurements of the B cell marker CD19, both at the protein level and RNA level. Being able to switch between these modalities allows us to comprehensively explore and understand the biological significance of these features.\n",
        "\n",
        "By leveraging Seurat's capabilities, we can gain deeper insights into the relationships and interactions between RNA and protein expressions within individual cells, ultimately enhancing our understanding of the underlying biological processes.\n",
        "\n",
        "If you have any questions or need further assistance with the analysis, feel free to ask!\n",
        "\n"
      ]
    },
    {
      "cell_type": "code",
      "execution_count": null,
      "id": "b8750c1e",
      "metadata": {
        "colab": {
          "base_uri": "https://localhost:8080/",
          "height": 961
        },
        "id": "b8750c1e",
        "outputId": "e9f233bf-e5c2-4639-a605-fc58f72859fe",
        "vscode": {
          "languageId": "r"
        }
      },
      "outputs": [],
      "source": [
        "# Normalize ADT data\n",
        "DefaultAssay(cbmc) <- \"ADT\" # This command sets the default assay for the cbmc object to be the Antibody-Derived Tags (ADT) assay\n",
        "cbmc <- NormalizeData(cbmc, normalization.method = \"CLR\", margin = 2)\n",
        "# This command normalizes the ADT data in the cbmc object using the CLR (Centered Log Ratio) method. The margin = 2 parameter indicates that normalization will be applied to the columns (genes/proteins).\n",
        "DefaultAssay(cbmc) <- \"RNA\" # This command resets the default assay for the cbmc object to be the RNA assay.\n",
        "\n",
        "# Note that the following command is an alternative but returns the same result\n",
        "cbmc <- NormalizeData(cbmc, normalization.method = \"CLR\", margin = 2, assay = \"ADT\")\n",
        "\n",
        "# Now, we will visualize CD14 levels for RNA and protein By setting the default assay, we can\n",
        "# Visualize one or the other\n",
        "DefaultAssay(cbmc) <- \"ADT\"\n",
        "p1 <- FeaturePlot(cbmc, \"CD19\", cols = c(\"lightgrey\", \"darkgreen\")) \n",
        "+ ggtitle(\"CD19 protein\") # This command creates a FeaturePlot of the CD19 protein in the ADT data, coloring cells with low levels of expression in light gray and high levels in dark green\n",
        "DefaultAssay(cbmc) <- \"RNA\" # This command resets the default assay to RNA.\n",
        "p2 <- FeaturePlot(cbmc, \"CD19\") + ggtitle(\"CD19 RNA\") # This command creates a FeaturePlot of CD19 RNA in the RNA data\n",
        "\n",
        "# Place plots side-by-side\n",
        "p1 | p2 # This command places the two plots side by side for visual comparison of CD19 protein and RNA expression.\n",
        "\n",
        "\n",
        "# Alternately, we can use specific assay keys to specify a specific modality Identify the key for the RNA and protein assays\n",
        "Key(cbmc[[\"RNA\"]])\n",
        "Key(cbmc[[\"ADT\"]])\n",
        "# These commands identify the keys for the RNA and ADT assays, respectively. Keys are prefixes used to differentiate modalities when specifying features\n",
        "\n",
        "# Now, we can include the key in the feature name, which overrides the default assay\n",
        "p1 <- FeaturePlot(cbmc, \"adt_CD19\", cols = c(\"lightgrey\", \"darkgreen\")) + ggtitle(\"CD19 protein\")\n",
        "p2 <- FeaturePlot(cbmc, \"rna_CD19\") + ggtitle(\"CD19 RNA\")\n",
        "p1 | p2 # plot p1 and p2 at same time\n"
      ]
    },
    {
      "cell_type": "markdown",
      "id": "2948b2ec",
      "metadata": {
        "id": "2948b2ec"
      },
      "source": [
        "# Identify cell surface markers for scRNA-seq clusters"
      ]
    },
    {
      "cell_type": "code",
      "execution_count": null,
      "id": "7a6488fa",
      "metadata": {
        "colab": {
          "base_uri": "https://localhost:8080/",
          "height": 1000
        },
        "id": "7a6488fa",
        "outputId": "f6737578-d079-405a-cde0-88c789a6dd94",
        "vscode": {
          "languageId": "r"
        }
      },
      "outputs": [],
      "source": [
        "# As we know, CD19 is a B cell marker, we can identify cluster 6 as expressing CD19 on the surface\n",
        "VlnPlot(cbmc, \"adt_CD19\") #creat a violin plot\n",
        "\n",
        "# We can also identify alternative protein and RNA markers for this cluster through differential expression\n",
        "adt_markers <- FindMarkers(cbmc, ident.1 = 6, assay = \"ADT\") # This function identifies differentially expressed markers for cluster 6 using the ADT assay\n",
        "rna_markers <- FindMarkers(cbmc, ident.1 = 6, assay = \"RNA\") # This function identifies differentially expressed markers for cluster 6 using the RNA assay\n",
        "#ident.1 = 6: Specifies that cluster 6 is the group of interest for which markers are being identified.\n",
        "#assay: Indicates that the ADT/RNA assay data should be used for the analysis.\n",
        "#adt/rna_markers: Stores the results of the marker identification for the ADT/RNA assay.\n",
        "\n",
        "# Display the top markers\n",
        "head(adt_markers)\n",
        "head(rna_markers)"
      ]
    },
    {
      "cell_type": "markdown",
      "id": "71079fd9",
      "metadata": {
        "id": "71079fd9"
      },
      "source": [
        "# Additional visualizations of multimodal data"
      ]
    },
    {
      "cell_type": "code",
      "execution_count": null,
      "id": "c68989bb",
      "metadata": {
        "colab": {
          "base_uri": "https://localhost:8080/",
          "height": 1000
        },
        "id": "c68989bb",
        "outputId": "24cbf5ee-143d-4bfd-ee59-0972137410e9",
        "vscode": {
          "languageId": "r"
        }
      },
      "outputs": [],
      "source": [
        "# Draw ADT scatter plots (like biaxial plots for FACS). Note that you can even 'gate' cells if desired by using HoverLocator and FeatureLocator\n",
        "FeatureScatter(cbmc, feature1 = \"adt_CD19\", feature2 = \"adt_CD3\")\n",
        "\n",
        "# View relationship between protein and RNA\n",
        "FeatureScatter(cbmc, feature1 = \"adt_CD3\", feature2 = \"rna_CD3E\")\n",
        "\n",
        "FeatureScatter(cbmc, feature1 = \"adt_CD4\", feature2 = \"adt_CD8\")\n",
        "\n",
        "# Let's look at the raw (non-normalized) ADT counts. You can see the values are quite high,\n",
        "# particularly in comparison to RNA values. This is due to the significantly higher protein\n",
        "# copy number in cells, which significantly reduces 'drop-out' in ADT data\n",
        "FeatureScatter(cbmc, feature1 = \"adt_CD4\", feature2 = \"adt_CD8\", slot = \"counts\")\n"
      ]
    },
    {
      "cell_type": "markdown",
      "id": "c4562a53",
      "metadata": {
        "id": "c4562a53"
      },
      "source": [
        "# Loading data from 10X multi-modal experiments\n",
        "### NOTE: DO NOT RUN THIS SECTION\n",
        "\n",
        "We are including it for you reference if you will need to process multi-modal 10x data from the raw data."
      ]
    },
    {
      "cell_type": "code",
      "execution_count": null,
      "id": "4d3e67b4",
      "metadata": {
        "colab": {
          "base_uri": "https://localhost:8080/",
          "height": 124
        },
        "id": "4d3e67b4",
        "outputId": "900329d0-50f6-416d-bb0c-1b8b11450178",
        "vscode": {
          "languageId": "r"
        }
      },
      "outputs": [],
      "source": [
        "# Load the 10X Genomics PBMC dataset from the specified directory\n",
        "# This data includes gene expression and antibody capture information\n",
        "pbmc10k.data <- Read10X(data.dir = \"../data/pbmc10k/filtered_feature_bc_matrix/\")\n",
        "\n",
        "# Clean up the row names of the Antibody Capture data to remove unwanted suffixes,\n",
        "# specifically the '_TotalSeqB' and any 'control' prefixes\n",
        "rownames(x = pbmc10k.data[[\"Antibody Capture\"]]) <- gsub(pattern = \"_[control_]*TotalSeqB\", replacement = \"\",\n",
        "    x = rownames(x = pbmc10k.data[[\"Antibody Capture\"]]))\n",
        "\n",
        "# Create a Seurat object for the gene expression data,\n",
        "# filtering to keep genes detected in at least 3 cells and cells with at least 200 features\n",
        "pbmc10k <- CreateSeuratObject(counts = pbmc10k.data[[\"Gene Expression\"]], min.cells = 3, min.features = 200)\n",
        "\n",
        "# Normalize the gene expression data using log normalization\n",
        "pbmc10k <- NormalizeData(pbmc10k)\n",
        "\n",
        "# Add the ADT data (Antibody Derived Tags) to the Seurat object as a separate assay\n",
        "# This ensures we can analyze protein expression alongside RNA data\n",
        "pbmc10k[[\"ADT\"]] <- CreateAssayObject(pbmc10k.data[[\"Antibody Capture\"]][, colnames(x = pbmc10k)])\n",
        "\n",
        "# Normalize the ADT data using CLR (Centered Log Ratio) normalization method\n",
        "# This is important for correcting technical variation in protein expression data\n",
        "pbmc10k <- NormalizeData(pbmc10k, assay = \"ADT\", normalization.method = \"CLR\")\n",
        "\n",
        "# Create scatter plots to visualize the relationship between different features:\n",
        "# Plot 1: CD19 vs. CD3 protein expression\n",
        "plot1 <- FeatureScatter(pbmc10k, feature1 = \"adt_CD19\", feature2 = \"adt_CD3\", pt.size = 1)\n",
        "\n",
        "# Plot 2: CD4 vs. CD8a protein expression\n",
        "plot2 <- FeatureScatter(pbmc10k, feature1 = \"adt_CD4\", feature2 = \"adt_CD8a\", pt.size = 1)\n",
        "\n",
        "# Plot 3: CD3 protein expression vs. CD3E RNA expression\n",
        "plot3 <- FeatureScatter(pbmc10k, feature1 = \"adt_CD3\", feature2 = \"CD3E\", pt.size = 1)\n",
        "\n",
        "# Combine the three scatter plots into one figure and remove the legend for clarity\n",
        "(plot1 + plot2 + plot3) & NoLegend()\n"
      ]
    }
  ],
  "metadata": {
    "colab": {
      "provenance": []
    },
    "jupytext": {
      "cell_metadata_filter": "tags,name,-all",
      "main_language": "R",
      "notebook_metadata_filter": "-all"
    },
    "kernelspec": {
      "display_name": "R",
      "name": "ir"
    },
    "language_info": {
      "name": "R"
    }
  },
  "nbformat": 4,
  "nbformat_minor": 5
}
