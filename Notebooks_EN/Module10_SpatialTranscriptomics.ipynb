{
 "cells": [
  {
   "cell_type": "markdown",
   "metadata": {
    "id": "zGJJFOip04M_"
   },
   "source": [
    "# Spatial transcriptomics\n",
    "\n",
    "## Tutorial Links\n",
    "Explore the following tutorials to get started with spatial transcriptomics analysis:\n",
    "\n",
    "* Spatial Features [STUtilit](https://ludvigla.github.io/STUtility_web_site/Spatial_Features.html#Matrix_factorization ). This tutorial covers the extraction and analysis of spatial features using the STUtility package.\n",
    "\n",
    "* [Seurat Spatial Vignette Learn](https://satijalab.org/seurat/articles/spatial_vignette.html). How to perform spatial transcriptomics analysis using the Seurat package.\n",
    "\n",
    "* Quality Control [STUtility](https://ludvigla.github.io/STUtility_web_site/Quality_Control.html). This tutorial focuses on quality control steps for spatial transcriptomics data using the STUtility package.\n",
    "\n",
    "# Download the Raw Data and Code Used in the Paper\n",
    "To access the raw data and the code used in the relevant paper, visit the following link: [Zenodo Dataset](https://zenodo.org/record/4751624#.Y17sri_pMUF)\n",
    "\n",
    "These resources will provide you with a comprehensive understanding of spatial transcriptomics and guide you through the analysis process."
   ]
  },
  {
   "cell_type": "markdown",
   "metadata": {
    "id": "jQVY5cbphgjh"
   },
   "source": [
    "# Install the packages"
   ]
  },
  {
   "cell_type": "code",
   "execution_count": 2,
   "metadata": {
    "executionInfo": {
     "elapsed": 19076,
     "status": "ok",
     "timestamp": 1690667770277,
     "user": {
      "displayName": "Adolfo Alexis Rojas Hidalgo",
      "userId": "18158766317608392773"
     },
     "user_tz": 240
    },
    "id": "0CO_Dbc-NqXV",
    "vscode": {
     "languageId": "r"
    }
   },
   "outputs": [],
   "source": [
    "# Downloads the script from the specified URL and saves it as \"add_cranapt_jammy.sh\"\n",
    "download.file(\"https://github.com/eddelbuettel/r2u/raw/master/inst/scripts/add_cranapt_jammy.sh\", \n",
    "              \"add_cranapt_jammy.sh\")\n",
    "Sys.chmod(\"add_cranapt_jammy.sh\", \"0755\")  # Grants execute permissions (rwxr-xr-x) to the script\n",
    "system(\"./add_cranapt_jammy.sh\")  # Executes the downloaded script in the system shell"
   ]
  },
  {
   "cell_type": "code",
   "execution_count": 3,
   "metadata": {
    "executionInfo": {
     "elapsed": 29923,
     "status": "ok",
     "timestamp": 1690667800197,
     "user": {
      "displayName": "Adolfo Alexis Rojas Hidalgo",
      "userId": "18158766317608392773"
     },
     "user_tz": 240
    },
    "id": "So3kjOJre1H0",
    "vscode": {
     "languageId": "r"
    }
   },
   "outputs": [],
   "source": [
    "# Installs various development libraries for text rendering, font management, and cryptographic operations.\n",
    "system(\"apt install libfontconfig1-dev libharfbuzz-dev libfribidi-dev libcairo2-dev libgmp-dev libcurl3-gnutls -y\")  \n",
    "\n",
    "# Installs image processing libraries (JPEG, PNG, TIFF) and the GNU Scientific Library (GSL).\n",
    "system(\"apt install libfreetype6-dev libpng-dev libtiff5-dev libjpeg-dev libbz2-dev libgsl-dev gsl-bin -y\")  \n",
    "\n",
    "system(\"apt update\")  # Updates the package list to ensure the latest versions are available.\n",
    "\n",
    "# Installs ImageMagick development files, required for image manipulation.\n",
    "system(\"apt install libmagick++-dev -y\")"
   ]
  },
  {
   "cell_type": "code",
   "execution_count": null,
   "metadata": {
    "colab": {
     "base_uri": "https://localhost:8080/",
     "height": 531
    },
    "executionInfo": {
     "elapsed": 257,
     "status": "ok",
     "timestamp": 1690667744195,
     "user": {
      "displayName": "Adolfo Alexis Rojas Hidalgo",
      "userId": "18158766317608392773"
     },
     "user_tz": 240
    },
    "id": "4YfEB-ofN7J2",
    "outputId": "d49fcd48-5df5-4233-baad-c9550b9548da",
    "vscode": {
     "languageId": "r"
    }
   },
   "outputs": [],
   "source": [
    "# Returns details about the installed R version, including major/minor versions, release date, and system architecture.\n",
    "R.Version()"
   ]
  },
  {
   "cell_type": "code",
   "execution_count": null,
   "metadata": {
    "colab": {
     "base_uri": "https://localhost:8080/"
    },
    "executionInfo": {
     "elapsed": 314560,
     "status": "ok",
     "timestamp": 1690668295321,
     "user": {
      "displayName": "Adolfo Alexis Rojas Hidalgo",
      "userId": "18158766317608392773"
     },
     "user_tz": 240
    },
    "id": "vWJE9s60OE6x",
    "outputId": "9b703eaf-7812-454f-ad40-ad0befab5be3",
    "vscode": {
     "languageId": "r"
    }
   },
   "outputs": [],
   "source": [
    "# Sets a higher timeout limit to avoid interruptions during package downloads.\n",
    "options(timeout=1000)\n",
    "\n",
    "# Installs the \"STUtility\" package from GitHub with forced upgrade\n",
    "remotes::install_github(\"jbergenstrahle/STUtility\", upgrade=T, force = TRUE)  \n",
    "\n",
    "# Installs \"SPOTlight\" from GitHub without upgrading existing dependencies.\n",
    "remotes::install_github(\"https://github.com/MarcElosua/SPOTlight\", upgrade=F)  \n",
    "\n",
    "# Checks if \"BiocManager\" is installed; if not, installs it\n",
    "if (!require(\"BiocManager\", quietly = TRUE))  \n",
    "    install.packages(\"BiocManager\", quiet = T)  \n",
    "\n",
    "# Installs \"ReactomePA\" for pathway enrichment analysis.\n",
    "BiocManager::install(\"ReactomePA\", update = TRUE, quiet = T)  \n",
    "\n",
    "# Installs \"ggpubr\", an extension of ggplot2 for easy publication-ready plots\n",
    "install.packages(\"ggpubr\")\n",
    "\n",
    "# Installs \"clustree\", a package for visualizing cluster trees\n",
    "install.packages(\"clustree\", quiet = T)\n",
    "\n",
    "# Installs the human gene annotation database from Bioconductor\n",
    "BiocManager::install(\"org.Hs.eg.db\", update = FALSE, quiet = T)  \n",
    "\n",
    "# Installs \"enrichR\" for gene enrichment analysis\n",
    "install.packages(\"enrichR\", quiet = T)\n",
    "\n",
    "# Installs \"SingleCellExperiment\" for single-cell RNA-seq analysis.\n",
    "BiocManager::install('SingleCellExperiment', update = FALSE, quiet = T)\n",
    "\n",
    "# Installs \"hdf5r\", used for reading and writing HDF5 files.\n",
    "install.packages(\"hdf5r\", quiet = T)\n",
    "\n",
    "# Installs multiple packages: DT (interactive tables), ggcorrplot (correlation plots), and scatterpie (scatter plots with pie charts).\n",
    "install.packages(c('DT','ggcorrplot','scatterpie'), quiet = T)  \n",
    "\n",
    "# Installs a specific version (1.5-3) of the \"Matrix\" package directly from CRAN archives.\n",
    "install.packages(\"https://cran.r-project.org/src/contrib/Archive/Matrix/Matrix_1.5-3.tar.gz\", repos=NULL, type=\"source\")  "
   ]
  },
  {
   "cell_type": "code",
   "execution_count": 1,
   "metadata": {
    "executionInfo": {
     "elapsed": 17502,
     "status": "ok",
     "timestamp": 1690668382425,
     "user": {
      "displayName": "Adolfo Alexis Rojas Hidalgo",
      "userId": "18158766317608392773"
     },
     "user_tz": 240
    },
    "id": "MN3Rt0bR0CfA",
    "vscode": {
     "languageId": "r"
    }
   },
   "outputs": [],
   "source": [
    "# Suppresses package loading messages to keep output clean.\n",
    "suppressPackageStartupMessages({  \n",
    "library(Seurat)  # Single-cell RNA-seq analysis framework.\n",
    "library(data.table)  # Efficient handling of large datasets.\n",
    "library(ggplot2)  # Grammar of graphics-based visualization.\n",
    "library(plotly)  # Interactive visualizations.\n",
    "library(RColorBrewer)  # Predefined color palettes.\n",
    "library(dplyr)  # Data manipulation package.\n",
    "library(STutility)  # Spatial transcriptomics toolkit.\n",
    "library(clustree)  # Visualization of cluster resolutions.\n",
    "library(ReactomePA)  # Pathway analysis.\n",
    "library(org.Hs.eg.db)  # Human gene annotation database.\n",
    "library(ggpubr)  # Publication-ready visualizations.\n",
    "library(enrichR)  # Gene enrichment analysis.\n",
    "library(stringr)  # String manipulation.\n",
    "library(patchwork)  # Combine multiple plots.\n",
    "library(SingleCellExperiment)  # Framework for single-cell data.\n",
    "library(SPOTlight)  # Deconvolution of spatial transcriptomics data.\n",
    "})"
   ]
  },
  {
   "cell_type": "markdown",
   "metadata": {
    "id": "L8K3sDVj0ZNg"
   },
   "source": [
    "# Download the data"
   ]
  },
  {
   "cell_type": "code",
   "execution_count": null,
   "metadata": {
    "id": "j7tVIN00emmX",
    "vscode": {
     "languageId": "r"
    }
   },
   "outputs": [],
   "source": [
    "# Executes shell command and captures output.\n",
    "shell_call <- function(command, ...) {  \n",
    "  result <- system(command, intern = TRUE, ...) \n",
    "  cat(paste0(result, collapse = \"\\n\"))  # Prints the output in a readable format.\n",
    "}"
   ]
  },
  {
   "cell_type": "code",
   "execution_count": null,
   "metadata": {
    "colab": {
     "base_uri": "https://localhost:8080/"
    },
    "executionInfo": {
     "elapsed": 69522,
     "status": "ok",
     "timestamp": 1690396156246,
     "user": {
      "displayName": "Adolfo Alexis Rojas Hidalgo",
      "userId": "18158766317608392773"
     },
     "user_tz": 240
    },
    "id": "lIMpLlL1j_RY",
    "outputId": "4d63130e-9be6-482d-e467-274b5be64ed8",
    "vscode": {
     "languageId": "r"
    }
   },
   "outputs": [],
   "source": [
    "# Prevents timeouts for large downloads.\n",
    "options(timeout=1000)\n",
    "\n",
    "# Downloads a ZIP file containing spatial transcriptomics exercises.\n",
    "download.file('https://iauchile-my.sharepoint.com/:u:/g/personal/adolfo_rh_postqyf_uchile_cl/EfjJEURo--BOiy13A9w1FwgBcFnFIUTccVr4F6G-hBcHBg?e=VTLZb7&download=1', \n",
    "              'ST_Exercises.zip')  \n",
    "\n",
    "# Lists files in the current directory with human-readable file sizes.\n",
    "shell_call(\"ls -lh\")\n",
    "\n",
    "# Unzips the downloaded file.\n",
    "shell_call(\"unzip ST_Exercises.zip\")"
   ]
  },
  {
   "cell_type": "markdown",
   "metadata": {
    "id": "pjUWbECALQDv"
   },
   "source": [
    "# RECOVER THE PATHOLOGIST ANNOTATIONS"
   ]
  },
  {
   "cell_type": "markdown",
   "metadata": {
    "id": "tdtk8Iqaxw06"
   },
   "source": [
    "## Load the data set"
   ]
  },
  {
   "cell_type": "code",
   "execution_count": null,
   "metadata": {
    "colab": {
     "base_uri": "https://localhost:8080/"
    },
    "executionInfo": {
     "elapsed": 5090,
     "status": "ok",
     "timestamp": 1690396161333,
     "user": {
      "displayName": "Adolfo Alexis Rojas Hidalgo",
      "userId": "18158766317608392773"
     },
     "user_tz": 240
    },
    "id": "PsH0vqIRhYz5",
    "outputId": "e54fa7c5-8ca4-4375-d88c-2f51147f2384",
    "vscode": {
     "languageId": "r"
    }
   },
   "outputs": [],
   "source": [
    "# Loads a Seurat object.\n",
    "load(file = \"ST_Exercises/Exercise1_dataset.RData\")\n",
    "# Get some informations about the dataset\n",
    "# This command retrieves the current default assay for the Seurat object Her2p\n",
    "DefaultAssay(Her2p)\n",
    "# Displays the number of features (genes) and cells.\n",
    "dim(Her2p)\n",
    "# This command generates a frequency table of the ids column in the metadata slot of the Seurat object Her2p.\n",
    "table(Her2p@meta.data$ids)"
   ]
  },
  {
   "cell_type": "markdown",
   "metadata": {
    "id": "ZQq67WhFyCHQ"
   },
   "source": [
    "## Quality Control (QC) plots"
   ]
  },
  {
   "cell_type": "markdown",
   "metadata": {
    "id": "iTyvcAjYyWtW"
   },
   "source": [
    "Create the color palette"
   ]
  },
  {
   "cell_type": "code",
   "execution_count": null,
   "metadata": {
    "colab": {
     "base_uri": "https://localhost:8080/",
     "height": 489
    },
    "executionInfo": {
     "elapsed": 1379,
     "status": "ok",
     "timestamp": 1690396162710,
     "user": {
      "displayName": "Adolfo Alexis Rojas Hidalgo",
      "userId": "18158766317608392773"
     },
     "user_tz": 240
    },
    "id": "ptZHTGilx9wN",
    "outputId": "72fd31e6-fb7f-406b-f59c-d06319bf99f0",
    "vscode": {
     "languageId": "r"
    }
   },
   "outputs": [],
   "source": [
    "# Create a color palette function using the colorRampPalette function from the grDevices package, and colors from the \"Set1\" palette from the RColorBrewer package.\n",
    "getPalette = colorRampPalette(brewer.pal(8, \"Set1\"))\n",
    "color = getPalette(6)\n",
    "VlnPlot(Her2p, # Generates a violin plot\n",
    "       features = \"nCount_RNA\", # Specifies the feature to plot\n",
    "       group.by = \"ids\", # Groups the data by the ids metadata column.\n",
    "       pt.size = 0.1, # Sets the size of the points in the plot.\n",
    "       cols = color) + # Specifies the colors to use for the different groups.\n",
    "  stat_summary(fun.y=mean, geom=\"point\", shape=95, size=15, color = \"black\") + NoLegend()\n",
    "  # Adds a layer to the plot using stat_summary to calculate and display the mean of the feature."
   ]
  },
  {
   "cell_type": "markdown",
   "metadata": {
    "id": "EPDXop2xyJVA"
   },
   "source": [
    "Plot the metrics"
   ]
  },
  {
   "cell_type": "code",
   "execution_count": null,
   "metadata": {
    "colab": {
     "base_uri": "https://localhost:8080/",
     "height": 1000
    },
    "executionInfo": {
     "elapsed": 4705,
     "status": "ok",
     "timestamp": 1690396167414,
     "user": {
      "displayName": "Adolfo Alexis Rojas Hidalgo",
      "userId": "18158766317608392773"
     },
     "user_tz": 240
    },
    "id": "fl-ajgU6LYSp",
    "outputId": "6ed400b8-b945-46e6-f560-5a2851f860f8",
    "vscode": {
     "languageId": "r"
    }
   },
   "outputs": [],
   "source": [
    "# Violin plot with mean values added.\n",
    "VlnPlot(Her2p, features = \"nCount_RNA\", group.by = \"ids\", \n",
    "        pt.size = 0.1, cols = color) +\n",
    "  stat_summary(fun.y=mean, geom=\"point\", shape=95, \n",
    "              size=15, color = \"black\") + NoLegend()\n",
    "\n",
    "# Scatter plot comparing RNA counts to the number of features (genes).\n",
    "FeatureScatter(object = Her2p, feature1 = \"nCount_RNA\", \n",
    "feature2 = \"nFeature_RNA\", group.by = \"ids\", cols = color)\n",
    "\n",
    "# Overlays RNA count distribution on spatial coordinates.\n",
    "FeatureOverlay(Her2p, features = c(\"nCount_RNA\"),\n",
    "               sampleids = 1:3,\n",
    "               pt.size = 2.5,\n",
    "               add.alpha = TRUE,\n",
    "               ncol = 3, min.cutoff = 0, max.cutoff = 2000)"
   ]
  },
  {
   "cell_type": "code",
   "execution_count": null,
   "metadata": {
    "id": "447inZg-ynrh",
    "vscode": {
     "languageId": "r"
    }
   },
   "outputs": [],
   "source": [
    "#Exercice: Save the image to a file\n"
   ]
  },
  {
   "cell_type": "markdown",
   "metadata": {
    "id": "2qOyzGqfyOI_"
   },
   "source": [
    "### NOTE: Normalization, PCA, dimensionality reduction, and UMAP already applied on this object"
   ]
  },
  {
   "cell_type": "markdown",
   "metadata": {
    "id": "59R4UwUsySvS"
   },
   "source": [
    "## Clustering\n"
   ]
  },
  {
   "cell_type": "code",
   "execution_count": null,
   "metadata": {
    "colab": {
     "base_uri": "https://localhost:8080/",
     "height": 34
    },
    "executionInfo": {
     "elapsed": 9,
     "status": "ok",
     "timestamp": 1690396167414,
     "user": {
      "displayName": "Adolfo Alexis Rojas Hidalgo",
      "userId": "18158766317608392773"
     },
     "user_tz": 240
    },
    "id": "nfbcRLhzYSfq",
    "outputId": "c3c657dd-6b2b-4b20-e24d-64909d07e092",
    "vscode": {
     "languageId": "r"
    }
   },
   "outputs": [],
   "source": [
    "# Display the installed version of the Matrix package\n",
    "packageVersion(\"Matrix\")"
   ]
  },
  {
   "cell_type": "code",
   "execution_count": null,
   "metadata": {
    "colab": {
     "base_uri": "https://localhost:8080/",
     "height": 437
    },
    "executionInfo": {
     "elapsed": 6715,
     "status": "ok",
     "timestamp": 1690396174120,
     "user": {
      "displayName": "Adolfo Alexis Rojas Hidalgo",
      "userId": "18158766317608392773"
     },
     "user_tz": 240
    },
    "id": "L3RpRwsDL2jd",
    "outputId": "ea098346-066a-4785-a435-65622252e856",
    "vscode": {
     "languageId": "r"
    }
   },
   "outputs": [],
   "source": [
    "# Perform the Seurat graph-based clustering\n",
    "# Find the nearest neighbors for each cell using Non-negative Matrix Factorization (NMF)\n",
    "Her2p <- FindNeighbors(object = Her2p, \n",
    "                      dims = 1:10, # Indicates that the first 10 dimensions from the specified reduction method will be used.\n",
    "                     reduction = \"NMF\", # Specifies that Non-negative Matrix Factorization (NMF) was used as the dimensionality reduction method.\n",
    "                     verbose = FALSE) #Suppresses the detailed output\n",
    "\n",
    "# Specifies a sequence of resolutions ranging from 0 to 2, with an increment of 0.1\n",
    "Her2p <- FindClusters(Her2p, resolution = seq(0, 2, by = 0.1),\n",
    "                      verbose = FALSE)\n",
    "\n",
    "# Visualize clustering results at different resolutions using Clustree\n",
    "clustree(Her2p, prefix = \"SCT_snn_res.\")"
   ]
  },
  {
   "cell_type": "code",
   "execution_count": null,
   "metadata": {
    "colab": {
     "base_uri": "https://localhost:8080/",
     "height": 437
    },
    "executionInfo": {
     "elapsed": 707,
     "status": "ok",
     "timestamp": 1690396174825,
     "user": {
      "displayName": "Adolfo Alexis Rojas Hidalgo",
      "userId": "18158766317608392773"
     },
     "user_tz": 240
    },
    "id": "wqxCNajQNe31",
    "outputId": "df2f03f8-4722-4b9f-e9c3-6153d5019206",
    "vscode": {
     "languageId": "r"
    }
   },
   "outputs": [],
   "source": [
    "# Create a UMAP plot grouped by \"ids\", without cluster labels\n",
    "color = getPalette(9) # Generates a vector of 9 colors using the getPalette function defined earlier.\n",
    "DimPlot(Her2p, reduction = \"umap\", label = FALSE, group.by = \"ids\",\n",
    "        pt.size = 2, cols=color, label.size=13)"
   ]
  },
  {
   "cell_type": "code",
   "execution_count": null,
   "metadata": {
    "colab": {
     "base_uri": "https://localhost:8080/",
     "height": 437
    },
    "executionInfo": {
     "elapsed": 979,
     "status": "ok",
     "timestamp": 1690396175801,
     "user": {
      "displayName": "Adolfo Alexis Rojas Hidalgo",
      "userId": "18158766317608392773"
     },
     "user_tz": 240
    },
    "id": "wL4yL-D9Nj_K",
    "outputId": "4921c1f9-ca7d-4d0f-adfe-b15761b7852e",
    "vscode": {
     "languageId": "r"
    }
   },
   "outputs": [],
   "source": [
    "# Plot only the slide 3 of the patient G\n",
    "# Overlay the expression of one or more features onto spatial coordinates.\n",
    "FeatureOverlay(Her2p, # The Seurat object containing your data.\n",
    "               features = c(\"SCT_snn_res.0.5\"), # Specifies the features to overlay on the spatial coordinates. Clustering resolution 0.5\n",
    "               sampleids = 2, # Indicates that only the slide with ID 2 should be used for this plot.\n",
    "               pt.size = 3.5,\n",
    "               cols = color,\n",
    "               add.alpha = TRUE, # Add transparency to points\n",
    "               ncol = 1)"
   ]
  },
  {
   "cell_type": "code",
   "execution_count": null,
   "metadata": {
    "colab": {
     "base_uri": "https://localhost:8080/",
     "height": 437
    },
    "executionInfo": {
     "elapsed": 2258,
     "status": "ok",
     "timestamp": 1690396178057,
     "user": {
      "displayName": "Adolfo Alexis Rojas Hidalgo",
      "userId": "18158766317608392773"
     },
     "user_tz": 240
    },
    "id": "YsHglZ4DNoog",
    "outputId": "e376bf8a-ab7c-4119-b4d7-0809f684eb51",
    "vscode": {
     "languageId": "r"
    }
   },
   "outputs": [],
   "source": [
    "# Plot only the 3 slide of the patient G\n",
    "FeatureOverlay(Her2p, features = c(\"SCT_snn_res.0.4\"),\n",
    "               sampleids = 1:3, # Use slides 1 to 3\n",
    "               pt.size = 3.5,\n",
    "               cols = color,\n",
    "               add.alpha = TRUE,\n",
    "               ncol = 3) # Arrange plots in 3 columns"
   ]
  },
  {
   "cell_type": "code",
   "execution_count": null,
   "metadata": {
    "id": "_ZjcCuqY0HiM",
    "vscode": {
     "languageId": "r"
    }
   },
   "outputs": [],
   "source": [
    "#Exercice: Save the image to a file\n"
   ]
  },
  {
   "cell_type": "code",
   "execution_count": null,
   "metadata": {
    "colab": {
     "base_uri": "https://localhost:8080/",
     "height": 437
    },
    "executionInfo": {
     "elapsed": 472,
     "status": "ok",
     "timestamp": 1690396178527,
     "user": {
      "displayName": "Adolfo Alexis Rojas Hidalgo",
      "userId": "18158766317608392773"
     },
     "user_tz": 240
    },
    "id": "a-8gPbOGNwyo",
    "outputId": "47ddc0c0-e129-4194-b4ef-3957b83447c5",
    "vscode": {
     "languageId": "r"
    }
   },
   "outputs": [],
   "source": [
    "# Plot the clusters without the HE\n",
    "ST.FeaturePlot(object = Her2p, features = \"SCT_snn_res.0.4\", \n",
    "               cols = color, pt.size = 4, ncol = 3)"
   ]
  },
  {
   "cell_type": "code",
   "execution_count": null,
   "metadata": {
    "colab": {
     "base_uri": "https://localhost:8080/",
     "height": 437
    },
    "executionInfo": {
     "elapsed": 1238,
     "status": "ok",
     "timestamp": 1690396179763,
     "user": {
      "displayName": "Adolfo Alexis Rojas Hidalgo",
      "userId": "18158766317608392773"
     },
     "user_tz": 240
    },
    "id": "PAKJODaHN3DM",
    "outputId": "660e6e74-81d9-40e6-f543-088f20c38493",
    "vscode": {
     "languageId": "r"
    }
   },
   "outputs": [],
   "source": [
    "# Split the view for each cluster\n",
    "ST.FeaturePlot(object = Her2p, features = \"SCT_snn_res.0.4\", pt.size = 4,\n",
    "               split.labels = T, # Split visualization by cluster labels\n",
    "               indices = 2, # Select a specific set of indices\n",
    "               show.sb = FALSE, # Hide scale bars\n",
    "               ncol = 4, \n",
    "               cols = color)"
   ]
  },
  {
   "cell_type": "markdown",
   "metadata": {
    "id": "Tf3Jma5IxVaH"
   },
   "source": [
    "## Differentially expressed genes"
   ]
  },
  {
   "cell_type": "code",
   "execution_count": null,
   "metadata": {
    "colab": {
     "base_uri": "https://localhost:8080/",
     "height": 503
    },
    "executionInfo": {
     "elapsed": 41221,
     "status": "ok",
     "timestamp": 1690396220981,
     "user": {
      "displayName": "Adolfo Alexis Rojas Hidalgo",
      "userId": "18158766317608392773"
     },
     "user_tz": 240
    },
    "id": "GCb--4unN8HT",
    "outputId": "67cc15c7-1b7d-4026-ab8e-8c2673a28db9",
    "vscode": {
     "languageId": "r"
    }
   },
   "outputs": [],
   "source": [
    "DefaultAssay(Her2p) # Checks the active assay for the Seurat object Her2p\n",
    "Idents(Her2p) <- \"SCT_snn_res.0.4\" # Sets the identity class for the Seurat object Her2p based on the clustering resolution \"SCT_snn_res.0.4\".\n",
    "\n",
    "# Comparison of all clusters vs all clusters\n",
    "Her2p.markers <- FindAllMarkers(object = Her2p, # Identify DEGS in Her2p\n",
    "                                only.pos = TRUE, # Only positive markers genes that are upregulated in the cluster\n",
    "                                min.pct = 0.10, # Genes must be expressed in at least 10% of cells in either of the two groups being compared\n",
    "                                logfc.threshold = 0.10) # Set threshold for identifying DEGs\n",
    "\n",
    "# Filter markers with an adjusted p-value < 0.05\n",
    "Her2p.markers = Her2p.markers[which(Her2p.markers$p_val_adj<0.05),] # Filters the identified markers to retain only those with an adjusted p-value\n",
    "\n",
    "# Count the number of DEGs per cluster\n",
    "table(Her2p.markers[, \"cluster\"]) #How many DEGs per cluster ?"
   ]
  },
  {
   "cell_type": "code",
   "execution_count": null,
   "metadata": {
    "colab": {
     "base_uri": "https://localhost:8080/",
     "height": 437
    },
    "executionInfo": {
     "elapsed": 971,
     "status": "ok",
     "timestamp": 1690396221950,
     "user": {
      "displayName": "Adolfo Alexis Rojas Hidalgo",
      "userId": "18158766317608392773"
     },
     "user_tz": 240
    },
    "id": "Znn7OunCORkq",
    "outputId": "47cb2073-0ce4-44e2-9207-b9a2d6e23d02",
    "vscode": {
     "languageId": "r"
    }
   },
   "outputs": [],
   "source": [
    "# Select the top 10 DEG of each cluster\n",
    "Her2p.markers %>% group_by(cluster) %>% top_n(n = 10, wt = avg_log2FC) -> top10\n",
    "\n",
    "# Generate a dot plot for the selected genes\n",
    "DotPlot(Her2p, features = unique(top10$gene), \n",
    "        group.by = \"SCT_snn_res.0.4\", cols = c('#b8d8d8', '#e71d36'),\n",
    "        dot.scale = 6, col.min = 0) + \n",
    "        theme(axis.text.x = element_text(face = \"bold\", color = c(\"black\"), \n",
    "        size = 15,angle = 90))"
   ]
  },
  {
   "cell_type": "code",
   "execution_count": null,
   "metadata": {
    "id": "JhN53mBuF7W3",
    "vscode": {
     "languageId": "r"
    }
   },
   "outputs": [],
   "source": [
    "#Exercice: Save the image to a file\n"
   ]
  },
  {
   "cell_type": "code",
   "execution_count": null,
   "metadata": {
    "colab": {
     "base_uri": "https://localhost:8080/",
     "height": 506
    },
    "executionInfo": {
     "elapsed": 1050,
     "status": "ok",
     "timestamp": 1690396222997,
     "user": {
      "displayName": "Adolfo Alexis Rojas Hidalgo",
      "userId": "18158766317608392773"
     },
     "user_tz": 240
    },
    "id": "8xOoprXROf-v",
    "outputId": "e95f90d2-cae8-479c-94df-7da4518c7f79",
    "vscode": {
     "languageId": "r"
    }
   },
   "outputs": [],
   "source": [
    "# Plot key genes in the ridge plot\n",
    "RidgePlot(Her2p, assay = \"SCT\", \n",
    "          features = c(\"IFI27\",\"IFI6\"), # Genes of interest\n",
    "          ncol = 2, group.by = \"SCT_snn_res.0.4\", \n",
    "          cols = color)"
   ]
  },
  {
   "cell_type": "code",
   "execution_count": null,
   "metadata": {
    "colab": {
     "base_uri": "https://localhost:8080/",
     "height": 437
    },
    "executionInfo": {
     "elapsed": 2289,
     "status": "ok",
     "timestamp": 1690396225284,
     "user": {
      "displayName": "Adolfo Alexis Rojas Hidalgo",
      "userId": "18158766317608392773"
     },
     "user_tz": 240
    },
    "id": "_Vmv9Fh2OjsD",
    "outputId": "ad5108f8-13fe-4224-ca62-4152142a6af4",
    "vscode": {
     "languageId": "r"
    }
   },
   "outputs": [],
   "source": [
    "# UMAP and Heatmap visualization\n",
    "# Define color gradient for heatmap\n",
    "heatmap.colors <- c(\"lightgray\", \"mistyrose\", \"red\", \"darkred\", \"black\")\n",
    "fts <- c(\"EPN2\", \"AGR3\") # List of genes to visualize\n",
    "# Generate UMAP plots for selected features\n",
    "p.fts <- lapply(fts, function(ftr) {\n",
    "  FeaturePlot(Her2p, features = ftr, reduction = \"umap\", order = TRUE, cols = heatmap.colors, pt.size = )\n",
    "})\n",
    "# Ṕlot transformed features expression on Visium coordinates\n",
    "p3 <- ST.FeaturePlot(Her2p, features = fts, ncol = 2, grid.ncol = 1, cols = heatmap.colors, pt.size = 2, show.sb = FALSE)\n",
    "# Combine all plots into one figure\n",
    "cowplot::plot_grid(cowplot::plot_grid(plotlist = p.fts, ncol = 1), p3, ncol = 2, rel_widths = c(1, 1.3))"
   ]
  },
  {
   "cell_type": "code",
   "execution_count": null,
   "metadata": {
    "colab": {
     "base_uri": "https://localhost:8080/",
     "height": 437
    },
    "executionInfo": {
     "elapsed": 830,
     "status": "ok",
     "timestamp": 1690396226112,
     "user": {
      "displayName": "Adolfo Alexis Rojas Hidalgo",
      "userId": "18158766317608392773"
     },
     "user_tz": 240
    },
    "id": "EAD3phg1O4GV",
    "outputId": "74e4750e-0e41-4f1a-d6b9-0a3cf23c7f80",
    "vscode": {
     "languageId": "r"
    }
   },
   "outputs": [],
   "source": [
    "# Generate a violin plot for the expression of the genes \"EPN2\" and \"AGR3\"  \n",
    "# in the Seurat object 'Her2p', grouping by the clustering resolution \"SCT_snn_res.0.4\".  \n",
    "VlnPlot(Her2p, features = c(\"EPN2\", \"AGR3\"),   \n",
    "        group.by = \"SCT_snn_res.0.4\", # Define grouping variable (cluster resolution 0.4)  \n",
    "        pt.size = 0,  # Set point size to 0 to avoid plotting individual points  \n",
    "        cols = color, # Use predefined colors for groups  \n",
    "        ncol = 2) +  # Arrange plots in two columns  \n",
    "\n",
    "  # Overlay a summary statistic (mean) as a horizontal bar  \n",
    "  stat_summary(fun.y = mean, geom = \"point\", shape = 95,   \n",
    "               size = 15, color = \"black\") +  \n",
    "\n",
    "  # Remove the legend from the plot  \n",
    "  NoLegend()  "
   ]
  },
  {
   "cell_type": "markdown",
   "metadata": {
    "id": "mT7uIMZ-wRYq"
   },
   "source": [
    "## 3D visualization\n",
    "\n",
    "### It doesn't run in colab"
   ]
  },
  {
   "cell_type": "code",
   "execution_count": null,
   "metadata": {
    "id": "iLLgFGpFIoRI",
    "vscode": {
     "languageId": "r"
    }
   },
   "outputs": [],
   "source": [
    "# Update image paths in the Seurat object\n",
    "Her2p@tools$Staffli@imgs <- gsub(\"//\", \"/\", Her2p@tools$Staffli@imgs)\n",
    "Her2p@tools$Staffli@imgs <- gsub(\"../data/\", \"ST_Exercises/her2st-master/data/\", Her2p@tools$Staffli@imgs)"
   ]
  },
  {
   "cell_type": "code",
   "execution_count": null,
   "metadata": {
    "id": "2Cor-TSQvVJs",
    "vscode": {
     "languageId": "r"
    }
   },
   "outputs": [],
   "source": [
    "# Generate a 3D stack of spatial transcriptomics data\n",
    "Her2p <- Create3DStack(Her2p)\n",
    "\n",
    "# Extract scatter plot data for spatial visualization\n",
    "stack_3d <- setNames(GetStaffli(Her2p)@scatter.data, c(\"x\", \"y\", \"z\", \"grid.cell\"))\n",
    "\n",
    "# Visualize the spatial distribution of points across z-sections\n",
    "ggplot(stack_3d, aes(x, 2e3 - y)) +\n",
    "  geom_point(size = 0.1, color = \"gray\") +\n",
    "  facet_wrap(~z, ncol = 1) +\n",
    "  theme_void()\n",
    "\n",
    "# Interpolate data for 3D visualization of gene expression\n",
    "interpolated.data <- FeaturePlot3D(Her2p, features = \"IFI6\", return.data = TRUE)\n",
    "\n",
    "# Plot interpolated gene expression levels\n",
    "ggplot(interpolated.data, aes(x, 2e3 - y, color = val)) +\n",
    "  geom_point(size = 0.1) +\n",
    "  facet_wrap(~z, ncol = 1) +\n",
    "  theme_void() +\n",
    "  ggtitle(\"IFI6\") +\n",
    "  scale_color_gradientn(colours = c(\"black\", \"dark blue\", \"cyan\", \"yellow\", \"red\", \"dark red\"))\n",
    "\n",
    "# 3D visualization based on HE nuclei estimation\n",
    "FeaturePlot3D(Her2p, features = \"IFI6\", pt.size = 1.6, pts.downsample = 5e4)\n",
    "\n",
    "# Uncomment below to visualize clusters in 3D using HSV plot\n",
    "# selected.factors <- paste0(\"factor_\", c(1:10))\n",
    "# HSVPlot3D(Her2p, features = selected.factors, pt.size = 3, add.margins = 1, mode = \"spots\")"
   ]
  },
  {
   "cell_type": "markdown",
   "metadata": {
    "id": "8t_sLqlzwDaJ"
   },
   "source": [
    "## Gene Ontology (GO) Terms"
   ]
  },
  {
   "cell_type": "code",
   "execution_count": null,
   "metadata": {
    "colab": {
     "base_uri": "https://localhost:8080/",
     "height": 365
    },
    "executionInfo": {
     "elapsed": 25988,
     "status": "ok",
     "timestamp": 1690396252097,
     "user": {
      "displayName": "Adolfo Alexis Rojas Hidalgo",
      "userId": "18158766317608392773"
     },
     "user_tz": 240
    },
    "id": "-1hCOqDowA-P",
    "outputId": "b19da2f4-699d-4aec-ea77-77807b9b8f13",
    "vscode": {
     "languageId": "r"
    }
   },
   "outputs": [],
   "source": [
    "# Select differentially expressed genes (DEGs) from cluster 6\n",
    "geneList = Her2p.markers[which(Her2p.markers$cluster == 6), \"gene\"]\n",
    "length(geneList)  # Print the number of selected genes\n",
    "\n",
    "# Convert Gene Symbols to Entrez IDs\n",
    "columns(org.Hs.eg.db)  # Display available conversion columns in the annotation database\n",
    "\n",
    "symbol <- mapIds(org.Hs.eg.db,\n",
    "                 keys = geneList,      # List of gene symbols to convert\n",
    "                 column = \"ENTREZID\",  # Convert to Entrez IDs\n",
    "                 keytype = \"SYMBOL\",   # Input type: gene symbol\n",
    "                 multiVals = \"first\")  # In case of multiple matches, take the first\n",
    "\n",
    "symbol = as.vector(symbol)  # Convert to vector format\n",
    "\n",
    "# Remove genes with missing Entrez IDs\n",
    "geneList = symbol\n",
    "geneList = geneList[which(geneList != \"NA\")]\n",
    "length(geneList)  # Print the number of genes after filtering\n",
    "\n",
    "# Perform pathway enrichment analysis using ReactomePA\n",
    "x <- enrichPathway(gene = geneList, \n",
    "                   organism = \"human\", \n",
    "                   pvalueCutoff = 0.05, \n",
    "                   readable = TRUE, \n",
    "                   pAdjustMethod = \"bonferroni\")\n",
    "\n",
    "head(as.data.frame(x))  # Show the first few results\n",
    "\n",
    "# Order results by adjusted p-value (ascending)\n",
    "x@result = x@result[order(x@result$p.adjust, decreasing = FALSE),]\n",
    "\n",
    "# Select the top 30 most significant pathways\n",
    "x@result = x@result[1:30,]\n",
    "\n",
    "# Order pathways by the number of genes involved (ascending)\n",
    "x@result = x@result[order(x@result$Count, decreasing = FALSE),]\n",
    "\n",
    "# Store the ordered results in a new data frame\n",
    "newbar.dt = x@result\n",
    "\n",
    "# Create a bar plot of enriched pathways\n",
    "cluster6_enrichpathway <- ggbarplot(newbar.dt, x = \"Description\", y = \"Count\",\n",
    "          fill = \"Count\",  # Color bars based on the count of genes\n",
    "          color = \"white\",  # Set bar border colors to white\n",
    "          sort.val = \"asc\",  # Sort by value in ascending order\n",
    "          sort.by.groups = FALSE,  # Do not sort within each group\n",
    "          x.text.angle = 90,  # Rotate x-axis labels for better visibility\n",
    "          xlab = \"Pathways\",\n",
    "          ylab = \"Number of genes\",\n",
    "          legend.title = \"Counts\",\n",
    "          rotate = TRUE,\n",
    "          ggtheme = theme_minimal()\n",
    ") + scale_fill_continuous(low = \"#bde0fe\", high = color[4]) + \n",
    "  theme(text = element_text(size = 20))"
   ]
  },
  {
   "cell_type": "markdown",
   "metadata": {
    "id": "-0gNpyqswXV5"
   },
   "source": [
    "## Pathways analysis with EnrichR"
   ]
  },
  {
   "cell_type": "code",
   "execution_count": null,
   "metadata": {
    "colab": {
     "base_uri": "https://localhost:8080/",
     "height": 1000
    },
    "executionInfo": {
     "elapsed": 3892,
     "status": "ok",
     "timestamp": 1690396255981,
     "user": {
      "displayName": "Adolfo Alexis Rojas Hidalgo",
      "userId": "18158766317608392773"
     },
     "user_tz": 240
    },
    "id": "eqMbRnj6w6K4",
    "outputId": "6754a0f5-ca57-4a46-a181-02d88332a922",
    "vscode": {
     "languageId": "r"
    }
   },
   "outputs": [],
   "source": [
    "# List available databases in EnrichR\n",
    "listEnrichrSites()\n",
    "dbs <- listEnrichrDbs()\n",
    "\n",
    "# Sort the databases by name\n",
    "dbs %>% dplyr::arrange(libraryName)\n",
    "\n",
    "# Select specific pathway databases for enrichment analysis\n",
    "dbs <- c(\"Cancer_Cell_Line_Encyclopedia\",\n",
    "         \"Elsevier_Pathway_Collection\",\n",
    "         \"KEGG_2021_Human\",\n",
    "         \"CellMarker_Augmented_2021\",\n",
    "         \"Reactome_2016\",\n",
    "         \"GO_Biological_Process_2018\",\n",
    "         \"GO_Cellular_Component_2018\",\n",
    "         \"GO_Molecular_Function_2018\",\n",
    "         \"InterPro_Domains_2019\")\n",
    "\n",
    "# EnrichR requires gene symbols (not Ensembl IDs)\n",
    "geneList = Her2p.markers[which(Her2p.markers$cluster == 6), \"gene\"]\n",
    "length(geneList)  # Print the number of selected genes\n",
    "\n",
    "# Perform enrichment analysis with EnrichR\n",
    "enriched.Paths <- enrichr(geneList, dbs)\n",
    "\n",
    "# Display results from selected databases\n",
    "enriched.Paths[[1]]  # Cancer_Cell_Line_Encyclopedia\n",
    "enriched.Paths[[2]]  # Elsevier_Pathway_Collection\n",
    "enriched.Paths[[3]]  # KEGG_2021_Human\n",
    "enriched.Paths[[4]]  # CellMarker_Augmented_2021\n",
    "enriched.Paths[[5]]  # Reactome_2016\n",
    "enriched.Paths[[6]]  # GO_Biological_Process_2018\n",
    "enriched.Paths[[7]]  # GO_Cellular_Component_2018\n",
    "enriched.Paths[[8]]  # GO_Molecular_Function_2018\n",
    "enriched.Paths[[9]]  # InterPro_Domains_2019\n",
    "\n",
    "# Select the pathway results from CellMarker_Augmented_2021\n",
    "Rpath = enriched.Paths[[4]]\n",
    "\n",
    "# Count the number of genes per pathway\n",
    "Gene_Count = c()\n",
    "for(x in 1:dim(Rpath)[1]){\n",
    "  Gene_Count = c(Gene_Count, str_split(Rpath$Overlap[x], pattern = \"/\" )[[1]][1])\n",
    "}\n",
    "\n",
    "Rpath$Gene_Count = as.numeric(Gene_Count)\n",
    "\n",
    "# Order by adjusted p-value (ascending)\n",
    "Rpath = Rpath[order(Rpath$Adjusted.P.value, decreasing = FALSE),]\n",
    "\n",
    "# Filter significant pathways (adjusted p-value < 0.05)\n",
    "Rpath = Rpath[Rpath$Adjusted.P.value < 0.05,]\n",
    "\n",
    "# Select top 20 pathways\n",
    "Rpath = Rpath[1:20,]\n",
    "\n",
    "# Order pathways by gene count (descending)\n",
    "Rpath = Rpath[order(Rpath$Gene_Count, decreasing = TRUE),]\n",
    "\n",
    "# Create a bar plot of enriched pathways\n",
    "cluster6_enrichR <- ggbarplot(Rpath, x = \"Term\", y = \"Gene_Count\",\n",
    "          fill = \"Gene_Count\",  # Color bars based on gene count\n",
    "          color = \"white\",  # Set bar border colors to white\n",
    "          sort.val = \"asc\",  # Sort by value in ascending order\n",
    "          sort.by.groups = FALSE,  # Do not sort within each group\n",
    "          x.text.angle = 90,  # Rotate x-axis labels for better visibility\n",
    "          xlab = \"Pathways\",\n",
    "          ylab = \"Number of genes\",\n",
    "          legend.title = \"Counts\",\n",
    "          rotate = TRUE,\n",
    "          ggtheme = theme_minimal()\n",
    ") + scale_fill_continuous(low = \"#bde0fe\", high = color[4]) + \n",
    "  theme(text = element_text(size = 18))\n",
    "\n",
    "# Display the plot\n",
    "cluster6_enrichR"
   ]
  },
  {
   "cell_type": "markdown",
   "metadata": {
    "id": "r3cWKd1mw98h"
   },
   "source": [
    "# CELL TYPES DECONVOLUTION"
   ]
  },
  {
   "cell_type": "markdown",
   "metadata": {
    "id": "tuplab9Xye5V"
   },
   "source": [
    "## Load the SC dataset"
   ]
  },
  {
   "cell_type": "code",
   "execution_count": null,
   "metadata": {
    "colab": {
     "base_uri": "https://localhost:8080/",
     "height": 1000
    },
    "executionInfo": {
     "elapsed": 540823,
     "status": "error",
     "timestamp": 1690396796797,
     "user": {
      "displayName": "Adolfo Alexis Rojas Hidalgo",
      "userId": "18158766317608392773"
     },
     "user_tz": 240
    },
    "id": "AaEdW07Eyn1Z",
    "outputId": "5999195e-9472-4fa4-8ad1-d3f5352a223c",
    "vscode": {
     "languageId": "r"
    }
   },
   "outputs": [],
   "source": [
    "# Load scRNA-seq dataset\n",
    "SC.data = readRDS(\"ST_Exercises/scRNASeq_pac2_processed.rds\")\n",
    "\n",
    "# Set cell identities based on cell type\n",
    "Idents(SC.data) = \"cellType\"\n",
    "\n",
    "# UMAP visualization of cell types\n",
    "DimPlot(object = SC.data, reduction = 'umap', label = TRUE, label.size = 6,\n",
    "        group.by = \"cellType\", pt.size = 1.5)\n",
    "\n",
    "# Identify DEGs across all clusters\n",
    "SC.markers <- FindAllMarkers(object = SC.data, only.pos = TRUE, min.pct = 0.10, logfc.threshold = 0.10) \n",
    "# min.pct = 0.10: This argument sets the minimum percentage of cells expressing the gene to 10%.\n",
    "# logfc.threshold = 0.10: This sets the minimum log fold change threshold to 0.10 for a gene to be considered a marker.\n",
    "\n",
    "SC.markers = SC.markers[which(SC.markers$p_val_adj < 0.05 & SC.markers$avg_log2FC > 0.5),]\n",
    "# SC.markers$p_val_adj < 0.05: This condition selects markers with an adjusted p-value less than 0.05, meaning they are statistically significant.\n",
    "# SC.markers$avg_log2FC > 0.5: This condition selects markers with an average log2 fold change greater than 0.5\n",
    "\n",
    "# Count number of DEGs per cluster\n",
    "table(SC.markers$cluster)\n",
    "\n",
    "DefaultAssay(SC.data) # it returns the name of the assay currently set as the default for the Seurat object\n",
    "\n",
    "# Load 10X Visium FFPE sample\n",
    "SP = Load10X_Spatial(data.dir = \"ST_Exercises/10X_Spatial_T_Breast_Block_A_Section1\",\n",
    "                     filename = \"V1_Breast_Cancer_Block_A_Section_1_filtered_feature_bc_matrix.h5\")"
   ]
  },
  {
   "cell_type": "markdown",
   "metadata": {
    "id": "H5aKOdHfyr8I"
   },
   "source": [
    "## QC plots and Normalization"
   ]
  },
  {
   "cell_type": "markdown",
   "metadata": {},
   "source": [
    "Normalization is a crucial preprocessing step in scRNA-seq data analysis. It involves adjusting the raw gene expression data to account for technical variations and differences in sequencing depth across cells. These comparisons should help to understand the strengths and weaknesses of each normalization method\n",
    "\n",
    "Method of Normalization\n",
    "* SCTransform: A more advanced method that uses negative binomial regression to remove technical variability and stabilize variance, providing a robust normalization for single-cell data\n",
    "\n",
    "* Log-Normalization: Scales gene expression values and applies a log transformation, which helps in stabilizing the variance and making the data more suitable for downstream analysis.\n",
    "\n",
    "Removal of Technical Variability\n",
    "* SCTransform: More robust in removing technical variability, making it ideal for datasets with significant variation.\n",
    "\n",
    "* NormalizeData: Effective but less sophisticated than SCTransform in handling technical variability.\n",
    "\n",
    "Complexity and Execution Time\n",
    "* SCTransform: More complex and time-consuming due to the regression calculations and variance-stabilizing transformation.\n",
    "* NormalizeData: Simpler and faster, making it suitable for quick analyses and large datasets.\n",
    "\n",
    "Handling Covariates\n",
    "* SCTransform: Allows for the inclusion of covariates (e.g., number of genes detected per cell) for regression, improving the quality of normalized data.\n",
    "\n",
    "* NormalizeData: Does not typically incorporate covariates directly in the normalization process.\n",
    "\n",
    "Variance Stabilization\n",
    "* SCTransform: Stabilizes variance, making the data more suitable for downstream analyses like clustering and marker identification.\n",
    "\n",
    "* NormalizeData: Uses log-transformation to partially stabilize variance but not as effectively as SCTransform.\n",
    "\n",
    "Flexibility\n",
    "* SCTransform: Primarily focused on handling single-cell RNA-seq data with robust normalization methods.\n",
    "\n",
    "* NormalizeData: Flexible with different normalization methods (e.g., LogNormalize), allowing adjustments based on the specific needs of the analysis.\n",
    "\n",
    "Scalability\n",
    "* SCTransform: Can handle large datasets but may be slower due to its complexity.\n",
    "\n",
    "* NormalizeData: Efficiently handles large datasets due to its simplicity and speed."
   ]
  },
  {
   "cell_type": "code",
   "execution_count": null,
   "metadata": {
    "colab": {
     "base_uri": "https://localhost:8080/",
     "height": 892
    },
    "executionInfo": {
     "elapsed": 142827,
     "status": "ok",
     "timestamp": 1690397167231,
     "user": {
      "displayName": "Adolfo Alexis Rojas Hidalgo",
      "userId": "18158766317608392773"
     },
     "user_tz": 240
    },
    "id": "l375jNhly047",
    "outputId": "78dd16fb-5097-4665-afa6-e9ef3df083ae",
    "vscode": {
     "languageId": "r"
    }
   },
   "outputs": [],
   "source": [
    "# Plot number of reads per spatial spot\n",
    "plot1 <- VlnPlot(SP, features = \"nCount_Spatial\", pt.size = 0.1) + NoLegend() # create a violin plot\n",
    "plot2 <- SpatialFeaturePlot(SP, features = \"nCount_Spatial\") + theme(legend.position = \"right\") # Generates a spatial feature plot for the Seurat object\n",
    "wrap_plots(plot1, plot2) # This function from the patchwork package combines multiple plots (plot1 and plot2) into a single unified layout\n",
    "\n",
    "# Normalize data using SCTransform\n",
    "SP <- SCTransform(SP, assay = \"Spatial\", verbose = FALSE, return.only.var.genes = FALSE)\n",
    "\n",
    "# Normalize data using LogNormalize with a scale factor\n",
    "SP <- NormalizeData(object = SP, assay = \"Spatial\", normalization.method = \"LogNormalize\", \n",
    "                    scale.factor = median(SP@meta.data$nCount_Spatial))\n",
    "\n",
    "# Compare normalization methods (LogNormalize vs SCTransform)\n",
    "SP <- GroupCorrelation(SP, group.assay = \"Spatial\", assay = \"Spatial\", slot = \"data\", do.plot = FALSE)\n",
    "SP <- GroupCorrelation(SP, group.assay = \"Spatial\", assay = \"SCT\", slot = \"scale.data\", do.plot = FALSE)\n",
    "\n",
    "# Generate comparison plots\n",
    "p1 <- GroupCorrelationPlot(SP, assay = \"Spatial\", cor = \"nCount_Spatial_cor\") + ggtitle(\"Log Normalization\")\n",
    "p2 <- GroupCorrelationPlot(SP, assay = \"SCT\", cor = \"nCount_Spatial_cor\") + ggtitle(\"SCTransform Normalization\")\n",
    "\n",
    "# Display both plots side by side\n",
    "p1 + p2"
   ]
  },
  {
   "cell_type": "markdown",
   "metadata": {
    "id": "y9d-fTdAy2PA"
   },
   "source": [
    "## Deconvolution Pipeline"
   ]
  },
  {
   "cell_type": "markdown",
   "metadata": {},
   "source": [
    "Deconvolution is a computational technique used to infer and quantify the proportions of different cell types within a mixed population of cells. Since scRNA-seq data often come from complex tissues containing multiple cell types, deconvolution helps to identify and isolate the gene expression profiles specific to each cell type within the mixture.\n",
    "\n",
    "Why is Deconvolution Important?\n",
    "* Identifying Cell Types: Deconvolution enables researchers to determine the presence and abundance of various cell types in a heterogeneous tissue sample.\n",
    "\n",
    "* Understanding Cellular Composition: It helps to elucidate the cellular composition of tissues, revealing how different cell types contribute to biological processes and disease states.\n",
    "\n",
    "* Improving Data Interpretation: By separating the gene expression signals of different cell types, deconvolution enhances the accuracy and interpretability of scRNA-seq data, leading to more precise biological insights."
   ]
  },
  {
   "cell_type": "code",
   "execution_count": null,
   "metadata": {
    "id": "qIDGfUvIAFWa",
    "vscode": {
     "languageId": "r"
    }
   },
   "outputs": [],
   "source": [
    "# Install required R packages (only run this if they are not installed)\n",
    "install.packages(c('DT', 'ggcorrplot', 'scatterpie'))"
   ]
  },
  {
   "cell_type": "code",
   "execution_count": null,
   "metadata": {
    "id": "cbQ0kxQ__h1I",
    "vscode": {
     "languageId": "r"
    }
   },
   "outputs": [],
   "source": [
    "# Convert Seurat object to a SingleCellExperiment (SCE) object\n",
    "spe = SP  # Spatial transcriptomics dataset\n",
    "sce = as.SingleCellExperiment(SC.data)  # Convert scRNA-seq data to SCE format\n",
    "\n",
    "# Define highly variable genes (HVGs) using differentially expressed genes (DEGs)\n",
    "hvg = unique(SC.markers$gene)  # Select unique DEGs\n",
    "colLabels(sce) <- colData(sce)$cellType  # Assign cell type labels to the SCE object\n",
    "\n",
    "# Downsample cells to a maximum of 100 per cell identity\n",
    "# This avoids overrepresentation of any particular cell type\n",
    "idx <- split(seq(ncol(sce)), sce$cellType)  # Split cell indices by identity\n",
    "n_cells <- 100  # Define maximum number of cells per type\n",
    "\n",
    "cs_keep <- lapply(idx, function(i) {\n",
    "  n <- length(i)\n",
    "  if (n < n_cells)  # If a cell type has fewer than 100 cells, use all of them\n",
    "    n_cells <- n\n",
    "  sample(i, n_cells)  # Randomly sample cells\n",
    "})\n",
    "\n",
    "sce <- sce[, unlist(cs_keep)]  # Subset the dataset with the downsampled cells"
   ]
  },
  {
   "cell_type": "code",
   "execution_count": null,
   "metadata": {
    "colab": {
     "base_uri": "https://localhost:8080/",
     "height": 804
    },
    "executionInfo": {
     "elapsed": 147417,
     "status": "ok",
     "timestamp": 1690397316264,
     "user": {
      "displayName": "Adolfo Alexis Rojas Hidalgo",
      "userId": "18158766317608392773"
     },
     "user_tz": 240
    },
    "id": "76Xvs_n4FdCI",
    "outputId": "a3768c53-da68-4d81-aaf8-781c444b383c",
    "vscode": {
     "languageId": "r"
    }
   },
   "outputs": [],
   "source": [
    "# Perform spatial transcriptomics deconvolution using SPOTlight\n",
    "res <- SPOTlight(\n",
    "  x = sce,  # scRNA-seq reference dataset\n",
    "  y = spe@assays$SCT@counts,  # Spatial transcriptomics counts (SCT normalized)\n",
    "  groups = sce$cellType,  # Cell type annotations from scRNA-seq\n",
    "  mgs = SC.markers,  # Marker genes from scRNA-seq analysis\n",
    "  hvg = hvg,  # Highly variable genes (DEGs)\n",
    "  weight_id = \"avg_log2FC\",  # Weight based on log2 fold change\n",
    "  group_id = \"cluster\",  # Cluster information\n",
    "  gene_id = \"gene\"  # Gene column identifier\n",
    ")\n",
    "\n",
    "# Extract the resulting deconvolution matrix\n",
    "head(mat <- res$mat)[, seq_len(3)]  # Display first rows and first 3 columns\n",
    "\n",
    "# Check spatial transcriptomics metadata\n",
    "head(spe@meta.data)\n",
    "\n",
    "# Extract the Non-Negative Matrix Factorization (NMF) model fit\n",
    "mod <- res$NMF"
   ]
  },
  {
   "cell_type": "code",
   "execution_count": null,
   "metadata": {
    "colab": {
     "base_uri": "https://localhost:8080/"
    },
    "executionInfo": {
     "elapsed": 11,
     "status": "ok",
     "timestamp": 1690397316264,
     "user": {
      "displayName": "Adolfo Alexis Rojas Hidalgo",
      "userId": "18158766317608392773"
     },
     "user_tz": 240
    },
    "id": "UkY0sfCOKpVq",
    "outputId": "a3882319-6f11-4d05-c2ac-0b893c6a8e69",
    "vscode": {
     "languageId": "r"
    }
   },
   "outputs": [],
   "source": [
    "# Display structure of the deconvolution matrix\n",
    "str(mat)"
   ]
  },
  {
   "cell_type": "code",
   "execution_count": null,
   "metadata": {
    "colab": {
     "base_uri": "https://localhost:8080/",
     "height": 437
    },
    "executionInfo": {
     "elapsed": 726,
     "status": "ok",
     "timestamp": 1690397316987,
     "user": {
      "displayName": "Adolfo Alexis Rojas Hidalgo",
      "userId": "18158766317608392773"
     },
     "user_tz": 240
    },
    "id": "MY8BSsEkFzV5",
    "outputId": "21b481df-8938-4433-d65f-ed23988f21ca",
    "vscode": {
     "languageId": "r"
    }
   },
   "outputs": [],
   "source": [
    "# Evaluate how specific each topic signature is for each cell identity\n",
    "plotTopicProfiles(\n",
    "  x = mod,  # NMF model from SPOTlight\n",
    "  y = sce$cellType,  # Cell type labels from scRNA-seq\n",
    "  facet = FALSE,  # Show all in a single plot\n",
    "  min_prop = 0.01,  # Minimum proportion to be plotted\n",
    "  ncol = 1  # Number of columns in the plot\n",
    ") +\n",
    "  theme(aspect.ratio = 1)  # Maintain aspect ratio"
   ]
  },
  {
   "cell_type": "code",
   "execution_count": null,
   "metadata": {
    "colab": {
     "base_uri": "https://localhost:8080/",
     "height": 437
    },
    "executionInfo": {
     "elapsed": 1312,
     "status": "ok",
     "timestamp": 1690397318297,
     "user": {
      "displayName": "Adolfo Alexis Rojas Hidalgo",
      "userId": "18158766317608392773"
     },
     "user_tz": 240
    },
    "id": "AIEwaUAiF1wm",
    "outputId": "884adaa9-dfc9-42c7-e481-e19e9fa0c5fe",
    "vscode": {
     "languageId": "r"
    }
   },
   "outputs": [],
   "source": [
    "# Ensure that all cells from the same cell identity share a similar topic profile\n",
    "plotTopicProfiles(\n",
    "  x = mod,  # NMF model\n",
    "  y = sce$cellType,  # Cell type labels\n",
    "  facet = TRUE,  # Separate plots for each cell type\n",
    "  min_prop = 0.01,  # Minimum proportion threshold\n",
    "  ncol = 4  # Arrange plots in a grid with 4 columns\n",
    ")"
   ]
  },
  {
   "cell_type": "code",
   "execution_count": null,
   "metadata": {
    "colab": {
     "base_uri": "https://localhost:8080/",
     "height": 712
    },
    "executionInfo": {
     "elapsed": 1550,
     "status": "ok",
     "timestamp": 1690397517622,
     "user": {
      "displayName": "Adolfo Alexis Rojas Hidalgo",
      "userId": "18158766317608392773"
     },
     "user_tz": 240
    },
    "id": "1zOJ3KKPF4op",
    "outputId": "323f8918-8442-495b-94ee-b8e5fe655d6d",
    "vscode": {
     "languageId": "r"
    }
   },
   "outputs": [],
   "source": [
    "# Extract the basis matrix from the NMF model\n",
    "# This matrix indicates which genes are most relevant for each topic\n",
    "sign <- NMF::basis(mod)\n",
    "colnames(sign) <- paste0(\"Topic\", seq_len(ncol(sign)))  # Rename columns\n",
    "\n",
    "# Display the first few rows of marker genes for each topic\n",
    "head(sign)\n",
    "\n",
    "# Create an interactive table for exploring marker genes per topic\n",
    "DT::datatable(sign, fillContainer = TRUE, filter = \"top\")\n",
    "\n",
    "# Generate a spatial correlation matrix between cell types\n",
    "plotCorrelationMatrix(mat)"
   ]
  },
  {
   "cell_type": "code",
   "execution_count": null,
   "metadata": {
    "id": "urNQ7XkCH2Dt",
    "vscode": {
     "languageId": "r"
    }
   },
   "outputs": [],
   "source": [
    "# Cell type names\n",
    "ct <- colnames(mat)\n",
    "\n",
    "# Set a threshold to filter out low proportions\n",
    "mat[mat < 0.1] <- 0\n",
    "\n",
    "# Define a color palette for cell types\n",
    "paletteMartin <- c(\"#000000\", \"#004949\", \"#009292\", \"#ff6db6\", \"#ffb6db\", \n",
    "                   \"#490092\", \"#006ddb\", \"#b66dff\", \"#6db6ff\", \"#b6dbff\", \n",
    "                   \"#920000\", \"#924900\", \"#db6d00\", \"#24ff24\", \"#ffff6d\")\n",
    "\n",
    "# Create a gradient palette using the defined colors\n",
    "pal <- colorRampPalette(paletteMartin)(length(ct))\n",
    "names(pal) <- ct  # Assign colors to each cell type\n"
   ]
  },
  {
   "cell_type": "code",
   "execution_count": null,
   "metadata": {
    "id": "u_KCRUxpJOZk",
    "vscode": {
     "languageId": "r"
    }
   },
   "outputs": [],
   "source": [
    "# Convert the deconvolution matrix to a standard matrix format\n",
    "m2 = as.matrix(mat)"
   ]
  },
  {
   "cell_type": "code",
   "execution_count": null,
   "metadata": {
    "colab": {
     "base_uri": "https://localhost:8080/",
     "height": 437
    },
    "executionInfo": {
     "elapsed": 15711,
     "status": "ok",
     "timestamp": 1690397486471,
     "user": {
      "displayName": "Adolfo Alexis Rojas Hidalgo",
      "userId": "18158766317608392773"
     },
     "user_tz": 240
    },
    "id": "qDJlF_4Jgb8d",
    "outputId": "1fe58d6e-b5fd-4f1c-b441-ba01bb3a20db",
    "vscode": {
     "languageId": "r"
    }
   },
   "outputs": [],
   "source": [
    "# Generate spatial transcriptomics plot with pie charts for cell proportions\n",
    "plotSpatialScatterpie(\n",
    "  x = spe,  # Spatial transcriptomics object\n",
    "  y = mat,  # Deconvolution results (cell type proportions)\n",
    "  cell_types = unique(sce$cellType),  # Unique cell types\n",
    "  img = FALSE,  # Do not overlay histology image\n",
    "  scatterpie_alpha = 1,  # Full opacity\n",
    "  pie_scale = 0.4  # Adjust pie chart size\n",
    ") +\n",
    "  scale_fill_manual(\n",
    "    values = pal,  # Assign colors to cell types\n",
    "    breaks = names(pal)  # Keep legend labels consistent\n",
    "  )"
   ]
  },
  {
   "cell_type": "code",
   "execution_count": null,
   "metadata": {
    "id": "sO6hsNz7NbA9",
    "vscode": {
     "languageId": "r"
    }
   },
   "outputs": [],
   "source": [
    "# Save the spatial pie chart as a PDF file\n",
    "ggsave(\"Deconvolution.pdf\", width = 12, height = 12)"
   ]
  }
 ],
 "metadata": {
  "colab": {
   "collapsed_sections": [
    "mT7uIMZ-wRYq"
   ],
   "provenance": [
    {
     "file_id": "1mzCpCVMQtAAekhqWg3DY9NpCqIIlwWHj",
     "timestamp": 1684465291158
    }
   ]
  },
  "kernelspec": {
   "display_name": "R",
   "name": "ir"
  },
  "language_info": {
   "name": "R"
  }
 },
 "nbformat": 4,
 "nbformat_minor": 0
}
