{
 "cells": [
  {
   "cell_type": "markdown",
   "metadata": {
    "id": "ouGPkMgU67sF"
   },
   "source": [
    "# Ensayo de célula única para secuenciación de cromatina accesible a transposasa (scATAC-seq)\n",
    "\n",
    "Single cell Assay for Transposase-Accessible Chromatin sequencing (scATAC-seq)\n",
    "\n",
    "Para este trabajo, utilizaremos datos del artículo de Kumegawa et al. (2022) titulado: \"GRHL2 motif is associated with intratumor heterogeneity of cis-regulatory elements in luminal breast cancer\".\n",
    "\n",
    "En este artículo, Kumegawa et al. analizaron los perfiles de accesibilidad de la cromatina de más de 10.000 células de 16 pacientes con cáncer de mama, incluyendo los subtipos luminal, luminal-HER2, HER2+ y 3 triple negativos. Mediante este proceso de perfilado, clasificaron las células en células cancerosas y microambiente tumoral, lo que permitió destacar la heterogeneidad de las vías relacionadas con la enfermedad. Además, identificaron el factor de transcripción  GRHL2, que coopera con FOXA1 para iniciar la resistencia endocrina, y que los elementos de unión a GRHL2 potencialmente regulan genes asociados con la resistencia endocrina, la metástasis y el mal pronóstico en pacientes que recibieron terapia hormonal.\n",
    "\n",
    "Las librerías scATAC-seq se prepararon con el kit de preparación de librerías SureCell ATAC-seq (BioRad) y el kit de índice SureCell ddSEQ (Bio-Rad). La alineación se realizó con el kit de herramientas de análisis ATAC-Seq (Bio-Rad).\n",
    "\n",
    "Para este trabajo, exploraremos dos muestras de tumores de mama (TNBC y Luminal-HER2), específicamente células T. Para ello, recuperamos el fragmento de archivo de una muestra del sitio web [GEO (Gene Expression Omnibus) website](https://www.ncbi.nlm.nih.gov/geo/query/acc.cgi) utilizando el identificador proporcionado por el autor: GSE198639.\n",
    "\n",
    "Este curso se realiza con ArchR. Para más detalles sobre ArchR, consulte [aquí](https://www.archrproject.com/index.html).\n",
    "\n",
    "ArchR ofrece un conjunto completo de herramientas de análisis scATAC-seq, desde el preprocesamiento de datos hasta los resultados, ofreciendo varios niveles de información. Además, ArchR es rápido y consume pocos recursos.\n",
    "\n",
    "Para estos análisis, necesita (si lo realiza en su ordenador):\n",
    "\n",
    "1. Instalar Python 3.6 o posterior:\n",
    "\n",
    "https://www.python.org/downloads/\n",
    "\n",
    "2. Instalar Conda (miniconda o Anaconda, un gestor de paquetes para Python que permite crear un entorno Python):\n",
    "\n",
    "https://conda.io/projects/conda/en/latest/user-guide/install/index.html\n",
    "\n",
    "3. Instalar el paquete Macs2 (desde la terminal):\n",
    "\n",
    "`conda create -y -n MACS2 python=3.6`\n",
    "\n",
    "`conda activate MACS2`\n",
    "\n",
    "`conda install macs2 or conda install -c bioconda macs2`\n",
    "\n",
    "\n",
    "* Instalar R4.1.3 o posterior:\n",
    "\n",
    "https://cran.r-project.org/\n",
    "\n",
    "\n",
    "* Instalar estos paquetes de R (desde R) entorno:\n",
    "\n",
    "`install.packages(c(\"devtools\",\"BiocManager\",\"reticulate\",\"clustree\",\"Seurat\"))`\n",
    "\n",
    "`devtools::install_github(\"GreenleafLab/ArchR\", ref=\"master\", repos = BiocManager::repositories())`\n",
    "\n",
    "`ArchR::installExtraPackages()`\n",
    "\n",
    "`BiocManager::install(\"BSgenome.Hsapiens.UCSC.hg19\")` (u otro genoma si tiene datos de otro organismo u otra referencia genómica)\n",
    "\n",
    "`devtools::install_github(\"GreenleafLab/chromVARmotifs\")`\n",
    "\n",
    "`install.packages(\"hexbin\")`\n"
   ]
  },
  {
   "cell_type": "markdown",
   "metadata": {
    "id": "aSJNY1xyvGTa"
   },
   "source": [
    "# Descargar librerías y conjuntos de datos preinstalados"
   ]
  },
  {
   "cell_type": "code",
   "execution_count": null,
   "metadata": {
    "executionInfo": {
     "elapsed": 27804,
     "status": "ok",
     "timestamp": 1690400040014,
     "user": {
      "displayName": "Adolfo Alexis Rojas Hidalgo",
      "userId": "18158766317608392773"
     },
     "user_tz": 240
    },
    "id": "kYexU6WyjGYU",
    "vscode": {
     "languageId": "r"
    }
   },
   "outputs": [],
   "source": [
    "# Descargar el código de instalación desde GitHub\n",
    "download.file(\"https://github.com/eddelbuettel/r2u/raw/master/inst/scripts/add_cranapt_jammy.sh\",\n",
    "              \"add_cranapt_jammy.sh\")\n",
    "\n",
    "# Cambiar los permisos del código para hacerlo ejecutable\n",
    "Sys.chmod(\"add_cranapt_jammy.sh\", \"0755\")\n",
    "\n",
    "# Ejecutar el script en la terminal\n",
    "system(\"./add_cranapt_jammy.sh\")"
   ]
  },
  {
   "cell_type": "code",
   "execution_count": null,
   "metadata": {
    "executionInfo": {
     "elapsed": 39850,
     "status": "ok",
     "timestamp": 1690400079857,
     "user": {
      "displayName": "Adolfo Alexis Rojas Hidalgo",
      "userId": "18158766317608392773"
     },
     "user_tz": 240
    },
    "id": "MJvBdSTX7aru",
    "vscode": {
     "languageId": "r"
    }
   },
   "outputs": [],
   "source": [
    "# Instalar dependencias necesarias utilizando apt\n",
    "system(\"apt install libfreetype6-dev libpng-dev libtiff5-dev libjpeg-dev libbz2-dev libgsl-dev gsl-bin -y\")\n",
    "system(\"apt install libfontconfig1-dev libharfbuzz-dev libfribidi-dev libcairo2-dev libgmp-dev -y\")\n",
    "system(\"apt update\")\n",
    "system(\"apt install libmagick++-dev -y\")"
   ]
  },
  {
   "cell_type": "code",
   "execution_count": null,
   "metadata": {
    "colab": {
     "base_uri": "https://localhost:8080/"
    },
    "executionInfo": {
     "elapsed": 176959,
     "status": "ok",
     "timestamp": 1690400256813,
     "user": {
      "displayName": "Adolfo Alexis Rojas Hidalgo",
      "userId": "18158766317608392773"
     },
     "user_tz": 240
    },
    "id": "UhEdthWz7jBS",
    "outputId": "858524de-e58f-4b0e-dbf9-318ca38dcc45",
    "vscode": {
     "languageId": "r"
    }
   },
   "outputs": [],
   "source": [
    "# Definir una función auxiliar para ejecutar comandos en la terminal y mostrar su salida\n",
    "shell_call <- function(command, ...) {\n",
    "  result <- system(command, intern = TRUE, ...)  # Ejecutar el comando y capturar la salida\n",
    "  cat(paste0(result, collapse = \"\\n\"))  # Imprimir la salida en la consola\n",
    "}\n",
    "\n",
    "# Descargar el paquete MACS2 (versión 2.2.9.1) usando wget\n",
    "shell_call(\"wget https://github.com/macs3-project/MACS/archive/refs/tags/v2.2.9.1.tar.gz -O MACS.tar.gz\")\n",
    "\n",
    "# Extraer el archivo tar.gz descargado\n",
    "system(\"tar -xvf MACS.tar.gz\")\n",
    "\n",
    "# Instalar MACS2 en modo editable usando pip\n",
    "shell_call(\"pip install -e MACS-2.2.9.1/\")"
   ]
  },
  {
   "cell_type": "code",
   "execution_count": null,
   "metadata": {
    "colab": {
     "base_uri": "https://localhost:8080/"
    },
    "executionInfo": {
     "elapsed": 619588,
     "status": "ok",
     "timestamp": 1690400924784,
     "user": {
      "displayName": "Adolfo Alexis Rojas Hidalgo",
      "userId": "18158766317608392773"
     },
     "user_tz": 240
    },
    "id": "mCtPqtZXuW90",
    "outputId": "80956da0-a93e-462e-b04d-ae5c9ab1de86",
    "vscode": {
     "languageId": "r"
    }
   },
   "outputs": [],
   "source": [
    "# Establecer un límite de tiempo largo para evitar fallos en las descargas\n",
    "options(timeout = 1000)\n",
    "\n",
    "# Instalar BiocManager si no está instalado\n",
    "if (!require(\"BiocManager\", quietly = TRUE))\n",
    "    install.packages(\"BiocManager\", quiet = TRUE)\n",
    "\n",
    "# Instalar ArchR desde GitHub usando devtools\n",
    "devtools::install_github(\"GreenleafLab/ArchR\", ref = \"master\", repos = BiocManager::repositories(), upgrade = FALSE)\n",
    "\n",
    "# Instalar dependencias adicionales para ArchR\n",
    "ArchR::installExtraPackages()\n",
    "\n",
    "# Instalar otros paquetes R necesarios\n",
    "install.packages(\"clustree\", quiet = TRUE)\n",
    "install.packages(\"hexbin\")\n",
    "\n",
    "# Instalar una versión específica del paquete Matrix desde los archivos de CRAN\n",
    "install.packages(\"https://cran.r-project.org/src/contrib/Archive/Matrix/Matrix_1.5-3.tar.gz\", repos = NULL, type = \"source\")"
   ]
  },
  {
   "cell_type": "code",
   "execution_count": null,
   "metadata": {
    "executionInfo": {
     "elapsed": 249,
     "status": "ok",
     "timestamp": 1690400935123,
     "user": {
      "displayName": "Adolfo Alexis Rojas Hidalgo",
      "userId": "18158766317608392773"
     },
     "user_tz": 240
    },
    "id": "HXl6wS2N7XRT",
    "vscode": {
     "languageId": "r"
    }
   },
   "outputs": [],
   "source": [
    "# Función para ejecutar comandos de shell y mostrar la salida\n",
    "shell_call <- function(command, ...) {\n",
    "  result <- system(command, intern = TRUE, ...)  # Ejecutar el comando y almacenar la salida\n",
    "  cat(paste0(result, collapse = \"\\n\"))  # Imprimir la salida\n",
    "}"
   ]
  },
  {
   "cell_type": "code",
   "execution_count": null,
   "metadata": {
    "colab": {
     "base_uri": "https://localhost:8080/"
    },
    "executionInfo": {
     "elapsed": 112091,
     "status": "ok",
     "timestamp": 1690401048065,
     "user": {
      "displayName": "Adolfo Alexis Rojas Hidalgo",
      "userId": "18158766317608392773"
     },
     "user_tz": 240
    },
    "id": "47nodC2O7nBW",
    "outputId": "acae7687-d428-404b-89b4-c19283b0ccef",
    "vscode": {
     "languageId": "r"
    }
   },
   "outputs": [],
   "source": [
    "# Establecer un límite de tiempo para las descargas\n",
    "options(timeout = 300)\n",
    "\n",
    "# Descargar el conjunto de datos del taller de scATAC-seq como un archivo ZIP\n",
    "download.file('https://iauchile-my.sharepoint.com/:u:/g/personal/adolfo_rh_postqyf_uchile_cl/ETPOTjhE9llEkT85F6XQfyQBdN4r9R2Jf4hvY1BicfTWSw?e=tQbDjt&download=1', \n",
    "              'scATACseqWorkshop.zip')\n",
    "\n",
    "# Listar los archivos descargados con información detallada\n",
    "shell_call(\"ls -lh\")\n",
    "\n",
    "# Descomprimir el archivo descargado\n",
    "system(\"unzip scATACseqWorkshop.zip\")"
   ]
  },
  {
   "cell_type": "markdown",
   "metadata": {
    "id": "oM4pRLZCYGTI"
   },
   "source": [
    "# NOTA: Si tiene errores puede hacer esto para volver a analizar los datos."
   ]
  },
  {
   "cell_type": "code",
   "execution_count": null,
   "metadata": {
    "id": "RyyARJS2SxTy",
    "vscode": {
     "languageId": "r"
    }
   },
   "outputs": [],
   "source": [
    "# Definir el directorio de trabajo\n",
    "work_dir2 <- \"/content/\"\n",
    "setwd(work_dir2)\n",
    "\n",
    "# Eliminar cualquier directorio existente con el mismo nombre\n",
    "shell_call(\"rm -rf scATACseqWorkshop/\")\n",
    "\n",
    "# Descomprimir nuevamente el conjunto de datos\n",
    "shell_call(\"unzip scATACseqWorkshop.zip\")"
   ]
  },
  {
   "cell_type": "markdown",
   "metadata": {
    "id": "gQzbJ-X867sV"
   },
   "source": [
    "## 1. Definición de librerías, parámetros y directorios\n",
    "\n",
    "Primero, definimos la ubicación de las librerías de Python y cargamos las librerías de R. Después, definimos algunos parámetros como: 1) el número de hilos que usaremos, 2) el directorio de trabajo y 3) la ubicación de los archivos de fragmentos.\n",
    "\n",
    "De hecho, ArchR puede utilizar múltiples formatos de entrada de datos scATAC-seq (los archivos de fragmentos y los archivos BAM son los más comunes).\n"
   ]
  },
  {
   "cell_type": "code",
   "execution_count": null,
   "metadata": {
    "colab": {
     "base_uri": "https://localhost:8080/"
    },
    "executionInfo": {
     "elapsed": 12801,
     "status": "ok",
     "timestamp": 1690401060863,
     "user": {
      "displayName": "Adolfo Alexis Rojas Hidalgo",
      "userId": "18158766317608392773"
     },
     "user_tz": 240
    },
    "id": "jFGBBC4B7lKb",
    "outputId": "91f4a8cd-f262-4c0a-cc48-8b9f08359a0e",
    "vscode": {
     "languageId": "r"
    }
   },
   "outputs": [],
   "source": [
    "# Suprimir los mensajes de inicio de los paquetes para una salida más limpia\n",
    "# Cargar las librerías necesarias\n",
    "suppressPackageStartupMessages({\n",
    "  library(ArchR)\n",
    "  library(reticulate)\n",
    "  library(clustree)\n",
    "  library(Seurat)\n",
    "  library(hexbin)\n",
    "})"
   ]
  },
  {
   "cell_type": "code",
   "execution_count": null,
   "metadata": {
    "colab": {
     "base_uri": "https://localhost:8080/",
     "height": 243
    },
    "executionInfo": {
     "elapsed": 949,
     "status": "ok",
     "timestamp": 1690401061803,
     "user": {
      "displayName": "Adolfo Alexis Rojas Hidalgo",
      "userId": "18158766317608392773"
     },
     "user_tz": 240
    },
    "id": "jQxv9Tp4khe9",
    "outputId": "1b0fd0df-05ad-443f-dcd4-d31786a7dd01",
    "vscode": {
     "languageId": "r"
    }
   },
   "outputs": [],
   "source": [
    "# Establecer la ruta del entorno de Python para Reticulate\n",
    "Sys.setenv(RETICULATE_PYTHON = \"/usr/local/bin/python\")\n",
    "\n",
    "# Verificar la configuración de Python\n",
    "py_config()\n",
    "\n",
    "# Verificar si MACS2 está instalado y accesible\n",
    "findMacs2()"
   ]
  },
  {
   "cell_type": "code",
   "execution_count": null,
   "metadata": {
    "colab": {
     "base_uri": "https://localhost:8080/"
    },
    "executionInfo": {
     "elapsed": 34572,
     "status": "ok",
     "timestamp": 1690401096373,
     "user": {
      "displayName": "Adolfo Alexis Rojas Hidalgo",
      "userId": "18158766317608392773"
     },
     "user_tz": 240
    },
    "id": "jeT0jkZa67sX",
    "outputId": "dd08c028-21e2-4400-ef8e-30ef350b9455",
    "vscode": {
     "languageId": "r"
    }
   },
   "outputs": [],
   "source": [
    "# Establecer una semilla aleatoria para la reproducibilidad\n",
    "set.seed(1)\n",
    "\n",
    "# Definir el número de hilos a utilizar\n",
    "nb.threads = 2\n",
    "addArchRThreads(threads = nb.threads)\n",
    "\n",
    "# Establecer el directorio de trabajo\n",
    "work_dir <- \"/content/scATACseqWorkshop\"\n",
    "setwd(work_dir)\n",
    "\n",
    "# Listar y nombrar los archivos de fragmentos de entrada\n",
    "inputFiles <- list.files(file.path(work_dir, \"fragments_data\"), full.names = TRUE)\n",
    "names(inputFiles) <- gsub(\"^.+/\", \"\", gsub(\"GSM[0-9]+_\", \"\", gsub(\".fragments.tsv.gz\", \"\", inputFiles)))\n",
    "\n",
    "# Especificar el genoma de referencia para ArchR\n",
    "addArchRGenome(\"hg19\")"
   ]
  },
  {
   "cell_type": "markdown",
   "metadata": {
    "id": "O76Mt6YJ67sY"
   },
   "source": [
    "## 2. Crear archivo Arrow\n",
    "\n",
    "Creamos un archivo Arrow en formato HDF5 que almacena todos los datos asociados a una muestra (ahora y durante todo el proceso de análisis). Se actualizará con las capas adicionales de información.\n",
    "\n",
    "Si analizamos varias muestras, se generará un archivo Arrow para cada una.\n",
    "\n",
    "No es un objeto del lenguaje R, por lo que generaremos un objeto ArchRProject para asociar el/los archivo(s) Arrow en un único marco analítico al que se podrá acceder rápidamente en R.\n",
    "\n",
    "Durante este paso, ArchR calcula una matriz TileMatrix que contiene los recuentos de inserciones en los bins de 500 pb de todo el genoma (valor predeterminado) y una matriz GeneScoreMatrix que almacena la expresión génica predicha basándose en la ponderación de los recuentos de inserciones en los mosaicos cercanos a un promotor génico."
   ]
  },
  {
   "cell_type": "code",
   "execution_count": null,
   "metadata": {
    "colab": {
     "base_uri": "https://localhost:8080/"
    },
    "executionInfo": {
     "elapsed": 11578,
     "status": "ok",
     "timestamp": 1690401107949,
     "user": {
      "displayName": "Adolfo Alexis Rojas Hidalgo",
      "userId": "18158766317608392773"
     },
     "user_tz": 240
    },
    "id": "SIv_0pLz67sZ",
    "outputId": "19c1b263-f608-4741-d16f-7ccc95cb7ddc",
    "vscode": {
     "languageId": "r"
    }
   },
   "outputs": [],
   "source": [
    "# Crear archivos Arrow a partir de los archivos de entrada\n",
    "ArrowFiles <- createArrowFiles(\n",
    "  inputFiles = inputFiles,   # Archivos de entrada con datos de scATAC-seq\n",
    "  sampleNames = names(inputFiles),  # Asignar nombres de muestra basados en los nombres de los archivos de entrada\n",
    "  minTSS = 0.1,   # Puntaje mínimo de enriquecimiento de TSS para filtrar células de baja calidad\n",
    "  minFrags = 1,   # Número mínimo de fragmentos únicos por célula\n",
    "  addTileMat = TRUE,  # Calcular y almacenar la matriz de mosaicos para el análisis de accesibilidad\n",
    "  addGeneScoreMat = TRUE  # Calcular y almacenar la matriz de puntuaciones de genes para el análisis de actividad génica\n",
    ")\n",
    "\n",
    "# Crear un proyecto ArchR utilizando los archivos Arrow generados\n",
    "project <- ArchRProject(\n",
    "  ArrowFiles = ArrowFiles,  # Utilizar los archivos Arrow generados\n",
    "  outputDirectory = \"Analysis_scATACseq_noFilter\",  # Definir el directorio de salida para el proyecto\n",
    "  copyArrows = TRUE  # Es recomendable mantener una copia de los archivos Arrow sin modificar para su uso futuro\n",
    ")"
   ]
  },
  {
   "cell_type": "markdown",
   "metadata": {
    "id": "l59ZF4zi67sa"
   },
   "source": [
    "![<i><font size=1 color=\"grey\">Grandi et al., 2022</font></i>](./Figures/atac_seq_fragment_Grandi2022.png){width=70% height=50%}\n",
    "\n",
    "Un estricto control de calidad (CC) de los datos de scATAC-seq es esencial para eliminar la contribución de células de baja calidad.\n",
    "\n",
    "ArchR considera tres características de los datos:\n",
    "\n",
    "1.\tLa distribución del tamaño de los fragmentos (fragmentos de ADN cortados por las transposasas Tn5). Debido a la periodicidad nucleosómica, se espera una disminución de fragmentos con la longitud del ADN enrollado alrededor de un nucleosoma (aproximadamente 147 pb).\n",
    "2.\tEl enriquecimiento del sitio de inicio de la transcripción (TSS) (relación señal-fondo). Una relación señal-fondo baja se atribuye a menudo a células muertas o moribundas que tienen ADN descromatizado, lo que permite una transposición aleatoria en todo el genoma.\n",
    "3.\tEl número de fragmentos nucleares únicos (es decir, que no se corresponden con el ADN mitocondrial).\n",
    "\n",
    "Podemos apreciar el CC y las principales métricas de las muestras mediante algunos gráfico de métricas de CC:"
   ]
  },
  {
   "cell_type": "code",
   "execution_count": null,
   "metadata": {
    "colab": {
     "base_uri": "https://localhost:8080/",
     "height": 0
    },
    "executionInfo": {
     "elapsed": 3837,
     "status": "ok",
     "timestamp": 1690401111778,
     "user": {
      "displayName": "Adolfo Alexis Rojas Hidalgo",
      "userId": "18158766317608392773"
     },
     "user_tz": 240
    },
    "id": "v8wvhXLe67sb",
    "outputId": "3d646ba1-2abe-4569-d954-3557427868e4",
    "vscode": {
     "languageId": "r"
    }
   },
   "outputs": [],
   "source": [
    "# Extraer datos de enriquecimiento de TSS y recuento de fragmentos del proyecto ArchR\n",
    "df <- getCellColData(project, select = c(\"log10(nFrags)\", \"TSSEnrichment\"))\n",
    "\n",
    "# Crear un gráfico de dispersión de Enriquecimiento de TSS vs Log10(Fragmentos Únicos)\n",
    "plot.tss.frags <- ggPoint(\n",
    "  x = df[,1], y = df[,2],  # Establecer el eje x como log10(Fragmentos Únicos) y el eje y como Enriquecimiento de TSS\n",
    "  colorDensity = TRUE,  # Colorear los puntos según su densidad\n",
    "  continuousSet = \"sambaNight\",  # Definir la paleta de colores\n",
    "  xlabel = \"Log10 Unique Fragments\", ylabel = \"TSS Enrichment\",  # Etiquetas de los ejes\n",
    "  xlim = c(0, quantile(df[,1], probs = 1) + 0.1),  # Establecer los límites del eje x\n",
    "  ylim = c(0, quantile(df[,2], probs = 1) + 0.1)   # Establecer los límites del eje y\n",
    ")\n",
    "\n",
    "# Guardar el gráfico como un archivo PDF en el directorio \"Plots\" del proyecto\n",
    "plotPDF(plot.tss.frags, name = \"TSS-vs-Frags.pdf\", ArchRProj = project, addDOC = FALSE)\n",
    "\n",
    "# Mostrar el gráfico\n",
    "plot.tss.frags"
   ]
  },
  {
   "cell_type": "markdown",
   "metadata": {
    "id": "S0Q0opz867sd"
   },
   "source": [
    "Trazar métricas TSS:"
   ]
  },
  {
   "cell_type": "code",
   "execution_count": null,
   "metadata": {
    "colab": {
     "base_uri": "https://localhost:8080/",
     "height": 0
    },
    "executionInfo": {
     "elapsed": 1576,
     "status": "ok",
     "timestamp": 1690401113345,
     "user": {
      "displayName": "Adolfo Alexis Rojas Hidalgo",
      "userId": "18158766317608392773"
     },
     "user_tz": 240
    },
    "id": "ZpLNa41l67se",
    "outputId": "e7a7c808-0beb-491a-82ef-08211ddf8826",
    "vscode": {
     "languageId": "r"
    }
   },
   "outputs": [],
   "source": [
    "# Crear un gráfico de surcos \"ridges\" que muestre la distribución de enriquecimiento del TSS (Sitio de Inicio de Transcripción) en las muestras\n",
    "plot.tss.v1 <- plotGroups(\n",
    "  ArchRProj = project,  # Proyecto de ArchR que contiene los datos\n",
    "  groupBy = \"Sample\",  # Agrupar por muestra\n",
    "  colorBy = \"cellColData\",  # Colorear según los metadatos de las células\n",
    "  name = \"TSSEnrichment\",  # Usar el enriquecimiento de TSS como la característica a graficar\n",
    "  plotAs = \"ridges\"  # Graficar como un gráfico de surcos \"ridges\"\n",
    ")\n",
    "\n",
    "# Crear un gráfico de violín con un gráfico de caja superpuesto\n",
    "plot.tss.v2 <- plotGroups(\n",
    "  ArchRProj = project,  # Proyecto de ArchR que contiene los datos\n",
    "  groupBy = \"Sample\",  # Agrupar por muestra\n",
    "  colorBy = \"cellColData\",  # Colorear según los metadatos de las células\n",
    "  name = \"TSSEnrichment\",  # Usar el enriquecimiento de TSS como la característica a graficar\n",
    "  plotAs = \"violin\",  # Graficar como un gráfico de violín\n",
    "  alpha = 0.4,  # Establecer el nivel de transparencia\n",
    "  addBoxPlot = TRUE  # Superponer un gráfico de caja encima del gráfico de violín\n",
    ")\n",
    "\n",
    "# Mostrar ambos gráficos uno al lado del otro\n",
    "plot.tss.v1 | plot.tss.v2"
   ]
  },
  {
   "cell_type": "markdown",
   "metadata": {
    "id": "rD1Jvc_X67sf"
   },
   "source": [
    "Gráficos de métricas de fragmentos:"
   ]
  },
  {
   "cell_type": "code",
   "execution_count": null,
   "metadata": {
    "colab": {
     "base_uri": "https://localhost:8080/",
     "height": 0
    },
    "executionInfo": {
     "elapsed": 1121,
     "status": "ok",
     "timestamp": 1690401114464,
     "user": {
      "displayName": "Adolfo Alexis Rojas Hidalgo",
      "userId": "18158766317608392773"
     },
     "user_tz": 240
    },
    "id": "VFYIo2g167sg",
    "outputId": "f76fddc2-4dce-4b88-ccca-5cbb94dab2ac",
    "vscode": {
     "languageId": "r"
    }
   },
   "outputs": [],
   "source": [
    "# Crear un gráfico de surcos \"ridges\" que muestre la distribución de log10(Fragmentos Únicos) en las muestras\n",
    "plot.frags.v1 <- plotGroups(\n",
    "  ArchRProj = project,  # Proyecto de ArchR que contiene los datos\n",
    "  groupBy = \"Sample\",  # Agrupar por muestra\n",
    "  colorBy = \"cellColData\",  # Colorear según los metadatos de las células\n",
    "  name = \"log10(nFrags)\",  # Usar log10 del número de fragmentos únicos como la característica a graficar\n",
    "  plotAs = \"ridges\"  # Graficar como un gráfico de surcos \"ridges\"\n",
    ")\n",
    "\n",
    "# Crear un gráfico de violín (Violin plot) con un gráfico de caja superpuesto\n",
    "plot.frags.v2 <- plotGroups(\n",
    "  ArchRProj = project,  # Proyecto de ArchR que contiene los datos\n",
    "  groupBy = \"Sample\",  # Agrupar por muestra\n",
    "  colorBy = \"cellColData\",  # Colorear según los metadatos de las células\n",
    "  name = \"log10(nFrags)\",  # Usar log10 del número de fragmentos únicos como la característica a graficar\n",
    "  plotAs = \"violin\",  # Graficar como un gráfico de violín\n",
    "  alpha = 0.4,  # Establecer el nivel de transparencia\n",
    "  addBoxPlot = TRUE  # Superponer un gráfico de caja encima del gráfico de violín\n",
    ")\n",
    "\n",
    "# Mostrar ambos gráficos uno al lado del otro\n",
    "plot.frags.v1 | plot.frags.v2"
   ]
  },
  {
   "cell_type": "code",
   "execution_count": null,
   "metadata": {
    "colab": {
     "base_uri": "https://localhost:8080/"
    },
    "executionInfo": {
     "elapsed": 637,
     "status": "ok",
     "timestamp": 1690401115099,
     "user": {
      "displayName": "Adolfo Alexis Rojas Hidalgo",
      "userId": "18158766317608392773"
     },
     "user_tz": 240
    },
    "id": "vVWmr6HV67sh",
    "outputId": "e948daf8-1c26-4b28-931e-3239d7d7638f",
    "vscode": {
     "languageId": "r"
    }
   },
   "outputs": [],
   "source": [
    "# Crear archivos Arrow con filtros de calidad\n",
    "ArrowFiles <- createArrowFiles(\n",
    "  inputFiles = inputFiles,  # Lista de archivos de fragmentos para cada muestra\n",
    "  sampleNames = names(inputFiles),  # Asignar nombres de muestras basados en los nombres de los archivos\n",
    "  minTSS = 4,  # Puntaje mínimo de enriquecimiento del TSS para retener una célula\n",
    "  minFrags = 1000,  # Número mínimo de fragmentos únicos por célula\n",
    "  addTileMat = TRUE,  # Crear una matriz de tiles para la llamada de picos y otros análisis\n",
    "  addGeneScoreMat = TRUE  # Calcular los puntajes de actividad génica\n",
    ")\n"
   ]
  },
  {
   "cell_type": "markdown",
   "metadata": {
    "id": "YUGMvNhS67si"
   },
   "source": [
    "## 3. Detección de dobletes\n",
    "\n",
    "Un problema con los datos de células individuales es la contribución de los \"dobletes\" al análisis (un doblete se refiere a una sola gota que recibió más de un núcleo). \n",
    "Para predecir qué \"células\" son realmente dobletes, ArchR sintetiza dobletes in silico a partir de los datos mezclando las lecturas de miles de combinaciones de células individuales. \n",
    "Proyecta estos dobletes sintéticos en la incrustación UMAP e identifica a su vecino más cercano. Al iterar este procedimiento miles de veces, puede identificar \"células\" en los datos cuya señal se parece mucho a la de los dobletes sintéticos. \n",
    "En este caso, identificamos los dobletes.\n"
   ]
  },
  {
   "cell_type": "code",
   "execution_count": null,
   "metadata": {
    "colab": {
     "base_uri": "https://localhost:8080/"
    },
    "executionInfo": {
     "elapsed": 296473,
     "status": "ok",
     "timestamp": 1690401411571,
     "user": {
      "displayName": "Adolfo Alexis Rojas Hidalgo",
      "userId": "18158766317608392773"
     },
     "user_tz": 240
    },
    "id": "XJuBiPPi67sj",
    "outputId": "09226f1c-1694-46c8-ee0c-430940aeab3f",
    "vscode": {
     "languageId": "r"
    }
   },
   "outputs": [],
   "source": [
    "# Calcular puntajes de dobles (doublets)\n",
    "doubletScores <- addDoubletScores(\n",
    "  input = ArrowFiles,  # Usar los archivos Arrow creados en el paso anterior\n",
    "  k = 10,  # Número de vecinos más cercanos a considerar para la detección de dobles\n",
    "  knnMethod = \"UMAP\",  # Usar la incrustación UMAP para la búsqueda de vecinos más cercanos\n",
    "  LSIMethod = 1  # Usar el método Latent Semantic Indexing (LSI) 1 para la estimación de dobles\n",
    ")"
   ]
  },
  {
   "cell_type": "markdown",
   "metadata": {
    "id": "czlwG2Kj67sj"
   },
   "source": [
    "## 4. Creación del proyecto ArchR\n",
    "Como se explicó anteriormente, generamos un proyecto ArchR para manipular fácilmente el scATAC-seq generado por ArchR."
   ]
  },
  {
   "cell_type": "code",
   "execution_count": null,
   "metadata": {
    "colab": {
     "base_uri": "https://localhost:8080/"
    },
    "executionInfo": {
     "elapsed": 9193,
     "status": "ok",
     "timestamp": 1690401420760,
     "user": {
      "displayName": "Adolfo Alexis Rojas Hidalgo",
      "userId": "18158766317608392773"
     },
     "user_tz": 240
    },
    "id": "XTbyNntf67sk",
    "outputId": "1265f822-8781-4734-a27a-78a8dd261fe0",
    "vscode": {
     "languageId": "r"
    }
   },
   "outputs": [],
   "source": [
    "# Crear un proyecto ArchR\n",
    "project <- ArchRProject(\n",
    "  ArrowFiles = ArrowFiles,  # Usar los archivos Arrow creados anteriormente\n",
    "  outputDirectory = \"Analysis_scATACseq\",  # Definir el directorio de salida para el proyecto\n",
    "  copyArrows = TRUE  # Mantener una copia de los archivos Arrow para futuras referencias\n",
    ")"
   ]
  },
  {
   "cell_type": "markdown",
   "metadata": {
    "id": "iJDwUVtg67sl"
   },
   "source": [
    "Podemos enumerar fácilmente los elementos de la matriz presentes en el proyecto."
   ]
  },
  {
   "cell_type": "code",
   "execution_count": null,
   "metadata": {
    "colab": {
     "base_uri": "https://localhost:8080/",
     "height": 34
    },
    "executionInfo": {
     "elapsed": 266,
     "status": "ok",
     "timestamp": 1690401421025,
     "user": {
      "displayName": "Adolfo Alexis Rojas Hidalgo",
      "userId": "18158766317608392773"
     },
     "user_tz": 240
    },
    "id": "YnTmq-UZ67sl",
    "outputId": "369128bd-af1a-4ab2-ffb2-7cec1e8605cc",
    "vscode": {
     "languageId": "r"
    }
   },
   "outputs": [],
   "source": [
    "# Listar las matrices disponibles en el proyecto\n",
    "getAvailableMatrices(project)  # Ver qué matrices (por ejemplo, la matriz de puntajes génicos) están disponibles"
   ]
  },
  {
   "cell_type": "markdown",
   "metadata": {
    "id": "vDcEN2uI67so"
   },
   "source": [
    "Un estricto control de calidad (CC) de los datos de scATAC-seq es esencial para eliminar la contribución de células de baja calidad.\n",
    "\n",
    "ArchR considera tres características de los datos:\n",
    "\n",
    "1.\tLa distribución del tamaño de los fragmentos. Debido a la periodicidad nucleosómica, se espera observar una disminución de fragmentos con la longitud del ADN que rodea un nucleosoma (aproximadamente 147 pb).\n",
    "2.\tEl enriquecimiento de TSS (relación señal-fondo). Una relación señal-fondo baja se atribuye a menudo a células muertas o moribundas que presentan ADN descromatizado, lo que permite una transposición aleatoria a nivel genómico.\n",
    "3.\tEl número de fragmentos nucleares únicos (es decir, que no se corresponden con el ADN mitocondrial). Podemos apreciar el CC y las principales métricas de las muestras mediante algunos gráficos:\n",
    "\n",
    "Gráfico de las métricas de CC:"
   ]
  },
  {
   "cell_type": "code",
   "execution_count": null,
   "metadata": {
    "colab": {
     "base_uri": "https://localhost:8080/",
     "height": 472
    },
    "executionInfo": {
     "elapsed": 4003,
     "status": "ok",
     "timestamp": 1690401425025,
     "user": {
      "displayName": "Adolfo Alexis Rojas Hidalgo",
      "userId": "18158766317608392773"
     },
     "user_tz": 240
    },
    "id": "qWubUqB_67so",
    "outputId": "37e2e135-16e8-4a51-c8aa-87536738ad92",
    "vscode": {
     "languageId": "r"
    }
   },
   "outputs": [],
   "source": [
    "# Graficar el enriquecimiento de TSS vs. el número de fragmentos\n",
    "df <- getCellColData(project, select = c(\"log10(nFrags)\", \"TSSEnrichment\"))  # Extraer metadatos\n",
    "\n",
    "plot.tss.frags <- ggPoint(\n",
    "  x = df[,1],  # Log10 del número de fragmentos únicos\n",
    "  y = df[,2],  # Puntaje de enriquecimiento del TSS\n",
    "  colorDensity = TRUE,  # Colorear según la densidad\n",
    "  continuousSet = \"sambaNight\",  # Usar la paleta de colores \"sambaNight\"\n",
    "  xlabel = \"Log10 Fragmentos Únicos\",  # Etiqueta del eje X\n",
    "  ylabel = \"Enriquecimiento del TSS\",  # Etiqueta del eje Y\n",
    "  xlim = c(log10(450), quantile(df[,1], probs = 1) + 0.1),  # Limitar los valores del eje X\n",
    "  ylim = c(0, quantile(df[,2], probs = 1) + 0.1)  # Limitar los valores del eje Y\n",
    ") +\n",
    "  geom_hline(yintercept = 4, lty = \"dashed\", col = \"black\") +  # Agregar línea horizontal en TSS = 4\n",
    "  geom_vline(xintercept = log10(1000), lty = \"dashed\", col = \"black\")  # Agregar línea vertical en 1000 fragmentos\n",
    "\n",
    "# Guardar el gráfico como un PDF en el directorio del proyecto\n",
    "plotPDF(plot.tss.frags, name = \"TSS-vs-Frags.pdf\", ArchRProj = project, addDOC = FALSE)\n",
    "\n",
    "# Mostrar el gráfico\n",
    "plot.tss.frags"
   ]
  },
  {
   "cell_type": "markdown",
   "metadata": {
    "id": "9F_qgLWn67sp"
   },
   "source": [
    "Trazar métricas TSS:"
   ]
  },
  {
   "cell_type": "code",
   "execution_count": null,
   "metadata": {
    "colab": {
     "base_uri": "https://localhost:8080/",
     "height": 576
    },
    "executionInfo": {
     "elapsed": 858,
     "status": "ok",
     "timestamp": 1690401425874,
     "user": {
      "displayName": "Adolfo Alexis Rojas Hidalgo",
      "userId": "18158766317608392773"
     },
     "user_tz": 240
    },
    "id": "s4m56qeQ67sq",
    "outputId": "27fff413-3e2c-433b-dced-e0d251aefbe7",
    "vscode": {
     "languageId": "r"
    }
   },
   "outputs": [],
   "source": [
    "# Graficar distribuciones de enriquecimiento de TSS\n",
    "\n",
    "# Gráfico de surcos \"ridges\" del enriquecimiento de TSS por muestra\n",
    "plot.tss.v1 <- plotGroups(\n",
    "  ArchRProj = project, \n",
    "  groupBy = \"Sample\",  # Agrupar por muestra\n",
    "  colorBy = \"cellColData\",  # Usar metadatos de células para el color\n",
    "  name = \"TSSEnrichment\",  # Graficar puntajes de enriquecimiento de TSS\n",
    "  plotAs = \"ridges\"  # Usar un gráfico de surcos \"ridges\"\n",
    ")\n",
    "\n",
    "# Gráfico de violín del enriquecimiento de TSS por muestra con un gráfico de caja superpuesto\n",
    "plot.tss.v2 <- plotGroups(\n",
    "  ArchRProj = project, \n",
    "  groupBy = \"Sample\",  # Agrupar por muestra\n",
    "  colorBy = \"cellColData\",  # Usar metadatos de células para el color\n",
    "  name = \"TSSEnrichment\",  # Graficar puntajes de enriquecimiento de TSS\n",
    "  plotAs = \"violin\",  # Graficar como un gráfico de violín\n",
    "  alpha = 0.4,  # Establecer transparencia\n",
    "  addBoxPlot = TRUE  # Agregar un gráfico de caja superpuesto\n",
    ")\n",
    "\n",
    "# Mostrar los gráficos de ridges y violín uno al lado del otro\n",
    "plot.tss.v1 | plot.tss.v2"
   ]
  },
  {
   "cell_type": "markdown",
   "metadata": {
    "id": "kv9j4Qob67sq"
   },
   "source": [
    "Graficar las métricas de fragmentos:"
   ]
  },
  {
   "cell_type": "code",
   "execution_count": null,
   "metadata": {
    "colab": {
     "base_uri": "https://localhost:8080/",
     "height": 576
    },
    "executionInfo": {
     "elapsed": 1084,
     "status": "ok",
     "timestamp": 1690401426956,
     "user": {
      "displayName": "Adolfo Alexis Rojas Hidalgo",
      "userId": "18158766317608392773"
     },
     "user_tz": 240
    },
    "id": "y9AqXR8o67sr",
    "outputId": "adc2a298-9903-4de2-e725-6ae7d7958bfd",
    "vscode": {
     "languageId": "r"
    }
   },
   "outputs": [],
   "source": [
    "# Graficar distribuciones de cuenta de fragmentos\n",
    "\n",
    "# Gráfico de surcos \"ridges\" de log10 de la cuenta de fragmentos por muestra\n",
    "plot.frags.v1 <- plotGroups(\n",
    "  ArchRProj = project, \n",
    "  groupBy = \"Sample\",  # Agrupar por muestra\n",
    "  colorBy = \"cellColData\",  # Usar metadatos de células para el color\n",
    "  name = \"log10(nFrags)\",  # Graficar log10 de la cuenta de fragmentos\n",
    "  plotAs = \"ridges\"  # Usar un gráfico de surcos \"ridges\"\n",
    ")\n",
    "\n",
    "# Gráfico de violín de log10 de la cuenta de fragmentos por muestra con un gráfico de caja superpuesto\n",
    "plot.frags.v2 <- plotGroups(\n",
    "  ArchRProj = project, \n",
    "  groupBy = \"Sample\",  # Agrupar por muestra\n",
    "  colorBy = \"cellColData\",  # Usar metadatos de células para el color\n",
    "  name = \"log10(nFrags)\",  # Graficar log10 de la cuenta de fragmentos\n",
    "  plotAs = \"violin\",  # Graficar como un gráfico de violín\n",
    "  alpha = 0.4,  # Establecer transparencia\n",
    "  addBoxPlot = TRUE  # Agregar un gráfico de caja superpuesto\n",
    ")\n",
    "\n",
    "# Mostrar los gráficos de ridges y violín uno al lado del otro\n",
    "plot.frags.v1 | plot.frags.v2"
   ]
  },
  {
   "cell_type": "markdown",
   "metadata": {
    "id": "WfNwsOQj67sr"
   },
   "source": [
    "Filtrar los dobletes"
   ]
  },
  {
   "cell_type": "code",
   "execution_count": null,
   "metadata": {
    "colab": {
     "base_uri": "https://localhost:8080/"
    },
    "executionInfo": {
     "elapsed": 5,
     "status": "ok",
     "timestamp": 1690401426957,
     "user": {
      "displayName": "Adolfo Alexis Rojas Hidalgo",
      "userId": "18158766317608392773"
     },
     "user_tz": 240
    },
    "id": "63TKWnJt67sr",
    "outputId": "a30b39bc-d87d-4623-8921-dc0c0b80b1d7",
    "vscode": {
     "languageId": "r"
    }
   },
   "outputs": [],
   "source": [
    "# Filtrar dobles (doublets) del conjunto de datos\n",
    "project <- filterDoublets(ArchRProj = project)  # Eliminar dobles detectados para mantener solo células individuales\n"
   ]
  },
  {
   "cell_type": "markdown",
   "metadata": {
    "id": "W_reSrok67ss"
   },
   "source": [
    "Distribución del tamaño de los fragmentos de muestra y perfiles de enriquecimiento de TSS"
   ]
  },
  {
   "cell_type": "code",
   "execution_count": null,
   "metadata": {
    "colab": {
     "base_uri": "https://localhost:8080/",
     "height": 888
    },
    "executionInfo": {
     "elapsed": 82572,
     "status": "ok",
     "timestamp": 1690401509525,
     "user": {
      "displayName": "Adolfo Alexis Rojas Hidalgo",
      "userId": "18158766317608392773"
     },
     "user_tz": 240
    },
    "id": "vL8kkUrr67ss",
    "outputId": "eb811dff-003e-44f3-85ce-858006cefc1e",
    "vscode": {
     "languageId": "r"
    }
   },
   "outputs": [],
   "source": [
    "# Graficar el perfil de enriquecimiento del Sitio de Inicio de Transcripción (TSS)\n",
    "plot.tss.v3 <- plotTSSEnrichment(ArchRProj = project)\n",
    "\n",
    "# Graficar la distribución del tamaño de fragmento\n",
    "plot.frags.v3 <- plotFragmentSizes(ArchRProj = project)\n",
    "\n",
    "# Mostrar ambos gráficos uno al lado del otro\n",
    "plot.frags.v3 | plot.tss.v3"
   ]
  },
  {
   "cell_type": "markdown",
   "metadata": {
    "id": "QXrfWICGif6w"
   },
   "source": [
    "## 5. Normalización, reducción dimensional, corrección del efecto de lote (batch), agrupamiento y otros pasos"
   ]
  },
  {
   "cell_type": "markdown",
   "metadata": {
    "id": "DNvatcOQ67st"
   },
   "source": [
    "### 5.1. Normalización y reducción dimensional\n",
    "\n",
    "scATAC-seq genera una matriz de cuentas de inserción dispersa (mosaicos de 500 pb; datos binarios de aproximadamente 6  millones de características), lo que imposibilita la identificación de picos (peaks) variables para la reducción de dimensionalidad estándar. Para solucionar este problema, ArchR utiliza LSI (indexación semántica latente), un enfoque de reducción de dimensionalidad por capas para datos dispersos y ruidosos.\n",
    "\n",
    "En lugar de identificar los picos más variables, ArchR intenta utilizar las características más accesibles como entrada para LSI.\n",
    "\n",
    "Sin embargo, al analizar múltiples muestras, los resultados pueden presentar altos niveles de ruido y baja reproducibilidad.\n",
    "\n",
    "Para solucionar esto, ArchR introdujo el enfoque \"LSI iterativo\" (Satpathy, Granja et al., 2019), que calcula una transformación LSI inicial en los mosaicos más accesibles e identifica agrupamientos de menor resolución que no presentan confusión por lotes.\n",
    "\n",
    "1. Este enfoque calcula una transformación LSI inicial en los mosaicos más accesibles e identifica los agrupamientos de menor resolución que no presentan confusión por lotes.\n",
    "\n",
    "2. ArchR calcula la accesibilidad promedio de cada uno de estos agrupamientos en todas las características. ArchR identifica entonces los picos más variables en estos agrupamientos y utiliza estas características de nuevo para la LSI.\n",
    "\n",
    "3. En esta segunda iteración, los picos más variables son más similares a los genes variables utilizados en las implementaciones de LSI de scRNA-seq.\n",
    "\n",
    "Este enfoque minimiza los efectos de lote observados y permite operaciones de reducción de dimensionalidad en una matriz de características de tamaño más razonable.\n",
    "\n",
    "<center>\n",
    "\n",
    "![](./Figures/iLSI.png)\n",
    "\n",
    "</center>\n"
   ]
  },
  {
   "cell_type": "code",
   "execution_count": null,
   "metadata": {
    "colab": {
     "base_uri": "https://localhost:8080/"
    },
    "executionInfo": {
     "elapsed": 145828,
     "status": "ok",
     "timestamp": 1690401655348,
     "user": {
      "displayName": "Adolfo Alexis Rojas Hidalgo",
      "userId": "18158766317608392773"
     },
     "user_tz": 240
    },
    "id": "JZ0IEM1967su",
    "outputId": "d7a523ad-7e83-47b8-e444-63e7f1eeec7e",
    "vscode": {
     "languageId": "r"
    }
   },
   "outputs": [],
   "source": [
    "# Agregar LSI iterativo al proyecto ArchR\n",
    "project_Normalized <- addIterativeLSI(ArchRProj = project, iterations = 2,\n",
    "                                      # Número de iteraciones para LSI; más iteraciones refinan el agrupamiento\n",
    "                                      # sampleCellsPre = 50000, # Opcional: número de células a usar en las iteraciones antes de la final\n",
    "                                      # clusterParams = list(resolution = 0.1, sampleCells = 50000, maxClusters = 6, n.start = 10),\n",
    "                                      # Los parámetros de agrupamiento se pueden ajustar para optimizar el agrupamiento\n",
    "                                      useMatrix = \"TileMatrix\", # Usar TileMatrix para LSI\n",
    "                                      name = \"IterativeLSI\", # Nombre de las dimensiones reducidas\n",
    "                                      varFeatures = 25000) # Número de características variables a usar para LSI"
   ]
  },
  {
   "cell_type": "markdown",
   "metadata": {
    "id": "sZwxfdVN67su"
   },
   "source": [
    "### 5.2. Corrección del efecto de lote\n",
    "\n",
    "En ocasiones, el enfoque iterativo LSI no es suficiente para corregir las fuertes diferencias en el efecto de lote. \n",
    "Por esta razón, ArchR implementa una herramienta de corrección del efecto de lote comúnmente utilizada, Harmony (Korsunsky et al., 2019), diseñada originalmente para scRNA-seq."
   ]
  },
  {
   "cell_type": "code",
   "execution_count": null,
   "metadata": {
    "colab": {
     "base_uri": "https://localhost:8080/"
    },
    "executionInfo": {
     "elapsed": 4593,
     "status": "ok",
     "timestamp": 1690401659938,
     "user": {
      "displayName": "Adolfo Alexis Rojas Hidalgo",
      "userId": "18158766317608392773"
     },
     "user_tz": 240
    },
    "id": "KmVn_1Ye67sv",
    "outputId": "131f6284-6858-430e-861f-4fa41d9eb54f",
    "vscode": {
     "languageId": "r"
    }
   },
   "outputs": [],
   "source": [
    "# Realizar corrección de lotes usando Harmony sobre las dimensiones reducidas de LSI\n",
    "project_Normalized <- addHarmony(ArchRProj = project_Normalized, reducedDims = \"IterativeLSI\",\n",
    "                                 name = \"Harmony\", groupBy = \"Sample\")"
   ]
  },
  {
   "cell_type": "markdown",
   "metadata": {
    "id": "-_j0yh4B67sv"
   },
   "source": [
    "### 5.3. UMAP\n",
    "Ejecutar UMAP en ArchR"
   ]
  },
  {
   "cell_type": "code",
   "execution_count": null,
   "metadata": {
    "colab": {
     "base_uri": "https://localhost:8080/",
     "height": 0
    },
    "executionInfo": {
     "elapsed": 44537,
     "status": "ok",
     "timestamp": 1690401704472,
     "user": {
      "displayName": "Adolfo Alexis Rojas Hidalgo",
      "userId": "18158766317608392773"
     },
     "user_tz": 240
    },
    "id": "OpGaLbU467sw",
    "outputId": "ab12b084-f416-463a-92c3-c81a35f35370",
    "vscode": {
     "languageId": "r"
    }
   },
   "outputs": [],
   "source": [
    "# Calcular la incrustación de UMAP basada en las dimensiones de LSI iterativo\n",
    "project_Normalized <- addUMAP(ArchRProj = project_Normalized, reducedDims = \"IterativeLSI\", name = \"UMAP\")\n",
    "\n",
    "# Graficar UMAP coloreado por la identidad de la muestra\n",
    "plotEmbedding(ArchRProj = project_Normalized, colorBy = \"cellColData\", name = \"Sample\", embedding = \"UMAP\", size=0.1)\n",
    "\n",
    "# Calcular la incrustación de UMAP basada en las dimensiones de Harmony (después de la corrección de lotes)\n",
    "project_Normalized <- addUMAP(ArchRProj = project_Normalized, reducedDims = \"Harmony\", name = \"UMAP\", force=TRUE)\n",
    "\n",
    "# Graficar nuevamente el UMAP para visualizar la incrustación corregida por lotes\n",
    "plotEmbedding(ArchRProj = project_Normalized, colorBy = \"cellColData\", name = \"Sample\", embedding = \"UMAP\", size=0.1)"
   ]
  },
  {
   "cell_type": "markdown",
   "metadata": {
    "id": "NGja-Ldz67sw"
   },
   "source": [
    "### 5.4. Agrupamiento\n",
    "\n",
    "Para identificar agrupamientos, ArchR permite utilizar el mismo método que Seurat o Scran. Hemos seleccionado el mismo método para describir el primer día , utilizado en el paquete Seurat."
   ]
  },
  {
   "cell_type": "code",
   "execution_count": null,
   "metadata": {
    "colab": {
     "base_uri": "https://localhost:8080/"
    },
    "executionInfo": {
     "elapsed": 108256,
     "status": "ok",
     "timestamp": 1690401812726,
     "user": {
      "displayName": "Adolfo Alexis Rojas Hidalgo",
      "userId": "18158766317608392773"
     },
     "user_tz": 240
    },
    "id": "A2wiA3RR67sx",
    "outputId": "ee70dbb9-e194-42d5-f8f7-12a55f8d7192",
    "vscode": {
     "languageId": "r"
    }
   },
   "outputs": [],
   "source": [
    "# Iterar sobre diferentes resoluciones de agrupamiento de 0.0 a 0.9\n",
    "for(i in seq(0,0.9,0.1)){\n",
    "  project_Normalized <- addClusters(input = project_Normalized, reducedDims = \"Harmony\",\n",
    "                                    method = \"Seurat\", # Método de agrupamiento (basado en Seurat)\n",
    "                                    name = paste(\"Clusters.res\",i,sep=\"\"), # Nombrar los grupos dinámicamente\n",
    "                                    resolution = i, # Establecer la resolución de agrupamiento\n",
    "                                    verbose = FALSE) # Suprimir salida detallada\n",
    "}"
   ]
  },
  {
   "cell_type": "markdown",
   "metadata": {
    "id": "Y3sQj-nr67sy"
   },
   "source": [
    "### 5.5. Guardar y cargar un proyecto\n",
    "\n",
    "Guardar"
   ]
  },
  {
   "cell_type": "code",
   "execution_count": null,
   "metadata": {
    "colab": {
     "base_uri": "https://localhost:8080/",
     "height": 0
    },
    "executionInfo": {
     "elapsed": 3085,
     "status": "ok",
     "timestamp": 1690401815807,
     "user": {
      "displayName": "Adolfo Alexis Rojas Hidalgo",
      "userId": "18158766317608392773"
     },
     "user_tz": 240
    },
    "id": "RAc_Xnkp67sy",
    "outputId": "21a9ba6e-fb7c-4fb0-fdb1-6651374f5e88",
    "vscode": {
     "languageId": "r"
    }
   },
   "outputs": [],
   "source": [
    "# Guardar el estado actual del proyecto ArchR en el disco\n",
    "saveArchRProject(ArchRProj = project_Normalized,\n",
    "                 outputDirectory = file.path(getwd(),\"Analysis_scATACseq\"))"
   ]
  },
  {
   "cell_type": "markdown",
   "metadata": {
    "id": "83-7ykJD67sz"
   },
   "source": [
    "Cargar\n"
   ]
  },
  {
   "cell_type": "code",
   "execution_count": null,
   "metadata": {
    "colab": {
     "base_uri": "https://localhost:8080/"
    },
    "executionInfo": {
     "elapsed": 984,
     "status": "ok",
     "timestamp": 1690401816788,
     "user": {
      "displayName": "Adolfo Alexis Rojas Hidalgo",
      "userId": "18158766317608392773"
     },
     "user_tz": 240
    },
    "id": "XBdFi-vx67sz",
    "outputId": "06c899db-f988-404d-c4a8-d52a3b3869c2",
    "vscode": {
     "languageId": "r"
    }
   },
   "outputs": [],
   "source": [
    "# Cargar el proyecto ArchR guardado\n",
    "project_Normalized <- loadArchRProject(path = file.path(getwd(),\"Analysis_scATACseq\"),\n",
    "                                       force = TRUE, showLogo = FALSE)"
   ]
  },
  {
   "cell_type": "markdown",
   "metadata": {
    "id": "i4qJbc6D67sz"
   },
   "source": [
    "## 6. Exploración de datos mediante estimación genética\n",
    "\n",
    "### 6.1. Visualización de la agrupación en agrupamientos mediante Clustree\n",
    "\n",
    "Clustree es una herramienta útil para explorar las relaciones entre los agrupamientos a diferentes resoluciones."
   ]
  },
  {
   "cell_type": "code",
   "execution_count": null,
   "metadata": {
    "colab": {
     "base_uri": "https://localhost:8080/",
     "height": 0
    },
    "executionInfo": {
     "elapsed": 3614,
     "status": "ok",
     "timestamp": 1690401820400,
     "user": {
      "displayName": "Adolfo Alexis Rojas Hidalgo",
      "userId": "18158766317608392773"
     },
     "user_tz": 240
    },
    "id": "sMcOXcCn67s0",
    "outputId": "005c99c5-bd67-48e0-85b9-92ce06221991",
    "vscode": {
     "languageId": "r"
    }
   },
   "outputs": [],
   "source": [
    "# Extraer la información de agrupamiento del proyecto ArchR\n",
    "tmp.clustree.datatable <- as.data.frame(project_Normalized@cellColData)\n",
    "\n",
    "# Graficar un árbol de agrupamiento para visualizar las relaciones de agrupamiento a través de resoluciones\n",
    "clustree(tmp.clustree.datatable, prefix=\"Clusters.res\")"
   ]
  },
  {
   "cell_type": "markdown",
   "metadata": {
    "id": "gdtut7NG67s0"
   },
   "source": [
    "### 6.2. Visualización de la agrupación en clústeres en UMAP"
   ]
  },
  {
   "cell_type": "code",
   "execution_count": null,
   "metadata": {
    "colab": {
     "base_uri": "https://localhost:8080/",
     "height": 0
    },
    "executionInfo": {
     "elapsed": 50600,
     "status": "ok",
     "timestamp": 1690401870997,
     "user": {
      "displayName": "Adolfo Alexis Rojas Hidalgo",
      "userId": "18158766317608392773"
     },
     "user_tz": 240
    },
    "id": "okCN6OJO67s1",
    "outputId": "a4eaed9d-150e-4596-c3ed-bf2f3615fbdb",
    "vscode": {
     "languageId": "r"
    }
   },
   "outputs": [],
   "source": [
    "# Iterar sobre diferentes resoluciones de agrupamiento y visualizar las incrustaciones de UMAP\n",
    "for(i in seq(0,0.9,0.1)){\n",
    "  # Graficar UMAP con etiquetas de agrupamiento\n",
    "  plot.umap.resi <- plotEmbedding(ArchRProj = project_Normalized, \n",
    "                                  colorBy = \"cellColData\", \n",
    "                                  name = paste(\"Clusters.res\",i,sep=\"\"), \n",
    "                                  embedding = \"UMAP\", size=0.1)\n",
    "  \n",
    "  # Graficar UMAP sin etiquetas de agrupamiento\n",
    "  plot.umap.woLabel.resi <- plotEmbedding(ArchRProj = project_Normalized, \n",
    "                                          colorBy = \"cellColData\", \n",
    "                                          name = paste(\"Clusters.res\",i,sep=\"\"), \n",
    "                                          embedding = \"UMAP\", size=0.1, \n",
    "                                          labelMeans=FALSE)\n",
    "\n",
    "  # Mostrar ambos gráficos uno al lado del otro\n",
    "  print(plot.umap.resi | plot.umap.woLabel.resi)\n",
    "}"
   ]
  },
  {
   "cell_type": "markdown",
   "metadata": {
    "id": "fdcPe0iF67s1"
   },
   "source": [
    "### 6.3. Caracterización de clústeres\n",
    "\n",
    "En este paso, seleccionamos una resolución específica para explorar en detalle el GeneScore y caracterizar los diferentes agrupamientos. Para ello, identificaremos los genes marcadores (basándonos en las puntuaciones génicas o la estimación de la expresión génica) de los agrupamientos. \n",
    "En resumen, ArchR estima las puntuaciones génicas utilizando la accesibilidad local de la región génica que incluye el promotor y el cuerpo génico, pero impone una ponderación exponencial que considera la actividad de los supuestos elementos reguladores distales en función de la distancia.\n",
    "\n",
    "![<i><font size=1 color=\"grey\">from ArchR manual</font></i>](./Figures/GeneActivityScore_Schematic.png){width=70% height=50%}\n",
    "\n",
    "Observaciones: ArchR puede utilizar características de genes, picos o motivos de factores de transcripción. En este caso, ArchR identifica los genes que parecen estar activos de forma única en cada agrupamiento con una resolución de 0,4.\n"
   ]
  },
  {
   "cell_type": "code",
   "execution_count": null,
   "metadata": {
    "colab": {
     "base_uri": "https://localhost:8080/",
     "height": 0
    },
    "executionInfo": {
     "elapsed": 392436,
     "status": "ok",
     "timestamp": 1690402263429,
     "user": {
      "displayName": "Adolfo Alexis Rojas Hidalgo",
      "userId": "18158766317608392773"
     },
     "user_tz": 240
    },
    "id": "NK7b6n9Z67s1",
    "outputId": "483ebe6c-20c4-4b9e-ef50-24bfd708557c",
    "vscode": {
     "languageId": "r"
    }
   },
   "outputs": [],
   "source": [
    "slct.res = \"res0.7\" # Seleccionar resolución para el análisis\n",
    "\n",
    "# Identificar genes marcadores utilizando la matriz de puntajes de genes\n",
    "markersGS.slctRes <- getMarkerFeatures(ArchRProj = project_Normalized,\n",
    "                                       useMatrix = \"GeneScoreMatrix\",\n",
    "                                       groupBy = paste(\"Clusters.\",slct.res,sep=\"\"),\n",
    "                                       bias = c(\"TSSEnrichment\", \"log10(nFrags)\"),\n",
    "                                       testMethod = \"wilcoxon\") # Realizar la prueba de Wilcoxon\n",
    "\n",
    "# Extraer genes marcadores con FDR ≤ 0.05 y Log2 Fold Change ≥ 0.2\n",
    "markerList <- getMarkers(markersGS.slctRes, cutOff = \"FDR <= 0.05 & Log2FC >= 0.2\")\n",
    "\n",
    "# Mostrar los genes marcadores para el primer grupo\n",
    "i = names(markerList)[1]\n",
    "markerList[[i]]\n",
    "\n",
    "# Guardar los genes marcadores para cada grupo\n",
    "for(i in names(markerList)){\n",
    "  write.table(markerList[[i]], sep=\"\\t\", row.names=FALSE, col.names=TRUE, quote=FALSE,\n",
    "              file=file.path(work_dir, paste(i, \".res\", slct.res, \".mGenesList.tsv\", sep=\"\")))\n",
    "}"
   ]
  },
  {
   "cell_type": "markdown",
   "metadata": {
    "id": "D8gJrYOa67s2"
   },
   "source": [
    "Para visualizar los genes marcadores, podemos producir un mapa de calor:"
   ]
  },
  {
   "cell_type": "code",
   "execution_count": null,
   "metadata": {
    "colab": {
     "base_uri": "https://localhost:8080/",
     "height": 0
    },
    "executionInfo": {
     "elapsed": 6862,
     "status": "ok",
     "timestamp": 1690402270287,
     "user": {
      "displayName": "Adolfo Alexis Rojas Hidalgo",
      "userId": "18158766317608392773"
     },
     "user_tz": 240
    },
    "id": "jJQbmqaZ67s2",
    "outputId": "43dac0b6-10d3-4bfa-aa5b-2de4f07824a6",
    "vscode": {
     "languageId": "r"
    }
   },
   "outputs": [],
   "source": [
    "# Definir genes marcadores clave\n",
    "markerGenes <- c(\"EPCAM\", \"VIM\", \"FLT4\", \"THY1\", \"CD3D\", \"PECAM1\", \"CD38\", \"PAX5\",\n",
    "                 \"MS4A1\", \"CD14\", \"ITGAX\", \"CD4\", \"CD8A\", \"GZMA\")\n",
    "\n",
    "# Generar un mapa de calor de los puntajes de los genes\n",
    "heatmapGS <- plotMarkerHeatmap(seMarker = markersGS.slctRes,\n",
    "                               cutOff = \"FDR <= 0.05 & Log2FC >= 1\",\n",
    "                               labelMarkers = markerGenes,\n",
    "                               transpose = FALSE)\n",
    "\n",
    "# Mostrar el mapa de calor\n",
    "heatmapGS\n",
    "\n",
    "# Recuperar la matriz del mapa de calor\n",
    "heatmapGSmatrix <- plotMarkerHeatmap(seMarker = markersGS.slctRes,\n",
    "                                     cutOff = \"FDR <= 0.05 & Log2FC >= 1\",\n",
    "                                     labelMarkers = markerGenes,\n",
    "                                     returnMatrix = TRUE,\n",
    "                                     transpose = FALSE)\n",
    "\n",
    "# Mostrar las primeras 10 filas de la matriz del mapa de calor\n",
    "head(heatmapGSmatrix, 10)\n",
    "\n",
    "# Guardar la matriz del mapa de calor\n",
    "write.table(cbind(Cluster=rownames(heatmapGSmatrix), heatmapGSmatrix), sep=\"\\t\",\n",
    "            row.names=FALSE, col.names=TRUE, quote=FALSE,\n",
    "            file=file.path(work_dir, paste(\"GeneScores-Marker-Heatmap\", slct.res, sep=\".\")))"
   ]
  },
  {
   "cell_type": "markdown",
   "metadata": {
    "id": "KuXuFS8E67s3"
   },
   "source": [
    "O visualizar GeneScore de genes marcadores en UMAP"
   ]
  },
  {
   "cell_type": "code",
   "execution_count": null,
   "metadata": {
    "colab": {
     "base_uri": "https://localhost:8080/",
     "height": 0
    },
    "executionInfo": {
     "elapsed": 7840,
     "status": "ok",
     "timestamp": 1690402278124,
     "user": {
      "displayName": "Adolfo Alexis Rojas Hidalgo",
      "userId": "18158766317608392773"
     },
     "user_tz": 240
    },
    "id": "eamIRAx467s3",
    "outputId": "11facd1d-65a3-4f6c-9ac0-23f4932120d6",
    "vscode": {
     "languageId": "r"
    }
   },
   "outputs": [],
   "source": [
    "# Graficar UMAP de puntajes de genes sin la imputación MAGIC\n",
    "plot.GS.woMAGIC <- plotEmbedding(ArchRProj = project_Normalized, \n",
    "                                 colorBy = \"GeneScoreMatrix\", \n",
    "                                 name = markerGenes, embedding = \"UMAP\", \n",
    "                                 quantCut = c(0.01, 0.95), \n",
    "                                 imputeWeights = NULL)\n",
    "\n",
    "# Mostrar genes seleccionados\n",
    "plot.GS.woMAGIC$VIM | plot.GS.woMAGIC$EPCAM"
   ]
  },
  {
   "cell_type": "markdown",
   "metadata": {
    "id": "ExPmw32r67s4"
   },
   "source": [
    "Sin embargo, los datos de scATAC-seq son muy escasos. Por ello, se recomienda encarecidamente utilizar MAGIC (van Dijk, et al., 2018), que añade un peso de imputación a las puntuaciones genéticas al suavizar la señal entre las células cercanas."
   ]
  },
  {
   "cell_type": "code",
   "execution_count": null,
   "metadata": {
    "colab": {
     "base_uri": "https://localhost:8080/",
     "height": 0
    },
    "executionInfo": {
     "elapsed": 43720,
     "status": "ok",
     "timestamp": 1690402321840,
     "user": {
      "displayName": "Adolfo Alexis Rojas Hidalgo",
      "userId": "18158766317608392773"
     },
     "user_tz": 240
    },
    "id": "yMWJ9UKj67s4",
    "outputId": "34f0e2b3-c960-4de9-b3c2-5a19bb26688b",
    "vscode": {
     "languageId": "r"
    }
   },
   "outputs": [],
   "source": [
    "# Aplicar MAGIC para imputación de genes\n",
    "project_Normalized <- addImputeWeights(project_Normalized)\n",
    "\n",
    "# Graficar UMAP de puntajes de genes con imputación\n",
    "plot.GS <- plotEmbedding(ArchRProj = project_Normalized, colorBy = \"GeneScoreMatrix\",\n",
    "                         name = markerGenes,\n",
    "                         embedding = \"UMAP\",\n",
    "                         imputeWeights = getImputeWeights(project_Normalized))\n",
    "\n",
    "plot.GS$VIM | plot.GS$EPCAM\n",
    "plot.GS$FLT4 | plot.GS$THY1\n",
    "plot.GS$ITGAX | plot.GS$CD14\n",
    "plot.GS$MS4A1 | plot.GS$CD38\n",
    "plot.GS$CD3D | plot.GS$CD8A\n",
    "plot.GS$CD4 | plot.GS$GZMA"
   ]
  },
  {
   "cell_type": "markdown",
   "metadata": {
    "id": "nh7kBGEl67s4"
   },
   "source": [
    "## 7. Integración scATAC-scRNAseq\n",
    "\n",
    "ArchR permite la integración con scRNA-seq y ofrece la posibilidad de utilizar agrupamientos llamados en el espacio scRNA-seq o utilizar las mediciones de expresión génica tras la integración.\n",
    "\n",
    "Esta integración funciona alineando directamente las células de scATAC-seq con las de scRNA-seq, comparando la matriz de puntuación génica de scATAC-seq con la matriz de expresión génica de scRNA-seq. Esta alineación se realiza mediante la función `FindTransferAnchors()` del paquete Seurat, que permite alinear datos de dos conjuntos de datos.\n",
    "\n",
    "Sin embargo, para escalar adecuadamente este procedimiento a cientos de miles de células, ArchR ofrece una paralelización del procedimiento dividiendo el total de células en grupos más pequeños y realizando alineaciones separadas.\n"
   ]
  },
  {
   "cell_type": "code",
   "execution_count": null,
   "metadata": {
    "executionInfo": {
     "elapsed": 9,
     "status": "ok",
     "timestamp": 1690402321841,
     "user": {
      "displayName": "Adolfo Alexis Rojas Hidalgo",
      "userId": "18158766317608392773"
     },
     "user_tz": 240
    },
    "id": "Mg9RR6Dq67s5",
    "vscode": {
     "languageId": "r"
    }
   },
   "outputs": [],
   "source": [
    "# Importar datos de scRNAseq\n",
    "scRNA<-readRDS(file.path(work_dir,\"scRNAseq.data.rds\"))\n",
    "DefaultAssay(object = scRNA) <- \"RNA\"\n",
    "\n",
    "# Integrar datos de scRNA-seq y scATAC-seq\n",
    "project_Normalized <- addGeneIntegrationMatrix(ArchRProj = project_Normalized,\n",
    "    useMatrix = \"GeneScoreMatrix\", matrixName = \"GeneIntegrationMatrix\",\n",
    "    reducedDims = \"Harmony\", # Usando el método de reducción de dimensiones Harmony (alternativamente, IterativeLSI)\n",
    "    seRNA = scRNA, addToArrow = TRUE, force= TRUE,\n",
    "    groupRNA = \"integrated_snn_res.0.5\",  # Agrupar las celdas con una resolución de 0.5\n",
    "    nameCell = \"predictedCell\", nameGroup = \"predictedGroup\", nameScore = \"predictedScore\",\n",
    "    sampleCellsATAC = 10000, sampleCellsRNA = 10000, scaleTo = 10000)  # Normalización y asignación de pesos\n",
    "project_Normalized <- addImputeWeights(project_Normalized)  # Añadir pesos de imputación para mejorar el análisis posterior\n",
    "\n",
    "saveArchRProject(ArchRProj = project_Normalized, load = FALSE)  # Guardar el proyecto de ArchR\n",
    "\n",
    "# Crear un gráfico de UMAP de las celdas integradas por el grupo predicho\n",
    "plot_rna.woLabel <- plotEmbedding(project_Normalized,colorBy = \"cellColData\",name = \"predictedGroup\", embedding = \"UMAP\", size=1, labelMeans=FALSE)\n",
    "plot_rna <- plotEmbedding(project_Normalized,colorBy = \"cellColData\",name = \"predictedGroup\", embedding = \"UMAP\", size=1)\n",
    "\n",
    "# Crear una tabla de confusión entre los datos de scRNA-seq y scATAC-seq\n",
    "cM <- as.matrix(confusionMatrix(project$Clusters.res0.7,                # Resolución de agrupamiento\n",
    "                                project$predictedGroup))                # Grupo predicho\n"
   ]
  },
  {
   "cell_type": "markdown",
   "metadata": {
    "id": "yum_aHNc67s5"
   },
   "source": [
    "## 8. Llamada de picos (Peak Calling)\n",
    "\n",
    "La llamada de picos es uno de los procesos más fundamentales en el análisis de datos de ATAC-seq. Dado que los datos scATAC-seq por célula son esencialmente binarios (accesibles o no), realizamos la llamada de picos en grupos de células similares (o agrupamientos) definidos previamente.\n",
    "\n",
    "ArchR aplica un procedimiento iterativo de fusión de picos por solapamiento con el llamador de picos MACS2 recomendado (Zhang et al., 2008).\n",
    "\n",
    "Utiliza una función para realizar este procedimiento iterativo de fusión de picos por solapamiento:\n",
    "\n",
    "1.\tArchR llamaría a los picos de cada réplica pseudomasiva individualmente.\n",
    "\n",
    "2.\tArchR analizaría todas las réplicas pseudomasivas de un mismo tipo de célula juntas, realizando la primera iteración de eliminación de solapamiento iterativo.\n",
    "\n",
    "3.\tDespués de la primera iteración de eliminación de solapamiento iterativo, ArchR verifica la reproducibilidad de cada pico en las réplicas pseudomasivas y solo conserva los picos que superan un umbral indicado por el parámetro de reproducibilidad.\n",
    "\n",
    "4.\tAl final de este proceso, obtendríamos un único conjunto de picos fusionados para cada tipo de célula.\n"
   ]
  },
  {
   "cell_type": "markdown",
   "metadata": {
    "id": "Mumkz81uhz6x"
   },
   "source": [
    "### 8.1. Creación de las pseudo-réplicas masivas"
   ]
  },
  {
   "cell_type": "code",
   "execution_count": null,
   "metadata": {
    "colab": {
     "base_uri": "https://localhost:8080/"
    },
    "executionInfo": {
     "elapsed": 1610618,
     "status": "ok",
     "timestamp": 1690403932450,
     "user": {
      "displayName": "Adolfo Alexis Rojas Hidalgo",
      "userId": "18158766317608392773"
     },
     "user_tz": 240
    },
    "id": "5KM_d_P967s6",
    "outputId": "f25bffdb-18fc-4309-99fa-ade38c81211a",
    "vscode": {
     "languageId": "r"
    }
   },
   "outputs": [],
   "source": [
    "# Determinar el número de réplicas para el cálculo de cobertura\n",
    "nbReplicates = ifelse(length(names(table(project_Normalized$Sample))) > 5, \n",
    "                      length(names(table(project_Normalized$Sample))), 5)  # Usar al menos 5 réplicas\n",
    "\n",
    "# Añadir información de cobertura de grupo al proyecto de ArchR\n",
    "project_Peaks <- addGroupCoverages(\n",
    "    ArchRProj = project_Normalized, \n",
    "    maxReplicates = nbReplicates, \n",
    "    groupBy = paste(\"Clusters\", slct.res, sep = \".\")  # Agrupar según resolución seleccionada\n",
    ")"
   ]
  },
  {
   "cell_type": "markdown",
   "metadata": {
    "id": "XMfY2gdT67s6"
   },
   "source": [
    "### 8.2. Realizar llamadas de pico"
   ]
  },
  {
   "cell_type": "code",
   "execution_count": null,
   "metadata": {
    "colab": {
     "base_uri": "https://localhost:8080/",
     "height": 0
    },
    "executionInfo": {
     "elapsed": 937861,
     "status": "ok",
     "timestamp": 1690404870307,
     "user": {
      "displayName": "Adolfo Alexis Rojas Hidalgo",
      "userId": "18158766317608392773"
     },
     "user_tz": 240
    },
    "id": "j3ffFJ-z67s7",
    "outputId": "b9314e08-56c2-4d9d-8b00-59e86efda5b6",
    "vscode": {
     "languageId": "r"
    }
   },
   "outputs": [],
   "source": [
    "# Encontrar la ruta de MACS2 (herramienta para llamada de picos)\n",
    "pathToMacs2 <- findMacs2()\n",
    "\n",
    "# Realizar llamada de picos usando MACS2\n",
    "project_Peaks <- addReproduciblePeakSet(\n",
    "    ArchRProj = project_Peaks,\n",
    "    groupBy = paste(\"Clusters\", slct.res, sep = \".\"),\n",
    "    pathToMacs2 = pathToMacs2\n",
    ")\n",
    "\n",
    "# Método alternativo para llamada de picos (si MACS2 no está disponible)\n",
    "# project_Peaks <- addReproduciblePeakSet(\n",
    "#     ArchRProj = project_Peaks,\n",
    "#     groupBy = paste(\"Clusters\", slct.res, sep = \".\"),\n",
    "#     peakMethod = \"Tiles\",  # Método alternativo\n",
    "#     method = \"p\"\n",
    "# )\n",
    "\n",
    "# Obtener el conjunto de picos después de la llamada de picos\n",
    "getPeakSet(project_Peaks)\n",
    "\n",
    "# Añadir pesos de imputación para mejorar los análisis posteriores\n",
    "project_Peaks <- addImputeWeights(project_Peaks)\n",
    "\n",
    "# Guardar el proyecto de ArchR con los resultados de la llamada de picos\n",
    "saveArchRProject(\n",
    "    ArchRProj = project_Peaks,\n",
    "    outputDirectory = file.path(getwd(), \"Analysis_scATACseq\"), \n",
    "    load = TRUE\n",
    ")"
   ]
  },
  {
   "cell_type": "markdown",
   "metadata": {
    "id": "blFYahGC67s7"
   },
   "source": [
    "### 8.3. Identificación de picos marcadores\n",
    "\n",
    "Como se explicó anteriormente para los genes marcadores, ArchR puede utilizar características de motivos de genes, picos o factores de transcripción. En este caso, ArchR identifica los picos que parecen estar activos de forma única en cada grupo a la resolución seleccionada.\n"
   ]
  },
  {
   "cell_type": "code",
   "execution_count": null,
   "metadata": {
    "colab": {
     "base_uri": "https://localhost:8080/",
     "height": 0
    },
    "executionInfo": {
     "elapsed": 593819,
     "status": "ok",
     "timestamp": 1690405464114,
     "user": {
      "displayName": "Adolfo Alexis Rojas Hidalgo",
      "userId": "18158766317608392773"
     },
     "user_tz": 240
    },
    "id": "EdI98Eo567s8",
    "outputId": "05260189-83dc-4ce5-dd60-c9e83a43562d",
    "vscode": {
     "languageId": "r"
    }
   },
   "outputs": [],
   "source": [
    "# Generar una matriz de picos para la cuantificación de accesibilidad\n",
    "project_Peaks <- addPeakMatrix(project_Peaks)\n",
    "\n",
    "# Identificar picos marcadores para cada clúster usando la prueba de Wilcoxon\n",
    "markersPeaks <- getMarkerFeatures(\n",
    "    ArchRProj = project_Peaks,\n",
    "    useMatrix = \"PeakMatrix\",  # Usar la matriz de picos\n",
    "    groupBy = paste(\"Clusters\", slct.res, sep = \".\"),\n",
    "    bias = c(\"TSSEnrichment\", \"log10(nFrags)\"),  # Ajustar por sesgos\n",
    "    testMethod = \"wilcoxon\"  # Usar prueba de Wilcoxon\n",
    ")\n",
    "\n",
    "# Extraer picos significativamente diferentes (FDR <= 0.01, Log2FC >= 1)\n",
    "markerList <- getMarkers(markersPeaks, cutOff = \"FDR <= 0.01 & Log2FC >= 1\")\n",
    "\n",
    "# Ver los picos marcadores para el agrupamiento (clúster) C9\n",
    "markerList[[\"C9\"]]"
   ]
  },
  {
   "cell_type": "markdown",
   "metadata": {
    "id": "aKRkEuHK67s8"
   },
   "source": [
    "Para visualizar los genes marcadores, podemos producir un mapa de calor:"
   ]
  },
  {
   "cell_type": "code",
   "execution_count": null,
   "metadata": {
    "colab": {
     "base_uri": "https://localhost:8080/",
     "height": 0
    },
    "executionInfo": {
     "elapsed": 8940,
     "status": "ok",
     "timestamp": 1690405473049,
     "user": {
      "displayName": "Adolfo Alexis Rojas Hidalgo",
      "userId": "18158766317608392773"
     },
     "user_tz": 240
    },
    "id": "oHt82gdh67s9",
    "outputId": "50f4bba0-09ac-4716-b927-ee9bf5b3a239",
    "vscode": {
     "languageId": "r"
    }
   },
   "outputs": [],
   "source": [
    "# Generar un mapa de calor de picos marcadores (umbral menos estricto)\n",
    "heatmapPeaks <- plotMarkerHeatmap(\n",
    "    seMarker = markersPeaks,\n",
    "    cutOff = \"FDR <= 0.1 & Log2FC >= 0.5\",\n",
    "    transpose = FALSE\n",
    ")\n",
    "\n",
    "# Mostrar el mapa de calor\n",
    "heatmapPeaks"
   ]
  },
  {
   "cell_type": "markdown",
   "metadata": {
    "id": "-N6b7fh667s9"
   },
   "source": [
    "O gráficos MA y volcanes de picos marcadores por grupo:"
   ]
  },
  {
   "cell_type": "code",
   "execution_count": null,
   "metadata": {
    "colab": {
     "base_uri": "https://localhost:8080/",
     "height": 0
    },
    "executionInfo": {
     "elapsed": 23360,
     "status": "ok",
     "timestamp": 1690405496407,
     "user": {
      "displayName": "Adolfo Alexis Rojas Hidalgo",
      "userId": "18158766317608392773"
     },
     "user_tz": 240
    },
    "id": "mpUkieM467s9",
    "outputId": "faa798c6-e1f5-455f-c0fc-776b631dd80e",
    "vscode": {
     "languageId": "r"
    }
   },
   "outputs": [],
   "source": [
    "# Generar gráficos MA y Volcano para el agrupamiento (clúster) C9\n",
    "map <- plotMarkers(\n",
    "    seMarker = markersPeaks, \n",
    "    name = \"C9\",\n",
    "    cutOff = \"FDR <= 0.1 & Log2FC >= 1\",  # Umbral predeterminado\n",
    "    plotAs = \"MA\"\n",
    ")\n",
    "\n",
    "vp <- plotMarkers(\n",
    "    seMarker = markersPeaks, \n",
    "    name = \"C9\",\n",
    "    cutOff = \"FDR <= 0.1 & Log2FC >= 1\",  # Umbral predeterminado\n",
    "    plotAs = \"Volcano\"\n",
    ")\n",
    "\n",
    "# Combinar ambos gráficos\n",
    "map | vp"
   ]
  },
  {
   "cell_type": "markdown",
   "metadata": {
    "id": "mVncriDL67s-"
   },
   "source": [
    "O visualice los picos del marcador en una pista del navegador:"
   ]
  },
  {
   "cell_type": "code",
   "execution_count": null,
   "metadata": {
    "colab": {
     "base_uri": "https://localhost:8080/"
    },
    "executionInfo": {
     "elapsed": 7299,
     "status": "ok",
     "timestamp": 1690405503700,
     "user": {
      "displayName": "Adolfo Alexis Rojas Hidalgo",
      "userId": "18158766317608392773"
     },
     "user_tz": 240
    },
    "id": "7j5H392267s-",
    "outputId": "b47b1b98-c356-447c-c8f9-41d0b06b9df5",
    "vscode": {
     "languageId": "r"
    }
   },
   "outputs": [],
   "source": [
    "# Generar una visualización de la pista del navegador para CD4\n",
    "plot.track1 <- plotBrowserTrack(\n",
    "    ArchRProj = project_Peaks,\n",
    "    groupBy = paste(\"Clusters\", slct.res, sep = \".\"),\n",
    "    geneSymbol = c(\"CD4\"),\n",
    "    features = getMarkers(markersPeaks, cutOff = \"FDR <= 0.1 & Log2FC >= 1\", returnGR = TRUE)[\"C9\"],\n",
    "    upstream = 50000, downstream = 50000\n",
    ")\n",
    "\n",
    "# Mostrar la pista\n",
    "grid::grid.newpage()\n",
    "grid::grid.draw(plot.track1$CD8A)"
   ]
  },
  {
   "cell_type": "code",
   "execution_count": null,
   "metadata": {
    "executionInfo": {
     "elapsed": 8092,
     "status": "ok",
     "timestamp": 1690405511789,
     "user": {
      "displayName": "Adolfo Alexis Rojas Hidalgo",
      "userId": "18158766317608392773"
     },
     "user_tz": 240
    },
    "id": "x22_-P7twZri",
    "vscode": {
     "languageId": "r"
    }
   },
   "outputs": [],
   "source": [
    "# Guardar el objeto y descargarlo!\n",
    "saveRDS(project_Peaks,\"project_Peaks.rds\")\n",
    "saveRDS(markersPeaks,\"markersPeaks.rds\")"
   ]
  },
  {
   "cell_type": "markdown",
   "metadata": {
    "id": "JvTmyst767s_"
   },
   "source": [
    "## 9. Enriquecimiento de motivos\n",
    "\n",
    "Tras identificar los conjuntos de picos, el siguiente paso es predecir qué factores de transcripción (FT ) podrían mediar los eventos de unión que crean esos sitios accesibles en la cromatina.\n",
    "\n",
    "ArchR permite anotar los motivos de FT enriquecidos en picos que se encuentran arriba o abajo en los diferentes tipos celulares.\n",
    "\n",
    "Primero, añadimos anotaciones de motivos a nuestro ArchRProject basándonos en una base de datos de referencia (por ejemplo: CIS-BP, JASPAR, Encode o Homer).\n",
    "\n",
    "En este caso, hemos seleccionado CIS-BP, que contiene más de 300 familias de FT de más de 700 especies, recopiladas de más de 70 fuentes, incluyendo otras bases de datos: Transfac, JASPAR, Hocomoco, FactorBook, UniProbe, entre otras.\n",
    "\n",
    "A continuación, analizamos el conjunto de picos significativamente diferenciales para determinar el enriquecimiento de motivos.\n"
   ]
  },
  {
   "cell_type": "code",
   "execution_count": null,
   "metadata": {
    "colab": {
     "base_uri": "https://localhost:8080/"
    },
    "executionInfo": {
     "elapsed": 4339,
     "status": "ok",
     "timestamp": 1690405516116,
     "user": {
      "displayName": "Adolfo Alexis Rojas Hidalgo",
      "userId": "18158766317608392773"
     },
     "user_tz": 240
    },
    "id": "UsnG1wu-UODF",
    "outputId": "da7d3a9f-405f-47a6-f2f6-fad9c8033ef2",
    "vscode": {
     "languageId": "r"
    }
   },
   "outputs": [],
   "source": [
    "# Descargar y recargar datos si es necesario\n",
    "shell_call(\"gdown 1SdSmF9R3yHNWacmFf22RxpcrrKmUHM_b\")\n",
    "markersPeaks = readRDS(\"markersPeaks.rds\")\n",
    "\n",
    "shell_call(\"gdown 1S6fRM7_KX4kjd9ankvzA5HloJJSIM4bn\")\n",
    "project_Peaks = readRDS(\"project_Peaks.rds\")"
   ]
  },
  {
   "cell_type": "code",
   "execution_count": null,
   "metadata": {
    "colab": {
     "base_uri": "https://localhost:8080/",
     "height": 305
    },
    "executionInfo": {
     "elapsed": 3275,
     "status": "error",
     "timestamp": 1690405519381,
     "user": {
      "displayName": "Adolfo Alexis Rojas Hidalgo",
      "userId": "18158766317608392773"
     },
     "user_tz": 240
    },
    "id": "dMFgBhd-67s_",
    "outputId": "d2dbb482-8001-4d2f-f0a8-3205fa3d1453",
    "vscode": {
     "languageId": "r"
    }
   },
   "outputs": [],
   "source": [
    "## Enriquecimiento de motivos\n",
    "project_Peaks <- addMotifAnnotations(ArchRProj = project_Peaks, motifSet = \"cisbp\", name = \"Motif\", force = TRUE)\n",
    "\n",
    "# Enriquecimiento de motivos en picos marcadores\n",
    "enrichMotifs <- peakAnnoEnrichment(\n",
    "    seMarker = markersPeaks, ArchRProj = project_Peaks,\n",
    "    peakAnnotation = \"Motif\",cutOff = \"FDR <= 0.1 & Log2FC >= 0.5\")        # Umbral predeterminado\n",
    "\n",
    "# Mostrar la matriz de enriquecimiento y la matriz de p-valor\n",
    "head(enrichMotifs@assays@data$Enrichment,10)"
   ]
  },
  {
   "cell_type": "markdown",
   "metadata": {
    "id": "HyE1Hvel67s_"
   },
   "source": [
    "Podemos mostrar un mapa de calor para visualizar los motivos principales de cada grupo."
   ]
  },
  {
   "cell_type": "code",
   "execution_count": null,
   "metadata": {
    "executionInfo": {
     "elapsed": 4552611,
     "status": "aborted",
     "timestamp": 1690405518811,
     "user": {
      "displayName": "Adolfo Alexis Rojas Hidalgo",
      "userId": "18158766317608392773"
     },
     "user_tz": 240
    },
    "id": "9ApCDqtt67tA",
    "vscode": {
     "languageId": "r"
    }
   },
   "outputs": [],
   "source": [
    "# Graficar un mapa de calor de motivos enriquecidos\n",
    "heatmapEM <- plotEnrichHeatmap(enrichMotifs, n = 7, transpose = TRUE)\n",
    "ComplexHeatmap::draw(heatmapEM, heatmap_legend_side = \"bot\", annotation_legend_side = \"bot\")"
   ]
  },
  {
   "cell_type": "markdown",
   "metadata": {
    "id": "cddoI56t67tA"
   },
   "source": [
    "### 9.1. ChromVAR y visualización de la desviación del motivo\n",
    "\n",
    "ChromVAR, desarrollado por el laboratorio Greenleaf, está diseñado para predecir el enriquecimiento de la actividad de FT por célula a partir de datos escasos de accesibilidad de la cromatina. ChromVAR calcula:\n",
    "\n",
    "1.\tUna \"desviación\", que es una medida corregida por sesgo que indica en qué medida la accesibilidad por célula de una característica dada (es decir, un motivo) se desvía de la accesibilidad esperada según el promedio de todas las células o muestras.\n",
    "2.\tUna \"puntuación z\" o \"puntuación de desviación\", que es la puntuación z para cada desviación corregida por sesgo en todas las células."
   ]
  },
  {
   "cell_type": "code",
   "execution_count": null,
   "metadata": {
    "executionInfo": {
     "elapsed": 4552610,
     "status": "aborted",
     "timestamp": 1690405518812,
     "user": {
      "displayName": "Adolfo Alexis Rojas Hidalgo",
      "userId": "18158766317608392773"
     },
     "user_tz": 240
    },
    "id": "rYgm5icu67tB",
    "vscode": {
     "languageId": "r"
    }
   },
   "outputs": [],
   "source": [
    "# Añadir picos de fondo\n",
    "project_Peaks <- addBgdPeaks(project_Peaks)\n",
    "\n",
    "# Calcular la matriz de desviaciones\n",
    "project_Peaks <- addDeviationsMatrix(ArchRProj = project_Peaks, peakAnnotation = \"Motif\",force = TRUE)\n",
    "\n",
    "# Graficar la variabilidad en la accesibilidad de motivos\n",
    "getVarDeviations(project_Peaks, name = \"MotifMatrix\", plot = TRUE)\n",
    "\n",
    "# Guardar el proyecto\n",
    "saveArchRProject(ArchRProj = project_Normalized,\n",
    "                 outputDirectory = file.path(getwd(),\"Analysis_scATACseq\"))"
   ]
  },
  {
   "cell_type": "markdown",
   "metadata": {
    "id": "1rUmcVTm67tB"
   },
   "source": [
    "Podemos mostrar una distribución de marcadores"
   ]
  },
  {
   "cell_type": "code",
   "execution_count": null,
   "metadata": {
    "executionInfo": {
     "elapsed": 4552608,
     "status": "aborted",
     "timestamp": 1690405518812,
     "user": {
      "displayName": "Adolfo Alexis Rojas Hidalgo",
      "userId": "18158766317608392773"
     },
     "user_tz": 240
    },
    "id": "m-xDCq5B67tB",
    "vscode": {
     "languageId": "r"
    }
   },
   "outputs": [],
   "source": [
    "# Define una lista de motivos a analizar\n",
    "motifs <- c(\"FOS\", \"JUNB\")\n",
    "\n",
    "# Recupera las características de motivos desde la matriz de motivos que coincidan con los motivos seleccionados\n",
    "markerMotifs <- getFeatures(\n",
    "  project_Peaks,\n",
    "  select = paste(motifs, \"_\", collapse = \"|\", sep = \"\"),\n",
    "  useMatrix = \"MotifMatrix\"\n",
    ")\n",
    "\n",
    "# Filtra las características de motivos para incluir solo aquellos con el prefijo \"z:\"\n",
    "markerMotifs <- grep(\"z:\", markerMotifs, value = TRUE)\n",
    "\n",
    "# Agrega pesos de imputación al proyecto ArchR para suavizar la visualización de datos\n",
    "project_Peaks <- addImputeWeights(project_Peaks)\n",
    "\n",
    "# Genera gráficos de enriquecimiento de motivos agrupados\n",
    "cowp <- plotGroups(\n",
    "  ArchRProj = project_Peaks,\n",
    "  groupBy = paste(\"Clusters\", slct.res, sep = \".\"),\n",
    "  colorBy = \"MotifMatrix\",\n",
    "  name = markerMotifs,\n",
    "  imputeWeights = getImputeWeights(project_Peaks)\n",
    ")\n",
    "\n",
    "# Organiza los gráficos en una cuadrícula con dos columnas\n",
    "do.call(cowplot::plot_grid, c(list(ncol = 2), cowp))"
   ]
  },
  {
   "cell_type": "markdown",
   "metadata": {
    "id": "omk8UBxn67tC"
   },
   "source": [
    "O visualice la desviación del motivo en UMAP (y vea si la desviación del motivo se correlaciona con la puntuación del gen FT)"
   ]
  },
  {
   "cell_type": "code",
   "execution_count": null,
   "metadata": {
    "executionInfo": {
     "elapsed": 4552607,
     "status": "aborted",
     "timestamp": 1690405518812,
     "user": {
      "displayName": "Adolfo Alexis Rojas Hidalgo",
      "userId": "18158766317608392773"
     },
     "user_tz": 240
    },
    "id": "aCpegir267tC",
    "vscode": {
     "languageId": "r"
    }
   },
   "outputs": [],
   "source": [
    "# Traza el enriquecimiento de motivos en la incrustación de UMAP\n",
    "motif.umap <- plotEmbedding(\n",
    "  ArchRProj = project_Peaks,\n",
    "  colorBy = \"MotifMatrix\",\n",
    "  name = sort(markerMotifs),\n",
    "  embedding = \"UMAP\",\n",
    "  imputeWeights = getImputeWeights(project_Peaks)\n",
    ")\n",
    "\n",
    "# Muestra los gráficos de UMAP de motivos en una cuadrícula\n",
    "do.call(cowplot::plot_grid, c(list(ncol = 2), motif.umap))\n",
    "\n",
    "# Recupera las características de la actividad génica relacionadas con los motivos seleccionados\n",
    "markerRNA <- getFeatures(\n",
    "  project_Peaks,\n",
    "  select = paste(motifs, \"$\", collapse = \"|\", sep = \"\"),\n",
    "  useMatrix = \"GeneScoreMatrix\"\n",
    ")\n",
    "\n",
    "# Traza el enriquecimiento de la matriz de puntuación génica en la incrustación de UMAP\n",
    "gene.umap <- plotEmbedding(\n",
    "  ArchRProj = project_Peaks,\n",
    "  colorBy = \"GeneScoreMatrix\",\n",
    "  name = sort(markerRNA),\n",
    "  embedding = \"UMAP\",\n",
    "  imputeWeights = getImputeWeights(project_Peaks)\n",
    ")\n",
    "\n",
    "# Muestra los gráficos de UMAP de la puntuación génica en una cuadrícula\n",
    "do.call(cowplot::plot_grid, c(list(ncol = 2), gene.umap))"
   ]
  },
  {
   "cell_type": "markdown",
   "metadata": {
    "id": "-xDUH7WK67tD"
   },
   "source": [
    "### 9.2. Prueba por pares entre agrupamientos\n",
    "\n",
    "Podemos identificar el enriquecimiento de motivos entre dos agrupamientos (basándonos en la accesibilidad diferencial de los picos entre estos dos agrupamientos)."
   ]
  },
  {
   "cell_type": "code",
   "execution_count": null,
   "metadata": {
    "executionInfo": {
     "elapsed": 4552605,
     "status": "aborted",
     "timestamp": 1690405518812,
     "user": {
      "displayName": "Adolfo Alexis Rojas Hidalgo",
      "userId": "18158766317608392773"
     },
     "user_tz": 240
    },
    "id": "-ZOPmm-J67tD",
    "vscode": {
     "languageId": "r"
    }
   },
   "outputs": [],
   "source": [
    "# Selecciona dos agrupamientos (clusters) para el análisis diferencial\n",
    "slct.Cl1=\"C9\"\n",
    "slct.Cl2=\"C11\"\n",
    "\n",
    "# Realiza un análisis diferencial entre C9 y C11\n",
    "markerTest <- getMarkerFeatures(ArchRProj = project_Peaks,\n",
    "                                useMatrix = \"PeakMatrix\",\n",
    "                                groupBy = paste(\"Clusters\",slct.res,sep=\".\"),\n",
    "                                testMethod = \"wilcoxon\",\n",
    "                                bias = c(\"TSSEnrichment\", \"log10(nFrags)\"),\n",
    "                                useGroups = slct.Cl1, bgdGroups = slct.Cl2)\n",
    "\n",
    "# Genera gráficos MA y Volcano\n",
    "map.Cl1vCl2 <- markerPlot(seMarker = markerTest, name = slct.Cl1,\n",
    "                        cutOff = \"FDR <= 0.1 & abs(Log2FC) >= 1\",\n",
    "                        plotAs = \"MA\")\n",
    "vp.Cl1vCl2 <- markerPlot(seMarker = markerTest, name = slct.Cl1,\n",
    "                       cutOff = \"FDR <= 0.1 & abs(Log2FC) >= 1\",\n",
    "                       plotAs = \"Volcano\")\n",
    "\n",
    "# Muestra los gráficos MA y Volcano\n",
    "map.Cl1vCl2 | vp.Cl1vCl2\n"
   ]
  },
  {
   "cell_type": "markdown",
   "metadata": {
    "id": "W6MwTSEA67tD"
   },
   "source": [
    "Motivo de enriquecimiento ascendente y motivo de enriquecimiento descendente (basado en la prueba por pares entre agrupamientos)"
   ]
  },
  {
   "cell_type": "code",
   "execution_count": null,
   "metadata": {
    "executionInfo": {
     "elapsed": 4552604,
     "status": "aborted",
     "timestamp": 1690405518812,
     "user": {
      "displayName": "Adolfo Alexis Rojas Hidalgo",
      "userId": "18158766317608392773"
     },
     "user_tz": 240
    },
    "id": "JmEuQWPx67tE",
    "vscode": {
     "languageId": "r"
    }
   },
   "outputs": [],
   "source": [
    "# Identifica los motivos significativamente enriquecidos en picos con mayor accesibilidad\n",
    "motifsUp <- peakAnnoEnrichment(ArchRProj = project_Peaks,\n",
    "                               seMarker = markerTest,\n",
    "                               peakAnnotation = \"Motif\",\n",
    "                               cutOff = \"FDR <= 0.1 & Log2FC >= 0.5\") # Selecciona motivos con FDR significativo y Log2FC >= 0.5\n",
    "\n",
    "# Crea un marco de datos con los nombres de los motivos y los valores ajustados de p\n",
    "df <- data.frame(TF = rownames(motifsUp), mlog10Padj = assay(motifsUp)[,1])\n",
    "df <- df[order(df$mlog10Padj, decreasing = TRUE),] # Ordena por significancia\n",
    "df$rank <- seq_len(nrow(df)) # Asigna un rango basado en la significancia\n",
    "\n",
    "# Traza los motivos enriquecidos de TF con etiquetas\n",
    "ggUp <- ggplot(df, aes(rank, mlog10Padj, color = mlog10Padj)) +\n",
    "    geom_point(size = 1) + ggrepel::geom_label_repel(\n",
    "        data = df[rev(seq_len(30)), ], aes(x = rank, y = mlog10Padj, label = TF),\n",
    "        size = 1.5, nudge_x = 2, color = \"black\") + theme_ArchR() +\n",
    "        ylab(\"-log10(P-adj) Motif Enrichment\") + xlab(\"Rank Sorted TFs Enriched\") +\n",
    "        scale_color_gradientn(colors = paletteContinuous(set = \"comet\"))\n",
    "\n",
    "# Identifica los motivos significativamente enriquecidos en picos con menor accesibilidad\n",
    "motifsDo <- peakAnnoEnrichment(ArchRProj = project_Peaks,\n",
    "                               seMarker = markerTest,\n",
    "                               peakAnnotation = \"Motif\",\n",
    "                               cutOff = \"FDR <= 0.1 & Log2FC <= -0.5\") # Selecciona motivos con Log2FC <= -0.5\n",
    "\n",
    "df <- data.frame(TF = rownames(motifsDo), mlog10Padj = assay(motifsDo)[,1])\n",
    "df <- df[order(df$mlog10Padj, decreasing = TRUE),] # Ordena por significancia\n",
    "df$rank <- seq_len(nrow(df)) # Asigna un rango\n",
    "\n",
    "# Traza los motivos TF que se pierden en la accesibilidad\n",
    "ggDo <- ggplot(df, aes(rank, mlog10Padj, color = mlog10Padj)) +\n",
    "    geom_point(size = 1) + ggrepel::geom_label_repel(\n",
    "        data = df[rev(seq_len(30)), ], aes(x = rank, y = mlog10Padj, label = TF),\n",
    "        size = 1.5, nudge_x = 2, color = \"black\") + theme_ArchR() +\n",
    "        ylab(\"-log10(FDR) Motif Enrichment\") + xlab(\"Rank Sorted TFs Enriched\") +\n",
    "        scale_color_gradientn(colors = paletteContinuous(set = \"comet\"))\n",
    "\n",
    "# Combina ambos gráficos\n",
    "ggUp | ggDo"
   ]
  },
  {
   "cell_type": "markdown",
   "metadata": {
    "id": "GZvn5y1G67tE"
   },
   "source": [
    "## 10. Identificación de reguladores positivos de FT\n",
    "\n",
    "Aunque ATAC-seq permite la identificación imparcial de FT, las familias de FT comparten motivos similares al observarlas en conjunto. Esto dificulta la identificación de FT específicos que puedan ser responsables de los cambios observados en la accesibilidad de la cromatina a sus sitios de unión previstos. \n",
    "\n",
    "Para solucionar este problema, ArchR identifica FT cuya expresión génica (puntuación génica) se correlaciona positivamente con los cambios en la accesibilidad de su motivo correspondiente (desviación del motivo obtenida mediante ChromVAR).\n"
   ]
  },
  {
   "cell_type": "markdown",
   "metadata": {
    "id": "deWbaULMh9aE"
   },
   "source": [
    "### Paso 1. Identificar motivos de FT desviados"
   ]
  },
  {
   "cell_type": "code",
   "execution_count": null,
   "metadata": {
    "executionInfo": {
     "elapsed": 4551217,
     "status": "aborted",
     "timestamp": 1690405518813,
     "user": {
      "displayName": "Adolfo Alexis Rojas Hidalgo",
      "userId": "18158766317608392773"
     },
     "user_tz": 240
    },
    "id": "DhRyv1v567tF",
    "vscode": {
     "languageId": "r"
    }
   },
   "outputs": [],
   "source": [
    "# Extrae las puntuaciones de desviación de motivos agrupadas por clusters\n",
    "seGroupMotif <- getGroupSE(ArchRProj = project_Peaks, useMatrix = \"MotifMatrix\", groupBy = paste(\"Clusters\", slct.res, sep=\".\"))\n",
    "\n",
    "# Extrae solo las desviaciones de Z-score\n",
    "seZ <- seGroupMotif[rowData(seGroupMotif)$seqnames == \"z\",]\n",
    "\n",
    "# Calcula el delta máximo en el Z-score entre todos los clusters\n",
    "rowData(seZ)$maxDelta <- lapply(seq_len(ncol(seZ)), function(x){\n",
    "  rowMaxs(assay(seZ) - assay(seZ)[,x])\n",
    "}) %>% Reduce(\"cbind\", .) %>% rowMaxs"
   ]
  },
  {
   "cell_type": "markdown",
   "metadata": {
    "id": "E7CVxkSM67tF"
   },
   "source": [
    "### Paso 2. Identificar los motivos de FT correlacionados y la puntuación/expresión del gen FT"
   ]
  },
  {
   "cell_type": "code",
   "execution_count": null,
   "metadata": {
    "executionInfo": {
     "elapsed": 4551214,
     "status": "aborted",
     "timestamp": 1690405518813,
     "user": {
      "displayName": "Adolfo Alexis Rojas Hidalgo",
      "userId": "18158766317608392773"
     },
     "user_tz": 240
    },
    "id": "1fUFF8ks67tF",
    "vscode": {
     "languageId": "r"
    }
   },
   "outputs": [],
   "source": [
    "# Calcula las correlaciones entre las puntuaciones génicas y las desviaciones de motivos\n",
    "corGSM_MM <- correlateMatrices(\n",
    "    ArchRProj = project_Peaks,\n",
    "    useMatrix1 = \"GeneScoreMatrix\",\n",
    "    useMatrix2 = \"MotifMatrix\",\n",
    "    reducedDims = \"Harmony\" # También se puede usar IterativeLSI\n",
    ")\n",
    "\n",
    "# Muestra las principales correlaciones\n",
    "head(corGSM_MM, 15)"
   ]
  },
  {
   "cell_type": "markdown",
   "metadata": {
    "id": "CvgKCLWS67tG"
   },
   "source": [
    "### Paso 3. Agregar la desviación delta máxima al marco de datos de correlación"
   ]
  },
  {
   "cell_type": "code",
   "execution_count": null,
   "metadata": {
    "executionInfo": {
     "elapsed": 4551213,
     "status": "aborted",
     "timestamp": 1690405518813,
     "user": {
      "displayName": "Adolfo Alexis Rojas Hidalgo",
      "userId": "18158766317608392773"
     },
     "user_tz": 240
    },
    "id": "qsCC26_S67tG",
    "vscode": {
     "languageId": "r"
    }
   },
   "outputs": [],
   "source": [
    "# Anota los motivos con el delta máximo observado entre agrupamientos (clusters)\n",
    "corGSM_MM$maxDelta <- rowData(seZ)[match(corGSM_MM$MotifMatrix_name, rowData(seZ)$name), \"maxDelta\"]"
   ]
  },
  {
   "cell_type": "markdown",
   "metadata": {
    "id": "bh--roNM67tH"
   },
   "source": [
    "### Paso 4. Identificar reguladores de FT positivos"
   ]
  },
  {
   "cell_type": "code",
   "execution_count": null,
   "metadata": {
    "executionInfo": {
     "elapsed": 4551211,
     "status": "aborted",
     "timestamp": 1690405518813,
     "user": {
      "displayName": "Adolfo Alexis Rojas Hidalgo",
      "userId": "18158766317608392773"
     },
     "user_tz": 240
    },
    "id": "G8G7bIo967tH",
    "vscode": {
     "languageId": "r"
    }
   },
   "outputs": [],
   "source": [
    "# Ordena por correlación absoluta y elimina motivos duplicados\n",
    "corGSM_MM <- corGSM_MM[order(abs(corGSM_MM$cor), decreasing = TRUE), ]\n",
    "corGSM_MM <- corGSM_MM[which(!duplicated(gsub(\"\\\\-.*\", \"\", corGSM_MM[,\"MotifMatrix_name\"]))), ]\n",
    "\n",
    "# Clasifica los TFs como positivos (PLUS), negativos (NEG) o neutros (NO)\n",
    "corGSM_MM$TFRegulator <- \"NO\"\n",
    "corGSM_MM$TFRegulator[which(corGSM_MM$cor > 0.1 & corGSM_MM$padj < 0.01 & corGSM_MM$maxDelta > quantile(corGSM_MM$maxDelta, 0.75))] <- \"PLUS\"\n",
    "corGSM_MM$TFRegulator[which(corGSM_MM$cor < (-0.1) & corGSM_MM$padj < 0.01 & corGSM_MM$maxDelta > quantile(corGSM_MM$maxDelta, 0.75))] <- \"NEG\"\n",
    "\n",
    "# Gráfico de dispersión de la correlación vs el delta máximo\n",
    "ggplot(data.frame(corGSM_MM), aes(cor, maxDelta, color = TFRegulator)) +\n",
    "  geom_point() +\n",
    "  theme_ArchR() +\n",
    "  geom_vline(xintercept = 0, lty = \"dashed\") +\n",
    "  scale_color_manual(values = c(\"NO\"=\"darkgrey\", \"PLUS\"=\"firebrick3\", \"NEG\"=\"royalblue1\")) +\n",
    "  xlab(\"Correlation To Gene Score\") +\n",
    "  ylab(\"Max TF Motif Delta\") +\n",
    "  scale_y_continuous(\n",
    "    expand = c(0,0),\n",
    "    limits = c(0, max(corGSM_MM$maxDelta)*1.05)\n",
    "  )\n",
    "\n",
    "# Muestra los principales reguladores\n",
    "head(as.matrix(sort(corGSM_MM[corGSM_MM$TFRegulator==\"PLUS\", c(\"GeneScoreMatrix_name\", \"MotifMatrix_name\", \"cor\", \"padj\", \"maxDelta\")])), 15)\n",
    "head(as.matrix(sort(corGSM_MM[corGSM_MM$TFRegulator==\"NEG\", c(\"GeneScoreMatrix_name\", \"MotifMatrix_name\", \"cor\", \"padj\", \"maxDelta\")])), 5)"
   ]
  },
  {
   "cell_type": "markdown",
   "metadata": {
    "id": "avs_VbGC67tH"
   },
   "source": [
    "## 11. Coaccesibilidad\n",
    "\n",
    "Para estudiar la regulación de los genes (enlaces promotores y potenciadores (enhancers)), ArchR propone el análisis de coaccesibilidad. La coaccesibilidad es una correlación en la accesibilidad entre dos picos en muchas células individuales. Dicho de otro modo, cuando el pico A es accesible en una sola célula, el pico B suele serlo también. Por ejemplo, la coaccesibilidad permite visualizar el/los potenciador(es) vinculado(s) al promotor del gen.\n",
    "\n",
    "<center>\n",
    "\n",
    "![<i><font size=1 color=\"grey\">from ArchR manual</font></i>](./Figures/ArchR_Coaccessibility.png){width=50% height=50%}\n",
    "\n",
    "</center>\n",
    "\n",
    "Observaciones: El análisis de coaccesibilidad identifica picos específicos de cada tipo celular. Aunque estos picos suelen ser accesibles juntos dentro de un mismo tipo celular (y a menudo no todos son accesibles en todos los demás tipos celulares), esto no explica necesariamente una relación reguladora entre ellos.\n"
   ]
  },
  {
   "cell_type": "code",
   "execution_count": null,
   "metadata": {
    "executionInfo": {
     "elapsed": 4549607,
     "status": "aborted",
     "timestamp": 1690405518813,
     "user": {
      "displayName": "Adolfo Alexis Rojas Hidalgo",
      "userId": "18158766317608392773"
     },
     "user_tz": 240
    },
    "id": "X_o6cRPq67tI",
    "vscode": {
     "languageId": "r"
    }
   },
   "outputs": [],
   "source": [
    "# Añade análisis de co-accesibilidad al proyecto ArchR utilizando las dimensiones de Harmony\n",
    "project_Peaks <- addCoAccessibility(ArchRProj = project_Peaks, reducedDims = \"Harmony\")\n",
    "\n",
    "# Recupera las interacciones de co-accesibilidad con corte de correlación y resolución\n",
    "cA <- getCoAccessibility(\n",
    "  ArchRProj = project_Peaks,\n",
    "  corCutOff = 0.5,\n",
    "  resolution = 10000,\n",
    "  returnLoops = TRUE\n",
    ")\n",
    "\n",
    "# Muestra las primeras 10 interacciones de co-accesibilidad\n",
    "head(cA$CoAccessibility, 10)\n",
    "\n",
    "# Genera una visualización de pista en el navegador del genoma para genes marcador seleccionados\n",
    "p <- plotBrowserTrack(\n",
    "  ArchRProj = project_Peaks,  # El proyecto ArchR que contiene los picos\n",
    "  groupBy = paste(\"Clusters\", slct.res, sep = \".\"),  # Agrupar por clusters seleccionados\n",
    "  geneSymbol = markerGenes,  # Los genes marcador a visualizar\n",
    "  upstream = 50000,  # Extiende 50 kb hacia arriba\n",
    "  downstream = 50000,  # Extiende 50 kb hacia abajo\n",
    "  loops = getCoAccessibility(project_Peaks)  # Obtiene las interacciones de co-accesibilidad\n",
    ")\n",
    "\n",
    "# Renderiza el gráfico del navegador del genoma\n",
    "grid::grid.newpage()  # Crea una nueva página para el gráfico\n",
    "grid::grid.draw(p$CD8A)  # Dibuja el gráfico para el gen CD8A"
   ]
  },
  {
   "cell_type": "markdown",
   "metadata": {
    "id": "ao6j09UL67tI"
   },
   "source": [
    "## 12. Huella (Footprinting)\n",
    "\n",
    "La huella de factores de transcripción (FT) permite predecir la ubicación precisa de unión de un FT en un locus específico. Esto se debe a que las bases de ADN directamente unidas al FT están protegidas de la transposición, mientras que las bases de ADN inmediatamente adyacentes a la unión del FT son accesibles."
   ]
  },
  {
   "cell_type": "code",
   "execution_count": null,
   "metadata": {
    "executionInfo": {
     "elapsed": 4546107,
     "status": "aborted",
     "timestamp": 1690405518813,
     "user": {
      "displayName": "Adolfo Alexis Rojas Hidalgo",
      "userId": "18158766317608392773"
     },
     "user_tz": 240
    },
    "id": "oyekL4lk67tJ",
    "vscode": {
     "languageId": "r"
    }
   },
   "outputs": [],
   "source": [
    "# Obtiene las posiciones de los motivos\n",
    "motifPositions <- getPositions(project_Peaks)\n",
    "\n",
    "# Elimina el prefijo 'z:' de los nombres de los motivos\n",
    "markerMotifs <- gsub(\"z:\", \"\", markerMotifs)\n",
    "\n",
    "# Calcula las huellas de los motivos\n",
    "seFoot <- getFootprints(\n",
    "  ArchRProj = project_Peaks,  # Proyecto ArchR\n",
    "  positions = motifPositions[markerMotifs],  # Las posiciones de los motivos seleccionados\n",
    "  groupBy = paste(\"Clusters\", slct.res, sep=\".\")  # Agrupar por clusters seleccionados\n",
    ")\n",
    "\n",
    "# Grafica las huellas de los motivos con corrección de sesgo\n",
    "plotFootprints(seFoot = seFoot,\n",
    "               ArchRProj = project_Peaks,\n",
    "               normMethod = \"Subtract\",  # Método de normalización: Restar, Opciones: Dividir, Ninguno\n",
    "               plotName = paste(\"Footprints-Subtract-Bias\", slct.res, \"cisbp\", sep=\".\"),\n",
    "               addDOC = FALSE,  # No agregar la densidad de la curva de documento (DOC)\n",
    "               smoothWindow = 5)  # Ventana de suavizado"
   ]
  },
  {
   "cell_type": "markdown",
   "metadata": {
    "id": "whg7dcp667tJ"
   },
   "source": [
    "## 13. Análisis de trayectoria\n",
    "\n",
    "ArchR propone crear una trayectoria celular que aproxima la diferenciación de un grupo celular a otro. Tras definir la estructura principal de la trayectoria, que consiste en un vector ordenado de etiquetas de grupos celulares, ArchR identifica un valor de pseudotiempo para cada célula de la trayectoria. En los resultados, ArchR proporciona UMAPs para visualizar la trayectoria pseudotemporal y mapas de calor para rastrear señales de picos, patrones y genes en función de la pseudotemporalidad.\n"
   ]
  },
  {
   "cell_type": "markdown",
   "metadata": {
    "id": "fhJoEKUAiFOy"
   },
   "source": [
    "### 13.1. Construcción de la trayectoria\n",
    "\n",
    "En primer lugar, ArchR produce un valor de pseudo-tiempo para cada célula en la trayectoria, que puede visualizarse en UMAP y usarse para mostrar una flecha que aproxima la ruta de la trayectoria desde el ajuste de ranura (spline)."
   ]
  },
  {
   "cell_type": "code",
   "execution_count": null,
   "metadata": {
    "executionInfo": {
     "elapsed": 4544628,
     "status": "aborted",
     "timestamp": 1690405518813,
     "user": {
      "displayName": "Adolfo Alexis Rojas Hidalgo",
      "userId": "18158766317608392773"
     },
     "user_tz": 240
    },
    "id": "iXAooS0z67tK",
    "vscode": {
     "languageId": "r"
    }
   },
   "outputs": [],
   "source": [
    "# Definir una trayectoria (por ejemplo, C9 a C11)\n",
    "trajectory <- c(\"C9\", \"C11\")\n",
    "traj.name <- \"TF.C9.C11\"\n",
    "\n",
    "# Añadir la trayectoria al proyecto\n",
    "project_Peaks <- addTrajectory(\n",
    "    ArchRProj = project_Peaks,\n",
    "    name = traj.name,\n",
    "    groupBy = paste(\"Clusters\", slct.res, sep=\".\"),\n",
    "    trajectory = trajectory,\n",
    "    embedding = \"UMAP\",\n",
    "    force = TRUE\n",
    ")\n",
    "\n",
    "# Graficar la trayectoria\n",
    "plotTraj <- plotTrajectory(project_Peaks, trajectory = traj.name, colorBy = \"cellColData\", name = traj.name, embedding = \"UMAP\")\n",
    "plotTraj[[1]] # Muestra la primera visualización de la trayectoria"
   ]
  },
  {
   "cell_type": "markdown",
   "metadata": {
    "id": "oXzmE8vd67tK"
   },
   "source": [
    "### 13.2. Observación de genes específicos\n",
    "\n",
    "Es posible visualizar esta trayectoria, pero coloreando las células según el valor de puntuación de un gen específico."
   ]
  },
  {
   "cell_type": "code",
   "execution_count": null,
   "metadata": {
    "executionInfo": {
     "elapsed": 4544626,
     "status": "aborted",
     "timestamp": 1690405518814,
     "user": {
      "displayName": "Adolfo Alexis Rojas Hidalgo",
      "userId": "18158766317608392773"
     },
     "user_tz": 240
    },
    "id": "4fE5A4mI67tL",
    "vscode": {
     "languageId": "r"
    }
   },
   "outputs": [],
   "source": [
    "# Graficar la trayectoria del gen CD4 usando la GeneScoreMatrix, visualizada en el embebido UMAP\n",
    "p_gene <- plotTrajectory(project_Peaks, trajectory = traj.name, colorBy = \"GeneScoreMatrix\", \n",
    "                         name = \"CD4\", continuousSet = \"horizonExtra\", embedding = \"UMAP\")\n",
    "\n",
    "# Mostrar los dos primeros gráficos de la trayectoria lado a lado\n",
    "p_gene[[1]] | p_gene[[2]]"
   ]
  },
  {
   "cell_type": "markdown",
   "metadata": {
    "id": "6S4gNRO-67tL"
   },
   "source": [
    "### 13.3. Mapas de calor de pseudotiempo\n",
    "\n",
    "Finalmente, ArchR permite realizar mapas de calor para visualizar cambios en muchas características (picos, puntajes genéticos o motivos) a lo largo del pseudotiempo."
   ]
  },
  {
   "cell_type": "code",
   "execution_count": null,
   "metadata": {
    "executionInfo": {
     "elapsed": 4544624,
     "status": "aborted",
     "timestamp": 1690405518814,
     "user": {
      "displayName": "Adolfo Alexis Rojas Hidalgo",
      "userId": "18158766317608392773"
     },
     "user_tz": 240
    },
    "id": "gkLjz-GO67tM",
    "vscode": {
     "languageId": "r"
    }
   },
   "outputs": [],
   "source": [
    "# Obtener la trayectoria del puntaje génico (normalizada con log2)\n",
    "trajGSM <- getTrajectory(ArchRProj = project_Peaks, name = traj.name, useMatrix = \"GeneScoreMatrix\", log2Norm = TRUE)\n",
    "\n",
    "# Graficar el mapa de calor para la trayectoria del puntaje génico con la paleta de colores \"horizonExtra\"\n",
    "p_trajGSM <- plotTrajectoryHeatmap(trajGSM, pal = paletteContinuous(set = \"horizonExtra\"))\n",
    "\n",
    "# Generar la matriz del mapa de calor para la trayectoria del puntaje génico\n",
    "p_trajGSM.matrix <- plotTrajectoryHeatmap(trajGSM, pal = paletteContinuous(set = \"horizonExtra\"), returnMatrix = TRUE)\n",
    "\n",
    "# Obtener la trayectoria de accesibilidad de los picos (normalizada con log2)\n",
    "trajPM  <- getTrajectory(ArchRProj = project_Peaks, name = traj.name, useMatrix = \"PeakMatrix\", log2Norm = TRUE)\n",
    "\n",
    "# Graficar el mapa de calor para la trayectoria de accesibilidad de los picos con la paleta de colores \"solarExtra\"\n",
    "p_trajPM <- plotTrajectoryHeatmap(trajPM, pal = paletteContinuous(set = \"solarExtra\"))\n",
    "\n",
    "# Generar la matriz del mapa de calor para la trayectoria de accesibilidad de los picos\n",
    "p_trajPM.matrix <- plotTrajectoryHeatmap(trajPM, pal = paletteContinuous(set = \"solarExtra\"), returnMatrix = TRUE)\n",
    "\n",
    "# Obtener la trayectoria de actividad del motivo (sin normalización log2)\n",
    "trajMM  <- getTrajectory(ArchRProj = project_Peaks, name = traj.name, useMatrix = \"MotifMatrix\", log2Norm = FALSE)\n",
    "\n",
    "# Graficar el mapa de calor para la trayectoria de actividad del motivo con la paleta de colores \"solarExtra\"\n",
    "p_trajMM <- plotTrajectoryHeatmap(trajMM, pal = paletteContinuous(set = \"solarExtra\"))\n",
    "\n",
    "# Generar la matriz del mapa de calor para la trayectoria de actividad del motivo\n",
    "p_trajMM.matrix <- plotTrajectoryHeatmap(trajMM, pal = paletteContinuous(set = \"solarExtra\"), returnMatrix = TRUE)\n",
    "\n",
    "# Mostrar los mapas de calor\n",
    "p_trajGSM\n",
    "p_trajPM\n",
    "p_trajMM"
   ]
  },
  {
   "cell_type": "markdown",
   "metadata": {
    "id": "4yoiESAD67tP"
   },
   "source": [
    "### 13.3. Análisis integrativo en pseudotiempo\n",
    "\n",
    "Como se mostró anteriormente, ArchR también permite realizar análisis integrativo para identificar FTs positivos mediante puntuaciones genéticas y accesibilidad de motivos en pseudotiempo, seguir su variabilidad en pseudotiempo y comprender su papel en esta trayectoria. Para ello, ArchR propone usar la función correlateTrajectories(), que toma dos objetos SummarizedExperiment obtenidos de la función getTrajectories() que obtuvimos anteriormente.\n",
    "\n",
    "* Paso 1. Identifique y seleccione los motivos cuyo puntaje genético y la accesibilidad del motivo de FT están correlacionados:\n"
   ]
  },
  {
   "cell_type": "code",
   "execution_count": null,
   "metadata": {
    "executionInfo": {
     "elapsed": 4544622,
     "status": "aborted",
     "timestamp": 1690405518814,
     "user": {
      "displayName": "Adolfo Alexis Rojas Hidalgo",
      "userId": "18158766317608392773"
     },
     "user_tz": 240
    },
    "id": "-yhEyl1x67tP",
    "vscode": {
     "languageId": "r"
    }
   },
   "outputs": [],
   "source": [
    "# Calcular la correlación entre la trayectoria del puntaje génico (trajGSM) y la trayectoria del motivo (trajMM)\n",
    "# Usando criterios de baja exigencia: umbral de correlación de 0.2, umbrales de varianza de 0.5 para ambas matrices\n",
    "corGSM_MM <- correlateTrajectories(trajGSM, trajMM, \n",
    "                                   corCutOff = 0.2, varCutOff1 = 0.5, varCutOff2 = 0.5)\n",
    "\n",
    "# Filtrar las trayectorias de puntaje génico y motivo según los resultados de la correlación\n",
    "flt_trajGSM <- trajGSM[corGSM_MM[[1]]$name1, ]\n",
    "flt_trajMM <- trajMM[corGSM_MM[[1]]$name2, ]"
   ]
  },
  {
   "cell_type": "markdown",
   "metadata": {
    "id": "BEvGNRsN67tQ"
   },
   "source": [
    "* Paso 2. Cree una nueva trayectoria para visualizar, uno al lado del otro, el motivo de FT según la puntuación genética y el enriquecimiento del motivo FT:"
   ]
  },
  {
   "cell_type": "code",
   "execution_count": null,
   "metadata": {
    "executionInfo": {
     "elapsed": 4544620,
     "status": "aborted",
     "timestamp": 1690405518814,
     "user": {
      "displayName": "Adolfo Alexis Rojas Hidalgo",
      "userId": "18158766317608392773"
     },
     "user_tz": 240
    },
    "id": "Sn9F6ux267tQ",
    "vscode": {
     "languageId": "r"
    }
   },
   "outputs": [],
   "source": [
    "# Crear un objeto de trayectoria combinado usando la trayectoria del puntaje génico filtrada (flt_trajGSM)\n",
    "combinedTraj <- flt_trajGSM\n",
    "\n",
    "# Normalizar y combinar las trayectorias de puntaje génico (flt_trajGSM) y motivo (flt_trajMM)\n",
    "# - Escalar cada fila (gen/motivo) por separado para ambas matrices\n",
    "# - Transponer el resultado y sumarlos para integrar la información de ambas fuentes\n",
    "assay(combinedTraj, withDimnames=FALSE) <- t(apply(assay(flt_trajGSM), 1, scale)) + \n",
    "                                           t(apply(assay(flt_trajMM), 1, scale))\n",
    "\n",
    "# Generar una matriz del mapa de calor a partir de la trayectoria combinada\n",
    "# - returnMat = TRUE devuelve la matriz en lugar de graficar\n",
    "# - varCutOff = 0 asegura que no haya filtrado basado en la varianza\n",
    "combinedMat <- plotTrajectoryHeatmap(combinedTraj, returnMat = TRUE, varCutOff = 0)\n",
    "\n",
    "# Determinar el orden de las filas (genes/motivos) en la matriz combinada\n",
    "rowOrder <- match(rownames(combinedMat), rownames(flt_trajGSM))\n",
    "\n",
    "# Graficar el mapa de calor para la trayectoria del puntaje génico, manteniendo el orden de las filas consistente con la matriz combinada\n",
    "ht_GSM <- plotTrajectoryHeatmap(flt_trajGSM, pal = paletteContinuous(set = \"horizonExtra\"),  \n",
    "                                varCutOff = 0, rowOrder = rowOrder)\n",
    "\n",
    "# Graficar el mapa de calor para la trayectoria del motivo, manteniendo el orden de las filas consistente con la matriz combinada\n",
    "ht_MM <- plotTrajectoryHeatmap(flt_trajMM, pal = paletteContinuous(set = \"solarExtra\"), \n",
    "                               varCutOff = 0, rowOrder = rowOrder)\n",
    "\n",
    "# Mostrar ambos mapas de calor lado a lado para la comparación\n",
    "ht_GSM + ht_MM\n"
   ]
  },
  {
   "cell_type": "markdown",
   "metadata": {
    "id": "1QdXdkkF67tQ"
   },
   "source": [
    "## Información de la sesión"
   ]
  },
  {
   "cell_type": "code",
   "execution_count": null,
   "metadata": {
    "executionInfo": {
     "elapsed": 4542942,
     "status": "aborted",
     "timestamp": 1690405518814,
     "user": {
      "displayName": "Adolfo Alexis Rojas Hidalgo",
      "userId": "18158766317608392773"
     },
     "user_tz": 240
    },
    "id": "pG_hWrQ267tR",
    "vscode": {
     "languageId": "r"
    }
   },
   "outputs": [],
   "source": [
    "# Mostrar la información de la sesión para hacer un seguimiento de las versiones de los paquetes\n",
    "sessionInfo()"
   ]
  }
 ],
 "metadata": {
  "anaconda-cloud": "",
  "colab": {
   "collapsed_sections": [
    "YUGMvNhS67si",
    "czlwG2Kj67sj",
    "QXrfWICGif6w",
    "NGja-Ldz67sw",
    "Y3sQj-nr67sy",
    "i4qJbc6D67sz",
    "fdcPe0iF67s1",
    "nh7kBGEl67s4",
    "Mumkz81uhz6x",
    "GZvn5y1G67tE",
    "deWbaULMh9aE",
    "CvgKCLWS67tG",
    "bh--roNM67tH",
    "avs_VbGC67tH",
    "whg7dcp667tJ"
   ],
   "provenance": [
    {
     "file_id": "1oIOmcjhz_Pphp6k8TzekELl1AESEUew9",
     "timestamp": 1684465304874
    }
   ]
  },
  "kernelspec": {
   "display_name": "R",
   "langauge": "R",
   "name": "ir"
  },
  "language_info": {
   "codemirror_mode": "r",
   "file_extension": ".r",
   "mimetype": "text/x-r-source",
   "name": "R",
   "pygments_lexer": "r",
   "version": "3.4.1"
  }
 },
 "nbformat": 4,
 "nbformat_minor": 0
}
