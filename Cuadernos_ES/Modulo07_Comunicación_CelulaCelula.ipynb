{
 "cells": [
  {
   "cell_type": "markdown",
   "metadata": {
    "id": "b5fMowVXinnt"
   },
   "source": [
    "# Descifrando la comunicación célula-célula en datos de transcriptómica de célula individual\n"
   ]
  },
  {
   "cell_type": "markdown",
   "metadata": {
    "id": "1qOd4r2Siqug"
   },
   "source": [
    "## Instalar las librerías requeridas"
   ]
  },
  {
   "cell_type": "code",
   "execution_count": null,
   "metadata": {
    "colab": {
     "base_uri": "https://localhost:8080/"
    },
    "executionInfo": {
     "elapsed": 24579,
     "status": "ok",
     "timestamp": 1714163594980,
     "user": {
      "displayName": "Adolfo Alexis Rojas Hidalgo",
      "userId": "18158766317608392773"
     },
     "user_tz": 240
    },
    "id": "QJ1QZh_4zV-1",
    "outputId": "9dc41325-a04d-4778-b522-e03df5a48ad4",
    "vscode": {
     "languageId": "r"
    }
   },
   "outputs": [],
   "source": [
    "# Descargar un script de shell para agregar los repositorios de CRAN a Ubuntu Jammy\n",
    "download.file(\"https://github.com/eddelbuettel/r2u/raw/master/inst/scripts/add_cranapt_jammy.sh\",\n",
    "              \"add_cranapt_jammy.sh\")\n",
    "# Cambiar los permisos del archivo para hacerlo ejecutable\n",
    "Sys.chmod(\"add_cranapt_jammy.sh\", \"0755\")\n",
    "# Ejecutar el script de shell\n",
    "system(\"./add_cranapt_jammy.sh\")\n",
    "\n",
    "# Habilitar el gestor de paquetes binarios (bspm) para manejar paquetes del sistema y de CRAN\n",
    "bspm::enable()\n",
    "options(bspm.version.check=FALSE)"
   ]
  },
  {
   "cell_type": "markdown",
   "metadata": {
    "id": "U2cdonBMivhZ"
   },
   "source": [
    "Crearemos una función en R que realice llamadas al sistema."
   ]
  },
  {
   "cell_type": "code",
   "execution_count": null,
   "metadata": {
    "executionInfo": {
     "elapsed": 2,
     "status": "ok",
     "timestamp": 1714163594981,
     "user": {
      "displayName": "Adolfo Alexis Rojas Hidalgo",
      "userId": "18158766317608392773"
     },
     "user_tz": 240
    },
    "id": "6uBhWJgUiHVH",
    "vscode": {
     "languageId": "r"
    }
   },
   "outputs": [],
   "source": [
    "# Definir una función para ejecutar comandos de shell e imprimir la salida\n",
    "shell_call <- function(command, ...) {\n",
    "  result <- system(command, intern = TRUE, ...)\n",
    "  cat(paste0(result, collapse = \"\\n\"))\n",
    "}"
   ]
  },
  {
   "cell_type": "markdown",
   "metadata": {
    "id": "I2EVnawvpIa8"
   },
   "source": [
    "Instalar las librerías requeridas"
   ]
  },
  {
   "cell_type": "code",
   "execution_count": null,
   "metadata": {
    "colab": {
     "base_uri": "https://localhost:8080/"
    },
    "executionInfo": {
     "elapsed": 8179,
     "status": "ok",
     "timestamp": 1714163603158,
     "user": {
      "displayName": "Adolfo Alexis Rojas Hidalgo",
      "userId": "18158766317608392773"
     },
     "user_tz": 240
    },
    "id": "1EgIyBgfmlfB",
    "outputId": "bf074f50-e4ca-45ad-caf0-d4c3bf170d5d",
    "vscode": {
     "languageId": "r"
    }
   },
   "outputs": [],
   "source": [
    "# Instalar los paquetes de R requeridos\n",
    "install.packages(\"R.utils\")\n",
    "# Instalar Seurat Wrappers desde GitHub (comentado)\n",
    "# remotes::install_github('satijalab/seurat-wrappers@d28512f804d5fe05e6d68900ca9221020d52cf1d', upgrade=F)\n",
    "\n",
    "# Instalar BiocManager si no está instalado\n",
    "if (!require(\"BiocManager\", quietly = TRUE))\n",
    "    install.packages(\"BiocManager\", quiet = T)\n",
    "\n",
    "# Instalar Harmony y LIANA desde GitHub\n",
    "install.packages(\"harmony\")\n",
    "remotes::install_github('saezlab/liana', upgrade=F)"
   ]
  },
  {
   "cell_type": "markdown",
   "metadata": {
    "id": "vjg2X61cpzdh"
   },
   "source": [
    "## Introducción"
   ]
  },
  {
   "cell_type": "markdown",
   "metadata": {
    "id": "wsg9Zkncp2gF"
   },
   "source": [
    "LIANA (Ligand-Receptor Inference Analysis) ofrece una variedad de métodos estadísticos para inferir interacciones ligando-receptor a partir de datos transcriptómicos de células individuales, utilizando conocimiento previo. Este cuaderno tiene como objetivo demostrar cómo usar LIANA de forma básica con nuestros datos de interés.\n",
    "\n",
    "Pasos para usar LIANA:\n",
    "1. Preparación de Datos:\n",
    "* Cargar tus datos transcriptómicos de células individuales en el formato adecuado.\n",
    "* Asegurarse de que los datos estén normalizados y correctamente anotados.\n",
    "\n",
    "2. Instalación e Importación de LIANA:\n",
    "* Instalar el paquete LIANA, si no está instalado, usando el comando pip install liana.\n",
    "* Importar el paquete en tu cuaderno con import liana.\n",
    "\n",
    "3. Configuración de LIANA:\n",
    "* Establecer los parámetros necesarios para el análisis, como el tipo celular y las vías de señalización de interés.\n",
    "* Utilizar funciones específicas de LIANA para definir las interacciones ligando-receptor que deseas investigar.\n",
    "\n",
    "4. Ejecución del Análisis:\n",
    "* Realizar el análisis utilizando los métodos estadísticos disponibles en LIANA.\n",
    "* Analizar los resultados para identificar interacciones significativas entre ligandos y receptores en tus muestras.\n",
    "\n",
    "5. Interpretación de Resultados:\n",
    "* Visualizar los resultados con las herramientas integradas de visualización o exportar los datos para un análisis adicional.\n",
    "* Interpretar las interacciones identificadas en el contexto biológico de tu estudio.\n",
    "\n",
    "![LIANA](https://saezlab.github.io/liana/articles/ligrec_pipe.png)"
   ]
  },
  {
   "cell_type": "code",
   "execution_count": null,
   "metadata": {
    "executionInfo": {
     "elapsed": 3706,
     "status": "ok",
     "timestamp": 1714163606863,
     "user": {
      "displayName": "Adolfo Alexis Rojas Hidalgo",
      "userId": "18158766317608392773"
     },
     "user_tz": 240
    },
    "id": "kznjhMwAuIVD",
    "vscode": {
     "languageId": "r"
    }
   },
   "outputs": [],
   "source": [
    "# Instala el paquete **Seurat** para el análisis de células individuales.\n",
    "install.packages(\"Seurat\")"
   ]
  },
  {
   "cell_type": "code",
   "execution_count": null,
   "metadata": {
    "executionInfo": {
     "elapsed": 4,
     "status": "ok",
     "timestamp": 1714163606863,
     "user": {
      "displayName": "Adolfo Alexis Rojas Hidalgo",
      "userId": "18158766317608392773"
     },
     "user_tz": 240
    },
    "id": "XFQkSMjPo1U6",
    "vscode": {
     "languageId": "r"
    }
   },
   "outputs": [],
   "source": [
    "# Cargar las librerias necesarias para la manipulación y el análisis de datos\n",
    "library(tidyverse)  # Conjunto de paquetes para ciencia de datos\n",
    "library(magrittr)   # Operador pipe\n",
    "library(liana)      # Análisis de comunicación célula-célula \n",
    "library(Seurat)     # Análisis de datos de RNA-seq de célula única"
   ]
  },
  {
   "cell_type": "markdown",
   "metadata": {
    "id": "7h8NnlBbvWh2"
   },
   "source": [
    "En esta sección, mostraremos todos los métodos implementados por LIANA a partir de diversas herramientas. Cada método infiere interacciones relevantes ligando-receptor basándose en diferentes supuestos. Típicamente, cada método entrega dos puntajes para cada par ligando-receptor:\n",
    "\n",
    "1. **Puntaje de magnitud (fuerza)**: Este puntaje indica la intensidad o fuerza de la interacción.\n",
    "2. **Puntaje de especificidad**: Este puntaje refleja cuán específica es la interacción para un par determinado de identidades celulares."
   ]
  },
  {
   "cell_type": "code",
   "execution_count": null,
   "metadata": {
    "colab": {
     "base_uri": "https://localhost:8080/",
     "height": 34
    },
    "executionInfo": {
     "elapsed": 4,
     "status": "ok",
     "timestamp": 1714163606863,
     "user": {
      "displayName": "Adolfo Alexis Rojas Hidalgo",
      "userId": "18158766317608392773"
     },
     "user_tz": 240
    },
    "id": "DNS_nfZ9o2pn",
    "outputId": "ecb208a5-eb3e-41ff-9cac-2074d9c37d2c",
    "vscode": {
     "languageId": "r"
    }
   },
   "outputs": [],
   "source": [
    "# Mostrar los métodos disponibles en la sesión actual de R\n",
    "show_methods()"
   ]
  },
  {
   "cell_type": "markdown",
   "metadata": {
    "id": "6a4kJL_QvxyU"
   },
   "source": [
    "Los diferentes recursos de interacciones ligando-receptor se pueden encontrar aquí. El consenso integra todos los demás recursos."
   ]
  },
  {
   "cell_type": "code",
   "execution_count": null,
   "metadata": {
    "colab": {
     "base_uri": "https://localhost:8080/",
     "height": 52
    },
    "executionInfo": {
     "elapsed": 294,
     "status": "ok",
     "timestamp": 1714163607154,
     "user": {
      "displayName": "Adolfo Alexis Rojas Hidalgo",
      "userId": "18158766317608392773"
     },
     "user_tz": 240
    },
    "id": "LQdFYIeFqHf2",
    "outputId": "f491905c-3a05-4add-f2cc-e66111e0dd2a",
    "vscode": {
     "languageId": "r"
    }
   },
   "outputs": [],
   "source": [
    "# Mostrar los recursos disponibles en la sesión actual de R\n",
    "show_resources()"
   ]
  },
  {
   "cell_type": "markdown",
   "metadata": {
    "id": "imGhC2zTz1F1"
   },
   "source": [
    "## Cargando datos"
   ]
  },
  {
   "cell_type": "markdown",
   "metadata": {
    "id": "v5fMnPapoqol"
   },
   "source": [
    "Aquí cargamos nuestros datos de interés para estudiar la comunicación célula-célula."
   ]
  },
  {
   "cell_type": "code",
   "execution_count": null,
   "metadata": {
    "executionInfo": {
     "elapsed": 8254,
     "status": "ok",
     "timestamp": 1714163650302,
     "user": {
      "displayName": "Adolfo Alexis Rojas Hidalgo",
      "userId": "18158766317608392773"
     },
     "user_tz": 240
    },
    "id": "snNnQfejYsbO",
    "vscode": {
     "languageId": "r"
    }
   },
   "outputs": [],
   "source": [
    "# Descargar el conjunto de datos de COVID-19 (archivo RDS) desde Dropbox\n",
    "download.file(\"https://www.dropbox.com/scl/fi/1ysew52kr8o2riahzubcw/BALF-COVID19-Liao_et_al-NatMed-2020.rds?rlkey=tg3tpn8la6oth25wvx3a22qt9&dl=1\", \"COVID.rds\")"
   ]
  },
  {
   "cell_type": "code",
   "execution_count": null,
   "metadata": {
    "executionInfo": {
     "elapsed": 14273,
     "status": "ok",
     "timestamp": 1714163664568,
     "user": {
      "displayName": "Adolfo Alexis Rojas Hidalgo",
      "userId": "18158766317608392773"
     },
     "user_tz": 240
    },
    "id": "lgWJAv3zw_OQ",
    "vscode": {
     "languageId": "r"
    }
   },
   "outputs": [],
   "source": [
    "# Leer el archivo RDS en una variable llamada 'testdata'\n",
    "testdata <- readRDS('COVID.rds')"
   ]
  },
  {
   "cell_type": "code",
   "execution_count": null,
   "metadata": {
    "colab": {
     "base_uri": "https://localhost:8080/"
    },
    "executionInfo": {
     "elapsed": 3,
     "status": "ok",
     "timestamp": 1714163664568,
     "user": {
      "displayName": "Adolfo Alexis Rojas Hidalgo",
      "userId": "18158766317608392773"
     },
     "user_tz": 240
    },
    "id": "oXcrZfhUz7nW",
    "outputId": "71c5cf94-4263-459d-8451-0b08684694bf",
    "vscode": {
     "languageId": "r"
    }
   },
   "outputs": [],
   "source": [
    "# Mostrar una visión general de la estructura de 'testdata'\n",
    "testdata %>% dplyr::glimpse()"
   ]
  },
  {
   "cell_type": "code",
   "execution_count": null,
   "metadata": {
    "executionInfo": {
     "elapsed": 3409,
     "status": "ok",
     "timestamp": 1714163672496,
     "user": {
      "displayName": "Adolfo Alexis Rojas Hidalgo",
      "userId": "18158766317608392773"
     },
     "user_tz": 240
    },
    "id": "urTCplRfgPG8",
    "vscode": {
     "languageId": "r"
    }
   },
   "outputs": [],
   "source": [
    "# Esta condición específica 'group == \"S\"' se está utilizando para filtrar las filas. Solo se incluirán en el subconjunto aquellas filas donde el valor de la columna grupo sea igual a \"S\"\n",
    "testdata <- subset(x = testdata, subset = group == \"S\")"
   ]
  },
  {
   "cell_type": "code",
   "execution_count": null,
   "metadata": {
    "executionInfo": {
     "elapsed": 2,
     "status": "ok",
     "timestamp": 1714163672496,
     "user": {
      "displayName": "Adolfo Alexis Rojas Hidalgo",
      "userId": "18158766317608392773"
     },
     "user_tz": 240
    },
    "id": "xl9GFjY4inBA",
    "vscode": {
     "languageId": "r"
    }
   },
   "outputs": [],
   "source": [
    "# # Esta función se usa para obtener o establecer los identificadores de un objeto. La nueva columna se llama \"celltype\".\n",
    "Idents(testdata) <- \"celltype\""
   ]
  },
  {
   "cell_type": "code",
   "execution_count": null,
   "metadata": {
    "executionInfo": {
     "elapsed": 4601,
     "status": "ok",
     "timestamp": 1714163677096,
     "user": {
      "displayName": "Adolfo Alexis Rojas Hidalgo",
      "userId": "18158766317608392773"
     },
     "user_tz": 240
    },
    "id": "4r-ZpqPGi7Ts",
    "vscode": {
     "languageId": "r"
    }
   },
   "outputs": [],
   "source": [
    "# Normalizar los datos de RNA-seq de una sola célula usando Seurat\n",
    "testdata <- Seurat::NormalizeData(testdata, verbose = FALSE)"
   ]
  },
  {
   "cell_type": "code",
   "execution_count": null,
   "metadata": {
    "colab": {
     "base_uri": "https://localhost:8080/"
    },
    "executionInfo": {
     "elapsed": 8,
     "status": "ok",
     "timestamp": 1714163677096,
     "user": {
      "displayName": "Adolfo Alexis Rojas Hidalgo",
      "userId": "18158766317608392773"
     },
     "user_tz": 240
    },
    "id": "i67x4qgb5U8u",
    "outputId": "4f901fef-a5c5-417e-da11-9363c3cdd847",
    "vscode": {
     "languageId": "r"
    }
   },
   "outputs": [],
   "source": [
    "# Mostrar la estructura del conjunto de datos procesado\n",
    "testdata %>% dplyr::glimpse()"
   ]
  },
  {
   "cell_type": "markdown",
   "metadata": {
    "id": "7Lt2bhPcoxWZ"
   },
   "source": [
    "## Ejecutando LIANA"
   ]
  },
  {
   "cell_type": "markdown",
   "metadata": {
    "id": "SJP0H_1AozzB"
   },
   "source": [
    "Para ejecutar LIANA, puedes elegir cualquiera de los métodos que soporta. En este ejemplo, usaremos la implementación de [CellPhoneDB](https://www.nature.com/articles/s41596-020-0292-x).\n",
    "\n",
    "La función `liana_wrap` invoca múltiples métodos, cada uno operando con el/los recurso(s) proporcionado(s). Si no se especifica un ejecutará todos los métodos implementados en LIANA. Además, el recurso`consensus` se usa por defecto."
   ]
  },
  {
   "cell_type": "code",
   "execution_count": null,
   "metadata": {
    "colab": {
     "base_uri": "https://localhost:8080/"
    },
    "executionInfo": {
     "elapsed": 40862,
     "status": "ok",
     "timestamp": 1714163727803,
     "user": {
      "displayName": "Adolfo Alexis Rojas Hidalgo",
      "userId": "18158766317608392773"
     },
     "user_tz": 240
    },
    "id": "vV2jImJY0zMU",
    "outputId": "6d31cc94-c994-42dd-f8ba-bb70102cee10",
    "vscode": {
     "languageId": "r"
    }
   },
   "outputs": [],
   "source": [
    "cpdb_result <- liana_wrap(testdata, # Esta función del paquete LIANA se usa para realizar análisis de interacciones célula-célula utilizando diferentes métodos\n",
    "                          method = 'cellphonedb',\n",
    "                          resource = c('CellPhoneDB'), # Especifica que se usará el método CellPhoneDB\n",
    "                          permutation.params = list(nperms=100, # Define los parámetros de permutación. nperms=100: Número de permutaciones\n",
    "                                                    parallelize=FALSE, # Indica si la ejecución debe ser paralelizada\n",
    "                                                    workers=4), # Número de trabajadores a usar si la ejecución fuera paralelizada\n",
    "                          expr_prop=0.05) # Proporción mínima de expresión para considerar una interacción como válida"
   ]
  },
  {
   "cell_type": "code",
   "execution_count": null,
   "metadata": {
    "colab": {
     "base_uri": "https://localhost:8080/"
    },
    "executionInfo": {
     "elapsed": 5,
     "status": "ok",
     "timestamp": 1714163727803,
     "user": {
      "displayName": "Adolfo Alexis Rojas Hidalgo",
      "userId": "18158766317608392773"
     },
     "user_tz": 240
    },
    "id": "lSlH1DNS2VXd",
    "outputId": "85f6ea1a-1d33-4ac6-a3ee-5816f07a4655",
    "vscode": {
     "languageId": "r"
    }
   },
   "outputs": [],
   "source": [
    "# Mostrar la estructura de los resultados de interacciones de CellPhoneDB\n",
    "dplyr::glimpse(cpdb_result)"
   ]
  },
  {
   "cell_type": "markdown",
   "metadata": {
    "id": "V-J3YkxWqdkr"
   },
   "source": [
    "Para ejecutar LIANA utilizando múltiples métodos simultáneamente, puedes especificar los métodos deseados en el parámetro `method` En este ejemplo, usaremos CellPhoneDB, NATMI, SingleCellSignalR (sca) y el enfoque logFC."
   ]
  },
  {
   "cell_type": "code",
   "execution_count": null,
   "metadata": {
    "colab": {
     "base_uri": "https://localhost:8080/"
    },
    "executionInfo": {
     "elapsed": 139996,
     "status": "ok",
     "timestamp": 1714163867796,
     "user": {
      "displayName": "Adolfo Alexis Rojas Hidalgo",
      "userId": "18158766317608392773"
     },
     "user_tz": 240
    },
    "id": "3L5UsQzk1mhC",
    "outputId": "a9b0b79f-0413-4ed9-c0a2-1552318ee2cf",
    "vscode": {
     "languageId": "r"
    }
   },
   "outputs": [],
   "source": [
    "# Ejecutar un análisis de interacción más complejo utilizando múltiples métodos\n",
    "complex_test <- liana_wrap(testdata,\n",
    "                           method = c('cellphonedb', 'natmi', 'sca', 'logfc'),\n",
    "                           resource = c('CellPhoneDB'))  # Usar el recurso CellPhoneDB"
   ]
  },
  {
   "cell_type": "code",
   "execution_count": null,
   "metadata": {
    "colab": {
     "base_uri": "https://localhost:8080/"
    },
    "executionInfo": {
     "elapsed": 5,
     "status": "ok",
     "timestamp": 1714163867796,
     "user": {
      "displayName": "Adolfo Alexis Rojas Hidalgo",
      "userId": "18158766317608392773"
     },
     "user_tz": 240
    },
    "id": "4O75ssZn_wH-",
    "outputId": "d9f507ca-5d50-448a-f43b-ddddded36d91",
    "vscode": {
     "languageId": "r"
    }
   },
   "outputs": [],
   "source": [
    "# Mostrar la estructura de los resultados de la interacción compleja\n",
    "dplyr::glimpse(complex_test)"
   ]
  },
  {
   "cell_type": "markdown",
   "metadata": {
    "id": "AuQjAf3lqyyc"
   },
   "source": [
    "Una de las características principales de LIANA es que puede calcular un ranking de consenso basado en las predicciones de todos los métodos empleados para analizar la comunicación célula-célula. Usando la función `liana_aggregate()` podemos integrar todos los resultados de cada método utilizado en el paso anterior."
   ]
  },
  {
   "cell_type": "code",
   "execution_count": null,
   "metadata": {
    "colab": {
     "base_uri": "https://localhost:8080/"
    },
    "executionInfo": {
     "elapsed": 251,
     "status": "ok",
     "timestamp": 1714163868043,
     "user": {
      "displayName": "Adolfo Alexis Rojas Hidalgo",
      "userId": "18158766317608392773"
     },
     "user_tz": 240
    },
    "id": "hfxOFoyQ1x9s",
    "outputId": "2667d420-4a16-4d76-c5bb-899c7d661374",
    "vscode": {
     "languageId": "r"
    }
   },
   "outputs": [],
   "source": [
    "# Agregar resultados de interacciones a través de múltiples métodos\n",
    "liana_consensus <- complex_test %>% liana_aggregate()"
   ]
  },
  {
   "cell_type": "code",
   "execution_count": null,
   "metadata": {
    "colab": {
     "base_uri": "https://localhost:8080/"
    },
    "executionInfo": {
     "elapsed": 3,
     "status": "ok",
     "timestamp": 1714163868044,
     "user": {
      "displayName": "Adolfo Alexis Rojas Hidalgo",
      "userId": "18158766317608392773"
     },
     "user_tz": 240
    },
    "id": "ZEf8fKf216zY",
    "outputId": "b85ed18f-b86b-4322-c076-6ff657a58dd1",
    "vscode": {
     "languageId": "r"
    }
   },
   "outputs": [],
   "source": [
    "# Mostrar la estructura de los resultados agregados de interacciones\n",
    "dplyr::glimpse(liana_consensus)"
   ]
  },
  {
   "cell_type": "markdown",
   "metadata": {
    "id": "Lt6tjyZlrF98"
   },
   "source": [
    "## Visualización e Interpretación"
   ]
  },
  {
   "cell_type": "markdown",
   "metadata": {
    "id": "dY27ELgPshLw"
   },
   "source": [
    "Se pueden generar gráficos de puntos (dotplots) para interpretar fácilmente los pares importantes de ligando-receptor utilizados por los pares de células emisoras y receptoras.\n",
    "\n",
    "Aquí, preprocesamos los resultados de CellPhoneDB y luego los graficamos. Se aplica un filtro para usar solo los casos significativos (valor P < 0,05).\n"
   ]
  },
  {
   "cell_type": "code",
   "execution_count": null,
   "metadata": {
    "executionInfo": {
     "elapsed": 367,
     "status": "ok",
     "timestamp": 1714163868409,
     "user": {
      "displayName": "Adolfo Alexis Rojas Hidalgo",
      "userId": "18158766317608392773"
     },
     "user_tz": 240
    },
    "id": "zSfhX5732TcT",
    "vscode": {
     "languageId": "r"
    }
   },
   "outputs": [],
   "source": [
    "cpdb_int <- cpdb_result %>%\n",
    "  # Solo conservar interacciones con valor p <= 0.05\n",
    "  filter(pvalue <= 0.05) %>% # Esto refleja la 'especificidad' de las interacciones\n",
    "  rank_method(method_name = \"cellphonedb\", mode = \"magnitude\") %>% #  Luego ordenar según la 'magnitud' (lr_mean en este caso)\n",
    "  distinct_at(c(\"ligand.complex\", \"receptor.complex\")) %>% # Conservar las 20 principales interacciones (sin importar el tipo celular)\n",
    "  head(20)  "
   ]
  },
  {
   "cell_type": "code",
   "execution_count": null,
   "metadata": {
    "colab": {
     "base_uri": "https://localhost:8080/",
     "height": 437
    },
    "executionInfo": {
     "elapsed": 1053,
     "status": "ok",
     "timestamp": 1714163902941,
     "user": {
      "displayName": "Adolfo Alexis Rojas Hidalgo",
      "userId": "18158766317608392773"
     },
     "user_tz": 240
    },
    "id": "Mjox5wT62h3s",
    "outputId": "bb0d4423-9487-41b8-8055-d009aaf6b604",
    "vscode": {
     "languageId": "r"
    }
   },
   "outputs": [],
   "source": [
    "# Opciones(repr.plot.height = 12, repr.plot.width = 9)\n",
    "# Graficar interacciones célula-célula usando la función de diagrama de puntos de LIANA\n",
    "scPlot <- cpdb_result %>%  \n",
    "          inner_join(cpdb_int, # Conservar solo las interacciones de interés\n",
    "                    by = c(\"ligand.complex\", \"receptor.complex\")) %>%  # Invertir tamaño (valor p bajo / alta especificidad = punto más grande), se suma un valor pequeño para evitar Inf en ceros\n",
    "          mutate(pvalue = -log10(pvalue + 1e-10)) %>% # Transforma el valor p tomando el logaritmo negativo en base 10\n",
    "          liana_dotplot(source_groups = c(\"Epithelial\"), # CCrea un gráfico de puntos para los grupos fuente y objetivo especificados, e indica el grupo fuente\n",
    "                        target_groups = c(\"Macrophages\", \"NK\", \"B\", \"T\", \"Neutrophil\"), # Especifica los grupos objetivo\n",
    "                        specificity = \"pvalue\", # Usa el valor p para especificar el tamaño de los puntos\n",
    "                        magnitude = \"lr.mean\", # Usa la media del log ratio para el color del punto\n",
    "                        show_complex = TRUE,\n",
    "                        size.label = \"-log10(p-value)\") + theme(axis.text.x = element_text(angle = 90))\n",
    "scPlot\n",
    "# Guardar el gráfico como un archivo de imagen\n",
    "ggsave(\"01-liana_dotplot.png\", plot = scPlot, bg = \"white\", dpi = 600, width = 16, height = 9)"
   ]
  },
  {
   "cell_type": "markdown",
   "metadata": {
    "id": "-xF_p1cbs0Hm"
   },
   "source": [
    "De manera similar, podemos explorar los resultados del consenso."
   ]
  },
  {
   "cell_type": "code",
   "execution_count": null,
   "metadata": {
    "colab": {
     "base_uri": "https://localhost:8080/",
     "height": 437
    },
    "executionInfo": {
     "elapsed": 3295,
     "status": "ok",
     "timestamp": 1714163946696,
     "user": {
      "displayName": "Adolfo Alexis Rojas Hidalgo",
      "userId": "18158766317608392773"
     },
     "user_tz": 240
    },
    "id": "PrEnrSIi2zCL",
    "outputId": "74b70ad2-181f-4c95-b979-8626d0872729",
    "vscode": {
     "languageId": "r"
    }
   },
   "outputs": [],
   "source": [
    "# Opciones (repr.plot.height = 12, repr.plot.width = 9)\n",
    "# Graficar las 20 principales interacciones a partir de los resultados agregados de LIANA\n",
    "scPlot <- liana_consensus %>%\n",
    "          liana_dotplot(source_groups = c(\"Macrophages\"),\n",
    "                        target_groups = c(\"Macrophages\", \"NK\", \"B\", \"T\", \"Neutrophil\"),\n",
    "                        ntop = 20) + theme(axis.text.x = element_text(angle = 90))\n",
    "scPlot\n",
    "# Guardar la gráfica\n",
    "ggsave(\"02-liana_dotplot.png\", plot = scPlot, bg = \"white\", dpi = 600, width = 16, height = 9)"
   ]
  },
  {
   "cell_type": "markdown",
   "metadata": {
    "id": "4EC8pxgHt_6-"
   },
   "source": [
    "El potencial general de las células para comunicarse puede calcularse. Aquí, podemos contar el número de interacciones significativas/importantes. Luego, estas pueden visualizarse mediante un mapa de calor.\n",
    "\n",
    "De manera similar, podemos comparar los resultados obtenidos con CellPhoneDB versus los del consenso."
   ]
  },
  {
   "cell_type": "code",
   "execution_count": null,
   "metadata": {
    "colab": {
     "base_uri": "https://localhost:8080/",
     "height": 437
    },
    "executionInfo": {
     "elapsed": 1246,
     "status": "ok",
     "timestamp": 1714163949726,
     "user": {
      "displayName": "Adolfo Alexis Rojas Hidalgo",
      "userId": "18158766317608392773"
     },
     "user_tz": 240
    },
    "id": "WfmEjOUv27cF",
    "outputId": "44abbc2d-f14b-4d22-b76b-acebb8600760",
    "vscode": {
     "languageId": "r"
    }
   },
   "outputs": [],
   "source": [
    "# Filtrar interacciones con valor p ≤ 0.05 y graficar el mapa de calor de frecuencias\n",
    "liana_trunc <- cpdb_result %>% filter(pvalue <= 0.05)\n",
    "\n",
    "# Generar y guardar el mapa de calor\n",
    "# png(\"03-heat_freq.png\", bg = \"white\")\n",
    "heat_freq(liana_trunc)\n",
    "# dev.off()"
   ]
  },
  {
   "cell_type": "code",
   "execution_count": null,
   "metadata": {
    "colab": {
     "base_uri": "https://localhost:8080/",
     "height": 437
    },
    "executionInfo": {
     "elapsed": 2375,
     "status": "ok",
     "timestamp": 1714163959750,
     "user": {
      "displayName": "Adolfo Alexis Rojas Hidalgo",
      "userId": "18158766317608392773"
     },
     "user_tz": 240
    },
    "id": "VplzUlt23_zM",
    "outputId": "ba96d5ae-6d1b-4a82-fc93-bdf1a10c4877",
    "vscode": {
     "languageId": "r"
    }
   },
   "outputs": [],
   "source": [
    "# Filtrar las interacciones del consenso con un ranking agregado ≤ 0.01 y graficar el mapa de calor\n",
    "liana_trunc <- liana_consensus %>% filter(aggregate_rank <= 0.01)\n",
    "\n",
    "# Generar y guardar el mapa de calor\n",
    "# png(\"04-heat_freq.png\", bg = \"white\")\n",
    "heat_freq(liana_trunc)\n",
    "# dev.off()"
   ]
  },
  {
   "cell_type": "markdown",
   "metadata": {
    "id": "3yF7ucbruY_j"
   },
   "source": [
    "## Preguntas adicionales:\n",
    "\n",
    "¿Qué tan diferentes son los resultados entre dos métodos de tu elección?\n",
    "\n",
    "¿Por qué puede ocurrir esto?"
   ]
  },
  {
   "cell_type": "code",
   "execution_count": null,
   "metadata": {
    "colab": {
     "base_uri": "https://localhost:8080/",
     "height": 121
    },
    "executionInfo": {
     "elapsed": 287,
     "status": "ok",
     "timestamp": 1714164073591,
     "user": {
      "displayName": "Adolfo Alexis Rojas Hidalgo",
      "userId": "18158766317608392773"
     },
     "user_tz": 240
    },
    "id": "cJoCML_XsUEg",
    "outputId": "3d41fd06-66cf-4311-bfd0-1a059c1f7dd4",
    "vscode": {
     "languageId": "r"
    }
   },
   "outputs": [
    {
     "data": {
      "text/html": [
       "<style>\n",
       ".list-inline {list-style: none; margin:0; padding: 0}\n",
       ".list-inline>li {display: inline-block}\n",
       ".list-inline>li:not(:last-child)::after {content: \"\\00b7\"; padding: 0 .5ex}\n",
       "</style>\n",
       "<ol class=list-inline><li>'assign_lr_weights'</li><li>'calculate_gini'</li><li>'call_cellchat'</li><li>'call_connectome'</li><li>'call_italk'</li><li>'call_natmi'</li><li>'call_sca'</li><li>'call_squidpy'</li><li>'cellchat_formatDB'</li><li>'chord_freq'</li><li>'compile_ligrec'</li><li>'conn_formatDB'</li><li>'decomplexify'</li><li>'decompose_tensor'</li><li>'filter_nonabundant_celltypes'</li><li>'FormatConnectome'</li><li>'FormatiTALK'</li><li>'FormatSCA'</li><li>'generate_homologs'</li><li>'generate_lr_geneset'</li><li>'generate_omni'</li><li>'generate_orthologs'</li><li>'get_abundance_summary'</li><li>'get_c2c_factors'</li><li>'get_connectome'</li><li>'get_curated_omni'</li><li>'get_logfc'</li><li>'get_lr_resources'</li><li>'get_natmi'</li><li>'get_sca'</li><li>'heat_freq'</li><li>'italk_formatDB'</li><li>'join_means'</li><li>'liana_aggregate'</li><li>'liana_bysample'</li><li>'liana_call'</li><li>'liana_defaults'</li><li>'liana_dotplot'</li><li>'liana_heatmap'</li><li>'liana_pipe'</li><li>'liana_prep'</li><li>'liana_tensor_c2c'</li><li>'liana_wrap'</li><li>'mean0'</li><li>'minmax'</li><li>'plot_abundance_summary'</li><li>'plot_c2c_cells'</li><li>'plot_c2c_overview'</li><li>'plot_context_boxplot'</li><li>'plot_context_heat'</li><li>'plot_lr_heatmap'</li><li>'rank_aggregate'</li><li>'rank_method'</li><li>'recomplexify'</li><li>'sca_formatDB'</li><li>'select_resource'</li><li>'show_homologene'</li><li>'show_methods'</li><li>'show_resources'</li></ol>\n"
      ],
      "text/latex": [
       "\\begin{enumerate*}\n",
       "\\item 'assign\\_lr\\_weights'\n",
       "\\item 'calculate\\_gini'\n",
       "\\item 'call\\_cellchat'\n",
       "\\item 'call\\_connectome'\n",
       "\\item 'call\\_italk'\n",
       "\\item 'call\\_natmi'\n",
       "\\item 'call\\_sca'\n",
       "\\item 'call\\_squidpy'\n",
       "\\item 'cellchat\\_formatDB'\n",
       "\\item 'chord\\_freq'\n",
       "\\item 'compile\\_ligrec'\n",
       "\\item 'conn\\_formatDB'\n",
       "\\item 'decomplexify'\n",
       "\\item 'decompose\\_tensor'\n",
       "\\item 'filter\\_nonabundant\\_celltypes'\n",
       "\\item 'FormatConnectome'\n",
       "\\item 'FormatiTALK'\n",
       "\\item 'FormatSCA'\n",
       "\\item 'generate\\_homologs'\n",
       "\\item 'generate\\_lr\\_geneset'\n",
       "\\item 'generate\\_omni'\n",
       "\\item 'generate\\_orthologs'\n",
       "\\item 'get\\_abundance\\_summary'\n",
       "\\item 'get\\_c2c\\_factors'\n",
       "\\item 'get\\_connectome'\n",
       "\\item 'get\\_curated\\_omni'\n",
       "\\item 'get\\_logfc'\n",
       "\\item 'get\\_lr\\_resources'\n",
       "\\item 'get\\_natmi'\n",
       "\\item 'get\\_sca'\n",
       "\\item 'heat\\_freq'\n",
       "\\item 'italk\\_formatDB'\n",
       "\\item 'join\\_means'\n",
       "\\item 'liana\\_aggregate'\n",
       "\\item 'liana\\_bysample'\n",
       "\\item 'liana\\_call'\n",
       "\\item 'liana\\_defaults'\n",
       "\\item 'liana\\_dotplot'\n",
       "\\item 'liana\\_heatmap'\n",
       "\\item 'liana\\_pipe'\n",
       "\\item 'liana\\_prep'\n",
       "\\item 'liana\\_tensor\\_c2c'\n",
       "\\item 'liana\\_wrap'\n",
       "\\item 'mean0'\n",
       "\\item 'minmax'\n",
       "\\item 'plot\\_abundance\\_summary'\n",
       "\\item 'plot\\_c2c\\_cells'\n",
       "\\item 'plot\\_c2c\\_overview'\n",
       "\\item 'plot\\_context\\_boxplot'\n",
       "\\item 'plot\\_context\\_heat'\n",
       "\\item 'plot\\_lr\\_heatmap'\n",
       "\\item 'rank\\_aggregate'\n",
       "\\item 'rank\\_method'\n",
       "\\item 'recomplexify'\n",
       "\\item 'sca\\_formatDB'\n",
       "\\item 'select\\_resource'\n",
       "\\item 'show\\_homologene'\n",
       "\\item 'show\\_methods'\n",
       "\\item 'show\\_resources'\n",
       "\\end{enumerate*}\n"
      ],
      "text/markdown": [
       "1. 'assign_lr_weights'\n",
       "2. 'calculate_gini'\n",
       "3. 'call_cellchat'\n",
       "4. 'call_connectome'\n",
       "5. 'call_italk'\n",
       "6. 'call_natmi'\n",
       "7. 'call_sca'\n",
       "8. 'call_squidpy'\n",
       "9. 'cellchat_formatDB'\n",
       "10. 'chord_freq'\n",
       "11. 'compile_ligrec'\n",
       "12. 'conn_formatDB'\n",
       "13. 'decomplexify'\n",
       "14. 'decompose_tensor'\n",
       "15. 'filter_nonabundant_celltypes'\n",
       "16. 'FormatConnectome'\n",
       "17. 'FormatiTALK'\n",
       "18. 'FormatSCA'\n",
       "19. 'generate_homologs'\n",
       "20. 'generate_lr_geneset'\n",
       "21. 'generate_omni'\n",
       "22. 'generate_orthologs'\n",
       "23. 'get_abundance_summary'\n",
       "24. 'get_c2c_factors'\n",
       "25. 'get_connectome'\n",
       "26. 'get_curated_omni'\n",
       "27. 'get_logfc'\n",
       "28. 'get_lr_resources'\n",
       "29. 'get_natmi'\n",
       "30. 'get_sca'\n",
       "31. 'heat_freq'\n",
       "32. 'italk_formatDB'\n",
       "33. 'join_means'\n",
       "34. 'liana_aggregate'\n",
       "35. 'liana_bysample'\n",
       "36. 'liana_call'\n",
       "37. 'liana_defaults'\n",
       "38. 'liana_dotplot'\n",
       "39. 'liana_heatmap'\n",
       "40. 'liana_pipe'\n",
       "41. 'liana_prep'\n",
       "42. 'liana_tensor_c2c'\n",
       "43. 'liana_wrap'\n",
       "44. 'mean0'\n",
       "45. 'minmax'\n",
       "46. 'plot_abundance_summary'\n",
       "47. 'plot_c2c_cells'\n",
       "48. 'plot_c2c_overview'\n",
       "49. 'plot_context_boxplot'\n",
       "50. 'plot_context_heat'\n",
       "51. 'plot_lr_heatmap'\n",
       "52. 'rank_aggregate'\n",
       "53. 'rank_method'\n",
       "54. 'recomplexify'\n",
       "55. 'sca_formatDB'\n",
       "56. 'select_resource'\n",
       "57. 'show_homologene'\n",
       "58. 'show_methods'\n",
       "59. 'show_resources'\n",
       "\n",
       "\n"
      ],
      "text/plain": [
       " [1] \"assign_lr_weights\"            \"calculate_gini\"              \n",
       " [3] \"call_cellchat\"                \"call_connectome\"             \n",
       " [5] \"call_italk\"                   \"call_natmi\"                  \n",
       " [7] \"call_sca\"                     \"call_squidpy\"                \n",
       " [9] \"cellchat_formatDB\"            \"chord_freq\"                  \n",
       "[11] \"compile_ligrec\"               \"conn_formatDB\"               \n",
       "[13] \"decomplexify\"                 \"decompose_tensor\"            \n",
       "[15] \"filter_nonabundant_celltypes\" \"FormatConnectome\"            \n",
       "[17] \"FormatiTALK\"                  \"FormatSCA\"                   \n",
       "[19] \"generate_homologs\"            \"generate_lr_geneset\"         \n",
       "[21] \"generate_omni\"                \"generate_orthologs\"          \n",
       "[23] \"get_abundance_summary\"        \"get_c2c_factors\"             \n",
       "[25] \"get_connectome\"               \"get_curated_omni\"            \n",
       "[27] \"get_logfc\"                    \"get_lr_resources\"            \n",
       "[29] \"get_natmi\"                    \"get_sca\"                     \n",
       "[31] \"heat_freq\"                    \"italk_formatDB\"              \n",
       "[33] \"join_means\"                   \"liana_aggregate\"             \n",
       "[35] \"liana_bysample\"               \"liana_call\"                  \n",
       "[37] \"liana_defaults\"               \"liana_dotplot\"               \n",
       "[39] \"liana_heatmap\"                \"liana_pipe\"                  \n",
       "[41] \"liana_prep\"                   \"liana_tensor_c2c\"            \n",
       "[43] \"liana_wrap\"                   \"mean0\"                       \n",
       "[45] \"minmax\"                       \"plot_abundance_summary\"      \n",
       "[47] \"plot_c2c_cells\"               \"plot_c2c_overview\"           \n",
       "[49] \"plot_context_boxplot\"         \"plot_context_heat\"           \n",
       "[51] \"plot_lr_heatmap\"              \"rank_aggregate\"              \n",
       "[53] \"rank_method\"                  \"recomplexify\"                \n",
       "[55] \"sca_formatDB\"                 \"select_resource\"             \n",
       "[57] \"show_homologene\"              \"show_methods\"                \n",
       "[59] \"show_resources\"              "
      ]
     },
     "metadata": {},
     "output_type": "display_data"
    }
   ],
   "source": [
    "# Listar todas las funciones disponibles en el paquete LIANA\n",
    "ls(\"package:liana\")"
   ]
  }
 ],
 "metadata": {
  "colab": {
   "provenance": []
  },
  "kernelspec": {
   "display_name": "R",
   "name": "ir"
  },
  "language_info": {
   "name": "R"
  }
 },
 "nbformat": 4,
 "nbformat_minor": 0
}
