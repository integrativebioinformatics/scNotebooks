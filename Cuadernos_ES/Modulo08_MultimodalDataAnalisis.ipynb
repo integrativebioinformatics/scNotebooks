{
  "cells": [
    {
      "cell_type": "markdown",
      "id": "417645cb",
      "metadata": {
        "id": "417645cb"
      },
      "source": [
        "## Cargar librerias y establecer rutas de directorio del usuario"
      ]
    },
    {
      "cell_type": "code",
      "execution_count": null,
      "id": "aKPzDpcGEZ1i",
      "metadata": {
        "colab": {
          "base_uri": "https://localhost:8080/"
        },
        "id": "aKPzDpcGEZ1i",
        "outputId": "2b0df159-70e5-4f3f-9ffe-92d3546f087e",
        "vscode": {
          "languageId": "r"
        }
      },
      "outputs": [],
      "source": [
        "## Función para ejecutar comandos de shell desde R\n",
        "## Útil cuando se ejecuta R en Google Colab u otros entornos donde se necesitan llamadas al sistema\n",
        "shell_call <- function(command, ...) {\n",
        "  result <- system(command, intern = TRUE, ...)  # Ejecuta el comando de shell y captura la salida\n",
        "  cat(paste0(result, collapse = \"\\n\"))  # Imprime el resultado en formato legible\n",
        "}\n",
        "\n",
        "## Función para cargar paquetes R requeridos\n",
        "## Si un paquete no está instalado, notifica al usuario\n",
        "loadPackages = function(pkgs){\n",
        "  myrequire = function(...){\n",
        "    suppressWarnings(suppressMessages(suppressPackageStartupMessages(require(...))))\n",
        "  }\n",
        "  ok = sapply(pkgs, require, character.only=TRUE, quietly=TRUE)  # Verifica si los paquetes están disponibles\n",
        "  if (!all(ok)){\n",
        "    message(\"There are missing packages: \", paste(pkgs[!ok], collapse=\", \"))  # Informa al usuario sobre los paquetes faltantes\n",
        "  }\n",
        "}\n",
        "\n",
        "## Configurar R2U (gestor de paquetes optimizado para Ubuntu) para una instalación más rápida de paquetes\n",
        "download.file(\"https://github.com/eddelbuettel/r2u/raw/master/inst/scripts/add_cranapt_jammy.sh\",\n",
        "              \"add_cranapt_jammy.sh\")  # Descargar el script de instalación\n",
        "Sys.chmod(\"add_cranapt_jammy.sh\", \"0755\")  # Dar permisos de ejecución al script\n",
        "shell_call(\"./add_cranapt_jammy.sh\")  # Ejecutar el script\n",
        "bspm::enable()  # Habilitar BSPM (puente al gestor de paquetes del sistema) para instalar paquetes R\n",
        "options(bspm.version.check=FALSE)  # Desactivar la verificación de versión de BSPM\n",
        "shell_call(\"rm add_cranapt_jammy.sh\")  # Eliminar el script de instalación tras su ejecución\n",
        "\n",
        "## Instalar paquetes R necesarios desde CRAN\n",
        "cranPkgs2Install = c(\"dplyr\", \"ggpubr\", \"Seurat\", \"cowplot\",\n",
        "                     \"Rtsne\", \"hdf5r\", \"patchwork\")\n",
        "install.packages(cranPkgs2Install, ask=FALSE, update=TRUE, quietly=TRUE)"
      ]
    },
    {
      "cell_type": "code",
      "execution_count": null,
      "id": "12b75889",
      "metadata": {
        "colab": {
          "base_uri": "https://localhost:8080/"
        },
        "id": "12b75889",
        "outputId": "43a14d6f-0b28-4e05-8abf-bd5383908943",
        "vscode": {
          "languageId": "r"
        }
      },
      "outputs": [],
      "source": [
        "## Para simplificar la carga de paquetes, creamos la función loadPackages()\n",
        "## Si no tienes esta función, deberías cargar los paquetes usando library(nombre_del_paquete)\n",
        "pkgs = c(\"Seurat\", \"dplyr\",\"patchwork\",\"ggplot2\")\n",
        "loadPackages(pkgs)  # Load the specified packages\n",
        "\n",
        "# Importante\n",
        "# Actualiza el directorio scw01 para que coincida con tu directorio personal de usuario\n",
        "# Este es el directorio donde lees y escribes datos\n",
        "mydir <- \"/content\""
      ]
    },
    {
      "cell_type": "markdown",
      "id": "aa391115",
      "metadata": {},
      "source": [
        "# Análisis de Datos Multimodales"
      ]
    },
    {
      "cell_type": "markdown",
      "id": "03832df6",
      "metadata": {
        "id": "03832df6"
      },
      "source": [
        "En este cuaderno, nos embarcaremos en la emocionante aventura de analizar datos multimodales, enfocándonos específicamente en los niveles de expresión de ARN y proteínas en células individuales. Nos guiaremos por un tutorial completo de Seurat, que puedes encontrar en detalle [aquí.](https://satijalab.org/seurat/articles/multimodal_vignette.html)\n",
        "\n",
        "El conjunto de datos con el que trabajaremos consiste en 8,617 células mononucleares de sangre de cordón umbilical (CBMCs). Estas células han sido analizadas meticulosamente para proporcionar tanto mediciones transcriptómicas como estimaciones de abundancia para 11 proteínas superficiales. Los niveles de proteína se han cuantificado utilizando anticuerpos con códigos de barras de ADN, lo que permite obtener datos precisos y confiables.\n",
        "\n",
        "Para comenzar nuestro análisis, cargaremos dos matrices de conteo: una que contiene las mediciones de ARN y otra que contiene las etiquetas derivadas de anticuerpos (ADT). Este conjunto de datos dual nos permitirá explorar y comprender las relaciones complejas entre la expresión de ARN y los niveles de proteínas en estas células individuales.\n",
        "\n",
        "Aquí tienes una breve descripción de nuestro conjunto de datos, tal como lo describe Seurat: \"En este análisis, examinamos un conjunto de datos de 8,617 células mononucleares de sangre de cordón (CBMCs), donde las mediciones transcriptómicas se combinan con estimaciones de abundancia para 11 proteínas superficiales, cuantificadas mediante anticuerpos con códigos de barras de ADN. Inicialmente, cargamos dos matrices de conteo: una para las mediciones de ARN y otra para las etiquetas derivadas de anticuerpos (ADT)\"\n",
        "\n",
        "Siguiendo este tutorial, esperamos obtener conocimientos sobre los mecanismos biológicos en juego y las interacciones entre la expresión de ARN y proteínas a nivel de célula única.\n",
        "\n",
        "¡Prepárate para una inmersión profunda en el análisis de datos multimodales!"
      ]
    },
    {
      "cell_type": "code",
      "execution_count": null,
      "id": "3s3kcbqpIX-p",
      "metadata": {
        "id": "3s3kcbqpIX-p",
        "vscode": {
          "languageId": "r"
        }
      },
      "outputs": [],
      "source": [
        "# Descargar datos crudos de ARN-seq de célula única y ADT (etiqueta derivada de anticuerpos) desde la base de datos NCBI GEO\n",
        "shell_call(\"wget ftp://ftp.ncbi.nlm.nih.gov/geo/series/GSE100nnn/GSE100866/suppl/GSE100866_CBMC_8K_13AB_10X-ADT_umi.csv.gz\")\n",
        "shell_call(\"wget ftp://ftp.ncbi.nlm.nih.gov/geo/series/GSE100nnn/GSE100866/suppl/GSE100866_CBMC_8K_13AB_10X-RNA_umi.csv.gz\")"
      ]
    },
    {
      "cell_type": "code",
      "execution_count": null,
      "id": "70138537",
      "metadata": {
        "colab": {
          "base_uri": "https://localhost:8080/",
          "height": 34
        },
        "id": "70138537",
        "outputId": "fb67d42f-e49f-4591-860e-cdddd59803c5",
        "vscode": {
          "languageId": "r"
        }
      },
      "outputs": [],
      "source": [
        "# Cargar la matriz de UMI de ARN\n",
        "# Nota: El conjunto de datos también contiene aproximadamente un 5% de células de ratón, que podemos usar como controles negativos para las mediciones de proteínas\n",
        "# Por esta razón, la matriz de expresión génica tiene HUMAN_ o MOUSE_ al inicio de cada gen\n",
        "cbmc.rna <- as.sparse(read.csv(file = paste0(mydir,\"/GSE100866_CBMC_8K_13AB_10X-RNA_umi.csv.gz\"), sep = \",\", header = TRUE, row.names = 1))\n",
        "\n",
        "# read.csv: lee un archivo CSV en un data frame; el argumento file especifica la ruta al archivo CSV.\n",
        "# paste0 concatena el directorio almacenado en mydir con el nombre del archivo.\n",
        "# sep = \",\": indica que el delimitador usado en el archivo CSV es una coma.\n",
        "# header = TRUE: especifica que la primera fila del archivo CSV contiene los nombres de las columnas.\n",
        "# row.names = 1: especifica que la primera columna del archivo CSV se use como nombres de fila.\n",
        "# as.sparse(): convierte el data frame en una matriz dispersa (sparse).\n",
        "# Las matrices dispersas se usan para almacenar datos con muchos ceros de forma eficiente, algo común en datos de ARN-seq de célula única.\n",
        "\n",
        "# Para facilitar el análisis, descartaremos todos los genes de ratón excepto los 100 más expresados,\n",
        "# y eliminaremos el prefijo 'HUMAN_' del CITE-seq\n",
        "cbmc.rna <- CollapseSpeciesExpressionMatrix(cbmc.rna)\n",
        "\n",
        "# Este comando procesa la matriz cbmc.rna para manejar o fusionar datos de expresión génica de múltiples especies, \n",
        "# asegurando que la matriz esté correctamente formateada para análisis posteriores.\n",
        "\n",
        "# Cargar la matriz UMI de ADT (para mediciones a nivel proteico)\n",
        "cbmc.adt <- as.sparse(read.csv(file = paste0(mydir,\"/GSE100866_CBMC_8K_13AB_10X-ADT_umi.csv.gz\"), sep = \",\", header = TRUE, row.names = 1))\n",
        "\n",
        "# Nota: Asegúrate de que ambas matrices, ARN y ADT, tengan nombres de columnas idénticos (es decir, las mismas células)\n",
        "# Este comando compara los nombres de columnas de dos data frames\n",
        "all.equal(colnames(cbmc.rna), colnames(cbmc.adt))  # Debería devolver TRUE\n"
      ]
    },
    {
      "cell_type": "code",
      "execution_count": null,
      "id": "809bd61b",
      "metadata": {
        "colab": {
          "base_uri": "https://localhost:8080/",
          "height": 138
        },
        "id": "809bd61b",
        "outputId": "4dc63d84-2c65-4ed8-88ca-93dec330d33a",
        "vscode": {
          "languageId": "r"
        }
      },
      "outputs": [],
      "source": [
        "# Crear un objeto Seurat para los datos de scRNA-seq\n",
        "cbmc <- CreateSeuratObject(counts = cbmc.rna)\n",
        "\n",
        "# Verificar los ensayos disponibles (por defecto es RNA). El objeto cbmc contiene un ensayo que almacena las mediciones de ARN\n",
        "Assays(cbmc)\n",
        "\n",
        "# Crear un nuevo ensayo para almacenar la información de ADT\n",
        "adt_assay <- CreateAssayObject(counts = cbmc.adt)\n",
        "\n",
        "# Agregar el ensayo ADT al objeto Seurat\n",
        "cbmc[[\"ADT\"]] <- adt_assay\n",
        "\n",
        "# Verificar que el objeto Seurat ahora contenga ambos ensayos, RNA y ADT\n",
        "Assays(cbmc)\n",
        "\n",
        "# Extraer una lista de características (anticuerpos) medidas en el ensayo ADT\n",
        "rownames(cbmc[[\"ADT\"]])\n",
        "\n",
        "# Nota: Podemos cambiar fácilmente entre los dos ensayos para especificar el predeterminado para visualización y análisis\n",
        "\n",
        "# Listar el ensayo predeterminado actual (debería ser RNA)\n",
        "DefaultAssay(cbmc)\n",
        "\n",
        "# Cambiar el ensayo predeterminado a ADT\n",
        "DefaultAssay(cbmc) <- \"ADT\"\n",
        "DefaultAssay(cbmc)  # Ahora debería devolver \"ADT\""
      ]
    },
    {
      "cell_type": "markdown",
      "id": "ffbc53bf",
      "metadata": {
        "id": "ffbc53bf"
      },
      "source": [
        "# Agrupamiento (Clustering)."
      ]
    },
    {
      "cell_type": "code",
      "execution_count": null,
      "id": "a6dff242",
      "metadata": {
        "colab": {
          "base_uri": "https://localhost:8080/",
          "height": 1000
        },
        "id": "a6dff242",
        "outputId": "be33e044-3e82-49d1-9d92-dc23a8e3a4de",
        "vscode": {
          "languageId": "r"
        }
      },
      "outputs": [],
      "source": [
        "# Ten en cuenta que todas las operaciones siguientes se realizan sobre el ensayo de ARN (RNA assay).    \n",
        "# Establece y verifica que el ensayo por defecto sea RNA\n",
        "DefaultAssay(cbmc) <- \"RNA\" # Este comando establece que el ensayo por defecto del objeto cbmc sea el de RNA\n",
        "DefaultAssay(cbmc) # Muestra el ensayo\n",
        "\n",
        "# Realizar los pasos de visualización y agrupamiento (clustering) \n",
        "cbmc <- NormalizeData(cbmc) # Este comando normaliza los datos de expresión génica en el objeto cbmc\n",
        "cbmc <- FindVariableFeatures(cbmc) # Este comando identifica las características (genes) más variables en los datos\n",
        "cbmc <- ScaleData(cbmc) # Este comando escala los datos, ajustando la media de expresión génica a 0 y la varianza a 1\n",
        "cbmc <- RunPCA(cbmc, verbose = FALSE) # Este comando realiza un Análisis de Componentes Principales (PCA) sobre los datos\n",
        "cbmc <- FindNeighbors(cbmc, dims = 1:30) # Este comando encuentra los vecinos más cercanos de cada célula basándose en las primeras 30 dimensiones del PCA\n",
        "cbmc <- FindClusters(cbmc, resolution = 0.8, # Este comando agrupa (clustering) las células usando los vecinos más cercanos identificados previamente\n",
        "cbmc <- RunUMAP(cbmc, dims = 1:30) # Este comando realiza una proyección UMAP (Uniform Manifold Approximation and Projection) para visualizar los datos en un espacio de menor dimensión\n",
        "DimPlot(cbmc, label = TRUE) # Este comando genera un gráfico de dispersión (scatter plot) de las células en el espacio UMAP, donde cada punto representa una célula"
      ]
    },
    {
      "cell_type": "markdown",
      "id": "ea1a848a",
      "metadata": {
        "id": "ea1a848a"
      },
      "source": [
        "# Visualizar múltiples modalidades una al lado de la otra\n",
        "Ahora que hemos agrupado con éxito nuestros perfiles de scRNA-seq, podemos pasar a visualizar la expresión de proteínas o moléculas de ARN en nuestro conjunto de datos. Seurat ofrece varios métodos para alternar entre diferentes modalidades y especificar cuál deseas analizar o visualizar.\n",
        "\n",
        "Esto es especialmente importante porque, en algunos casos, una misma característica puede estar presente en múltiples modalidades. Por ejemplo, en nuestro conjunto de datos, tenemos mediciones independientes del marcador de células B CD19, tanto a nivel de proteína como de ARN. Poder cambiar entre estas modalidades nos permite explorar y comprender de forma integral el significado biológico de estas características.\n",
        "\n",
        "Al aprovechar las capacidades de Seurat, podemos obtener una comprensión más profunda de las relaciones e interacciones entre las expresiones de ARN y proteínas dentro de células individuales, lo que en última instancia mejora nuestra comprensión de los procesos biológicos subyacentes.\n",
        "\n"
      ]
    },
    {
      "cell_type": "code",
      "execution_count": null,
      "id": "b8750c1e",
      "metadata": {
        "colab": {
          "base_uri": "https://localhost:8080/",
          "height": 961
        },
        "id": "b8750c1e",
        "outputId": "e9f233bf-e5c2-4639-a605-fc58f72859fe",
        "vscode": {
          "languageId": "r"
        }
      },
      "outputs": [],
      "source": [
        "# Normalizar los datos de ADT\n",
        "DefaultAssay(cbmc) <- \"ADT\" # Este comando establece el ensayo por defecto del objeto cbmc como el de etiquetas derivadas de anticuerpos (ADT)\n",
        "cbmc <- NormalizeData(cbmc, normalization.method = \"CLR\", margin = 2)\n",
        "# Este comando normaliza los datos ADT en el objeto cbmc utilizando el método CLR (Centered Log Ratio).\n",
        "# El parámetro margin = 2 indica que la normalización se aplicará a las columnas (genes/proteínas)\n",
        "DefaultAssay(cbmc) <- \"RNA\" # Este comando restablece el ensayo por defecto del objeto cbmc al de RNA\n",
        "\n",
        "# Nota: el siguiente comando es una alternativa y devuelve el mismo resultado\n",
        "cbmc <- NormalizeData(cbmc, normalization.method = \"CLR\", margin = 2, assay = \"ADT\")\n",
        "\n",
        "# Ahora visualizaremos los niveles de CD19 para RNA y proteína\n",
        "# Estableciendo el ensayo por defecto podemos visualizar uno u otro\n",
        "DefaultAssay(cbmc) <- \"ADT\"\n",
        "p1 <- FeaturePlot(cbmc, \"CD19\", cols = c(\"lightgrey\", \"darkgreen\")) \n",
        "+ ggtitle(\"CD19 protein\") # Este comando crea un FeaturePlot de la proteína CD19 en los datos ADT, coloreando las células con baja expresión en gris claro y alta expresión en verde oscuro\n",
        "DefaultAssay(cbmc) <- \"RNA\" # Este comando restablece el ensayo por defecto a RNA\n",
        "p2 <- FeaturePlot(cbmc, \"CD19\") + ggtitle(\"CD19 RNA\") # Este comando crea un FeaturePlot del RNA de CD19 en los datos de RNA\n",
        "\n",
        "# Colocar los gráficos uno al lado del otro\n",
        "p1 | p2 # Este comando coloca los dos gráficos en paralelo para una comparación visual de la expresión de proteína y RNA de CD19\n",
        "\n",
        "# Alternativamente, podemos usar claves de ensayo específicas para indicar una modalidad particular\n",
        "# Identificar la clave para los ensayos de RNA y proteína\n",
        "Key(cbmc[[\"RNA\"]])\n",
        "Key(cbmc[[\"ADT\"]])\n",
        "# Estos comandos identifican las claves de los ensayos de RNA y ADT respectivamente.\n",
        "# Las claves son prefijos usados para diferenciar modalidades al especificar características\n",
        "\n",
        "# Ahora podemos incluir la clave en el nombre de la característica, lo que sobrescribe el ensayo por defecto\n",
        "p1 <- FeaturePlot(cbmc, \"adt_CD19\", cols = c(\"lightgrey\", \"darkgreen\")) + ggtitle(\"CD19 protein\")\n",
        "p2 <- FeaturePlot(cbmc, \"rna_CD19\") + ggtitle(\"CD19 RNA\")\n",
        "p1 | p2 # Muestra p1 y p2 al mismo tiempo\n"
      ]
    },
    {
      "cell_type": "markdown",
      "id": "2948b2ec",
      "metadata": {
        "id": "2948b2ec"
      },
      "source": [
        "# Identificar marcadores de superficie celular para los clústeres de scRNA-seq"
      ]
    },
    {
      "cell_type": "code",
      "execution_count": null,
      "id": "7a6488fa",
      "metadata": {
        "colab": {
          "base_uri": "https://localhost:8080/",
          "height": 1000
        },
        "id": "7a6488fa",
        "outputId": "f6737578-d079-405a-cde0-88c789a6dd94",
        "vscode": {
          "languageId": "r"
        }
      },
      "outputs": [],
      "source": [
        "# Como sabemos, CD19 es un marcador de células B, podemos identificar el clúster 6 como aquel que expresa CD19 en la superficie\n",
        "VlnPlot(cbmc, \"adt_CD19\") # Crea un gráfico de violín\n",
        "\n",
        "# También podemos identificar otros marcadores proteicos y de ARN para este clúster mediante análisis de expresión diferencial\n",
        "adt_markers <- FindMarkers(cbmc, ident.1 = 6, assay = \"ADT\") # Esta función identifica marcadores diferencialmente expresados para el clúster 6 usando el ensayo ADT\n",
        "rna_markers <- FindMarkers(cbmc, ident.1 = 6, assay = \"RNA\") # Esta función identifica marcadores diferencialmente expresados para el clúster 6 usando el ensayo de ARN\n",
        "# iident.1 = 6: Especifica que el clúster 6 es el grupo de interés para el cual se están identificando los marcadores.\n",
        "# assay: Indica que se deben usar los datos del ensayo ADT o RNA para el análisis.\n",
        "# adt/rna_markers: Almacena los resultados de la identificación de marcadores para el ensayo ADT o RNA.\n",
        "# Mostrar los principales marcadores\n",
        "head(adt_markers)\n",
        "head(rna_markers)"
      ]
    },
    {
      "cell_type": "markdown",
      "id": "71079fd9",
      "metadata": {
        "id": "71079fd9"
      },
      "source": [
        "# Visualizaciones adicionales de datos multimodales"
      ]
    },
    {
      "cell_type": "code",
      "execution_count": null,
      "id": "c68989bb",
      "metadata": {
        "colab": {
          "base_uri": "https://localhost:8080/",
          "height": 1000
        },
        "id": "c68989bb",
        "outputId": "24cbf5ee-143d-4bfd-ee59-0972137410e9",
        "vscode": {
          "languageId": "r"
        }
      },
      "outputs": [],
      "source": [
        "# Dibujar gráficos de dispersión de ADT (como los gráficos biaxiales utilizados en FACS). \n",
        "# Ten en cuenta que incluso puedes 'seleccionar' células si lo deseas usando HoverLocator y FeatureLocator\n",
        "FeatureScatter(cbmc, feature1 = \"adt_CD19\", feature2 = \"adt_CD3\")\n",
        "\n",
        "# Ver la relación entre proteína y ARN\n",
        "FeatureScatter(cbmc, feature1 = \"adt_CD3\", feature2 = \"rna_CD3E\")\n",
        "\n",
        "FeatureScatter(cbmc, feature1 = \"adt_CD4\", feature2 = \"adt_CD8\")\n",
        "\n",
        "# Veamos los conteos brutos (no normalizados) de ADT. Puedes notar que los valores son bastante altos,\n",
        "# particularmente en comparación con los valores de ARN. Esto se debe al número de copias de proteína\n",
        "# significativamente mayor en las células, lo que reduce considerablemente el 'drop-out' en los datos de ADT\n",
        "FeatureScatter(cbmc, feature1 = \"adt_CD4\", feature2 = \"adt_CD8\", slot = \"counts\")\n"
      ]
    },
    {
      "cell_type": "markdown",
      "id": "c4562a53",
      "metadata": {
        "id": "c4562a53"
      },
      "source": [
        "# Cargando datos de experimentos multimodales de 10X\n",
        "## NOTA: NO EJECUTES ESTA SECCIÓN\n",
        "\n",
        "La incluimos como referencia en caso de que necesites procesar datos multimodales de 10X a partir de los datos en bruto."
      ]
    },
    {
      "cell_type": "code",
      "execution_count": null,
      "id": "4d3e67b4",
      "metadata": {
        "colab": {
          "base_uri": "https://localhost:8080/",
          "height": 124
        },
        "id": "4d3e67b4",
        "outputId": "900329d0-50f6-416d-bb0c-1b8b11450178",
        "vscode": {
          "languageId": "r"
        }
      },
      "outputs": [],
      "source": [
        "# Cargar el conjunto de datos PBMC de 10X Genomics desde el directorio especificado\n",
        "# Estos datos incluyen información de expresión génica y captura de anticuerpos\n",
        "pbmc10k.data <- Read10X(data.dir = \"../data/pbmc10k/filtered_feature_bc_matrix/\")\n",
        "\n",
        "# Limpiar los nombres de las filas de los datos de captura de anticuerpos para eliminar sufijos no deseados,\n",
        "# específicamente '_TotalSeqB' y cualquier prefijo 'control'\n",
        "rownames(x = pbmc10k.data[[\"Antibody Capture\"]]) <- gsub(pattern = \"_[control_]*TotalSeqB\", replacement = \"\",\n",
        "    x = rownames(x = pbmc10k.data[[\"Antibody Capture\"]]))\n",
        "\n",
        "# Crear un objeto Seurat para los datos de expresión génica,\n",
        "# filtrando para conservar genes detectados en al menos 3 células y células con al menos 200 características\n",
        "pbmc10k <- CreateSeuratObject(counts = pbmc10k.data[[\"Gene Expression\"]], min.cells = 3, min.features = 200)\n",
        "\n",
        "# Normalizar los datos de expresión génica usando normalización logarítmica\n",
        "pbmc10k <- NormalizeData(pbmc10k)\n",
        "\n",
        "# Agregar los datos ADT (etiquetas derivadas de anticuerpos) al objeto Seurat como un ensayo separado\n",
        "# Esto asegura que podamos analizar la expresión proteica junto con los datos de ARN\n",
        "pbmc10k[[\"ADT\"]] <- CreateAssayObject(pbmc10k.data[[\"Antibody Capture\"]][, colnames(x = pbmc10k)])\n",
        "\n",
        "# Normalizar los datos ADT usando el método de normalización CLR (Centered Log Ratio)\n",
        "# Esto es importante para corregir variaciones técnicas en los datos de expresión proteica\n",
        "pbmc10k <- NormalizeData(pbmc10k, assay = \"ADT\", normalization.method = \"CLR\")\n",
        "\n",
        "# Crear gráficos de dispersión para visualizar la relación entre diferentes características:\n",
        "# Gráfico 1: Expresión proteica de CD19 vs. CD3\n",
        "plot1 <- FeatureScatter(pbmc10k, feature1 = \"adt_CD19\", feature2 = \"adt_CD3\", pt.size = 1)\n",
        "\n",
        "# Gráfico 2: Expresión proteica de CD4 vs. CD8a\n",
        "plot2 <- FeatureScatter(pbmc10k, feature1 = \"adt_CD4\", feature2 = \"adt_CD8a\", pt.size = 1)\n",
        "\n",
        "# Gráfico 3: Expresión proteica de CD3 vs. expresión de ARN de CD3E\n",
        "plot3 <- FeatureScatter(pbmc10k, feature1 = \"adt_CD3\", feature2 = \"CD3E\", pt.size = 1)\n",
        "\n",
        "# Combinar los tres gráficos de dispersión en una sola figura y eliminar la leyenda para mayor claridad\n",
        "(plot1 + plot2 + plot3) & NoLegend()\n"
      ]
    }
  ],
  "metadata": {
    "colab": {
      "provenance": []
    },
    "jupytext": {
      "cell_metadata_filter": "tags,name,-all",
      "main_language": "R",
      "notebook_metadata_filter": "-all"
    },
    "kernelspec": {
      "display_name": "R",
      "name": "ir"
    },
    "language_info": {
      "name": "R"
    }
  },
  "nbformat": 4,
  "nbformat_minor": 5
}
