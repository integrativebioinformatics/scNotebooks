{
 "cells": [
  {
   "cell_type": "markdown",
   "metadata": {
    "id": "zGJJFOip04M_"
   },
   "source": [
    "# Transcriptómica espacial\n",
    "\n",
    "## Enlaces del tutorial\n",
    "Explora los siguientes tutoriales para iniciarte en el análisis transcriptómico espacial:\n",
    "\n",
    "* ●\tCaracterísticas Espaciales [STUtilit](https://ludvigla.github.io/STUtility_web_site/Spatial_Features.html#Matrix_factorization ). Este tutorial abarca la extracción y el análisis de características espaciales con el paquete STUtility\n",
    "\n",
    "* [Aprenda sobre Viñetas Espaciales Seurat](https://satijalab.org/seurat/articles/spatial_vignette.html) ¿ Cómo realizar análisis transcriptómicos espaciales con el paquete Seurat?\n",
    "\n",
    "* Control de Calidad  [STUtility](https://ludvigla.github.io/STUtility_web_site/Quality_Control.html). Este tutorial se centra en los pasos de control de calidad para datos transcriptómicos espaciales con el paquete STUtility.\n",
    "\n",
    "# Descargue los datos brutos y el código utilizado en el documento\n",
    "\n",
    "Para acceder a los datos sin procesar y al código utilizado en el artículo correspondiente, visite el siguiente enlace: [Conjunto de datos de Zenodo](https://zenodo.org/record/4751624#.Y17sri_pMUF)\n",
    "\n",
    "Estos recursos le proporcionarán una comprensión integral de la transcriptómica espacial y le guiarán a través del proceso de análisis."
   ]
  },
  {
   "cell_type": "markdown",
   "metadata": {
    "id": "jQVY5cbphgjh"
   },
   "source": [
    "# Instalar los paquetes"
   ]
  },
  {
   "cell_type": "code",
   "execution_count": null,
   "metadata": {
    "executionInfo": {
     "elapsed": 19076,
     "status": "ok",
     "timestamp": 1690667770277,
     "user": {
      "displayName": "Adolfo Alexis Rojas Hidalgo",
      "userId": "18158766317608392773"
     },
     "user_tz": 240
    },
    "id": "0CO_Dbc-NqXV",
    "vscode": {
     "languageId": "r"
    }
   },
   "outputs": [],
   "source": [
    "# Descarga el código desde la URL especificada y lo guarda como \"add_cranapt_jammy.sh\"\n",
    "download.file(\"https://github.com/eddelbuettel/r2u/raw/master/inst/scripts/add_cranapt_jammy.sh\", \n",
    "              \"add_cranapt_jammy.sh\")\n",
    "Sys.chmod(\"add_cranapt_jammy.sh\", \"0755\")  # Otorga permisos de ejecución (rwxr-xr-x) al código\n",
    "system(\"./add_cranapt_jammy.sh\")  # Ejecuta el código descargado en la terminal"
   ]
  },
  {
   "cell_type": "code",
   "execution_count": null,
   "metadata": {
    "executionInfo": {
     "elapsed": 29923,
     "status": "ok",
     "timestamp": 1690667800197,
     "user": {
      "displayName": "Adolfo Alexis Rojas Hidalgo",
      "userId": "18158766317608392773"
     },
     "user_tz": 240
    },
    "id": "So3kjOJre1H0",
    "vscode": {
     "languageId": "r"
    }
   },
   "outputs": [],
   "source": [
    "# Instala varias librerías de desarrollo para renderizado de texto, manejo de fuentes y operaciones criptográficas.\n",
    "system(\"apt install libfontconfig1-dev libharfbuzz-dev libfribidi-dev libcairo2-dev libgmp-dev libcurl3-gnutls -y\")  \n",
    "\n",
    "# Instala librerías para procesamiento de imágenes (JPEG, PNG, TIFF) y la Librería Científica GNU (GSL).\n",
    "system(\"apt install libfreetype6-dev libpng-dev libtiff5-dev libjpeg-dev libbz2-dev libgsl-dev gsl-bin -y\")  \n",
    "\n",
    "system(\"apt update\")  # Actualiza la lista de paquetes para asegurar versiones recientes.\n",
    "\n",
    "# Instala archivos de desarrollo de ImageMagick, necesarios para manipulación de imágenes.\n",
    "system(\"apt install libmagick++-dev -y\")\n"
   ]
  },
  {
   "cell_type": "code",
   "execution_count": null,
   "metadata": {
    "colab": {
     "base_uri": "https://localhost:8080/",
     "height": 531
    },
    "executionInfo": {
     "elapsed": 257,
     "status": "ok",
     "timestamp": 1690667744195,
     "user": {
      "displayName": "Adolfo Alexis Rojas Hidalgo",
      "userId": "18158766317608392773"
     },
     "user_tz": 240
    },
    "id": "4YfEB-ofN7J2",
    "outputId": "d49fcd48-5df5-4233-baad-c9550b9548da",
    "vscode": {
     "languageId": "r"
    }
   },
   "outputs": [],
   "source": [
    "# Retorna detalles sobre la versión de R instalada, incluyendo versiones mayor/menor, fecha de lanzamiento y arquitectura del sistema.\n",
    "R.Version()"
   ]
  },
  {
   "cell_type": "code",
   "execution_count": null,
   "metadata": {
    "colab": {
     "base_uri": "https://localhost:8080/"
    },
    "executionInfo": {
     "elapsed": 314560,
     "status": "ok",
     "timestamp": 1690668295321,
     "user": {
      "displayName": "Adolfo Alexis Rojas Hidalgo",
      "userId": "18158766317608392773"
     },
     "user_tz": 240
    },
    "id": "vWJE9s60OE6x",
    "outputId": "9b703eaf-7812-454f-ad40-ad0befab5be3",
    "vscode": {
     "languageId": "r"
    }
   },
   "outputs": [],
   "source": [
    "# Establece un límite de tiempo más alto para evitar interrupciones durante descargas de paquetes.\n",
    "options(timeout=1000)\n",
    "\n",
    "# Instala el paquete \"STUtility\" desde GitHub forzando su actualización.\n",
    "remotes::install_github(\"jbergenstrahle/STUtility\", upgrade=T, force = TRUE)  \n",
    "\n",
    "# Instala \"SPOTlight\" desde GitHub sin actualizar dependencias existentes.\n",
    "remotes::install_github(\"https://github.com/MarcElosua/SPOTlight\", upgrade=F)  \n",
    "\n",
    "# Verifica si \"BiocManager\" está instalado; si no, lo instala.\n",
    "if (!require(\"BiocManager\", quietly = TRUE))  \n",
    "    install.packages(\"BiocManager\", quiet = T)  \n",
    "\n",
    "# Instala \"ReactomePA\" para análisis de enriquecimiento en rutas/vías\n",
    "BiocManager::install(\"ReactomePA\", update = TRUE, quiet = T)  \n",
    "\n",
    "# Instala \"ggpubr\", una extensión de ggplot2 para gráficos listos para publicación.\n",
    "install.packages(\"ggpubr\")\n",
    "\n",
    "# Instala \"clustree\", un paquete para visualizar árboles de agrupamientos (clústeres).\n",
    "install.packages(\"clustree\", quiet = T)\n",
    "\n",
    "# Instala la base de datos de anotación génica humana desde Bioconductor.\n",
    "BiocManager::install(\"org.Hs.eg.db\", update = FALSE, quiet = T)  \n",
    "\n",
    "# Instala \"enrichR\" para análisis de enriquecimiento génico.\n",
    "install.packages(\"enrichR\", quiet = T)\n",
    "\n",
    "# Instala \"SingleCellExperiment\" para análisis de RNA-seq de célula única.\n",
    "BiocManager::install('SingleCellExperiment', update = FALSE, quiet = T)\n",
    "\n",
    "# Instala \"hdf5r\", usado para leer y escribir archivos HDF5.\n",
    "install.packages(\"hdf5r\", quiet = T)\n",
    "\n",
    "# Instala múltiples paquetes: DT (tablas interactivas), ggcorrplot (gráficos de correlación), y scatterpie (gráficos de dispersión con diagramas de pastel).\n",
    "install.packages(c('DT','ggcorrplot','scatterpie'), quiet = T)  \n",
    "\n",
    "# Instala una versión específica (1.5-3) del paquete \"Matrix\" directamente desde los archivos de CRAN.\n",
    "install.packages(\"https://cran.r-project.org/src/contrib/Archive/Matrix/Matrix_1.5-3.tar.gz\", repos=NULL, type=\"source\")  "
   ]
  },
  {
   "cell_type": "code",
   "execution_count": null,
   "metadata": {
    "executionInfo": {
     "elapsed": 17502,
     "status": "ok",
     "timestamp": 1690668382425,
     "user": {
      "displayName": "Adolfo Alexis Rojas Hidalgo",
      "userId": "18158766317608392773"
     },
     "user_tz": 240
    },
    "id": "MN3Rt0bR0CfA",
    "vscode": {
     "languageId": "r"
    }
   },
   "outputs": [],
   "source": [
    "# Suprime los mensajes al cargar paquetes para mantener la salida limpia.\n",
    "suppressPackageStartupMessages({  \n",
    "library(Seurat)  # Marco de análisis para RNA-seq de célula única.\n",
    "library(data.table)  # Manejo eficiente de grandes volúmenes de datos.\n",
    "library(ggplot2)  # Visualización basada en la gramática de gráficos.\n",
    "library(plotly)  # Visualizaciones interactivas.\n",
    "library(RColorBrewer)  # Paletas de colores predefinidas.\n",
    "library(dplyr)  # Manipulación de datos.\n",
    "library(STutility)  # Herramientas para transcriptómica espacial.\n",
    "library(clustree)  # Visualización de resoluciones de clústeres.\n",
    "library(ReactomePA)  # Análisis de vías metabólicas.\n",
    "library(org.Hs.eg.db)  # Base de datos de anotación génica humana.\n",
    "library(ggpubr)  # Visualizaciones listas para publicación.\n",
    "library(enrichR)  # Análisis de enriquecimiento génico.\n",
    "library(stringr)  # Manipulación de cadenas (caracteres).\n",
    "library(patchwork)  # Combina múltiples gráficos.\n",
    "library(SingleCellExperiment)  # Estructura para datos de célula única.\n",
    "library(SPOTlight)  # Deconvolución de datos de transcriptómica espacial.\n",
    "})"
   ]
  },
  {
   "cell_type": "markdown",
   "metadata": {
    "id": "L8K3sDVj0ZNg"
   },
   "source": [
    "# Descargar los datos"
   ]
  },
  {
   "cell_type": "code",
   "execution_count": null,
   "metadata": {
    "id": "j7tVIN00emmX",
    "vscode": {
     "languageId": "r"
    }
   },
   "outputs": [],
   "source": [
    "## Función para ejecutar comandos de terminal en Google Colab con el kernel de R\n",
    "shell_call <- function(command, ...) {  \n",
    "  result <- system(command, intern = TRUE, ...)  # Ejecuta el comando de terminal y guarda la salida\n",
    "  cat(paste0(result, collapse = \"\\n\"))  # Imprime la salida en un formato legible\n",
    "}"
   ]
  },
  {
   "cell_type": "code",
   "execution_count": null,
   "metadata": {
    "colab": {
     "base_uri": "https://localhost:8080/"
    },
    "executionInfo": {
     "elapsed": 69522,
     "status": "ok",
     "timestamp": 1690396156246,
     "user": {
      "displayName": "Adolfo Alexis Rojas Hidalgo",
      "userId": "18158766317608392773"
     },
     "user_tz": 240
    },
    "id": "lIMpLlL1j_RY",
    "outputId": "4d63130e-9be6-482d-e467-274b5be64ed8",
    "vscode": {
     "languageId": "r"
    }
   },
   "outputs": [],
   "source": [
    "# Evita que se agote el tiempo de espera en descargas grandes.\n",
    "options(timeout=1000)\n",
    "\n",
    "# Descarga un archivo ZIP que contiene ejercicios de transcriptómica espacial.\n",
    "download.file('https://iauchile-my.sharepoint.com/:u:/g/personal/adolfo_rh_postqyf_uchile_cl/EfjJEURo--BOiy13A9w1FwgBcFnFIUTccVr4F6G-hBcHBg?e=VTLZb7&download=1', \n",
    "              'ST_Exercises.zip')  \n",
    "\n",
    "# Lista los archivos en el directorio actual con tamaños legibles.\n",
    "shell_call(\"ls -lh\")\n",
    "\n",
    "# Descomprime el archivo descargado.\n",
    "shell_call(\"unzip ST_Exercises.zip\")"
   ]
  },
  {
   "cell_type": "markdown",
   "metadata": {
    "id": "pjUWbECALQDv"
   },
   "source": [
    "# RECUPERAR LAS ANOTACIONES DEL PATÓLOGO \n",
    "\n",
    "## Cargar el conjunto de datos"
   ]
  },
  {
   "cell_type": "code",
   "execution_count": null,
   "metadata": {
    "colab": {
     "base_uri": "https://localhost:8080/"
    },
    "executionInfo": {
     "elapsed": 5090,
     "status": "ok",
     "timestamp": 1690396161333,
     "user": {
      "displayName": "Adolfo Alexis Rojas Hidalgo",
      "userId": "18158766317608392773"
     },
     "user_tz": 240
    },
    "id": "PsH0vqIRhYz5",
    "outputId": "e54fa7c5-8ca4-4375-d88c-2f51147f2384",
    "vscode": {
     "languageId": "r"
    }
   },
   "outputs": [],
   "source": [
    "# Carga un objeto de Seurat.\n",
    "load(file = \"ST_Exercises/Exercise1_dataset.RData\")\n",
    "# Obtiene información del conjunto de datos\n",
    "# Este comando recupera el ensayo por defecto actual del objeto Seurat Her2p\n",
    "DefaultAssay(Her2p)\n",
    "# Muestra el número de genes (features) y células.\n",
    "dim(Her2p)\n",
    "# Este comando genera una tabla de frecuencias de la columna \"ids\" en los metadatos del objeto Seurat Her2p.\n",
    "table(Her2p@meta.data$ids)\n"
   ]
  },
  {
   "cell_type": "markdown",
   "metadata": {
    "id": "ZQq67WhFyCHQ"
   },
   "source": [
    "## Gráficos de control de calidad (CC)"
   ]
  },
  {
   "cell_type": "markdown",
   "metadata": {
    "id": "iTyvcAjYyWtW"
   },
   "source": [
    "Crea la paleta de colores"
   ]
  },
  {
   "cell_type": "code",
   "execution_count": null,
   "metadata": {
    "colab": {
     "base_uri": "https://localhost:8080/",
     "height": 489
    },
    "executionInfo": {
     "elapsed": 1379,
     "status": "ok",
     "timestamp": 1690396162710,
     "user": {
      "displayName": "Adolfo Alexis Rojas Hidalgo",
      "userId": "18158766317608392773"
     },
     "user_tz": 240
    },
    "id": "ptZHTGilx9wN",
    "outputId": "72fd31e6-fb7f-406b-f59c-d06319bf99f0",
    "vscode": {
     "languageId": "r"
    }
   },
   "outputs": [],
   "source": [
    "# Crea una función de paleta de colores usando colorRampPalette del paquete grDevices, y colores del esquema \"Set1\" de RColorBrewer.\n",
    "getPalette = colorRampPalette(brewer.pal(8, \"Set1\"))\n",
    "color = getPalette(6)\n",
    "VlnPlot(Her2p, # Genera un violin plot (gráfico de violin)\n",
    "       features = \"nCount_RNA\", # Especifica la característica a graficar\n",
    "       group.by = \"ids\", # Agrupa los datos según la columna \"ids\" de los metadatos.\n",
    "       pt.size = 0.1, # Define el tamaño de los puntos en el gráfico.\n",
    "       cols = color) + # Define los colores para cada grupo.\n",
    "  stat_summary(fun.y=mean, geom=\"point\", shape=95, size=15, color = \"black\") + NoLegend()\n",
    "  # Agrega una capa al gráfico con la media de la característica representada."
   ]
  },
  {
   "cell_type": "markdown",
   "metadata": {
    "id": "EPDXop2xyJVA"
   },
   "source": [
    "Graficar las métricas"
   ]
  },
  {
   "cell_type": "code",
   "execution_count": null,
   "metadata": {
    "colab": {
     "base_uri": "https://localhost:8080/",
     "height": 1000
    },
    "executionInfo": {
     "elapsed": 4705,
     "status": "ok",
     "timestamp": 1690396167414,
     "user": {
      "displayName": "Adolfo Alexis Rojas Hidalgo",
      "userId": "18158766317608392773"
     },
     "user_tz": 240
    },
    "id": "fl-ajgU6LYSp",
    "outputId": "6ed400b8-b945-46e6-f560-5a2851f860f8",
    "vscode": {
     "languageId": "r"
    }
   },
   "outputs": [],
   "source": [
    "# Gráfico de violin (Violin plot) con valores promedio agregados\n",
    "VlnPlot(Her2p, features = \"nCount_RNA\", group.by = \"ids\", \n",
    "        pt.size = 0.1, cols = color) +\n",
    "  stat_summary(fun.y=mean, geom=\"point\", shape=95, \n",
    "              size=15, color = \"black\") + NoLegend()\n",
    "\n",
    "# Gráfico de dispersión que compara la cantidad de ARN con el número de características (genes)\n",
    "FeatureScatter(object = Her2p, feature1 = \"nCount_RNA\", \n",
    "feature2 = \"nFeature_RNA\", group.by = \"ids\", cols = color)\n",
    "\n",
    "# Superpone la distribución de la cantidad de ARN sobre las coordenadas espaciales\n",
    "FeatureOverlay(Her2p, features = c(\"nCount_RNA\"),\n",
    "               sampleids = 1:3,\n",
    "               pt.size = 2.5,\n",
    "               add.alpha = TRUE,\n",
    "               ncol = 3, min.cutoff = 0, max.cutoff = 2000)"
   ]
  },
  {
   "cell_type": "code",
   "execution_count": null,
   "metadata": {
    "id": "447inZg-ynrh",
    "vscode": {
     "languageId": "r"
    }
   },
   "outputs": [],
   "source": [
    "# Ejercicio: Guardar la imagen en un archivo"
   ]
  },
  {
   "cell_type": "markdown",
   "metadata": {
    "id": "2qOyzGqfyOI_"
   },
   "source": [
    "### NOTA: Normalización, PCA, reducción de dimensionalidad y UMAP ya están aplicados en este objeto\n",
    "\n",
    "## Agrupamiento\n"
   ]
  },
  {
   "cell_type": "code",
   "execution_count": null,
   "metadata": {
    "colab": {
     "base_uri": "https://localhost:8080/",
     "height": 34
    },
    "executionInfo": {
     "elapsed": 9,
     "status": "ok",
     "timestamp": 1690396167414,
     "user": {
      "displayName": "Adolfo Alexis Rojas Hidalgo",
      "userId": "18158766317608392773"
     },
     "user_tz": 240
    },
    "id": "nfbcRLhzYSfq",
    "outputId": "c3c657dd-6b2b-4b20-e24d-64909d07e092",
    "vscode": {
     "languageId": "r"
    }
   },
   "outputs": [],
   "source": [
    "# Muestra la versión instalada del paquete Matrix\n",
    "packageVersion(\"Matrix\")"
   ]
  },
  {
   "cell_type": "code",
   "execution_count": null,
   "metadata": {
    "colab": {
     "base_uri": "https://localhost:8080/",
     "height": 437
    },
    "executionInfo": {
     "elapsed": 6715,
     "status": "ok",
     "timestamp": 1690396174120,
     "user": {
      "displayName": "Adolfo Alexis Rojas Hidalgo",
      "userId": "18158766317608392773"
     },
     "user_tz": 240
    },
    "id": "L3RpRwsDL2jd",
    "outputId": "ea098346-066a-4785-a435-65622252e856",
    "vscode": {
     "languageId": "r"
    }
   },
   "outputs": [],
   "source": [
    "# Realiza la agrupación basada en grafos de Seurat\n",
    "# Encuentra los vecinos más cercanos para cada célula utilizando factorización de matriz no negativa (NMF)\n",
    "Her2p <- FindNeighbors(object = Her2p, \n",
    "                      dims = 1:10, # Usa las primeras 10 dimensiones del método de reducción especificado\n",
    "                      reduction = \"NMF\", # Indica que se utilizó NMF como método de reducción dimensional\n",
    "                      verbose = FALSE) # Suprime la salida detallada\n",
    "\n",
    "# Define una secuencia de resoluciones desde 0 hasta 2, con incrementos de 0.1\n",
    "Her2p <- FindClusters(Her2p, resolution = seq(0, 2, by = 0.1),\n",
    "                      verbose = FALSE)\n",
    "\n",
    "# Visualiza los resultados de agrupamiento a diferentes resoluciones usando Clustree\n",
    "clustree(Her2p, prefix = \"SCT_snn_res.\")\n"
   ]
  },
  {
   "cell_type": "code",
   "execution_count": null,
   "metadata": {
    "colab": {
     "base_uri": "https://localhost:8080/",
     "height": 437
    },
    "executionInfo": {
     "elapsed": 707,
     "status": "ok",
     "timestamp": 1690396174825,
     "user": {
      "displayName": "Adolfo Alexis Rojas Hidalgo",
      "userId": "18158766317608392773"
     },
     "user_tz": 240
    },
    "id": "wqxCNajQNe31",
    "outputId": "df2f03f8-4722-4b9f-e9c3-6153d5019206",
    "vscode": {
     "languageId": "r"
    }
   },
   "outputs": [],
   "source": [
    "# Crea un gráfico UMAP agrupado por \"ids\", sin etiquetas de agrupamiento (clúster)\n",
    "color = getPalette(9) # Genera una paleta de 9 colores con la función definida anteriormente\n",
    "DimPlot(Her2p, reduction = \"umap\", label = FALSE, group.by = \"ids\",\n",
    "        pt.size = 2, cols=color, label.size=13)"
   ]
  },
  {
   "cell_type": "code",
   "execution_count": null,
   "metadata": {
    "colab": {
     "base_uri": "https://localhost:8080/",
     "height": 437
    },
    "executionInfo": {
     "elapsed": 979,
     "status": "ok",
     "timestamp": 1690396175801,
     "user": {
      "displayName": "Adolfo Alexis Rojas Hidalgo",
      "userId": "18158766317608392773"
     },
     "user_tz": 240
    },
    "id": "wL4yL-D9Nj_K",
    "outputId": "4921c1f9-ca7d-4d0f-adfe-b15761b7852e",
    "vscode": {
     "languageId": "r"
    }
   },
   "outputs": [],
   "source": [
    "# Grafica únicamente la lámina 3 del paciente G\n",
    "# Superpone la expresión de características en coordenadas espaciales\n",
    "FeatureOverlay(Her2p, # El objeto Seurat que contiene sus datos.\n",
    "               features = c(\"SCT_snn_res.0.5\"), # Especifica las entidades que se superpondrán en las coordenadas espaciales. Resolución de agrupamiento: 0,5\n",
    "               sampleids = 2, # Indica que solo se debe utilizar la diapositiva con ID 2 para este gráfico.\n",
    "               pt.size = 3.5,\n",
    "               cols = color,\n",
    "               add.alpha = TRUE, # Añadir transparencia a los puntos\n",
    "               ncol = 1)"
   ]
  },
  {
   "cell_type": "code",
   "execution_count": null,
   "metadata": {
    "colab": {
     "base_uri": "https://localhost:8080/",
     "height": 437
    },
    "executionInfo": {
     "elapsed": 2258,
     "status": "ok",
     "timestamp": 1690396178057,
     "user": {
      "displayName": "Adolfo Alexis Rojas Hidalgo",
      "userId": "18158766317608392773"
     },
     "user_tz": 240
    },
    "id": "YsHglZ4DNoog",
    "outputId": "e376bf8a-ab7c-4119-b4d7-0809f684eb51",
    "vscode": {
     "languageId": "r"
    }
   },
   "outputs": [],
   "source": [
    "# Grafica las láminas 1 a 3 del paciente G\n",
    "FeatureOverlay(Her2p, features = c(\"SCT_snn_res.0.4\"),\n",
    "               sampleids = 1:3, # Utilice las diapositivas 1 a 3\n",
    "               pt.size = 3.5,\n",
    "               cols = color,\n",
    "               add.alpha = TRUE,\n",
    "               ncol = 3) # Organiza los gráficos en 3 columnas"
   ]
  },
  {
   "cell_type": "code",
   "execution_count": null,
   "metadata": {
    "id": "_ZjcCuqY0HiM",
    "vscode": {
     "languageId": "r"
    }
   },
   "outputs": [],
   "source": [
    "# Ejercicio: Guardar la imagen en un archivo"
   ]
  },
  {
   "cell_type": "code",
   "execution_count": null,
   "metadata": {
    "colab": {
     "base_uri": "https://localhost:8080/",
     "height": 437
    },
    "executionInfo": {
     "elapsed": 472,
     "status": "ok",
     "timestamp": 1690396178527,
     "user": {
      "displayName": "Adolfo Alexis Rojas Hidalgo",
      "userId": "18158766317608392773"
     },
     "user_tz": 240
    },
    "id": "a-8gPbOGNwyo",
    "outputId": "47ddc0c0-e129-4194-b4ef-3957b83447c5",
    "vscode": {
     "languageId": "r"
    }
   },
   "outputs": [],
   "source": [
    "# Grafica los clústeres sin la imagen HE\n",
    "ST.FeaturePlot(object = Her2p, features = \"SCT_snn_res.0.4\", \n",
    "               cols = color, pt.size = 4, ncol = 3)"
   ]
  },
  {
   "cell_type": "code",
   "execution_count": null,
   "metadata": {
    "colab": {
     "base_uri": "https://localhost:8080/",
     "height": 437
    },
    "executionInfo": {
     "elapsed": 1238,
     "status": "ok",
     "timestamp": 1690396179763,
     "user": {
      "displayName": "Adolfo Alexis Rojas Hidalgo",
      "userId": "18158766317608392773"
     },
     "user_tz": 240
    },
    "id": "PAKJODaHN3DM",
    "outputId": "660e6e74-81d9-40e6-f543-088f20c38493",
    "vscode": {
     "languageId": "r"
    }
   },
   "outputs": [],
   "source": [
    "# Divide la visualización por cada clúster\n",
    "ST.FeaturePlot(object = Her2p, features = \"SCT_snn_res.0.4\", pt.size = 4,\n",
    "               split.labels = T, # Divide la visualización por etiquetas de agrupamiento (clúster)\n",
    "               indices = 2, # Selecciona un conjunto específico de índices\n",
    "               show.sb = FALSE, # Oculta las barras de escala\n",
    "               ncol = 4, \n",
    "               cols = color)"
   ]
  },
  {
   "cell_type": "markdown",
   "metadata": {
    "id": "Tf3Jma5IxVaH"
   },
   "source": [
    "## Genes expresados diferencialmente"
   ]
  },
  {
   "cell_type": "code",
   "execution_count": null,
   "metadata": {
    "colab": {
     "base_uri": "https://localhost:8080/",
     "height": 503
    },
    "executionInfo": {
     "elapsed": 41221,
     "status": "ok",
     "timestamp": 1690396220981,
     "user": {
      "displayName": "Adolfo Alexis Rojas Hidalgo",
      "userId": "18158766317608392773"
     },
     "user_tz": 240
    },
    "id": "GCb--4unN8HT",
    "outputId": "67cc15c7-1b7d-4026-ab8e-8c2673a28db9",
    "vscode": {
     "languageId": "r"
    }
   },
   "outputs": [],
   "source": [
    "DefaultAssay(Her2p) # Verifica el ensayo activo del objeto Seurat Her2p\n",
    "Idents(Her2p) <- \"SCT_snn_res.0.4\" # Establece la identidad del objeto según la resolución de agrupamiento (clúster) 0.4\n",
    "\n",
    "# Comparación de todos los agrupamientos (clústeres) entre sí\n",
    "Her2p.markers <- FindAllMarkers(object = Her2p, # Identifica genes diferencialmente expresados (DEGs)\n",
    "                                only.pos = TRUE, # Solo genes sobreexpresados en los agrupamientos (clústeres)\n",
    "                                min.pct = 0.10, # El gen debe estar expresado en al menos 10% de las células\n",
    "                                logfc.threshold = 0.10) # Umbral de log2 fold change\n",
    "\n",
    "# Filtra los marcadores con p-valor ajustado < 0.05\n",
    "Her2p.markers = Her2p.markers[which(Her2p.markers$p_val_adj<0.05),] # Filtra los marcadores identificados para conservar solo aquellos con un valor p ajustado\n",
    "\n",
    "# Cuenta el número de DEGs por agrupamiento (clúster)\n",
    "table(Her2p.markers[, \"cluster\"]) # ¿Cuántos DEGs hay por grupo?"
   ]
  },
  {
   "cell_type": "code",
   "execution_count": null,
   "metadata": {
    "colab": {
     "base_uri": "https://localhost:8080/",
     "height": 437
    },
    "executionInfo": {
     "elapsed": 971,
     "status": "ok",
     "timestamp": 1690396221950,
     "user": {
      "displayName": "Adolfo Alexis Rojas Hidalgo",
      "userId": "18158766317608392773"
     },
     "user_tz": 240
    },
    "id": "Znn7OunCORkq",
    "outputId": "47cb2073-0ce4-44e2-9207-b9a2d6e23d02",
    "vscode": {
     "languageId": "r"
    }
   },
   "outputs": [],
   "source": [
    "# Selecciona los 10 genes con mayor logFC por agrupamiento (clúster)\n",
    "Her2p.markers %>% group_by(cluster) %>% top_n(n = 10, wt = avg_log2FC) -> top10\n",
    "\n",
    "# Genera un gráfico de puntos (DotPlot) para los genes seleccionados\n",
    "DotPlot(Her2p, features = unique(top10$gene), \n",
    "        group.by = \"SCT_snn_res.0.4\", cols = c('#b8d8d8', '#e71d36'),\n",
    "        dot.scale = 6, col.min = 0) + \n",
    "        theme(axis.text.x = element_text(face = \"bold\", color = c(\"black\"), \n",
    "        size = 15,angle = 90))"
   ]
  },
  {
   "cell_type": "code",
   "execution_count": null,
   "metadata": {
    "id": "JhN53mBuF7W3",
    "vscode": {
     "languageId": "r"
    }
   },
   "outputs": [],
   "source": [
    "# Ejercicio: Guardar la imagen en un archivo"
   ]
  },
  {
   "cell_type": "code",
   "execution_count": null,
   "metadata": {
    "colab": {
     "base_uri": "https://localhost:8080/",
     "height": 506
    },
    "executionInfo": {
     "elapsed": 1050,
     "status": "ok",
     "timestamp": 1690396222997,
     "user": {
      "displayName": "Adolfo Alexis Rojas Hidalgo",
      "userId": "18158766317608392773"
     },
     "user_tz": 240
    },
    "id": "8xOoprXROf-v",
    "outputId": "e95f90d2-cae8-479c-94df-7da4518c7f79",
    "vscode": {
     "languageId": "r"
    }
   },
   "outputs": [],
   "source": [
    "# Grafica genes clave en un gráfico de densidad (ridge plot)\n",
    "RidgePlot(Her2p, assay = \"SCT\", \n",
    "          features = c(\"IFI27\",\"IFI6\"), # Genes de interés\n",
    "          ncol = 2, group.by = \"SCT_snn_res.0.4\", \n",
    "          cols = color)"
   ]
  },
  {
   "cell_type": "code",
   "execution_count": null,
   "metadata": {
    "colab": {
     "base_uri": "https://localhost:8080/",
     "height": 437
    },
    "executionInfo": {
     "elapsed": 2289,
     "status": "ok",
     "timestamp": 1690396225284,
     "user": {
      "displayName": "Adolfo Alexis Rojas Hidalgo",
      "userId": "18158766317608392773"
     },
     "user_tz": 240
    },
    "id": "_Vmv9Fh2OjsD",
    "outputId": "ad5108f8-13fe-4224-ca62-4152142a6af4",
    "vscode": {
     "languageId": "r"
    }
   },
   "outputs": [],
   "source": [
    "# Visualización UMAP y mapa de calor\n",
    "# Define el gradiente de color para el mapa de calor\n",
    "heatmap.colors <- c(\"lightgray\", \"mistyrose\", \"red\", \"darkred\", \"black\")\n",
    "fts <- c(\"EPN2\", \"AGR3\") # Lista de genes a visualizar\n",
    "# Genera los gráficos UMAP para cada gen\n",
    "p.fts <- lapply(fts, function(ftr) {\n",
    "  FeaturePlot(Her2p, features = ftr, reduction = \"umap\", order = TRUE, cols = heatmap.colors, pt.size = )\n",
    "})\n",
    "# Grafica expresión transformada en coordenadas de Visium\n",
    "p3 <- ST.FeaturePlot(Her2p, features = fts, ncol = 2, grid.ncol = 1, cols = heatmap.colors, pt.size = 2, show.sb = FALSE)\n",
    "# Combina todos los gráficos en una sola figura\n",
    "cowplot::plot_grid(cowplot::plot_grid(plotlist = p.fts, ncol = 1), p3, ncol = 2, rel_widths = c(1, 1.3))"
   ]
  },
  {
   "cell_type": "code",
   "execution_count": null,
   "metadata": {
    "colab": {
     "base_uri": "https://localhost:8080/",
     "height": 437
    },
    "executionInfo": {
     "elapsed": 830,
     "status": "ok",
     "timestamp": 1690396226112,
     "user": {
      "displayName": "Adolfo Alexis Rojas Hidalgo",
      "userId": "18158766317608392773"
     },
     "user_tz": 240
    },
    "id": "EAD3phg1O4GV",
    "outputId": "74e4750e-0e41-4f1a-d6b9-0a3cf23c7f80",
    "vscode": {
     "languageId": "r"
    }
   },
   "outputs": [],
   "source": [
    "# Gráfico de violín para expresión de EPN2 y AGR3 agrupado por clústeres\n",
    "# en el objeto Seurat 'Her2p', agrupando por la resolución de clusterización \"SCT_snn_res.0.4\".\n",
    "VlnPlot(Her2p, features = c(\"EPN2\", \"AGR3\"),   \n",
    "        group.by = \"SCT_snn_res.0.4\", # Definir variable de agrupamiento (resolución de clúster 0,4)\n",
    "        pt.size = 0, # Establezca el tamaño del punto en 0 para evitar trazar puntos individuales\n",
    "        cols = color, # Utilice colores predefinidos para los grupos\n",
    "        ncol = 2) +  # Organiza los gráficos en dos columnas  \n",
    "\n",
    "# Superponer una estadística de resumen (media) como una barra horizontal\n",
    "  stat_summary(fun.y = mean, geom = \"point\", shape = 95,   \n",
    "               size = 15, color = \"black\") +  \n",
    "\n",
    "# Eliminar la leyenda de la gráfica\n",
    "  NoLegend()  "
   ]
  },
  {
   "cell_type": "markdown",
   "metadata": {
    "id": "mT7uIMZ-wRYq"
   },
   "source": [
    "## Visualización 3D\n",
    "\n",
    "### No funciona en Colab"
   ]
  },
  {
   "cell_type": "code",
   "execution_count": null,
   "metadata": {
    "id": "iLLgFGpFIoRI",
    "vscode": {
     "languageId": "r"
    }
   },
   "outputs": [],
   "source": [
    "# Actualiza las rutas de las imágenes en el objeto Seurat\n",
    "Her2p@tools$Staffli@imgs <- gsub(\"//\", \"/\", Her2p@tools$Staffli@imgs)\n",
    "Her2p@tools$Staffli@imgs <- gsub(\"../data/\", \"ST_Exercises/her2st-master/data/\", Her2p@tools$Staffli@imgs)"
   ]
  },
  {
   "cell_type": "code",
   "execution_count": null,
   "metadata": {
    "id": "2Cor-TSQvVJs",
    "vscode": {
     "languageId": "r"
    }
   },
   "outputs": [],
   "source": [
    "# Genera una pila (stack) 3D con los datos espaciales\n",
    "Her2p <- Create3DStack(Her2p)\n",
    "\n",
    "# Extrae los datos para visualización espacial\n",
    "stack_3d <- setNames(GetStaffli(Her2p)@scatter.data, c(\"x\", \"y\", \"z\", \"grid.cell\"))\n",
    "\n",
    "# Visualiza la distribución espacial de los puntos a través de las secciones z\n",
    "ggplot(stack_3d, aes(x, 2e3 - y)) +\n",
    "  geom_point(size = 0.1, color = \"gray\") +\n",
    "  facet_wrap(~z, ncol = 1) +\n",
    "  theme_void()\n",
    "\n",
    "# Interpola datos para visualización 3D de la expresión génica\n",
    "interpolated.data <- FeaturePlot3D(Her2p, features = \"IFI6\", return.data = TRUE)\n",
    "\n",
    "# Grafica niveles de expresión interpolados\n",
    "ggplot(interpolated.data, aes(x, 2e3 - y, color = val)) +\n",
    "  geom_point(size = 0.1) +\n",
    "  facet_wrap(~z, ncol = 1) +\n",
    "  theme_void() +\n",
    "  ggtitle(\"IFI6\") +\n",
    "  scale_color_gradientn(colours = c(\"black\", \"dark blue\", \"cyan\", \"yellow\", \"red\", \"dark red\"))\n",
    "\n",
    "# Visualización 3D basada en estimación de núcleos en HE\n",
    "FeaturePlot3D(Her2p, features = \"IFI6\", pt.size = 1.6, pts.downsample = 5e4)\n",
    "\n",
    "# Descomentar para visualizar clústeres en 3D usando HSV\n",
    "# selected.factors <- paste0(\"factor_\", c(1:10))\n",
    "# HSVPlot3D(Her2p, features = selected.factors, pt.size = 3, add.margins = 1, mode = \"spots\")"
   ]
  },
  {
   "cell_type": "markdown",
   "metadata": {
    "id": "8t_sLqlzwDaJ"
   },
   "source": [
    "## Términos de ontología génica (GO)"
   ]
  },
  {
   "cell_type": "code",
   "execution_count": null,
   "metadata": {
    "colab": {
     "base_uri": "https://localhost:8080/",
     "height": 365
    },
    "executionInfo": {
     "elapsed": 25988,
     "status": "ok",
     "timestamp": 1690396252097,
     "user": {
      "displayName": "Adolfo Alexis Rojas Hidalgo",
      "userId": "18158766317608392773"
     },
     "user_tz": 240
    },
    "id": "-1hCOqDowA-P",
    "outputId": "b19da2f4-699d-4aec-ea77-77807b9b8f13",
    "vscode": {
     "languageId": "r"
    }
   },
   "outputs": [],
   "source": [
    "# Selecciona genes diferencialmente expresados (DEGs) del clúster 6\n",
    "geneList = Her2p.markers[which(Her2p.markers$cluster == 6), \"gene\"]\n",
    "length(geneList)  # Muestra la cantidad de genes seleccionados\n",
    "\n",
    "# Convierte los símbolos de genes a IDs de Entrez\n",
    "columns(org.Hs.eg.db)  # Muestra las columnas disponibles para conversión en la base de anotación\n",
    "\n",
    "symbol <- mapIds(org.Hs.eg.db,\n",
    "                 keys = geneList,       # Lista de símbolos de genes a convertir\n",
    "                 column = \"ENTREZID\",   # Convertir a IDs de Entrez\n",
    "                 keytype = \"SYMBOL\",    # Tipo de entrada: símbolo de gen\n",
    "                 multiVals = \"first\")   # Si hay múltiples coincidencias, toma la primera\n",
    "\n",
    "symbol = as.vector(symbol)  # Convierte a formato vector\n",
    "\n",
    "# Elimina genes sin ID de Entrez\n",
    "geneList = symbol\n",
    "geneList = geneList[which(geneList != \"NA\")]\n",
    "length(geneList)  # Muestra la cantidad de genes después del filtrado\n",
    "\n",
    "# Análisis de enriquecimiento de rutas con ReactomePA\n",
    "x <- enrichPathway(gene = geneList, \n",
    "                   organism = \"human\", \n",
    "                   pvalueCutoff = 0.05, \n",
    "                   readable = TRUE, \n",
    "                   pAdjustMethod = \"bonferroni\")\n",
    "\n",
    "head(as.data.frame(x))  # Muestra las primeras filas de los resultados\n",
    "\n",
    "# Ordena los resultados por valor ajustado de p (de menor a mayor)\n",
    "x@result = x@result[order(x@result$p.adjust, decreasing = FALSE),]\n",
    "\n",
    "# Selecciona las 30 rutas más significativas\n",
    "x@result = x@result[1:30,]\n",
    "\n",
    "# Ordena rutas por cantidad de genes (de menor a mayor)\n",
    "x@result = x@result[order(x@result$Count, decreasing = FALSE),]\n",
    "\n",
    "# Guarda los resultados ordenados en un nuevo data frame\n",
    "newbar.dt = x@result\n",
    "\n",
    "# Crea un gráfico de barras con las rutas enriquecidas\n",
    "cluster6_enrichpathway <- ggbarplot(newbar.dt, x = \"Description\", y = \"Count\",\n",
    "          fill = \"Count\",         # Colorea las barras según el número de genes\n",
    "          color = \"white\",        # Color de borde de las barras en blanco\n",
    "          sort.val = \"asc\",       # Ordenar por valor en orden ascendente\n",
    "          sort.by.groups = FALSE, # No ordenar por grupo\n",
    "          x.text.angle = 90,      # Rotar etiquetas del eje x para mejor visibilidad\n",
    "          xlab = \"Rutas\",\n",
    "          ylab = \"Número de genes\",\n",
    "          legend.title = \"Recuentos\",\n",
    "          rotate = TRUE,\n",
    "          ggtheme = theme_minimal()\n",
    ") + scale_fill_continuous(low = \"#bde0fe\", high = color[4]) + \n",
    "  theme(text = element_text(size = 20))"
   ]
  },
  {
   "cell_type": "markdown",
   "metadata": {
    "id": "-0gNpyqswXV5"
   },
   "source": [
    "## Análisis de vías con EnrichR"
   ]
  },
  {
   "cell_type": "code",
   "execution_count": null,
   "metadata": {
    "colab": {
     "base_uri": "https://localhost:8080/",
     "height": 1000
    },
    "executionInfo": {
     "elapsed": 3892,
     "status": "ok",
     "timestamp": 1690396255981,
     "user": {
      "displayName": "Adolfo Alexis Rojas Hidalgo",
      "userId": "18158766317608392773"
     },
     "user_tz": 240
    },
    "id": "eqMbRnj6w6K4",
    "outputId": "6754a0f5-ca57-4a46-a181-02d88332a922",
    "vscode": {
     "languageId": "r"
    }
   },
   "outputs": [],
   "source": [
    "# Lista las bases de datos disponibles en EnrichR\n",
    "listEnrichrSites()\n",
    "dbs <- listEnrichrDbs()\n",
    "\n",
    "# Ordena las bases de datos por nombre\n",
    "dbs %>% dplyr::arrange(libraryName)\n",
    "\n",
    "# Selecciona bases de datos específicas para el análisis de enriquecimiento\n",
    "dbs <- c(\"Cancer_Cell_Line_Encyclopedia\",\n",
    "         \"Elsevier_Pathway_Collection\",\n",
    "         \"KEGG_2021_Human\",\n",
    "         \"CellMarker_Augmented_2021\",\n",
    "         \"Reactome_2016\",\n",
    "         \"GO_Biological_Process_2018\",\n",
    "         \"GO_Cellular_Component_2018\",\n",
    "         \"GO_Molecular_Function_2018\",\n",
    "         \"InterPro_Domains_2019\")\n",
    "\n",
    "# EnrichR necesita símbolos de genes (no IDs de Ensembl)\n",
    "geneList = Her2p.markers[which(Her2p.markers$cluster == 6), \"gene\"]\n",
    "length(geneList)  # Muestra la cantidad de genes seleccionados\n",
    "\n",
    "# Realiza el análisis de enriquecimiento con EnrichR\n",
    "enriched.Paths <- enrichr(geneList, dbs)\n",
    "\n",
    "# Muestra resultados de las bases de datos seleccionadas\n",
    "enriched.Paths[[1]]  # Cancer_Cell_Line_Encyclopedia\n",
    "enriched.Paths[[2]]  # Elsevier_Pathway_Collection\n",
    "enriched.Paths[[3]]  # KEGG_2021_Human\n",
    "enriched.Paths[[4]]  # CellMarker_Augmented_2021\n",
    "enriched.Paths[[5]]  # Reactome_2016\n",
    "enriched.Paths[[6]]  # GO_Biological_Process_2018\n",
    "enriched.Paths[[7]]  # GO_Cellular_Component_2018\n",
    "enriched.Paths[[8]]  # GO_Molecular_Function_2018\n",
    "enriched.Paths[[9]]  # InterPro_Domains_2019\n",
    "\n",
    "# Selecciona los resultados de CellMarker_Augmented_2021\n",
    "Rpath = enriched.Paths[[4]]\n",
    "\n",
    "# Cuenta la cantidad de genes por cada ruta\n",
    "Gene_Count = c()\n",
    "for(x in 1:dim(Rpath)[1]){\n",
    "  Gene_Count = c(Gene_Count, str_split(Rpath$Overlap[x], pattern = \"/\" )[[1]][1])\n",
    "}\n",
    "\n",
    "Rpath$Gene_Count = as.numeric(Gene_Count)\n",
    "\n",
    "# Ordena por valor ajustado de p (de menor a mayor)\n",
    "Rpath = Rpath[order(Rpath$Adjusted.P.value, decreasing = FALSE),]\n",
    "\n",
    "# Filtra rutas significativas (p ajustado < 0.05)\n",
    "Rpath = Rpath[Rpath$Adjusted.P.value < 0.05,]\n",
    "\n",
    "# Selecciona las 20 rutas principales\n",
    "Rpath = Rpath[1:20,]\n",
    "\n",
    "# Ordena rutas por número de genes (de mayor a menor)\n",
    "Rpath = Rpath[order(Rpath$Gene_Count, decreasing = TRUE),]\n",
    "\n",
    "# Crea un gráfico de barras de rutas enriquecidas\n",
    "cluster6_enrichR <- ggbarplot(Rpath, x = \"Term\", y = \"Gene_Count\",\n",
    "          fill = \"Gene_Count\",         # Colorea las barras según número de genes\n",
    "          color = \"white\",             # Color de borde blanco\n",
    "          sort.val = \"asc\",            # Ordena por valor en orden ascendente\n",
    "          sort.by.groups = FALSE,\n",
    "          x.text.angle = 90,           # Gira etiquetas para visibilidad\n",
    "          xlab = \"Rutas\",\n",
    "          ylab = \"Número de genes\",\n",
    "          legend.title = \"Recuentos\",\n",
    "          rotate = TRUE,\n",
    "          ggtheme = theme_minimal()\n",
    ") + scale_fill_continuous(low = \"#bde0fe\", high = color[4]) + \n",
    "  theme(text = element_text(size = 18))\n",
    "\n",
    "# Muestra el gráfico\n",
    "cluster6_enrichR"
   ]
  },
  {
   "cell_type": "markdown",
   "metadata": {
    "id": "r3cWKd1mw98h"
   },
   "source": [
    "# DECONVOLUCIÓN DE TIPOS DE CÉLULAS \n",
    "\n",
    "## Cargar el conjunto de datos SC "
   ]
  },
  {
   "cell_type": "code",
   "execution_count": null,
   "metadata": {
    "colab": {
     "base_uri": "https://localhost:8080/",
     "height": 1000
    },
    "executionInfo": {
     "elapsed": 540823,
     "status": "error",
     "timestamp": 1690396796797,
     "user": {
      "displayName": "Adolfo Alexis Rojas Hidalgo",
      "userId": "18158766317608392773"
     },
     "user_tz": 240
    },
    "id": "AaEdW07Eyn1Z",
    "outputId": "5999195e-9472-4fa4-8ad1-d3f5352a223c",
    "vscode": {
     "languageId": "r"
    }
   },
   "outputs": [],
   "source": [
    "# Carga el dataset de scRNA-seq\n",
    "SC.data = readRDS(\"ST_Exercises/scRNASeq_pac2_processed.rds\")\n",
    "\n",
    "# Establece identidades de células según tipo celular\n",
    "Idents(SC.data) = \"cellType\"\n",
    "\n",
    "# Visualización UMAP de tipos celulares\n",
    "DimPlot(object = SC.data, reduction = 'umap', label = TRUE, label.size = 6,\n",
    "        group.by = \"cellType\", pt.size = 1.5)\n",
    "\n",
    "# Identifica DEGs entre todos los agrupamientos (clústeres)\n",
    "SC.markers <- FindAllMarkers(object = SC.data, only.pos = TRUE, min.pct = 0.10, logfc.threshold = 0.10) \n",
    "# min.pct = 0.10: al menos 10% de las células debe expresar el gen\n",
    "# logfc.threshold = 0.10: umbral mínimo de log2 fold change para considerar el gen como marcador\n",
    "\n",
    "SC.markers = SC.markers[which(SC.markers$p_val_adj < 0.05 & SC.markers$avg_log2FC > 0.5),]\n",
    "# SC.markers$p_val_adj < 0.05: This condition selects markers with an adjusted p-value less than 0.05, meaning they are statistically significant.\n",
    "# SC.markers$avg_log2FC > 0.5: This condition selects markers with an average log2 fold change greater than 0.5\n",
    "\n",
    "# Cuenta el número de DEGs por agrupamiento (clúster)\n",
    "table(SC.markers$cluster)\n",
    "\n",
    "DefaultAssay(SC.data) # devuelve el nombre del ensayo actualmente establecido como predeterminado para el objeto Seurat\n",
    "\n",
    "# Carga muestra FFPE de 10X Visium\n",
    "SP = Load10X_Spatial(data.dir = \"ST_Exercises/10X_Spatial_T_Breast_Block_A_Section1\",\n",
    "                     filename = \"V1_Breast_Cancer_Block_A_Section_1_filtered_feature_bc_matrix.h5\")"
   ]
  },
  {
   "cell_type": "markdown",
   "metadata": {
    "id": "H5aKOdHfyr8I"
   },
   "source": [
    "## Gráficos de control de calidad y normalización"
   ]
  },
  {
   "cell_type": "markdown",
   "metadata": {},
   "source": [
    "La normalización es un paso crucial del preprocesamiento en el análisis de datos de scRNA-seq. Implica ajustar los datos brutos de expresión génica para tener en cuenta las variaciones técnicas y las diferencias en la profundidad de secuenciación entre células. Estas comparaciones deberían ayudar a comprender las fortalezas y debilidades de cada método de normalización.\n",
    "\n",
    "Método de Normalización\n",
    "\n",
    "* SCTransform: Un método más avanzado que utiliza la regresión binomial negativa para eliminar la variabilidad técnica y estabilizar la varianza, proporcionando una normalización robusta para datos de una sola célula.\n",
    "\n",
    "* Normalización Log: Escala los valores de expresión génica y aplica una transformación logarítmica, lo que ayuda a estabilizar la varianza y a que los datos sean más adecuados para el análisis posterior.\n",
    "\n",
    "Eliminación de la Variabilidad Técnica\n",
    "\n",
    "* SCTransform: Mayor robustez en la eliminación de la variabilidad técnica, lo que la hace ideal para conjuntos de datos con variación significativa.\n",
    "\n",
    "* NormalizaciónDatos (NormalizeData): Eficaz, pero menos sofisticado que SCTransform en el manejo de la variabilidad técnica.\n",
    "\n",
    "Complejidad y Tiempo de Ejecución\n",
    "\n",
    "* SCTransform: Más complejo y laborioso debido a los cálculos de regresión y la transformación estabilizadora de la varianza. \n",
    "\n",
    "* NormalizarDatos (NormalizeData): Más simple y rápido, ideal para análisis rápidos y grandes conjuntos de datos.\n",
    "\n",
    "Manejo de Covariables\n",
    "\n",
    "* SCTransform: Permite la inclusión de covariables (p. ej., número de genes detectados por célula) para la regresión, lo que mejora la calidad de los datos normalizados.\n",
    "\n",
    "* NormalizarDatos (NormalizeData): Normalmente no incorpora covariables directamente en el proceso de normalización.\n",
    "\n",
    "Estabilización de la Varianza\n",
    "\n",
    "* SCTransform: Estabiliza la varianza, lo que hace que los datos sean más adecuados para análisis posteriores, como la agrupación en clústeres y la identificación de marcadores.\n",
    "\n",
    "* NormalizarDatos (NormalizeData): Utiliza la transformación logarítmica para estabilizar parcialmente la varianza, pero no con la misma eficacia que SCTransform.\n",
    "\n",
    "Flexibilidad\n",
    "\n",
    "* SCTransform: Se centra principalmente en el manejo de datos de secuenciación de ARN de células individuales con métodos de normalización robustos.\n",
    "\n",
    "* NormalizarDatos (NormalizeData): Flexible con diferentes métodos de normalización (p. ej., LogNormalize), lo que permite ajustes según las necesidades específicas del análisis.\n",
    "\n",
    "Escalabilidad\n",
    "\n",
    "* SCTransform: Puede gestionar grandes conjuntos de datos, pero puede ser más lento debido a su complejidad.\n",
    "\n",
    "* NormalizaciónDatos  (NormalizeData): Gestiona grandes conjuntos de datos de forma eficiente gracias a su simplicidad y velocidad.\n"
   ]
  },
  {
   "cell_type": "code",
   "execution_count": null,
   "metadata": {
    "colab": {
     "base_uri": "https://localhost:8080/",
     "height": 892
    },
    "executionInfo": {
     "elapsed": 142827,
     "status": "ok",
     "timestamp": 1690397167231,
     "user": {
      "displayName": "Adolfo Alexis Rojas Hidalgo",
      "userId": "18158766317608392773"
     },
     "user_tz": 240
    },
    "id": "l375jNhly047",
    "outputId": "78dd16fb-5097-4665-afa6-e9ef3df083ae",
    "vscode": {
     "languageId": "r"
    }
   },
   "outputs": [],
   "source": [
    "# Gráfico del número de lecturas por spot espacial\n",
    "plot1 <- VlnPlot(SP, features = \"nCount_Spatial\", pt.size = 0.1) + NoLegend() # crear una gráfico de violin (Violin plot)\n",
    "plot2 <- SpatialFeaturePlot(SP, features = \"nCount_Spatial\") + theme(legend.position = \"right\") # Genera un gráfico de características espaciales para el objeto Seurat\n",
    "wrap_plots(plot1, plot2) # Esta función del paquete patchwork combina múltiples gráficos (plot1 y plot2) en un único diseño unificado\n",
    "\n",
    "# Normalizar datos usando SCTransform\n",
    "SP <- SCTransform(SP, assay = \"Spatial\", verbose = FALSE, return.only.var.genes = FALSE)\n",
    "\n",
    "# Normalizar datos usando LogNormalize con un factor de escala\n",
    "SP <- NormalizeData(object = SP, assay = \"Spatial\", normalization.method = \"LogNormalize\", \n",
    "                    scale.factor = median(SP@meta.data$nCount_Spatial))\n",
    "\n",
    "# Comparar métodos de normalización (LogNormalize vs SCTransform)\n",
    "SP <- GroupCorrelation(SP, group.assay = \"Spatial\", assay = \"Spatial\", slot = \"data\", do.plot = FALSE)\n",
    "SP <- GroupCorrelation(SP, group.assay = \"Spatial\", assay = \"SCT\", slot = \"scale.data\", do.plot = FALSE)\n",
    "\n",
    "# Generar gráficos de comparación\n",
    "p1 <- GroupCorrelationPlot(SP, assay = \"Spatial\", cor = \"nCount_Spatial_cor\") + ggtitle(\"Log Normalization\")\n",
    "p2 <- GroupCorrelationPlot(SP, assay = \"SCT\", cor = \"nCount_Spatial_cor\") + ggtitle(\"SCTransform Normalization\")\n",
    "\n",
    "# Mostrar ambos gráficos lado a lado\n",
    "p1 + p2"
   ]
  },
  {
   "cell_type": "markdown",
   "metadata": {
    "id": "y9d-fTdAy2PA"
   },
   "source": [
    "## Flujo en Tubería (Pipeline) de deconvolución"
   ]
  },
  {
   "cell_type": "markdown",
   "metadata": {},
   "source": [
    "La deconvolución es una técnica computacional que se utiliza para inferir y cuantificar las proporciones de diferentes tipos celulares dentro de una población celular mixta. Dado que los datos de scRNA-seq suelen provenir de tejidos complejos que contienen múltiples tipos celulares, la deconvolución ayuda a identificar y aislar los perfiles de expresión génica específicos de cada tipo celular dentro de la mezcla.\n",
    "\n",
    "¿Por qué es importante la deconvolución?\n",
    "\n",
    "* Identificación de tipos celulares: La deconvolución permite a los investigadores determinar la presencia y abundancia de varios tipos celulares en una muestra de tejido heterogénea.\n",
    "* Comprender la composición celular: Ayuda a dilucidar la composición celular de los tejidos, revelando cómo los diferentes tipos celulares contribuyen a los procesos biológicos y las enfermedades.\n",
    "* Mejorar la interpretación de datos: Al separar las señales de expresión génica de los diferentes tipos celulares, la deconvolución mejora la precisión y la interpretabilidad de los datos de scRNA-seq, lo que permite obtener información biológica más precisa.\n"
   ]
  },
  {
   "cell_type": "code",
   "execution_count": null,
   "metadata": {
    "id": "qIDGfUvIAFWa",
    "vscode": {
     "languageId": "r"
    }
   },
   "outputs": [],
   "source": [
    "# Instalar paquetes de R necesarios (solo ejecutar si no están instalados)\n",
    "install.packages(c('DT', 'ggcorrplot', 'scatterpie'))"
   ]
  },
  {
   "cell_type": "code",
   "execution_count": null,
   "metadata": {
    "id": "cbQ0kxQ__h1I",
    "vscode": {
     "languageId": "r"
    }
   },
   "outputs": [],
   "source": [
    "# Convertir el objeto Seurat a un objeto SingleCellExperiment (SCE)\n",
    "spe = SP  # Conjunto de datos de transcriptómica espacial\n",
    "sce = as.SingleCellExperiment(SC.data)  # Convertir datos de scRNA-seq a formato SCE\n",
    "\n",
    "# Definir genes altamente variables (HVGs) utilizando genes diferencialmente expresados (DEGs)\n",
    "hvg = unique(SC.markers$gene)  # Seleccionar genes DEGs únicos\n",
    "colLabels(sce) <- colData(sce)$cellType  # Asignar etiquetas de tipo celular al objeto SCE\n",
    "\n",
    "# Submuestrear las células para un máximo de 100 por tipo celular\n",
    "# Esto evita la sobre representación de cualquier tipo celular particular\n",
    "idx <- split(seq(ncol(sce)), sce$cellType)  # Dividir los índices de células por identidad\n",
    "n_cells <- 100  # Definir el número máximo de células por tipo\n",
    "\n",
    "cs_keep <- lapply(idx, function(i) {\n",
    "  n <- length(i)\n",
    "  if (n < n_cells)  # Si un tipo celular tiene menos de 100 células, usar todas ellas\n",
    "    n_cells <- n\n",
    "  sample(i, n_cells)  # Muestreo aleatorio de células\n",
    "})\n",
    "\n",
    "sce <- sce[, unlist(cs_keep)]  # Subconjunto del conjunto de datos con las células muestreadas"
   ]
  },
  {
   "cell_type": "code",
   "execution_count": null,
   "metadata": {
    "colab": {
     "base_uri": "https://localhost:8080/",
     "height": 804
    },
    "executionInfo": {
     "elapsed": 147417,
     "status": "ok",
     "timestamp": 1690397316264,
     "user": {
      "displayName": "Adolfo Alexis Rojas Hidalgo",
      "userId": "18158766317608392773"
     },
     "user_tz": 240
    },
    "id": "76Xvs_n4FdCI",
    "outputId": "a3768c53-da68-4d81-aaf8-781c444b383c",
    "vscode": {
     "languageId": "r"
    }
   },
   "outputs": [],
   "source": [
    "# Realizar la deconvolución de transcriptómica espacial usando SPOTlight\n",
    "res <- SPOTlight(\n",
    "  x = sce,  # Conjunto de datos de referencia scRNA-seq\n",
    "  y = spe@assays$SCT@counts,  # Contajes de transcriptómica espacial (normalizados por SCT)\n",
    "  groups = sce$cellType,  # Anotaciones de tipo celular del scRNA-seq\n",
    "  mgs = SC.markers,  # Genes marcadores del análisis scRNA-seq\n",
    "  hvg = hvg,  # Genes diferencialmente expresados (DEGs)\n",
    "  weight_id = \"avg_log2FC\",  # Peso basado en el log2 fold change\n",
    "  group_id = \"cluster\",  # Información de agrupamiento (clúster)\n",
    "  gene_id = \"gene\"  # Identificador de la columna de genes\n",
    ")\n",
    "\n",
    "# Extraer la matriz resultante de la deconvolución\n",
    "head(mat <- res$mat)[, seq_len(3)]  # Mostrar las primeras filas y las primeras 3 columnas\n",
    "\n",
    "# Verificar los metadatos de transcriptómica espacial\n",
    "head(spe@meta.data)\n",
    "\n",
    "# Extraer el modelo de factorización de matrices no negativa (NMF)\n",
    "mod <- res$NMF"
   ]
  },
  {
   "cell_type": "code",
   "execution_count": null,
   "metadata": {
    "colab": {
     "base_uri": "https://localhost:8080/"
    },
    "executionInfo": {
     "elapsed": 11,
     "status": "ok",
     "timestamp": 1690397316264,
     "user": {
      "displayName": "Adolfo Alexis Rojas Hidalgo",
      "userId": "18158766317608392773"
     },
     "user_tz": 240
    },
    "id": "UkY0sfCOKpVq",
    "outputId": "a3882319-6f11-4d05-c2ac-0b893c6a8e69",
    "vscode": {
     "languageId": "r"
    }
   },
   "outputs": [],
   "source": [
    "# Estructura de visualización de la matriz de deconvolución\n",
    "str(mat)"
   ]
  },
  {
   "cell_type": "code",
   "execution_count": null,
   "metadata": {
    "colab": {
     "base_uri": "https://localhost:8080/",
     "height": 437
    },
    "executionInfo": {
     "elapsed": 726,
     "status": "ok",
     "timestamp": 1690397316987,
     "user": {
      "displayName": "Adolfo Alexis Rojas Hidalgo",
      "userId": "18158766317608392773"
     },
     "user_tz": 240
    },
    "id": "MY8BSsEkFzV5",
    "outputId": "21b481df-8938-4433-d65f-ed23988f21ca",
    "vscode": {
     "languageId": "r"
    }
   },
   "outputs": [],
   "source": [
    "# Evaluar cuán específico es cada firma de tema para cada identidad celular\n",
    "plotTopicProfiles(\n",
    "  x = mod,  # Modelo NMF de SPOTlight\n",
    "  y = sce$cellType,  # Etiquetas de tipo celular de scRNA-seq\n",
    "  facet = FALSE,  # Mostrar todos en un solo gráfico\n",
    "  min_prop = 0.01,  # Proporción mínima para ser representada\n",
    "  ncol = 1  # Número de columnas en el gráfico\n",
    ") +\n",
    "  theme(aspect.ratio = 1)  # Mantener la proporción del gráfico"
   ]
  },
  {
   "cell_type": "code",
   "execution_count": null,
   "metadata": {
    "colab": {
     "base_uri": "https://localhost:8080/",
     "height": 437
    },
    "executionInfo": {
     "elapsed": 1312,
     "status": "ok",
     "timestamp": 1690397318297,
     "user": {
      "displayName": "Adolfo Alexis Rojas Hidalgo",
      "userId": "18158766317608392773"
     },
     "user_tz": 240
    },
    "id": "AIEwaUAiF1wm",
    "outputId": "884adaa9-dfc9-42c7-e481-e19e9fa0c5fe",
    "vscode": {
     "languageId": "r"
    }
   },
   "outputs": [],
   "source": [
    "# Asegurar que todas las células de la misma identidad celular compartan un perfil de tema similar\n",
    "plotTopicProfiles(\n",
    "  x = mod,  # Modelo NMF\n",
    "  y = sce$cellType,  # Etiquetas de tipo celular\n",
    "  facet = TRUE,  # Graficar separando por tipo celular\n",
    "  min_prop = 0.01,  # Umbral de proporción mínima\n",
    "  ncol = 4  # Disposición de los gráficos en 4 columnas\n",
    ")"
   ]
  },
  {
   "cell_type": "code",
   "execution_count": null,
   "metadata": {
    "colab": {
     "base_uri": "https://localhost:8080/",
     "height": 712
    },
    "executionInfo": {
     "elapsed": 1550,
     "status": "ok",
     "timestamp": 1690397517622,
     "user": {
      "displayName": "Adolfo Alexis Rojas Hidalgo",
      "userId": "18158766317608392773"
     },
     "user_tz": 240
    },
    "id": "1zOJ3KKPF4op",
    "outputId": "323f8918-8442-495b-94ee-b8e5fe655d6d",
    "vscode": {
     "languageId": "r"
    }
   },
   "outputs": [],
   "source": [
    "# Extraer la matriz base del modelo NMF\n",
    "# Esta matriz indica qué genes son más relevantes para cada tema\n",
    "sign <- NMF::basis(mod)\n",
    "colnames(sign) <- paste0(\"Topic\", seq_len(ncol(sign)))  # Cambiar el nombre de las columnas\n",
    "\n",
    "# Mostrar las primeras filas de genes marcadores para cada tema\n",
    "head(sign)\n",
    "\n",
    "# Crear una tabla interactiva para explorar genes marcadores por tema\n",
    "DT::datatable(sign, fillContainer = TRUE, filter = \"top\")\n",
    "\n",
    "# Generar una matriz de correlación espacial entre tipos de células\n",
    "plotCorrelationMatrix(mat)"
   ]
  },
  {
   "cell_type": "code",
   "execution_count": null,
   "metadata": {
    "id": "urNQ7XkCH2Dt",
    "vscode": {
     "languageId": "r"
    }
   },
   "outputs": [],
   "source": [
    "# Nombres de tipos celulares\n",
    "ct <- colnames(mat)\n",
    "\n",
    "# Establezca un umbral para filtrar las proporciones bajas\n",
    "mat[mat < 0.1] <- 0\n",
    "\n",
    "# Definir una paleta de colores para los tipos celulares\n",
    "paletteMartin <- c(\"#000000\", \"#004949\", \"#009292\", \"#ff6db6\", \"#ffb6db\", \n",
    "                   \"#490092\", \"#006ddb\", \"#b66dff\", \"#6db6ff\", \"#b6dbff\", \n",
    "                   \"#920000\", \"#924900\", \"#db6d00\", \"#24ff24\", \"#ffff6d\")\n",
    "\n",
    "# Crea una paleta de degradado usando los colores definidos\n",
    "pal <- colorRampPalette(paletteMartin)(length(ct))\n",
    "names(pal) <- ct  # Asignar colores a cada tipo celular\n"
   ]
  },
  {
   "cell_type": "code",
   "execution_count": null,
   "metadata": {
    "id": "u_KCRUxpJOZk",
    "vscode": {
     "languageId": "r"
    }
   },
   "outputs": [],
   "source": [
    "# Convertir la matriz de deconvolución a un formato de matriz estándar\n",
    "m2 = as.matrix(mat)"
   ]
  },
  {
   "cell_type": "code",
   "execution_count": null,
   "metadata": {
    "colab": {
     "base_uri": "https://localhost:8080/",
     "height": 437
    },
    "executionInfo": {
     "elapsed": 15711,
     "status": "ok",
     "timestamp": 1690397486471,
     "user": {
      "displayName": "Adolfo Alexis Rojas Hidalgo",
      "userId": "18158766317608392773"
     },
     "user_tz": 240
    },
    "id": "qDJlF_4Jgb8d",
    "outputId": "1fe58d6e-b5fd-4f1c-b441-ba01bb3a20db",
    "vscode": {
     "languageId": "r"
    }
   },
   "outputs": [],
   "source": [
    "# Generar un gráfico de transcriptómica espacial con gráficos de pastel para las proporciones celulares\n",
    "plotSpatialScatterpie(\n",
    "  x = spe,  # Objeto de transcriptómica espacial\n",
    "  y = mat,  # Resultados de deconvolución (proporciones celulares)\n",
    "  cell_types = unique(sce$cellType),  # Tipos celulares únicos\n",
    "  img = FALSE,  # No superponer la imagen histológica\n",
    "  scatterpie_alpha = 1,  # Opacidad completa\n",
    "  pie_scale = 0.4  # Ajustar el tamaño de los gráficos de pastel\n",
    ") +\n",
    "  scale_fill_manual(\n",
    "    values = pal,  # Asignar colores a los tipos celulares\n",
    "    breaks = names(pal)  # Mantener etiquetas de leyenda consistentes\n",
    "  )"
   ]
  },
  {
   "cell_type": "code",
   "execution_count": null,
   "metadata": {
    "id": "sO6hsNz7NbA9",
    "vscode": {
     "languageId": "r"
    }
   },
   "outputs": [],
   "source": [
    "# Guardar el gráfico de pastel espacial como un archivo PDF\n",
    "ggsave(\"Deconvolution.pdf\", width = 12, height = 12)"
   ]
  }
 ],
 "metadata": {
  "colab": {
   "collapsed_sections": [
    "mT7uIMZ-wRYq"
   ],
   "provenance": [
    {
     "file_id": "1mzCpCVMQtAAekhqWg3DY9NpCqIIlwWHj",
     "timestamp": 1684465291158
    }
   ]
  },
  "kernelspec": {
   "display_name": "R",
   "name": "ir"
  },
  "language_info": {
   "name": "R"
  }
 },
 "nbformat": 4,
 "nbformat_minor": 0
}
