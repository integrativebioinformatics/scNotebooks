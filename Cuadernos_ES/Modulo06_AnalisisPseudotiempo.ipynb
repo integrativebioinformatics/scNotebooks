{
 "cells": [
  {
   "cell_type": "markdown",
   "metadata": {
    "id": "b5fMowVXinnt"
   },
   "source": [
    "# Inferencia de trayectorias y ordenamiento pseudotemporal"
   ]
  },
  {
   "cell_type": "markdown",
   "metadata": {
    "id": "1qOd4r2Siqug"
   },
   "source": [
    "## Instala las bibliotecas requeridas"
   ]
  },
  {
   "cell_type": "code",
   "execution_count": null,
   "metadata": {
    "colab": {
     "base_uri": "https://localhost:8080/"
    },
    "executionInfo": {
     "elapsed": 31999,
     "status": "ok",
     "timestamp": 1714164289566,
     "user": {
      "displayName": "Adolfo Alexis Rojas Hidalgo",
      "userId": "18158766317608392773"
     },
     "user_tz": 240
    },
    "id": "GoQmbEWCiWp5",
    "outputId": "444306d7-3289-4d65-dd87-27f742afdec5",
    "vscode": {
     "languageId": "r"
    }
   },
   "outputs": [],
   "source": [
    "# Descargar un script desde GitHub que configura la instalación de paquetes \n",
    "# de R desde el gestor de paquetes del sistema (apt).\n",
    "download.file(\"https://github.com/eddelbuettel/r2u/raw/master/inst/scripts/add_cranapt_jammy.sh\",\n",
    "              \"add_cranapt_jammy.sh\")\n",
    "\n",
    "# Otorgar permisos de ejecución al script descargado\n",
    "Sys.chmod(\"add_cranapt_jammy.sh\", \"0755\")\n",
    "\n",
    "# Ejecutar el script para configurar la instalación de paquetes de R vía apt\n",
    "system(\"./add_cranapt_jammy.sh\")\n",
    "\n",
    "# Habilitar bspm (puente al gestor de paquetes del sistema), que permite instalar paquetes de R desde apt\n",
    "bspm::enable()\n",
    "\n",
    "# Desactivar la verificación de versión de bspm para evitar problemas de compatibilidad\n",
    "options(bspm.version.check=FALSE)\n",
    "\n",
    "# Eliminar el script después de ejecutarlo para mantener limpio el entorno\n",
    "system(\"rm add_cranapt_jammy.sh\")\n"
   ]
  },
  {
   "cell_type": "markdown",
   "metadata": {
    "id": "U2cdonBMivhZ"
   },
   "source": [
    "Vamos a crear una función en R que realice llamadas al sistema"
   ]
  },
  {
   "cell_type": "code",
   "execution_count": null,
   "metadata": {
    "executionInfo": {
     "elapsed": 2,
     "status": "ok",
     "timestamp": 1714164289566,
     "user": {
      "displayName": "Adolfo Alexis Rojas Hidalgo",
      "userId": "18158766317608392773"
     },
     "user_tz": 240
    },
    "id": "6uBhWJgUiHVH",
    "vscode": {
     "languageId": "r"
    }
   },
   "outputs": [],
   "source": [
    "# Definir una función para ejecutar comandos de consola y capturar su salida\n",
    "shell_call <- function(command, ...) {\n",
    "  # Ejecuta el comando en la consola del sistema y captura la salida\n",
    "  result <- system(command, intern = TRUE, ...)\n",
    "  \n",
    "  # Imprime la salida en un formato legible\n",
    "  cat(paste0(result, collapse = \"\\n\"))\n",
    "}"
   ]
  },
  {
   "cell_type": "markdown",
   "metadata": {
    "id": "I2EVnawvpIa8"
   },
   "source": [
    "Instalar las bibliotecas requeridas"
   ]
  },
  {
   "cell_type": "code",
   "execution_count": null,
   "metadata": {
    "colab": {
     "base_uri": "https://localhost:8080/"
    },
    "executionInfo": {
     "elapsed": 197532,
     "status": "ok",
     "timestamp": 1714164487097,
     "user": {
      "displayName": "Adolfo Alexis Rojas Hidalgo",
      "userId": "18158766317608392773"
     },
     "user_tz": 240
    },
    "id": "1EgIyBgfmlfB",
    "outputId": "b3d0fc59-ad97-4ba9-8bcc-3c901c8d0e25",
    "vscode": {
     "languageId": "r"
    }
   },
   "outputs": [],
   "source": [
    "# Instalar el paquete R.utils, que proporciona funciones utilitarias adicionales para los próximos pasos\n",
    "install.packages(\"R.utils\")\n",
    "\n",
    "# Instalar versiones específicas de Seurat Wrappers y Seurat Data desde GitHub\n",
    "remotes::install_github('satijalab/seurat-wrappers@d28512f804d5fe05e6d68900ca9221020d52cf1d', upgrade=F)\n",
    "remotes::install_github('satijalab/seurat-data')\n",
    "\n",
    "# Verificar si BiocManager está instalado; si no lo está, instalarlo para gestionar paquetes de Bioconductor\n",
    "if (!require(\"BiocManager\", quietly = TRUE))\n",
    "    install.packages(\"BiocManager\", quiet = T)\n",
    "\n",
    "# Instalar paquetes adicionales requeridos\n",
    "install.packages(\"harmony\")  # Harmony para corrección por lote\n",
    "BiocManager::install(\"clusterProfiler\", update = T, ask=F, force=T) # Para análisis de enriquecimiento funcional\n",
    "BiocManager::install(\"destiny\", update = F) # Para mapas de difusión en datos de célula única\n",
    "remotes::install_github('cole-trapnell-lab/monocle3') # Instalar Monocle3 para inferencia de trayectorias\n",
    "\n",
    "# Opcional: Instalar una versión específica del paquete Matrix (comentado)\n",
    "# install.packages(\"https://cran.r-project.org/src/contrib/Archive/Matrix/Matrix_1.5-3.tar.gz\", repos=NULL, type=\"source\")\n"
   ]
  },
  {
   "cell_type": "markdown",
   "metadata": {
    "id": "vjg2X61cpzdh"
   },
   "source": [
    "## Introducción\n"
   ]
  },
  {
   "cell_type": "markdown",
   "metadata": {
    "id": "wsg9Zkncp2gF"
   },
   "source": [
    "Las células transitan continuamente entre diferentes estados funcionales a lo largo del desarrollo y la vida. Durante estas transiciones, la expresión génica cambia de manera dinámica: algunos genes se activan mientras que otros se silencian. La secuenciación de ARN de célula única (scRNA-seq) permite a los investigadores capturar estos cambios dinámicos con alta resolución. Herramientas computacionales como Monocle3 utilizan datos de scRNA-seq para reconstruir trayectorias celulares, ayudándonos a entender cómo las células progresan a través de diferentes estados a lo largo del tiempo. Este enfoque es especialmente útil para estudiar la diferenciación, la progresión de enfermedades y la reprogramación celular.\n",
    "\n",
    "En este tutorial, aprenderemos a inferir trayectorias celulares y estimar el pseudotiempo —una medida del progreso relativo de las células a lo largo de una ruta de desarrollo— utilizando Monocle3. Al analizar datos de células individuales, podemos mapear cómo evolucionan las células a través de diferentes estados funcionales e identificar genes clave que impulsan estas transiciones.\n",
    "\n",
    "Este tutorial está inspirado en y se basa en guías y estudios previos que han demostrado el poder de la inferencia de trayectorias en la biología de células individuales.\n",
    "\n",
    "\n",
    "- [Tutorial original de Monocle3](https://cole-trapnell-lab.github.io/monocle3/docs/trajectories/)\n",
    "- [Tutorial que combina Seurat y Monocle3 por el Stuart Lab](https://stuartlab.org/signac/articles/monocle.html)\n",
    "- [Tutorial que combina Seurat y Monocle3 por Mahima Bose](https://rpubs.com/mahima_bose/Seurat_and_Monocle3_p)\n",
    "\n",
    "![Monocle3](https://cole-trapnell-lab.github.io/monocle3/images/manual_images/embryo_pr_graph_by_pseudotime.png)"
   ]
  },
  {
   "cell_type": "code",
   "execution_count": null,
   "metadata": {
    "colab": {
     "base_uri": "https://localhost:8080/"
    },
    "executionInfo": {
     "elapsed": 10533,
     "status": "ok",
     "timestamp": 1714164497625,
     "user": {
      "displayName": "Adolfo Alexis Rojas Hidalgo",
      "userId": "18158766317608392773"
     },
     "user_tz": 240
    },
    "id": "XFQkSMjPo1U6",
    "outputId": "2dd2cc10-0834-4447-8e2d-b17926fbfc3e",
    "vscode": {
     "languageId": "r"
    }
   },
   "outputs": [],
   "source": [
    "# Cargar las librerías necesarias para el análisis de RNA-seq de célula única\n",
    "library(monocle3)      # Inferencia de trayectorias\n",
    "library(Seurat)        # Marco de análisis de célula única\n",
    "library(SeuratData)    # Conjuntos de datos de célula única preprocesados\n",
    "library(SeuratWrappers) # Funcionalidades adicionales de Seurat\n",
    "library(patchwork)     # Composición de gráficos\n",
    "library(harmony)       # Corrección de efectos de lote\n",
    "library(ggplot2)       # Visualización de datos"
   ]
  },
  {
   "cell_type": "markdown",
   "metadata": {
    "id": "imGhC2zTz1F1"
   },
   "source": [
    "## Carga de datos"
   ]
  },
  {
   "cell_type": "markdown",
   "metadata": {
    "id": "v5fMnPapoqol"
   },
   "source": [
    "Aquí cargamos nuestros conjuntos de datos de interés para integrar múltiples muestras de scRNA-seq.\n",
    "\n",
    "Este tutorial demuestra cómo alinear dos grupos de células mononucleares de sangre periférica (PBMCs) del estudio de [Kang et al, 2017](https://www.nature.com/articles/nbt.4042). En este experimento, las PBMCs se dividieron en un grupo control y un grupo estimulado, donde este último fue tratado con interferón-beta. Esta estimulación provocó cambios específicos en la expresión génica según el tipo celular. Como resultado, al analizar los datos, las células tienden a agruparse no solo por su identidad biológica (tipo celular), sino también por su condición de estimulación. Esto introduce un desafío en el análisis conjunto, ya que las diferencias en los patrones de expresión pueden ocultar las similitudes subyacentes entre los mismos tipos celulares en ambos grupos.\n",
    "\n",
    "Al integrar estos conjuntos de datos, buscamos corregir los efectos de lote y las variaciones específicas de la condición, permitiendo una comparación más precisa de las características biológicas compartidas entre ambos grupos."
   ]
  },
  {
   "cell_type": "code",
   "execution_count": null,
   "metadata": {
    "colab": {
     "base_uri": "https://localhost:8080/"
    },
    "executionInfo": {
     "elapsed": 45963,
     "status": "ok",
     "timestamp": 1714164543580,
     "user": {
      "displayName": "Adolfo Alexis Rojas Hidalgo",
      "userId": "18158766317608392773"
     },
     "user_tz": 240
    },
    "id": "rnsZgIwovwJh",
    "outputId": "bb824086-054c-4aef-fbbc-462990174088",
    "vscode": {
     "languageId": "r"
    }
   },
   "outputs": [],
   "source": [
    "# escargar e instalar el conjunto de datos \"ifnb\", que contiene datos de RNA-seq de una sola célula\n",
    "InstallData(\"ifnb\")"
   ]
  },
  {
   "cell_type": "code",
   "execution_count": null,
   "metadata": {
    "colab": {
     "base_uri": "https://localhost:8080/",
     "height": 434
    },
    "executionInfo": {
     "elapsed": 5420,
     "status": "ok",
     "timestamp": 1714164548993,
     "user": {
      "displayName": "Adolfo Alexis Rojas Hidalgo",
      "userId": "18158766317608392773"
     },
     "user_tz": 240
    },
    "id": "wiLfUEn0Ym6R",
    "outputId": "2b4fbd0d-2ab0-4fcd-8feb-a6d466f5a894",
    "vscode": {
     "languageId": "r"
    }
   },
   "outputs": [],
   "source": [
    "# Cargar el conjunto de datos \"ifnb\" previamente instalado\n",
    "LoadData(\"ifnb\")"
   ]
  },
  {
   "cell_type": "code",
   "execution_count": null,
   "metadata": {
    "executionInfo": {
     "elapsed": 1670,
     "status": "ok",
     "timestamp": 1714164550660,
     "user": {
      "displayName": "Adolfo Alexis Rojas Hidalgo",
      "userId": "18158766317608392773"
     },
     "user_tz": 240
    },
    "id": "TU7A2fXTh1PQ",
    "vscode": {
     "languageId": "r"
    }
   },
   "outputs": [],
   "source": [
    "# Almacenar el conjunto de datos cargado en una nueva variable llamada 'testdata'\n",
    "# Esto nos permite modificar el conjunto de datos mientras conservamos el original intacto\n",
    "testdata <- ifnb"
   ]
  },
  {
   "cell_type": "code",
   "execution_count": null,
   "metadata": {
    "colab": {
     "base_uri": "https://localhost:8080/"
    },
    "executionInfo": {
     "elapsed": 4,
     "status": "ok",
     "timestamp": 1714164550660,
     "user": {
      "displayName": "Adolfo Alexis Rojas Hidalgo",
      "userId": "18158766317608392773"
     },
     "user_tz": 240
    },
    "id": "oXcrZfhUz7nW",
    "outputId": "d4ac010d-3747-4816-8698-f51ccacd4a84",
    "vscode": {
     "languageId": "r"
    }
   },
   "outputs": [],
   "source": [
    "# Asegurar que el objeto Seurat esté actualizado al formato más reciente\n",
    "testdata <- UpdateSeuratObject(object = testdata)\n",
    "\n",
    "# Mostrar un resumen general del conjunto de datos usando dplyr::glimpse()\n",
    "testdata %>% dplyr::glimpse()"
   ]
  },
  {
   "cell_type": "markdown",
   "metadata": {
    "id": "7Lt2bhPcoxWZ"
   },
   "source": [
    "## Procesamiento de datos\n"
   ]
  },
  {
   "cell_type": "markdown",
   "metadata": {
    "id": "SJP0H_1AozzB"
   },
   "source": [
    "Realizamos el procesamiento típico de datos, integración, corrección de lotes y agrupamiento antes de ejecutar Monocle3."
   ]
  },
  {
   "cell_type": "code",
   "execution_count": null,
   "metadata": {
    "colab": {
     "base_uri": "https://localhost:8080/"
    },
    "executionInfo": {
     "elapsed": 50369,
     "status": "ok",
     "timestamp": 1714164601027,
     "user": {
      "displayName": "Adolfo Alexis Rojas Hidalgo",
      "userId": "18158766317608392773"
     },
     "user_tz": 240
    },
    "id": "vV2jImJY0zMU",
    "outputId": "75fadcbd-728f-4c1f-b00a-cae045ed507f",
    "vscode": {
     "languageId": "r"
    }
   },
   "outputs": [],
   "source": [
    "# Aquí está el procesamiento paso a paso\n",
    "testdata <- Seurat::NormalizeData(testdata, verbose = FALSE) %>%  # Normalizar los datos de expresión génica\n",
    "            FindVariableFeatures(selection.method = \"vst\", nfeatures = 2000) %>%  # Identificar los 2000 genes más variables\n",
    "            ScaleData(verbose = FALSE) %>%  # Estandarizar y centrar los datos\n",
    "            RunPCA(npcs = 30, verbose = FALSE) %>%  # Realizar Análisis de Componentes Principales (PCA) con 30 componentes\n",
    "            RunHarmony(\"stim\", plot_convergence = FALSE) %>%  # Corrección de lotes usando Harmony\n",
    "            RunUMAP(reduction = \"harmony\", dims = 1:30) %>%  # Realizar agrupamiento UMAP usando datos corregidos por Harmony\n",
    "            FindNeighbors(reduction = \"harmony\", dims = 1:30) %>%  # Calcular vecinos más cercanos para agrupamiento\n",
    "            FindClusters(resolution = 0.5)  # Agrupar células usando el algoritmo de Louvain\n",
    "\n",
    "# El argumento 'verbose = FALSE' suprime los mensajes de salida para mantener la consola limpia"
   ]
  },
  {
   "cell_type": "markdown",
   "metadata": {
    "id": "Es00P1FOQAje"
   },
   "source": [
    "Así es como se ve el UMAP:"
   ]
  },
  {
   "cell_type": "code",
   "execution_count": null,
   "metadata": {
    "colab": {
     "base_uri": "https://localhost:8080/",
     "height": 437
    },
    "executionInfo": {
     "elapsed": 12,
     "status": "ok",
     "timestamp": 1714164601027,
     "user": {
      "displayName": "Adolfo Alexis Rojas Hidalgo",
      "userId": "18158766317608392773"
     },
     "user_tz": 240
    },
    "id": "KhRAUnt1WwPP",
    "outputId": "704d9114-36f4-4595-d9f0-20e16948283e",
    "vscode": {
     "languageId": "r"
    }
   },
   "outputs": [],
   "source": [
    "# Crear un gráfico UMAP con etiquetas de clúster basadas en 'seurat_annotations'\n",
    "scPlot <- DimPlot(testdata, label = TRUE, group.by = 'seurat_annotations')\n",
    "\n",
    "# Mostrar el gráfico\n",
    "scPlot\n",
    "\n",
    "# Opcional: Guardar el gráfico como una imagen (comentado)\n",
    "# ggsave(\"01-DimPlot.png\", plot = scPlot, bg = \"white\")"
   ]
  },
  {
   "cell_type": "markdown",
   "metadata": {
    "id": "Lt6tjyZlrF98"
   },
   "source": [
    "## Ejecutando Monocle3"
   ]
  },
  {
   "cell_type": "markdown",
   "metadata": {
    "id": "dY27ELgPshLw"
   },
   "source": [
    "Para analizar trayectorias celulares usando Monocle3, primero necesitamos convertir nuestro objeto Seurat a un formato que Monocle3 pueda procesar. Esto se realiza con la función `as.cell_data_set()` del paquete SeuratWrappers. Esta función transforma el objeto Seurat en un objeto CellDataSet, que sirve como entrada para los algoritmos de inferencia de trayectorias de Monocle3. Una vez convertido, este objeto puede utilizarse para construir trayectorias de desarrollo, inferir pseudotiempo y analizar las transiciones entre estados celulares."
   ]
  },
  {
   "cell_type": "code",
   "execution_count": null,
   "metadata": {
    "colab": {
     "base_uri": "https://localhost:8080/"
    },
    "executionInfo": {
     "elapsed": 11,
     "status": "ok",
     "timestamp": 1714164601027,
     "user": {
      "displayName": "Adolfo Alexis Rojas Hidalgo",
      "userId": "18158766317608392773"
     },
     "user_tz": 240
    },
    "id": "zSfhX5732TcT",
    "outputId": "496fb697-7adf-429e-cf29-4969d8beba22",
    "vscode": {
     "languageId": "r"
    }
   },
   "outputs": [],
   "source": [
    "# Convertir el objeto Seurat en un cell_data_set (cds) compatible con Monocle3\n",
    "cds <- as.cell_data_set(testdata)\n",
    "\n",
    "# Almacenar los nombres de los genes como metadatos en el conjunto de datos celular\n",
    "fData(cds)$gene_short_name <- rownames(fData(cds))"
   ]
  },
  {
   "cell_type": "code",
   "execution_count": null,
   "metadata": {
    "colab": {
     "base_uri": "https://localhost:8080/"
    },
    "executionInfo": {
     "elapsed": 10,
     "status": "ok",
     "timestamp": 1714164601027,
     "user": {
      "displayName": "Adolfo Alexis Rojas Hidalgo",
      "userId": "18158766317608392773"
     },
     "user_tz": 240
    },
    "id": "a0zS_mqjfMTo",
    "outputId": "9fe14039-65fe-4171-8aaa-23b414ea5303",
    "vscode": {
     "languageId": "r"
    }
   },
   "outputs": [],
   "source": [
    "# Obtener una visión general de la estructura del conjunto de datos celular (cds)\n",
    "cds %>% dplyr::glimpse()"
   ]
  },
  {
   "cell_type": "markdown",
   "metadata": {
    "id": "djlQWX4sWKfL"
   },
   "source": [
    "### **Inferencia de trayectoria**\n",
    "\n",
    "Monocle3 determina si las células deben ubicarse dentro de la misma trayectoria o asignarse a trayectorias separadas mediante su algoritmo de agrupamiento. Durante este proceso, cada célula no solo se agrupa en un clúster, sino que también se asigna a una partición, que representa regiones distintas del conjunto de datos. Al construir trayectorias, Monocle3 trata cada partición como una trayectoria separada. En este paso, primero agrupamos las células usando la función`cluster_cells()` que identifica agrupamientos biológicamente significativos. Luego, utilizamos `learn_graph()` para inferir la estructura de la trayectoria, lo que nos permite visualizar y analizar las rutas de desarrollo que siguen las células."
   ]
  },
  {
   "cell_type": "code",
   "execution_count": null,
   "metadata": {
    "colab": {
     "base_uri": "https://localhost:8080/"
    },
    "executionInfo": {
     "elapsed": 65606,
     "status": "ok",
     "timestamp": 1714164666624,
     "user": {
      "displayName": "Adolfo Alexis Rojas Hidalgo",
      "userId": "18158766317608392773"
     },
     "user_tz": 240
    },
    "id": "fLZHr4HNgo4H",
    "outputId": "c49ee5f7-1140-4426-905e-c90766e07c8d",
    "vscode": {
     "languageId": "r"
    }
   },
   "outputs": [],
   "source": [
    "cds <- cluster_cells(cds = cds,  # Realizar el agrupamiento en el conjunto de datos celulares\n",
    "                     reduction_method = \"UMAP\",  # Usar UMAP para la reducción dimensional\n",
    "                     cluster_method = 'louvain') %>%  # Aplicar el algoritmo Louvain para el agrupamiento\n",
    "       learn_graph(use_partition = T)  # Aprender la gráfica de la trayectoria celular\n"
   ]
  },
  {
   "cell_type": "markdown",
   "metadata": {
    "id": "CXQIHuDgOyoE"
   },
   "source": [
    "A continuación, visualizamos la trayectoria inferida para examinar cómo se organizan las células a lo largo de las vías de desarrollo.\n",
    "\n",
    "En el gráfico, las líneas negras representan la estructura de la trayectoria inferida, formando un grafo que conecta células relacionadas. Si el grafo no está completamente conectado, indica que las células en diferentes particiones siguen caminos de desarrollo distintos.\n",
    "\n",
    "Los puntos especiales dentro del grafo están marcados con círculos numerados.\n",
    "Los círculos gris claro en los extremos de las ramas corresponden a destinos celulares distintos — posibles estados finales en la trayectoria.\n",
    "Los círculos negros representan puntos de bifurcación, donde las células pueden seguir diferentes direcciones de desarrollo.\n",
    "\n",
    "La visualización puede personalizarse usando los argumentos `label_leaves` y `label_branch_points` en la función `plot_cells()`. Estas opciones controlan si los destinos celulares y los puntos de bifurcación se etiquetan en el gráfico. Es importante notar que los números mostrados en los círculos son solo marcadores de referencia y no implican un significado biológico específico."
   ]
  },
  {
   "cell_type": "code",
   "execution_count": null,
   "metadata": {
    "colab": {
     "base_uri": "https://localhost:8080/",
     "height": 437
    },
    "executionInfo": {
     "elapsed": 2415,
     "status": "ok",
     "timestamp": 1714164669031,
     "user": {
      "displayName": "Adolfo Alexis Rojas Hidalgo",
      "userId": "18158766317608392773"
     },
     "user_tz": 240
    },
    "id": "27PFUEnEgu_c",
    "outputId": "606e2cad-3119-4268-ca7d-1e6666e580d9",
    "vscode": {
     "languageId": "r"
    }
   },
   "outputs": [],
   "source": [
    "# Generar un gráfico UMAP que muestra los grupos celulares junto con los puntos clave de la trayectoria \n",
    "scPlot <- plot_cells(cds, \n",
    "                     color_cells_by = \"cluster\",  # Colorear las células según la asignación de grupo\n",
    "                     label_groups_by_cluster = FALSE,  # No etiquetar los grupos \n",
    "                     label_branch_points = TRUE,  # Etiquetar los puntos de bifurcación en la trayectoria\n",
    "                     label_roots = TRUE,  # Etiquetar las células raíz en la trayectoria  \n",
    "                     label_leaves = TRUE,  # Etiquetar los nodos hoja en la trayectoria  \n",
    "                     group_label_size = 5)  # Definir el tamaño de fuente para las etiquetas  \n",
    "\n",
    "# Mostrar el gráfico  \n",
    "scPlot  \n",
    "\n",
    "# Opcional: Guardar el gráfico como imagen  \n",
    "# ggsave(\"02-plot_cells.png\", plot = scPlot, bg = \"white\", width = 9, height = 9, dpi = 600)"
   ]
  },
  {
   "cell_type": "markdown",
   "metadata": {
    "id": "ZjtS3Ap6ZKDW"
   },
   "source": [
    "Aquí podemos tener una visualización más limpia al eliminar las etiquetas."
   ]
  },
  {
   "cell_type": "code",
   "execution_count": null,
   "metadata": {
    "colab": {
     "base_uri": "https://localhost:8080/",
     "height": 437
    },
    "executionInfo": {
     "elapsed": 2030,
     "status": "ok",
     "timestamp": 1714164671054,
     "user": {
      "displayName": "Adolfo Alexis Rojas Hidalgo",
      "userId": "18158766317608392773"
     },
     "user_tz": 240
    },
    "id": "bT7lwGnmZJj1",
    "outputId": "b9693a79-8b43-4e7f-c745-3758893919d4",
    "vscode": {
     "languageId": "r"
    }
   },
   "outputs": [],
   "source": [
    "# Generar un gráfico UMAP que muestre los clústeres celulares sin las marcas de trayectoria  \n",
    "scPlot <- plot_cells(cds, \n",
    "                     color_cells_by = \"cluster\",  # Colorear las células según la asignación de clúster \n",
    "                     label_groups_by_cluster = FALSE,  # No etiquetar los clústeres  \n",
    "                     label_branch_points = FALSE,  # No etiquetar los puntos de bifurcación  \n",
    "                     label_roots = FALSE,  # No etiquetar las células raíz \n",
    "                     label_leaves = FALSE,  # No etiquetar los nodos hoja  \n",
    "                     group_label_size = 5)  # Ajustar el tamaño de fuente para las etiquetas\n",
    "\n",
    "# Mostrar el gráfico  \n",
    "scPlot  \n",
    "\n",
    "# Opcional: Guardar el gráfico como imagen\n",
    "# ggsave(\"03-plot_cells.png\", plot = scPlot, bg = \"white\", width = 9, height = 9, dpi = 600)"
   ]
  },
  {
   "cell_type": "markdown",
   "metadata": {
    "id": "A2nw58WgNkgQ"
   },
   "source": [
    "**Inferencia de pseudotiempo**\n",
    "\n",
    "El pseudotiempo estima el progreso de las células a través de un proceso biológico basándose en similitudes en la expresión génica. Monocle3 ordena las células a lo largo de una trayectoria, asignando un valor de pseudotiempo que refleja su posición relativa desde un punto de inicio definido. Las células más cercanas a la raíz tienen valores de pseudotiempo más bajos, mientras que aquellas más avanzadas en la trayectoria presentan valores más altos, indicando estados más desarrollados. Esto ayuda a modelar la diferenciación e identificar cambios regulatorios clave a lo largo del tiempo.\n",
    "\n",
    "Monocle3 ordena las células a lo largo de una trayectoria aprendida usando el pseudotiempo, que representa una medida abstracta del progreso. El pseudotiempo se determina por la distancia entre una célula y el punto inicial de la trayectoria, medida a lo largo del camino más corto. La longitud de la trayectoria corresponde a los cambios transcripcionales totales que una célula experimenta desde el estado inicial hasta el final."
   ]
  },
  {
   "cell_type": "markdown",
   "metadata": {
    "id": "5wDsBz6Jb3Rc"
   },
   "source": [
    "Comparando el UMAP anotado y la trayectoria de Monocle3, podemos definir cuáles clústeres de Monocle3 son las raíces para inferir la diferenciación:"
   ]
  },
  {
   "cell_type": "code",
   "execution_count": null,
   "metadata": {
    "colab": {
     "base_uri": "https://localhost:8080/",
     "height": 472
    },
    "executionInfo": {
     "elapsed": 6262,
     "status": "ok",
     "timestamp": 1714164677314,
     "user": {
      "displayName": "Adolfo Alexis Rojas Hidalgo",
      "userId": "18158766317608392773"
     },
     "user_tz": 240
    },
    "id": "3lX92BAhcBej",
    "outputId": "bf2353fc-166b-49b0-d22d-18ade7988f49",
    "vscode": {
     "languageId": "r"
    }
   },
   "outputs": [],
   "source": [
    "# Establecer tamaño del gráfico (opcional)  \n",
    "# options(repr.plot.height = 9, repr.plot.width = 16)\n",
    "\n",
    "# Crear un gráfico UMAP con anotaciones de clústeres desde Seurat\n",
    "gumap <- DimPlot(testdata, label = TRUE, group.by = 'seurat_annotations')\n",
    "\n",
    "# Crear un gráfico de Monocle3 mostrando clústeres sin marcas de trayectoria  \n",
    "gcluster <- plot_cells(cds, \n",
    "                       color_cells_by = \"cluster\",  \n",
    "                       label_groups_by_cluster = FALSE,  \n",
    "                       label_branch_points = FALSE,  \n",
    "                       label_roots = FALSE,  \n",
    "                       label_leaves = FALSE,  \n",
    "                       group_label_size = 5)\n",
    "\n",
    "# Combinar ambos gráficos en una sola figura  \n",
    "scPlot <- gumap + gcluster + theme(aspect.ratio = 1)\n",
    "\n",
    "# Mostrar el gráfico combinado  \n",
    "scPlot  \n",
    "\n",
    "# Opcional: Guardar el gráfico como imagen\n",
    "# ggsave(\"04-DimPlot-plot_cells.png\", plot = scPlot, bg = \"white\", width = 18, height = 9, dpi = 600)"
   ]
  },
  {
   "cell_type": "markdown",
   "metadata": {
    "id": "mHH6W9kfcB9R"
   },
   "source": [
    "Luego, usando el siguiente comando, podemos seleccionar las células raíz o estados iniciales en la trayectoria e inferir el pseudotiempo para cada una de las otras células."
   ]
  },
  {
   "cell_type": "code",
   "execution_count": null,
   "metadata": {
    "executionInfo": {
     "elapsed": 1043,
     "status": "ok",
     "timestamp": 1714164678349,
     "user": {
      "displayName": "Adolfo Alexis Rojas Hidalgo",
      "userId": "18158766317608392773"
     },
     "user_tz": 240
    },
    "id": "MyjwsBAmgvCP",
    "vscode": {
     "languageId": "r"
    }
   },
   "outputs": [],
   "source": [
    "# Asignar un orden pseudotemporal a las células usando clusters específicos como células raíz  \n",
    "cds <- order_cells(cds, \n",
    "                   reduction_method = \"UMAP\",  # Usar UMAP para la inferencia de la trayectoria \n",
    "                   root_cells = colnames(cds[, clusters(cds) %in% c(3, 15, 9, 22)]))  # Especificar clusters raíz"
   ]
  },
  {
   "cell_type": "markdown",
   "metadata": {
    "id": "TXd33A1gOGkK"
   },
   "source": [
    "Luego podemos colorear las células a lo largo de su trayectoria utilizando sus pseudotiempos."
   ]
  },
  {
   "cell_type": "code",
   "execution_count": null,
   "metadata": {
    "colab": {
     "base_uri": "https://localhost:8080/",
     "height": 506
    },
    "executionInfo": {
     "elapsed": 4005,
     "status": "ok",
     "timestamp": 1714164682351,
     "user": {
      "displayName": "Adolfo Alexis Rojas Hidalgo",
      "userId": "18158766317608392773"
     },
     "user_tz": 240
    },
    "id": "elEM9t6zQVe1",
    "outputId": "e353f8f1-7cdf-4dc2-cc43-9e3616ca05f9",
    "vscode": {
     "languageId": "r"
    }
   },
   "outputs": [],
   "source": [
    "# Establecer tamaño del gráfico (opcional)  \n",
    "options(repr.plot.height = 7, repr.plot.width = 7)\n",
    "\n",
    "# Generar un gráfico UMAP con las células coloreadas según el pseudotiempo\n",
    "scPlot1 <- plot_cells(cds, \n",
    "                      color_cells_by = \"pseudotime\",  # Colorear las células según su pseudotiempo  \n",
    "                      label_groups_by_cluster = FALSE,  \n",
    "                      label_branch_points = FALSE,  \n",
    "                      label_roots = FALSE,  \n",
    "                      label_leaves = FALSE,  \n",
    "                      group_label_size = 5)\n",
    "\n",
    "# Mostrar el gráfico  \n",
    "scPlot1  \n",
    "\n",
    "# Guardar el gráfico como una imagen \n",
    "ggsave(\"05-plot_cells.png\", plot = scPlot1, bg = \"white\", width = 9, height = 9, dpi = 600)"
   ]
  },
  {
   "cell_type": "markdown",
   "metadata": {
    "id": "BrbOCkpWW0D0"
   },
   "source": [
    "Una representación conjunta en UMAP de los Clústeres de Seurat, la Trayectoria y los Pseudotiempos."
   ]
  },
  {
   "cell_type": "code",
   "execution_count": null,
   "metadata": {
    "colab": {
     "base_uri": "https://localhost:8080/",
     "height": 472
    },
    "executionInfo": {
     "elapsed": 8568,
     "status": "ok",
     "timestamp": 1714164690911,
     "user": {
      "displayName": "Adolfo Alexis Rojas Hidalgo",
      "userId": "18158766317608392773"
     },
     "user_tz": 240
    },
    "id": "iCxXr6IxXWGA",
    "outputId": "c70a1ffc-bdcc-4def-9d08-1d88903a9754",
    "vscode": {
     "languageId": "r"
    }
   },
   "outputs": [],
   "source": [
    "# Establecer tamaño del gráfico (opcional)  \n",
    "# options(repr.plot.height=6, repr.plot.width=16)\n",
    "\n",
    "# Combinar gráficos previos (UMAP de Seurat, clústeres de Monocle3 y pseudotiempo)  \n",
    "scPlot <- gumap + gcluster + scPlot1\n",
    "\n",
    "# Mostrar la figura combinada  \n",
    "scPlot  \n",
    "\n",
    "# Guardar el gráfico combinado como imagen  \n",
    "ggsave(\"06-Multiple_plots.png\", plot = scPlot, bg = \"white\", width = 27, height = 9, dpi = 600)"
   ]
  },
  {
   "cell_type": "markdown",
   "metadata": {
    "id": "2C_wYN2UR2bR"
   },
   "source": [
    "Podemos ordenar los clústeres de Seurat según los pseudotiempos con los que están asociados."
   ]
  },
  {
   "cell_type": "code",
   "execution_count": null,
   "metadata": {
    "colab": {
     "base_uri": "https://localhost:8080/",
     "height": 489
    },
    "executionInfo": {
     "elapsed": 345,
     "status": "ok",
     "timestamp": 1714164691247,
     "user": {
      "displayName": "Adolfo Alexis Rojas Hidalgo",
      "userId": "18158766317608392773"
     },
     "user_tz": 240
    },
    "id": "AiXew6cKR1zu",
    "outputId": "29b34d6a-5143-4abd-d618-1c9bcf31ad64",
    "vscode": {
     "languageId": "r"
    }
   },
   "outputs": [],
   "source": [
    "# Establecer tamaño del gráfico (opcional)  \n",
    "# options(repr.plot.height=7, repr.plot.width=7)\n",
    "\n",
    "# Extraer valores de pseudotiempo de Monocle3  \n",
    "cds$monocle3_pseudotime <- pseudotime(cds)\n",
    "\n",
    "# Convertir los metadatos celulares en un dataframe \n",
    "data.pseudo <- as.data.frame(colData(cds))\n",
    "\n",
    "# Generar un diagrama de caja que muestra la distribución del pseudotiempo entre los tipos celulares  \n",
    "scPlot <- ggplot(data.pseudo, aes(monocle3_pseudotime, \n",
    "                                  reorder(seurat_annotations, monocle3_pseudotime),  # Ordenar por pseudotiempo  \n",
    "                                  fill = seurat_annotations)) +  # Colorear por tipo celular  \n",
    "          geom_boxplot()  # Crear diagrama de caja   \n",
    "\n",
    "# Mostrar el diagrama de caja  \n",
    "scPlot  \n",
    "\n",
    "# Opcional: Guardar el gráfico como imagen  \n",
    "# ggsave(\"07-boxplot.png\", plot = scPlot, bg = \"white\")"
   ]
  },
  {
   "cell_type": "markdown",
   "metadata": {
    "id": "J39nrPvFXEjH"
   },
   "source": [
    "Finalmente, podemos examinar cómo cambia la expresión génica de algunos genes a lo largo del pseudotiempo."
   ]
  },
  {
   "cell_type": "code",
   "execution_count": null,
   "metadata": {
    "executionInfo": {
     "elapsed": 2,
     "status": "ok",
     "timestamp": 1714164691247,
     "user": {
      "displayName": "Adolfo Alexis Rojas Hidalgo",
      "userId": "18158766317608392773"
     },
     "user_tz": 240
    },
    "id": "bwD003xLYjI1",
    "vscode": {
     "languageId": "r"
    }
   },
   "outputs": [],
   "source": [
    "# Extraer datos de expresión para genes seleccionados (CD44 y CXCL2)  \n",
    "cds_subset <- cds[c('CD44', 'CXCL2'), ]"
   ]
  },
  {
   "cell_type": "code",
   "execution_count": null,
   "metadata": {
    "colab": {
     "base_uri": "https://localhost:8080/",
     "height": 576
    },
    "executionInfo": {
     "elapsed": 7989,
     "status": "ok",
     "timestamp": 1714164699235,
     "user": {
      "displayName": "Adolfo Alexis Rojas Hidalgo",
      "userId": "18158766317608392773"
     },
     "user_tz": 240
    },
    "id": "x1XETZdZZtxO",
    "outputId": "d8b22e97-9489-42af-f6e9-f27e361861e3",
    "vscode": {
     "languageId": "r"
    }
   },
   "outputs": [],
   "source": [
    "# Generar un gráfico que muestre la expresión de los genes seleccionados a lo largo del pseudotiempo  \n",
    "scPlot <- plot_genes_in_pseudotime(cds_subset)\n",
    "\n",
    "# Mostrar el gráfico  \n",
    "scPlot  \n",
    "\n",
    "# Opcional: Guardar el gráfico como una imagen  \n",
    "# ggsave(\"08-genes_in_pseudotime.png\", plot = scPlot, bg = \"white\")"
   ]
  },
  {
   "cell_type": "code",
   "execution_count": null,
   "metadata": {
    "executionInfo": {
     "elapsed": 10,
     "status": "ok",
     "timestamp": 1714164699235,
     "user": {
      "displayName": "Adolfo Alexis Rojas Hidalgo",
      "userId": "18158766317608392773"
     },
     "user_tz": 240
    },
    "id": "tipUDrurg4UO",
    "vscode": {
     "languageId": "r"
    }
   },
   "outputs": [],
   "source": [
    "# El siguiente código identifica genes que cambian su expresión a lo largo del pseudotiempo.   \n",
    "# Sin embargo, ejecutar esto puede llevar bastante tiempo.  \n",
    "\n",
    "# cds_pr_test_res <- graph_test(cds, neighbor_graph=\"principal_graph\", cores=4)  # Perform differential expression analysis  \n",
    "# pr_deg_ids <- row.names(subset(cds_pr_test_res, q_value < 0.05))  # Select significant genes based on q-value  "
   ]
  },
  {
   "cell_type": "markdown",
   "metadata": {
    "id": "3yF7ucbruY_j"
   },
   "source": [
    "## Preguntas adicionales:\n",
    "\n",
    "- ¿Cómo afecta la selección de diferentes células raíz al análisis?  \n",
    "- Realiza el análisis para un tipo celular de interés. ¿Puedes identificar subtipos celulares?  \n",
    "- ¿Cambian los genes marcadores de este tipo celular a lo largo del pseudotiempo?  "
   ]
  },
  {
   "cell_type": "code",
   "execution_count": 24,
   "metadata": {
    "executionInfo": {
     "elapsed": 10,
     "status": "ok",
     "timestamp": 1714164699235,
     "user": {
      "displayName": "Adolfo Alexis Rojas Hidalgo",
      "userId": "18158766317608392773"
     },
     "user_tz": 240
    },
    "id": "cJoCML_XsUEg",
    "vscode": {
     "languageId": "r"
    }
   },
   "outputs": [],
   "source": []
  }
 ],
 "metadata": {
  "colab": {
   "collapsed_sections": [
    "1qOd4r2Siqug",
    "vjg2X61cpzdh"
   ],
   "provenance": []
  },
  "kernelspec": {
   "display_name": "R",
   "name": "ir"
  },
  "language_info": {
   "name": "R"
  }
 },
 "nbformat": 4,
 "nbformat_minor": 0
}
