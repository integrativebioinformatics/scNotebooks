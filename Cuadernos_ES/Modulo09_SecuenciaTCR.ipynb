{
  "cells": [
    {
      "cell_type": "markdown",
      "id": "7981e7db",
      "metadata": {
        "id": "7981e7db",
        "lines_to_next_cell": 0
      },
      "source": [
        "## Cargar librerías y establecer rutas de directorio de usuario"
      ]
    },
    {
      "cell_type": "code",
      "execution_count": null,
      "id": "dLEbrpsq4htQ",
      "metadata": {
        "colab": {
          "base_uri": "https://localhost:8080/"
        },
        "id": "dLEbrpsq4htQ",
        "outputId": "da61f387-36fb-40ff-9912-00cb5dd23ff6",
        "vscode": {
          "languageId": "r"
        }
      },
      "outputs": [],
      "source": [
        "## Función para ejecutar comandos de terminal en Google Colab con el kernel de R\n",
        "shell_call <- function(command, ...) {\n",
        "  result <- system(command, intern = TRUE, ...) # Ejecuta el comando de terminal y guarda la salida\n",
        "  cat(paste0(result, collapse = \"\\n\")) # Imprime la salida en la consola\n",
        "}\n",
        "\n",
        "## Función para cargar múltiples paquetes de R\n",
        "loadPackages = function(pkgs){\n",
        "  myrequire = function(...){\n",
        "    suppressWarnings(suppressMessages(suppressPackageStartupMessages(require(...))))\n",
        "  }\n",
        "  ok = sapply(pkgs, require, character.only=TRUE, quietly=TRUE) # Verifica si cada paquete está instalado\n",
        "  if (!all(ok)){\n",
        "    message(\"Faltan los siguientes paquetes: \", paste(pkgs[!ok], collapse=\", \")) # Muestra los paquetes faltantes\n",
        "  }\n",
        "}\n",
        "\n",
        "## Descargar el código para agregar R2U (sistema rápido de instalación de paquetes)\n",
        "download.file(\"https://github.com/eddelbuettel/r2u/raw/master/inst/scripts/add_cranapt_jammy.sh\",\n",
        "              \"add_cranapt_jammy.sh\")\n",
        "Sys.chmod(\"add_cranapt_jammy.sh\", \"0755\") # Cambiar permisos para permitir ejecución\n",
        "\n",
        "## Ejecutar el código para configurar R2U\n",
        "shell_call(\"./add_cranapt_jammy.sh\")\n",
        "\n",
        "## Habilitar el gestor de paquetes BSPM para instalar paquetes a nivel del sistema\n",
        "bspm::enable()\n",
        "options(bspm.version.check=FALSE)\n",
        "\n",
        "## Eliminar el código de configuración para mantener limpio el entorno de trabajo\n",
        "shell_call(\"rm add_cranapt_jammy.sh\")\n",
        "\n",
        "## Definir la lista de paquetes a instalar\n",
        "cranPkgs2Install = c(\"dplyr\", \"ggpubr\", \"Seurat\", \"cowplot\",\n",
        "                     \"Rtsne\", \"hdf5r\", \"patchwork\")\n",
        "\n",
        "## Instalar todos los paquetes sin pedir confirmación al usuario\n",
        "install.packages(cranPkgs2Install, ask=FALSE, update=TRUE, quietly=TRUE)"
      ]
    },
    {
      "cell_type": "code",
      "execution_count": null,
      "id": "uh5ddKX543wZ",
      "metadata": {
        "colab": {
          "base_uri": "https://localhost:8080/"
        },
        "id": "uh5ddKX543wZ",
        "outputId": "50740b4d-8853-4cb5-e39c-e08b86fe7e9e",
        "vscode": {
          "languageId": "r"
        }
      },
      "outputs": [],
      "source": [
        "## Para simplificar la carga de paquetes, usamos la función loadPackages().\n",
        "## Pero si no tienes la función, puedes usar 'library(nombre_del_paquete)'\n",
        "pkgs = c(\"Seurat\", \"dplyr\", \"patchwork\") # Lista de paquetes a cargar\n",
        "loadPackages(pkgs) # Carga los paquetes usando la función definida previamente\n",
        "\n",
        "## Definir el directorio donde se guardarán y accederán los datos\n",
        "## IMPORTANTE: El usuario debe cambiar \"scw01\" por el nombre real de su directorio de trabajo\n",
        "mydir <- \"/content\""
      ]
    },
    {
      "cell_type": "markdown",
      "id": "768061cb",
      "metadata": {},
      "source": [
        "# Introducción\n",
        "\n",
        "En este cuaderno (notebook), profundizaremos en el análisis de datos unicelulares multimodales. Nos centraremos en una muestra de cáncer de pulmón de células no pequeñas (CPNM) procesada mediante la tecnología de perfil inmunológico 10X 5'. Esta tecnología avanzada captura las secuencias de ARN y de receptores de células T de cada célula, lo que proporciona una visión completa del panorama celular.\n",
        "\n",
        "Puede descargar el conjunto de datos desde el sitio web de 10x Genomics aquí.\n",
        "\n",
        "Antes de continuar, le rogamos que lea la descripción detallada del procesamiento de la muestra y los pasos iniciales del análisis que se ofrecen en la página web. Esto le proporcionará información valiosa sobre el contexto y la configuración experimental y la calidad de los datos.\n"
      ]
    },
    {
      "cell_type": "markdown",
      "id": "bf04be78",
      "metadata": {
        "id": "bf04be78",
        "lines_to_next_cell": 0
      },
      "source": [
        "## Secuencia de TCR\n",
        "El enfoque de secuenciación de TCR en célula única permite un análisis de alta resolución de la diversidad de los receptores de células T, identificando clonotipos específicos y sus funciones en el sistema inmunológico. A diferencia de la secuenciación masiva, que combina información de múltiples células, el método de célula única preserva la identidad individual de cada célula T, permitiendo la correlación entre el perfil transcriptómico y el repertorio de TCR.\n",
        "\n",
        "## NOTA:\n",
        "\n",
        "En este cuaderno, repasaremos brevemente los pasos clave del análisis de célula única. Dado que este módulo se centra en el análisis de la secuencia de TCR, proporcionaremos una visión general de los principales procesos. Para explicaciones más detalladas de cada paso, consulte los otros módulos disponibles.\n",
        "\n",
        "### Leer cuentas a nivel de gen sin procesar y metadatos"
      ]
    },
    {
      "cell_type": "code",
      "execution_count": null,
      "id": "Kwuh5ZmU06eQ",
      "metadata": {
        "id": "Kwuh5ZmU06eQ",
        "vscode": {
          "languageId": "r"
        }
      },
      "outputs": [],
      "source": [
        "# Descargar una matriz de genes y códigos de barras filtrada de 10X Genomics\n",
        "# Este comando usa curl para descargar un archivo desde internet. (-O) Guarda el archivo con el mismo nombre original.\n",
        "shell_call(\"curl -O https://cf.10xgenomics.com/samples/cell-vdj/5.0.0/vdj_v1_hs_nsclc_multi_5gex_t_b/vdj_v1_hs_nsclc_multi_5gex_t_b_count_filtered_feature_bc_matrix.tar.gz\")\n",
        "\n",
        "## Extraer el archivo descargado (descomprimir el conjunto de datos)\n",
        "# tar -xf le indica a tar que extraiga (-x) el archivo especificado (-f) y lo descomprima.\n",
        "shell_call(\"tar -xf /content/vdj_v1_hs_nsclc_multi_5gex_t_b_count_filtered_feature_bc_matrix.tar.gz\")\n"
      ]
    },
    {
      "cell_type": "code",
      "execution_count": null,
      "id": "716599e9",
      "metadata": {
        "id": "716599e9",
        "vscode": {
          "languageId": "r"
        }
      },
      "outputs": [],
      "source": [
        "# Leer la matriz filtrada de características y códigos de barras en un objeto tipo matriz\n",
        "# Este comando carga los datos de un archivo 10X Genomics \n",
        "# ubicado en el directorio especificado y los asigna a la variable counts.\n",
        "counts <- Read10X(paste0(mydir, \"/filtered_feature_bc_matrix/\"))\n"
      ]
    },
    {
      "cell_type": "markdown",
      "id": "b8d87cea",
      "metadata": {
        "id": "b8d87cea",
        "lines_to_next_cell": 0
      },
      "source": [
        "### Crear el objeto Seurat\n",
        "\n",
        "A continuación, utilizaremos la matriz de cuentas y los metadatos para crear un objeto Seurat. Este objeto actúa como un contenedor integral que alberga no solo los datos de cuentas sin procesar y los metadatos, sino también los resultados de análisis posteriores, como el PCA (Análisis de Componentes Principales) y los resultados de agrupamiento (clustering). Este contenedor centralizado permite una manipulación y un análisis de datos optimizados, proporcionando una estructura organizada para nuestro conjunto de datos scRNA-Seq.\n",
        "\n",
        "Al crear un objeto Seurat, podemos gestionar y analizar nuestros datos de forma eficiente, lo que facilita la realización de operaciones complejas y la visualización de los resultados.\n"
      ]
    },
    {
      "cell_type": "code",
      "execution_count": null,
      "id": "4efb3bda",
      "metadata": {
        "colab": {
          "base_uri": "https://localhost:8080/",
          "height": 86
        },
        "id": "4efb3bda",
        "name": "create_object",
        "outputId": "68e793da-7a4b-409d-f013-6a0541aa60c8",
        "vscode": {
          "languageId": "r"
        }
      },
      "outputs": [],
      "source": [
        "# Crear un objeto Seurat usando la matriz de cuentas crudas\n",
        "seurat.raw <- CreateSeuratObject(counts = counts)\n",
        "\n",
        "# Mostrar el contenido del objeto Seurat\n",
        "seurat.raw"
      ]
    },
    {
      "cell_type": "markdown",
      "id": "566fc4cd",
      "metadata": {
        "id": "566fc4cd",
        "lines_to_next_cell": 0
      },
      "source": [
        "### Explorando el objeto Seurat\n",
        "\n",
        "El primer paso de nuestro análisis es familiarizarnos con el conjunto de datos almacenado en el objeto Seurat. Seurat proporciona potentes herramientas que nos permiten explorar y visualizar nuestros datos de cuentas junto con los metadatos asociados. Esto nos permite comprender a fondo nuestros datos de scRNA-Seq.\n",
        "\n",
        "Al aprovechar las capacidades de Seurat, podemos realizar diversos análisis exploratorios, como:\n",
        "\n",
        "    * Inspección de la distribución de la expresión génica: Podemos visualizar la distribución de los niveles de expresión génica entre células para identificar genes altamente expresados y detectar posibles valores atípicos (outliers).\n",
        "    * Exploración de metadatos: Podemos explorar los metadatos asociados a nuestras células, como las anotaciones de tipo celular, el origen de las muestras y las condiciones experimentales, para comprender el contexto y las características de nuestro conjunto de datos.\n",
        "    * Identificación de genes variables: Podemos identificar genes variables que presentan una variabilidad significativa entre células, lo que suele ser de interés para análisis posteriores como la agrupación y la expresión diferencial.\n",
        "    * Visualización de datos: Podemos crear visualizaciones como gráficos de violín, gráficos de características (feature plots) y mapas de calor para explorar los patrones de expresión de genes específicos y comparar diferentes grupos celulares.\n",
        "\n",
        "Al realizar estas exploraciones iniciales, sentamos las bases para análisis más avanzados, como la reducción de dimensionalidad, el agrupamiento (clustering) y el análisis de expresión diferencial. Este paso fundamental es crucial para comprender las particularidades de nuestro conjunto de datos y tomar decisiones informadas durante todo el proceso de análisis.\n"
      ]
    },
    {
      "cell_type": "code",
      "execution_count": null,
      "id": "3d9f20f2",
      "metadata": {
        "colab": {
          "base_uri": "https://localhost:8080/"
        },
        "id": "3d9f20f2",
        "outputId": "1868c511-d6ca-4675-fedb-013063a2f9c6",
        "vscode": {
          "languageId": "r"
        }
      },
      "outputs": [],
      "source": [
        "# ¿Cuántas células y genes tenemos actualmente?\n",
        "print(paste0(\"El número de genes es \", dim(seurat.raw)[1], \" y el número de células es \", dim(seurat.raw)[2]))\n",
        "\n",
        "# La función print() muestra el resultado en la consola.\n",
        "# La función dim() devuelve las dimensiones de un objeto, generalmente una matriz o un data frame.\n",
        "# En los objetos Seurat, la matriz de cuentas tiene genes como filas y células como columnas.\n",
        "# paste0() concatena (une) cadenas de texto sin espacios.\n",
        "# Las frases dentro de los paréntesis (\") también se imprimirán."
      ]
    },
    {
      "cell_type": "code",
      "execution_count": null,
      "id": "ecf76ca1",
      "metadata": {
        "colab": {
          "base_uri": "https://localhost:8080/",
          "height": 156
        },
        "id": "ecf76ca1",
        "outputId": "d8419919-8e7d-4a3a-ea62-bf393c03e1de",
        "vscode": {
          "languageId": "r"
        }
      },
      "outputs": [],
      "source": [
        "# Ver una porción (slice) de la matriz de cuentas\n",
        "# Recuerda: filas = genes, columnas = células/códigos de barras\n",
        "GetAssayData(seurat.raw, slot = \"counts\")[8:10,13:14]"
      ]
    },
    {
      "cell_type": "markdown",
      "id": "df0cc49f",
      "metadata": {
        "id": "df0cc49f"
      },
      "source": [
        "NOTA: Los puntos ('.') indican un valor cero. La tabla de conteos se almacena en formato de matriz dispersa, que almacena explícitamente sólo valores distintos de cero para ahorrar espacio."
      ]
    },
    {
      "cell_type": "code",
      "execution_count": null,
      "id": "794d5f3f",
      "metadata": {
        "colab": {
          "base_uri": "https://localhost:8080/"
        },
        "id": "794d5f3f",
        "outputId": "759b255c-89ff-4980-ad84-9505b452925b",
        "vscode": {
          "languageId": "r"
        }
      },
      "outputs": [],
      "source": [
        "## Mostrar las columnas de metadatos disponibles en el objeto Seurat\n",
        "# ¿Qué columnas de metadatos hay disponibles?\n",
        "print(colnames(seurat.raw@meta.data))\n",
        "\n",
        "# (@) Accede al slot meta.data del objeto seurat.raw.\n",
        "# El slot meta.data usualmente contiene metadatos de las células como:\n",
        "# el tipo celular, ID de muestra u otras anotaciones.\n",
        "# colnames() recupera los nombres de columna del data frame almacenado en meta.data"
      ]
    },
    {
      "cell_type": "code",
      "execution_count": null,
      "id": "46f178a9",
      "metadata": {
        "colab": {
          "base_uri": "https://localhost:8080/",
          "height": 541
        },
        "id": "46f178a9",
        "lines_to_next_cell": 2,
        "outputId": "5cda6272-e759-4191-b9b1-c74f0cb41cee",
        "vscode": {
          "languageId": "r"
        }
      },
      "outputs": [],
      "source": [
        "# Crear un gráfico de violín que muestre la distribución del número de UMIs por célula\n",
        "\n",
        "options(repr.plot.width=7, repr.plot.height=7) # Define el tamaño del gráfico\n",
        "VlnPlot(seurat.raw, features = c(\"nCount_RNA\"),y.max=2e4) \n",
        "\n",
        "# Crea un gráfico de violín para el número de moléculas de ARN (nCount_RNA) por célula\n",
        "# y.max=2e4: establece el valor máximo del eje y a 20,000\n"
      ]
    },
    {
      "cell_type": "markdown",
      "id": "530687fd",
      "metadata": {
        "id": "530687fd",
        "lines_to_next_cell": 0
      },
      "source": [
        "### Control de Calidad\n",
        "\n",
        "Ya hemos observado que Seurat calculó automáticamente dos de las principales métricas de control de calidad (CC): el número de UMI (Identificadores Moleculares Únicos) y el número de genes detectados por célula. La siguiente métrica importante de CC a considerar es el porcentaje de genes mitocondriales. Los genes mitocondriales pueden indicar estrés celular o apoptosis, por lo que es crucial monitorizar sus niveles de expresión.\n",
        "\n",
        "Para calcular el porcentaje de genes mitocondriales, utilizaremos el método PercentageFeatureSet de Seurat. Este método calcula el porcentaje de UMI que se originan a partir de genes que coinciden con un patrón específico. Para los genes mitocondriales, normalmente buscamos genes que empiezan por \"MT-\" (prefijo común para genes mitocondriales)."
      ]
    },
    {
      "cell_type": "code",
      "execution_count": null,
      "id": "05b0fe90",
      "metadata": {
        "colab": {
          "base_uri": "https://localhost:8080/",
          "height": 34
        },
        "id": "05b0fe90",
        "outputId": "f735a468-656f-4613-b3c5-03949d8e8de3",
        "vscode": {
          "languageId": "r"
        }
      },
      "outputs": [],
      "source": [
        "# Los genes mitocondriales humanos comienzan con \"MT-\", \n",
        "# así que calculamos el porcentaje que coincide con el patrón \"^MT-\"\n",
        "# Esta función calcula el porcentaje de cuentas para los genes que coinciden con ese patrón.\n",
        "# También crea una nueva columna de metadatos llamada percent.mt con esos valores.\n",
        "seurat.raw[[\"percent.mt\"]] <- PercentageFeatureSet(seurat.raw, pattern = \"^MT-\") \n",
        "\n",
        "# Ahora podemos ver que el % de expresión mitocondrial ha sido calculado para cada célula\n",
        "head(seurat.raw$percent.mt) # Muestra las primeras filas del porcentaje mitocondrial\n"
      ]
    },
    {
      "cell_type": "code",
      "execution_count": null,
      "id": "6aa83236",
      "metadata": {
        "colab": {
          "base_uri": "https://localhost:8080/",
          "height": 412
        },
        "id": "6aa83236",
        "outputId": "5cf2ca0a-cb05-4817-c607-8546e4485239",
        "vscode": {
          "languageId": "r"
        }
      },
      "outputs": [],
      "source": [
        "# Gráfico de violín para tres métricas de calidad: UMIs, número de genes, % mitocondrial\n",
        "options(repr.plot.width=12, repr.plot.height=6)\n",
        "VlnPlot(seurat.raw, features = c(\"nCount_RNA\", \"nFeature_RNA\", \"percent.mt\"))\n",
        "\n",
        "# Podemos visualizar las tres métricas de calidad celular juntas utilizando el método VlnPlot de Seurat"
      ]
    },
    {
      "cell_type": "markdown",
      "id": "a6e2636b",
      "metadata": {
        "id": "a6e2636b",
        "lines_to_next_cell": 0
      },
      "source": [
        "Suele ser útil visualizar estas métricas de control de calidad en conjunto, ya que las células con valores atípicos (outliers) en múltiples dimensiones tienen mayor probabilidad de ser de baja calidad. FeatureScatter de Seurat crea un diagrama de dispersión de dos columnas dadas a partir de nuestros metadatos."
      ]
    },
    {
      "cell_type": "code",
      "execution_count": null,
      "id": "08490ca8",
      "metadata": {
        "colab": {
          "base_uri": "https://localhost:8080/",
          "height": 377
        },
        "id": "08490ca8",
        "outputId": "0984aceb-5198-41af-d3a0-0daf6d2fd465",
        "vscode": {
          "languageId": "r"
        }
      },
      "outputs": [],
      "source": [
        "# Gráfico de dispersión: UMIs totales vs porcentaje de genes mitocondriales\n",
        "options(repr.plot.width=6, repr.plot.height=6)\n",
        "FeatureScatter(seurat.raw, feature1 = \"nCount_RNA\", feature2 = \"percent.mt\") \n",
        "# Visualiza UMIs vs % de genes mitocondriales"
      ]
    },
    {
      "cell_type": "code",
      "execution_count": null,
      "id": "2ae30cb8",
      "metadata": {
        "id": "2ae30cb8",
        "vscode": {
          "languageId": "r"
        }
      },
      "outputs": [],
      "source": [
        "# Una vez visualizadas las métricas, podemos definir los umbrales para filtrar\n",
        "# Usamos la función subset de R\n",
        "seurat.raw <- subset(\n",
        "    seurat.raw,\n",
        "    subset =\n",
        "        nFeature_RNA > 200 & # Elimina células con menos de 200 genes\n",
        "        nCount_RNA > 400 &   # Elimina células con menos de 400 UMIs\n",
        "        nFeature_RNA < 6000 & # Elimina células con más de 6000 genes (posibles dobles)\n",
        "        percent.mt < 40)     # Elimina células con más del 40% de ARN mitocondrial\n"
      ]
    },
    {
      "cell_type": "markdown",
      "id": "0c9759d4",
      "metadata": {},
      "source": [
        "### Normalización de datos en Seurat\n",
        "\n",
        "Tras eliminar las células no deseadas del conjunto de datos, el siguiente paso es normalizar los datos. La normalización es esencial para ajustar las diferencias en la profundidad de secuenciación entre las células, garantizando así comparaciones significativas.\n",
        "\n",
        "1.\tMétodo de Normalización: LogNormalize\n",
        "* El método de normalización más común en Seurat es el de escalamiento global denominado \"LogNormalize\". Este método consta de tres pasos  principales:\n",
        "\n",
        "2.\tNormalización por Expresión Total:\n",
        "* Para cada célula, el método calcula la expresión total (la suma de las cuentas de todos los genes).\n",
        "* Cada valor de expresión génica se divide por la expresión total de la célula para ajustar las diferencias en la profundidad de secuenciación.\n",
        "\n",
        "3.\tMultiplicación por un Factor de Escala:\n",
        "* Los valores normalizados se multiplican por un factor de escala (10.000 por defecto). Esto ayuda a obtener una escala más conveniente e interpretable.\n",
        "\n",
        "4.\tTransformación Logarítmica:\n",
        "* Finalmente, los valores normalizados se transforman logarítmicamente utilizando el logaritmo natural. La transformación logarítmica estabiliza la varianza y reduce el impacto de los valores atípicos, lo que aumenta la simetría en la distribución de los datos.\n",
        "\n",
        "5.\tAlmacenamiento de datos:\n",
        "* Los recuentos brutos originales se almacenan en seurat.raw[[\"RNA\"]]@counts. Este espacio (slot) contiene los datos de recuento no normalizados de cada gen en cada célula.\n",
        "* Los nuevos datos normalizados se almacenan en seurat.raw[[\"RNA\"]]@data. Este espacio (slot) contiene los valores de expresión normalizados y transformados logarítmicamente de cada gen en cada célula.\n"
      ]
    },
    {
      "cell_type": "code",
      "execution_count": null,
      "id": "5bc845ef",
      "metadata": {
        "colab": {
          "base_uri": "https://localhost:8080/"
        },
        "id": "5bc845ef",
        "lines_to_next_cell": 2,
        "outputId": "2443d394-cc12-4688-bd6a-21de0bd8fcde",
        "vscode": {
          "languageId": "r"
        }
      },
      "outputs": [],
      "source": [
        "# Normalizar los datos usando LogNormalization\n",
        "seurat.raw <- NormalizeData(seurat.raw, \n",
        "            normalization.method = \"LogNormalize\", scale.factor = 10000)"
      ]
    },
    {
      "cell_type": "markdown",
      "id": "84a98e84",
      "metadata": {
        "id": "84a98e84",
        "lines_to_next_cell": 0
      },
      "source": [
        "# Descubrimiento de genes variables estándar, escalamiento, PCA, agrupamiento y UMAP "
      ]
    },
    {
      "cell_type": "code",
      "execution_count": null,
      "id": "a2c776d9",
      "metadata": {
        "colab": {
          "base_uri": "https://localhost:8080/",
          "height": 1000
        },
        "id": "a2c776d9",
        "lines_to_next_cell": 2,
        "outputId": "2aa84d96-eb4c-41a4-b966-36f4d24bbf1e",
        "vscode": {
          "languageId": "r"
        }
      },
      "outputs": [],
      "source": [
        "# Identificar los genes más variables\n",
        "seurat.raw <- FindVariableFeatures(seurat.raw, selection.method = \"vst\", nfeatures = 2000)\n",
        "# Escalar los datos\n",
        "seurat.raw <- ScaleData(seurat.raw, features = VariableFeatures(seurat.raw), do.scale = T, do.center = T)\n",
        "# Ejecutar PCA (Análisis de Componentes Principales)\n",
        "seurat.raw <- RunPCA(seurat.raw, features = VariableFeatures(seurat.raw))\n",
        "# Encontrar vecinos celulares\n",
        "seurat.raw <- FindNeighbors(seurat.raw, dims = 1:20, k.param = 20)\n",
        "# Ejecutar UMAP con reducción PCA\n",
        "seurat.raw <- RunUMAP(seurat.raw, dims = 1:20, reduction = \"pca\", seed.use = 1)\n",
        "# Encontrar clústeres con baja resolución (0.1 es un buen punto de partida para identificar todas las células T)\n",
        "seurat.raw <- FindClusters(seurat.raw, resolution = 0.1)\n",
        "\n",
        "## Visualizar UMAP con etiquetas de la agrupación (clúster)\n",
        "DimPlot(seurat.raw, reduction = \"umap\", label = T,group.by = \"seurat_clusters\")"
      ]
    },
    {
      "cell_type": "markdown",
      "id": "8a6d5f3b",
      "metadata": {},
      "source": [
        "Observe el gráfico de características de los marcadores de tipo celular común para determinar qué grupo corresponde a las células T.\n",
        "\n",
        "* Genes de células T: CD3D, CD8A, GNLY\n",
        "* Gen de células B: CD79A\n",
        "* Gen de células mieloides: FCGR3A\n",
        "* Gen de células epiteliales (pulmonares): KRT7"
      ]
    },
    {
      "cell_type": "code",
      "execution_count": null,
      "id": "f1c1d1c2",
      "metadata": {
        "vscode": {
          "languageId": "r"
        }
      },
      "outputs": [],
      "source": [
        "## Mapa de expresión de genes marcadores específicos para identificar tipos celulares\n",
        "FeaturePlot(seurat.raw, features = c(\"CD3D\", \"CD8A\", \"GNLY\", \n",
        "                                    \"CD79A\", \"FCGR3A\", \"KRT7\"), min.cutoff = \"q1\")\n"
      ]
    },
    {
      "cell_type": "markdown",
      "id": "3f0aab5c",
      "metadata": {
        "id": "3f0aab5c",
        "lines_to_next_cell": 0
      },
      "source": [
        "### Integración de secuencias TCR\n",
        "\n",
        "En esta sección leeremos archivos generados por el software 10X CellRanger que describen las secuencias TCR encontradas en células individuales."
      ]
    },
    {
      "cell_type": "code",
      "execution_count": null,
      "id": "7ddffbf8",
      "metadata": {
        "colab": {
          "base_uri": "https://localhost:8080/",
          "height": 286
        },
        "id": "7ddffbf8",
        "outputId": "72784c5a-1270-4e0d-ea70-8d3821fff533",
        "vscode": {
          "languageId": "r"
        }
      },
      "outputs": [],
      "source": [
        "## Descargar archivos con curl\n",
        "shell_call(\"curl -O https://cf.10xgenomics.com/samples/cell-vdj/5.0.0/vdj_v1_hs_nsclc_multi_5gex_t_b/vdj_v1_hs_nsclc_multi_5gex_t_b_vdj_t_all_contig_annotations.csv\")\n",
        "shell_call(\"curl -O https://cf.10xgenomics.com/samples/cell-vdj/5.0.0/vdj_v1_hs_nsclc_multi_5gex_t_b/vdj_v1_hs_nsclc_multi_5gex_t_b_vdj_t_clonotypes.csv\")\n",
        "\n",
        "## Leer archivo con la información de TCR por célula\n",
        "tcr <- read.csv(paste0(mydir, \"/vdj_v1_hs_nsclc_multi_5gex_t_b_vdj_t_all_contig_annotations.csv\"))\n",
        "\n",
        "## Leer archivo con la información de clonotipos (varias células pueden compartir el mismo clonotipo o secuencia TCR)\n",
        "clono <- read.csv(paste0(mydir, \"/vdj_v1_hs_nsclc_multi_5gex_t_b_vdj_t_clonotypes.csv\"))\n",
        "\n",
        "## Eliminar el sufijo \"-1\" de cada código de barra (barcode)\n",
        "tcr$barcode <- gsub(\"-1\", \"\", tcr$barcode)\n",
        "\n",
        "## Filtrar para mantener solo la primera línea de cada barcode, así analizamos solo un clonotipo por célula\n",
        "tcr <- tcr[!duplicated(tcr$barcode), ]\n",
        "\n",
        "## También eliminamos el sufijo \"-1\" en los nombres de las células del objeto Seurat\n",
        "seurat.raw <- RenameCells(seurat.raw, new.names = gsub(\"-1\", \"\", colnames(seurat.raw)))\n",
        "\n",
        "## Mantener solo las columnas de código de barras (barcode) y clonotipo. Renombrar \"raw_clonotype_id\" a \"clonotype_id\"\n",
        "tcr <- tcr[, c(\"barcode\", \"raw_clonotype_id\")]\n",
        "names(tcr)[names(tcr) == \"raw_clonotype_id\"] <- \"clonotype_id\"\n",
        "\n",
        "## Unir las tablas de TCR y clonotipos para obtener la secuencia de aminoácidos del TCR por célula\n",
        "tcr <- merge(tcr, clono[, c(\"clonotype_id\", \"cdr3s_aa\")])\n",
        "\n",
        "## Reordenar columnas para tener código de barras (barcode) primero, establecerlos como nombre de filas (rownames) y eliminar columna extra de códigos de barras (barcodes)\n",
        "tcr <- tcr[, c(2, 1, 3)]\n",
        "rownames(tcr) <- tcr[, 1]\n",
        "tcr[, 1] <- NULL\n",
        "\n",
        "## Agregar la información de TCR como metadatos al objeto Seurat\n",
        "seurat.raw <- AddMetaData(object = seurat.raw, metadata = tcr)\n",
        "\n",
        "## Verificar que la información de TCR se haya agregado correctamente\n",
        "head(seurat.raw@meta.data)"
      ]
    },
    {
      "cell_type": "code",
      "execution_count": null,
      "id": "106d8d49",
      "metadata": {
        "colab": {
          "base_uri": "https://localhost:8080/",
          "height": 1000
        },
        "id": "106d8d49",
        "outputId": "9ae8c4bf-89ff-418e-9152-079c4f3dab95",
        "vscode": {
          "languageId": "r"
        }
      },
      "outputs": [],
      "source": [
        "## Crear un histograma de frecuencias de clones a partir de la tabla clono\n",
        "## ¿Cuál sería un buen umbral para distinguir clones expandidos de los que no lo están?\n",
        "barplot(table(clono$frequency), xlab = \"Número de células por clon\")\n",
        "\n",
        "# La función barplot() crea un gráfico de barras.\n",
        "# La función table() crea una tabla de contingencia de los recuentos en cada valor único de clono$frequency.\n",
        "# clono$frequency accede a la columna de frecuencia en el marco de datos clono.\n",
        "\n",
        "## Identificar clones expandidos, marcarlos en los metadatos y etiquetarlos en el UMAP\n",
        "## ¿Cuántos clones expandidos hay? Prueba cambiar el umbral y comparar los resultados\n",
        "Nexpand = 1  # Este es el umbral para considerar un clon como expandido\n",
        "length(which(clono$frequency > 1)) \n",
        "# which(clono$frequency > 1): Devuelve los índices de las filas donde la frecuencia es mayor que 1.\n",
        "# length(which(clono$frequency > 1)): Cuenta el número de elementos (clones) que tienen una frecuencia mayor que 1. Esto proporciona el número de clones expandidos.\n",
        "\n",
        "expanded_clones = clono$clonotype_id[clono$frequency>1] \n",
        "# clono$clonotype_id[clono$frequency > 1]: Selecciona los valores de clonotype_id cuya frecuencia correspondiente es mayor que 1.\n",
        "# expanded_clones: Almacena los ID de clonotipo de los clones expandidos en una nueva variable.\n",
        "\n",
        "\n",
        "# Agregue una nueva columna de metadatos que indique qué células son parte de un clon expandido\n",
        "seurat.raw = AddMetaData(seurat.raw,metadata = rep(\"no\",ncol(seurat.raw)),col.name=\"TCR_expanded\") \n",
        "# Este comando añade una nueva columna de metadatos al objeto Seurat seurat.raw\n",
        "# en estos nuevos metadatos, cada célula tiene un valor \"no\" y luego se cambia el valor de las células expandidas a \"sí\".\n",
        "seurat.raw@meta.data$TCR_expanded[seurat.raw@meta.data$clonotype_id %in% expanded_clones] = \"yes\" \n",
        "#This command updates the TCR_expanded metadata column.\n",
        "# seurat.raw@meta.data$TCR_expanded: Accede a la columna TCR_expanded en los metadatos.\n",
        "# seurat.raw@meta.data$clonotype_id %in% expanded_clones: Comprueba qué celdas tienen valores de clonotype_id en la lista expanded_clones.\n",
        "# = \"yes\": Establece el valor \"yes\" para las células que pertenecen a clones expandidos.\n",
        "\n",
        "# Mire el UMAP para ver si los clones expandidos tienen una expresión genética similar\n",
        "DimPlot(seurat.raw, reduction = \"umap\", group.by = \"TCR_expanded\", label = T)\n",
        "\n",
        "# ¿Las células T expandidas expresan genes diferentes a los de las células T no expandidas?\n",
        "# Para responder a esta pregunta, primero separamos las células T del resto del objeto.\n",
        "# Revisa tu agrupamiento para ver cuál parece contener células T.\n",
        "\n",
        "Idents(seurat.raw) = \"seurat_clusters\" # Esto significa que las operaciones posteriores utilizarán las identidades de agrupamiento (clúster) \n",
        "# asignadas a cada célula para seurat_clusters\n",
        "seurat.t = subset(seurat.raw, idents = \"1\") #es el nuevo objeto Seurat que contiene solo las células del grupo 1.\n",
        "seurat.t # Verifique el número de muestras (células) para ver con cuántas células T tenemos que trabajar\n",
        "\n",
        "Idents(seurat.t) = \"TCR_expanded\" # Este comando establece la clase de identidad activa en el objeto seurat.t en TCR_expanded\n",
        "deg_expanded = FindMarkers(seurat.t,ident.1=\"yes\",ident.2=\"no\",logfc.threshold = 0.25,min.pct = 0.1)\n",
        "# Este comando identifica genes con expresión diferencial entre dos grupos de células.\n",
        "# Los marcados como \"sí\" en los metadatos TCR_expanded y los marcados como \"no\".\n",
        "# logfc.threshold: Umbral mínimo de cambio log2 para identificar genes con expresión diferencial.\n",
        "# min.pct: Porcentaje mínimo de células en las que se detecta el gen.\n",
        "\n",
        "\n",
        "# Visualice la expresión de los principales genes DE para cada subconjunto de células anotadas.\n",
        "top30genes <- deg_expanded %>% filter(avg_log2FC > 0) %>% top_n(30, avg_log2FC)\n",
        "# deg_expanded %>% filter(avg_log2FC > 0): Filtra los genes con expresión diferencial (deg_expanded)\n",
        "# para incluir solo aquellos con un cambio de log2 promedio positivo (avg_log2FC > 0).\n",
        "# top_n(30, avg_log2FC): De los genes filtrados, selecciona los 30 genes principales con el mayor cambio de log2 promedio.\n",
        "genes <- rownames(top30genes)\n",
        "seurat.t <- ScaleData(seurat.t, features = genes, do.center = T, do.scale = T)\n",
        "# Escala los datos de expresión de los genes seleccionados (features = genes) en el objeto seurat.t.\n",
        "# do.center = T: Centra los datos restando la expresión media de cada gen.\n",
        "# do.scale = T: Escala los datos dividiendo por la desviación estándar de cada gen.\n",
        "DoHeatmap(seurat.t, features = genes) \n",
        "\n",
        "# Crea un mapa de calor de los datos de expresión\n"
      ]
    }
  ],
  "metadata": {
    "colab": {
      "provenance": []
    },
    "jupytext": {
      "cell_metadata_filter": "name,tags,-all",
      "main_language": "R",
      "notebook_metadata_filter": "-all"
    },
    "kernelspec": {
      "display_name": "R",
      "name": "ir"
    },
    "language_info": {
      "name": "R"
    }
  },
  "nbformat": 4,
  "nbformat_minor": 5
}
