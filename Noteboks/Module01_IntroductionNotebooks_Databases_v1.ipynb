{
 "cells": [
  {
   "cell_type": "markdown",
   "metadata": {
    "id": "6C10CKxzq2eE"
   },
   "source": [
    "## **Are you familiar with Jupyter Notebooks?**"
   ]
  },
  {
   "cell_type": "markdown",
   "metadata": {},
   "source": [
    "Jupyter Notebooks are an interactive tool that combines executable code, explanatory text, visualizations, and other elements into a single document. Widely used in data science, machine learning, and computational analysis, they support multiple programming languages, with Python being the most popular. Their intuitive interface simplifies data exploration, experiments, and real-time documentation."
   ]
  },
  {
   "cell_type": "markdown",
   "metadata": {},
   "source": [
    "Here, we have text cells and code cells serve distinct purposes for organizing and presenting content within notebooks:"
   ]
  },
  {
   "cell_type": "markdown",
   "metadata": {},
   "source": [
    "**Text Cells**\n",
    "* These are used for adding explanations, descriptions, and formatting using Markdown or HTML. \n",
    "* You can insert headings, lists, links, equations, and other elements to document your work and make it more comprehensible (for you and other people who want to use them). "
   ]
  },
  {
   "cell_type": "markdown",
   "metadata": {},
   "source": [
    "Add a Text Cell:\n",
    "1. Click the + Text button in the top toolbar.\n",
    "2. Enter your text in the cell using Markdown for formatting (e.g., # for headings, ** for bold text, * for italics).\n",
    "3. Click outside the cell or press Shift + Enter to render the formatted text."
   ]
  },
  {
   "cell_type": "markdown",
   "metadata": {
    "id": "eyOBlhm9JQ3c"
   },
   "source": [
    "## Jupyter Cells"
   ]
  },
  {
   "cell_type": "markdown",
   "metadata": {},
   "source": [
    "**Code Cells** \n",
    "* These are used to write and execute programming code, primarily in Python.\n",
    "* They allow you to test algorithms, manipulate data, and create visualizations, with outputs displayed directly below the executed code."
   ]
  },
  {
   "cell_type": "markdown",
   "metadata": {},
   "source": [
    "Add a Code Cell:\n",
    "1. click the + Code button at the top toolbar of the notebook to insert a code cell below the active one.\n",
    "2. Enter your code in the cell and press *Shift + Enter* to execute it."
   ]
  },
  {
   "cell_type": "code",
   "execution_count": null,
   "metadata": {
    "id": "-LJ5DzEDuNm5"
   },
   "outputs": [],
   "source": [
    "#test python code here\n",
    "test = 4\n"
   ]
  },
  {
   "cell_type": "markdown",
   "metadata": {
    "id": "j7kkOVTKufEX"
   },
   "source": [
    "Here I can *write* **beautiful** texts"
   ]
  },
  {
   "cell_type": "markdown",
   "metadata": {
    "id": "x4OKFGrcJVxF"
   },
   "source": [
    "## **Notes:**"
   ]
  },
  {
   "cell_type": "markdown",
   "metadata": {
    "id": "_-1qXgk6eagC"
   },
   "source": [
    "**1:** If you want to see the webpages/videos inside this notebook, you need to add this extension:\n",
    "\n",
    "[Google extension](https://chrome.google.com/webstore/detail/ignore-x-frame-headers/gleekbfjekiniecknbkamfmkohkpodhe) or [Firefox Extension](https://addons.mozilla.org/en-US/firefox/addon/ignore-x-frame-options-header/)"
   ]
  },
  {
   "cell_type": "markdown",
   "metadata": {
    "id": "8FmYz4vz7zgS"
   },
   "source": [
    "**2:** If you want to create a Colab notebook with an R kernel, you can do it with this link:\n",
    "\n",
    "[Colab with R](https://colab.to/r) or\n",
    "\n",
    "[Other form](https://colab.research.google.com/notebook#create=true&language=r)"
   ]
  },
  {
   "cell_type": "markdown",
   "metadata": {
    "id": "OxCcoV7QJAv3"
   },
   "source": [
    "# **Google Colaboratory**"
   ]
  },
  {
   "cell_type": "markdown",
   "metadata": {},
   "source": [
    "Google Colab is a free cloud-based platform that allows you to create, run, and share Jupyter notebooks directly in your browser. It supports languages like Python and provides access to powerful computational resources such as GPUs and TPUs, making it ideal for machine learning and data science tasks. \n",
    "\n",
    "Additionally, it integrates with Google Drive, enabling easy storage and real-time collaboration."
   ]
  },
  {
   "cell_type": "code",
   "execution_count": null,
   "metadata": {
    "id": "T0XvIjGlrB6d"
   },
   "outputs": [],
   "source": [
    "%%html\n",
    "<iframe width=\"1000\" height=\"606\" src=\"https://www.youtube.com/embed/inN8seMm7UI\" frameborder=\"0\" allow=\"accelerometer; autoplay; clipboard-write; encrypted-media; gyroscope; picture-in-picture; web-share; fullscreen\"></iframe>"
   ]
  },
  {
   "cell_type": "markdown",
   "metadata": {
    "id": "oYF79mYWC4rt"
   },
   "source": [
    "## Single Cell Expression Atlas"
   ]
  },
  {
   "cell_type": "markdown",
   "metadata": {},
   "source": [
    "The Single Cell Expression Atlas is a public resource for exploring single-cell RNA-seq data across various tissues, cell types, and biological conditions. It provides interactive visualizations and gene expression maps to study cellular heterogeneity and gene activity at a single-cell level."
   ]
  },
  {
   "cell_type": "code",
   "execution_count": null,
   "metadata": {
    "colab": {
     "base_uri": "https://localhost:8080/",
     "height": 725
    },
    "executionInfo": {
     "elapsed": 10,
     "status": "ok",
     "timestamp": 1688072406213,
     "user": {
      "displayName": "Yesid Cuesta Astroz",
      "userId": "16482885089920601930"
     },
     "user_tz": 300
    },
    "id": "b_caoMuC4uy_",
    "outputId": "b8abe7d9-e0c2-40f8-a4e6-f21e30d4c6bf"
   },
   "outputs": [],
   "source": [
    "%%html\n",
    "<iframe width=\"1150\" height=\"700\" src=\"https://www.ebi.ac.uk/gxa/sc/home\" ></iframe>"
   ]
  },
  {
   "cell_type": "markdown",
   "metadata": {
    "id": "i5asQV4IDeDB"
   },
   "source": [
    "## Human Cell Atlas, Data portal"
   ]
  },
  {
   "cell_type": "markdown",
   "metadata": {},
   "source": [
    "The Human Cell Atlas Data Portal is a web-based repository that provides access to a vast collection of single-cell RNA-seq datasets from various human tissues and cell types. The portal is the main repository of the Human Cell Atlas initiative, and it allows users to explore, visualize, and analyze gene expression profiles across different cell types, tissues, and conditions generated by the consortium."
   ]
  },
  {
   "cell_type": "code",
   "execution_count": null,
   "metadata": {
    "id": "hV4ZfL8cDkEt"
   },
   "outputs": [],
   "source": [
    "%%html\n",
    "<iframe width=\"1280\" height=\"700\" src=\"https://data.humancellatlas.org/\" ></iframe>"
   ]
  },
  {
   "cell_type": "markdown",
   "metadata": {
    "id": "hfSi-ICEDDgG"
   },
   "source": [
    "## CellxGENE"
   ]
  },
  {
   "cell_type": "markdown",
   "metadata": {},
   "source": [
    "CELLxGENE is a web-based portal developed by the Chan Zuckerberg Initiative (CZI) that enables interactive exploration and analysis of single-cell RNA-seq data. It provides a user-friendly interface to visualize and compare gene expression profiles across different cell types, tissues, and conditions."
   ]
  },
  {
   "cell_type": "code",
   "execution_count": null,
   "metadata": {
    "id": "OEuqx0ETO_-m"
   },
   "outputs": [],
   "source": [
    "%%html\n",
    "<iframe width=\"1280\" height=\"700\" src=\"https://cellxgene.cziscience.com/\" ></iframe>"
   ]
  },
  {
   "cell_type": "markdown",
   "metadata": {
    "id": "290nRifrD0-2"
   },
   "source": [
    "## Panglao DB"
   ]
  },
  {
   "cell_type": "markdown",
   "metadata": {},
   "source": [
    "PanglaoDB is a database for the scientific community interested in exploration of single cell RNA sequencing experiments from mouse and human. We collect and integrate data from multiple studies and present them through a unified framework. Despite being currently discontinued, it is very useful to explore marker genes."
   ]
  },
  {
   "cell_type": "code",
   "execution_count": null,
   "metadata": {
    "id": "pgaUeEjlD2Y1"
   },
   "outputs": [],
   "source": [
    "%%html\n",
    "<iframe width=\"1280\" height=\"700\" src=\"https://panglaodb.se/\" ></iframe>"
   ]
  },
  {
   "cell_type": "markdown",
   "metadata": {
    "id": "EmaN5dkPF26d"
   },
   "source": [
    "## CellTypist"
   ]
  },
  {
   "cell_type": "markdown",
   "metadata": {},
   "source": [
    "CellTypist is a web-based platform designed to facilitate cell type identification, classification, and annotation. It provides a user-friendly interface for researchers to annotate and classify cell types on their own data."
   ]
  },
  {
   "cell_type": "code",
   "execution_count": null,
   "metadata": {
    "id": "SrO_U4ZUF7gu"
   },
   "outputs": [],
   "source": [
    "%%html\n",
    "<iframe width=\"1280\" height=\"700\" src=\"https://www.celltypist.org/\" ></iframe>"
   ]
  },
  {
   "cell_type": "markdown",
   "metadata": {
    "id": "UC_t3ZoUGBFC"
   },
   "source": [
    "## GEO (Gene Expression Omnibus)"
   ]
  },
  {
   "cell_type": "markdown",
   "metadata": {},
   "source": [
    "GEO is a comprehensive public database that archives and freely distributes microarray, next-generation sequencing, and other forms of high-trhoughput functional genomic data. It is an invaluable resource for researchers, supporting discovery of new insights into gene function, regulation and expression; supporting the data reuse."
   ]
  },
  {
   "cell_type": "code",
   "execution_count": null,
   "metadata": {
    "id": "uA17uEJaGc-1"
   },
   "outputs": [],
   "source": [
    "%%html\n",
    "<iframe width=\"1280\" height=\"700\" src=\"https://www.ncbi.nlm.nih.gov/geo/\" ></iframe>"
   ]
  },
  {
   "cell_type": "markdown",
   "metadata": {
    "id": "7fJpD_u4ILK8"
   },
   "source": [
    "## SRA (Sequence Read Archive)"
   ]
  },
  {
   "cell_type": "markdown",
   "metadata": {},
   "source": [
    "SRA is a comprehensive public database that archives and freely distributes high-throughput sequencing data, including RNA-seq, DNA-seq, and other forms of next-generation sequencing (NGS) data."
   ]
  },
  {
   "cell_type": "code",
   "execution_count": null,
   "metadata": {
    "id": "jcxZ33XJIrOZ"
   },
   "outputs": [],
   "source": [
    "%%html\n",
    "<iframe width=\"1280\" height=\"700\" src=\"https://www.ncbi.nlm.nih.gov/sra\" ></iframe>"
   ]
  },
  {
   "cell_type": "markdown",
   "metadata": {},
   "source": [
    "Additionally, there is the [**SRA Explorer**](https://sra-explorer.info/), an interactive visualization tool for SRA data, making it easier to navigate and access raw sequencing data stored in the Sequence Read Archive, allowing efficient searching and downloading of sequencing data."
   ]
  }
 ],
 "metadata": {
  "colab": {
   "provenance": [
    {
     "file_id": "1DIhEO--CkSZ_BJOknHlJA2PMeCnQC4b2",
     "timestamp": 1684465203142
    }
   ]
  },
  "kernelspec": {
   "display_name": "Python 3",
   "name": "python3"
  },
  "language_info": {
   "name": "python"
  }
 },
 "nbformat": 4,
 "nbformat_minor": 0
}
